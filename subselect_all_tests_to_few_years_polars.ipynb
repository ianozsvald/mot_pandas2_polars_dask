{
 "cells": [
  {
   "cell_type": "markdown",
   "id": "a8756967-2993-486f-a51c-b1e439fe58af",
   "metadata": {},
   "source": [
    "# Extract some years (with Polars) to subset smaller datasets"
   ]
  },
  {
   "cell_type": "code",
   "execution_count": 1,
   "id": "09f163f4-51c3-4061-941f-5e3d9133add9",
   "metadata": {
    "tags": []
   },
   "outputs": [
    {
     "data": {
      "text/plain": [
       "'0.17.10'"
      ]
     },
     "metadata": {},
     "output_type": "display_data"
    }
   ],
   "source": [
    "import polars as pl\n",
    "import datetime\n",
    "\n",
    "display(pl.__version__)\n",
    "\n",
    "#from cell_profiler import cell_profiler as cp\n",
    "#%start_cell_profiler"
   ]
  },
  {
   "cell_type": "code",
   "execution_count": 2,
   "id": "bf575239-ed0e-47ff-b49d-7069936c22cb",
   "metadata": {
    "tags": []
   },
   "outputs": [],
   "source": [
    "import pathlib\n",
    "base_path = 'test_result.parquet'"
   ]
  },
  {
   "cell_type": "code",
   "execution_count": 3,
   "id": "a7c19e7a-06b0-4f1d-991e-2ab2c175a761",
   "metadata": {
    "tags": []
   },
   "outputs": [],
   "source": [
    "#dt = datetime.datetime(2021, 1, 1)\n",
    "#dfp = pl.scan_parquet('test_result.parquet/*.parquet').filter(pl.col('test_date') > dt).collect()"
   ]
  },
  {
   "cell_type": "code",
   "execution_count": 4,
   "id": "b48c4060-1b8e-4071-8bad-83614a392bd3",
   "metadata": {
    "tags": []
   },
   "outputs": [],
   "source": [
    "#display(f\"{dfp.estimated_size()/1_000_000_000:,} GB\")\n",
    "#dfp.shape"
   ]
  },
  {
   "cell_type": "code",
   "execution_count": 5,
   "id": "b91084a6-e224-4951-b05a-1a816a6485f8",
   "metadata": {
    "tags": []
   },
   "outputs": [
    {
     "data": {
      "text/plain": [
       "'test_result_2021on.parquet'"
      ]
     },
     "metadata": {},
     "output_type": "display_data"
    }
   ],
   "source": [
    "#new_path = pathlib.Path(base_path) / \n",
    "new_path = \"test_result_2021on.parquet\"\n",
    "display(new_path)\n",
    "# use_pyarrow=True should enable chunking, else we get just 1 big file\n",
    "#dfp.write_parquet(new_path, compression='snappy', use_pyarrow=True)\n",
    "#dfp.write_parquet(new_path, compression='snappy', row_group_size = 1_000_000) # 3.8GB single file\n",
    "#dfp.write_parquet(new_path, compression='snappy',) # 3.4GB"
   ]
  },
  {
   "cell_type": "code",
   "execution_count": 18,
   "id": "0ab63517-4dae-454a-aed0-f16076625e2b",
   "metadata": {
    "tags": []
   },
   "outputs": [
    {
     "data": {
      "text/plain": [
       "'639,506,962 rows'"
      ]
     },
     "execution_count": 18,
     "metadata": {},
     "output_type": "execute_result"
    }
   ],
   "source": [
    "f\"{pl.scan_parquet('test_result.parquet/*.parquet').select(pl.count()).collect().item():,} rows\""
   ]
  },
  {
   "cell_type": "code",
   "execution_count": 6,
   "id": "7e98d5b0-36f1-4c13-8a66-1df449ac87cf",
   "metadata": {
    "tags": []
   },
   "outputs": [
    {
     "data": {
      "text/plain": [
       "'test_result_2021on.parquet'"
      ]
     },
     "metadata": {},
     "output_type": "display_data"
    }
   ],
   "source": [
    "new_path = \"test_result_2021on.parquet\"\n",
    "display(new_path)\n",
    "dt = datetime.datetime(2021, 1, 1)\n",
    "\n",
    "pl.scan_parquet('test_result.parquet/*.parquet').filter(pl.col('test_date') > dt).\\\n",
    "sink_parquet(new_path, compression='snappy',) # 3.6GB"
   ]
  },
  {
   "cell_type": "code",
   "execution_count": 16,
   "id": "9462edb2-73f9-4287-b052-6a0ec2bfa012",
   "metadata": {
    "tags": []
   },
   "outputs": [
    {
     "data": {
      "text/plain": [
       "'82,012,245 rows'"
      ]
     },
     "execution_count": 16,
     "metadata": {},
     "output_type": "execute_result"
    }
   ],
   "source": [
    "#https://stackoverflow.com/questions/75523498/python-polars-how-to-get-the-row-count-of-a-dataframe\n",
    "f\"{pl.scan_parquet(new_path).select(pl.count()).collect().item():,} rows\""
   ]
  },
  {
   "cell_type": "code",
   "execution_count": 7,
   "id": "e416eca5-c50b-4771-8c6d-ec44652930e6",
   "metadata": {
    "tags": []
   },
   "outputs": [
    {
     "name": "stdout",
     "output_type": "stream",
     "text": [
      "total 3532920\n",
      "-rw-rw-r-- 1 ian ian 3617176972 May 22 14:04 test_result_2021on.parquet\n",
      "drwxrwxr-x 9 ian ian       4096 May 22 14:01 .\n",
      "-rw-rw-r-- 1 ian ian       4946 May 22 14:01 subselect_all_tests_to_few_years_polars.ipynb\n",
      "-rw-rw-r-- 1 ian ian       3272 May 22 13:57 learnings.md\n",
      "-rw-rw-r-- 1 ian ian       2898 May 22 13:39 README.md\n",
      "drwxrwxr-x 4 ian ian       4096 May 22 13:36 notebooks\n",
      "drwxrwxr-x 2 ian ian       4096 May 22 13:35 .ipynb_checkpoints\n",
      "drwxrwxr-x 2 ian ian     147456 May 20 16:37 test_result.parquet\n",
      "drwxrwxr-x 8 ian ian       4096 May 19 17:22 .git\n",
      "-rw-rw-r-- 1 ian ian       3123 May 19 17:21 .gitignore\n",
      "-rw-rw-r-- 1 ian ian     174763 May 19 16:52 convert_csv_to_parquet_with_dask.ipynb\n",
      "drwxrwxr-x 2 ian ian      61440 May 18 17:39 item.parquet\n",
      "drwxrwxr-x 3 ian ian      12288 May 18 17:04 data\n",
      "-rw-rw-r-- 1 ian ian        184 May 18 14:40 requirements.txt\n",
      "drwxrwxr-x 3 ian ian       4096 May 18 14:14 scripts\n",
      "-rw-rw-r-- 1 ian ian       1068 May 11 18:19 LICENSE\n",
      "drwxrwxr-x 7 ian ian       4096 May 11 18:19 ..\n",
      "-rw-rw-r-- 1 ian ian         81 May  3 21:03 requirements_pd15.txt\n"
     ]
    }
   ],
   "source": [
    "!ls -lta"
   ]
  },
  {
   "cell_type": "code",
   "execution_count": 8,
   "id": "3eb6c645-5163-4bf5-abc3-c64f263c68af",
   "metadata": {
    "tags": []
   },
   "outputs": [
    {
     "data": {
      "text/plain": [
       "'test_result_2018on.parquet'"
      ]
     },
     "metadata": {},
     "output_type": "display_data"
    }
   ],
   "source": [
    "dt = datetime.datetime(2018, 1, 1)\n",
    "\n",
    "new_path = \"test_result_2018on.parquet\"\n",
    "display(new_path)\n",
    "\n",
    "#dfp = pl.scan_parquet('test_result.parquet/*.parquet').filter(pl.col('test_date') > dt).collect()\n",
    "#display(dfp.shape)\n",
    "#dfp.write_parquet(new_path, compression=\"snappy\") # 8GB, 198M rows\n",
    "\n",
    "pl.scan_parquet('test_result.parquet/*.parquet').filter(pl.col('test_date') > dt).\\\n",
    "sink_parquet(new_path, compression='snappy',) # 8.7GB"
   ]
  },
  {
   "cell_type": "code",
   "execution_count": 17,
   "id": "f65f197b-12d7-4eea-a3e1-2f6495e1e9f4",
   "metadata": {
    "tags": []
   },
   "outputs": [],
   "source": [
    "#f\"{dfp.estimated_size()/1_000_000_000:,} GB\""
   ]
  },
  {
   "cell_type": "code",
   "execution_count": 10,
   "id": "aab167aa-3cf2-4310-b543-7f8cf59fab65",
   "metadata": {
    "tags": []
   },
   "outputs": [
    {
     "name": "stdout",
     "output_type": "stream",
     "text": [
      "total 12054832\n",
      "drwxrwxr-x 9 ian ian       4096 May 22 14:10 .\n",
      "-rw-rw-r-- 1 ian ian       3026 May 22 14:10 README.md\n",
      "-rw-rw-r-- 1 ian ian       7380 May 22 14:09 subselect_all_tests_to_few_years_polars.ipynb\n",
      "-rw-rw-r-- 1 ian ian 8726424114 May 22 14:09 test_result_2018on.parquet\n",
      "drwxrwxr-x 4 ian ian       4096 May 22 14:09 notebooks\n",
      "-rw-rw-r-- 1 ian ian        207 May 22 14:05 requirements.txt\n",
      "-rw-rw-r-- 1 ian ian 3617176972 May 22 14:04 test_result_2021on.parquet\n",
      "-rw-rw-r-- 1 ian ian       3272 May 22 13:57 learnings.md\n",
      "drwxrwxr-x 2 ian ian       4096 May 22 13:35 .ipynb_checkpoints\n",
      "drwxrwxr-x 2 ian ian     147456 May 20 16:37 test_result.parquet\n",
      "drwxrwxr-x 8 ian ian       4096 May 19 17:22 .git\n",
      "-rw-rw-r-- 1 ian ian       3123 May 19 17:21 .gitignore\n",
      "-rw-rw-r-- 1 ian ian     174763 May 19 16:52 convert_csv_to_parquet_with_dask.ipynb\n",
      "drwxrwxr-x 2 ian ian      61440 May 18 17:39 item.parquet\n",
      "drwxrwxr-x 3 ian ian      12288 May 18 17:04 data\n",
      "drwxrwxr-x 3 ian ian       4096 May 18 14:14 scripts\n",
      "-rw-rw-r-- 1 ian ian       1068 May 11 18:19 LICENSE\n",
      "drwxrwxr-x 7 ian ian       4096 May 11 18:19 ..\n",
      "-rw-rw-r-- 1 ian ian         81 May  3 21:03 requirements_pd15.txt\n"
     ]
    }
   ],
   "source": [
    "!ls -lta"
   ]
  },
  {
   "cell_type": "code",
   "execution_count": 11,
   "id": "7f003ce4-9d77-45a2-ad84-242c9002ac33",
   "metadata": {
    "tags": []
   },
   "outputs": [
    {
     "data": {
      "text/html": [
       "<div><style>\n",
       ".dataframe > thead > tr > th,\n",
       ".dataframe > tbody > tr > td {\n",
       "  text-align: right;\n",
       "}\n",
       "</style>\n",
       "<small>shape: (1, 1)</small><table border=\"1\" class=\"dataframe\"><thead><tr><th>count</th></tr><tr><td>u32</td></tr></thead><tbody><tr><td>198599045</td></tr></tbody></table></div>"
      ],
      "text/plain": [
       "shape: (1, 1)\n",
       "┌───────────┐\n",
       "│ count     │\n",
       "│ ---       │\n",
       "│ u32       │\n",
       "╞═══════════╡\n",
       "│ 198599045 │\n",
       "└───────────┘"
      ]
     },
     "execution_count": 11,
     "metadata": {},
     "output_type": "execute_result"
    }
   ],
   "source": [
    "pl.scan_parquet(new_path).select(pl.count()).collect()"
   ]
  },
  {
   "cell_type": "code",
   "execution_count": 13,
   "id": "5c00149e-d29e-4153-9735-e93958510f8d",
   "metadata": {
    "tags": []
   },
   "outputs": [
    {
     "data": {
      "text/plain": [
       "198599045"
      ]
     },
     "execution_count": 13,
     "metadata": {},
     "output_type": "execute_result"
    }
   ],
   "source": [
    "pl.scan_parquet(new_path).select(pl.count()).collect()[0,0]"
   ]
  },
  {
   "cell_type": "code",
   "execution_count": 15,
   "id": "e2248001-f0a4-46c7-ad72-ef11c95d5cba",
   "metadata": {
    "tags": []
   },
   "outputs": [
    {
     "data": {
      "text/plain": [
       "'198,599,045 rows'"
      ]
     },
     "execution_count": 15,
     "metadata": {},
     "output_type": "execute_result"
    }
   ],
   "source": [
    "#https://stackoverflow.com/questions/75523498/python-polars-how-to-get-the-row-count-of-a-dataframe\n",
    "f\"{pl.scan_parquet(new_path).select(pl.count()).collect().item():,} rows\""
   ]
  },
  {
   "cell_type": "code",
   "execution_count": null,
   "id": "7dd4166f-4f02-4c03-a081-0a163dbabb30",
   "metadata": {},
   "outputs": [],
   "source": []
  }
 ],
 "metadata": {
  "kernelspec": {
   "display_name": "Python 3 (ipykernel)",
   "language": "python",
   "name": "python3"
  },
  "language_info": {
   "codemirror_mode": {
    "name": "ipython",
    "version": 3
   },
   "file_extension": ".py",
   "mimetype": "text/x-python",
   "name": "python",
   "nbconvert_exporter": "python",
   "pygments_lexer": "ipython3",
   "version": "3.11.3"
  }
 },
 "nbformat": 4,
 "nbformat_minor": 5
}
