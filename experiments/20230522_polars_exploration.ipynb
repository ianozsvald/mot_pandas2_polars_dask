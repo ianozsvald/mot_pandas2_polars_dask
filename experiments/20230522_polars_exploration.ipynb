{
 "cells": [
  {
   "cell_type": "code",
   "execution_count": 1,
   "id": "c28b29af-f489-437c-86e2-841e08a8e0d4",
   "metadata": {
    "tags": []
   },
   "outputs": [
    {
     "data": {
      "text/plain": [
       "'Pandas 2.0.1, Polars 0.17.10'"
      ]
     },
     "metadata": {},
     "output_type": "display_data"
    },
    {
     "name": "stdout",
     "output_type": "stream",
     "text": [
      "In [1] used 0.0 MiB RAM in 0.10s (system mean cpu 0%, single max cpu 0%), peaked 0.0 MiB above final usage, current RAM usage now 207.4 MiB\n"
     ]
    }
   ],
   "source": [
    "import pandas as pd\n",
    "import polars as pl\n",
    "from humanfriendly import format_size, format_number\n",
    "from simpler_mpl import set_commas, set_common_mpl_styles\n",
    "import matplotlib.pyplot as plt\n",
    "import seaborn as sns\n",
    "import scipy.stats\n",
    "\n",
    "%load_ext autoreload\n",
    "%autoreload 2\n",
    "\n",
    "display(f\"Pandas {pd.__version__}, Polars {pl.__version__}\")\n",
    "\n",
    "from cell_profiler import cell_profiler as cp\n",
    "%start_cell_profiler\n",
    "\n",
    "def show_rows_memory(df, deep=False):\n",
    "    \"\"\"\n",
    "    Show rows and memory cost of a Pandas/Polars dataframe\n",
    "    `deep=True` only has an impact on Pandas numpy-backed string columns, which otherwise are undercounted\n",
    "    \"\"\"\n",
    "    num_bytes = 0\n",
    "    df_type = 'Unknown'\n",
    "    try:\n",
    "        num_bytes = df.estimated_size() # try Polars\n",
    "        df_type = 'Polars'\n",
    "    except AttributeError:\n",
    "        pass\n",
    "    try:\n",
    "        num_bytes = df.memory_usage(deep=deep, index=False).sum() # try Pandas\n",
    "        df_type = 'Pandas'\n",
    "    except AttributeError:\n",
    "        pass\n",
    "    display(f\"{df_type} df with {format_number(df.shape[0])} rows, {format_size(num_bytes)} bytes\")"
   ]
  },
  {
   "cell_type": "code",
   "execution_count": 2,
   "id": "c5e4aa68-d649-4061-bcfd-817c96db95ce",
   "metadata": {
    "tags": []
   },
   "outputs": [
    {
     "name": "stdout",
     "output_type": "stream",
     "text": [
      "In [2] used 12770.3 MiB RAM in 3.91s (system mean cpu 43%, single max cpu 55%), peaked 0.0 MiB above final usage, current RAM usage now 12977.7 MiB\n"
     ]
    }
   ],
   "source": [
    "dfple = pl.read_parquet('../test_result_2021on.parquet')"
   ]
  },
  {
   "cell_type": "code",
   "execution_count": 3,
   "id": "4bbf56e8-413f-4746-9c6a-93cf8b465603",
   "metadata": {
    "tags": []
   },
   "outputs": [
    {
     "data": {
      "text/plain": [
       "'Polars df with 82,012,245 rows, 11.14 GB bytes'"
      ]
     },
     "metadata": {},
     "output_type": "display_data"
    },
    {
     "name": "stdout",
     "output_type": "stream",
     "text": [
      "In [3] used 0.0 MiB RAM in 0.13s (system mean cpu 7%, single max cpu 31%), peaked 0.0 MiB above final usage, current RAM usage now 12977.7 MiB\n"
     ]
    }
   ],
   "source": [
    "show_rows_memory(dfple)"
   ]
  },
  {
   "cell_type": "code",
   "execution_count": 4,
   "id": "6e39abe1-294e-4b63-9011-02d9e7f5451c",
   "metadata": {
    "tags": []
   },
   "outputs": [
    {
     "data": {
      "text/plain": [
       "{'test_id': Int64,\n",
       " 'vehicle_id': Int64,\n",
       " 'test_date': Datetime(time_unit='ns', time_zone=None),\n",
       " 'test_class_id': Int64,\n",
       " 'test_type': Utf8,\n",
       " 'test_result': Utf8,\n",
       " 'test_mileage': Int64,\n",
       " 'postcode_area': Utf8,\n",
       " 'make': Utf8,\n",
       " 'model': Utf8,\n",
       " 'colour': Utf8,\n",
       " 'fuel_type': Utf8,\n",
       " 'cylinder_capacity': Int64,\n",
       " 'first_use_date': Datetime(time_unit='ns', time_zone=None)}"
      ]
     },
     "execution_count": 4,
     "metadata": {},
     "output_type": "execute_result"
    },
    {
     "name": "stdout",
     "output_type": "stream",
     "text": [
      "In [4] used 0.0 MiB RAM in 0.10s (system mean cpu 0%, single max cpu 0%), peaked 0.0 MiB above final usage, current RAM usage now 12977.7 MiB\n"
     ]
    }
   ],
   "source": [
    "dfple.schema"
   ]
  },
  {
   "cell_type": "markdown",
   "id": "bfae3710-c959-4855-86c8-2afb6e7eb377",
   "metadata": {},
   "source": [
    "# Speed test"
   ]
  },
  {
   "cell_type": "code",
   "execution_count": 5,
   "id": "846b3fde-fae7-43e2-a62a-1cab15334f00",
   "metadata": {
    "tags": []
   },
   "outputs": [
    {
     "name": "stdout",
     "output_type": "stream",
     "text": [
      "1.23 s ± 37 ms per loop (mean ± std. dev. of 7 runs, 1 loop each)\n",
      "In [5] used 181.0 MiB RAM in 9.95s (system mean cpu 11%, single max cpu 100%), peaked 312.8 MiB above final usage, current RAM usage now 13158.7 MiB\n"
     ]
    }
   ],
   "source": [
    "%timeit dfple['make'].str.n_chars()"
   ]
  },
  {
   "cell_type": "code",
   "execution_count": 6,
   "id": "3d9d18ff-85ae-4ad9-8c05-30ea54ba6a12",
   "metadata": {
    "tags": []
   },
   "outputs": [
    {
     "name": "stdout",
     "output_type": "stream",
     "text": [
      "48.2 ms ± 1.21 ms per loop (mean ± std. dev. of 7 runs, 10 loops each)\n",
      "In [6] used 0.0 MiB RAM in 4.02s (system mean cpu 9%, single max cpu 100%), peaked 0.0 MiB above final usage, current RAM usage now 13158.7 MiB\n"
     ]
    }
   ],
   "source": [
    "%timeit dfple['test_class_id'].max()"
   ]
  },
  {
   "cell_type": "code",
   "execution_count": 7,
   "id": "55e1a5c9-6f58-419d-b054-7e57f04468fc",
   "metadata": {
    "tags": []
   },
   "outputs": [
    {
     "name": "stdout",
     "output_type": "stream",
     "text": [
      "In [7] used 0.1 MiB RAM in 0.16s (system mean cpu 0%, single max cpu 0%), peaked 0.0 MiB above final usage, current RAM usage now 13158.8 MiB\n"
     ]
    }
   ],
   "source": [
    "import numpy as np\n",
    "np.testing.assert_approx_equal(74115.13152002622, dfple['test_mileage'].mean())"
   ]
  },
  {
   "cell_type": "code",
   "execution_count": 8,
   "id": "ed68e3ae-dcad-46a9-8ee9-36f373d97f9d",
   "metadata": {
    "tags": []
   },
   "outputs": [
    {
     "name": "stdout",
     "output_type": "stream",
     "text": [
      "65.4 ms ± 1.45 ms per loop (mean ± std. dev. of 7 runs, 10 loops each)\n",
      "In [8] used 0.0 MiB RAM in 5.39s (system mean cpu 10%, single max cpu 100%), peaked 0.0 MiB above final usage, current RAM usage now 13158.8 MiB\n"
     ]
    }
   ],
   "source": [
    "%timeit dfple['test_mileage'].mean()"
   ]
  },
  {
   "cell_type": "markdown",
   "id": "977c1164-6dc5-4363-b385-6b01625c38d8",
   "metadata": {},
   "source": [
    "# Mileage vs first use year"
   ]
  },
  {
   "cell_type": "code",
   "execution_count": 9,
   "id": "312d6431-6cab-4fcb-ac86-b64b6571522c",
   "metadata": {
    "tags": []
   },
   "outputs": [
    {
     "name": "stdout",
     "output_type": "stream",
     "text": [
      "In [9] used 0.0 MiB RAM in 0.10s (system mean cpu 0%, single max cpu 0%), peaked 0.0 MiB above final usage, current RAM usage now 13158.8 MiB\n"
     ]
    }
   ],
   "source": [
    "#dfs_allfuel.shape"
   ]
  },
  {
   "cell_type": "code",
   "execution_count": 10,
   "id": "2393b351-0b40-432d-8b3c-8b2251bb5255",
   "metadata": {
    "tags": []
   },
   "outputs": [
    {
     "name": "stdout",
     "output_type": "stream",
     "text": [
      "CPU times: user 21.7 s, sys: 24.4 s, total: 46.1 s\n",
      "Wall time: 5.84 s\n",
      "In [10] used 2678.4 MiB RAM in 6.48s (system mean cpu 57%, single max cpu 100%), peaked 10006.9 MiB above final usage, current RAM usage now 15837.2 MiB\n"
     ]
    }
   ],
   "source": [
    "%time dfple.filter(pl.col('test_result')=='P');"
   ]
  },
  {
   "cell_type": "code",
   "execution_count": 11,
   "id": "2eca25bb-5311-4b0f-b300-015f9eddeb7c",
   "metadata": {},
   "outputs": [
    {
     "name": "stdout",
     "output_type": "stream",
     "text": [
      "In [11] used 0.0 MiB RAM in 0.10s (system mean cpu 0%, single max cpu 0%), peaked 0.0 MiB above final usage, current RAM usage now 15837.2 MiB\n"
     ]
    }
   ],
   "source": [
    "#df_fuel = dfple.filter(pl.col('test_result')=='P').sample(10_000). \\\n",
    "#            with_columns(pl.col('first_use_date').dt.year().alias('first_use_year')). \\\n",
    "#            filter(((pl.col('fuel_type') == \"PE\")) | (pl.col('fuel_type') == 'DI')) \\\n",
    "#            [['test_mileage', 'first_use_year', 'fuel_type']]"
   ]
  },
  {
   "cell_type": "code",
   "execution_count": 12,
   "id": "a7c1697d-3e9e-45eb-9a63-df8869c48164",
   "metadata": {
    "tags": []
   },
   "outputs": [
    {
     "name": "stdout",
     "output_type": "stream",
     "text": [
      "In [12] used -94.9 MiB RAM in 6.02s (system mean cpu 64%, single max cpu 100%), peaked 11298.4 MiB above final usage, current RAM usage now 15742.3 MiB\n"
     ]
    }
   ],
   "source": [
    "df_fuel = dfple.filter(pl.col('test_result')=='P').sample(10_000). \\\n",
    "            with_columns(pl.col('first_use_date').dt.year().alias('first_use_year')). \\\n",
    "            filter((pl.col('fuel_type').is_in({'PE', 'DI'}))) \\\n",
    "            [['test_mileage', 'first_use_year', 'fuel_type']]"
   ]
  },
  {
   "cell_type": "code",
   "execution_count": 13,
   "id": "247b1603-3619-4497-bb3d-8ce05fc31264",
   "metadata": {
    "tags": []
   },
   "outputs": [
    {
     "name": "stdout",
     "output_type": "stream",
     "text": [
      "In [13] used 0.0 MiB RAM in 0.10s (system mean cpu 7%, single max cpu 20%), peaked 0.0 MiB above final usage, current RAM usage now 15742.3 MiB\n"
     ]
    }
   ],
   "source": [
    "#dfs_allfuel = dfple.filter(pl.col('test_result')=='P').sample(10_000)\n",
    "#dfs_allfuel = dfs_allfuel.with_columns(pl.col('first_use_date').dt.year().alias('first_use_year'))\n",
    "#dfs = dfs_allfuel.filter((pl.col('fuel_type') == \"PE\"))[['test_mileage', 'first_use_year', 'fuel_type']]\n",
    "if False:\n",
    "    # kde single for e.g. just petrol\n",
    "    fig, ax = plt.subplots(constrained_layout=True, figsize=(4, 4))\n",
    "    # cmap=\"Reds\"\n",
    "    #sns.kdeplot(x=dfs['first_use_year'], y=dfs['test_mileage'], ax=ax, fill=True, bw_adjust=.3)\n",
    "    sns.kdeplot(x=dfs['first_use_year'], y=dfs['test_mileage'], ax=ax, fill=True, thresh=0.01)\n",
    "    ax.set_xlim(xmin=1960)\n",
    "    ax.set_ylim(ymax=400000)\n",
    "    set_commas(ax, y_axis=True)\n",
    "    set_common_mpl_styles(ax, ymin=-2000, title=\"MOT Year 2021+\")"
   ]
  },
  {
   "cell_type": "code",
   "execution_count": 14,
   "id": "ca8b59c8-de3e-42e4-8ccf-3bdc304ad8e7",
   "metadata": {
    "tags": []
   },
   "outputs": [
    {
     "name": "stderr",
     "output_type": "stream",
     "text": [
      "/home/ian/miniconda3/envs/pydatalondon2023/lib/python3.11/site-packages/seaborn/distributions.py:1185: UserWarning: The following kwargs were not used by contour: 'hist_order'\n",
      "  cset = contour_func(\n"
     ]
    },
    {
     "data": {
      "image/png": "[encoded data removed]",
      "text/plain": [
       "<Figure size 600x600 with 3 Axes>"
      ]
     },
     "metadata": {},
     "output_type": "display_data"
    },
    {
     "name": "stdout",
     "output_type": "stream",
     "text": [
      "In [14] used 19.5 MiB RAM in 6.49s (system mean cpu 10%, single max cpu 100%), peaked 0.0 MiB above final usage, current RAM usage now 15761.8 MiB\n"
     ]
    }
   ],
   "source": [
    "#fig, ax = plt.subplots(constrained_layout=True, figsize=(4, 4))\n",
    "jg = sns.jointplot(x=df_fuel['first_use_year'], y=df_fuel['test_mileage'], hue=df_fuel['fuel_type'], kind='kde', hist_order=['DI', 'PE']) \n",
    "# {x, y}lim can be set\n",
    "# kind kde hist\n",
    "jg.ax_joint.set_xlim(xmin=1960)\n",
    "jg.ax_joint.set_ylim(ymax=400000)\n",
    "set_commas(jg.ax_joint, y_axis=True)\n",
    "set_common_mpl_styles(jg.ax_joint, ymin=-2000) # , title=\"MOT Year 2021+\") title renders badly\n",
    "#jg.ax_joint.sup_title('xx')"
   ]
  },
  {
   "cell_type": "markdown",
   "id": "20fedc06-857f-4914-9eee-23f899949e7e",
   "metadata": {},
   "source": [
    "# Try to filter for Volvo V50"
   ]
  },
  {
   "cell_type": "code",
   "execution_count": 15,
   "id": "ecef66a1-116d-443b-a6fe-716c433c43d0",
   "metadata": {
    "tags": []
   },
   "outputs": [
    {
     "data": {
      "text/html": [
       "<div><style>\n",
       ".dataframe > thead > tr > th,\n",
       ".dataframe > tbody > tr > td {\n",
       "  text-align: right;\n",
       "}\n",
       "</style>\n",
       "<small>shape: (5, 14)</small><table border=\"1\" class=\"dataframe\"><thead><tr><th>test_id</th><th>vehicle_id</th><th>test_date</th><th>test_class_id</th><th>test_type</th><th>test_result</th><th>test_mileage</th><th>postcode_area</th><th>make</th><th>model</th><th>colour</th><th>fuel_type</th><th>cylinder_capacity</th><th>first_use_date</th></tr><tr><td>i64</td><td>i64</td><td>datetime[ns]</td><td>i64</td><td>str</td><td>str</td><td>i64</td><td>str</td><td>str</td><td>str</td><td>str</td><td>str</td><td>i64</td><td>datetime[ns]</td></tr></thead><tbody><tr><td>334683447</td><td>634775234</td><td>2022-01-01 00:00:00</td><td>4</td><td>&quot;NT&quot;</td><td>&quot;P&quot;</td><td>227219</td><td>&quot;E&quot;</td><td>&quot;TOYOTA&quot;</td><td>&quot;PRIUS&quot;</td><td>&quot;SILVER&quot;</td><td>&quot;Hybrid Electri…</td><td>1497</td><td>2008-01-17 00:00:00</td></tr><tr><td>586095521</td><td>1220215709</td><td>2022-01-01 00:00:00</td><td>4</td><td>&quot;NT&quot;</td><td>&quot;P&quot;</td><td>136552</td><td>&quot;CR&quot;</td><td>&quot;TOYOTA&quot;</td><td>&quot;PRIUS&quot;</td><td>&quot;GREY&quot;</td><td>&quot;Hybrid Electri…</td><td>1798</td><td>2013-11-29 00:00:00</td></tr><tr><td>960974211</td><td>1315791989</td><td>2022-01-01 00:00:00</td><td>4</td><td>&quot;NT&quot;</td><td>&quot;F&quot;</td><td>129847</td><td>&quot;E&quot;</td><td>&quot;TOYOTA&quot;</td><td>&quot;PRIUS&quot;</td><td>&quot;WHITE&quot;</td><td>&quot;Hybrid Electri…</td><td>1798</td><td>2018-01-01 00:00:00</td></tr><tr><td>1041792341</td><td>1144451355</td><td>2022-01-01 00:00:00</td><td>4</td><td>&quot;NT&quot;</td><td>&quot;P&quot;</td><td>123133</td><td>&quot;TW&quot;</td><td>&quot;TOYOTA&quot;</td><td>&quot;PRIUS&quot;</td><td>&quot;SILVER&quot;</td><td>&quot;Hybrid Electri…</td><td>1496</td><td>2016-11-21 00:00:00</td></tr><tr><td>1587264975</td><td>1315791989</td><td>2022-01-01 00:00:00</td><td>4</td><td>&quot;RT&quot;</td><td>&quot;P&quot;</td><td>129848</td><td>&quot;E&quot;</td><td>&quot;TOYOTA&quot;</td><td>&quot;PRIUS&quot;</td><td>&quot;WHITE&quot;</td><td>&quot;Hybrid Electri…</td><td>1798</td><td>2018-01-01 00:00:00</td></tr></tbody></table></div>"
      ],
      "text/plain": [
       "shape: (5, 14)\n",
       "┌───────────┬──────────┬───────────┬────────────┬───┬────────┬───────────┬────────────┬────────────┐\n",
       "│ test_id   ┆ vehicle_ ┆ test_date ┆ test_class ┆ … ┆ colour ┆ fuel_type ┆ cylinder_c ┆ first_use_ │\n",
       "│ ---       ┆ id       ┆ ---       ┆ _id        ┆   ┆ ---    ┆ ---       ┆ apacity    ┆ date       │\n",
       "│ i64       ┆ ---      ┆ datetime[ ┆ ---        ┆   ┆ str    ┆ str       ┆ ---        ┆ ---        │\n",
       "│           ┆ i64      ┆ ns]       ┆ i64        ┆   ┆        ┆           ┆ i64        ┆ datetime[n │\n",
       "│           ┆          ┆           ┆            ┆   ┆        ┆           ┆            ┆ s]         │\n",
       "╞═══════════╪══════════╪═══════════╪════════════╪═══╪════════╪═══════════╪════════════╪════════════╡\n",
       "│ 334683447 ┆ 63477523 ┆ 2022-01-0 ┆ 4          ┆ … ┆ SILVER ┆ Hybrid    ┆ 1497       ┆ 2008-01-17 │\n",
       "│           ┆ 4        ┆ 1         ┆            ┆   ┆        ┆ Electric  ┆            ┆ 00:00:00   │\n",
       "│           ┆          ┆ 00:00:00  ┆            ┆   ┆        ┆ (Clean)   ┆            ┆            │\n",
       "│ 586095521 ┆ 12202157 ┆ 2022-01-0 ┆ 4          ┆ … ┆ GREY   ┆ Hybrid    ┆ 1798       ┆ 2013-11-29 │\n",
       "│           ┆ 09       ┆ 1         ┆            ┆   ┆        ┆ Electric  ┆            ┆ 00:00:00   │\n",
       "│           ┆          ┆ 00:00:00  ┆            ┆   ┆        ┆ (Clean)   ┆            ┆            │\n",
       "│ 960974211 ┆ 13157919 ┆ 2022-01-0 ┆ 4          ┆ … ┆ WHITE  ┆ Hybrid    ┆ 1798       ┆ 2018-01-01 │\n",
       "│           ┆ 89       ┆ 1         ┆            ┆   ┆        ┆ Electric  ┆            ┆ 00:00:00   │\n",
       "│           ┆          ┆ 00:00:00  ┆            ┆   ┆        ┆ (Clean)   ┆            ┆            │\n",
       "│ 104179234 ┆ 11444513 ┆ 2022-01-0 ┆ 4          ┆ … ┆ SILVER ┆ Hybrid    ┆ 1496       ┆ 2016-11-21 │\n",
       "│ 1         ┆ 55       ┆ 1         ┆            ┆   ┆        ┆ Electric  ┆            ┆ 00:00:00   │\n",
       "│           ┆          ┆ 00:00:00  ┆            ┆   ┆        ┆ (Clean)   ┆            ┆            │\n",
       "│ 158726497 ┆ 13157919 ┆ 2022-01-0 ┆ 4          ┆ … ┆ WHITE  ┆ Hybrid    ┆ 1798       ┆ 2018-01-01 │\n",
       "│ 5         ┆ 89       ┆ 1         ┆            ┆   ┆        ┆ Electric  ┆            ┆ 00:00:00   │\n",
       "│           ┆          ┆ 00:00:00  ┆            ┆   ┆        ┆ (Clean)   ┆            ┆            │\n",
       "└───────────┴──────────┴───────────┴────────────┴───┴────────┴───────────┴────────────┴────────────┘"
      ]
     },
     "execution_count": 15,
     "metadata": {},
     "output_type": "execute_result"
    },
    {
     "name": "stdout",
     "output_type": "stream",
     "text": [
      "In [15] used 0.0 MiB RAM in 0.11s (system mean cpu 5%, single max cpu 40%), peaked 0.0 MiB above final usage, current RAM usage now 15761.8 MiB\n"
     ]
    }
   ],
   "source": [
    "dfple.head()"
   ]
  },
  {
   "cell_type": "code",
   "execution_count": 16,
   "id": "7a9b6d9c-11fd-49e3-ac5e-a1e053f260cc",
   "metadata": {
    "tags": []
   },
   "outputs": [
    {
     "name": "stdout",
     "output_type": "stream",
     "text": [
      "In [16] used -2311.2 MiB RAM in 2.68s (system mean cpu 41%, single max cpu 100%), peaked 4606.0 MiB above final usage, current RAM usage now 13450.7 MiB\n"
     ]
    }
   ],
   "source": [
    "dfs1 = dfple.filter((pl.col('make')=='VOLVO') & (pl.col('model')=='V50') & (pl.col('fuel_type')=='DI') & \\\n",
    "                    (pl.col('first_use_date').dt.year()==2005) & \\\n",
    "                   (pl.col('test_date').dt.year()==2022) & \\\n",
    "                   (pl.col('test_result')=='P')) "
   ]
  },
  {
   "cell_type": "code",
   "execution_count": 17,
   "id": "f048fb09-d320-42a1-a5d3-4f05ecb39d96",
   "metadata": {
    "tags": []
   },
   "outputs": [
    {
     "name": "stdout",
     "output_type": "stream",
     "text": [
      "In [17] used 7.2 MiB RAM in 2.58s (system mean cpu 45%, single max cpu 100%), peaked 4262.8 MiB above final usage, current RAM usage now 13457.9 MiB\n"
     ]
    }
   ],
   "source": [
    "#import polars.col as col\n",
    "dfs1 = dfple.lazy().filter((pl.col('make')=='VOLVO') & (pl.col('model')=='V50') & (pl.col('fuel_type')=='DI') & \\\n",
    "                    (pl.col('first_use_date').dt.year()==2005) & \\\n",
    "                   (pl.col('test_date').dt.year()==2022) & \\\n",
    "                   (pl.col('test_result')=='P')).collect()"
   ]
  },
  {
   "cell_type": "code",
   "execution_count": 18,
   "id": "efee6d84-e724-460d-b74a-8627eb6aa4e9",
   "metadata": {
    "tags": []
   },
   "outputs": [
    {
     "name": "stdout",
     "output_type": "stream",
     "text": [
      "In [18] used 20.6 MiB RAM in 2.47s (system mean cpu 32%, single max cpu 100%), peaked 4374.7 MiB above final usage, current RAM usage now 13478.5 MiB\n"
     ]
    }
   ],
   "source": [
    "#import polars.col as col\n",
    "dfs1 = dfple.lazy().filter((pl.col('make')=='VOLVO') & (pl.col('model')=='V50') & (pl.col('fuel_type')=='DI') & \\\n",
    "                    (pl.col('first_use_date').dt.year()==2005) & \\\n",
    "                   (pl.col('test_date').dt.year()==2022) & \\\n",
    "                   (pl.col('test_result')=='P')).collect(streaming=True)"
   ]
  },
  {
   "cell_type": "code",
   "execution_count": 19,
   "id": "2aceb0cd-9219-482d-a9b7-7d2da4ab7e3d",
   "metadata": {
    "tags": []
   },
   "outputs": [
    {
     "data": {
      "text/html": [
       "<div><style>\n",
       ".dataframe > thead > tr > th,\n",
       ".dataframe > tbody > tr > td {\n",
       "  text-align: right;\n",
       "}\n",
       "</style>\n",
       "<small>shape: (5, 14)</small><table border=\"1\" class=\"dataframe\"><thead><tr><th>test_id</th><th>vehicle_id</th><th>test_date</th><th>test_class_id</th><th>test_type</th><th>test_result</th><th>test_mileage</th><th>postcode_area</th><th>make</th><th>model</th><th>colour</th><th>fuel_type</th><th>cylinder_capacity</th><th>first_use_date</th></tr><tr><td>i64</td><td>i64</td><td>datetime[ns]</td><td>i64</td><td>str</td><td>str</td><td>i64</td><td>str</td><td>str</td><td>str</td><td>str</td><td>str</td><td>i64</td><td>datetime[ns]</td></tr></thead><tbody><tr><td>870823327</td><td>224058996</td><td>2022-07-04 00:00:00</td><td>4</td><td>&quot;NT&quot;</td><td>&quot;P&quot;</td><td>107523</td><td>&quot;ME&quot;</td><td>&quot;VOLVO&quot;</td><td>&quot;V50&quot;</td><td>&quot;BLUE&quot;</td><td>&quot;DI&quot;</td><td>1998</td><td>2005-02-28 00:00:00</td></tr><tr><td>116460685</td><td>1424809652</td><td>2022-09-13 00:00:00</td><td>4</td><td>&quot;RT&quot;</td><td>&quot;P&quot;</td><td>152439</td><td>&quot;RH&quot;</td><td>&quot;VOLVO&quot;</td><td>&quot;V50&quot;</td><td>&quot;GREEN&quot;</td><td>&quot;DI&quot;</td><td>1998</td><td>2005-02-23 00:00:00</td></tr><tr><td>719374625</td><td>1482761896</td><td>2022-01-18 00:00:00</td><td>4</td><td>&quot;RT&quot;</td><td>&quot;P&quot;</td><td>139372</td><td>&quot;BN&quot;</td><td>&quot;VOLVO&quot;</td><td>&quot;V50&quot;</td><td>&quot;RED&quot;</td><td>&quot;DI&quot;</td><td>1998</td><td>2005-05-18 00:00:00</td></tr><tr><td>808587531</td><td>1104154510</td><td>2022-03-24 00:00:00</td><td>4</td><td>&quot;RT&quot;</td><td>&quot;P&quot;</td><td>159321</td><td>&quot;SN&quot;</td><td>&quot;VOLVO&quot;</td><td>&quot;V50&quot;</td><td>&quot;GREEN&quot;</td><td>&quot;DI&quot;</td><td>1998</td><td>2005-01-19 00:00:00</td></tr><tr><td>1815911601</td><td>166011950</td><td>2022-11-18 00:00:00</td><td>4</td><td>&quot;NT&quot;</td><td>&quot;P&quot;</td><td>121820</td><td>&quot;CV&quot;</td><td>&quot;VOLVO&quot;</td><td>&quot;V50&quot;</td><td>&quot;SILVER&quot;</td><td>&quot;DI&quot;</td><td>1998</td><td>2005-03-31 00:00:00</td></tr></tbody></table></div>"
      ],
      "text/plain": [
       "shape: (5, 14)\n",
       "┌───────────┬──────────┬───────────┬────────────┬───┬────────┬───────────┬────────────┬────────────┐\n",
       "│ test_id   ┆ vehicle_ ┆ test_date ┆ test_class ┆ … ┆ colour ┆ fuel_type ┆ cylinder_c ┆ first_use_ │\n",
       "│ ---       ┆ id       ┆ ---       ┆ _id        ┆   ┆ ---    ┆ ---       ┆ apacity    ┆ date       │\n",
       "│ i64       ┆ ---      ┆ datetime[ ┆ ---        ┆   ┆ str    ┆ str       ┆ ---        ┆ ---        │\n",
       "│           ┆ i64      ┆ ns]       ┆ i64        ┆   ┆        ┆           ┆ i64        ┆ datetime[n │\n",
       "│           ┆          ┆           ┆            ┆   ┆        ┆           ┆            ┆ s]         │\n",
       "╞═══════════╪══════════╪═══════════╪════════════╪═══╪════════╪═══════════╪════════════╪════════════╡\n",
       "│ 870823327 ┆ 22405899 ┆ 2022-07-0 ┆ 4          ┆ … ┆ BLUE   ┆ DI        ┆ 1998       ┆ 2005-02-28 │\n",
       "│           ┆ 6        ┆ 4         ┆            ┆   ┆        ┆           ┆            ┆ 00:00:00   │\n",
       "│           ┆          ┆ 00:00:00  ┆            ┆   ┆        ┆           ┆            ┆            │\n",
       "│ 116460685 ┆ 14248096 ┆ 2022-09-1 ┆ 4          ┆ … ┆ GREEN  ┆ DI        ┆ 1998       ┆ 2005-02-23 │\n",
       "│           ┆ 52       ┆ 3         ┆            ┆   ┆        ┆           ┆            ┆ 00:00:00   │\n",
       "│           ┆          ┆ 00:00:00  ┆            ┆   ┆        ┆           ┆            ┆            │\n",
       "│ 719374625 ┆ 14827618 ┆ 2022-01-1 ┆ 4          ┆ … ┆ RED    ┆ DI        ┆ 1998       ┆ 2005-05-18 │\n",
       "│           ┆ 96       ┆ 8         ┆            ┆   ┆        ┆           ┆            ┆ 00:00:00   │\n",
       "│           ┆          ┆ 00:00:00  ┆            ┆   ┆        ┆           ┆            ┆            │\n",
       "│ 808587531 ┆ 11041545 ┆ 2022-03-2 ┆ 4          ┆ … ┆ GREEN  ┆ DI        ┆ 1998       ┆ 2005-01-19 │\n",
       "│           ┆ 10       ┆ 4         ┆            ┆   ┆        ┆           ┆            ┆ 00:00:00   │\n",
       "│           ┆          ┆ 00:00:00  ┆            ┆   ┆        ┆           ┆            ┆            │\n",
       "│ 181591160 ┆ 16601195 ┆ 2022-11-1 ┆ 4          ┆ … ┆ SILVER ┆ DI        ┆ 1998       ┆ 2005-03-31 │\n",
       "│ 1         ┆ 0        ┆ 8         ┆            ┆   ┆        ┆           ┆            ┆ 00:00:00   │\n",
       "│           ┆          ┆ 00:00:00  ┆            ┆   ┆        ┆           ┆            ┆            │\n",
       "└───────────┴──────────┴───────────┴────────────┴───┴────────┴───────────┴────────────┴────────────┘"
      ]
     },
     "execution_count": 19,
     "metadata": {},
     "output_type": "execute_result"
    },
    {
     "name": "stdout",
     "output_type": "stream",
     "text": [
      "In [19] used 0.1 MiB RAM in 0.11s (system mean cpu 8%, single max cpu 38%), peaked 0.0 MiB above final usage, current RAM usage now 13478.6 MiB\n"
     ]
    }
   ],
   "source": [
    "dfs1.sample(5)"
   ]
  },
  {
   "cell_type": "code",
   "execution_count": 20,
   "id": "0bff4338-78a2-4a64-80cb-91f7589ed3b2",
   "metadata": {
    "tags": []
   },
   "outputs": [
    {
     "name": "stdout",
     "output_type": "stream",
     "text": [
      "In [20] used -73.5 MiB RAM in 2.48s (system mean cpu 44%, single max cpu 100%), peaked 4349.9 MiB above final usage, current RAM usage now 13405.1 MiB\n"
     ]
    }
   ],
   "source": [
    "from polars import col\n",
    "dfpl_volvo = dfple.filter((col('make')=='VOLVO') & (col('model')=='V50') & (col('fuel_type')=='DI') & \\\n",
    "                    (col('first_use_date').dt.year()==2005) & \\\n",
    "                   (col('test_date').dt.year()==2022) & \\\n",
    "                   (col('test_result')=='P')) "
   ]
  },
  {
   "cell_type": "code",
   "execution_count": 21,
   "id": "8565df7c-0269-41af-b9bb-afeae92fe957",
   "metadata": {
    "tags": []
   },
   "outputs": [
    {
     "data": {
      "text/html": [
       "<div><style>\n",
       ".dataframe > thead > tr > th,\n",
       ".dataframe > tbody > tr > td {\n",
       "  text-align: right;\n",
       "}\n",
       "</style>\n",
       "<small>shape: (9, 2)</small><table border=\"1\" class=\"dataframe\"><thead><tr><th>statistic</th><th>value</th></tr><tr><td>str</td><td>f64</td></tr></thead><tbody><tr><td>&quot;count&quot;</td><td>1593.0</td></tr><tr><td>&quot;null_count&quot;</td><td>1.0</td></tr><tr><td>&quot;mean&quot;</td><td>150133.792714</td></tr><tr><td>&quot;std&quot;</td><td>39022.631791</td></tr><tr><td>&quot;min&quot;</td><td>27861.0</td></tr><tr><td>&quot;max&quot;</td><td>345116.0</td></tr><tr><td>&quot;median&quot;</td><td>150670.5</td></tr><tr><td>&quot;25%&quot;</td><td>125499.0</td></tr><tr><td>&quot;75%&quot;</td><td>174614.0</td></tr></tbody></table></div>"
      ],
      "text/plain": [
       "shape: (9, 2)\n",
       "┌────────────┬───────────────┐\n",
       "│ statistic  ┆ value         │\n",
       "│ ---        ┆ ---           │\n",
       "│ str        ┆ f64           │\n",
       "╞════════════╪═══════════════╡\n",
       "│ count      ┆ 1593.0        │\n",
       "│ null_count ┆ 1.0           │\n",
       "│ mean       ┆ 150133.792714 │\n",
       "│ std        ┆ 39022.631791  │\n",
       "│ min        ┆ 27861.0       │\n",
       "│ max        ┆ 345116.0      │\n",
       "│ median     ┆ 150670.5      │\n",
       "│ 25%        ┆ 125499.0      │\n",
       "│ 75%        ┆ 174614.0      │\n",
       "└────────────┴───────────────┘"
      ]
     },
     "execution_count": 21,
     "metadata": {},
     "output_type": "execute_result"
    },
    {
     "name": "stdout",
     "output_type": "stream",
     "text": [
      "In [21] used -0.3 MiB RAM in 0.13s (system mean cpu 7%, single max cpu 44%), peaked 0.3 MiB above final usage, current RAM usage now 13404.8 MiB\n"
     ]
    }
   ],
   "source": [
    "dfpl_volvo['test_mileage'].describe()"
   ]
  },
  {
   "cell_type": "code",
   "execution_count": 22,
   "id": "26e8fcb2-8abf-4caf-aeb6-24fdcb88a836",
   "metadata": {
    "tags": []
   },
   "outputs": [
    {
     "data": {
      "text/plain": [
       "'80th percentile for mileage'"
      ]
     },
     "execution_count": 22,
     "metadata": {},
     "output_type": "execute_result"
    },
    {
     "name": "stdout",
     "output_type": "stream",
     "text": [
      "In [22] used 0.0 MiB RAM in 0.11s (system mean cpu 8%, single max cpu 50%), peaked 0.0 MiB above final usage, current RAM usage now 13404.8 MiB\n"
     ]
    }
   ],
   "source": [
    "# 80 is 80th percentile - we can use scipy on Arrow columns\n",
    "percentile = scipy.stats.percentileofscore(dfpl_volvo['test_mileage'], \n",
    "                                           181_000, \n",
    "                                           nan_policy='omit')\n",
    "f\"{percentile:0.0f}th percentile for mileage\""
   ]
  },
  {
   "cell_type": "code",
   "execution_count": null,
   "id": "ae68860e-7b16-4676-a400-e81764b38950",
   "metadata": {},
   "outputs": [],
   "source": []
  }
 ],
 "metadata": {
  "kernelspec": {
   "display_name": "Python 3 (ipykernel)",
   "language": "python",
   "name": "python3"
  },
  "language_info": {
   "codemirror_mode": {
    "name": "ipython",
    "version": 3
   },
   "file_extension": ".py",
   "mimetype": "text/x-python",
   "name": "python",
   "nbconvert_exporter": "python",
   "pygments_lexer": "ipython3",
   "version": "3.11.3"
  }
 },
 "nbformat": 4,
 "nbformat_minor": 5
}
