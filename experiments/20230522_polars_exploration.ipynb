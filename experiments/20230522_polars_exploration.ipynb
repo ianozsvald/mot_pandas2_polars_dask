{
 "cells": [
  {
   "cell_type": "code",
   "execution_count": 1,
   "id": "c28b29af-f489-437c-86e2-841e08a8e0d4",
   "metadata": {
    "tags": []
   },
   "outputs": [
    {
     "data": {
      "text/plain": [
       "'Pandas 2.1.3, Polars 0.19.17'"
      ]
     },
     "metadata": {},
     "output_type": "display_data"
    },
    {
     "data": {
      "text/plain": [
       "'Running: 20231203 09:46:53, env pydataglobal2023'"
      ]
     },
     "metadata": {},
     "output_type": "display_data"
    },
    {
     "name": "stdout",
     "output_type": "stream",
     "text": [
      "Enabling IPython Memory Usage, use %imu_start to begin, %imu_stop to end\n"
     ]
    }
   ],
   "source": [
    "import pandas as pd\n",
    "import polars as pl\n",
    "from humanfriendly import format_size, format_number\n",
    "from simpler_mpl import set_commas, set_common_mpl_styles\n",
    "import matplotlib.pyplot as plt\n",
    "import seaborn as sns\n",
    "import scipy.stats\n",
    "\n",
    "%load_ext autoreload\n",
    "%autoreload 2\n",
    "\n",
    "# print run-time stats\n",
    "import datetime, os\n",
    "display(f\"Pandas {pd.__version__}, Polars {pl.__version__}\")\n",
    "display(f'Running: {datetime.datetime.now().strftime(\"%Y%m%d %H:%M:%S\")}, env {os.getenv(\"CONDA_DEFAULT_ENV\")}')\n",
    "\n",
    "%load_ext ipython_memory_usage\n",
    "\n",
    "\n",
    "def show_rows_memory(df, deep=False):\n",
    "    \"\"\"\n",
    "    Show rows and memory cost of a Pandas/Polars dataframe\n",
    "    `deep=True` only has an impact on Pandas numpy-backed string columns, which otherwise are undercounted\n",
    "    \"\"\"\n",
    "    num_bytes = 0\n",
    "    df_type = \"Unknown\"\n",
    "    try:\n",
    "        num_bytes = df.estimated_size()  # try Polars\n",
    "        df_type = \"Polars\"\n",
    "    except AttributeError:\n",
    "        pass\n",
    "    try:\n",
    "        num_bytes = df.memory_usage(deep=deep, index=False).sum()  # try Pandas\n",
    "        df_type = \"Pandas\"\n",
    "    except AttributeError:\n",
    "        pass\n",
    "    display(\n",
    "        f\"{df_type} df with {format_number(df.shape[0])} rows, {format_size(num_bytes)} bytes\"\n",
    "    )"
   ]
  },
  {
   "cell_type": "code",
   "execution_count": 2,
   "id": "c5e4aa68-d649-4061-bcfd-817c96db95ce",
   "metadata": {
    "tags": []
   },
   "outputs": [],
   "source": [
    "dfple = pl.read_parquet(\"../test_result_2021on.parquet\")"
   ]
  },
  {
   "cell_type": "code",
   "execution_count": 3,
   "id": "4bbf56e8-413f-4746-9c6a-93cf8b465603",
   "metadata": {
    "tags": []
   },
   "outputs": [
    {
     "data": {
      "text/plain": [
       "'Polars df with 82,012,245 rows, 11.17 GB bytes'"
      ]
     },
     "metadata": {},
     "output_type": "display_data"
    }
   ],
   "source": [
    "show_rows_memory(dfple)"
   ]
  },
  {
   "cell_type": "code",
   "execution_count": 4,
   "id": "6e39abe1-294e-4b63-9011-02d9e7f5451c",
   "metadata": {
    "tags": []
   },
   "outputs": [
    {
     "data": {
      "text/plain": [
       "OrderedDict([('test_id', Int64),\n",
       "             ('vehicle_id', Int64),\n",
       "             ('test_date', Datetime(time_unit='us', time_zone=None)),\n",
       "             ('test_class_id', Int64),\n",
       "             ('test_type', Utf8),\n",
       "             ('test_result', Utf8),\n",
       "             ('test_mileage', Int64),\n",
       "             ('postcode_area', Utf8),\n",
       "             ('make', Utf8),\n",
       "             ('model', Utf8),\n",
       "             ('colour', Utf8),\n",
       "             ('fuel_type', Utf8),\n",
       "             ('cylinder_capacity', Int64),\n",
       "             ('first_use_date', Datetime(time_unit='us', time_zone=None))])"
      ]
     },
     "execution_count": 4,
     "metadata": {},
     "output_type": "execute_result"
    }
   ],
   "source": [
    "dfple.schema"
   ]
  },
  {
   "cell_type": "markdown",
   "id": "bfae3710-c959-4855-86c8-2afb6e7eb377",
   "metadata": {},
   "source": [
    "# Speed test"
   ]
  },
  {
   "cell_type": "code",
   "execution_count": 5,
   "id": "fca5821a-eeac-4232-b66d-62316e1d9944",
   "metadata": {
    "tags": []
   },
   "outputs": [
    {
     "data": {
      "text/plain": [
       "'IPython Memory Usage stopped'"
      ]
     },
     "execution_count": 5,
     "metadata": {},
     "output_type": "execute_result"
    }
   ],
   "source": [
    "%imu_stop"
   ]
  },
  {
   "cell_type": "code",
   "execution_count": 6,
   "id": "846b3fde-fae7-43e2-a62a-1cab15334f00",
   "metadata": {
    "tags": []
   },
   "outputs": [
    {
     "name": "stdout",
     "output_type": "stream",
     "text": [
      "866 ms ± 23.1 ms per loop (mean ± std. dev. of 7 runs, 1 loop each)\n"
     ]
    }
   ],
   "source": [
    "%timeit dfple['make'].str.len_chars() # FASTER"
   ]
  },
  {
   "cell_type": "code",
   "execution_count": 7,
   "id": "3d9d18ff-85ae-4ad9-8c05-30ea54ba6a12",
   "metadata": {
    "tags": []
   },
   "outputs": [
    {
     "name": "stdout",
     "output_type": "stream",
     "text": [
      "76 ms ± 1.09 ms per loop (mean ± std. dev. of 7 runs, 10 loops each)\n"
     ]
    }
   ],
   "source": [
    "%timeit dfple['test_class_id'].max()"
   ]
  },
  {
   "cell_type": "code",
   "execution_count": 8,
   "id": "55e1a5c9-6f58-419d-b054-7e57f04468fc",
   "metadata": {
    "tags": []
   },
   "outputs": [],
   "source": [
    "import numpy as np\n",
    "\n",
    "np.testing.assert_approx_equal(74115.131, dfple[\"test_mileage\"].mean())"
   ]
  },
  {
   "cell_type": "code",
   "execution_count": 9,
   "id": "ed68e3ae-dcad-46a9-8ee9-36f373d97f9d",
   "metadata": {
    "tags": []
   },
   "outputs": [
    {
     "name": "stdout",
     "output_type": "stream",
     "text": [
      "104 ms ± 1.18 ms per loop (mean ± std. dev. of 7 runs, 10 loops each)\n"
     ]
    }
   ],
   "source": [
    "%timeit dfple['test_mileage'].mean()"
   ]
  },
  {
   "cell_type": "markdown",
   "id": "977c1164-6dc5-4363-b385-6b01625c38d8",
   "metadata": {},
   "source": [
    "# Mileage vs first use year"
   ]
  },
  {
   "cell_type": "code",
   "execution_count": 10,
   "id": "312d6431-6cab-4fcb-ac86-b64b6571522c",
   "metadata": {
    "tags": []
   },
   "outputs": [],
   "source": [
    "# dfs_allfuel.shape"
   ]
  },
  {
   "cell_type": "code",
   "execution_count": 11,
   "id": "2393b351-0b40-432d-8b3c-8b2251bb5255",
   "metadata": {
    "tags": []
   },
   "outputs": [
    {
     "name": "stdout",
     "output_type": "stream",
     "text": [
      "CPU times: user 10.3 s, sys: 8.98 s, total: 19.2 s\n",
      "Wall time: 2.62 s\n"
     ]
    }
   ],
   "source": [
    "%time dfple.filter(pl.col('test_result')=='P'); # FASTER"
   ]
  },
  {
   "cell_type": "code",
   "execution_count": 12,
   "id": "aeb8df70-12e3-4a95-82ed-d61ed6b0859f",
   "metadata": {},
   "outputs": [
    {
     "data": {
      "text/plain": [
       "'IPython Memory Usage started'"
      ]
     },
     "execution_count": 12,
     "metadata": {},
     "output_type": "execute_result"
    },
    {
     "name": "stdout",
     "output_type": "stream",
     "text": [
      "In [12] used 21617.5 MiB RAM in 30.08s (system mean cpu 0%, single max cpu 0%), peaked 0.0 MiB above final usage, current RAM usage now 21832.0 MiB\n"
     ]
    }
   ],
   "source": [
    "%imu_start"
   ]
  },
  {
   "cell_type": "code",
   "execution_count": 13,
   "id": "2eca25bb-5311-4b0f-b300-015f9eddeb7c",
   "metadata": {},
   "outputs": [
    {
     "name": "stdout",
     "output_type": "stream",
     "text": [
      "In [13] used 0.0 MiB RAM in 0.10s (system mean cpu 0%, single max cpu 0%), peaked 0.0 MiB above final usage, current RAM usage now 21832.0 MiB\n"
     ]
    }
   ],
   "source": [
    "# df_fuel = dfple.filter(pl.col('test_result')=='P').sample(10_000). \\\n",
    "#            with_columns(pl.col('first_use_date').dt.year().alias('first_use_year')). \\\n",
    "#            filter(((pl.col('fuel_type') == \"PE\")) | (pl.col('fuel_type') == 'DI')) \\\n",
    "#            [['test_mileage', 'first_use_year', 'fuel_type']]"
   ]
  },
  {
   "cell_type": "code",
   "execution_count": 14,
   "id": "b31b1402-8fd1-4faa-9295-0cd931a3b281",
   "metadata": {
    "tags": []
   },
   "outputs": [
    {
     "name": "stdout",
     "output_type": "stream",
     "text": [
      "In [14] used 28.4 MiB RAM in 2.87s (system mean cpu 51%, single max cpu 100%), peaked 7949.9 MiB above final usage, current RAM usage now 21860.4 MiB\n"
     ]
    }
   ],
   "source": [
    "df_fuel = dfple.filter(pl.col(\"test_result\") == \"P\").sample(10_000)"
   ]
  },
  {
   "cell_type": "code",
   "execution_count": 15,
   "id": "41dcf590-f81d-43ab-ad6d-1e9d07ae94b3",
   "metadata": {
    "tags": []
   },
   "outputs": [
    {
     "name": "stdout",
     "output_type": "stream",
     "text": [
      "CPU times: user 5.73 ms, sys: 840 µs, total: 6.57 ms\n",
      "Wall time: 1.8 ms\n",
      "In [15] used 1.1 MiB RAM in 0.10s (system mean cpu 4%, single max cpu 17%), peaked 0.0 MiB above final usage, current RAM usage now 21861.5 MiB\n"
     ]
    }
   ],
   "source": [
    "%%time\n",
    "df_fuel = df_fuel.with_columns(\n",
    "    pl.col(\"first_use_date\").dt.year().alias(\"first_use_year\")\n",
    ").filter((pl.col(\"fuel_type\").is_in({\"PE\", \"DI\"})))[\n",
    "    [\"test_mileage\", \"first_use_year\", \"fuel_type\"]\n",
    "]"
   ]
  },
  {
   "cell_type": "code",
   "execution_count": 16,
   "id": "a7c1697d-3e9e-45eb-9a63-df8869c48164",
   "metadata": {
    "tags": []
   },
   "outputs": [
    {
     "name": "stdout",
     "output_type": "stream",
     "text": [
      "CPU times: user 10.3 s, sys: 5.76 s, total: 16 s\n",
      "Wall time: 2.69 s\n",
      "In [16] used 13.1 MiB RAM in 2.80s (system mean cpu 49%, single max cpu 100%), peaked 8039.6 MiB above final usage, current RAM usage now 21874.6 MiB\n"
     ]
    }
   ],
   "source": [
    "%%time\n",
    "df_fuel = (\n",
    "    dfple.filter(pl.col(\"test_result\") == \"P\")\n",
    "    .sample(10_000)\n",
    "    .with_columns(pl.col(\"first_use_date\").dt.year().alias(\"first_use_year\"))\n",
    "    .filter((pl.col(\"fuel_type\").is_in({\"PE\", \"DI\"})))[\n",
    "        [\"test_mileage\", \"first_use_year\", \"fuel_type\"]\n",
    "    ]\n",
    ")\n",
    "# MUCH FASTER"
   ]
  },
  {
   "cell_type": "code",
   "execution_count": 17,
   "id": "ca8b59c8-de3e-42e4-8ccf-3bdc304ad8e7",
   "metadata": {
    "tags": []
   },
   "outputs": [
    {
     "name": "stderr",
     "output_type": "stream",
     "text": [
      "/home/ian/miniconda3/envs/pydataglobal2023/lib/python3.11/site-packages/seaborn/distributions.py:1176: UserWarning: The following kwargs were not used by contour: 'hist_order'\n",
      "  cset = contour_func(\n"
     ]
    },
    {
     "data": {
      "image/png": "[encoded data removed]",
      "text/plain": [
       "<Figure size 400x400 with 3 Axes>"
      ]
     },
     "metadata": {},
     "output_type": "display_data"
    },
    {
     "name": "stdout",
     "output_type": "stream",
     "text": [
      "In [17] used 18.0 MiB RAM in 5.10s (system mean cpu 19%, single max cpu 100%), peaked 0.0 MiB above final usage, current RAM usage now 21892.6 MiB\n"
     ]
    }
   ],
   "source": [
    "# fig, ax = plt.subplots(constrained_layout=True, figsize=(4, 4))\n",
    "jg = sns.jointplot(\n",
    "    x=df_fuel[\"first_use_year\"],\n",
    "    y=df_fuel[\"test_mileage\"],\n",
    "    hue=df_fuel[\"fuel_type\"],\n",
    "    kind=\"kde\",\n",
    "    hist_order=[\"DI\", \"PE\"],\n",
    "    height=4,\n",
    ")\n",
    "# {x, y}lim can be set\n",
    "# kind kde hist\n",
    "jg.ax_joint.set_xlim(xmin=1960)\n",
    "jg.ax_joint.set_ylim(ymax=400000)\n",
    "set_commas(jg.ax_joint, y_axis=True)\n",
    "set_common_mpl_styles(\n",
    "    jg.ax_joint, ymin=-2000\n",
    ")  # , title=\"MOT Year 2021+\") title renders badly\n",
    "# jg.ax_joint.sup_title('xx')"
   ]
  },
  {
   "cell_type": "code",
   "execution_count": 18,
   "id": "247b1603-3619-4497-bb3d-8ce05fc31264",
   "metadata": {
    "tags": []
   },
   "outputs": [
    {
     "name": "stdout",
     "output_type": "stream",
     "text": [
      "In [18] used 0.0 MiB RAM in 0.10s (system mean cpu 6%, single max cpu 27%), peaked 0.0 MiB above final usage, current RAM usage now 21892.6 MiB\n"
     ]
    }
   ],
   "source": [
    "# dfs_allfuel = dfple.filter(pl.col('test_result')=='P').sample(10_000)\n",
    "# dfs_allfuel = dfs_allfuel.with_columns(pl.col('first_use_date').dt.year().alias('first_use_year'))\n",
    "# dfs = dfs_allfuel.filter((pl.col('fuel_type') == \"PE\"))[['test_mileage', 'first_use_year', 'fuel_type']]\n",
    "if False:\n",
    "    # kde single for e.g. just petrol\n",
    "    fig, ax = plt.subplots(constrained_layout=True, figsize=(4, 4))\n",
    "    # cmap=\"Reds\"\n",
    "    # sns.kdeplot(x=dfs['first_use_year'], y=dfs['test_mileage'], ax=ax, fill=True, bw_adjust=.3)\n",
    "    sns.kdeplot(\n",
    "        x=dfs[\"first_use_year\"], y=dfs[\"test_mileage\"], ax=ax, fill=True, thresh=0.01\n",
    "    )\n",
    "    ax.set_xlim(xmin=1960)\n",
    "    ax.set_ylim(ymax=400000)\n",
    "    set_commas(ax, y_axis=True)\n",
    "    set_common_mpl_styles(ax, ymin=-2000, title=\"MOT Year 2021+\")"
   ]
  },
  {
   "cell_type": "markdown",
   "id": "20fedc06-857f-4914-9eee-23f899949e7e",
   "metadata": {},
   "source": [
    "# Try to filter for Volvo V50"
   ]
  },
  {
   "cell_type": "code",
   "execution_count": 19,
   "id": "ecef66a1-116d-443b-a6fe-716c433c43d0",
   "metadata": {
    "tags": []
   },
   "outputs": [
    {
     "data": {
      "text/html": [
       "<div><style>\n",
       ".dataframe > thead > tr,\n",
       ".dataframe > tbody > tr {\n",
       "  text-align: right;\n",
       "  white-space: pre-wrap;\n",
       "}\n",
       "</style>\n",
       "<small>shape: (5, 14)</small><table border=\"1\" class=\"dataframe\"><thead><tr><th>test_id</th><th>vehicle_id</th><th>test_date</th><th>test_class_id</th><th>test_type</th><th>test_result</th><th>test_mileage</th><th>postcode_area</th><th>make</th><th>model</th><th>colour</th><th>fuel_type</th><th>cylinder_capacity</th><th>first_use_date</th></tr><tr><td>i64</td><td>i64</td><td>datetime[μs]</td><td>i64</td><td>str</td><td>str</td><td>i64</td><td>str</td><td>str</td><td>str</td><td>str</td><td>str</td><td>i64</td><td>datetime[μs]</td></tr></thead><tbody><tr><td>334683447</td><td>634775234</td><td>2022-01-01 00:00:00</td><td>4</td><td>&quot;NT&quot;</td><td>&quot;P&quot;</td><td>227219</td><td>&quot;E&quot;</td><td>&quot;TOYOTA&quot;</td><td>&quot;PRIUS&quot;</td><td>&quot;SILVER&quot;</td><td>&quot;Hybrid Electri…</td><td>1497</td><td>2008-01-17 00:00:00</td></tr><tr><td>586095521</td><td>1220215709</td><td>2022-01-01 00:00:00</td><td>4</td><td>&quot;NT&quot;</td><td>&quot;P&quot;</td><td>136552</td><td>&quot;CR&quot;</td><td>&quot;TOYOTA&quot;</td><td>&quot;PRIUS&quot;</td><td>&quot;GREY&quot;</td><td>&quot;Hybrid Electri…</td><td>1798</td><td>2013-11-29 00:00:00</td></tr><tr><td>960974211</td><td>1315791989</td><td>2022-01-01 00:00:00</td><td>4</td><td>&quot;NT&quot;</td><td>&quot;F&quot;</td><td>129847</td><td>&quot;E&quot;</td><td>&quot;TOYOTA&quot;</td><td>&quot;PRIUS&quot;</td><td>&quot;WHITE&quot;</td><td>&quot;Hybrid Electri…</td><td>1798</td><td>2018-01-01 00:00:00</td></tr><tr><td>1041792341</td><td>1144451355</td><td>2022-01-01 00:00:00</td><td>4</td><td>&quot;NT&quot;</td><td>&quot;P&quot;</td><td>123133</td><td>&quot;TW&quot;</td><td>&quot;TOYOTA&quot;</td><td>&quot;PRIUS&quot;</td><td>&quot;SILVER&quot;</td><td>&quot;Hybrid Electri…</td><td>1496</td><td>2016-11-21 00:00:00</td></tr><tr><td>1587264975</td><td>1315791989</td><td>2022-01-01 00:00:00</td><td>4</td><td>&quot;RT&quot;</td><td>&quot;P&quot;</td><td>129848</td><td>&quot;E&quot;</td><td>&quot;TOYOTA&quot;</td><td>&quot;PRIUS&quot;</td><td>&quot;WHITE&quot;</td><td>&quot;Hybrid Electri…</td><td>1798</td><td>2018-01-01 00:00:00</td></tr></tbody></table></div>"
      ],
      "text/plain": [
       "shape: (5, 14)\n",
       "┌────────────┬────────────┬───────────┬───────────┬───┬────────┬───────────┬───────────┬───────────┐\n",
       "│ test_id    ┆ vehicle_id ┆ test_date ┆ test_clas ┆ … ┆ colour ┆ fuel_type ┆ cylinder_ ┆ first_use │\n",
       "│ ---        ┆ ---        ┆ ---       ┆ s_id      ┆   ┆ ---    ┆ ---       ┆ capacity  ┆ _date     │\n",
       "│ i64        ┆ i64        ┆ datetime[ ┆ ---       ┆   ┆ str    ┆ str       ┆ ---       ┆ ---       │\n",
       "│            ┆            ┆ μs]       ┆ i64       ┆   ┆        ┆           ┆ i64       ┆ datetime[ │\n",
       "│            ┆            ┆           ┆           ┆   ┆        ┆           ┆           ┆ μs]       │\n",
       "╞════════════╪════════════╪═══════════╪═══════════╪═══╪════════╪═══════════╪═══════════╪═══════════╡\n",
       "│ 334683447  ┆ 634775234  ┆ 2022-01-0 ┆ 4         ┆ … ┆ SILVER ┆ Hybrid    ┆ 1497      ┆ 2008-01-1 │\n",
       "│            ┆            ┆ 1         ┆           ┆   ┆        ┆ Electric  ┆           ┆ 7         │\n",
       "│            ┆            ┆ 00:00:00  ┆           ┆   ┆        ┆ (Clean)   ┆           ┆ 00:00:00  │\n",
       "│ 586095521  ┆ 1220215709 ┆ 2022-01-0 ┆ 4         ┆ … ┆ GREY   ┆ Hybrid    ┆ 1798      ┆ 2013-11-2 │\n",
       "│            ┆            ┆ 1         ┆           ┆   ┆        ┆ Electric  ┆           ┆ 9         │\n",
       "│            ┆            ┆ 00:00:00  ┆           ┆   ┆        ┆ (Clean)   ┆           ┆ 00:00:00  │\n",
       "│ 960974211  ┆ 1315791989 ┆ 2022-01-0 ┆ 4         ┆ … ┆ WHITE  ┆ Hybrid    ┆ 1798      ┆ 2018-01-0 │\n",
       "│            ┆            ┆ 1         ┆           ┆   ┆        ┆ Electric  ┆           ┆ 1         │\n",
       "│            ┆            ┆ 00:00:00  ┆           ┆   ┆        ┆ (Clean)   ┆           ┆ 00:00:00  │\n",
       "│ 1041792341 ┆ 1144451355 ┆ 2022-01-0 ┆ 4         ┆ … ┆ SILVER ┆ Hybrid    ┆ 1496      ┆ 2016-11-2 │\n",
       "│            ┆            ┆ 1         ┆           ┆   ┆        ┆ Electric  ┆           ┆ 1         │\n",
       "│            ┆            ┆ 00:00:00  ┆           ┆   ┆        ┆ (Clean)   ┆           ┆ 00:00:00  │\n",
       "│ 1587264975 ┆ 1315791989 ┆ 2022-01-0 ┆ 4         ┆ … ┆ WHITE  ┆ Hybrid    ┆ 1798      ┆ 2018-01-0 │\n",
       "│            ┆            ┆ 1         ┆           ┆   ┆        ┆ Electric  ┆           ┆ 1         │\n",
       "│            ┆            ┆ 00:00:00  ┆           ┆   ┆        ┆ (Clean)   ┆           ┆ 00:00:00  │\n",
       "└────────────┴────────────┴───────────┴───────────┴───┴────────┴───────────┴───────────┴───────────┘"
      ]
     },
     "execution_count": 19,
     "metadata": {},
     "output_type": "execute_result"
    },
    {
     "name": "stdout",
     "output_type": "stream",
     "text": [
      "In [19] used 0.2 MiB RAM in 0.11s (system mean cpu 8%, single max cpu 27%), peaked 0.0 MiB above final usage, current RAM usage now 21892.9 MiB\n"
     ]
    }
   ],
   "source": [
    "dfple.head()"
   ]
  },
  {
   "cell_type": "code",
   "execution_count": 20,
   "id": "7a9b6d9c-11fd-49e3-ac5e-a1e053f260cc",
   "metadata": {
    "tags": []
   },
   "outputs": [
    {
     "name": "stdout",
     "output_type": "stream",
     "text": [
      "In [20] used 1.2 MiB RAM in 3.28s (system mean cpu 10%, single max cpu 100%), peaked 341.3 MiB above final usage, current RAM usage now 21894.1 MiB\n"
     ]
    }
   ],
   "source": [
    "dfpl_volvo = dfple.filter(\n",
    "    (pl.col(\"make\") == \"VOLVO\")\n",
    "    & (pl.col(\"model\") == \"V50\")\n",
    "    & (pl.col(\"fuel_type\") == \"DI\")\n",
    "    & (pl.col(\"first_use_date\").dt.year() == 2005)\n",
    "    & (pl.col(\"test_date\").dt.year() == 2022)\n",
    "    & (pl.col(\"test_result\") == \"P\")\n",
    ")"
   ]
  },
  {
   "cell_type": "code",
   "execution_count": 21,
   "id": "f048fb09-d320-42a1-a5d3-4f05ecb39d96",
   "metadata": {
    "tags": []
   },
   "outputs": [
    {
     "name": "stdout",
     "output_type": "stream",
     "text": [
      "In [21] used 0.3 MiB RAM in 3.36s (system mean cpu 13%, single max cpu 100%), peaked 339.2 MiB above final usage, current RAM usage now 21894.3 MiB\n"
     ]
    }
   ],
   "source": [
    "# lazy same speed as eager\n",
    "dfs1 = (\n",
    "    dfple.lazy()\n",
    "    .filter(\n",
    "        (pl.col(\"make\") == \"VOLVO\")\n",
    "        & (pl.col(\"model\") == \"V50\")\n",
    "        & (pl.col(\"fuel_type\") == \"DI\")\n",
    "        & (pl.col(\"first_use_date\").dt.year() == 2005)\n",
    "        & (pl.col(\"test_date\").dt.year() == 2022)\n",
    "        & (pl.col(\"test_result\") == \"P\")\n",
    "    )\n",
    "    .collect()\n",
    ")"
   ]
  },
  {
   "cell_type": "code",
   "execution_count": 22,
   "id": "efee6d84-e724-460d-b74a-8627eb6aa4e9",
   "metadata": {
    "tags": []
   },
   "outputs": [
    {
     "name": "stdout",
     "output_type": "stream",
     "text": [
      "In [22] used -146.0 MiB RAM in 0.60s (system mean cpu 79%, single max cpu 100%), peaked 284.3 MiB above final usage, current RAM usage now 21748.3 MiB\n"
     ]
    }
   ],
   "source": [
    "# import polars.col as col\n",
    "dfs1 = (\n",
    "    dfple.lazy()\n",
    "    .filter(\n",
    "        (pl.col(\"make\") == \"VOLVO\")\n",
    "        & (pl.col(\"model\") == \"V50\")\n",
    "        & (pl.col(\"fuel_type\") == \"DI\")\n",
    "        & (pl.col(\"first_use_date\").dt.year() == 2005)\n",
    "        & (pl.col(\"test_date\").dt.year() == 2022)\n",
    "        & (pl.col(\"test_result\") == \"P\")\n",
    "    )\n",
    "    .collect(streaming=True)\n",
    ")"
   ]
  },
  {
   "cell_type": "code",
   "execution_count": 23,
   "id": "2aceb0cd-9219-482d-a9b7-7d2da4ab7e3d",
   "metadata": {
    "tags": []
   },
   "outputs": [
    {
     "data": {
      "text/html": [
       "<div><style>\n",
       ".dataframe > thead > tr,\n",
       ".dataframe > tbody > tr {\n",
       "  text-align: right;\n",
       "  white-space: pre-wrap;\n",
       "}\n",
       "</style>\n",
       "<small>shape: (5, 14)</small><table border=\"1\" class=\"dataframe\"><thead><tr><th>test_id</th><th>vehicle_id</th><th>test_date</th><th>test_class_id</th><th>test_type</th><th>test_result</th><th>test_mileage</th><th>postcode_area</th><th>make</th><th>model</th><th>colour</th><th>fuel_type</th><th>cylinder_capacity</th><th>first_use_date</th></tr><tr><td>i64</td><td>i64</td><td>datetime[μs]</td><td>i64</td><td>str</td><td>str</td><td>i64</td><td>str</td><td>str</td><td>str</td><td>str</td><td>str</td><td>i64</td><td>datetime[μs]</td></tr></thead><tbody><tr><td>886447379</td><td>122246436</td><td>2022-01-17 00:00:00</td><td>4</td><td>&quot;NT&quot;</td><td>&quot;P&quot;</td><td>161882</td><td>&quot;TW&quot;</td><td>&quot;VOLVO&quot;</td><td>&quot;V50&quot;</td><td>&quot;SILVER&quot;</td><td>&quot;DI&quot;</td><td>1998</td><td>2005-04-29 00:00:00</td></tr><tr><td>257901487</td><td>56525500</td><td>2022-05-05 00:00:00</td><td>4</td><td>&quot;NT&quot;</td><td>&quot;P&quot;</td><td>134568</td><td>&quot;PO&quot;</td><td>&quot;VOLVO&quot;</td><td>&quot;V50&quot;</td><td>&quot;SILVER&quot;</td><td>&quot;DI&quot;</td><td>1998</td><td>2005-12-08 00:00:00</td></tr><tr><td>983572123</td><td>767905780</td><td>2022-02-15 00:00:00</td><td>4</td><td>&quot;NT&quot;</td><td>&quot;P&quot;</td><td>72540</td><td>&quot;HX&quot;</td><td>&quot;VOLVO&quot;</td><td>&quot;V50&quot;</td><td>&quot;SILVER&quot;</td><td>&quot;DI&quot;</td><td>1998</td><td>2005-03-01 00:00:00</td></tr><tr><td>790936857</td><td>1222013548</td><td>2022-08-10 00:00:00</td><td>4</td><td>&quot;NT&quot;</td><td>&quot;P&quot;</td><td>191568</td><td>&quot;NE&quot;</td><td>&quot;VOLVO&quot;</td><td>&quot;V50&quot;</td><td>&quot;SILVER&quot;</td><td>&quot;DI&quot;</td><td>1998</td><td>2005-03-23 00:00:00</td></tr><tr><td>1282559441</td><td>713234410</td><td>2022-08-05 00:00:00</td><td>4</td><td>&quot;RT&quot;</td><td>&quot;P&quot;</td><td>145226</td><td>&quot;CF&quot;</td><td>&quot;VOLVO&quot;</td><td>&quot;V50&quot;</td><td>&quot;GREY&quot;</td><td>&quot;DI&quot;</td><td>1998</td><td>2005-09-30 00:00:00</td></tr></tbody></table></div>"
      ],
      "text/plain": [
       "shape: (5, 14)\n",
       "┌────────────┬────────────┬───────────┬───────────┬───┬────────┬───────────┬───────────┬───────────┐\n",
       "│ test_id    ┆ vehicle_id ┆ test_date ┆ test_clas ┆ … ┆ colour ┆ fuel_type ┆ cylinder_ ┆ first_use │\n",
       "│ ---        ┆ ---        ┆ ---       ┆ s_id      ┆   ┆ ---    ┆ ---       ┆ capacity  ┆ _date     │\n",
       "│ i64        ┆ i64        ┆ datetime[ ┆ ---       ┆   ┆ str    ┆ str       ┆ ---       ┆ ---       │\n",
       "│            ┆            ┆ μs]       ┆ i64       ┆   ┆        ┆           ┆ i64       ┆ datetime[ │\n",
       "│            ┆            ┆           ┆           ┆   ┆        ┆           ┆           ┆ μs]       │\n",
       "╞════════════╪════════════╪═══════════╪═══════════╪═══╪════════╪═══════════╪═══════════╪═══════════╡\n",
       "│ 886447379  ┆ 122246436  ┆ 2022-01-1 ┆ 4         ┆ … ┆ SILVER ┆ DI        ┆ 1998      ┆ 2005-04-2 │\n",
       "│            ┆            ┆ 7         ┆           ┆   ┆        ┆           ┆           ┆ 9         │\n",
       "│            ┆            ┆ 00:00:00  ┆           ┆   ┆        ┆           ┆           ┆ 00:00:00  │\n",
       "│ 257901487  ┆ 56525500   ┆ 2022-05-0 ┆ 4         ┆ … ┆ SILVER ┆ DI        ┆ 1998      ┆ 2005-12-0 │\n",
       "│            ┆            ┆ 5         ┆           ┆   ┆        ┆           ┆           ┆ 8         │\n",
       "│            ┆            ┆ 00:00:00  ┆           ┆   ┆        ┆           ┆           ┆ 00:00:00  │\n",
       "│ 983572123  ┆ 767905780  ┆ 2022-02-1 ┆ 4         ┆ … ┆ SILVER ┆ DI        ┆ 1998      ┆ 2005-03-0 │\n",
       "│            ┆            ┆ 5         ┆           ┆   ┆        ┆           ┆           ┆ 1         │\n",
       "│            ┆            ┆ 00:00:00  ┆           ┆   ┆        ┆           ┆           ┆ 00:00:00  │\n",
       "│ 790936857  ┆ 1222013548 ┆ 2022-08-1 ┆ 4         ┆ … ┆ SILVER ┆ DI        ┆ 1998      ┆ 2005-03-2 │\n",
       "│            ┆            ┆ 0         ┆           ┆   ┆        ┆           ┆           ┆ 3         │\n",
       "│            ┆            ┆ 00:00:00  ┆           ┆   ┆        ┆           ┆           ┆ 00:00:00  │\n",
       "│ 1282559441 ┆ 713234410  ┆ 2022-08-0 ┆ 4         ┆ … ┆ GREY   ┆ DI        ┆ 1998      ┆ 2005-09-3 │\n",
       "│            ┆            ┆ 5         ┆           ┆   ┆        ┆           ┆           ┆ 0         │\n",
       "│            ┆            ┆ 00:00:00  ┆           ┆   ┆        ┆           ┆           ┆ 00:00:00  │\n",
       "└────────────┴────────────┴───────────┴───────────┴───┴────────┴───────────┴───────────┴───────────┘"
      ]
     },
     "execution_count": 23,
     "metadata": {},
     "output_type": "execute_result"
    },
    {
     "name": "stdout",
     "output_type": "stream",
     "text": [
      "In [23] used -0.3 MiB RAM in 0.11s (system mean cpu 5%, single max cpu 20%), peaked 0.3 MiB above final usage, current RAM usage now 21748.0 MiB\n"
     ]
    }
   ],
   "source": [
    "dfs1.sample(5)"
   ]
  },
  {
   "cell_type": "code",
   "execution_count": 24,
   "id": "0bff4338-78a2-4a64-80cb-91f7589ed3b2",
   "metadata": {
    "tags": []
   },
   "outputs": [
    {
     "name": "stdout",
     "output_type": "stream",
     "text": [
      "In [24] used -0.0 MiB RAM in 3.36s (system mean cpu 13%, single max cpu 100%), peaked 338.7 MiB above final usage, current RAM usage now 21747.9 MiB\n"
     ]
    }
   ],
   "source": [
    "from polars import col\n",
    "\n",
    "dfpl_volvo = dfple.filter(\n",
    "    (col(\"make\") == \"VOLVO\")\n",
    "    & (col(\"model\") == \"V50\")\n",
    "    & (col(\"fuel_type\") == \"DI\")\n",
    "    & (col(\"first_use_date\").dt.year() == 2005)\n",
    "    & (col(\"test_date\").dt.year() == 2022)\n",
    "    & (col(\"test_result\") == \"P\")\n",
    ")"
   ]
  },
  {
   "cell_type": "code",
   "execution_count": 25,
   "id": "8565df7c-0269-41af-b9bb-afeae92fe957",
   "metadata": {
    "tags": []
   },
   "outputs": [
    {
     "data": {
      "text/html": [
       "<div><style>\n",
       ".dataframe > thead > tr,\n",
       ".dataframe > tbody > tr {\n",
       "  text-align: right;\n",
       "  white-space: pre-wrap;\n",
       "}\n",
       "</style>\n",
       "<small>shape: (9, 2)</small><table border=\"1\" class=\"dataframe\"><thead><tr><th>statistic</th><th>value</th></tr><tr><td>str</td><td>f64</td></tr></thead><tbody><tr><td>&quot;count&quot;</td><td>1593.0</td></tr><tr><td>&quot;null_count&quot;</td><td>1.0</td></tr><tr><td>&quot;mean&quot;</td><td>150133.792714</td></tr><tr><td>&quot;std&quot;</td><td>39022.631791</td></tr><tr><td>&quot;min&quot;</td><td>27861.0</td></tr><tr><td>&quot;25%&quot;</td><td>125499.0</td></tr><tr><td>&quot;50%&quot;</td><td>150674.0</td></tr><tr><td>&quot;75%&quot;</td><td>174614.0</td></tr><tr><td>&quot;max&quot;</td><td>345116.0</td></tr></tbody></table></div>"
      ],
      "text/plain": [
       "shape: (9, 2)\n",
       "┌────────────┬───────────────┐\n",
       "│ statistic  ┆ value         │\n",
       "│ ---        ┆ ---           │\n",
       "│ str        ┆ f64           │\n",
       "╞════════════╪═══════════════╡\n",
       "│ count      ┆ 1593.0        │\n",
       "│ null_count ┆ 1.0           │\n",
       "│ mean       ┆ 150133.792714 │\n",
       "│ std        ┆ 39022.631791  │\n",
       "│ min        ┆ 27861.0       │\n",
       "│ 25%        ┆ 125499.0      │\n",
       "│ 50%        ┆ 150674.0      │\n",
       "│ 75%        ┆ 174614.0      │\n",
       "│ max        ┆ 345116.0      │\n",
       "└────────────┴───────────────┘"
      ]
     },
     "execution_count": 25,
     "metadata": {},
     "output_type": "execute_result"
    },
    {
     "name": "stdout",
     "output_type": "stream",
     "text": [
      "In [25] used 0.8 MiB RAM in 0.12s (system mean cpu 12%, single max cpu 64%), peaked 0.0 MiB above final usage, current RAM usage now 21748.7 MiB\n"
     ]
    }
   ],
   "source": [
    "dfpl_volvo[\"test_mileage\"].describe()"
   ]
  },
  {
   "cell_type": "code",
   "execution_count": 26,
   "id": "26e8fcb2-8abf-4caf-aeb6-24fdcb88a836",
   "metadata": {
    "tags": []
   },
   "outputs": [
    {
     "data": {
      "text/plain": [
       "'80th percentile for mileage'"
      ]
     },
     "execution_count": 26,
     "metadata": {},
     "output_type": "execute_result"
    },
    {
     "name": "stdout",
     "output_type": "stream",
     "text": [
      "In [26] used 0.0 MiB RAM in 0.10s (system mean cpu 16%, single max cpu 60%), peaked 0.0 MiB above final usage, current RAM usage now 21748.7 MiB\n"
     ]
    }
   ],
   "source": [
    "# 80 is 80th percentile - we can use scipy on Arrow columns\n",
    "percentile = scipy.stats.percentileofscore(\n",
    "    dfpl_volvo[\"test_mileage\"], 181_000, nan_policy=\"omit\"\n",
    ")\n",
    "f\"{percentile:0.0f}th percentile for mileage\""
   ]
  },
  {
   "cell_type": "code",
   "execution_count": null,
   "id": "ae68860e-7b16-4676-a400-e81764b38950",
   "metadata": {},
   "outputs": [],
   "source": []
  }
 ],
 "metadata": {
  "kernelspec": {
   "display_name": "Python 3 (ipykernel)",
   "language": "python",
   "name": "python3"
  },
  "language_info": {
   "codemirror_mode": {
    "name": "ipython",
    "version": 3
   },
   "file_extension": ".py",
   "mimetype": "text/x-python",
   "name": "python",
   "nbconvert_exporter": "python",
   "pygments_lexer": "ipython3",
   "version": "3.11.5"
  }
 },
 "nbformat": 4,
 "nbformat_minor": 5
}
