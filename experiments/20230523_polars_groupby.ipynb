{
 "cells": [
  {
   "cell_type": "markdown",
   "id": "c68a80f3-56b0-458f-9e52-748a0e3b5fcc",
   "metadata": {},
   "source": [
    "# Polars groupby on parquet data 2021+, eager vs lazy"
   ]
  },
  {
   "cell_type": "code",
   "execution_count": 1,
   "id": "138af60d-5775-46f5-bc27-2974b534b1f8",
   "metadata": {
    "tags": []
   },
   "outputs": [
    {
     "data": {
      "text/plain": [
       "'Pandas 2.1.3, Polars 0.19.17'"
      ]
     },
     "metadata": {},
     "output_type": "display_data"
    },
    {
     "data": {
      "text/plain": [
       "'Running: 20231203 10:29:04, env pydataglobal2023'"
      ]
     },
     "metadata": {},
     "output_type": "display_data"
    },
    {
     "name": "stdout",
     "output_type": "stream",
     "text": [
      "Enabling IPython Memory Usage, use %imu_start to begin, %imu_stop to end\n",
      "In [1] used 0.4 MiB RAM in 0.19s (system mean cpu 0%, single max cpu 0%), peaked 0.0 MiB above final usage, current RAM usage now 210.8 MiB\n"
     ]
    }
   ],
   "source": [
    "import pandas as pd\n",
    "import polars as pl\n",
    "from humanfriendly import format_size, format_number\n",
    "from simpler_mpl import set_commas, set_common_mpl_styles\n",
    "import matplotlib.pyplot as plt\n",
    "import seaborn as sns\n",
    "import scipy.stats\n",
    "\n",
    "%load_ext autoreload\n",
    "%autoreload 2\n",
    "\n",
    "import datetime, os\n",
    "display(f\"Pandas {pd.__version__}, Polars {pl.__version__}\")\n",
    "display(f'Running: {datetime.datetime.now().strftime(\"%Y%m%d %H:%M:%S\")}, env {os.getenv(\"CONDA_DEFAULT_ENV\")}')\n",
    "\n",
    "%load_ext ipython_memory_usage\n",
    "%imu_start\n",
    "\n",
    "\n",
    "def show_rows_memory(df, deep=False):\n",
    "    \"\"\"\n",
    "    Show rows and memory cost of a Pandas/Polars dataframe\n",
    "    `deep=True` only has an impact on Pandas numpy-backed string columns, which otherwise are undercounted\n",
    "    \"\"\"\n",
    "    num_bytes = 0\n",
    "    df_type = \"Unknown\"\n",
    "    try:\n",
    "        num_bytes = df.estimated_size()  # try Polars\n",
    "        df_type = \"Polars\"\n",
    "    except AttributeError:\n",
    "        pass\n",
    "    try:\n",
    "        num_bytes = df.memory_usage(deep=deep, index=False).sum()  # try Pandas\n",
    "        df_type = \"Pandas\"\n",
    "    except AttributeError:\n",
    "        pass\n",
    "    display(\n",
    "        f\"{df_type} df with {format_number(df.shape[0])} rows, {format_size(num_bytes)} bytes\"\n",
    "    )"
   ]
  },
  {
   "cell_type": "code",
   "execution_count": 2,
   "id": "f83bf436-d45d-426d-bd52-603b895acf56",
   "metadata": {
    "tags": []
   },
   "outputs": [
    {
     "name": "stdout",
     "output_type": "stream",
     "text": [
      "In [2] used 22446.8 MiB RAM in 4.83s (system mean cpu 0%, single max cpu 0%), peaked 0.0 MiB above final usage, current RAM usage now 22657.6 MiB\n"
     ]
    }
   ],
   "source": [
    "dfple = pl.read_parquet(\"../test_result_2021on.parquet\")"
   ]
  },
  {
   "cell_type": "markdown",
   "id": "be8d23fd-64fb-48c9-b27e-44535d923200",
   "metadata": {},
   "source": [
    "Notes from Ritchie via: https://pola-rs.github.io/polars-book/user-guide/lazy/query_plan/ via https://en.wikipedia.org/wiki/Relational_algebra\n",
    "\n",
    "```\n",
    "Pi 2/14 means we only select 2/14 columns.\n",
    "\n",
    "Pi is relational algebra for projection (column selection)\n",
    "\n",
    "Sigma is relational algebra for selection (row filtering)\n",
    "```"
   ]
  },
  {
   "cell_type": "code",
   "execution_count": 3,
   "id": "75f143e1-f3cd-411f-8b09-40300d05b17b",
   "metadata": {
    "tags": []
   },
   "outputs": [
    {
     "data": {
      "text/plain": [
       "'Polars df with 82,012,245 rows, 11.17 GB bytes'"
      ]
     },
     "metadata": {},
     "output_type": "display_data"
    },
    {
     "name": "stdout",
     "output_type": "stream",
     "text": [
      "In [3] used 0.1 MiB RAM in 0.10s (system mean cpu 0%, single max cpu 0%), peaked 0.0 MiB above final usage, current RAM usage now 22657.7 MiB\n"
     ]
    }
   ],
   "source": [
    "show_rows_memory(dfple)"
   ]
  },
  {
   "cell_type": "code",
   "execution_count": 4,
   "id": "27c70c11-e502-4b60-b0dd-02d635f9d54d",
   "metadata": {
    "tags": []
   },
   "outputs": [
    {
     "name": "stderr",
     "output_type": "stream",
     "text": [
      "/tmp/ipykernel_50110/1666585407.py:1: DeprecationWarning: `groupby` is deprecated. It has been renamed to `group_by`.\n",
      "  dfple.lazy().groupby(by=\"make\").agg(\"cylinder_capacity\")\n"
     ]
    },
    {
     "data": {
      "text/html": [
       "<h4>NAIVE QUERY PLAN</h4><p>run <b>LazyFrame.show_graph()</b> to see the optimized version</p><?xml version=\"1.0\" encoding=\"UTF-8\" standalone=\"no\"?>\n",
       "<!DOCTYPE svg PUBLIC \"-//W3C//DTD SVG 1.1//EN\"\n",
       " \"http://www.w3.org/Graphics/SVG/1.1/DTD/svg11.dtd\">\n",
       "<!-- Generated by graphviz version 2.43.0 (0)\n",
       " -->\n",
       "<!-- Title: polars_query Pages: 1 -->\n",
       "<svg width=\"240pt\" height=\"150pt\"\n",
       " viewBox=\"0.00 0.00 240.00 150.00\" xmlns=\"http://www.w3.org/2000/svg\" xmlns:xlink=\"http://www.w3.org/1999/xlink\">\n",
       "<g id=\"graph0\" class=\"graph\" transform=\"scale(1 1) rotate(0) translate(4 146)\">\n",
       "<title>polars_query</title>\n",
       "<polygon fill=\"white\" stroke=\"transparent\" points=\"-4,4 -4,-146 236,-146 236,4 -4,4\"/>\n",
       "<!-- AGG [col(&quot;cylinder_capacity&quot;)]\n",
       "BY\n",
       "[col(&quot;make&quot;)] [(0, 0)] [(0, 0)] -->\n",
       "<g id=\"node1\" class=\"node\">\n",
       "<title>AGG [col(&quot;cylinder_capacity&quot;)]\n",
       "BY\n",
       "[col(&quot;make&quot;)] [(0, 0)] [(0, 0)]</title>\n",
       "<polygon fill=\"none\" stroke=\"black\" points=\"232,-142 0,-142 0,-89 232,-89 232,-142\"/>\n",
       "<text text-anchor=\"middle\" x=\"116\" y=\"-126.8\" font-family=\"Times,serif\" font-size=\"14.00\">AGG [col(&quot;cylinder_capacity&quot;)]</text>\n",
       "<text text-anchor=\"middle\" x=\"116\" y=\"-111.8\" font-family=\"Times,serif\" font-size=\"14.00\">BY</text>\n",
       "<text text-anchor=\"middle\" x=\"116\" y=\"-96.8\" font-family=\"Times,serif\" font-size=\"14.00\">[col(&quot;make&quot;)] [(0, 0)]</text>\n",
       "</g>\n",
       "<!-- TABLE\n",
       "π */14;\n",
       "σ &#45;; [(0, 1)] -->\n",
       "<g id=\"node2\" class=\"node\">\n",
       "<title>TABLE\n",
       "π */14;\n",
       "σ &#45;; [(0, 1)]</title>\n",
       "<polygon fill=\"none\" stroke=\"black\" points=\"148.5,-53 83.5,-53 83.5,0 148.5,0 148.5,-53\"/>\n",
       "<text text-anchor=\"middle\" x=\"116\" y=\"-37.8\" font-family=\"Times,serif\" font-size=\"14.00\">TABLE</text>\n",
       "<text text-anchor=\"middle\" x=\"116\" y=\"-22.8\" font-family=\"Times,serif\" font-size=\"14.00\">π */14;</text>\n",
       "<text text-anchor=\"middle\" x=\"116\" y=\"-7.8\" font-family=\"Times,serif\" font-size=\"14.00\">σ &#45;;</text>\n",
       "</g>\n",
       "<!-- AGG [col(&quot;cylinder_capacity&quot;)]\n",
       "BY\n",
       "[col(&quot;make&quot;)] [(0, 0)] [(0, 0)]&#45;&#45;TABLE\n",
       "π */14;\n",
       "σ &#45;; [(0, 1)] -->\n",
       "<g id=\"edge1\" class=\"edge\">\n",
       "<title>AGG [col(&quot;cylinder_capacity&quot;)]\n",
       "BY\n",
       "[col(&quot;make&quot;)] [(0, 0)] [(0, 0)]&#45;&#45;TABLE\n",
       "π */14;\n",
       "σ &#45;; [(0, 1)]</title>\n",
       "<path fill=\"none\" stroke=\"black\" d=\"M116,-88.87C116,-77.64 116,-64.49 116,-53.25\"/>\n",
       "</g>\n",
       "</g>\n",
       "</svg>\n"
      ],
      "text/plain": [
       "<LazyFrame [2 cols, {\"make\": Utf8, \"cylinder_capacity\": List(Int64)}] at 0x7F18F56AD690>"
      ]
     },
     "execution_count": 4,
     "metadata": {},
     "output_type": "execute_result"
    },
    {
     "name": "stdout",
     "output_type": "stream",
     "text": [
      "In [4] used 1.4 MiB RAM in 0.13s (system mean cpu 25%, single max cpu 85%), peaked 0.0 MiB above final usage, current RAM usage now 22659.1 MiB\n"
     ]
    }
   ],
   "source": [
    "dfple.lazy().groupby(by=\"make\").agg(\"cylinder_capacity\")"
   ]
  },
  {
   "cell_type": "code",
   "execution_count": 5,
   "id": "2e018242-7257-40e7-958f-9436dc6880eb",
   "metadata": {
    "tags": []
   },
   "outputs": [
    {
     "name": "stderr",
     "output_type": "stream",
     "text": [
      "/tmp/ipykernel_50110/2654239312.py:1: DeprecationWarning: `groupby` is deprecated. It has been renamed to `group_by`.\n",
      "  dfple.lazy().groupby(by=\"make\").agg(\"cylinder_capacity\").show_graph()\n"
     ]
    },
    {
     "data": {
      "image/svg+xml": [
       "<svg xmlns=\"http://www.w3.org/2000/svg\" xmlns:xlink=\"http://www.w3.org/1999/xlink\" width=\"240pt\" height=\"150pt\" viewBox=\"0.00 0.00 240.00 150.00\">\n",
       "<g id=\"graph0\" class=\"graph\" transform=\"scale(1 1) rotate(0) translate(4 146)\">\n",
       "<title>polars_query</title>\n",
       "<polygon fill=\"white\" stroke=\"transparent\" points=\"-4,4 -4,-146 236,-146 236,4 -4,4\"/>\n",
       "<!-- AGG [col(&quot;cylinder_capacity&quot;)]\n",
       "BY\n",
       "[col(&quot;make&quot;)] [(0, 0)] [(0, 0)] -->\n",
       "<g id=\"node1\" class=\"node\">\n",
       "<title>AGG [col(&quot;cylinder_capacity&quot;)]\n",
       "BY\n",
       "[col(&quot;make&quot;)] [(0, 0)] [(0, 0)]</title>\n",
       "<polygon fill=\"none\" stroke=\"black\" points=\"232,-142 0,-142 0,-89 232,-89 232,-142\"/>\n",
       "<text text-anchor=\"middle\" x=\"116\" y=\"-126.8\" font-family=\"Times,serif\" font-size=\"14.00\">AGG [col(&quot;cylinder_capacity&quot;)]</text>\n",
       "<text text-anchor=\"middle\" x=\"116\" y=\"-111.8\" font-family=\"Times,serif\" font-size=\"14.00\">BY</text>\n",
       "<text text-anchor=\"middle\" x=\"116\" y=\"-96.8\" font-family=\"Times,serif\" font-size=\"14.00\">[col(&quot;make&quot;)] [(0, 0)]</text>\n",
       "</g>\n",
       "<!-- TABLE\n",
       "π 2/14;\n",
       "σ &#45;; [(0, 1)] -->\n",
       "<g id=\"node2\" class=\"node\">\n",
       "<title>TABLE\n",
       "π 2/14;\n",
       "σ -; [(0, 1)]</title>\n",
       "<polygon fill=\"none\" stroke=\"black\" points=\"149,-53 83,-53 83,0 149,0 149,-53\"/>\n",
       "<text text-anchor=\"middle\" x=\"116\" y=\"-37.8\" font-family=\"Times,serif\" font-size=\"14.00\">TABLE</text>\n",
       "<text text-anchor=\"middle\" x=\"116\" y=\"-22.8\" font-family=\"Times,serif\" font-size=\"14.00\">π 2/14;</text>\n",
       "<text text-anchor=\"middle\" x=\"116\" y=\"-7.8\" font-family=\"Times,serif\" font-size=\"14.00\">σ -;</text>\n",
       "</g>\n",
       "<!-- AGG [col(&quot;cylinder_capacity&quot;)]\n",
       "BY\n",
       "[col(&quot;make&quot;)] [(0, 0)] [(0, 0)]&#45;&#45;TABLE\n",
       "π 2/14;\n",
       "σ &#45;; [(0, 1)] -->\n",
       "<g id=\"edge1\" class=\"edge\">\n",
       "<title>AGG [col(&quot;cylinder_capacity&quot;)]\n",
       "BY\n",
       "[col(&quot;make&quot;)] [(0, 0)] [(0, 0)]--TABLE\n",
       "π 2/14;\n",
       "σ -; [(0, 1)]</title>\n",
       "<path fill=\"none\" stroke=\"black\" d=\"M116,-88.87C116,-77.64 116,-64.49 116,-53.25\"/>\n",
       "</g>\n",
       "</g>\n",
       "</svg>"
      ],
      "text/plain": [
       "<IPython.core.display.SVG object>"
      ]
     },
     "metadata": {},
     "output_type": "display_data"
    },
    {
     "name": "stdout",
     "output_type": "stream",
     "text": [
      "In [5] used 0.6 MiB RAM in 0.12s (system mean cpu 7%, single max cpu 70%), peaked 0.0 MiB above final usage, current RAM usage now 22659.7 MiB\n"
     ]
    }
   ],
   "source": [
    "dfple.lazy().groupby(by=\"make\").agg(\"cylinder_capacity\").show_graph()"
   ]
  },
  {
   "cell_type": "code",
   "execution_count": 6,
   "id": "09c0b412-0764-4045-9e4f-1aecd87f1ccb",
   "metadata": {
    "tags": []
   },
   "outputs": [
    {
     "name": "stdout",
     "output_type": "stream",
     "text": [
      "AGGREGATE\n",
      "\t[col(\"cylinder_capacity\")] BY [col(\"make\")] FROM\n",
      "  DF [\"test_id\", \"vehicle_id\", \"test_date\", \"test_class_id\"]; PROJECT */14 COLUMNS; SELECTION: \"None\"\n"
     ]
    },
    {
     "name": "stderr",
     "output_type": "stream",
     "text": [
      "/tmp/ipykernel_50110/4214920071.py:1: DeprecationWarning: `groupby` is deprecated. It has been renamed to `group_by`.\n",
      "  print(dfple.lazy().groupby(by=\"make\").agg(\"cylinder_capacity\").explain(optimized=False))\n"
     ]
    },
    {
     "name": "stdout",
     "output_type": "stream",
     "text": [
      "In [6] used 0.1 MiB RAM in 0.10s (system mean cpu 12%, single max cpu 64%), peaked 0.0 MiB above final usage, current RAM usage now 22659.8 MiB\n"
     ]
    }
   ],
   "source": [
    "print(dfple.lazy().groupby(by=\"make\").agg(\"cylinder_capacity\").explain(optimized=False))"
   ]
  },
  {
   "cell_type": "code",
   "execution_count": 7,
   "id": "bf48aa8a-3572-4d1f-8981-d7f3d24a2036",
   "metadata": {
    "tags": []
   },
   "outputs": [
    {
     "name": "stderr",
     "output_type": "stream",
     "text": [
      "/tmp/ipykernel_50110/959021242.py:1: DeprecationWarning: `groupby` is deprecated. It has been renamed to `group_by`.\n",
      "  dfple.lazy().groupby(by=\"make\").agg(\"cylinder_capacity\").profile()\n"
     ]
    },
    {
     "data": {
      "text/plain": [
       "(shape: (12_290, 2)\n",
       " ┌────────────────────────┬──────────────────────┐\n",
       " │ make                   ┆ cylinder_capacity    │\n",
       " │ ---                    ┆ ---                  │\n",
       " │ str                    ┆ list[i64]            │\n",
       " ╞════════════════════════╪══════════════════════╡\n",
       " │ DENNIS PLAXTON         ┆ [5500, 5500]         │\n",
       " │ LANCER EVO V1          ┆ [2000]               │\n",
       " │ AUDI A4 AVANT TDI 2.0L ┆ [1968]               │\n",
       " │ HARLEY- DAVIDSON       ┆ [1580, 1580]         │\n",
       " │ …                      ┆ …                    │\n",
       " │ JG FALCON              ┆ [1800]               │\n",
       " │ BD                     ┆ [null, null]         │\n",
       " │ TOMCAT                 ┆ [3948]               │\n",
       " │ BURSTNER IXEO 590      ┆ [2287, 2287, … 2287] │\n",
       " └────────────────────────┴──────────────────────┘,\n",
       " shape: (2, 3)\n",
       " ┌────────────────┬───────┬─────────┐\n",
       " │ node           ┆ start ┆ end     │\n",
       " │ ---            ┆ ---   ┆ ---     │\n",
       " │ str            ┆ u64   ┆ u64     │\n",
       " ╞════════════════╪═══════╪═════════╡\n",
       " │ optimization   ┆ 0     ┆ 98      │\n",
       " │ group_by(make) ┆ 98    ┆ 3056846 │\n",
       " └────────────────┴───────┴─────────┘)"
      ]
     },
     "execution_count": 7,
     "metadata": {},
     "output_type": "execute_result"
    },
    {
     "name": "stdout",
     "output_type": "stream",
     "text": [
      "In [7] used 747.5 MiB RAM in 3.16s (system mean cpu 56%, single max cpu 100%), peaked 1527.8 MiB above final usage, current RAM usage now 23407.3 MiB\n"
     ]
    }
   ],
   "source": [
    "dfple.lazy().groupby(by=\"make\").agg(\"cylinder_capacity\").profile()"
   ]
  },
  {
   "cell_type": "code",
   "execution_count": 8,
   "id": "c5a1d635-f6ec-46ee-8431-62efd7a30b16",
   "metadata": {
    "tags": []
   },
   "outputs": [
    {
     "name": "stdout",
     "output_type": "stream",
     "text": [
      "CPU times: user 32.1 s, sys: 9.53 s, total: 41.6 s\n",
      "Wall time: 4.37 s\n"
     ]
    },
    {
     "data": {
      "text/html": [
       "<div><style>\n",
       ".dataframe > thead > tr,\n",
       ".dataframe > tbody > tr {\n",
       "  text-align: right;\n",
       "  white-space: pre-wrap;\n",
       "}\n",
       "</style>\n",
       "<small>shape: (3, 3)</small><table border=\"1\" class=\"dataframe\"><thead><tr><th>make</th><th>median</th><th>count</th></tr><tr><td>str</td><td>f64</td><td>u32</td></tr></thead><tbody><tr><td>&quot;TESLA&quot;</td><td>0.0</td><td>16</td></tr><tr><td>&quot;VECTRIX&quot;</td><td>4.0</td><td>13</td></tr><tr><td>&quot;RALEIGH&quot;</td><td>49.0</td><td>41</td></tr></tbody></table></div>"
      ],
      "text/plain": [
       "shape: (3, 3)\n",
       "┌─────────┬────────┬───────┐\n",
       "│ make    ┆ median ┆ count │\n",
       "│ ---     ┆ ---    ┆ ---   │\n",
       "│ str     ┆ f64    ┆ u32   │\n",
       "╞═════════╪════════╪═══════╡\n",
       "│ TESLA   ┆ 0.0    ┆ 16    │\n",
       "│ VECTRIX ┆ 4.0    ┆ 13    │\n",
       "│ RALEIGH ┆ 49.0   ┆ 41    │\n",
       "└─────────┴────────┴───────┘"
      ]
     },
     "execution_count": 8,
     "metadata": {},
     "output_type": "execute_result"
    },
    {
     "name": "stdout",
     "output_type": "stream",
     "text": [
      "In [8] used -59.8 MiB RAM in 4.48s (system mean cpu 74%, single max cpu 100%), peaked 12894.7 MiB above final usage, current RAM usage now 23347.6 MiB\n"
     ]
    }
   ],
   "source": [
    "%%time\n",
    "result = (\n",
    "    dfple.filter(pl.col(\"cylinder_capacity\").is_not_null())\n",
    "    .group_by(by=\"make\")\n",
    "    .agg(\n",
    "        [\n",
    "            pl.col(\"cylinder_capacity\").median().alias(\"median\"),\n",
    "            pl.col(\"cylinder_capacity\").count().alias(\"count\"),\n",
    "        ]\n",
    "    )\n",
    "    .filter(pl.col(\"count\") > 10)\n",
    "    .sort(by=\"median\")\n",
    ")\n",
    "result[:3]"
   ]
  },
  {
   "cell_type": "code",
   "execution_count": 9,
   "id": "bbb2affd-9efc-4c0b-beeb-6fa20f557c54",
   "metadata": {},
   "outputs": [
    {
     "name": "stdout",
     "output_type": "stream",
     "text": [
      "In [9] used 0.0 MiB RAM in 0.10s (system mean cpu 0%, single max cpu 0%), peaked 0.0 MiB above final usage, current RAM usage now 23347.6 MiB\n"
     ]
    }
   ],
   "source": [
    "# note collect(streaming=True) same result"
   ]
  },
  {
   "cell_type": "code",
   "execution_count": 10,
   "id": "aa87da64-6299-47e8-84ee-67b889672bdb",
   "metadata": {
    "tags": []
   },
   "outputs": [
    {
     "name": "stdout",
     "output_type": "stream",
     "text": [
      "CPU times: user 25.3 s, sys: 2.69 s, total: 28 s\n",
      "Wall time: 3.48 s\n",
      "In [10] used -87.6 MiB RAM in 3.58s (system mean cpu 65%, single max cpu 100%), peaked 4002.0 MiB above final usage, current RAM usage now 23259.9 MiB\n"
     ]
    }
   ],
   "source": [
    "%%time\n",
    "result = (\n",
    "    dfple.lazy()\n",
    "    .filter(pl.col(\"cylinder_capacity\").is_not_null())\n",
    "    .group_by(by=\"make\")\n",
    "    .agg(\n",
    "        [\n",
    "            pl.col(\"cylinder_capacity\").median().alias(\"median\"),\n",
    "            pl.col(\"cylinder_capacity\").count().alias(\"count\"),\n",
    "        ]\n",
    "    )\n",
    "    .filter(pl.col(\"count\") > 10)\n",
    "    .sort(by=\"median\")\n",
    "    .collect()\n",
    ")"
   ]
  },
  {
   "cell_type": "code",
   "execution_count": 11,
   "id": "db339cb8-86e9-4d6a-bd23-505fe3a580e4",
   "metadata": {},
   "outputs": [
    {
     "data": {
      "text/html": [
       "<div><style>\n",
       ".dataframe > thead > tr,\n",
       ".dataframe > tbody > tr {\n",
       "  text-align: right;\n",
       "  white-space: pre-wrap;\n",
       "}\n",
       "</style>\n",
       "<small>shape: (3, 3)</small><table border=\"1\" class=\"dataframe\"><thead><tr><th>make</th><th>median</th><th>count</th></tr><tr><td>str</td><td>f64</td><td>u32</td></tr></thead><tbody><tr><td>&quot;TESLA&quot;</td><td>0.0</td><td>16</td></tr><tr><td>&quot;VECTRIX&quot;</td><td>4.0</td><td>13</td></tr><tr><td>&quot;LINTEX HT50QT-…</td><td>49.0</td><td>15</td></tr></tbody></table></div>"
      ],
      "text/plain": [
       "shape: (3, 3)\n",
       "┌─────────────────┬────────┬───────┐\n",
       "│ make            ┆ median ┆ count │\n",
       "│ ---             ┆ ---    ┆ ---   │\n",
       "│ str             ┆ f64    ┆ u32   │\n",
       "╞═════════════════╪════════╪═══════╡\n",
       "│ TESLA           ┆ 0.0    ┆ 16    │\n",
       "│ VECTRIX         ┆ 4.0    ┆ 13    │\n",
       "│ LINTEX HT50QT-7 ┆ 49.0   ┆ 15    │\n",
       "└─────────────────┴────────┴───────┘"
      ]
     },
     "execution_count": 11,
     "metadata": {},
     "output_type": "execute_result"
    },
    {
     "name": "stdout",
     "output_type": "stream",
     "text": [
      "In [11] used 0.0 MiB RAM in 0.10s (system mean cpu 0%, single max cpu 0%), peaked 0.0 MiB above final usage, current RAM usage now 23259.9 MiB\n"
     ]
    }
   ],
   "source": [
    "result[:3]"
   ]
  },
  {
   "cell_type": "code",
   "execution_count": 12,
   "id": "542f8327-c8e5-4c5f-a066-a833d94080e9",
   "metadata": {
    "tags": []
   },
   "outputs": [
    {
     "data": {
      "text/html": [
       "<div><style>\n",
       ".dataframe > thead > tr,\n",
       ".dataframe > tbody > tr {\n",
       "  text-align: right;\n",
       "  white-space: pre-wrap;\n",
       "}\n",
       "</style>\n",
       "<small>shape: (1, 3)</small><table border=\"1\" class=\"dataframe\"><thead><tr><th>make</th><th>median</th><th>count</th></tr><tr><td>str</td><td>f64</td><td>u32</td></tr></thead><tbody><tr><td>&quot;ROLLS ROYCE&quot;</td><td>6749.0</td><td>11741</td></tr></tbody></table></div>"
      ],
      "text/plain": [
       "shape: (1, 3)\n",
       "┌─────────────┬────────┬───────┐\n",
       "│ make        ┆ median ┆ count │\n",
       "│ ---         ┆ ---    ┆ ---   │\n",
       "│ str         ┆ f64    ┆ u32   │\n",
       "╞═════════════╪════════╪═══════╡\n",
       "│ ROLLS ROYCE ┆ 6749.0 ┆ 11741 │\n",
       "└─────────────┴────────┴───────┘"
      ]
     },
     "execution_count": 12,
     "metadata": {},
     "output_type": "execute_result"
    },
    {
     "name": "stdout",
     "output_type": "stream",
     "text": [
      "In [12] used 0.2 MiB RAM in 0.10s (system mean cpu 9%, single max cpu 46%), peaked 0.0 MiB above final usage, current RAM usage now 23260.2 MiB\n"
     ]
    }
   ],
   "source": [
    "result.filter(pl.col(\"make\") == \"ROLLS ROYCE\")"
   ]
  },
  {
   "cell_type": "code",
   "execution_count": 13,
   "id": "3805ad43-99f2-4d88-8353-04e02616c003",
   "metadata": {
    "tags": []
   },
   "outputs": [
    {
     "name": "stdout",
     "output_type": "stream",
     "text": [
      "In [13] used 0.0 MiB RAM in 0.10s (system mean cpu 8%, single max cpu 33%), peaked 0.0 MiB above final usage, current RAM usage now 23260.2 MiB\n"
     ]
    }
   ],
   "source": [
    "assert result.filter(pl.col(\"make\") == \"ROLLS ROYCE\")[\"median\"].item() == 6749.0\n",
    "assert result.filter(pl.col(\"make\") == \"ROLLS ROYCE\")[\"count\"].item() == 11741.0"
   ]
  },
  {
   "cell_type": "code",
   "execution_count": 14,
   "id": "060eeb95-d598-481b-b9cc-1c9036ede705",
   "metadata": {
    "tags": []
   },
   "outputs": [
    {
     "name": "stderr",
     "output_type": "stream",
     "text": [
      "/tmp/ipykernel_50110/4040521520.py:2: DeprecationWarning: `groupby` is deprecated. It has been renamed to `group_by`.\n",
      "  dfple.lazy().filter(pl.col(\"cylinder_capacity\").is_not_null()).groupby(by=\"make\").agg(\n"
     ]
    },
    {
     "data": {
      "image/svg+xml": [
       "<svg xmlns=\"http://www.w3.org/2000/svg\" xmlns:xlink=\"http://www.w3.org/1999/xlink\" width=\"754pt\" height=\"294pt\" viewBox=\"0.00 0.00 754.00 294.00\">\n",
       "<g id=\"graph0\" class=\"graph\" transform=\"scale(1 1) rotate(0) translate(4 290)\">\n",
       "<title>polars_query</title>\n",
       "<polygon fill=\"white\" stroke=\"transparent\" points=\"-4,4 -4,-290 750,-290 750,4 -4,4\"/>\n",
       "<!-- SORT BY [col(&quot;median&quot;)] [(0, 0)] -->\n",
       "<g id=\"node1\" class=\"node\">\n",
       "<title>SORT BY [col(&quot;median&quot;)] [(0, 0)]</title>\n",
       "<polygon fill=\"none\" stroke=\"black\" points=\"469,-286 277,-286 277,-250 469,-250 469,-286\"/>\n",
       "<text text-anchor=\"middle\" x=\"373\" y=\"-264.3\" font-family=\"Times,serif\" font-size=\"14.00\">SORT BY [col(&quot;median&quot;)]</text>\n",
       "</g>\n",
       "<!-- FILTER BY (col(&quot;count&quot;)) &gt; (10) [(0, 1)] -->\n",
       "<g id=\"node2\" class=\"node\">\n",
       "<title>FILTER BY (col(&quot;count&quot;)) &gt; (10) [(0, 1)]</title>\n",
       "<polygon fill=\"none\" stroke=\"black\" points=\"494,-214 252,-214 252,-178 494,-178 494,-214\"/>\n",
       "<text text-anchor=\"middle\" x=\"373\" y=\"-192.3\" font-family=\"Times,serif\" font-size=\"14.00\">FILTER BY (col(&quot;count&quot;)) &gt; (10)</text>\n",
       "</g>\n",
       "<!-- SORT BY [col(&quot;median&quot;)] [(0, 0)]&#45;&#45;FILTER BY (col(&quot;count&quot;)) &gt; (10) [(0, 1)] -->\n",
       "<g id=\"edge1\" class=\"edge\">\n",
       "<title>SORT BY [col(&quot;median&quot;)] [(0, 0)]--FILTER BY (col(&quot;count&quot;)) &gt; (10) [(0, 1)]</title>\n",
       "<path fill=\"none\" stroke=\"black\" d=\"M373,-249.7C373,-238.85 373,-224.92 373,-214.1\"/>\n",
       "</g>\n",
       "<!-- AGG [col(&quot;cylinder_capacity&quot;).median().alias(&quot;median&quot;), col(&quot;cylinder_capacity&quot;).count().alias(&quot;count&quot;)]\n",
       "BY\n",
       "[col(&quot;make&quot;)] [(0, 2)] [(0, 2)] -->\n",
       "<g id=\"node3\" class=\"node\">\n",
       "<title>AGG [col(&quot;cylinder_capacity&quot;).median().alias(&quot;median&quot;), col(&quot;cylinder_capacity&quot;).count().alias(&quot;count&quot;)]\n",
       "BY\n",
       "[col(&quot;make&quot;)] [(0, 2)] [(0, 2)]</title>\n",
       "<polygon fill=\"none\" stroke=\"black\" points=\"746,-142 0,-142 0,-89 746,-89 746,-142\"/>\n",
       "<text text-anchor=\"middle\" x=\"373\" y=\"-126.8\" font-family=\"Times,serif\" font-size=\"14.00\">AGG [col(&quot;cylinder_capacity&quot;).median().alias(&quot;median&quot;), col(&quot;cylinder_capacity&quot;).count().alias(&quot;count&quot;)]</text>\n",
       "<text text-anchor=\"middle\" x=\"373\" y=\"-111.8\" font-family=\"Times,serif\" font-size=\"14.00\">BY</text>\n",
       "<text text-anchor=\"middle\" x=\"373\" y=\"-96.8\" font-family=\"Times,serif\" font-size=\"14.00\">[col(&quot;make&quot;)] [(0, 2)]</text>\n",
       "</g>\n",
       "<!-- FILTER BY (col(&quot;count&quot;)) &gt; (10) [(0, 1)]&#45;&#45;AGG [col(&quot;cylinder_capacity&quot;).median().alias(&quot;median&quot;), col(&quot;cylinder_capacity&quot;).count().alias(&quot;count&quot;)]\n",
       "BY\n",
       "[col(&quot;make&quot;)] [(0, 2)] [(0, 2)] -->\n",
       "<g id=\"edge2\" class=\"edge\">\n",
       "<title>FILTER BY (col(&quot;count&quot;)) &gt; (10) [(0, 1)]--AGG [col(&quot;cylinder_capacity&quot;).median().alias(&quot;median&quot;), col(&quot;cylinder_capacity&quot;).count().alias(&quot;count&quot;)]\n",
       "BY\n",
       "[col(&quot;make&quot;)] [(0, 2)] [(0, 2)]</title>\n",
       "<path fill=\"none\" stroke=\"black\" d=\"M373,-177.97C373,-167.51 373,-153.9 373,-142.16\"/>\n",
       "</g>\n",
       "<!-- TABLE\n",
       "π 2/14;\n",
       "σ col(&quot;cylinder_capacity&quot;)....; [(0, 3)] -->\n",
       "<g id=\"node4\" class=\"node\">\n",
       "<title>TABLE\n",
       "π 2/14;\n",
       "σ col(&quot;cylinder_capacity&quot;)....; [(0, 3)]</title>\n",
       "<polygon fill=\"none\" stroke=\"black\" points=\"483.5,-53 262.5,-53 262.5,0 483.5,0 483.5,-53\"/>\n",
       "<text text-anchor=\"middle\" x=\"373\" y=\"-37.8\" font-family=\"Times,serif\" font-size=\"14.00\">TABLE</text>\n",
       "<text text-anchor=\"middle\" x=\"373\" y=\"-22.8\" font-family=\"Times,serif\" font-size=\"14.00\">π 2/14;</text>\n",
       "<text text-anchor=\"middle\" x=\"373\" y=\"-7.8\" font-family=\"Times,serif\" font-size=\"14.00\">σ col(&quot;cylinder_capacity&quot;)....;</text>\n",
       "</g>\n",
       "<!-- AGG [col(&quot;cylinder_capacity&quot;).median().alias(&quot;median&quot;), col(&quot;cylinder_capacity&quot;).count().alias(&quot;count&quot;)]\n",
       "BY\n",
       "[col(&quot;make&quot;)] [(0, 2)] [(0, 2)]&#45;&#45;TABLE\n",
       "π 2/14;\n",
       "σ col(&quot;cylinder_capacity&quot;)....; [(0, 3)] -->\n",
       "<g id=\"edge3\" class=\"edge\">\n",
       "<title>AGG [col(&quot;cylinder_capacity&quot;).median().alias(&quot;median&quot;), col(&quot;cylinder_capacity&quot;).count().alias(&quot;count&quot;)]\n",
       "BY\n",
       "[col(&quot;make&quot;)] [(0, 2)] [(0, 2)]--TABLE\n",
       "π 2/14;\n",
       "σ col(&quot;cylinder_capacity&quot;)....; [(0, 3)]</title>\n",
       "<path fill=\"none\" stroke=\"black\" d=\"M373,-88.87C373,-77.64 373,-64.49 373,-53.25\"/>\n",
       "</g>\n",
       "</g>\n",
       "</svg>"
      ],
      "text/plain": [
       "<IPython.core.display.SVG object>"
      ]
     },
     "metadata": {},
     "output_type": "display_data"
    },
    {
     "name": "stdout",
     "output_type": "stream",
     "text": [
      "In [14] used 0.0 MiB RAM in 0.12s (system mean cpu 17%, single max cpu 62%), peaked 0.0 MiB above final usage, current RAM usage now 23260.2 MiB\n"
     ]
    }
   ],
   "source": [
    "# figsize in show_graph\n",
    "dfple.lazy().filter(pl.col(\"cylinder_capacity\").is_not_null()).groupby(by=\"make\").agg(\n",
    "    [\n",
    "        pl.col(\"cylinder_capacity\").median().alias(\"median\"),\n",
    "        pl.col(\"cylinder_capacity\").count().alias(\"count\"),\n",
    "    ]\n",
    ").filter(pl.col(\"count\") > 10).sort(by=\"median\").show_graph()"
   ]
  },
  {
   "cell_type": "code",
   "execution_count": 15,
   "id": "3f757500-3200-4d60-8a0a-bc37a1e46e9f",
   "metadata": {
    "tags": []
   },
   "outputs": [
    {
     "name": "stdout",
     "output_type": "stream",
     "text": [
      "SORT BY [col(\"median\")]\n",
      "  FILTER [(col(\"count\")) > (10)] FROM\n",
      "\n",
      "  AGGREGATE\n",
      "  \t[col(\"cylinder_capacity\").median().alias(\"median\"), col(\"cylinder_capacity\").count().alias(\"count\")] BY [col(\"make\")] FROM\n",
      "    FILTER col(\"cylinder_capacity\").is_not_null() FROM\n",
      "\n",
      "    DF [\"test_id\", \"vehicle_id\", \"test_date\", \"test_class_id\"]; PROJECT */14 COLUMNS; SELECTION: \"None\"\n"
     ]
    },
    {
     "name": "stderr",
     "output_type": "stream",
     "text": [
      "/tmp/ipykernel_50110/2777726555.py:4: DeprecationWarning: `groupby` is deprecated. It has been renamed to `group_by`.\n",
      "  .groupby(by=\"make\")\n"
     ]
    },
    {
     "name": "stdout",
     "output_type": "stream",
     "text": [
      "In [15] used 0.0 MiB RAM in 0.10s (system mean cpu 9%, single max cpu 46%), peaked 0.0 MiB above final usage, current RAM usage now 23260.2 MiB\n"
     ]
    }
   ],
   "source": [
    "print(\n",
    "    dfple.lazy()\n",
    "    .filter(pl.col(\"cylinder_capacity\").is_not_null())\n",
    "    .groupby(by=\"make\")\n",
    "    .agg(\n",
    "        [\n",
    "            pl.col(\"cylinder_capacity\").median().alias(\"median\"),\n",
    "            pl.col(\"cylinder_capacity\").count().alias(\"count\"),\n",
    "        ]\n",
    "    )\n",
    "    .filter(pl.col(\"count\") > 10)\n",
    "    .sort(by=\"median\")\n",
    "    .explain(optimized=False)\n",
    ")"
   ]
  },
  {
   "cell_type": "code",
   "execution_count": 16,
   "id": "b152972b-c984-4d04-aeda-3d518024897b",
   "metadata": {
    "tags": []
   },
   "outputs": [
    {
     "name": "stdout",
     "output_type": "stream",
     "text": [
      "SORT BY [col(\"median\")]\n",
      "  FILTER [(col(\"count\")) > (10)] FROM\n",
      "\n",
      "  AGGREGATE\n",
      "  \t[col(\"cylinder_capacity\").median().alias(\"median\"), col(\"cylinder_capacity\").count().alias(\"count\")] BY [col(\"make\")] FROM\n",
      "    DF [\"test_id\", \"vehicle_id\", \"test_date\", \"test_class_id\"]; PROJECT 2/14 COLUMNS; SELECTION: \"col(\\\"cylinder_capacity\\\").is_not_null()\"\n"
     ]
    },
    {
     "name": "stderr",
     "output_type": "stream",
     "text": [
      "/tmp/ipykernel_50110/2991613191.py:4: DeprecationWarning: `groupby` is deprecated. It has been renamed to `group_by`.\n",
      "  .groupby(by=\"make\")\n"
     ]
    },
    {
     "name": "stdout",
     "output_type": "stream",
     "text": [
      "In [16] used 0.0 MiB RAM in 0.10s (system mean cpu 10%, single max cpu 73%), peaked 0.0 MiB above final usage, current RAM usage now 23260.2 MiB\n"
     ]
    }
   ],
   "source": [
    "print(\n",
    "    dfple.lazy()\n",
    "    .filter(pl.col(\"cylinder_capacity\").is_not_null())\n",
    "    .groupby(by=\"make\")\n",
    "    .agg(\n",
    "        [\n",
    "            pl.col(\"cylinder_capacity\").median().alias(\"median\"),\n",
    "            pl.col(\"cylinder_capacity\").count().alias(\"count\"),\n",
    "        ]\n",
    "    )\n",
    "    .filter(pl.col(\"count\") > 10)\n",
    "    .sort(by=\"median\")\n",
    "    .explain()\n",
    ")"
   ]
  },
  {
   "cell_type": "code",
   "execution_count": 17,
   "id": "3845788c-9257-4ed8-b1fd-e4ddbef40286",
   "metadata": {
    "tags": []
   },
   "outputs": [
    {
     "name": "stderr",
     "output_type": "stream",
     "text": [
      "/tmp/ipykernel_50110/2851134922.py:2: DeprecationWarning: `groupby` is deprecated. It has been renamed to `group_by`.\n",
      "  dfple.lazy().filter(pl.col(\"cylinder_capacity\").is_not_null()).groupby(by=\"make\").agg(\n"
     ]
    },
    {
     "data": {
      "text/plain": [
       "(shape: (1_275, 3)\n",
       " ┌──────────────────┬─────────┬───────┐\n",
       " │ make             ┆ median  ┆ count │\n",
       " │ ---              ┆ ---     ┆ ---   │\n",
       " │ str              ┆ f64     ┆ u32   │\n",
       " ╞══════════════════╪═════════╪═══════╡\n",
       " │ TESLA            ┆ 0.0     ┆ 16    │\n",
       " │ VECTRIX          ┆ 4.0     ┆ 13    │\n",
       " │ SONIK            ┆ 49.0    ┆ 35    │\n",
       " │ YAMASAKI YM50-RE ┆ 49.0    ┆ 22    │\n",
       " │ …                ┆ …       ┆ …     │\n",
       " │ LEYLAND NATIONAL ┆ 10450.0 ┆ 15    │\n",
       " │ NEOPLAN          ┆ 12609.5 ┆ 18    │\n",
       " │ KENWORTH         ┆ 14000.0 ┆ 11    │\n",
       " │ SETRA            ┆ 14618.0 ┆ 19    │\n",
       " └──────────────────┴─────────┴───────┘,\n",
       " shape: (4, 3)\n",
       " ┌──────────────────────────────────┬─────────┬─────────┐\n",
       " │ node                             ┆ start   ┆ end     │\n",
       " │ ---                              ┆ ---     ┆ ---     │\n",
       " │ str                              ┆ u64     ┆ u64     │\n",
       " ╞══════════════════════════════════╪═════════╪═════════╡\n",
       " │ optimization                     ┆ 0       ┆ 974715  │\n",
       " │ group_by(make)                   ┆ 974715  ┆ 3257281 │\n",
       " │ .filter([(col(\"count\")) > (10)]) ┆ 3257322 ┆ 3257463 │\n",
       " │ sort(median)                     ┆ 3257487 ┆ 3257688 │\n",
       " └──────────────────────────────────┴─────────┴─────────┘)"
      ]
     },
     "execution_count": 17,
     "metadata": {},
     "output_type": "execute_result"
    },
    {
     "name": "stdout",
     "output_type": "stream",
     "text": [
      "In [17] used -85.3 MiB RAM in 3.36s (system mean cpu 63%, single max cpu 100%), peaked 4029.0 MiB above final usage, current RAM usage now 23174.9 MiB\n"
     ]
    }
   ],
   "source": [
    "# .profile() only exists for Lazy dataframe\n",
    "dfple.lazy().filter(pl.col(\"cylinder_capacity\").is_not_null()).groupby(by=\"make\").agg(\n",
    "    [\n",
    "        pl.col(\"cylinder_capacity\").median().alias(\"median\"),\n",
    "        pl.col(\"cylinder_capacity\").count().alias(\"count\"),\n",
    "    ]\n",
    ").filter(pl.col(\"count\") > 10).sort(by=\"median\").profile()"
   ]
  },
  {
   "cell_type": "code",
   "execution_count": 18,
   "id": "09ac6232-9296-4bf6-af0f-f6ba31775226",
   "metadata": {
    "tags": []
   },
   "outputs": [
    {
     "name": "stderr",
     "output_type": "stream",
     "text": [
      "/tmp/ipykernel_50110/3924508235.py:2: DeprecationWarning: `groupby` is deprecated. It has been renamed to `group_by`.\n",
      "  dfple.lazy().filter(pl.col(\"cylinder_capacity\").is_not_null()).groupby(by=\"make\").agg(\n",
      "/tmp/ipykernel_50110/3924508235.py:7: DeprecationWarning: `the argument common_subplan_elimination` for `profile` is deprecated. It has been renamed to `comm_subplan_elim`.\n",
      "  ).filter(pl.col(\"count\") > 10).sort(by=\"median\").profile(\n"
     ]
    },
    {
     "data": {
      "image/png": "[encoded data removed]",
      "text/plain": [
       "<Figure size 1800x800 with 1 Axes>"
      ]
     },
     "metadata": {},
     "output_type": "display_data"
    },
    {
     "data": {
      "text/plain": [
       "(shape: (1_275, 3)\n",
       " ┌──────────────────┬─────────┬───────┐\n",
       " │ make             ┆ median  ┆ count │\n",
       " │ ---              ┆ ---     ┆ ---   │\n",
       " │ str              ┆ f64     ┆ u32   │\n",
       " ╞══════════════════╪═════════╪═══════╡\n",
       " │ TESLA            ┆ 0.0     ┆ 16    │\n",
       " │ VECTRIX          ┆ 4.0     ┆ 13    │\n",
       " │ LEEWAY C8        ┆ 49.0    ┆ 14    │\n",
       " │ SIMSON           ┆ 49.0    ┆ 26    │\n",
       " │ …                ┆ …       ┆ …     │\n",
       " │ LEYLAND NATIONAL ┆ 10450.0 ┆ 15    │\n",
       " │ NEOPLAN          ┆ 12609.5 ┆ 18    │\n",
       " │ KENWORTH         ┆ 14000.0 ┆ 11    │\n",
       " │ SETRA            ┆ 14618.0 ┆ 19    │\n",
       " └──────────────────┴─────────┴───────┘,\n",
       " shape: (5, 3)\n",
       " ┌───────────────────────────────────┬─────────┬─────────┐\n",
       " │ node                              ┆ start   ┆ end     │\n",
       " │ ---                               ┆ ---     ┆ ---     │\n",
       " │ str                               ┆ u64     ┆ u64     │\n",
       " ╞═══════════════════════════════════╪═════════╪═════════╡\n",
       " │ optimization                      ┆ 0       ┆ 4       │\n",
       " │ DROP_NULLS by: [cylinder_capacit… ┆ 4       ┆ 1869505 │\n",
       " │ group_by(make)                    ┆ 1869517 ┆ 4568816 │\n",
       " │ .filter([(col(\"count\")) > (10)])  ┆ 4568996 ┆ 4569333 │\n",
       " │ sort(median)                      ┆ 4569382 ┆ 4569840 │\n",
       " └───────────────────────────────────┴─────────┴─────────┘)"
      ]
     },
     "execution_count": 18,
     "metadata": {},
     "output_type": "execute_result"
    },
    {
     "name": "stdout",
     "output_type": "stream",
     "text": [
      "In [18] used -75.5 MiB RAM in 4.80s (system mean cpu 67%, single max cpu 100%), peaked 12913.7 MiB above final usage, current RAM usage now 23099.4 MiB\n"
     ]
    }
   ],
   "source": [
    "# .profile() only exists for Lazy dataframe\n",
    "dfple.lazy().filter(pl.col(\"cylinder_capacity\").is_not_null()).groupby(by=\"make\").agg(\n",
    "    [\n",
    "        pl.col(\"cylinder_capacity\").median().alias(\"median\"),\n",
    "        pl.col(\"cylinder_capacity\").count().alias(\"count\"),\n",
    "    ]\n",
    ").filter(pl.col(\"count\") > 10).sort(by=\"median\").profile(\n",
    "    type_coercion=False,\n",
    "    predicate_pushdown=False,\n",
    "    projection_pushdown=False,\n",
    "    simplify_expression=False,\n",
    "    slice_pushdown=False,\n",
    "    common_subplan_elimination=False,\n",
    "    show_plot=True,\n",
    ")"
   ]
  },
  {
   "cell_type": "code",
   "execution_count": 19,
   "id": "ee3306a0-6ee8-4dc1-9f7e-c8e7855d4ee8",
   "metadata": {
    "tags": []
   },
   "outputs": [
    {
     "name": "stderr",
     "output_type": "stream",
     "text": [
      "/tmp/ipykernel_50110/2470338583.py:1: DeprecationWarning: `groupby` is deprecated. It has been renamed to `group_by`.\n",
      "  dfple.lazy().filter(pl.col(\"cylinder_capacity\").is_not_null()).groupby(by=\"make\").agg(\n"
     ]
    },
    {
     "data": {
      "image/png": "[encoded data removed]",
      "text/plain": [
       "<Figure size 1800x800 with 1 Axes>"
      ]
     },
     "metadata": {},
     "output_type": "display_data"
    },
    {
     "data": {
      "text/plain": [
       "(shape: (1_275, 3)\n",
       " ┌─────────────────────┬─────────┬───────┐\n",
       " │ make                ┆ median  ┆ count │\n",
       " │ ---                 ┆ ---     ┆ ---   │\n",
       " │ str                 ┆ f64     ┆ u32   │\n",
       " ╞═════════════════════╪═════════╪═══════╡\n",
       " │ TESLA               ┆ 0.0     ┆ 16    │\n",
       " │ VECTRIX             ┆ 4.0     ┆ 13    │\n",
       " │ DIRECT BIKES DB50QT ┆ 49.0    ┆ 45    │\n",
       " │ LINTEX HT50QT-16    ┆ 49.0    ┆ 12    │\n",
       " │ …                   ┆ …       ┆ …     │\n",
       " │ LEYLAND NATIONAL    ┆ 10450.0 ┆ 15    │\n",
       " │ NEOPLAN             ┆ 12609.5 ┆ 18    │\n",
       " │ KENWORTH            ┆ 14000.0 ┆ 11    │\n",
       " │ SETRA               ┆ 14618.0 ┆ 19    │\n",
       " └─────────────────────┴─────────┴───────┘,\n",
       " shape: (4, 3)\n",
       " ┌──────────────────────────────────┬─────────┬─────────┐\n",
       " │ node                             ┆ start   ┆ end     │\n",
       " │ ---                              ┆ ---     ┆ ---     │\n",
       " │ str                              ┆ u64     ┆ u64     │\n",
       " ╞══════════════════════════════════╪═════════╪═════════╡\n",
       " │ optimization                     ┆ 0       ┆ 944445  │\n",
       " │ group_by(make)                   ┆ 944445  ┆ 2878110 │\n",
       " │ .filter([(col(\"count\")) > (10)]) ┆ 2878142 ┆ 2878273 │\n",
       " │ sort(median)                     ┆ 2878287 ┆ 2878459 │\n",
       " └──────────────────────────────────┴─────────┴─────────┘)"
      ]
     },
     "execution_count": 19,
     "metadata": {},
     "output_type": "execute_result"
    },
    {
     "name": "stdout",
     "output_type": "stream",
     "text": [
      "In [19] used 11.7 MiB RAM in 3.06s (system mean cpu 57%, single max cpu 100%), peaked 3971.3 MiB above final usage, current RAM usage now 23111.1 MiB\n"
     ]
    }
   ],
   "source": [
    "dfple.lazy().filter(pl.col(\"cylinder_capacity\").is_not_null()).groupby(by=\"make\").agg(\n",
    "    [\n",
    "        pl.col(\"cylinder_capacity\").median().alias(\"median\"),\n",
    "        pl.col(\"cylinder_capacity\").count().alias(\"count\"),\n",
    "    ]\n",
    ").filter(pl.col(\"count\") > 10).sort(by=\"median\").profile(show_plot=True)"
   ]
  },
  {
   "cell_type": "markdown",
   "id": "e6988bcc-c19a-4153-8b2a-b33211745c24",
   "metadata": {},
   "source": [
    "# Resample"
   ]
  },
  {
   "cell_type": "code",
   "execution_count": 20,
   "id": "ae1e96b4-a5a6-4cc3-ba02-e8f047659b14",
   "metadata": {
    "tags": []
   },
   "outputs": [
    {
     "data": {
      "text/html": [
       "<div><style>\n",
       ".dataframe > thead > tr,\n",
       ".dataframe > tbody > tr {\n",
       "  text-align: right;\n",
       "  white-space: pre-wrap;\n",
       "}\n",
       "</style>\n",
       "<small>shape: (5, 14)</small><table border=\"1\" class=\"dataframe\"><thead><tr><th>test_id</th><th>vehicle_id</th><th>test_date</th><th>test_class_id</th><th>test_type</th><th>test_result</th><th>test_mileage</th><th>postcode_area</th><th>make</th><th>model</th><th>colour</th><th>fuel_type</th><th>cylinder_capacity</th><th>first_use_date</th></tr><tr><td>i64</td><td>i64</td><td>datetime[μs]</td><td>i64</td><td>str</td><td>str</td><td>i64</td><td>str</td><td>str</td><td>str</td><td>str</td><td>str</td><td>i64</td><td>datetime[μs]</td></tr></thead><tbody><tr><td>334683447</td><td>634775234</td><td>2022-01-01 00:00:00</td><td>4</td><td>&quot;NT&quot;</td><td>&quot;P&quot;</td><td>227219</td><td>&quot;E&quot;</td><td>&quot;TOYOTA&quot;</td><td>&quot;PRIUS&quot;</td><td>&quot;SILVER&quot;</td><td>&quot;Hybrid Electri…</td><td>1497</td><td>2008-01-17 00:00:00</td></tr><tr><td>586095521</td><td>1220215709</td><td>2022-01-01 00:00:00</td><td>4</td><td>&quot;NT&quot;</td><td>&quot;P&quot;</td><td>136552</td><td>&quot;CR&quot;</td><td>&quot;TOYOTA&quot;</td><td>&quot;PRIUS&quot;</td><td>&quot;GREY&quot;</td><td>&quot;Hybrid Electri…</td><td>1798</td><td>2013-11-29 00:00:00</td></tr><tr><td>960974211</td><td>1315791989</td><td>2022-01-01 00:00:00</td><td>4</td><td>&quot;NT&quot;</td><td>&quot;F&quot;</td><td>129847</td><td>&quot;E&quot;</td><td>&quot;TOYOTA&quot;</td><td>&quot;PRIUS&quot;</td><td>&quot;WHITE&quot;</td><td>&quot;Hybrid Electri…</td><td>1798</td><td>2018-01-01 00:00:00</td></tr><tr><td>1041792341</td><td>1144451355</td><td>2022-01-01 00:00:00</td><td>4</td><td>&quot;NT&quot;</td><td>&quot;P&quot;</td><td>123133</td><td>&quot;TW&quot;</td><td>&quot;TOYOTA&quot;</td><td>&quot;PRIUS&quot;</td><td>&quot;SILVER&quot;</td><td>&quot;Hybrid Electri…</td><td>1496</td><td>2016-11-21 00:00:00</td></tr><tr><td>1587264975</td><td>1315791989</td><td>2022-01-01 00:00:00</td><td>4</td><td>&quot;RT&quot;</td><td>&quot;P&quot;</td><td>129848</td><td>&quot;E&quot;</td><td>&quot;TOYOTA&quot;</td><td>&quot;PRIUS&quot;</td><td>&quot;WHITE&quot;</td><td>&quot;Hybrid Electri…</td><td>1798</td><td>2018-01-01 00:00:00</td></tr></tbody></table></div>"
      ],
      "text/plain": [
       "shape: (5, 14)\n",
       "┌────────────┬────────────┬───────────┬───────────┬───┬────────┬───────────┬───────────┬───────────┐\n",
       "│ test_id    ┆ vehicle_id ┆ test_date ┆ test_clas ┆ … ┆ colour ┆ fuel_type ┆ cylinder_ ┆ first_use │\n",
       "│ ---        ┆ ---        ┆ ---       ┆ s_id      ┆   ┆ ---    ┆ ---       ┆ capacity  ┆ _date     │\n",
       "│ i64        ┆ i64        ┆ datetime[ ┆ ---       ┆   ┆ str    ┆ str       ┆ ---       ┆ ---       │\n",
       "│            ┆            ┆ μs]       ┆ i64       ┆   ┆        ┆           ┆ i64       ┆ datetime[ │\n",
       "│            ┆            ┆           ┆           ┆   ┆        ┆           ┆           ┆ μs]       │\n",
       "╞════════════╪════════════╪═══════════╪═══════════╪═══╪════════╪═══════════╪═══════════╪═══════════╡\n",
       "│ 334683447  ┆ 634775234  ┆ 2022-01-0 ┆ 4         ┆ … ┆ SILVER ┆ Hybrid    ┆ 1497      ┆ 2008-01-1 │\n",
       "│            ┆            ┆ 1         ┆           ┆   ┆        ┆ Electric  ┆           ┆ 7         │\n",
       "│            ┆            ┆ 00:00:00  ┆           ┆   ┆        ┆ (Clean)   ┆           ┆ 00:00:00  │\n",
       "│ 586095521  ┆ 1220215709 ┆ 2022-01-0 ┆ 4         ┆ … ┆ GREY   ┆ Hybrid    ┆ 1798      ┆ 2013-11-2 │\n",
       "│            ┆            ┆ 1         ┆           ┆   ┆        ┆ Electric  ┆           ┆ 9         │\n",
       "│            ┆            ┆ 00:00:00  ┆           ┆   ┆        ┆ (Clean)   ┆           ┆ 00:00:00  │\n",
       "│ 960974211  ┆ 1315791989 ┆ 2022-01-0 ┆ 4         ┆ … ┆ WHITE  ┆ Hybrid    ┆ 1798      ┆ 2018-01-0 │\n",
       "│            ┆            ┆ 1         ┆           ┆   ┆        ┆ Electric  ┆           ┆ 1         │\n",
       "│            ┆            ┆ 00:00:00  ┆           ┆   ┆        ┆ (Clean)   ┆           ┆ 00:00:00  │\n",
       "│ 1041792341 ┆ 1144451355 ┆ 2022-01-0 ┆ 4         ┆ … ┆ SILVER ┆ Hybrid    ┆ 1496      ┆ 2016-11-2 │\n",
       "│            ┆            ┆ 1         ┆           ┆   ┆        ┆ Electric  ┆           ┆ 1         │\n",
       "│            ┆            ┆ 00:00:00  ┆           ┆   ┆        ┆ (Clean)   ┆           ┆ 00:00:00  │\n",
       "│ 1587264975 ┆ 1315791989 ┆ 2022-01-0 ┆ 4         ┆ … ┆ WHITE  ┆ Hybrid    ┆ 1798      ┆ 2018-01-0 │\n",
       "│            ┆            ┆ 1         ┆           ┆   ┆        ┆ Electric  ┆           ┆ 1         │\n",
       "│            ┆            ┆ 00:00:00  ┆           ┆   ┆        ┆ (Clean)   ┆           ┆ 00:00:00  │\n",
       "└────────────┴────────────┴───────────┴───────────┴───┴────────┴───────────┴───────────┴───────────┘"
      ]
     },
     "execution_count": 20,
     "metadata": {},
     "output_type": "execute_result"
    },
    {
     "name": "stdout",
     "output_type": "stream",
     "text": [
      "In [20] used -0.6 MiB RAM in 0.10s (system mean cpu 0%, single max cpu 0%), peaked 0.0 MiB above final usage, current RAM usage now 23110.5 MiB\n"
     ]
    }
   ],
   "source": [
    "dfple.head()"
   ]
  },
  {
   "cell_type": "code",
   "execution_count": 21,
   "id": "d85223d6-0f97-47dd-8c5e-d39be61e87b6",
   "metadata": {
    "tags": []
   },
   "outputs": [
    {
     "name": "stdout",
     "output_type": "stream",
     "text": [
      "In [21] used 0.0 MiB RAM in 0.10s (system mean cpu 0%, single max cpu 0%), peaked 0.0 MiB above final usage, current RAM usage now 23110.5 MiB\n"
     ]
    }
   ],
   "source": [
    "#dfple = pl.read_parquet(\"../test_result_2021on.parquet\")\n",
    "# note sunday morning pretty sure i don't need to read this again, it dupes memory"
   ]
  },
  {
   "cell_type": "code",
   "execution_count": 22,
   "id": "f20925bc-04fc-49af-9f88-cf61c5dd3252",
   "metadata": {
    "tags": []
   },
   "outputs": [
    {
     "name": "stdout",
     "output_type": "stream",
     "text": [
      "In [22] used 0.0 MiB RAM in 0.10s (system mean cpu 0%, single max cpu 0%), peaked 0.0 MiB above final usage, current RAM usage now 23110.5 MiB\n"
     ]
    }
   ],
   "source": [
    "# dfple = dfple.with_columns(pl.col('test_date').dt.year().alias('test_year'))\n",
    "#dfple = dfple.with_columns((pl.col(\"test_result\") == pl.lit(\"P\")).alias(\"passed\"))\n",
    "# dfple.sample(10000).with_columns((pl.col('cylinder_capacity')>1000).alias('other'))"
   ]
  },
  {
   "cell_type": "code",
   "execution_count": 23,
   "id": "89e16fc5-2eeb-4760-805b-e208ade3cf65",
   "metadata": {
    "tags": []
   },
   "outputs": [
    {
     "name": "stdout",
     "output_type": "stream",
     "text": [
      "In [23] used 0.0 MiB RAM in 0.10s (system mean cpu 0%, single max cpu 0%), peaked 0.0 MiB above final usage, current RAM usage now 23110.5 MiB\n"
     ]
    }
   ],
   "source": [
    "# dfple.head(10000).sort(pl.col('test_date')).groupby_dynamic('test_date', every='1w').agg(pl.col('test_type')).mean()"
   ]
  },
  {
   "cell_type": "code",
   "execution_count": 24,
   "id": "b72bd5b9-a9c6-47d9-b4de-1f7e241cea54",
   "metadata": {
    "tags": []
   },
   "outputs": [
    {
     "name": "stdout",
     "output_type": "stream",
     "text": [
      "In [24] used 60.4 MiB RAM in 6.76s (system mean cpu 55%, single max cpu 100%), peaked 14214.5 MiB above final usage, current RAM usage now 23170.9 MiB\n"
     ]
    }
   ],
   "source": [
    "dfple = dfple.with_columns((pl.col(\"test_result\") == pl.lit(\"P\")). \\\n",
    "                           alias(\"passed\"))\n",
    "result = (\n",
    "    dfple.sort(pl.col(\"test_date\"))\n",
    "    .group_by_dynamic(\"test_date\", every=\"1w\")\n",
    "    .agg(pl.col(\"passed\").sum())\n",
    ")"
   ]
  },
  {
   "cell_type": "code",
   "execution_count": 25,
   "id": "a2eb3674-1237-448d-8216-d50b8e7f648f",
   "metadata": {
    "tags": []
   },
   "outputs": [
    {
     "data": {
      "text/plain": [
       "Text(2021-03-26 00:00:00, 200000, 'April Lockdown\\neffect from 2020?')"
      ]
     },
     "execution_count": 25,
     "metadata": {},
     "output_type": "execute_result"
    },
    {
     "data": {
      "image/png": "[encoded data removed]",
      "text/plain": [
       "<Figure size 640x480 with 1 Axes>"
      ]
     },
     "metadata": {},
     "output_type": "display_data"
    },
    {
     "name": "stdout",
     "output_type": "stream",
     "text": [
      "In [25] used 1.2 MiB RAM in 0.33s (system mean cpu 16%, single max cpu 100%), peaked 0.0 MiB above final usage, current RAM usage now 23172.1 MiB\n"
     ]
    }
   ],
   "source": [
    "from simpler_mpl import set_common_mpl_styles, set_commas\n",
    "\n",
    "fig, ax = plt.subplots(constrained_layout=True)\n",
    "ax.plot(result[\"test_date\"], result[\"passed\"])  # , marker='o')\n",
    "ax.yaxis.set_major_formatter(lambda x, pos: f\"{int(x/1000):,}k\")\n",
    "plt.xticks(rotation=-30)\n",
    "set_common_mpl_styles(\n",
    "    ax, title=\"Weekly Test Passes over 2 Years\", ymin=0, ylabel=\"Passing Tests per Week\"\n",
    ")  # , xlabel=\"Weekly 2021-2022\")\n",
    "ax.axvline(pd.to_datetime(\"2020-12-25\"), color=\"red\")\n",
    "ax.axvline(pd.to_datetime(\"2021-12-25\"), color=\"red\")\n",
    "ax.annotate(\"Christmasses\", (pd.to_datetime(\"2021-12-25\"), 200000))\n",
    "ax.axvline(pd.to_datetime(\"2022-12-25\"), color=\"red\")\n",
    "# ax.annotate('Christmas', (pd.to_datetime('2022-09-10'), 200000)) # horrid offset for alignment\n",
    "ax.axvline(pd.to_datetime(\"2021-03-26\"), color=\"green\", linestyle=\"--\")\n",
    "ax.annotate(\"April Lockdown\\neffect from 2020?\", (pd.to_datetime(\"2021-03-26\"), 200000))"
   ]
  },
  {
   "cell_type": "markdown",
   "id": "07051e40-81ed-45ef-a519-a4087f5d827b",
   "metadata": {},
   "source": [
    "## Resample but on larger dataset"
   ]
  },
  {
   "cell_type": "code",
   "execution_count": 26,
   "id": "ad87589a-e84f-49ae-b8fb-1a6255c39834",
   "metadata": {
    "tags": []
   },
   "outputs": [
    {
     "data": {
      "text/plain": [
       "639506968"
      ]
     },
     "execution_count": 26,
     "metadata": {},
     "output_type": "execute_result"
    },
    {
     "name": "stdout",
     "output_type": "stream",
     "text": [
      "In [26] used 746.8 MiB RAM in 4.13s (system mean cpu 39%, single max cpu 100%), peaked 8777.8 MiB above final usage, current RAM usage now 23919.0 MiB\n"
     ]
    }
   ],
   "source": [
    "dfpll = pl.scan_parquet(\"../test_result.parquet/*.parquet\")\n",
    "dfpll.select(pl.count()).collect().item()"
   ]
  },
  {
   "cell_type": "code",
   "execution_count": null,
   "id": "b64e06f2-4d17-4055-8b44-436b96dc3d9d",
   "metadata": {},
   "outputs": [],
   "source": []
  },
  {
   "cell_type": "code",
   "execution_count": 27,
   "id": "ec86598a-8ab3-4fb6-989b-6266ead4e06a",
   "metadata": {
    "tags": []
   },
   "outputs": [
    {
     "data": {
      "text/html": [
       "<div><style>\n",
       ".dataframe > thead > tr,\n",
       ".dataframe > tbody > tr {\n",
       "  text-align: right;\n",
       "  white-space: pre-wrap;\n",
       "}\n",
       "</style>\n",
       "<small>shape: (1, 1)</small><table border=\"1\" class=\"dataframe\"><thead><tr><th>count</th></tr><tr><td>u32</td></tr></thead><tbody><tr><td>82012245</td></tr></tbody></table></div>"
      ],
      "text/plain": [
       "shape: (1, 1)\n",
       "┌──────────┐\n",
       "│ count    │\n",
       "│ ---      │\n",
       "│ u32      │\n",
       "╞══════════╡\n",
       "│ 82012245 │\n",
       "└──────────┘"
      ]
     },
     "execution_count": 27,
     "metadata": {},
     "output_type": "execute_result"
    },
    {
     "name": "stdout",
     "output_type": "stream",
     "text": [
      "In [27] used 80.1 MiB RAM in 2.81s (system mean cpu 70%, single max cpu 100%), peaked 1757.4 MiB above final usage, current RAM usage now 23999.1 MiB\n"
     ]
    }
   ],
   "source": [
    "import datetime\n",
    "\n",
    "# 82012876\n",
    "dfpll.filter(pl.col(\"test_date\") > datetime.datetime(2021, 1, 1)).select(\n",
    "    pl.count()\n",
    ").collect()"
   ]
  },
  {
   "cell_type": "code",
   "execution_count": 28,
   "id": "8bec53d1-6ebc-4469-bfb2-14a828a18cab",
   "metadata": {
    "tags": []
   },
   "outputs": [
    {
     "name": "stdout",
     "output_type": "stream",
     "text": [
      "In [28] used -111.6 MiB RAM in 13.05s (system mean cpu 39%, single max cpu 100%), peaked 9376.1 MiB above final usage, current RAM usage now 23887.4 MiB\n"
     ]
    }
   ],
   "source": [
    "result_lz = (\n",
    "    dfpll.filter(pl.col(\"test_date\") > datetime.datetime(2018, 1, 1))\n",
    "    .with_columns((pl.col(\"test_result\") == pl.lit(\"P\")).alias(\"passed\"))\n",
    "    .sort(pl.col(\"test_date\"))\n",
    "    .group_by_dynamic(\"test_date\", every=\"1w\")\n",
    "    .agg(pl.col(\"passed\").sum())\n",
    "    .collect()\n",
    ")"
   ]
  },
  {
   "cell_type": "code",
   "execution_count": 29,
   "id": "ebb3b8e9-f0f3-45c4-b816-2a79c3c23c14",
   "metadata": {
    "lines_to_next_cell": 0,
    "tags": []
   },
   "outputs": [
    {
     "data": {
      "text/plain": [
       "Text(2020-04-01 00:00:00, 100000, 'Lockdown\\nknock-on')"
      ]
     },
     "execution_count": 29,
     "metadata": {},
     "output_type": "execute_result"
    },
    {
     "data": {
      "image/png": "[encoded data removed]",
      "text/plain": [
       "<Figure size 640x480 with 1 Axes>"
      ]
     },
     "metadata": {},
     "output_type": "display_data"
    },
    {
     "name": "stdout",
     "output_type": "stream",
     "text": [
      "In [29] used 0.9 MiB RAM in 0.39s (system mean cpu 22%, single max cpu 100%), peaked 0.0 MiB above final usage, current RAM usage now 23888.3 MiB\n"
     ]
    }
   ],
   "source": [
    "from simpler_mpl import set_common_mpl_styles, set_commas\n",
    "\n",
    "fig, ax = plt.subplots(constrained_layout=True)\n",
    "ax.plot(result_lz[\"test_date\"], result_lz[\"passed\"])  # , marker='o')\n",
    "ax.yaxis.set_major_formatter(lambda x, pos: f\"{int(x/1000):,}k\")\n",
    "plt.xticks(rotation=-30)\n",
    "set_common_mpl_styles(\n",
    "    ax, title=\"Weekly Test Passes over 5 Years\", ymin=0, ylabel=\"Passing Tests per Week\"\n",
    ")  # , xlabel=\"Weekly 2021-2022\")\n",
    "for dt_str in [\"2018-12-25\", \"2019-12-25\", \"2020-12-25\", \"2021-12-25\", \"2022-12-25\"]:\n",
    "    ax.axvline(pd.to_datetime(dt_str), color=\"red\")\n",
    "ax.annotate(\n",
    "    \"Christmasses\", (pd.to_datetime(\"2018-12-25\"), 200000)\n",
    ")  # horrid offset for alignment\n",
    "ax.annotate(\n",
    "    \"Lockdown\\nknock-on\",\n",
    "    (pd.to_datetime(\"2022-06\"), 300000),\n",
    "    # textcoords='axes fraction',\n",
    "    xytext=(pd.to_datetime(\"2020-04\"), 100000),\n",
    "    arrowprops=dict(facecolor=\"black\", shrink=0.05),\n",
    "    horizontalalignment=\"right\",\n",
    "    verticalalignment=\"top\",\n",
    ")"
   ]
  },
  {
   "cell_type": "code",
   "execution_count": null,
   "id": "56f0e688-35f6-4464-bbfa-8cbf1ea91fd9",
   "metadata": {
    "lines_to_next_cell": 2
   },
   "outputs": [],
   "source": []
  },
  {
   "cell_type": "code",
   "execution_count": null,
   "metadata": {},
   "outputs": [],
   "source": []
  }
 ],
 "metadata": {
  "jupytext": {
   "formats": "ipynb,py:light"
  },
  "kernelspec": {
   "display_name": "Python 3 (ipykernel)",
   "language": "python",
   "name": "python3"
  },
  "language_info": {
   "codemirror_mode": {
    "name": "ipython",
    "version": 3
   },
   "file_extension": ".py",
   "mimetype": "text/x-python",
   "name": "python",
   "nbconvert_exporter": "python",
   "pygments_lexer": "ipython3",
   "version": "3.11.5"
  }
 },
 "nbformat": 4,
 "nbformat_minor": 5
}
