{
 "cells": [
  {
   "cell_type": "markdown",
   "id": "fd11f9c4-7c02-433b-8f72-96808ba4ce6a",
   "metadata": {},
   "source": [
    "# Trial new polars and loading issue\n",
    "\n",
    "* https://github.com/pola-rs/polars/issues/9001"
   ]
  },
  {
   "cell_type": "code",
   "execution_count": 9,
   "id": "61461052-9ec6-4112-a111-13247208762a",
   "metadata": {
    "tags": []
   },
   "outputs": [
    {
     "data": {
      "text/plain": [
       "'0.18.15'"
      ]
     },
     "execution_count": 9,
     "metadata": {},
     "output_type": "execute_result"
    }
   ],
   "source": [
    "import polars as pl\n",
    "# 20230822\n",
    "pl.__version__"
   ]
  },
  {
   "cell_type": "code",
   "execution_count": 10,
   "id": "112d91d1-9bf5-4d8e-b7b0-713433848d41",
   "metadata": {
    "tags": []
   },
   "outputs": [],
   "source": [
    "path = \"/home/ian/workspace/personal/mot_pandas2_polars_dask/test_result.parquet/*\""
   ]
  },
  {
   "cell_type": "code",
   "execution_count": 12,
   "id": "5d3e9dd3-831d-4e7b-bb5b-a71aa71c6386",
   "metadata": {
    "tags": []
   },
   "outputs": [
    {
     "name": "stdout",
     "output_type": "stream",
     "text": [
      "CPU times: user 430 ms, sys: 532 ms, total: 962 ms\n",
      "Wall time: 353 ms\n"
     ]
    },
    {
     "data": {
      "text/html": [
       "<div><style>\n",
       ".dataframe > thead > tr > th,\n",
       ".dataframe > tbody > tr > td {\n",
       "  text-align: right;\n",
       "}\n",
       "</style>\n",
       "<small>shape: (5, 14)</small><table border=\"1\" class=\"dataframe\"><thead><tr><th>test_id</th><th>vehicle_id</th><th>test_date</th><th>test_class_id</th><th>test_type</th><th>test_result</th><th>test_mileage</th><th>postcode_area</th><th>make</th><th>model</th><th>colour</th><th>fuel_type</th><th>cylinder_capacity</th><th>first_use_date</th></tr><tr><td>i64</td><td>i64</td><td>datetime[ns]</td><td>i64</td><td>str</td><td>str</td><td>i64</td><td>str</td><td>str</td><td>str</td><td>str</td><td>str</td><td>i64</td><td>datetime[ns]</td></tr></thead><tbody><tr><td>804664368</td><td>256274986</td><td>2005-01-01 00:00:00</td><td>0</td><td>&quot;NT&quot;</td><td>&quot;P&quot;</td><td>23459</td><td>&quot;TF&quot;</td><td>&quot;FORD&quot;</td><td>&quot;UNCLASSIFIED&quot;</td><td>&quot;SILVER&quot;</td><td>&quot;PE&quot;</td><td>null</td><td>null</td></tr><tr><td>392603376</td><td>633988704</td><td>2005-01-01 00:00:00</td><td>0</td><td>&quot;NT&quot;</td><td>&quot;P&quot;</td><td>40961</td><td>&quot;E&quot;</td><td>&quot;LOTUS&quot;</td><td>&quot;UNCLASSIFIED&quot;</td><td>&quot;RED&quot;</td><td>&quot;PE&quot;</td><td>null</td><td>null</td></tr><tr><td>1894843206</td><td>1320781748</td><td>2005-01-01 00:00:00</td><td>0</td><td>&quot;NT&quot;</td><td>&quot;P&quot;</td><td>16416</td><td>&quot;S&quot;</td><td>&quot;VAUXHALL&quot;</td><td>&quot;UNCLASSIFIED&quot;</td><td>&quot;BLUE&quot;</td><td>&quot;PE&quot;</td><td>null</td><td>null</td></tr><tr><td>830908928</td><td>1263031090</td><td>2005-01-01 00:00:00</td><td>4</td><td>&quot;NT&quot;</td><td>&quot;P&quot;</td><td>93318</td><td>&quot;W&quot;</td><td>&quot;LAND ROVER&quot;</td><td>&quot;109 V8 S.W.&quot;</td><td>&quot;BLUE&quot;</td><td>&quot;PE&quot;</td><td>3528</td><td>1981-04-06 00:00:00</td></tr><tr><td>727535460</td><td>1123257842</td><td>2005-01-01 00:00:00</td><td>4</td><td>&quot;NT&quot;</td><td>&quot;P&quot;</td><td>121930</td><td>&quot;RG&quot;</td><td>&quot;CITROEN&quot;</td><td>&quot;AX&quot;</td><td>&quot;WHITE&quot;</td><td>&quot;DI&quot;</td><td>1360</td><td>1993-08-31 00:00:00</td></tr></tbody></table></div>"
      ],
      "text/plain": [
       "shape: (5, 14)\n",
       "┌────────────┬────────────┬───────────┬───────────┬───┬────────┬───────────┬───────────┬───────────┐\n",
       "│ test_id    ┆ vehicle_id ┆ test_date ┆ test_clas ┆ … ┆ colour ┆ fuel_type ┆ cylinder_ ┆ first_use │\n",
       "│ ---        ┆ ---        ┆ ---       ┆ s_id      ┆   ┆ ---    ┆ ---       ┆ capacity  ┆ _date     │\n",
       "│ i64        ┆ i64        ┆ datetime[ ┆ ---       ┆   ┆ str    ┆ str       ┆ ---       ┆ ---       │\n",
       "│            ┆            ┆ ns]       ┆ i64       ┆   ┆        ┆           ┆ i64       ┆ datetime[ │\n",
       "│            ┆            ┆           ┆           ┆   ┆        ┆           ┆           ┆ ns]       │\n",
       "╞════════════╪════════════╪═══════════╪═══════════╪═══╪════════╪═══════════╪═══════════╪═══════════╡\n",
       "│ 804664368  ┆ 256274986  ┆ 2005-01-0 ┆ 0         ┆ … ┆ SILVER ┆ PE        ┆ null      ┆ null      │\n",
       "│            ┆            ┆ 1         ┆           ┆   ┆        ┆           ┆           ┆           │\n",
       "│            ┆            ┆ 00:00:00  ┆           ┆   ┆        ┆           ┆           ┆           │\n",
       "│ 392603376  ┆ 633988704  ┆ 2005-01-0 ┆ 0         ┆ … ┆ RED    ┆ PE        ┆ null      ┆ null      │\n",
       "│            ┆            ┆ 1         ┆           ┆   ┆        ┆           ┆           ┆           │\n",
       "│            ┆            ┆ 00:00:00  ┆           ┆   ┆        ┆           ┆           ┆           │\n",
       "│ 1894843206 ┆ 1320781748 ┆ 2005-01-0 ┆ 0         ┆ … ┆ BLUE   ┆ PE        ┆ null      ┆ null      │\n",
       "│            ┆            ┆ 1         ┆           ┆   ┆        ┆           ┆           ┆           │\n",
       "│            ┆            ┆ 00:00:00  ┆           ┆   ┆        ┆           ┆           ┆           │\n",
       "│ 830908928  ┆ 1263031090 ┆ 2005-01-0 ┆ 4         ┆ … ┆ BLUE   ┆ PE        ┆ 3528      ┆ 1981-04-0 │\n",
       "│            ┆            ┆ 1         ┆           ┆   ┆        ┆           ┆           ┆ 6         │\n",
       "│            ┆            ┆ 00:00:00  ┆           ┆   ┆        ┆           ┆           ┆ 00:00:00  │\n",
       "│ 727535460  ┆ 1123257842 ┆ 2005-01-0 ┆ 4         ┆ … ┆ WHITE  ┆ DI        ┆ 1360      ┆ 1993-08-3 │\n",
       "│            ┆            ┆ 1         ┆           ┆   ┆        ┆           ┆           ┆ 1         │\n",
       "│            ┆            ┆ 00:00:00  ┆           ┆   ┆        ┆           ┆           ┆ 00:00:00  │\n",
       "└────────────┴────────────┴───────────┴───────────┴───┴────────┴───────────┴───────────┴───────────┘"
      ]
     },
     "execution_count": 12,
     "metadata": {},
     "output_type": "execute_result"
    }
   ],
   "source": [
    "%time pl.scan_parquet(path).limit(5).collect()"
   ]
  },
  {
   "cell_type": "code",
   "execution_count": 13,
   "id": "980d9102-aa55-418f-a87e-e842f7023efe",
   "metadata": {
    "tags": []
   },
   "outputs": [
    {
     "name": "stdout",
     "output_type": "stream",
     "text": [
      "CPU times: user 64.4 ms, sys: 41.1 ms, total: 106 ms\n",
      "Wall time: 88.5 ms\n"
     ]
    },
    {
     "data": {
      "text/html": [
       "<div><style>\n",
       ".dataframe > thead > tr > th,\n",
       ".dataframe > tbody > tr > td {\n",
       "  text-align: right;\n",
       "}\n",
       "</style>\n",
       "<small>shape: (5, 14)</small><table border=\"1\" class=\"dataframe\"><thead><tr><th>test_id</th><th>vehicle_id</th><th>test_date</th><th>test_class_id</th><th>test_type</th><th>test_result</th><th>test_mileage</th><th>postcode_area</th><th>make</th><th>model</th><th>colour</th><th>fuel_type</th><th>cylinder_capacity</th><th>first_use_date</th></tr><tr><td>i64</td><td>i64</td><td>datetime[ns]</td><td>i64</td><td>str</td><td>str</td><td>i64</td><td>str</td><td>str</td><td>str</td><td>str</td><td>str</td><td>i64</td><td>datetime[ns]</td></tr></thead><tbody><tr><td>804664368</td><td>256274986</td><td>2005-01-01 00:00:00</td><td>0</td><td>&quot;NT&quot;</td><td>&quot;P&quot;</td><td>23459</td><td>&quot;TF&quot;</td><td>&quot;FORD&quot;</td><td>&quot;UNCLASSIFIED&quot;</td><td>&quot;SILVER&quot;</td><td>&quot;PE&quot;</td><td>null</td><td>null</td></tr><tr><td>392603376</td><td>633988704</td><td>2005-01-01 00:00:00</td><td>0</td><td>&quot;NT&quot;</td><td>&quot;P&quot;</td><td>40961</td><td>&quot;E&quot;</td><td>&quot;LOTUS&quot;</td><td>&quot;UNCLASSIFIED&quot;</td><td>&quot;RED&quot;</td><td>&quot;PE&quot;</td><td>null</td><td>null</td></tr><tr><td>1894843206</td><td>1320781748</td><td>2005-01-01 00:00:00</td><td>0</td><td>&quot;NT&quot;</td><td>&quot;P&quot;</td><td>16416</td><td>&quot;S&quot;</td><td>&quot;VAUXHALL&quot;</td><td>&quot;UNCLASSIFIED&quot;</td><td>&quot;BLUE&quot;</td><td>&quot;PE&quot;</td><td>null</td><td>null</td></tr><tr><td>830908928</td><td>1263031090</td><td>2005-01-01 00:00:00</td><td>4</td><td>&quot;NT&quot;</td><td>&quot;P&quot;</td><td>93318</td><td>&quot;W&quot;</td><td>&quot;LAND ROVER&quot;</td><td>&quot;109 V8 S.W.&quot;</td><td>&quot;BLUE&quot;</td><td>&quot;PE&quot;</td><td>3528</td><td>1981-04-06 00:00:00</td></tr><tr><td>727535460</td><td>1123257842</td><td>2005-01-01 00:00:00</td><td>4</td><td>&quot;NT&quot;</td><td>&quot;P&quot;</td><td>121930</td><td>&quot;RG&quot;</td><td>&quot;CITROEN&quot;</td><td>&quot;AX&quot;</td><td>&quot;WHITE&quot;</td><td>&quot;DI&quot;</td><td>1360</td><td>1993-08-31 00:00:00</td></tr></tbody></table></div>"
      ],
      "text/plain": [
       "shape: (5, 14)\n",
       "┌────────────┬────────────┬───────────┬───────────┬───┬────────┬───────────┬───────────┬───────────┐\n",
       "│ test_id    ┆ vehicle_id ┆ test_date ┆ test_clas ┆ … ┆ colour ┆ fuel_type ┆ cylinder_ ┆ first_use │\n",
       "│ ---        ┆ ---        ┆ ---       ┆ s_id      ┆   ┆ ---    ┆ ---       ┆ capacity  ┆ _date     │\n",
       "│ i64        ┆ i64        ┆ datetime[ ┆ ---       ┆   ┆ str    ┆ str       ┆ ---       ┆ ---       │\n",
       "│            ┆            ┆ ns]       ┆ i64       ┆   ┆        ┆           ┆ i64       ┆ datetime[ │\n",
       "│            ┆            ┆           ┆           ┆   ┆        ┆           ┆           ┆ ns]       │\n",
       "╞════════════╪════════════╪═══════════╪═══════════╪═══╪════════╪═══════════╪═══════════╪═══════════╡\n",
       "│ 804664368  ┆ 256274986  ┆ 2005-01-0 ┆ 0         ┆ … ┆ SILVER ┆ PE        ┆ null      ┆ null      │\n",
       "│            ┆            ┆ 1         ┆           ┆   ┆        ┆           ┆           ┆           │\n",
       "│            ┆            ┆ 00:00:00  ┆           ┆   ┆        ┆           ┆           ┆           │\n",
       "│ 392603376  ┆ 633988704  ┆ 2005-01-0 ┆ 0         ┆ … ┆ RED    ┆ PE        ┆ null      ┆ null      │\n",
       "│            ┆            ┆ 1         ┆           ┆   ┆        ┆           ┆           ┆           │\n",
       "│            ┆            ┆ 00:00:00  ┆           ┆   ┆        ┆           ┆           ┆           │\n",
       "│ 1894843206 ┆ 1320781748 ┆ 2005-01-0 ┆ 0         ┆ … ┆ BLUE   ┆ PE        ┆ null      ┆ null      │\n",
       "│            ┆            ┆ 1         ┆           ┆   ┆        ┆           ┆           ┆           │\n",
       "│            ┆            ┆ 00:00:00  ┆           ┆   ┆        ┆           ┆           ┆           │\n",
       "│ 830908928  ┆ 1263031090 ┆ 2005-01-0 ┆ 4         ┆ … ┆ BLUE   ┆ PE        ┆ 3528      ┆ 1981-04-0 │\n",
       "│            ┆            ┆ 1         ┆           ┆   ┆        ┆           ┆           ┆ 6         │\n",
       "│            ┆            ┆ 00:00:00  ┆           ┆   ┆        ┆           ┆           ┆ 00:00:00  │\n",
       "│ 727535460  ┆ 1123257842 ┆ 2005-01-0 ┆ 4         ┆ … ┆ WHITE  ┆ DI        ┆ 1360      ┆ 1993-08-3 │\n",
       "│            ┆            ┆ 1         ┆           ┆   ┆        ┆           ┆           ┆ 1         │\n",
       "│            ┆            ┆ 00:00:00  ┆           ┆   ┆        ┆           ┆           ┆ 00:00:00  │\n",
       "└────────────┴────────────┴───────────┴───────────┴───┴────────┴───────────┴───────────┴───────────┘"
      ]
     },
     "execution_count": 13,
     "metadata": {},
     "output_type": "execute_result"
    }
   ],
   "source": [
    "%time pl.scan_parquet(path, n_rows=100).limit(5).collect()"
   ]
  },
  {
   "cell_type": "code",
   "execution_count": 15,
   "id": "b87c7aa2-439a-44d2-af9a-fd91b9222920",
   "metadata": {
    "tags": []
   },
   "outputs": [
    {
     "name": "stdout",
     "output_type": "stream",
     "text": [
      "CPU times: user 13.9 s, sys: 9.05 s, total: 22.9 s\n",
      "Wall time: 4.04 s\n"
     ]
    },
    {
     "data": {
      "text/html": [
       "<div><style>\n",
       ".dataframe > thead > tr > th,\n",
       ".dataframe > tbody > tr > td {\n",
       "  text-align: right;\n",
       "}\n",
       "</style>\n",
       "<small>shape: (5, 14)</small><table border=\"1\" class=\"dataframe\"><thead><tr><th>test_id</th><th>vehicle_id</th><th>test_date</th><th>test_class_id</th><th>test_type</th><th>test_result</th><th>test_mileage</th><th>postcode_area</th><th>make</th><th>model</th><th>colour</th><th>fuel_type</th><th>cylinder_capacity</th><th>first_use_date</th></tr><tr><td>i64</td><td>i64</td><td>datetime[ns]</td><td>i64</td><td>str</td><td>str</td><td>i64</td><td>str</td><td>str</td><td>str</td><td>str</td><td>str</td><td>i64</td><td>datetime[ns]</td></tr></thead><tbody><tr><td>1752889486</td><td>1025799692</td><td>2009-07-13 00:00:00</td><td>4</td><td>&quot;NT&quot;</td><td>&quot;PRS&quot;</td><td>126952</td><td>&quot;SR&quot;</td><td>&quot;VAUXHALL&quot;</td><td>&quot;OMEGA&quot;</td><td>&quot;SILVER&quot;</td><td>&quot;DI&quot;</td><td>2498</td><td>1996-12-30 00:00:00</td></tr><tr><td>350503908</td><td>41615524</td><td>2009-07-13 00:00:00</td><td>4</td><td>&quot;RT&quot;</td><td>&quot;P&quot;</td><td>112375</td><td>&quot;WR&quot;</td><td>&quot;TOYOTA&quot;</td><td>&quot;COROLLA&quot;</td><td>&quot;WHITE&quot;</td><td>&quot;PE&quot;</td><td>1587</td><td>1995-09-29 00:00:00</td></tr><tr><td>237867528</td><td>1415653220</td><td>2009-07-13 00:00:00</td><td>4</td><td>&quot;RT&quot;</td><td>&quot;P&quot;</td><td>90177</td><td>&quot;CF&quot;</td><td>&quot;MAZDA&quot;</td><td>&quot;MX3&quot;</td><td>&quot;RED&quot;</td><td>&quot;PE&quot;</td><td>1845</td><td>1996-12-30 00:00:00</td></tr><tr><td>1200708364</td><td>1190113774</td><td>2009-07-13 00:00:00</td><td>4</td><td>&quot;NT&quot;</td><td>&quot;F&quot;</td><td>29898</td><td>&quot;PE&quot;</td><td>&quot;AUDI&quot;</td><td>&quot;A3&quot;</td><td>&quot;BLUE&quot;</td><td>&quot;DI&quot;</td><td>1968</td><td>2005-07-22 00:00:00</td></tr><tr><td>803701226</td><td>1033909488</td><td>2009-07-13 00:00:00</td><td>4</td><td>&quot;NT&quot;</td><td>&quot;P&quot;</td><td>10226</td><td>&quot;EX&quot;</td><td>&quot;VAUXHALL&quot;</td><td>&quot;ASTRA&quot;</td><td>&quot;SILVER&quot;</td><td>&quot;PE&quot;</td><td>1598</td><td>2004-07-27 00:00:00</td></tr></tbody></table></div>"
      ],
      "text/plain": [
       "shape: (5, 14)\n",
       "┌────────────┬────────────┬───────────┬───────────┬───┬────────┬───────────┬───────────┬───────────┐\n",
       "│ test_id    ┆ vehicle_id ┆ test_date ┆ test_clas ┆ … ┆ colour ┆ fuel_type ┆ cylinder_ ┆ first_use │\n",
       "│ ---        ┆ ---        ┆ ---       ┆ s_id      ┆   ┆ ---    ┆ ---       ┆ capacity  ┆ _date     │\n",
       "│ i64        ┆ i64        ┆ datetime[ ┆ ---       ┆   ┆ str    ┆ str       ┆ ---       ┆ ---       │\n",
       "│            ┆            ┆ ns]       ┆ i64       ┆   ┆        ┆           ┆ i64       ┆ datetime[ │\n",
       "│            ┆            ┆           ┆           ┆   ┆        ┆           ┆           ┆ ns]       │\n",
       "╞════════════╪════════════╪═══════════╪═══════════╪═══╪════════╪═══════════╪═══════════╪═══════════╡\n",
       "│ 1752889486 ┆ 1025799692 ┆ 2009-07-1 ┆ 4         ┆ … ┆ SILVER ┆ DI        ┆ 2498      ┆ 1996-12-3 │\n",
       "│            ┆            ┆ 3         ┆           ┆   ┆        ┆           ┆           ┆ 0         │\n",
       "│            ┆            ┆ 00:00:00  ┆           ┆   ┆        ┆           ┆           ┆ 00:00:00  │\n",
       "│ 350503908  ┆ 41615524   ┆ 2009-07-1 ┆ 4         ┆ … ┆ WHITE  ┆ PE        ┆ 1587      ┆ 1995-09-2 │\n",
       "│            ┆            ┆ 3         ┆           ┆   ┆        ┆           ┆           ┆ 9         │\n",
       "│            ┆            ┆ 00:00:00  ┆           ┆   ┆        ┆           ┆           ┆ 00:00:00  │\n",
       "│ 237867528  ┆ 1415653220 ┆ 2009-07-1 ┆ 4         ┆ … ┆ RED    ┆ PE        ┆ 1845      ┆ 1996-12-3 │\n",
       "│            ┆            ┆ 3         ┆           ┆   ┆        ┆           ┆           ┆ 0         │\n",
       "│            ┆            ┆ 00:00:00  ┆           ┆   ┆        ┆           ┆           ┆ 00:00:00  │\n",
       "│ 1200708364 ┆ 1190113774 ┆ 2009-07-1 ┆ 4         ┆ … ┆ BLUE   ┆ DI        ┆ 1968      ┆ 2005-07-2 │\n",
       "│            ┆            ┆ 3         ┆           ┆   ┆        ┆           ┆           ┆ 2         │\n",
       "│            ┆            ┆ 00:00:00  ┆           ┆   ┆        ┆           ┆           ┆ 00:00:00  │\n",
       "│ 803701226  ┆ 1033909488 ┆ 2009-07-1 ┆ 4         ┆ … ┆ SILVER ┆ PE        ┆ 1598      ┆ 2004-07-2 │\n",
       "│            ┆            ┆ 3         ┆           ┆   ┆        ┆           ┆           ┆ 7         │\n",
       "│            ┆            ┆ 00:00:00  ┆           ┆   ┆        ┆           ┆           ┆ 00:00:00  │\n",
       "└────────────┴────────────┴───────────┴───────────┴───┴────────┴───────────┴───────────┴───────────┘"
      ]
     },
     "execution_count": 15,
     "metadata": {},
     "output_type": "execute_result"
    }
   ],
   "source": [
    "%time pl.scan_parquet(path, n_rows=100).limit(5).collect(streaming=True)"
   ]
  },
  {
   "cell_type": "code",
   "execution_count": 17,
   "id": "4df12234-fd4e-4f04-9ef6-1976c234a2e3",
   "metadata": {
    "tags": []
   },
   "outputs": [
    {
     "name": "stdout",
     "output_type": "stream",
     "text": [
      "CPU times: user 4min 37s, sys: 3min 3s, total: 7min 41s\n",
      "Wall time: 1min 18s\n"
     ]
    },
    {
     "data": {
      "text/html": [
       "<div><style>\n",
       ".dataframe > thead > tr > th,\n",
       ".dataframe > tbody > tr > td {\n",
       "  text-align: right;\n",
       "}\n",
       "</style>\n",
       "<small>shape: (5, 14)</small><table border=\"1\" class=\"dataframe\"><thead><tr><th>test_id</th><th>vehicle_id</th><th>test_date</th><th>test_class_id</th><th>test_type</th><th>test_result</th><th>test_mileage</th><th>postcode_area</th><th>make</th><th>model</th><th>colour</th><th>fuel_type</th><th>cylinder_capacity</th><th>first_use_date</th></tr><tr><td>i64</td><td>i64</td><td>datetime[ns]</td><td>i64</td><td>str</td><td>str</td><td>i64</td><td>str</td><td>str</td><td>str</td><td>str</td><td>str</td><td>i64</td><td>datetime[ns]</td></tr></thead><tbody><tr><td>1426337873</td><td>195731533</td><td>2021-06-08 00:00:00</td><td>7</td><td>&quot;NT&quot;</td><td>&quot;P&quot;</td><td>114399</td><td>&quot;EH&quot;</td><td>&quot;MERCEDES-BENZ&quot;</td><td>&quot;SPRINTER&quot;</td><td>&quot;BLUE&quot;</td><td>&quot;DI&quot;</td><td>2143</td><td>2014-07-18 00:00:00</td></tr><tr><td>1754036601</td><td>236131606</td><td>2021-06-09 00:00:00</td><td>4</td><td>&quot;NT&quot;</td><td>&quot;P&quot;</td><td>44148</td><td>&quot;ST&quot;</td><td>&quot;PORSCHE&quot;</td><td>&quot;BOXSTER&quot;</td><td>&quot;SILVER&quot;</td><td>&quot;PE&quot;</td><td>3200</td><td>2002-01-16 00:00:00</td></tr><tr><td>476969709</td><td>381956220</td><td>2021-06-09 00:00:00</td><td>4</td><td>&quot;NT&quot;</td><td>&quot;P&quot;</td><td>30406</td><td>&quot;CA&quot;</td><td>&quot;HYUNDAI&quot;</td><td>&quot;I20&quot;</td><td>&quot;GREY&quot;</td><td>&quot;PE&quot;</td><td>1248</td><td>2012-04-30 00:00:00</td></tr><tr><td>1619074419</td><td>946331588</td><td>2021-06-09 00:00:00</td><td>4</td><td>&quot;NT&quot;</td><td>&quot;F&quot;</td><td>66376</td><td>&quot;NG&quot;</td><td>&quot;LAND ROVER&quot;</td><td>&quot;DEFENDER&quot;</td><td>&quot;BLACK&quot;</td><td>&quot;DI&quot;</td><td>2495</td><td>2008-03-31 00:00:00</td></tr><tr><td>1096645551</td><td>27223017</td><td>2021-06-08 00:00:00</td><td>4</td><td>&quot;RT&quot;</td><td>&quot;P&quot;</td><td>27123</td><td>&quot;N&quot;</td><td>&quot;VOLKSWAGEN&quot;</td><td>&quot;POLO&quot;</td><td>&quot;WHITE&quot;</td><td>&quot;PE&quot;</td><td>1198</td><td>2013-06-15 00:00:00</td></tr></tbody></table></div>"
      ],
      "text/plain": [
       "shape: (5, 14)\n",
       "┌────────────┬────────────┬───────────┬───────────┬───┬────────┬───────────┬───────────┬───────────┐\n",
       "│ test_id    ┆ vehicle_id ┆ test_date ┆ test_clas ┆ … ┆ colour ┆ fuel_type ┆ cylinder_ ┆ first_use │\n",
       "│ ---        ┆ ---        ┆ ---       ┆ s_id      ┆   ┆ ---    ┆ ---       ┆ capacity  ┆ _date     │\n",
       "│ i64        ┆ i64        ┆ datetime[ ┆ ---       ┆   ┆ str    ┆ str       ┆ ---       ┆ ---       │\n",
       "│            ┆            ┆ ns]       ┆ i64       ┆   ┆        ┆           ┆ i64       ┆ datetime[ │\n",
       "│            ┆            ┆           ┆           ┆   ┆        ┆           ┆           ┆ ns]       │\n",
       "╞════════════╪════════════╪═══════════╪═══════════╪═══╪════════╪═══════════╪═══════════╪═══════════╡\n",
       "│ 1426337873 ┆ 195731533  ┆ 2021-06-0 ┆ 7         ┆ … ┆ BLUE   ┆ DI        ┆ 2143      ┆ 2014-07-1 │\n",
       "│            ┆            ┆ 8         ┆           ┆   ┆        ┆           ┆           ┆ 8         │\n",
       "│            ┆            ┆ 00:00:00  ┆           ┆   ┆        ┆           ┆           ┆ 00:00:00  │\n",
       "│ 1754036601 ┆ 236131606  ┆ 2021-06-0 ┆ 4         ┆ … ┆ SILVER ┆ PE        ┆ 3200      ┆ 2002-01-1 │\n",
       "│            ┆            ┆ 9         ┆           ┆   ┆        ┆           ┆           ┆ 6         │\n",
       "│            ┆            ┆ 00:00:00  ┆           ┆   ┆        ┆           ┆           ┆ 00:00:00  │\n",
       "│ 476969709  ┆ 381956220  ┆ 2021-06-0 ┆ 4         ┆ … ┆ GREY   ┆ PE        ┆ 1248      ┆ 2012-04-3 │\n",
       "│            ┆            ┆ 9         ┆           ┆   ┆        ┆           ┆           ┆ 0         │\n",
       "│            ┆            ┆ 00:00:00  ┆           ┆   ┆        ┆           ┆           ┆ 00:00:00  │\n",
       "│ 1619074419 ┆ 946331588  ┆ 2021-06-0 ┆ 4         ┆ … ┆ BLACK  ┆ DI        ┆ 2495      ┆ 2008-03-3 │\n",
       "│            ┆            ┆ 9         ┆           ┆   ┆        ┆           ┆           ┆ 1         │\n",
       "│            ┆            ┆ 00:00:00  ┆           ┆   ┆        ┆           ┆           ┆ 00:00:00  │\n",
       "│ 1096645551 ┆ 27223017   ┆ 2021-06-0 ┆ 4         ┆ … ┆ WHITE  ┆ PE        ┆ 1198      ┆ 2013-06-1 │\n",
       "│            ┆            ┆ 8         ┆           ┆   ┆        ┆           ┆           ┆ 5         │\n",
       "│            ┆            ┆ 00:00:00  ┆           ┆   ┆        ┆           ┆           ┆ 00:00:00  │\n",
       "└────────────┴────────────┴───────────┴───────────┴───┴────────┴───────────┴───────────┴───────────┘"
      ]
     },
     "execution_count": 17,
     "metadata": {},
     "output_type": "execute_result"
    }
   ],
   "source": [
    "%time pl.scan_parquet(path, n_rows=1000000000).limit(5).collect(streaming=True)\n",
    "# did complete but used all RAM 64GB and some swap"
   ]
  },
  {
   "cell_type": "code",
   "execution_count": 16,
   "id": "94887bfb-566f-481a-9667-f67286c08eed",
   "metadata": {
    "tags": []
   },
   "outputs": [
    {
     "name": "stdout",
     "output_type": "stream",
     "text": [
      "CPU times: user 416 ms, sys: 81.6 ms, total: 498 ms\n",
      "Wall time: 135 ms\n"
     ]
    },
    {
     "data": {
      "text/html": [
       "<div><style>\n",
       ".dataframe > thead > tr > th,\n",
       ".dataframe > tbody > tr > td {\n",
       "  text-align: right;\n",
       "}\n",
       "</style>\n",
       "<small>shape: (5, 14)</small><table border=\"1\" class=\"dataframe\"><thead><tr><th>test_id</th><th>vehicle_id</th><th>test_date</th><th>test_class_id</th><th>test_type</th><th>test_result</th><th>test_mileage</th><th>postcode_area</th><th>make</th><th>model</th><th>colour</th><th>fuel_type</th><th>cylinder_capacity</th><th>first_use_date</th></tr><tr><td>i64</td><td>i64</td><td>datetime[ns]</td><td>i64</td><td>str</td><td>str</td><td>i64</td><td>str</td><td>str</td><td>str</td><td>str</td><td>str</td><td>i64</td><td>datetime[ns]</td></tr></thead><tbody><tr><td>804664368</td><td>256274986</td><td>2005-01-01 00:00:00</td><td>0</td><td>&quot;NT&quot;</td><td>&quot;P&quot;</td><td>23459</td><td>&quot;TF&quot;</td><td>&quot;FORD&quot;</td><td>&quot;UNCLASSIFIED&quot;</td><td>&quot;SILVER&quot;</td><td>&quot;PE&quot;</td><td>null</td><td>null</td></tr><tr><td>392603376</td><td>633988704</td><td>2005-01-01 00:00:00</td><td>0</td><td>&quot;NT&quot;</td><td>&quot;P&quot;</td><td>40961</td><td>&quot;E&quot;</td><td>&quot;LOTUS&quot;</td><td>&quot;UNCLASSIFIED&quot;</td><td>&quot;RED&quot;</td><td>&quot;PE&quot;</td><td>null</td><td>null</td></tr><tr><td>1894843206</td><td>1320781748</td><td>2005-01-01 00:00:00</td><td>0</td><td>&quot;NT&quot;</td><td>&quot;P&quot;</td><td>16416</td><td>&quot;S&quot;</td><td>&quot;VAUXHALL&quot;</td><td>&quot;UNCLASSIFIED&quot;</td><td>&quot;BLUE&quot;</td><td>&quot;PE&quot;</td><td>null</td><td>null</td></tr><tr><td>830908928</td><td>1263031090</td><td>2005-01-01 00:00:00</td><td>4</td><td>&quot;NT&quot;</td><td>&quot;P&quot;</td><td>93318</td><td>&quot;W&quot;</td><td>&quot;LAND ROVER&quot;</td><td>&quot;109 V8 S.W.&quot;</td><td>&quot;BLUE&quot;</td><td>&quot;PE&quot;</td><td>3528</td><td>1981-04-06 00:00:00</td></tr><tr><td>727535460</td><td>1123257842</td><td>2005-01-01 00:00:00</td><td>4</td><td>&quot;NT&quot;</td><td>&quot;P&quot;</td><td>121930</td><td>&quot;RG&quot;</td><td>&quot;CITROEN&quot;</td><td>&quot;AX&quot;</td><td>&quot;WHITE&quot;</td><td>&quot;DI&quot;</td><td>1360</td><td>1993-08-31 00:00:00</td></tr></tbody></table></div>"
      ],
      "text/plain": [
       "shape: (5, 14)\n",
       "┌────────────┬────────────┬───────────┬───────────┬───┬────────┬───────────┬───────────┬───────────┐\n",
       "│ test_id    ┆ vehicle_id ┆ test_date ┆ test_clas ┆ … ┆ colour ┆ fuel_type ┆ cylinder_ ┆ first_use │\n",
       "│ ---        ┆ ---        ┆ ---       ┆ s_id      ┆   ┆ ---    ┆ ---       ┆ capacity  ┆ _date     │\n",
       "│ i64        ┆ i64        ┆ datetime[ ┆ ---       ┆   ┆ str    ┆ str       ┆ ---       ┆ ---       │\n",
       "│            ┆            ┆ ns]       ┆ i64       ┆   ┆        ┆           ┆ i64       ┆ datetime[ │\n",
       "│            ┆            ┆           ┆           ┆   ┆        ┆           ┆           ┆ ns]       │\n",
       "╞════════════╪════════════╪═══════════╪═══════════╪═══╪════════╪═══════════╪═══════════╪═══════════╡\n",
       "│ 804664368  ┆ 256274986  ┆ 2005-01-0 ┆ 0         ┆ … ┆ SILVER ┆ PE        ┆ null      ┆ null      │\n",
       "│            ┆            ┆ 1         ┆           ┆   ┆        ┆           ┆           ┆           │\n",
       "│            ┆            ┆ 00:00:00  ┆           ┆   ┆        ┆           ┆           ┆           │\n",
       "│ 392603376  ┆ 633988704  ┆ 2005-01-0 ┆ 0         ┆ … ┆ RED    ┆ PE        ┆ null      ┆ null      │\n",
       "│            ┆            ┆ 1         ┆           ┆   ┆        ┆           ┆           ┆           │\n",
       "│            ┆            ┆ 00:00:00  ┆           ┆   ┆        ┆           ┆           ┆           │\n",
       "│ 1894843206 ┆ 1320781748 ┆ 2005-01-0 ┆ 0         ┆ … ┆ BLUE   ┆ PE        ┆ null      ┆ null      │\n",
       "│            ┆            ┆ 1         ┆           ┆   ┆        ┆           ┆           ┆           │\n",
       "│            ┆            ┆ 00:00:00  ┆           ┆   ┆        ┆           ┆           ┆           │\n",
       "│ 830908928  ┆ 1263031090 ┆ 2005-01-0 ┆ 4         ┆ … ┆ BLUE   ┆ PE        ┆ 3528      ┆ 1981-04-0 │\n",
       "│            ┆            ┆ 1         ┆           ┆   ┆        ┆           ┆           ┆ 6         │\n",
       "│            ┆            ┆ 00:00:00  ┆           ┆   ┆        ┆           ┆           ┆ 00:00:00  │\n",
       "│ 727535460  ┆ 1123257842 ┆ 2005-01-0 ┆ 4         ┆ … ┆ WHITE  ┆ DI        ┆ 1360      ┆ 1993-08-3 │\n",
       "│            ┆            ┆ 1         ┆           ┆   ┆        ┆           ┆           ┆ 1         │\n",
       "│            ┆            ┆ 00:00:00  ┆           ┆   ┆        ┆           ┆           ┆ 00:00:00  │\n",
       "└────────────┴────────────┴───────────┴───────────┴───┴────────┴───────────┴───────────┴───────────┘"
      ]
     },
     "execution_count": 16,
     "metadata": {},
     "output_type": "execute_result"
    }
   ],
   "source": [
    "%time pl.scan_parquet(path).limit(5).collect(streaming=True)"
   ]
  },
  {
   "cell_type": "code",
   "execution_count": 8,
   "id": "f6ccc912-c283-4940-a7c1-2c059e3e6129",
   "metadata": {
    "tags": []
   },
   "outputs": [
    {
     "name": "stdout",
     "output_type": "stream",
     "text": [
      "CPU times: user 1e+03 ns, sys: 1e+03 ns, total: 2 µs\n",
      "Wall time: 5.01 µs\n"
     ]
    }
   ],
   "source": [
    "%%time\n",
    "# caused machine to lock-up!\n",
    "#pl.scan_parquet(path, n_rows=1000000000).limit(5).collect()"
   ]
  },
  {
   "cell_type": "markdown",
   "id": "28199748-c6fc-4f37-a10c-4fee3e2cfff3",
   "metadata": {},
   "source": [
    "# Diagnostics"
   ]
  },
  {
   "cell_type": "code",
   "execution_count": 84,
   "id": "c78ad878-35ed-4fd4-83a0-f04d8469f1cf",
   "metadata": {
    "tags": []
   },
   "outputs": [
    {
     "data": {
      "text/plain": [
       "(50000, 14)"
      ]
     },
     "execution_count": 84,
     "metadata": {},
     "output_type": "execute_result"
    }
   ],
   "source": [
    "dfp = pl.scan_parquet(path).limit(50_000).collect()\n",
    "dfp.shape"
   ]
  },
  {
   "cell_type": "code",
   "execution_count": 85,
   "id": "17bdfa55-e6b5-4dab-a0ae-a479a9bfbc05",
   "metadata": {
    "tags": []
   },
   "outputs": [
    {
     "data": {
      "text/html": [
       "<div><style>\n",
       ".dataframe > thead > tr > th,\n",
       ".dataframe > tbody > tr > td {\n",
       "  text-align: right;\n",
       "}\n",
       "</style>\n",
       "<small>shape: (5, 14)</small><table border=\"1\" class=\"dataframe\"><thead><tr><th>test_id</th><th>vehicle_id</th><th>test_date</th><th>test_class_id</th><th>test_type</th><th>test_result</th><th>test_mileage</th><th>postcode_area</th><th>make</th><th>model</th><th>colour</th><th>fuel_type</th><th>cylinder_capacity</th><th>first_use_date</th></tr><tr><td>i64</td><td>i64</td><td>datetime[ns]</td><td>i64</td><td>str</td><td>str</td><td>i64</td><td>str</td><td>str</td><td>str</td><td>str</td><td>str</td><td>i64</td><td>datetime[ns]</td></tr></thead><tbody><tr><td>804664368</td><td>256274986</td><td>2005-01-01 00:00:00</td><td>0</td><td>&quot;NT&quot;</td><td>&quot;P&quot;</td><td>23459</td><td>&quot;TF&quot;</td><td>&quot;FORD&quot;</td><td>&quot;UNCLASSIFIED&quot;</td><td>&quot;SILVER&quot;</td><td>&quot;PE&quot;</td><td>null</td><td>null</td></tr><tr><td>392603376</td><td>633988704</td><td>2005-01-01 00:00:00</td><td>0</td><td>&quot;NT&quot;</td><td>&quot;P&quot;</td><td>40961</td><td>&quot;E&quot;</td><td>&quot;LOTUS&quot;</td><td>&quot;UNCLASSIFIED&quot;</td><td>&quot;RED&quot;</td><td>&quot;PE&quot;</td><td>null</td><td>null</td></tr><tr><td>1894843206</td><td>1320781748</td><td>2005-01-01 00:00:00</td><td>0</td><td>&quot;NT&quot;</td><td>&quot;P&quot;</td><td>16416</td><td>&quot;S&quot;</td><td>&quot;VAUXHALL&quot;</td><td>&quot;UNCLASSIFIED&quot;</td><td>&quot;BLUE&quot;</td><td>&quot;PE&quot;</td><td>null</td><td>null</td></tr><tr><td>830908928</td><td>1263031090</td><td>2005-01-01 00:00:00</td><td>4</td><td>&quot;NT&quot;</td><td>&quot;P&quot;</td><td>93318</td><td>&quot;W&quot;</td><td>&quot;LAND ROVER&quot;</td><td>&quot;109 V8 S.W.&quot;</td><td>&quot;BLUE&quot;</td><td>&quot;PE&quot;</td><td>3528</td><td>1981-04-06 00:00:00</td></tr><tr><td>727535460</td><td>1123257842</td><td>2005-01-01 00:00:00</td><td>4</td><td>&quot;NT&quot;</td><td>&quot;P&quot;</td><td>121930</td><td>&quot;RG&quot;</td><td>&quot;CITROEN&quot;</td><td>&quot;AX&quot;</td><td>&quot;WHITE&quot;</td><td>&quot;DI&quot;</td><td>1360</td><td>1993-08-31 00:00:00</td></tr></tbody></table></div>"
      ],
      "text/plain": [
       "shape: (5, 14)\n",
       "┌────────────┬────────────┬───────────┬───────────┬───┬────────┬───────────┬───────────┬───────────┐\n",
       "│ test_id    ┆ vehicle_id ┆ test_date ┆ test_clas ┆ … ┆ colour ┆ fuel_type ┆ cylinder_ ┆ first_use │\n",
       "│ ---        ┆ ---        ┆ ---       ┆ s_id      ┆   ┆ ---    ┆ ---       ┆ capacity  ┆ _date     │\n",
       "│ i64        ┆ i64        ┆ datetime[ ┆ ---       ┆   ┆ str    ┆ str       ┆ ---       ┆ ---       │\n",
       "│            ┆            ┆ ns]       ┆ i64       ┆   ┆        ┆           ┆ i64       ┆ datetime[ │\n",
       "│            ┆            ┆           ┆           ┆   ┆        ┆           ┆           ┆ ns]       │\n",
       "╞════════════╪════════════╪═══════════╪═══════════╪═══╪════════╪═══════════╪═══════════╪═══════════╡\n",
       "│ 804664368  ┆ 256274986  ┆ 2005-01-0 ┆ 0         ┆ … ┆ SILVER ┆ PE        ┆ null      ┆ null      │\n",
       "│            ┆            ┆ 1         ┆           ┆   ┆        ┆           ┆           ┆           │\n",
       "│            ┆            ┆ 00:00:00  ┆           ┆   ┆        ┆           ┆           ┆           │\n",
       "│ 392603376  ┆ 633988704  ┆ 2005-01-0 ┆ 0         ┆ … ┆ RED    ┆ PE        ┆ null      ┆ null      │\n",
       "│            ┆            ┆ 1         ┆           ┆   ┆        ┆           ┆           ┆           │\n",
       "│            ┆            ┆ 00:00:00  ┆           ┆   ┆        ┆           ┆           ┆           │\n",
       "│ 1894843206 ┆ 1320781748 ┆ 2005-01-0 ┆ 0         ┆ … ┆ BLUE   ┆ PE        ┆ null      ┆ null      │\n",
       "│            ┆            ┆ 1         ┆           ┆   ┆        ┆           ┆           ┆           │\n",
       "│            ┆            ┆ 00:00:00  ┆           ┆   ┆        ┆           ┆           ┆           │\n",
       "│ 830908928  ┆ 1263031090 ┆ 2005-01-0 ┆ 4         ┆ … ┆ BLUE   ┆ PE        ┆ 3528      ┆ 1981-04-0 │\n",
       "│            ┆            ┆ 1         ┆           ┆   ┆        ┆           ┆           ┆ 6         │\n",
       "│            ┆            ┆ 00:00:00  ┆           ┆   ┆        ┆           ┆           ┆ 00:00:00  │\n",
       "│ 727535460  ┆ 1123257842 ┆ 2005-01-0 ┆ 4         ┆ … ┆ WHITE  ┆ DI        ┆ 1360      ┆ 1993-08-3 │\n",
       "│            ┆            ┆ 1         ┆           ┆   ┆        ┆           ┆           ┆ 1         │\n",
       "│            ┆            ┆ 00:00:00  ┆           ┆   ┆        ┆           ┆           ┆ 00:00:00  │\n",
       "└────────────┴────────────┴───────────┴───────────┴───┴────────┴───────────┴───────────┴───────────┘"
      ]
     },
     "execution_count": 85,
     "metadata": {},
     "output_type": "execute_result"
    }
   ],
   "source": [
    "dfp.head(5)"
   ]
  },
  {
   "cell_type": "code",
   "execution_count": 99,
   "id": "61710618-17bd-45ef-b2be-979e9cc8a0f7",
   "metadata": {
    "tags": []
   },
   "outputs": [
    {
     "data": {
      "text/html": [
       "<div><style>\n",
       ".dataframe > thead > tr > th,\n",
       ".dataframe > tbody > tr > td {\n",
       "  text-align: right;\n",
       "}\n",
       "</style>\n",
       "<small>shape: (7, 2)</small><table border=\"1\" class=\"dataframe\"><thead><tr><th>test_class_id</th><th>counts</th></tr><tr><td>i64</td><td>u32</td></tr></thead><tbody><tr><td>4</td><td>39681</td></tr><tr><td>0</td><td>8798</td></tr><tr><td>7</td><td>746</td></tr><tr><td>2</td><td>559</td></tr><tr><td>1</td><td>138</td></tr><tr><td>5</td><td>54</td></tr><tr><td>3</td><td>24</td></tr></tbody></table></div>"
      ],
      "text/plain": [
       "shape: (7, 2)\n",
       "┌───────────────┬────────┐\n",
       "│ test_class_id ┆ counts │\n",
       "│ ---           ┆ ---    │\n",
       "│ i64           ┆ u32    │\n",
       "╞═══════════════╪════════╡\n",
       "│ 4             ┆ 39681  │\n",
       "│ 0             ┆ 8798   │\n",
       "│ 7             ┆ 746    │\n",
       "│ 2             ┆ 559    │\n",
       "│ 1             ┆ 138    │\n",
       "│ 5             ┆ 54     │\n",
       "│ 3             ┆ 24     │\n",
       "└───────────────┴────────┘"
      ]
     },
     "execution_count": 99,
     "metadata": {},
     "output_type": "execute_result"
    }
   ],
   "source": [
    "dfp.select('test_class_id').to_series().value_counts(sort=True)"
   ]
  },
  {
   "cell_type": "code",
   "execution_count": 86,
   "id": "95c8fb38-b1fa-4b36-aa8a-42ae6e42dd89",
   "metadata": {
    "tags": []
   },
   "outputs": [
    {
     "data": {
      "text/html": [
       "<div><style>\n",
       ".dataframe > thead > tr > th,\n",
       ".dataframe > tbody > tr > td {\n",
       "  text-align: right;\n",
       "}\n",
       "</style>\n",
       "<small>shape: (7, 2)</small><table border=\"1\" class=\"dataframe\"><thead><tr><th>test_class_id</th><th>counts</th></tr><tr><td>i64</td><td>u32</td></tr></thead><tbody><tr><td>4</td><td>39681</td></tr><tr><td>0</td><td>8798</td></tr><tr><td>7</td><td>746</td></tr><tr><td>2</td><td>559</td></tr><tr><td>1</td><td>138</td></tr><tr><td>5</td><td>54</td></tr><tr><td>3</td><td>24</td></tr></tbody></table></div>"
      ],
      "text/plain": [
       "shape: (7, 2)\n",
       "┌───────────────┬────────┐\n",
       "│ test_class_id ┆ counts │\n",
       "│ ---           ┆ ---    │\n",
       "│ i64           ┆ u32    │\n",
       "╞═══════════════╪════════╡\n",
       "│ 4             ┆ 39681  │\n",
       "│ 0             ┆ 8798   │\n",
       "│ 7             ┆ 746    │\n",
       "│ 2             ┆ 559    │\n",
       "│ 1             ┆ 138    │\n",
       "│ 5             ┆ 54     │\n",
       "│ 3             ┆ 24     │\n",
       "└───────────────┴────────┘"
      ]
     },
     "execution_count": 86,
     "metadata": {},
     "output_type": "execute_result"
    }
   ],
   "source": [
    "dfp.select('test_class_id').to_series().value_counts().sort(by='counts', descending=True)"
   ]
  },
  {
   "cell_type": "code",
   "execution_count": 87,
   "id": "681e4348-5578-49f0-afcb-8fdbed7712c1",
   "metadata": {
    "tags": []
   },
   "outputs": [],
   "source": [
    "#dfp.lazy().select('test_class_id').to_series().value_counts().sort(by='counts', descending=True).collect()\n",
    "# AttributeError: 'LazyFrame' object has no attribute 'to_series'"
   ]
  },
  {
   "cell_type": "code",
   "execution_count": 88,
   "id": "a1667c2d-d285-424f-9ce6-95c3854fcaf1",
   "metadata": {
    "tags": []
   },
   "outputs": [],
   "source": [
    "#dfp.lazy().select('test_class_id').value_counts().collect()\n",
    "# AttributeError: 'LazyFrame' object has no attribute 'value_counts'\n",
    "# https://github.com/pola-rs/polars/issues/8933"
   ]
  },
  {
   "cell_type": "code",
   "execution_count": 89,
   "id": "e45cdb4a-2169-4b9a-881d-6297e3bb78e5",
   "metadata": {
    "tags": []
   },
   "outputs": [],
   "source": [
    "#dfp.groupby(by='make').agg([pl.col('cylinder_capacity').count(), pl.col('cylinder_capacity').median()])\n",
    "\n",
    "#DuplicateError: column with name 'cylinder_capacity' has more than one occurrences\n",
    "#Error originated just after this operation:\n",
    "#DF [\"test_id\", \"vehicle_id\", \"test_date\", \"test_class_id\"]; PROJECT */14 COLUMNS; SELECTION: \"None\""
   ]
  },
  {
   "cell_type": "code",
   "execution_count": 90,
   "id": "b390baad-a419-4374-b9eb-c2477136371d",
   "metadata": {
    "tags": []
   },
   "outputs": [
    {
     "data": {
      "text/html": [
       "<div><style>\n",
       ".dataframe > thead > tr > th,\n",
       ".dataframe > tbody > tr > td {\n",
       "  text-align: right;\n",
       "}\n",
       "</style>\n",
       "<small>shape: (441, 3)</small><table border=\"1\" class=\"dataframe\"><thead><tr><th>make</th><th>cyl_size</th><th>cyl_median</th></tr><tr><td>str</td><td>u32</td><td>f64</td></tr></thead><tbody><tr><td>&quot;WOLSELEY&quot;</td><td>1</td><td>1489.0</td></tr><tr><td>&quot;LTI TAXI&quot;</td><td>1</td><td>null</td></tr><tr><td>&quot;CCM&quot;</td><td>1</td><td>null</td></tr><tr><td>&quot;HUSKY&quot;</td><td>1</td><td>null</td></tr><tr><td>&quot;VW BEETLE&quot;</td><td>1</td><td>null</td></tr><tr><td>&quot;306&quot;</td><td>1</td><td>null</td></tr><tr><td>&quot;LAND ROVER&quot;</td><td>804</td><td>2495.0</td></tr><tr><td>&quot;TOTOYA&quot;</td><td>1</td><td>null</td></tr><tr><td>&quot;MCC&quot;</td><td>8</td><td>599.0</td></tr><tr><td>&quot;VW&quot;</td><td>161</td><td>null</td></tr><tr><td>&quot;NISSAN MICRA&quot;</td><td>1</td><td>null</td></tr><tr><td>&quot;MESCEDES&quot;</td><td>1</td><td>null</td></tr><tr><td>&hellip;</td><td>&hellip;</td><td>&hellip;</td></tr><tr><td>&quot;VOLSWAGON&quot;</td><td>1</td><td>null</td></tr><tr><td>&quot;FERRARI&quot;</td><td>23</td><td>3586.0</td></tr><tr><td>&quot;COLT&quot;</td><td>1</td><td>2346.0</td></tr><tr><td>&quot;RENAUT&quot;</td><td>1</td><td>null</td></tr><tr><td>&quot;CITROEN SAXO&quot;</td><td>1</td><td>null</td></tr><tr><td>&quot;MITSUBIHI&quot;</td><td>1</td><td>2477.0</td></tr><tr><td>&quot;MCW&quot;</td><td>1</td><td>null</td></tr><tr><td>&quot;JEEP&quot;</td><td>105</td><td>3960.0</td></tr><tr><td>&quot;VAUXALL&quot;</td><td>3</td><td>null</td></tr><tr><td>&quot;SUBURU&quot;</td><td>1</td><td>null</td></tr><tr><td>&quot;AUID&quot;</td><td>1</td><td>2598.0</td></tr><tr><td>&quot;FAIT&quot;</td><td>6</td><td>null</td></tr></tbody></table></div>"
      ],
      "text/plain": [
       "shape: (441, 3)\n",
       "┌──────────┬──────────┬────────────┐\n",
       "│ make     ┆ cyl_size ┆ cyl_median │\n",
       "│ ---      ┆ ---      ┆ ---        │\n",
       "│ str      ┆ u32      ┆ f64        │\n",
       "╞══════════╪══════════╪════════════╡\n",
       "│ WOLSELEY ┆ 1        ┆ 1489.0     │\n",
       "│ LTI TAXI ┆ 1        ┆ null       │\n",
       "│ CCM      ┆ 1        ┆ null       │\n",
       "│ HUSKY    ┆ 1        ┆ null       │\n",
       "│ …        ┆ …        ┆ …          │\n",
       "│ VAUXALL  ┆ 3        ┆ null       │\n",
       "│ SUBURU   ┆ 1        ┆ null       │\n",
       "│ AUID     ┆ 1        ┆ 2598.0     │\n",
       "│ FAIT     ┆ 6        ┆ null       │\n",
       "└──────────┴──────────┴────────────┘"
      ]
     },
     "execution_count": 90,
     "metadata": {},
     "output_type": "execute_result"
    }
   ],
   "source": [
    "dfp.groupby(by='make').agg([pl.col('cylinder_capacity').count().alias('cyl_size'), pl.col('cylinder_capacity').median().alias('cyl_median')])"
   ]
  },
  {
   "cell_type": "code",
   "execution_count": 91,
   "id": "6be629cf-efeb-420d-880c-23075510bed3",
   "metadata": {
    "tags": []
   },
   "outputs": [
    {
     "data": {
      "text/plain": [
       "'2.0.1'"
      ]
     },
     "metadata": {},
     "output_type": "display_data"
    },
    {
     "data": {
      "text/plain": [
       "(50000, 14)"
      ]
     },
     "metadata": {},
     "output_type": "display_data"
    },
    {
     "data": {
      "text/html": [
       "<div>\n",
       "<style scoped>\n",
       "    .dataframe tbody tr th:only-of-type {\n",
       "        vertical-align: middle;\n",
       "    }\n",
       "\n",
       "    .dataframe tbody tr th {\n",
       "        vertical-align: top;\n",
       "    }\n",
       "\n",
       "    .dataframe thead th {\n",
       "        text-align: right;\n",
       "    }\n",
       "</style>\n",
       "<table border=\"1\" class=\"dataframe\">\n",
       "  <thead>\n",
       "    <tr style=\"text-align: right;\">\n",
       "      <th></th>\n",
       "      <th>test_id</th>\n",
       "      <th>vehicle_id</th>\n",
       "      <th>test_date</th>\n",
       "      <th>test_class_id</th>\n",
       "      <th>test_type</th>\n",
       "      <th>test_result</th>\n",
       "      <th>test_mileage</th>\n",
       "      <th>postcode_area</th>\n",
       "      <th>make</th>\n",
       "      <th>model</th>\n",
       "      <th>colour</th>\n",
       "      <th>fuel_type</th>\n",
       "      <th>cylinder_capacity</th>\n",
       "      <th>first_use_date</th>\n",
       "    </tr>\n",
       "  </thead>\n",
       "  <tbody>\n",
       "    <tr>\n",
       "      <th>0</th>\n",
       "      <td>804664368</td>\n",
       "      <td>256274986</td>\n",
       "      <td>2005-01-01</td>\n",
       "      <td>0</td>\n",
       "      <td>NT</td>\n",
       "      <td>P</td>\n",
       "      <td>23459</td>\n",
       "      <td>TF</td>\n",
       "      <td>FORD</td>\n",
       "      <td>UNCLASSIFIED</td>\n",
       "      <td>SILVER</td>\n",
       "      <td>PE</td>\n",
       "      <td>&lt;NA&gt;</td>\n",
       "      <td>NaT</td>\n",
       "    </tr>\n",
       "    <tr>\n",
       "      <th>1</th>\n",
       "      <td>392603376</td>\n",
       "      <td>633988704</td>\n",
       "      <td>2005-01-01</td>\n",
       "      <td>0</td>\n",
       "      <td>NT</td>\n",
       "      <td>P</td>\n",
       "      <td>40961</td>\n",
       "      <td>E</td>\n",
       "      <td>LOTUS</td>\n",
       "      <td>UNCLASSIFIED</td>\n",
       "      <td>RED</td>\n",
       "      <td>PE</td>\n",
       "      <td>&lt;NA&gt;</td>\n",
       "      <td>NaT</td>\n",
       "    </tr>\n",
       "    <tr>\n",
       "      <th>2</th>\n",
       "      <td>1894843206</td>\n",
       "      <td>1320781748</td>\n",
       "      <td>2005-01-01</td>\n",
       "      <td>0</td>\n",
       "      <td>NT</td>\n",
       "      <td>P</td>\n",
       "      <td>16416</td>\n",
       "      <td>S</td>\n",
       "      <td>VAUXHALL</td>\n",
       "      <td>UNCLASSIFIED</td>\n",
       "      <td>BLUE</td>\n",
       "      <td>PE</td>\n",
       "      <td>&lt;NA&gt;</td>\n",
       "      <td>NaT</td>\n",
       "    </tr>\n",
       "    <tr>\n",
       "      <th>3</th>\n",
       "      <td>830908928</td>\n",
       "      <td>1263031090</td>\n",
       "      <td>2005-01-01</td>\n",
       "      <td>4</td>\n",
       "      <td>NT</td>\n",
       "      <td>P</td>\n",
       "      <td>93318</td>\n",
       "      <td>W</td>\n",
       "      <td>LAND ROVER</td>\n",
       "      <td>109 V8 S.W.</td>\n",
       "      <td>BLUE</td>\n",
       "      <td>PE</td>\n",
       "      <td>3528</td>\n",
       "      <td>1981-04-06</td>\n",
       "    </tr>\n",
       "    <tr>\n",
       "      <th>4</th>\n",
       "      <td>727535460</td>\n",
       "      <td>1123257842</td>\n",
       "      <td>2005-01-01</td>\n",
       "      <td>4</td>\n",
       "      <td>NT</td>\n",
       "      <td>P</td>\n",
       "      <td>121930</td>\n",
       "      <td>RG</td>\n",
       "      <td>CITROEN</td>\n",
       "      <td>AX</td>\n",
       "      <td>WHITE</td>\n",
       "      <td>DI</td>\n",
       "      <td>1360</td>\n",
       "      <td>1993-08-31</td>\n",
       "    </tr>\n",
       "  </tbody>\n",
       "</table>\n",
       "</div>"
      ],
      "text/plain": [
       "      test_id  vehicle_id  test_date  test_class_id test_type test_result   \n",
       "0   804664368   256274986 2005-01-01              0        NT           P  \\\n",
       "1   392603376   633988704 2005-01-01              0        NT           P   \n",
       "2  1894843206  1320781748 2005-01-01              0        NT           P   \n",
       "3   830908928  1263031090 2005-01-01              4        NT           P   \n",
       "4   727535460  1123257842 2005-01-01              4        NT           P   \n",
       "\n",
       "   test_mileage postcode_area        make         model  colour fuel_type   \n",
       "0         23459            TF        FORD  UNCLASSIFIED  SILVER        PE  \\\n",
       "1         40961             E       LOTUS  UNCLASSIFIED     RED        PE   \n",
       "2         16416             S    VAUXHALL  UNCLASSIFIED    BLUE        PE   \n",
       "3         93318             W  LAND ROVER   109 V8 S.W.    BLUE        PE   \n",
       "4        121930            RG     CITROEN            AX   WHITE        DI   \n",
       "\n",
       "   cylinder_capacity first_use_date  \n",
       "0               <NA>            NaT  \n",
       "1               <NA>            NaT  \n",
       "2               <NA>            NaT  \n",
       "3               3528     1981-04-06  \n",
       "4               1360     1993-08-31  "
      ]
     },
     "execution_count": 91,
     "metadata": {},
     "output_type": "execute_result"
    }
   ],
   "source": [
    "import pandas as pd\n",
    "display(pd.__version__)\n",
    "path_pandas = \"/home/ian/workspace/personal/mot_pandas2_polars_dask/test_result.parquet/part.0.parquet\"\n",
    "df = pd.read_parquet(path_pandas).head(50_000)\n",
    "display(df.shape)\n",
    "df.head(5)"
   ]
  },
  {
   "cell_type": "code",
   "execution_count": 92,
   "id": "209d7a7e-135a-49ee-a478-f6a7b6e1226a",
   "metadata": {
    "tags": []
   },
   "outputs": [
    {
     "data": {
      "text/html": [
       "<div>\n",
       "<style scoped>\n",
       "    .dataframe tbody tr th:only-of-type {\n",
       "        vertical-align: middle;\n",
       "    }\n",
       "\n",
       "    .dataframe tbody tr th {\n",
       "        vertical-align: top;\n",
       "    }\n",
       "\n",
       "    .dataframe thead th {\n",
       "        text-align: right;\n",
       "    }\n",
       "</style>\n",
       "<table border=\"1\" class=\"dataframe\">\n",
       "  <thead>\n",
       "    <tr style=\"text-align: right;\">\n",
       "      <th></th>\n",
       "      <th>count</th>\n",
       "      <th>median</th>\n",
       "    </tr>\n",
       "    <tr>\n",
       "      <th>make</th>\n",
       "      <th></th>\n",
       "      <th></th>\n",
       "    </tr>\n",
       "  </thead>\n",
       "  <tbody>\n",
       "    <tr>\n",
       "      <th>306</th>\n",
       "      <td>0</td>\n",
       "      <td>&lt;NA&gt;</td>\n",
       "    </tr>\n",
       "    <tr>\n",
       "      <th>320</th>\n",
       "      <td>0</td>\n",
       "      <td>&lt;NA&gt;</td>\n",
       "    </tr>\n",
       "    <tr>\n",
       "      <th>620</th>\n",
       "      <td>0</td>\n",
       "      <td>&lt;NA&gt;</td>\n",
       "    </tr>\n",
       "    <tr>\n",
       "      <th>AC</th>\n",
       "      <td>1</td>\n",
       "      <td>1971</td>\n",
       "    </tr>\n",
       "    <tr>\n",
       "      <th>ACCENT</th>\n",
       "      <td>0</td>\n",
       "      <td>&lt;NA&gt;</td>\n",
       "    </tr>\n",
       "    <tr>\n",
       "      <th>...</th>\n",
       "      <td>...</td>\n",
       "      <td>...</td>\n",
       "    </tr>\n",
       "    <tr>\n",
       "      <th>WOLSELEY</th>\n",
       "      <td>1</td>\n",
       "      <td>1489</td>\n",
       "    </tr>\n",
       "    <tr>\n",
       "      <th>WOLSWAGEN</th>\n",
       "      <td>0</td>\n",
       "      <td>&lt;NA&gt;</td>\n",
       "    </tr>\n",
       "    <tr>\n",
       "      <th>YAMAHA</th>\n",
       "      <td>123</td>\n",
       "      <td>599</td>\n",
       "    </tr>\n",
       "    <tr>\n",
       "      <th>YOYOTA</th>\n",
       "      <td>0</td>\n",
       "      <td>&lt;NA&gt;</td>\n",
       "    </tr>\n",
       "    <tr>\n",
       "      <th>YUGO</th>\n",
       "      <td>1</td>\n",
       "      <td>1116</td>\n",
       "    </tr>\n",
       "  </tbody>\n",
       "</table>\n",
       "<p>441 rows × 2 columns</p>\n",
       "</div>"
      ],
      "text/plain": [
       "           count  median\n",
       "make                    \n",
       "306            0    <NA>\n",
       "320            0    <NA>\n",
       "620            0    <NA>\n",
       "AC             1    1971\n",
       "ACCENT         0    <NA>\n",
       "...          ...     ...\n",
       "WOLSELEY       1    1489\n",
       "WOLSWAGEN      0    <NA>\n",
       "YAMAHA       123     599\n",
       "YOYOTA         0    <NA>\n",
       "YUGO           1    1116\n",
       "\n",
       "[441 rows x 2 columns]"
      ]
     },
     "execution_count": 92,
     "metadata": {},
     "output_type": "execute_result"
    }
   ],
   "source": [
    "df.groupby('make')['cylinder_capacity'].agg(['count', 'median'])"
   ]
  },
  {
   "cell_type": "code",
   "execution_count": 93,
   "id": "550a11cb-afe5-4d54-808d-af064ed0eaa1",
   "metadata": {
    "tags": []
   },
   "outputs": [
    {
     "name": "stdout",
     "output_type": "stream",
     "text": [
      "<class 'pandas.core.frame.DataFrame'>\n",
      "RangeIndex: 50000 entries, 0 to 49999\n",
      "Data columns (total 14 columns):\n",
      " #   Column             Non-Null Count  Dtype         \n",
      "---  ------             --------------  -----         \n",
      " 0   test_id            50000 non-null  int64[pyarrow]\n",
      " 1   vehicle_id         50000 non-null  int64[pyarrow]\n",
      " 2   test_date          50000 non-null  datetime64[ns]\n",
      " 3   test_class_id      50000 non-null  int64[pyarrow]\n",
      " 4   test_type          50000 non-null  string        \n",
      " 5   test_result        50000 non-null  string        \n",
      " 6   test_mileage       48994 non-null  int64[pyarrow]\n",
      " 7   postcode_area      50000 non-null  string        \n",
      " 8   make               50000 non-null  string        \n",
      " 9   model              49999 non-null  string        \n",
      " 10  colour             50000 non-null  string        \n",
      " 11  fuel_type          50000 non-null  string        \n",
      " 12  cylinder_capacity  41112 non-null  int64[pyarrow]\n",
      " 13  first_use_date     44000 non-null  datetime64[ns]\n",
      "dtypes: datetime64[ns](2), int64[pyarrow](5), string(7)\n",
      "memory usage: 5.2 MB\n"
     ]
    }
   ],
   "source": [
    "df.info()"
   ]
  },
  {
   "cell_type": "code",
   "execution_count": 103,
   "id": "8f4a30e2-ee10-415b-849e-5f259426a328",
   "metadata": {
    "tags": []
   },
   "outputs": [
    {
     "data": {
      "text/plain": [
       "test_date\n",
       "6     198\n",
       "5    4963\n",
       "0    8051\n",
       "1    8216\n",
       "2    9003\n",
       "3    9589\n",
       "4    9980\n",
       "Name: count, dtype: int64"
      ]
     },
     "execution_count": 103,
     "metadata": {},
     "output_type": "execute_result"
    }
   ],
   "source": [
    "df['test_date'].dt.day_of_week.value_counts(ascending=True)"
   ]
  },
  {
   "cell_type": "code",
   "execution_count": 94,
   "id": "d2810bd9-723e-4775-b12e-7fde071688ba",
   "metadata": {
    "tags": []
   },
   "outputs": [
    {
     "data": {
      "text/plain": [
       "test_date\n",
       "0    8051\n",
       "1    8216\n",
       "2    9003\n",
       "3    9589\n",
       "4    9980\n",
       "5    4963\n",
       "6     198\n",
       "Name: count, dtype: int64"
      ]
     },
     "execution_count": 94,
     "metadata": {},
     "output_type": "execute_result"
    }
   ],
   "source": [
    "#https://pandas.pydata.org/docs/reference/api/pandas.Series.dt.dayofweek.html#pandas.Series.dt.dayofweek\n",
    "#https://pandas.pydata.org/docs/reference/api/pandas.DatetimeIndex.dayofweek.html\n",
    "df['test_date'].dt.day_of_week.value_counts().sort_index()"
   ]
  },
  {
   "cell_type": "code",
   "execution_count": 117,
   "id": "b10525c8-72d8-4111-b2c4-de33ad57db7e",
   "metadata": {
    "tags": []
   },
   "outputs": [
    {
     "data": {
      "text/html": [
       "<div><style>\n",
       ".dataframe > thead > tr > th,\n",
       ".dataframe > tbody > tr > td {\n",
       "  text-align: right;\n",
       "}\n",
       "</style>\n",
       "<small>shape: (7, 2)</small><table border=\"1\" class=\"dataframe\"><thead><tr><th>test_date</th><th>counts</th></tr><tr><td>u32</td><td>u32</td></tr></thead><tbody><tr><td>5</td><td>9980</td></tr><tr><td>4</td><td>9589</td></tr><tr><td>3</td><td>9003</td></tr><tr><td>2</td><td>8216</td></tr><tr><td>1</td><td>8051</td></tr><tr><td>6</td><td>4963</td></tr><tr><td>7</td><td>198</td></tr></tbody></table></div>"
      ],
      "text/plain": [
       "shape: (7, 2)\n",
       "┌───────────┬────────┐\n",
       "│ test_date ┆ counts │\n",
       "│ ---       ┆ ---    │\n",
       "│ u32       ┆ u32    │\n",
       "╞═══════════╪════════╡\n",
       "│ 5         ┆ 9980   │\n",
       "│ 4         ┆ 9589   │\n",
       "│ 3         ┆ 9003   │\n",
       "│ 2         ┆ 8216   │\n",
       "│ 1         ┆ 8051   │\n",
       "│ 6         ┆ 4963   │\n",
       "│ 7         ┆ 198    │\n",
       "└───────────┴────────┘"
      ]
     },
     "execution_count": 117,
     "metadata": {},
     "output_type": "execute_result"
    }
   ],
   "source": [
    "# https://pola-rs.github.io/polars/py-polars/html/reference/expressions/api/polars.Expr.dt.weekday.html\n",
    "# https://arrow.apache.org/docs/python/generated/pyarrow.compute.day_of_week.html\n",
    "dfp.select('test_date').with_columns(pl.col('test_date').dt.weekday()).to_series().value_counts(sort=True)"
   ]
  },
  {
   "cell_type": "code",
   "execution_count": 113,
   "id": "d5e37811-a502-44fa-92d8-19db96185b4e",
   "metadata": {
    "tags": []
   },
   "outputs": [
    {
     "data": {
      "text/html": [
       "<div><style>\n",
       ".dataframe > thead > tr > th,\n",
       ".dataframe > tbody > tr > td {\n",
       "  text-align: right;\n",
       "}\n",
       "</style>\n",
       "<small>shape: (7, 2)</small><table border=\"1\" class=\"dataframe\"><thead><tr><th>day</th><th>counts</th></tr><tr><td>u32</td><td>u32</td></tr></thead><tbody><tr><td>5</td><td>9980</td></tr><tr><td>4</td><td>9589</td></tr><tr><td>3</td><td>9003</td></tr><tr><td>2</td><td>8216</td></tr><tr><td>1</td><td>8051</td></tr><tr><td>6</td><td>4963</td></tr><tr><td>7</td><td>198</td></tr></tbody></table></div>"
      ],
      "text/plain": [
       "shape: (7, 2)\n",
       "┌─────┬────────┐\n",
       "│ day ┆ counts │\n",
       "│ --- ┆ ---    │\n",
       "│ u32 ┆ u32    │\n",
       "╞═════╪════════╡\n",
       "│ 5   ┆ 9980   │\n",
       "│ 4   ┆ 9589   │\n",
       "│ 3   ┆ 9003   │\n",
       "│ 2   ┆ 8216   │\n",
       "│ 1   ┆ 8051   │\n",
       "│ 6   ┆ 4963   │\n",
       "│ 7   ┆ 198    │\n",
       "└─────┴────────┘"
      ]
     },
     "execution_count": 113,
     "metadata": {},
     "output_type": "execute_result"
    }
   ],
   "source": [
    "dfp.with_columns(pl.col('test_date').dt.weekday().alias('day')).select('day').to_series()\\\n",
    ".value_counts().sort(by='counts', descending=True)"
   ]
  },
  {
   "cell_type": "code",
   "execution_count": null,
   "id": "b9c9c9d3-55cf-48e1-ac79-d643a3df2ebf",
   "metadata": {},
   "outputs": [],
   "source": [
    "dfp.with_columns(pl.col('test_date').dt.weekday().alias('day')).select('day').to_series()\\\n",
    ".value_counts().sort(by='counts', descending=True)"
   ]
  }
 ],
 "metadata": {
  "kernelspec": {
   "display_name": "Python 3 (ipykernel)",
   "language": "python",
   "name": "python3"
  },
  "language_info": {
   "codemirror_mode": {
    "name": "ipython",
    "version": 3
   },
   "file_extension": ".py",
   "mimetype": "text/x-python",
   "name": "python",
   "nbconvert_exporter": "python",
   "pygments_lexer": "ipython3",
   "version": "3.11.3"
  }
 },
 "nbformat": 4,
 "nbformat_minor": 5
}
