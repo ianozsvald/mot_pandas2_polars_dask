{
 "cells": [
  {
   "cell_type": "markdown",
   "metadata": {},
   "source": [
    "# Try arrow vs numpy on some ops?"
   ]
  },
  {
   "cell_type": "code",
   "execution_count": 1,
   "metadata": {},
   "outputs": [
    {
     "data": {
      "text/plain": [
       "'Pandas 2.1.3'"
      ]
     },
     "metadata": {},
     "output_type": "display_data"
    },
    {
     "data": {
      "text/plain": [
       "'Running: 20231206 16:03:12, env pydataglobal2023'"
      ]
     },
     "metadata": {},
     "output_type": "display_data"
    },
    {
     "name": "stdout",
     "output_type": "stream",
     "text": [
      "Enabling IPython Memory Usage, use %imu_start to begin, %imu_stop to end\n"
     ]
    },
    {
     "data": {
      "text/plain": [
       "'IPython Memory Usage started'"
      ]
     },
     "execution_count": 1,
     "metadata": {},
     "output_type": "execute_result"
    },
    {
     "name": "stdout",
     "output_type": "stream",
     "text": [
      "In [1] used 0.2 MiB RAM in 0.11s (system mean cpu 0%, single max cpu 0%), peaked 0.0 MiB above final usage, current RAM usage now 149.3 MiB\n"
     ]
    }
   ],
   "source": [
    "import pandas as pd\n",
    "import numpy as np\n",
    "import polars as pl\n",
    "#%load_ext autoreload\n",
    "#%autoreload 2\n",
    "\n",
    "import datetime, os\n",
    "display(f\"Pandas {pd.__version__}\")\n",
    "display(f'Running: {datetime.datetime.now().strftime(\"%Y%m%d %H:%M:%S\")}, env {os.getenv(\"CONDA_DEFAULT_ENV\")}')\n",
    "\n",
    "\n",
    "%load_ext ipython_memory_usage\n",
    "%imu_start"
   ]
  },
  {
   "cell_type": "code",
   "execution_count": 17,
   "metadata": {},
   "outputs": [
    {
     "data": {
      "text/plain": [
       "'8,000.0 MB'"
      ]
     },
     "execution_count": 17,
     "metadata": {},
     "output_type": "execute_result"
    },
    {
     "name": "stdout",
     "output_type": "stream",
     "text": [
      "In [17] used -2802.0 MiB RAM in 3.28s (system mean cpu 15%, single max cpu 100%), peaked 7684.1 MiB above final usage, current RAM usage now 42263.3 MiB\n"
     ]
    }
   ],
   "source": [
    "arr = np.ones((500_000_000, 2), dtype=np.float64)\n",
    "f\"{(arr.nbytes)/1000000:,} MB\""
   ]
  },
  {
   "cell_type": "code",
   "execution_count": 8,
   "metadata": {},
   "outputs": [
    {
     "data": {
      "text/html": [
       "<div><style>\n",
       ".dataframe > thead > tr,\n",
       ".dataframe > tbody > tr {\n",
       "  text-align: right;\n",
       "  white-space: pre-wrap;\n",
       "}\n",
       "</style>\n",
       "<small>shape: (5, 2)</small><table border=\"1\" class=\"dataframe\"><thead><tr><th>column_0</th><th>column_1</th></tr><tr><td>f64</td><td>f64</td></tr></thead><tbody><tr><td>1.0</td><td>1.0</td></tr><tr><td>1.0</td><td>1.0</td></tr><tr><td>1.0</td><td>1.0</td></tr><tr><td>1.0</td><td>1.0</td></tr><tr><td>1.0</td><td>1.0</td></tr></tbody></table></div>"
      ],
      "text/plain": [
       "shape: (5, 2)\n",
       "┌──────────┬──────────┐\n",
       "│ column_0 ┆ column_1 │\n",
       "│ ---      ┆ ---      │\n",
       "│ f64      ┆ f64      │\n",
       "╞══════════╪══════════╡\n",
       "│ 1.0      ┆ 1.0      │\n",
       "│ 1.0      ┆ 1.0      │\n",
       "│ 1.0      ┆ 1.0      │\n",
       "│ 1.0      ┆ 1.0      │\n",
       "│ 1.0      ┆ 1.0      │\n",
       "└──────────┴──────────┘"
      ]
     },
     "execution_count": 8,
     "metadata": {},
     "output_type": "execute_result"
    },
    {
     "name": "stdout",
     "output_type": "stream",
     "text": [
      "In [8] used 7629.5 MiB RAM in 3.44s (system mean cpu 14%, single max cpu 100%), peaked 0.0 MiB above final usage, current RAM usage now 38300.2 MiB\n"
     ]
    }
   ],
   "source": [
    "dfpla = pl.DataFrame(arr)\n",
    "dfpla.head()\n",
    "#  7632.1 MiB RAM in 3s , so polars needs to copy arr into arrow format ??\n",
    "# 7GB 3s float64"
   ]
  },
  {
   "cell_type": "code",
   "execution_count": 21,
   "metadata": {},
   "outputs": [
    {
     "name": "stdout",
     "output_type": "stream",
     "text": [
      "In [21] used 7629.0 MiB RAM in 2.19s (system mean cpu 18%, single max cpu 100%), peaked 0.0 MiB above final usage, current RAM usage now 42264.5 MiB\n"
     ]
    }
   ],
   "source": [
    "dfpdn2 = dfpla.to_pandas() # costs 5GB and 3s"
   ]
  },
  {
   "cell_type": "code",
   "execution_count": 22,
   "metadata": {},
   "outputs": [
    {
     "name": "stdout",
     "output_type": "stream",
     "text": [
      "<class 'pandas.core.frame.DataFrame'>\n",
      "RangeIndex: 500000000 entries, 0 to 499999999\n",
      "Data columns (total 2 columns):\n",
      " #   Column    Dtype  \n",
      "---  ------    -----  \n",
      " 0   column_0  float64\n",
      " 1   column_1  float64\n",
      "dtypes: float64(2)\n",
      "memory usage: 7.5 GB\n",
      "In [22] used 0.0 MiB RAM in 0.10s (system mean cpu 9%, single max cpu 44%), peaked 0.0 MiB above final usage, current RAM usage now 42264.5 MiB\n"
     ]
    }
   ],
   "source": [
    "dfpdn2.info()"
   ]
  },
  {
   "cell_type": "code",
   "execution_count": 20,
   "metadata": {},
   "outputs": [
    {
     "name": "stdout",
     "output_type": "stream",
     "text": [
      "<class 'pandas.core.frame.DataFrame'>\n",
      "RangeIndex: 500000000 entries, 0 to 499999999\n",
      "Data columns (total 2 columns):\n",
      " #   Column    Dtype          \n",
      "---  ------    -----          \n",
      " 0   column_0  double[pyarrow]\n",
      " 1   column_1  double[pyarrow]\n",
      "dtypes: double[pyarrow](2)\n",
      "memory usage: 7.5 GB\n",
      "In [20] used -7628.5 MiB RAM in 0.42s (system mean cpu 5%, single max cpu 7%), peaked 7628.6 MiB above final usage, current RAM usage now 34635.5 MiB\n"
     ]
    }
   ],
   "source": [
    "dfpda2 = dfpla.to_pandas(use_pyarrow_extension_array=True)\n",
    "dfpda2.info()"
   ]
  },
  {
   "cell_type": "code",
   "execution_count": 14,
   "metadata": {},
   "outputs": [
    {
     "data": {
      "text/plain": [
       "'8,000,000,000 bytes'"
      ]
     },
     "execution_count": 14,
     "metadata": {},
     "output_type": "execute_result"
    },
    {
     "name": "stdout",
     "output_type": "stream",
     "text": [
      "In [14] used 0.0 MiB RAM in 0.10s (system mean cpu 9%, single max cpu 18%), peaked 0.0 MiB above final usage, current RAM usage now 49755.6 MiB\n"
     ]
    }
   ],
   "source": [
    "f\"{arr[:, 0].data.nbytes:,} bytes\" # 4GB"
   ]
  },
  {
   "cell_type": "code",
   "execution_count": 10,
   "metadata": {},
   "outputs": [
    {
     "data": {
      "text/plain": [
       "<pyarrow.lib.DoubleArray object at 0x7fa5149fa740>\n",
       "[\n",
       "  1,\n",
       "  1,\n",
       "  1\n",
       "]"
      ]
     },
     "execution_count": 10,
     "metadata": {},
     "output_type": "execute_result"
    },
    {
     "name": "stdout",
     "output_type": "stream",
     "text": [
      "In [10] used 3814.9 MiB RAM in 2.07s (system mean cpu 15%, single max cpu 100%), peaked 0.0 MiB above final usage, current RAM usage now 49747.7 MiB\n"
     ]
    }
   ],
   "source": [
    "import pyarrow as pa\n",
    "#pa.array(arr) # only 1d arrays!\n",
    "arrpa = pa.array(arr[:, 0]) # only 1d arrays!  used 3814.8 MiB RAM in 2.28s , float and int same\n",
    "arrpa[:3]"
   ]
  },
  {
   "cell_type": "code",
   "execution_count": 18,
   "metadata": {},
   "outputs": [
    {
     "data": {
      "text/plain": [
       "array([1., 1., 1., ..., 1., 1., 1.])"
      ]
     },
     "execution_count": 18,
     "metadata": {},
     "output_type": "execute_result"
    },
    {
     "name": "stdout",
     "output_type": "stream",
     "text": [
      "In [18] used 0.1 MiB RAM in 0.11s (system mean cpu 5%, single max cpu 9%), peaked 0.0 MiB above final usage, current RAM usage now 42263.4 MiB\n"
     ]
    }
   ],
   "source": [
    "arrpa.to_numpy()"
   ]
  },
  {
   "cell_type": "code",
   "execution_count": null,
   "metadata": {},
   "outputs": [],
   "source": []
  }
 ],
 "metadata": {
  "kernelspec": {
   "display_name": "pydataglobal2023",
   "language": "python",
   "name": "python3"
  },
  "language_info": {
   "codemirror_mode": {
    "name": "ipython",
    "version": 3
   },
   "file_extension": ".py",
   "mimetype": "text/x-python",
   "name": "python",
   "nbconvert_exporter": "python",
   "pygments_lexer": "ipython3",
   "version": "3.11.5"
  }
 },
 "nbformat": 4,
 "nbformat_minor": 2
}
