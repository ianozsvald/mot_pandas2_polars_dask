{
 "cells": [
  {
   "cell_type": "markdown",
   "id": "37836209-2460-4987-bbcc-4173ff38d19a",
   "metadata": {},
   "source": [
    "# Pandas groupby on parquet with numpy vs arrow"
   ]
  },
  {
   "cell_type": "code",
   "execution_count": 1,
   "id": "6c37341c-15e6-4ffd-a652-07532db9ae14",
   "metadata": {
    "tags": []
   },
   "outputs": [
    {
     "data": {
      "text/plain": [
       "'Pandas 2.0.1, Polars 0.17.10'"
      ]
     },
     "metadata": {},
     "output_type": "display_data"
    },
    {
     "name": "stdout",
     "output_type": "stream",
     "text": [
      "In [1] used 0.0 MiB RAM in 0.10s (system mean cpu 0%, single max cpu 0%), peaked 0.0 MiB above final usage, current RAM usage now 207.7 MiB\n"
     ]
    }
   ],
   "source": [
    "import pandas as pd\n",
    "import polars as pl\n",
    "from humanfriendly import format_size, format_number\n",
    "from simpler_mpl import set_commas, set_common_mpl_styles\n",
    "import matplotlib.pyplot as plt\n",
    "import seaborn as sns\n",
    "\n",
    "%load_ext autoreload\n",
    "%autoreload 2\n",
    "\n",
    "display(f\"Pandas {pd.__version__}, Polars {pl.__version__}\")\n",
    "\n",
    "from cell_profiler import cell_profiler as cp\n",
    "%start_cell_profiler\n",
    "\n",
    "def show_rows_memory(df, deep=False):\n",
    "    \"\"\"\n",
    "    Show rows and memory cost of a Pandas/Polars dataframe\n",
    "    `deep=True` only has an impact on Pandas numpy-backed string columns, which otherwise are undercounted\n",
    "    \"\"\"\n",
    "    num_bytes = 0\n",
    "    df_type = 'Unknown'\n",
    "    try:\n",
    "        num_bytes = df.estimated_size() # try Polars\n",
    "        df_type = 'Polars'\n",
    "    except AttributeError:\n",
    "        pass\n",
    "    try:\n",
    "        num_bytes = df.memory_usage(deep=deep, index=False).sum() # try Pandas\n",
    "        df_type = 'Pandas'\n",
    "    except AttributeError:\n",
    "        pass\n",
    "    display(f\"{df_type} df with {format_number(df.shape[0])} rows, {format_size(num_bytes)} bytes\")"
   ]
  },
  {
   "cell_type": "code",
   "execution_count": 2,
   "id": "971c0090-0dcc-419c-a5de-089566c3ee04",
   "metadata": {
    "tags": []
   },
   "outputs": [
    {
     "name": "stdout",
     "output_type": "stream",
     "text": [
      "In [2] used 12897.0 MiB RAM in 8.97s (system mean cpu 41%, single max cpu 100%), peaked 3500.9 MiB above final usage, current RAM usage now 13104.7 MiB\n"
     ]
    }
   ],
   "source": [
    "dfpda = pd.read_parquet('../test_result_2021on.parquet', dtype_backend=\"pyarrow\")"
   ]
  },
  {
   "cell_type": "code",
   "execution_count": 15,
   "id": "4e53bfc3-c26b-4e8e-b182-a3d36c121e2d",
   "metadata": {
    "tags": []
   },
   "outputs": [
    {
     "name": "stdout",
     "output_type": "stream",
     "text": [
      "<class 'pandas.core.frame.DataFrame'>\n",
      "RangeIndex: 82012245 entries, 0 to 82012244\n",
      "Data columns (total 14 columns):\n",
      " #   Column             Dtype                 \n",
      "---  ------             -----                 \n",
      " 0   test_id            int64[pyarrow]        \n",
      " 1   vehicle_id         int64[pyarrow]        \n",
      " 2   test_date          timestamp[ns][pyarrow]\n",
      " 3   test_class_id      int64[pyarrow]        \n",
      " 4   test_type          large_string[pyarrow] \n",
      " 5   test_result        large_string[pyarrow] \n",
      " 6   test_mileage       int64[pyarrow]        \n",
      " 7   postcode_area      large_string[pyarrow] \n",
      " 8   make               large_string[pyarrow] \n",
      " 9   model              large_string[pyarrow] \n",
      " 10  colour             large_string[pyarrow] \n",
      " 11  fuel_type          large_string[pyarrow] \n",
      " 12  cylinder_capacity  int64[pyarrow]        \n",
      " 13  first_use_date     timestamp[ns][pyarrow]\n",
      "dtypes: int64[pyarrow](5), large_string[pyarrow](7), timestamp[ns][pyarrow](2)\n",
      "memory usage: 10.4 GB\n",
      "In [15] used 4.7 MiB RAM in 1.33s (system mean cpu 5%, single max cpu 12%), peaked 0.0 MiB above final usage, current RAM usage now 36929.1 MiB\n"
     ]
    }
   ],
   "source": [
    "dfpda.info()"
   ]
  },
  {
   "cell_type": "code",
   "execution_count": 3,
   "id": "1f390200-d99a-4f34-a868-b5769e7b5978",
   "metadata": {
    "tags": []
   },
   "outputs": [
    {
     "data": {
      "text/plain": [
       "242604"
      ]
     },
     "execution_count": 3,
     "metadata": {},
     "output_type": "execute_result"
    },
    {
     "name": "stdout",
     "output_type": "stream",
     "text": [
      "In [3] used 25.0 MiB RAM in 0.82s (system mean cpu 8%, single max cpu 100%), peaked 0.7 MiB above final usage, current RAM usage now 13129.7 MiB\n"
     ]
    }
   ],
   "source": [
    "mask = dfpda['cylinder_capacity'].isna()\n",
    "mask.sum() # nbr of rows to remove"
   ]
  },
  {
   "cell_type": "code",
   "execution_count": 4,
   "id": "f4b654c0-39e9-4955-9ccf-e4ebcc73ccb5",
   "metadata": {
    "tags": []
   },
   "outputs": [
    {
     "data": {
      "text/plain": [
       "(81769641, 14)"
      ]
     },
     "execution_count": 4,
     "metadata": {},
     "output_type": "execute_result"
    },
    {
     "name": "stdout",
     "output_type": "stream",
     "text": [
      "In [4] used 11957.8 MiB RAM in 19.32s (system mean cpu 8%, single max cpu 100%), peaked 1311.0 MiB above final usage, current RAM usage now 25087.5 MiB\n"
     ]
    }
   ],
   "source": [
    "df_nonan_cylcap = dfpda[~mask]\n",
    "df_nonan_cylcap.shape"
   ]
  },
  {
   "cell_type": "code",
   "execution_count": 11,
   "id": "71ca3e0f-9554-44fe-96e7-5f731a31d8cb",
   "metadata": {
    "tags": []
   },
   "outputs": [
    {
     "name": "stdout",
     "output_type": "stream",
     "text": [
      "In [11] used -0.0 MiB RAM in 0.10s (system mean cpu 0%, single max cpu 0%), peaked 0.0 MiB above final usage, current RAM usage now 36922.8 MiB\n"
     ]
    }
   ],
   "source": [
    "#agg_result = df_nonan_cylcap.groupby('make')['cylinder_capacity'].agg(['median', 'size'])\n",
    "#agg_result.query('size > 10').sort_values('median')\n",
    "#agg_result.query('size == 1').sort_index()"
   ]
  },
  {
   "cell_type": "code",
   "execution_count": 20,
   "id": "2c4aae1c-dca2-4c53-be89-ae0500dca03a",
   "metadata": {
    "tags": []
   },
   "outputs": [
    {
     "name": "stdout",
     "output_type": "stream",
     "text": [
      "In [20] used -0.1 MiB RAM in 0.10s (system mean cpu 0%, single max cpu 0%), peaked 0.0 MiB above final usage, current RAM usage now 36919.4 MiB\n"
     ]
    }
   ],
   "source": [
    "#mask = dfpda.make.str.startswith('TESLA')\n",
    "#dfpda[mask] # so TESLA 40k rows, but NA cylinder_capacity and fuel_type Electric or EL!"
   ]
  },
  {
   "cell_type": "code",
   "execution_count": 28,
   "id": "e70cc7d3-4407-4644-bd4a-c2fe06d0e189",
   "metadata": {
    "tags": []
   },
   "outputs": [
    {
     "name": "stdout",
     "output_type": "stream",
     "text": [
      "CPU times: user 12.4 s, sys: 6.33 s, total: 18.7 s\n",
      "Wall time: 18.6 s\n"
     ]
    },
    {
     "data": {
      "text/html": [
       "<div>\n",
       "<style scoped>\n",
       "    .dataframe tbody tr th:only-of-type {\n",
       "        vertical-align: middle;\n",
       "    }\n",
       "\n",
       "    .dataframe tbody tr th {\n",
       "        vertical-align: top;\n",
       "    }\n",
       "\n",
       "    .dataframe thead th {\n",
       "        text-align: right;\n",
       "    }\n",
       "</style>\n",
       "<table border=\"1\" class=\"dataframe\">\n",
       "  <thead>\n",
       "    <tr style=\"text-align: right;\">\n",
       "      <th></th>\n",
       "      <th>median</th>\n",
       "      <th>count</th>\n",
       "    </tr>\n",
       "    <tr>\n",
       "      <th>make</th>\n",
       "      <th></th>\n",
       "      <th></th>\n",
       "    </tr>\n",
       "  </thead>\n",
       "  <tbody>\n",
       "    <tr>\n",
       "      <th>TESLA</th>\n",
       "      <td>0.0</td>\n",
       "      <td>16</td>\n",
       "    </tr>\n",
       "    <tr>\n",
       "      <th>VECTRIX</th>\n",
       "      <td>4.0</td>\n",
       "      <td>13</td>\n",
       "    </tr>\n",
       "    <tr>\n",
       "      <th>CPI</th>\n",
       "      <td>49.0</td>\n",
       "      <td>563</td>\n",
       "    </tr>\n",
       "    <tr>\n",
       "      <th>MOTOBI</th>\n",
       "      <td>49.0</td>\n",
       "      <td>54</td>\n",
       "    </tr>\n",
       "    <tr>\n",
       "      <th>MOTOR HISPANIA</th>\n",
       "      <td>49.0</td>\n",
       "      <td>92</td>\n",
       "    </tr>\n",
       "    <tr>\n",
       "      <th>...</th>\n",
       "      <td>...</td>\n",
       "      <td>...</td>\n",
       "    </tr>\n",
       "    <tr>\n",
       "      <th>ERF</th>\n",
       "      <td>10000.0</td>\n",
       "      <td>30</td>\n",
       "    </tr>\n",
       "    <tr>\n",
       "      <th>LEYLAND NATIONAL</th>\n",
       "      <td>10450.0</td>\n",
       "      <td>15</td>\n",
       "    </tr>\n",
       "    <tr>\n",
       "      <th>NEOPLAN</th>\n",
       "      <td>12609.5</td>\n",
       "      <td>18</td>\n",
       "    </tr>\n",
       "    <tr>\n",
       "      <th>KENWORTH</th>\n",
       "      <td>14000.0</td>\n",
       "      <td>11</td>\n",
       "    </tr>\n",
       "    <tr>\n",
       "      <th>SETRA</th>\n",
       "      <td>14618.0</td>\n",
       "      <td>19</td>\n",
       "    </tr>\n",
       "  </tbody>\n",
       "</table>\n",
       "<p>1275 rows × 2 columns</p>\n",
       "</div>"
      ],
      "text/plain": [
       "                   median  count\n",
       "make                            \n",
       "TESLA                 0.0     16\n",
       "VECTRIX               4.0     13\n",
       "CPI                  49.0    563\n",
       "MOTOBI               49.0     54\n",
       "MOTOR HISPANIA       49.0     92\n",
       "...                   ...    ...\n",
       "ERF               10000.0     30\n",
       "LEYLAND NATIONAL  10450.0     15\n",
       "NEOPLAN           12609.5     18\n",
       "KENWORTH          14000.0     11\n",
       "SETRA             14618.0     19\n",
       "\n",
       "[1275 rows x 2 columns]"
      ]
     },
     "execution_count": 28,
     "metadata": {},
     "output_type": "execute_result"
    },
    {
     "name": "stdout",
     "output_type": "stream",
     "text": [
      "In [28] used 2.9 MiB RAM in 18.71s (system mean cpu 10%, single max cpu 100%), peaked 15199.8 MiB above final usage, current RAM usage now 19595.9 MiB\n"
     ]
    }
   ],
   "source": [
    "%%time\n",
    "\n",
    "#result = dfpda[~dfpda['cylinder_capacity'].isna()] \\ # same speed\n",
    "\n",
    "result = dfpda.dropna(subset=['cylinder_capacity']) \\\n",
    ".groupby('make')['cylinder_capacity'].agg(['median', 'count']) \\\n",
    ".query('count > 10').sort_values('median')\n",
    "result"
   ]
  },
  {
   "cell_type": "code",
   "execution_count": 29,
   "id": "9912eeef-4ffd-4ba6-a228-e7bc7e1c1d11",
   "metadata": {
    "tags": []
   },
   "outputs": [
    {
     "name": "stdout",
     "output_type": "stream",
     "text": [
      "In [29] used 0.0 MiB RAM in 0.10s (system mean cpu 0%, single max cpu 0%), peaked 0.0 MiB above final usage, current RAM usage now 19595.9 MiB\n"
     ]
    }
   ],
   "source": [
    "assert result.loc['ROLLS ROYCE']['median'] == 6749.0\n",
    "assert result.loc['ROLLS ROYCE']['count'] == 11741.0"
   ]
  },
  {
   "cell_type": "code",
   "execution_count": 31,
   "id": "8cee2bbb-6023-4ba5-b5e6-6cb08dec1d68",
   "metadata": {
    "tags": []
   },
   "outputs": [
    {
     "name": "stdout",
     "output_type": "stream",
     "text": [
      "In [31] used 0.0 MiB RAM in 0.10s (system mean cpu 0%, single max cpu 0%), peaked 0.0 MiB above final usage, current RAM usage now 19595.9 MiB\n"
     ]
    }
   ],
   "source": [
    "#mask = result.index.str.startswith('ROLL')\n",
    "#result[mask]"
   ]
  },
  {
   "cell_type": "markdown",
   "id": "ec8602e0-6d19-4f5e-aa76-323223258cd0",
   "metadata": {},
   "source": [
    "# Repeat for numpy equivalent"
   ]
  },
  {
   "cell_type": "code",
   "execution_count": 9,
   "id": "25489f14-335b-4f06-8957-2aaf9857401e",
   "metadata": {
    "tags": []
   },
   "outputs": [
    {
     "name": "stdout",
     "output_type": "stream",
     "text": [
      "In [9] used 22793.9 MiB RAM in 27.27s (system mean cpu 22%, single max cpu 100%), peaked 665.8 MiB above final usage, current RAM usage now 47895.8 MiB\n"
     ]
    }
   ],
   "source": [
    "dfpdn = pd.read_parquet('../test_result_2021on.parquet', dtype_backend=\"numpy_nullable\")"
   ]
  },
  {
   "cell_type": "code",
   "execution_count": 34,
   "id": "ba05bf8e-8e9e-4140-a4f3-ce3ae5a36a17",
   "metadata": {
    "tags": []
   },
   "outputs": [
    {
     "name": "stdout",
     "output_type": "stream",
     "text": [
      "CPU times: user 18.6 s, sys: 4.63 s, total: 23.2 s\n",
      "Wall time: 23.1 s\n"
     ]
    },
    {
     "data": {
      "text/html": [
       "<div>\n",
       "<style scoped>\n",
       "    .dataframe tbody tr th:only-of-type {\n",
       "        vertical-align: middle;\n",
       "    }\n",
       "\n",
       "    .dataframe tbody tr th {\n",
       "        vertical-align: top;\n",
       "    }\n",
       "\n",
       "    .dataframe thead th {\n",
       "        text-align: right;\n",
       "    }\n",
       "</style>\n",
       "<table border=\"1\" class=\"dataframe\">\n",
       "  <thead>\n",
       "    <tr style=\"text-align: right;\">\n",
       "      <th></th>\n",
       "      <th>median</th>\n",
       "      <th>count</th>\n",
       "    </tr>\n",
       "    <tr>\n",
       "      <th>make</th>\n",
       "      <th></th>\n",
       "      <th></th>\n",
       "    </tr>\n",
       "  </thead>\n",
       "  <tbody>\n",
       "    <tr>\n",
       "      <th>TESLA</th>\n",
       "      <td>0.0</td>\n",
       "      <td>16</td>\n",
       "    </tr>\n",
       "    <tr>\n",
       "      <th>VECTRIX</th>\n",
       "      <td>4.0</td>\n",
       "      <td>13</td>\n",
       "    </tr>\n",
       "    <tr>\n",
       "      <th>CPI</th>\n",
       "      <td>49.0</td>\n",
       "      <td>563</td>\n",
       "    </tr>\n",
       "    <tr>\n",
       "      <th>MOTOBI</th>\n",
       "      <td>49.0</td>\n",
       "      <td>54</td>\n",
       "    </tr>\n",
       "    <tr>\n",
       "      <th>MOTOR HISPANIA</th>\n",
       "      <td>49.0</td>\n",
       "      <td>92</td>\n",
       "    </tr>\n",
       "    <tr>\n",
       "      <th>...</th>\n",
       "      <td>...</td>\n",
       "      <td>...</td>\n",
       "    </tr>\n",
       "    <tr>\n",
       "      <th>ERF</th>\n",
       "      <td>10000.0</td>\n",
       "      <td>30</td>\n",
       "    </tr>\n",
       "    <tr>\n",
       "      <th>LEYLAND NATIONAL</th>\n",
       "      <td>10450.0</td>\n",
       "      <td>15</td>\n",
       "    </tr>\n",
       "    <tr>\n",
       "      <th>NEOPLAN</th>\n",
       "      <td>12609.5</td>\n",
       "      <td>18</td>\n",
       "    </tr>\n",
       "    <tr>\n",
       "      <th>KENWORTH</th>\n",
       "      <td>14000.0</td>\n",
       "      <td>11</td>\n",
       "    </tr>\n",
       "    <tr>\n",
       "      <th>SETRA</th>\n",
       "      <td>14618.0</td>\n",
       "      <td>19</td>\n",
       "    </tr>\n",
       "  </tbody>\n",
       "</table>\n",
       "<p>1275 rows × 2 columns</p>\n",
       "</div>"
      ],
      "text/plain": [
       "                   median  count\n",
       "make                            \n",
       "TESLA                 0.0     16\n",
       "VECTRIX               4.0     13\n",
       "CPI                  49.0    563\n",
       "MOTOBI               49.0     54\n",
       "MOTOR HISPANIA       49.0     92\n",
       "...                   ...    ...\n",
       "ERF               10000.0     30\n",
       "LEYLAND NATIONAL  10450.0     15\n",
       "NEOPLAN           12609.5     18\n",
       "KENWORTH          14000.0     11\n",
       "SETRA             14618.0     19\n",
       "\n",
       "[1275 rows x 2 columns]"
      ]
     },
     "execution_count": 34,
     "metadata": {},
     "output_type": "execute_result"
    },
    {
     "name": "stdout",
     "output_type": "stream",
     "text": [
      "In [34] used -25.7 MiB RAM in 23.19s (system mean cpu 9%, single max cpu 100%), peaked 11853.0 MiB above final usage, current RAM usage now 23841.5 MiB\n"
     ]
    }
   ],
   "source": [
    "%%time\n",
    "# result = dfpdn[~dfpdn['cylinder_capacity'].isna()] \\\n",
    "result = dfpdn.dropna(subset=['cylinder_capacity']) \\\n",
    ".groupby('make')['cylinder_capacity'].agg(['median', 'count']) \\\n",
    ".query('count > 10').sort_values('median')\n",
    "result"
   ]
  },
  {
   "cell_type": "code",
   "execution_count": 35,
   "id": "52307a31-7985-49fd-9477-1d0a302fe13e",
   "metadata": {
    "tags": []
   },
   "outputs": [
    {
     "name": "stdout",
     "output_type": "stream",
     "text": [
      "In [35] used 0.0 MiB RAM in 0.10s (system mean cpu 0%, single max cpu 0%), peaked 0.0 MiB above final usage, current RAM usage now 23841.5 MiB\n"
     ]
    }
   ],
   "source": [
    "assert result.loc['ROLLS ROYCE']['median'] == 6749.0\n",
    "assert result.loc['ROLLS ROYCE']['count'] == 11741.0"
   ]
  }
 ],
 "metadata": {
  "kernelspec": {
   "display_name": "Python 3 (ipykernel)",
   "language": "python",
   "name": "python3"
  },
  "language_info": {
   "codemirror_mode": {
    "name": "ipython",
    "version": 3
   },
   "file_extension": ".py",
   "mimetype": "text/x-python",
   "name": "python",
   "nbconvert_exporter": "python",
   "pygments_lexer": "ipython3",
   "version": "3.11.3"
  }
 },
 "nbformat": 4,
 "nbformat_minor": 5
}
