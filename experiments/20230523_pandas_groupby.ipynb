{
 "cells": [
  {
   "cell_type": "markdown",
   "id": "37836209-2460-4987-bbcc-4173ff38d19a",
   "metadata": {},
   "source": [
    "# Pandas groupby on parquet with numpy vs arrow"
   ]
  },
  {
   "cell_type": "code",
   "execution_count": 1,
   "id": "6c37341c-15e6-4ffd-a652-07532db9ae14",
   "metadata": {
    "tags": []
   },
   "outputs": [
    {
     "data": {
      "text/plain": [
       "'Pandas 2.1.3, Polars 0.19.17'"
      ]
     },
     "metadata": {},
     "output_type": "display_data"
    },
    {
     "data": {
      "text/plain": [
       "'Running: 20231203 10:17:40, env pydataglobal2023'"
      ]
     },
     "metadata": {},
     "output_type": "display_data"
    },
    {
     "name": "stdout",
     "output_type": "stream",
     "text": [
      "Enabling IPython Memory Usage, use %imu_start to begin, %imu_stop to end\n",
      "In [1] used 0.4 MiB RAM in 0.19s (system mean cpu 0%, single max cpu 0%), peaked 0.0 MiB above final usage, current RAM usage now 212.5 MiB\n"
     ]
    }
   ],
   "source": [
    "import pandas as pd\n",
    "import polars as pl\n",
    "from humanfriendly import format_size, format_number\n",
    "from simpler_mpl import set_commas, set_common_mpl_styles\n",
    "import matplotlib.pyplot as plt\n",
    "import seaborn as sns\n",
    "\n",
    "%load_ext autoreload\n",
    "%autoreload 2\n",
    "\n",
    "import datetime, os\n",
    "display(f\"Pandas {pd.__version__}, Polars {pl.__version__}\")\n",
    "display(f'Running: {datetime.datetime.now().strftime(\"%Y%m%d %H:%M:%S\")}, env {os.getenv(\"CONDA_DEFAULT_ENV\")}')\n",
    "\n",
    "%load_ext ipython_memory_usage\n",
    "%imu_start\n",
    "\n",
    "\n",
    "def show_rows_memory(df, deep=False):\n",
    "    \"\"\"\n",
    "    Show rows and memory cost of a Pandas/Polars dataframe\n",
    "    `deep=True` only has an impact on Pandas numpy-backed string columns, which otherwise are undercounted\n",
    "    \"\"\"\n",
    "    num_bytes = 0\n",
    "    df_type = \"Unknown\"\n",
    "    try:\n",
    "        num_bytes = df.estimated_size()  # try Polars\n",
    "        df_type = \"Polars\"\n",
    "    except AttributeError:\n",
    "        pass\n",
    "    try:\n",
    "        num_bytes = df.memory_usage(deep=deep, index=False).sum()  # try Pandas\n",
    "        df_type = \"Pandas\"\n",
    "    except AttributeError:\n",
    "        pass\n",
    "    display(\n",
    "        f\"{df_type} df with {format_number(df.shape[0])} rows, {format_size(num_bytes)} bytes\"\n",
    "    )"
   ]
  },
  {
   "cell_type": "code",
   "execution_count": 2,
   "id": "971c0090-0dcc-419c-a5de-089566c3ee04",
   "metadata": {
    "tags": []
   },
   "outputs": [
    {
     "name": "stdout",
     "output_type": "stream",
     "text": [
      "In [2] used 12857.8 MiB RAM in 6.51s (system mean cpu 69%, single max cpu 100%), peaked 2520.2 MiB above final usage, current RAM usage now 13070.3 MiB\n"
     ]
    }
   ],
   "source": [
    "dfpda = pd.read_parquet(\"../test_result_2021on.parquet\", dtype_backend=\"pyarrow\")"
   ]
  },
  {
   "cell_type": "code",
   "execution_count": 3,
   "id": "4e53bfc3-c26b-4e8e-b182-a3d36c121e2d",
   "metadata": {
    "tags": []
   },
   "outputs": [
    {
     "name": "stdout",
     "output_type": "stream",
     "text": [
      "<class 'pandas.core.frame.DataFrame'>\n",
      "RangeIndex: 82012245 entries, 0 to 82012244\n",
      "Data columns (total 14 columns):\n",
      " #   Column             Dtype                 \n",
      "---  ------             -----                 \n",
      " 0   test_id            int64[pyarrow]        \n",
      " 1   vehicle_id         int64[pyarrow]        \n",
      " 2   test_date          timestamp[us][pyarrow]\n",
      " 3   test_class_id      int64[pyarrow]        \n",
      " 4   test_type          large_string[pyarrow] \n",
      " 5   test_result        large_string[pyarrow] \n",
      " 6   test_mileage       int64[pyarrow]        \n",
      " 7   postcode_area      large_string[pyarrow] \n",
      " 8   make               large_string[pyarrow] \n",
      " 9   model              large_string[pyarrow] \n",
      " 10  colour             large_string[pyarrow] \n",
      " 11  fuel_type          large_string[pyarrow] \n",
      " 12  cylinder_capacity  int64[pyarrow]        \n",
      " 13  first_use_date     timestamp[us][pyarrow]\n",
      "dtypes: int64[pyarrow](5), large_string[pyarrow](7), timestamp[us][pyarrow](2)\n",
      "memory usage: 10.4 GB\n",
      "In [3] used -48.0 MiB RAM in 1.45s (system mean cpu 14%, single max cpu 75%), peaked 13.3 MiB above final usage, current RAM usage now 13022.3 MiB\n"
     ]
    }
   ],
   "source": [
    "dfpda.info()"
   ]
  },
  {
   "cell_type": "code",
   "execution_count": 4,
   "id": "1f390200-d99a-4f34-a868-b5769e7b5978",
   "metadata": {
    "tags": []
   },
   "outputs": [
    {
     "data": {
      "text/plain": [
       "242604"
      ]
     },
     "execution_count": 4,
     "metadata": {},
     "output_type": "execute_result"
    },
    {
     "name": "stdout",
     "output_type": "stream",
     "text": [
      "In [4] used 78.3 MiB RAM in 0.28s (system mean cpu 24%, single max cpu 100%), peaked 0.0 MiB above final usage, current RAM usage now 13100.6 MiB\n"
     ]
    }
   ],
   "source": [
    "mask = dfpda[\"cylinder_capacity\"].isna()\n",
    "mask.sum()  # nbr of rows to remove"
   ]
  },
  {
   "cell_type": "code",
   "execution_count": 5,
   "id": "f4b654c0-39e9-4955-9ccf-e4ebcc73ccb5",
   "metadata": {
    "tags": []
   },
   "outputs": [
    {
     "data": {
      "text/plain": [
       "(81769641, 14)"
      ]
     },
     "execution_count": 5,
     "metadata": {},
     "output_type": "execute_result"
    },
    {
     "name": "stdout",
     "output_type": "stream",
     "text": [
      "In [5] used 11314.2 MiB RAM in 18.96s (system mean cpu 14%, single max cpu 100%), peaked 1163.7 MiB above final usage, current RAM usage now 24414.8 MiB\n"
     ]
    }
   ],
   "source": [
    "df_nonan_cylcap = dfpda[~mask]\n",
    "df_nonan_cylcap.shape"
   ]
  },
  {
   "cell_type": "code",
   "execution_count": 6,
   "id": "71ca3e0f-9554-44fe-96e7-5f731a31d8cb",
   "metadata": {
    "tags": []
   },
   "outputs": [
    {
     "name": "stdout",
     "output_type": "stream",
     "text": [
      "In [6] used 0.0 MiB RAM in 0.10s (system mean cpu 16%, single max cpu 91%), peaked 0.0 MiB above final usage, current RAM usage now 24414.8 MiB\n"
     ]
    }
   ],
   "source": [
    "# agg_result = df_nonan_cylcap.groupby('make')['cylinder_capacity'].agg(['median', 'size'])\n",
    "# agg_result.query('size > 10').sort_values('median')\n",
    "# agg_result.query('size == 1').sort_index()"
   ]
  },
  {
   "cell_type": "code",
   "execution_count": 7,
   "id": "2c4aae1c-dca2-4c53-be89-ae0500dca03a",
   "metadata": {
    "tags": []
   },
   "outputs": [
    {
     "name": "stdout",
     "output_type": "stream",
     "text": [
      "In [7] used 0.0 MiB RAM in 0.10s (system mean cpu 12%, single max cpu 64%), peaked 0.0 MiB above final usage, current RAM usage now 24414.8 MiB\n"
     ]
    }
   ],
   "source": [
    "# mask = dfpda.make.str.startswith('TESLA')\n",
    "# dfpda[mask] # so TESLA 40k rows, but NA cylinder_capacity and fuel_type Electric or EL!"
   ]
  },
  {
   "cell_type": "code",
   "execution_count": 8,
   "id": "23a74bd8-8cfe-4c52-8871-9b58426f07d9",
   "metadata": {},
   "outputs": [
    {
     "name": "stdout",
     "output_type": "stream",
     "text": [
      "In [8] used 0.0 MiB RAM in 0.10s (system mean cpu 14%, single max cpu 100%), peaked 0.0 MiB above final usage, current RAM usage now 24414.8 MiB\n"
     ]
    }
   ],
   "source": [
    "# result = dfpda[~dfpda['cylinder_capacity'].isna()] \\ # same speed"
   ]
  },
  {
   "cell_type": "code",
   "execution_count": 9,
   "id": "e70cc7d3-4407-4644-bd4a-c2fe06d0e189",
   "metadata": {
    "tags": []
   },
   "outputs": [
    {
     "name": "stdout",
     "output_type": "stream",
     "text": [
      "CPU times: user 14.8 s, sys: 12.6 s, total: 27.3 s\n",
      "Wall time: 27.4 s\n"
     ]
    },
    {
     "name": "stderr",
     "output_type": "stream",
     "text": [
      "<timed exec>:5: RuntimeWarning: Engine has switched to 'python' because numexpr does not support extension array dtypes. Please set your engine to python manually.\n"
     ]
    },
    {
     "data": {
      "text/html": [
       "<div>\n",
       "<style scoped>\n",
       "    .dataframe tbody tr th:only-of-type {\n",
       "        vertical-align: middle;\n",
       "    }\n",
       "\n",
       "    .dataframe tbody tr th {\n",
       "        vertical-align: top;\n",
       "    }\n",
       "\n",
       "    .dataframe thead th {\n",
       "        text-align: right;\n",
       "    }\n",
       "</style>\n",
       "<table border=\"1\" class=\"dataframe\">\n",
       "  <thead>\n",
       "    <tr style=\"text-align: right;\">\n",
       "      <th></th>\n",
       "      <th>median</th>\n",
       "      <th>count</th>\n",
       "    </tr>\n",
       "    <tr>\n",
       "      <th>make</th>\n",
       "      <th></th>\n",
       "      <th></th>\n",
       "    </tr>\n",
       "  </thead>\n",
       "  <tbody>\n",
       "    <tr>\n",
       "      <th>TESLA</th>\n",
       "      <td>0.0</td>\n",
       "      <td>16</td>\n",
       "    </tr>\n",
       "    <tr>\n",
       "      <th>VECTRIX</th>\n",
       "      <td>4.0</td>\n",
       "      <td>13</td>\n",
       "    </tr>\n",
       "    <tr>\n",
       "      <th>ATALA</th>\n",
       "      <td>49.0</td>\n",
       "      <td>14</td>\n",
       "    </tr>\n",
       "    <tr>\n",
       "      <th>BEELINE</th>\n",
       "      <td>49.0</td>\n",
       "      <td>304</td>\n",
       "    </tr>\n",
       "    <tr>\n",
       "      <th>BOATIAN</th>\n",
       "      <td>49.0</td>\n",
       "      <td>11</td>\n",
       "    </tr>\n",
       "    <tr>\n",
       "      <th>...</th>\n",
       "      <td>...</td>\n",
       "      <td>...</td>\n",
       "    </tr>\n",
       "    <tr>\n",
       "      <th>ERF</th>\n",
       "      <td>10000.0</td>\n",
       "      <td>30</td>\n",
       "    </tr>\n",
       "    <tr>\n",
       "      <th>LEYLAND NATIONAL</th>\n",
       "      <td>10450.0</td>\n",
       "      <td>15</td>\n",
       "    </tr>\n",
       "    <tr>\n",
       "      <th>NEOPLAN</th>\n",
       "      <td>12609.5</td>\n",
       "      <td>18</td>\n",
       "    </tr>\n",
       "    <tr>\n",
       "      <th>KENWORTH</th>\n",
       "      <td>14000.0</td>\n",
       "      <td>11</td>\n",
       "    </tr>\n",
       "    <tr>\n",
       "      <th>SETRA</th>\n",
       "      <td>14618.0</td>\n",
       "      <td>19</td>\n",
       "    </tr>\n",
       "  </tbody>\n",
       "</table>\n",
       "<p>1275 rows × 2 columns</p>\n",
       "</div>"
      ],
      "text/plain": [
       "                   median  count\n",
       "make                            \n",
       "TESLA                 0.0     16\n",
       "VECTRIX               4.0     13\n",
       "ATALA                49.0     14\n",
       "BEELINE              49.0    304\n",
       "BOATIAN              49.0     11\n",
       "...                   ...    ...\n",
       "ERF               10000.0     30\n",
       "LEYLAND NATIONAL  10450.0     15\n",
       "NEOPLAN           12609.5     18\n",
       "KENWORTH          14000.0     11\n",
       "SETRA             14618.0     19\n",
       "\n",
       "[1275 rows x 2 columns]"
      ]
     },
     "execution_count": 9,
     "metadata": {},
     "output_type": "execute_result"
    },
    {
     "name": "stdout",
     "output_type": "stream",
     "text": [
      "In [9] used -4.1 MiB RAM in 27.53s (system mean cpu 16%, single max cpu 100%), peaked 13851.7 MiB above final usage, current RAM usage now 24410.7 MiB\n"
     ]
    }
   ],
   "source": [
    "%%time\n",
    "result = (\n",
    "    dfpda.dropna(subset=[\"cylinder_capacity\"])\n",
    "    .groupby(\"make\")[\"cylinder_capacity\"]\n",
    "    .agg([\"median\", \"count\"])\n",
    "    .query(\"count > 10\")\n",
    "    .sort_values(\"median\")\n",
    ")\n",
    "#\"RuntimeWarning: Engine has switched to 'python' \n",
    "# because numexpr does not support extension \n",
    "# array dtypes\"\n",
    "# note this is probably a result of the query which uses eval which is not supported by numexpr for array arrays\n",
    "result"
   ]
  },
  {
   "cell_type": "code",
   "execution_count": 10,
   "id": "9912eeef-4ffd-4ba6-a228-e7bc7e1c1d11",
   "metadata": {
    "tags": []
   },
   "outputs": [
    {
     "name": "stdout",
     "output_type": "stream",
     "text": [
      "In [10] used 0.8 MiB RAM in 0.10s (system mean cpu 0%, single max cpu 0%), peaked 0.0 MiB above final usage, current RAM usage now 24411.4 MiB\n"
     ]
    }
   ],
   "source": [
    "assert result.loc[\"ROLLS ROYCE\"][\"median\"] == 6749.0\n",
    "assert result.loc[\"ROLLS ROYCE\"][\"count\"] == 11741.0"
   ]
  },
  {
   "cell_type": "code",
   "execution_count": 11,
   "id": "8cee2bbb-6023-4ba5-b5e6-6cb08dec1d68",
   "metadata": {
    "tags": []
   },
   "outputs": [
    {
     "name": "stdout",
     "output_type": "stream",
     "text": [
      "In [11] used 0.6 MiB RAM in 0.10s (system mean cpu 0%, single max cpu 0%), peaked 0.0 MiB above final usage, current RAM usage now 24412.0 MiB\n"
     ]
    }
   ],
   "source": [
    "# mask = result.index.str.startswith('ROLL')\n",
    "# result[mask]"
   ]
  },
  {
   "cell_type": "code",
   "execution_count": null,
   "id": "c72c1390-cf84-4740-8f6d-95bec9c06ad2",
   "metadata": {},
   "outputs": [],
   "source": []
  },
  {
   "cell_type": "markdown",
   "id": "ec8602e0-6d19-4f5e-aa76-323223258cd0",
   "metadata": {},
   "source": [
    "# Repeat for numpy equivalent"
   ]
  },
  {
   "cell_type": "code",
   "execution_count": 12,
   "id": "25489f14-335b-4f06-8957-2aaf9857401e",
   "metadata": {
    "tags": []
   },
   "outputs": [
    {
     "name": "stdout",
     "output_type": "stream",
     "text": [
      "In [12] used 20589.0 MiB RAM in 29.20s (system mean cpu 26%, single max cpu 100%), peaked 3026.9 MiB above final usage, current RAM usage now 45001.1 MiB\n"
     ]
    }
   ],
   "source": [
    "dfpdn = pd.read_parquet(\"../test_result_2021on.parquet\", dtype_backend=\"numpy_nullable\")"
   ]
  },
  {
   "cell_type": "code",
   "execution_count": 13,
   "id": "ba05bf8e-8e9e-4140-a4f3-ce3ae5a36a17",
   "metadata": {
    "tags": []
   },
   "outputs": [
    {
     "name": "stdout",
     "output_type": "stream",
     "text": [
      "CPU times: user 9.08 s, sys: 6.9 s, total: 16 s\n",
      "Wall time: 13.9 s\n"
     ]
    },
    {
     "name": "stderr",
     "output_type": "stream",
     "text": [
      "<timed exec>:6: RuntimeWarning: Engine has switched to 'python' because numexpr does not support extension array dtypes. Please set your engine to python manually.\n"
     ]
    },
    {
     "data": {
      "text/html": [
       "<div>\n",
       "<style scoped>\n",
       "    .dataframe tbody tr th:only-of-type {\n",
       "        vertical-align: middle;\n",
       "    }\n",
       "\n",
       "    .dataframe tbody tr th {\n",
       "        vertical-align: top;\n",
       "    }\n",
       "\n",
       "    .dataframe thead th {\n",
       "        text-align: right;\n",
       "    }\n",
       "</style>\n",
       "<table border=\"1\" class=\"dataframe\">\n",
       "  <thead>\n",
       "    <tr style=\"text-align: right;\">\n",
       "      <th></th>\n",
       "      <th>median</th>\n",
       "      <th>count</th>\n",
       "    </tr>\n",
       "    <tr>\n",
       "      <th>make</th>\n",
       "      <th></th>\n",
       "      <th></th>\n",
       "    </tr>\n",
       "  </thead>\n",
       "  <tbody>\n",
       "    <tr>\n",
       "      <th>TESLA</th>\n",
       "      <td>0.0</td>\n",
       "      <td>16</td>\n",
       "    </tr>\n",
       "    <tr>\n",
       "      <th>VECTRIX</th>\n",
       "      <td>4.0</td>\n",
       "      <td>13</td>\n",
       "    </tr>\n",
       "    <tr>\n",
       "      <th>BOATIAN</th>\n",
       "      <td>49.0</td>\n",
       "      <td>11</td>\n",
       "    </tr>\n",
       "    <tr>\n",
       "      <th>EASY RIDER</th>\n",
       "      <td>49.0</td>\n",
       "      <td>575</td>\n",
       "    </tr>\n",
       "    <tr>\n",
       "      <th>DIRECTBIKES DB50QT-A</th>\n",
       "      <td>49.0</td>\n",
       "      <td>16</td>\n",
       "    </tr>\n",
       "    <tr>\n",
       "      <th>...</th>\n",
       "      <td>...</td>\n",
       "      <td>...</td>\n",
       "    </tr>\n",
       "    <tr>\n",
       "      <th>ERF</th>\n",
       "      <td>10000.0</td>\n",
       "      <td>30</td>\n",
       "    </tr>\n",
       "    <tr>\n",
       "      <th>LEYLAND NATIONAL</th>\n",
       "      <td>10450.0</td>\n",
       "      <td>15</td>\n",
       "    </tr>\n",
       "    <tr>\n",
       "      <th>NEOPLAN</th>\n",
       "      <td>12609.5</td>\n",
       "      <td>18</td>\n",
       "    </tr>\n",
       "    <tr>\n",
       "      <th>KENWORTH</th>\n",
       "      <td>14000.0</td>\n",
       "      <td>11</td>\n",
       "    </tr>\n",
       "    <tr>\n",
       "      <th>SETRA</th>\n",
       "      <td>14618.0</td>\n",
       "      <td>19</td>\n",
       "    </tr>\n",
       "  </tbody>\n",
       "</table>\n",
       "<p>1275 rows × 2 columns</p>\n",
       "</div>"
      ],
      "text/plain": [
       "                       median  count\n",
       "make                                \n",
       "TESLA                     0.0     16\n",
       "VECTRIX                   4.0     13\n",
       "BOATIAN                  49.0     11\n",
       "EASY RIDER               49.0    575\n",
       "DIRECTBIKES DB50QT-A     49.0     16\n",
       "...                       ...    ...\n",
       "ERF                   10000.0     30\n",
       "LEYLAND NATIONAL      10450.0     15\n",
       "NEOPLAN               12609.5     18\n",
       "KENWORTH              14000.0     11\n",
       "SETRA                 14618.0     19\n",
       "\n",
       "[1275 rows x 2 columns]"
      ]
     },
     "execution_count": 13,
     "metadata": {},
     "output_type": "execute_result"
    },
    {
     "name": "stdout",
     "output_type": "stream",
     "text": [
      "In [13] used -9886.1 MiB RAM in 14.00s (system mean cpu 11%, single max cpu 100%), peaked 12243.7 MiB above final usage, current RAM usage now 35114.9 MiB\n"
     ]
    }
   ],
   "source": [
    "%%time\n",
    "# result = dfpdn[~dfpdn['cylinder_capacity'].isna()] \\\n",
    "result = (\n",
    "    dfpdn.dropna(subset=[\"cylinder_capacity\"])\n",
    "    .groupby(\"make\")[\"cylinder_capacity\"]\n",
    "    .agg([\"median\", \"count\"])\n",
    "    .query(\"count > 10\")\n",
    "    .sort_values(\"median\")\n",
    ")\n",
    "result"
   ]
  },
  {
   "cell_type": "code",
   "execution_count": 14,
   "id": "52307a31-7985-49fd-9477-1d0a302fe13e",
   "metadata": {
    "tags": []
   },
   "outputs": [
    {
     "name": "stdout",
     "output_type": "stream",
     "text": [
      "In [14] used 0.0 MiB RAM in 0.10s (system mean cpu 0%, single max cpu 0%), peaked 0.0 MiB above final usage, current RAM usage now 35114.9 MiB\n"
     ]
    }
   ],
   "source": [
    "assert result.loc[\"ROLLS ROYCE\"][\"median\"] == 6749.0\n",
    "assert result.loc[\"ROLLS ROYCE\"][\"count\"] == 11741.0"
   ]
  }
 ],
 "metadata": {
  "kernelspec": {
   "display_name": "Python 3 (ipykernel)",
   "language": "python",
   "name": "python3"
  },
  "language_info": {
   "codemirror_mode": {
    "name": "ipython",
    "version": 3
   },
   "file_extension": ".py",
   "mimetype": "text/x-python",
   "name": "python",
   "nbconvert_exporter": "python",
   "pygments_lexer": "ipython3",
   "version": "3.11.5"
  }
 },
 "nbformat": 4,
 "nbformat_minor": 5
}
