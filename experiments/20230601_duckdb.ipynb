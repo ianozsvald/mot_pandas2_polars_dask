{
 "cells": [
  {
   "cell_type": "code",
   "execution_count": 1,
   "id": "b490d3c2-4ce0-4845-985e-81d01ae74e70",
   "metadata": {
    "tags": []
   },
   "outputs": [],
   "source": [
    "import duckdb"
   ]
  },
  {
   "cell_type": "code",
   "execution_count": 6,
   "id": "e4401894-b5f5-45c0-976a-ee683bd29491",
   "metadata": {
    "tags": []
   },
   "outputs": [
    {
     "data": {
      "text/plain": [
       "duckdb.DuckDBPyRelation"
      ]
     },
     "execution_count": 6,
     "metadata": {},
     "output_type": "execute_result"
    }
   ],
   "source": [
    "res = duckdb.query(\"select count(*) from '../test_result_2021on.parquet'\")\n",
    "type(res)"
   ]
  },
  {
   "cell_type": "code",
   "execution_count": 7,
   "id": "9da58816-8158-4fd2-88b8-60a2ece4bff8",
   "metadata": {
    "tags": []
   },
   "outputs": [
    {
     "data": {
      "text/html": [
       "<div>\n",
       "<style scoped>\n",
       "    .dataframe tbody tr th:only-of-type {\n",
       "        vertical-align: middle;\n",
       "    }\n",
       "\n",
       "    .dataframe tbody tr th {\n",
       "        vertical-align: top;\n",
       "    }\n",
       "\n",
       "    .dataframe thead th {\n",
       "        text-align: right;\n",
       "    }\n",
       "</style>\n",
       "<table border=\"1\" class=\"dataframe\">\n",
       "  <thead>\n",
       "    <tr style=\"text-align: right;\">\n",
       "      <th></th>\n",
       "      <th>count_star()</th>\n",
       "    </tr>\n",
       "  </thead>\n",
       "  <tbody>\n",
       "    <tr>\n",
       "      <th>0</th>\n",
       "      <td>82012245</td>\n",
       "    </tr>\n",
       "  </tbody>\n",
       "</table>\n",
       "</div>"
      ],
      "text/plain": [
       "   count_star()\n",
       "0      82012245"
      ]
     },
     "execution_count": 7,
     "metadata": {},
     "output_type": "execute_result"
    }
   ],
   "source": [
    "res.to_df()"
   ]
  },
  {
   "cell_type": "code",
   "execution_count": 21,
   "id": "ffe18b37-020d-41df-b1cc-a77d5c5cdd9b",
   "metadata": {
    "tags": []
   },
   "outputs": [
    {
     "name": "stdout",
     "output_type": "stream",
     "text": [
      "select * FROM \"../test_result_2021on.parquet\" where test_result='P' and make='VOLVO' and model='V50'\n",
      "CPU times: user 15 s, sys: 1.48 s, total: 16.5 s\n",
      "Wall time: 1.73 s\n"
     ]
    },
    {
     "data": {
      "text/plain": [
       "69005"
      ]
     },
     "execution_count": 21,
     "metadata": {},
     "output_type": "execute_result"
    }
   ],
   "source": [
    "%%time\n",
    "fromq = '\"../test_result_2021on.parquet\"'\n",
    "qry = f\"select * FROM {fromq} where test_result='P' and make='VOLVO' and model='V50'\"\n",
    "print(qry)\n",
    "res = duckdb.query(qry)\n",
    "len(res)"
   ]
  },
  {
   "cell_type": "code",
   "execution_count": 22,
   "id": "2e97029c-a8d2-43ec-a611-9becfc6c25fe",
   "metadata": {
    "tags": []
   },
   "outputs": [
    {
     "data": {
      "application/vnd.jupyter.widget-view+json": {
       "model_id": "0a5313e467c44b9d9565ef6ff08b6ac9",
       "version_major": 2,
       "version_minor": 0
      },
      "text/plain": [
       "FloatProgress(value=0.0, layout=Layout(width='auto'), style=ProgressStyle(bar_color='black'))"
      ]
     },
     "metadata": {},
     "output_type": "display_data"
    },
    {
     "name": "stdout",
     "output_type": "stream",
     "text": [
      "CPU times: user 28 s, sys: 15.2 s, total: 43.3 s\n",
      "Wall time: 3.85 s\n"
     ]
    },
    {
     "data": {
      "text/html": [
       "<div>\n",
       "<style scoped>\n",
       "    .dataframe tbody tr th:only-of-type {\n",
       "        vertical-align: middle;\n",
       "    }\n",
       "\n",
       "    .dataframe tbody tr th {\n",
       "        vertical-align: top;\n",
       "    }\n",
       "\n",
       "    .dataframe thead th {\n",
       "        text-align: right;\n",
       "    }\n",
       "</style>\n",
       "<table border=\"1\" class=\"dataframe\">\n",
       "  <thead>\n",
       "    <tr style=\"text-align: right;\">\n",
       "      <th></th>\n",
       "      <th>test_id</th>\n",
       "      <th>vehicle_id</th>\n",
       "      <th>test_date</th>\n",
       "      <th>test_class_id</th>\n",
       "      <th>test_type</th>\n",
       "      <th>test_result</th>\n",
       "      <th>test_mileage</th>\n",
       "      <th>postcode_area</th>\n",
       "      <th>make</th>\n",
       "      <th>model</th>\n",
       "      <th>colour</th>\n",
       "      <th>fuel_type</th>\n",
       "      <th>cylinder_capacity</th>\n",
       "      <th>first_use_date</th>\n",
       "    </tr>\n",
       "  </thead>\n",
       "  <tbody>\n",
       "    <tr>\n",
       "      <th>0</th>\n",
       "      <td>750667611</td>\n",
       "      <td>668957038</td>\n",
       "      <td>2022-01-03</td>\n",
       "      <td>4</td>\n",
       "      <td>RT</td>\n",
       "      <td>P</td>\n",
       "      <td>91059.0</td>\n",
       "      <td>YO</td>\n",
       "      <td>VOLVO</td>\n",
       "      <td>V50</td>\n",
       "      <td>BLUE</td>\n",
       "      <td>DI</td>\n",
       "      <td>1560.0</td>\n",
       "      <td>2010-01-08</td>\n",
       "    </tr>\n",
       "    <tr>\n",
       "      <th>1</th>\n",
       "      <td>1781844921</td>\n",
       "      <td>771135358</td>\n",
       "      <td>2022-01-03</td>\n",
       "      <td>4</td>\n",
       "      <td>RT</td>\n",
       "      <td>P</td>\n",
       "      <td>135087.0</td>\n",
       "      <td>TW</td>\n",
       "      <td>VOLVO</td>\n",
       "      <td>V50</td>\n",
       "      <td>RED</td>\n",
       "      <td>DI</td>\n",
       "      <td>1560.0</td>\n",
       "      <td>2011-12-20</td>\n",
       "    </tr>\n",
       "    <tr>\n",
       "      <th>2</th>\n",
       "      <td>1640860885</td>\n",
       "      <td>1388233200</td>\n",
       "      <td>2022-01-03</td>\n",
       "      <td>4</td>\n",
       "      <td>RT</td>\n",
       "      <td>P</td>\n",
       "      <td>71190.0</td>\n",
       "      <td>WD</td>\n",
       "      <td>VOLVO</td>\n",
       "      <td>V50</td>\n",
       "      <td>RED</td>\n",
       "      <td>PE</td>\n",
       "      <td>1798.0</td>\n",
       "      <td>2005-05-29</td>\n",
       "    </tr>\n",
       "    <tr>\n",
       "      <th>3</th>\n",
       "      <td>1921683893</td>\n",
       "      <td>570456212</td>\n",
       "      <td>2022-01-03</td>\n",
       "      <td>4</td>\n",
       "      <td>NT</td>\n",
       "      <td>P</td>\n",
       "      <td>216447.0</td>\n",
       "      <td>BD</td>\n",
       "      <td>VOLVO</td>\n",
       "      <td>V50</td>\n",
       "      <td>GREY</td>\n",
       "      <td>DI</td>\n",
       "      <td>1998.0</td>\n",
       "      <td>2007-09-14</td>\n",
       "    </tr>\n",
       "    <tr>\n",
       "      <th>4</th>\n",
       "      <td>282179967</td>\n",
       "      <td>716615154</td>\n",
       "      <td>2022-01-03</td>\n",
       "      <td>4</td>\n",
       "      <td>NT</td>\n",
       "      <td>P</td>\n",
       "      <td>56202.0</td>\n",
       "      <td>EH</td>\n",
       "      <td>VOLVO</td>\n",
       "      <td>V50</td>\n",
       "      <td>BLUE</td>\n",
       "      <td>DI</td>\n",
       "      <td>1560.0</td>\n",
       "      <td>2012-05-03</td>\n",
       "    </tr>\n",
       "    <tr>\n",
       "      <th>5</th>\n",
       "      <td>1757359557</td>\n",
       "      <td>108535456</td>\n",
       "      <td>2022-01-03</td>\n",
       "      <td>4</td>\n",
       "      <td>NT</td>\n",
       "      <td>P</td>\n",
       "      <td>135802.0</td>\n",
       "      <td>TS</td>\n",
       "      <td>VOLVO</td>\n",
       "      <td>V50</td>\n",
       "      <td>GREY</td>\n",
       "      <td>PE</td>\n",
       "      <td>2521.0</td>\n",
       "      <td>2008-03-01</td>\n",
       "    </tr>\n",
       "    <tr>\n",
       "      <th>6</th>\n",
       "      <td>1869728555</td>\n",
       "      <td>577952940</td>\n",
       "      <td>2022-01-03</td>\n",
       "      <td>4</td>\n",
       "      <td>NT</td>\n",
       "      <td>P</td>\n",
       "      <td>131221.0</td>\n",
       "      <td>NN</td>\n",
       "      <td>VOLVO</td>\n",
       "      <td>V50</td>\n",
       "      <td>WHITE</td>\n",
       "      <td>DI</td>\n",
       "      <td>1998.0</td>\n",
       "      <td>2009-02-04</td>\n",
       "    </tr>\n",
       "    <tr>\n",
       "      <th>7</th>\n",
       "      <td>1073241795</td>\n",
       "      <td>442259134</td>\n",
       "      <td>2022-01-04</td>\n",
       "      <td>4</td>\n",
       "      <td>NT</td>\n",
       "      <td>P</td>\n",
       "      <td>106587.0</td>\n",
       "      <td>BS</td>\n",
       "      <td>VOLVO</td>\n",
       "      <td>V50</td>\n",
       "      <td>BLUE</td>\n",
       "      <td>PE</td>\n",
       "      <td>1798.0</td>\n",
       "      <td>2009-02-04</td>\n",
       "    </tr>\n",
       "    <tr>\n",
       "      <th>8</th>\n",
       "      <td>1091356137</td>\n",
       "      <td>1242396736</td>\n",
       "      <td>2022-01-04</td>\n",
       "      <td>4</td>\n",
       "      <td>NT</td>\n",
       "      <td>P</td>\n",
       "      <td>179196.0</td>\n",
       "      <td>IP</td>\n",
       "      <td>VOLVO</td>\n",
       "      <td>V50</td>\n",
       "      <td>BLACK</td>\n",
       "      <td>DI</td>\n",
       "      <td>1560.0</td>\n",
       "      <td>2011-03-21</td>\n",
       "    </tr>\n",
       "    <tr>\n",
       "      <th>9</th>\n",
       "      <td>279093943</td>\n",
       "      <td>290263428</td>\n",
       "      <td>2022-01-04</td>\n",
       "      <td>4</td>\n",
       "      <td>NT</td>\n",
       "      <td>P</td>\n",
       "      <td>98870.0</td>\n",
       "      <td>DE</td>\n",
       "      <td>VOLVO</td>\n",
       "      <td>V50</td>\n",
       "      <td>BLUE</td>\n",
       "      <td>DI</td>\n",
       "      <td>1997.0</td>\n",
       "      <td>2010-03-02</td>\n",
       "    </tr>\n",
       "  </tbody>\n",
       "</table>\n",
       "</div>"
      ],
      "text/plain": [
       "      test_id  vehicle_id  test_date  test_class_id test_type test_result   \n",
       "0   750667611   668957038 2022-01-03              4        RT           P  \\\n",
       "1  1781844921   771135358 2022-01-03              4        RT           P   \n",
       "2  1640860885  1388233200 2022-01-03              4        RT           P   \n",
       "3  1921683893   570456212 2022-01-03              4        NT           P   \n",
       "4   282179967   716615154 2022-01-03              4        NT           P   \n",
       "5  1757359557   108535456 2022-01-03              4        NT           P   \n",
       "6  1869728555   577952940 2022-01-03              4        NT           P   \n",
       "7  1073241795   442259134 2022-01-04              4        NT           P   \n",
       "8  1091356137  1242396736 2022-01-04              4        NT           P   \n",
       "9   279093943   290263428 2022-01-04              4        NT           P   \n",
       "\n",
       "   test_mileage postcode_area   make model colour fuel_type   \n",
       "0       91059.0            YO  VOLVO   V50   BLUE        DI  \\\n",
       "1      135087.0            TW  VOLVO   V50    RED        DI   \n",
       "2       71190.0            WD  VOLVO   V50    RED        PE   \n",
       "3      216447.0            BD  VOLVO   V50   GREY        DI   \n",
       "4       56202.0            EH  VOLVO   V50   BLUE        DI   \n",
       "5      135802.0            TS  VOLVO   V50   GREY        PE   \n",
       "6      131221.0            NN  VOLVO   V50  WHITE        DI   \n",
       "7      106587.0            BS  VOLVO   V50   BLUE        PE   \n",
       "8      179196.0            IP  VOLVO   V50  BLACK        DI   \n",
       "9       98870.0            DE  VOLVO   V50   BLUE        DI   \n",
       "\n",
       "   cylinder_capacity first_use_date  \n",
       "0             1560.0     2010-01-08  \n",
       "1             1560.0     2011-12-20  \n",
       "2             1798.0     2005-05-29  \n",
       "3             1998.0     2007-09-14  \n",
       "4             1560.0     2012-05-03  \n",
       "5             2521.0     2008-03-01  \n",
       "6             1998.0     2009-02-04  \n",
       "7             1798.0     2009-02-04  \n",
       "8             1560.0     2011-03-21  \n",
       "9             1997.0     2010-03-02  "
      ]
     },
     "execution_count": 22,
     "metadata": {},
     "output_type": "execute_result"
    }
   ],
   "source": [
    "%%time\n",
    "res.to_df()[:10]"
   ]
  },
  {
   "cell_type": "code",
   "execution_count": null,
   "id": "5dcc42f3-cb08-4012-8538-b200085c6dc8",
   "metadata": {},
   "outputs": [],
   "source": []
  }
 ],
 "metadata": {
  "kernelspec": {
   "display_name": "Python 3 (ipykernel)",
   "language": "python",
   "name": "python3"
  },
  "language_info": {
   "codemirror_mode": {
    "name": "ipython",
    "version": 3
   },
   "file_extension": ".py",
   "mimetype": "text/x-python",
   "name": "python",
   "nbconvert_exporter": "python",
   "pygments_lexer": "ipython3",
   "version": "3.11.3"
  }
 },
 "nbformat": 4,
 "nbformat_minor": 5
}
