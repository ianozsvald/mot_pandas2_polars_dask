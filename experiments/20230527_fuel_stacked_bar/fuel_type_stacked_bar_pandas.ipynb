{
 "cells": [
  {
   "cell_type": "markdown",
   "id": "3b25f61d",
   "metadata": {},
   "source": [
    "# Failed experiment\n",
    "\n",
    "(OOM - kernel dies unless filtering by date)\n",
    "\n",
    "2023-11-27 - pandas memory usage seems to have improved. It is now possible to process at least ten years data (previously it was five) with 32GB RAM."
   ]
  },
  {
   "cell_type": "code",
   "execution_count": 1,
   "id": "ac03a167",
   "metadata": {},
   "outputs": [],
   "source": [
    "import pandas as pd"
   ]
  },
  {
   "cell_type": "code",
   "execution_count": 2,
   "id": "55186eaa",
   "metadata": {},
   "outputs": [
    {
     "name": "stdout",
     "output_type": "stream",
     "text": [
      "CPU times: user 49.4 s, sys: 8.07 s, total: 57.5 s\n",
      "Wall time: 30.3 s\n"
     ]
    }
   ],
   "source": [
    "%%time\n",
    "\n",
    "fuel_type_df = (\n",
    "    pd.read_parquet(\n",
    "        \"../../test_result.parquet\",\n",
    "        columns=[\"test_result\", \"test_date\", \"fuel_type\"],\n",
    "        dtype_backend=\"pyarrow\",\n",
    "        filters=[\n",
    "            (\"test_result\", \"==\", \"P\"),\n",
    "            (\"test_date\", \">=\", pd.Timestamp(\"2012-01-01\")),\n",
    "        ],\n",
    "    )\n",
    "    .replace({\"fuel_type\": {\"Hybrid Electric (Clean)\": \"HY\", \"Electric\": \"EL\"}})\n",
    "    .assign(Year=lambda x: x.test_date.dt.year)\n",
    "    .groupby([\"Year\", \"fuel_type\"])\n",
    "    .agg({\"test_result\": \"count\"})\n",
    "    .rename(columns={\"test_result\": \"vehicle_count\"})\n",
    ")"
   ]
  },
  {
   "cell_type": "code",
   "execution_count": 3,
   "id": "7de3cec7",
   "metadata": {},
   "outputs": [
    {
     "data": {
      "text/html": [
       "<div>\n",
       "<style scoped>\n",
       "    .dataframe tbody tr th:only-of-type {\n",
       "        vertical-align: middle;\n",
       "    }\n",
       "\n",
       "    .dataframe tbody tr th {\n",
       "        vertical-align: top;\n",
       "    }\n",
       "\n",
       "    .dataframe thead th {\n",
       "        text-align: right;\n",
       "    }\n",
       "</style>\n",
       "<table border=\"1\" class=\"dataframe\">\n",
       "  <thead>\n",
       "    <tr style=\"text-align: right;\">\n",
       "      <th>fuel_type</th>\n",
       "      <th>CN</th>\n",
       "      <th>DI</th>\n",
       "      <th>ED</th>\n",
       "      <th>EL</th>\n",
       "      <th>FC</th>\n",
       "      <th>GA</th>\n",
       "      <th>GB</th>\n",
       "      <th>GD</th>\n",
       "      <th>HY</th>\n",
       "      <th>LN</th>\n",
       "      <th>LP</th>\n",
       "      <th>OT</th>\n",
       "      <th>PE</th>\n",
       "      <th>ST</th>\n",
       "    </tr>\n",
       "    <tr>\n",
       "      <th>Year</th>\n",
       "      <th></th>\n",
       "      <th></th>\n",
       "      <th></th>\n",
       "      <th></th>\n",
       "      <th></th>\n",
       "      <th></th>\n",
       "      <th></th>\n",
       "      <th></th>\n",
       "      <th></th>\n",
       "      <th></th>\n",
       "      <th></th>\n",
       "      <th></th>\n",
       "      <th></th>\n",
       "      <th></th>\n",
       "    </tr>\n",
       "  </thead>\n",
       "  <tbody>\n",
       "    <tr>\n",
       "      <th>2012</th>\n",
       "      <td>83</td>\n",
       "      <td>8641472</td>\n",
       "      <td>3</td>\n",
       "      <td>22185</td>\n",
       "      <td>394</td>\n",
       "      <td>63</td>\n",
       "      <td>790</td>\n",
       "      <td>8</td>\n",
       "      <td>9665</td>\n",
       "      <td>61</td>\n",
       "      <td>27094</td>\n",
       "      <td>14594</td>\n",
       "      <td>16577444</td>\n",
       "      <td>105</td>\n",
       "    </tr>\n",
       "    <tr>\n",
       "      <th>2013</th>\n",
       "      <td>102</td>\n",
       "      <td>9220722</td>\n",
       "      <td>7</td>\n",
       "      <td>28685</td>\n",
       "      <td>471</td>\n",
       "      <td>64</td>\n",
       "      <td>797</td>\n",
       "      <td>6</td>\n",
       "      <td>13830</td>\n",
       "      <td>51</td>\n",
       "      <td>25039</td>\n",
       "      <td>19979</td>\n",
       "      <td>16313546</td>\n",
       "      <td>60</td>\n",
       "    </tr>\n",
       "    <tr>\n",
       "      <th>2014</th>\n",
       "      <td>130</td>\n",
       "      <td>9844505</td>\n",
       "      <td>32</td>\n",
       "      <td>36652</td>\n",
       "      <td>598</td>\n",
       "      <td>59</td>\n",
       "      <td>762</td>\n",
       "      <td>7</td>\n",
       "      <td>19733</td>\n",
       "      <td>52</td>\n",
       "      <td>22540</td>\n",
       "      <td>26360</td>\n",
       "      <td>16002808</td>\n",
       "      <td>61</td>\n",
       "    </tr>\n",
       "    <tr>\n",
       "      <th>2015</th>\n",
       "      <td>139</td>\n",
       "      <td>10447344</td>\n",
       "      <td>762</td>\n",
       "      <td>43781</td>\n",
       "      <td>700</td>\n",
       "      <td>68</td>\n",
       "      <td>829</td>\n",
       "      <td>8</td>\n",
       "      <td>33979</td>\n",
       "      <td>42</td>\n",
       "      <td>20245</td>\n",
       "      <td>31305</td>\n",
       "      <td>15735742</td>\n",
       "      <td>63</td>\n",
       "    </tr>\n",
       "    <tr>\n",
       "      <th>2016</th>\n",
       "      <td>136</td>\n",
       "      <td>11093589</td>\n",
       "      <td>3453</td>\n",
       "      <td>45482</td>\n",
       "      <td>705</td>\n",
       "      <td>76</td>\n",
       "      <td>776</td>\n",
       "      <td>18</td>\n",
       "      <td>67064</td>\n",
       "      <td>36</td>\n",
       "      <td>17871</td>\n",
       "      <td>31582</td>\n",
       "      <td>15521032</td>\n",
       "      <td>56</td>\n",
       "    </tr>\n",
       "  </tbody>\n",
       "</table>\n",
       "</div>"
      ],
      "text/plain": [
       "fuel_type   CN        DI    ED     EL   FC  GA   GB  GD     HY  LN     LP  \\\n",
       "Year                                                                        \n",
       "2012        83   8641472     3  22185  394  63  790   8   9665  61  27094   \n",
       "2013       102   9220722     7  28685  471  64  797   6  13830  51  25039   \n",
       "2014       130   9844505    32  36652  598  59  762   7  19733  52  22540   \n",
       "2015       139  10447344   762  43781  700  68  829   8  33979  42  20245   \n",
       "2016       136  11093589  3453  45482  705  76  776  18  67064  36  17871   \n",
       "\n",
       "fuel_type     OT        PE   ST  \n",
       "Year                             \n",
       "2012       14594  16577444  105  \n",
       "2013       19979  16313546   60  \n",
       "2014       26360  16002808   61  \n",
       "2015       31305  15735742   63  \n",
       "2016       31582  15521032   56  "
      ]
     },
     "execution_count": 3,
     "metadata": {},
     "output_type": "execute_result"
    }
   ],
   "source": [
    "fuel_type_df = fuel_type_df.pivot_table(\n",
    "    values=\"vehicle_count\",\n",
    "    index=\"Year\",\n",
    "    columns=\"fuel_type\",\n",
    "    aggfunc=\"sum\",\n",
    "    fill_value=0,\n",
    ")\n",
    "\n",
    "fuel_type_df.head()"
   ]
  },
  {
   "cell_type": "code",
   "execution_count": 4,
   "id": "db140747",
   "metadata": {},
   "outputs": [
    {
     "data": {
      "text/plain": [
       "Text(0, 0.5, 'Count (million)')"
      ]
     },
     "execution_count": 4,
     "metadata": {},
     "output_type": "execute_result"
    },
    {
     "data": {
      "image/png": "[encoded data removed]",
      "text/plain": [
       "<Figure size 1200x600 with 1 Axes>"
      ]
     },
     "metadata": {},
     "output_type": "display_data"
    }
   ],
   "source": [
    "ax = (\n",
    "    fuel_type_df.loc[2006:, [\"PE\", \"DI\", \"HY\", \"EL\"]]\n",
    "    .div(1000000)\n",
    "    .reset_index()\n",
    "    .plot.bar(figsize=(12, 6), x=\"Year\", stacked=True, title=\"Car Counts by Fuel Type\")\n",
    ")\n",
    "ax.set_ylabel(\"Count (million)\")"
   ]
  },
  {
   "cell_type": "code",
   "execution_count": null,
   "id": "df011001-2980-4f47-b4e6-f09551ceff33",
   "metadata": {},
   "outputs": [],
   "source": []
  }
 ],
 "metadata": {
  "jupytext": {
   "formats": "ipynb,py:light"
  },
  "kernelspec": {
   "display_name": "Python 3 (ipykernel)",
   "language": "python",
   "name": "python3"
  },
  "language_info": {
   "codemirror_mode": {
    "name": "ipython",
    "version": 3
   },
   "file_extension": ".py",
   "mimetype": "text/x-python",
   "name": "python",
   "nbconvert_exporter": "python",
   "pygments_lexer": "ipython3",
   "version": "3.11.5"
  }
 },
 "nbformat": 4,
 "nbformat_minor": 5
}
