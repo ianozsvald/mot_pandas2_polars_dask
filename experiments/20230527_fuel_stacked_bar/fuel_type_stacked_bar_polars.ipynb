{
 "cells": [
  {
   "cell_type": "code",
   "execution_count": 2,
   "id": "68059019",
   "metadata": {},
   "outputs": [],
   "source": [
    "import polars as pl"
   ]
  },
  {
   "cell_type": "code",
   "execution_count": 3,
   "id": "6c8bda2c",
   "metadata": {},
   "outputs": [
    {
     "name": "stdout",
     "output_type": "stream",
     "text": [
      "CPU times: user 2min 5s, sys: 8.39 s, total: 2min 14s\n",
      "Wall time: 30.5 s\n"
     ]
    }
   ],
   "source": [
    "%%time\n",
    "fuel_type_edf = (\n",
    "    pl.scan_parquet(\"../../test_result.parquet/*\", low_memory=True)\n",
    "    .select([\"test_result\", \"test_date\", \"fuel_type\"])\n",
    "    .filter(pl.col(\"test_result\") == \"P\")\n",
    "    .with_columns(\n",
    "        pl.col(\"fuel_type\")\n",
    "        .map_dict(\n",
    "            {\"Hybrid Electric (Clean)\": \"HY\", \"Electric\": \"EL\"}, default=pl.first()\n",
    "        )\n",
    "        .cast(str),\n",
    "        pl.col(\"test_date\").dt.year().alias(\"Year\"),\n",
    "    )\n",
    "    .groupby([\"Year\", \"fuel_type\"])\n",
    "    .agg(pl.col(\"test_result\").count().alias(\"vehicle_count\"))\n",
    "    .collect(streaming=True)\n",
    ")"
   ]
  },
  {
   "cell_type": "code",
   "execution_count": 4,
   "id": "369490ff",
   "metadata": {},
   "outputs": [
    {
     "data": {
      "text/html": [
       "<div>\n",
       "<style scoped>\n",
       "    .dataframe tbody tr th:only-of-type {\n",
       "        vertical-align: middle;\n",
       "    }\n",
       "\n",
       "    .dataframe tbody tr th {\n",
       "        vertical-align: top;\n",
       "    }\n",
       "\n",
       "    .dataframe thead th {\n",
       "        text-align: right;\n",
       "    }\n",
       "</style>\n",
       "<table border=\"1\" class=\"dataframe\">\n",
       "  <thead>\n",
       "    <tr style=\"text-align: right;\">\n",
       "      <th></th>\n",
       "      <th>CN</th>\n",
       "      <th>DI</th>\n",
       "      <th>ED</th>\n",
       "      <th>EL</th>\n",
       "      <th>FC</th>\n",
       "      <th>GA</th>\n",
       "      <th>GB</th>\n",
       "      <th>GD</th>\n",
       "      <th>HY</th>\n",
       "      <th>LN</th>\n",
       "      <th>LP</th>\n",
       "      <th>OT</th>\n",
       "      <th>PE</th>\n",
       "      <th>ST</th>\n",
       "    </tr>\n",
       "    <tr>\n",
       "      <th>Year</th>\n",
       "      <th></th>\n",
       "      <th></th>\n",
       "      <th></th>\n",
       "      <th></th>\n",
       "      <th></th>\n",
       "      <th></th>\n",
       "      <th></th>\n",
       "      <th></th>\n",
       "      <th></th>\n",
       "      <th></th>\n",
       "      <th></th>\n",
       "      <th></th>\n",
       "      <th></th>\n",
       "      <th></th>\n",
       "    </tr>\n",
       "  </thead>\n",
       "  <tbody>\n",
       "    <tr>\n",
       "      <th>2005</th>\n",
       "      <td>11</td>\n",
       "      <td>1258805</td>\n",
       "      <td>0</td>\n",
       "      <td>335</td>\n",
       "      <td>3</td>\n",
       "      <td>20</td>\n",
       "      <td>121</td>\n",
       "      <td>0</td>\n",
       "      <td>25</td>\n",
       "      <td>18</td>\n",
       "      <td>7030</td>\n",
       "      <td>125</td>\n",
       "      <td>4098561</td>\n",
       "      <td>26</td>\n",
       "    </tr>\n",
       "    <tr>\n",
       "      <th>2006</th>\n",
       "      <td>61</td>\n",
       "      <td>5438952</td>\n",
       "      <td>0</td>\n",
       "      <td>1699</td>\n",
       "      <td>20</td>\n",
       "      <td>50</td>\n",
       "      <td>481</td>\n",
       "      <td>1</td>\n",
       "      <td>152</td>\n",
       "      <td>53</td>\n",
       "      <td>31308</td>\n",
       "      <td>693</td>\n",
       "      <td>17368825</td>\n",
       "      <td>89</td>\n",
       "    </tr>\n",
       "    <tr>\n",
       "      <th>2007</th>\n",
       "      <td>54</td>\n",
       "      <td>5973332</td>\n",
       "      <td>0</td>\n",
       "      <td>2539</td>\n",
       "      <td>36</td>\n",
       "      <td>56</td>\n",
       "      <td>584</td>\n",
       "      <td>1</td>\n",
       "      <td>381</td>\n",
       "      <td>66</td>\n",
       "      <td>32428</td>\n",
       "      <td>1159</td>\n",
       "      <td>17411739</td>\n",
       "      <td>104</td>\n",
       "    </tr>\n",
       "    <tr>\n",
       "      <th>2008</th>\n",
       "      <td>56</td>\n",
       "      <td>6448408</td>\n",
       "      <td>0</td>\n",
       "      <td>4660</td>\n",
       "      <td>85</td>\n",
       "      <td>54</td>\n",
       "      <td>682</td>\n",
       "      <td>2</td>\n",
       "      <td>1129</td>\n",
       "      <td>65</td>\n",
       "      <td>32569</td>\n",
       "      <td>2367</td>\n",
       "      <td>17174571</td>\n",
       "      <td>110</td>\n",
       "    </tr>\n",
       "    <tr>\n",
       "      <th>2009</th>\n",
       "      <td>58</td>\n",
       "      <td>7008115</td>\n",
       "      <td>0</td>\n",
       "      <td>7980</td>\n",
       "      <td>133</td>\n",
       "      <td>57</td>\n",
       "      <td>733</td>\n",
       "      <td>3</td>\n",
       "      <td>2424</td>\n",
       "      <td>68</td>\n",
       "      <td>31810</td>\n",
       "      <td>4276</td>\n",
       "      <td>17086268</td>\n",
       "      <td>122</td>\n",
       "    </tr>\n",
       "  </tbody>\n",
       "</table>\n",
       "</div>"
      ],
      "text/plain": [
       "      CN       DI  ED    EL   FC  GA   GB  GD    HY  LN     LP    OT  \\\n",
       "Year                                                                   \n",
       "2005  11  1258805   0   335    3  20  121   0    25  18   7030   125   \n",
       "2006  61  5438952   0  1699   20  50  481   1   152  53  31308   693   \n",
       "2007  54  5973332   0  2539   36  56  584   1   381  66  32428  1159   \n",
       "2008  56  6448408   0  4660   85  54  682   2  1129  65  32569  2367   \n",
       "2009  58  7008115   0  7980  133  57  733   3  2424  68  31810  4276   \n",
       "\n",
       "            PE   ST  \n",
       "Year                 \n",
       "2005   4098561   26  \n",
       "2006  17368825   89  \n",
       "2007  17411739  104  \n",
       "2008  17174571  110  \n",
       "2009  17086268  122  "
      ]
     },
     "execution_count": 4,
     "metadata": {},
     "output_type": "execute_result"
    }
   ],
   "source": [
    "fuel_type_df = (\n",
    "    fuel_type_edf.pivot(\n",
    "        index=\"Year\",\n",
    "        columns=\"fuel_type\",\n",
    "        values=\"vehicle_count\",\n",
    "        aggregate_function=\"sum\",\n",
    "        sort_columns=True,\n",
    "    )\n",
    "    .fill_null(0)\n",
    "    .sort(by=\"Year\")\n",
    "    .to_pandas()\n",
    "    .set_index(\"Year\")\n",
    ")\n",
    "\n",
    "fuel_type_df.head()"
   ]
  },
  {
   "cell_type": "code",
   "execution_count": 5,
   "id": "583f8287",
   "metadata": {},
   "outputs": [
    {
     "data": {
      "text/plain": [
       "Text(0, 0.5, 'Count (million)')"
      ]
     },
     "execution_count": 5,
     "metadata": {},
     "output_type": "execute_result"
    },
    {
     "data": {
      "image/png": "[encoded data removed]",
      "text/plain": [
       "<Figure size 1200x600 with 1 Axes>"
      ]
     },
     "metadata": {},
     "output_type": "display_data"
    }
   ],
   "source": [
    "ax = (\n",
    "    fuel_type_df.loc[2006:, [\"PE\", \"DI\", \"HY\", \"EL\"]]\n",
    "    .div(1000000)\n",
    "    .reset_index()\n",
    "    .plot.bar(figsize=(12, 6), x=\"Year\", stacked=True, title=\"Car Counts by Fuel Type\")\n",
    ")\n",
    "ax.set_ylabel(\"Count (million)\")"
   ]
  },
  {
   "cell_type": "code",
   "execution_count": null,
   "id": "64de13a4",
   "metadata": {},
   "outputs": [],
   "source": []
  }
 ],
 "metadata": {
  "jupytext": {
   "formats": "ipynb,py:light"
  },
  "kernelspec": {
   "display_name": "Python 3 (ipykernel)",
   "language": "python",
   "name": "python3"
  },
  "language_info": {
   "codemirror_mode": {
    "name": "ipython",
    "version": 3
   },
   "file_extension": ".py",
   "mimetype": "text/x-python",
   "name": "python",
   "nbconvert_exporter": "python",
   "pygments_lexer": "ipython3",
   "version": "3.11.3"
  }
 },
 "nbformat": 4,
 "nbformat_minor": 5
}
