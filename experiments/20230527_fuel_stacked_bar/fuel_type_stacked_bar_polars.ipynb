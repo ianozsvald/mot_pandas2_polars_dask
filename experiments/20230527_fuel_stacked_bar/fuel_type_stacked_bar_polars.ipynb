{
 "cells": [
  {
   "cell_type": "code",
   "execution_count": 1,
   "id": "68059019",
   "metadata": {
    "execution": {
     "iopub.execute_input": "2023-12-01T20:38:32.077130Z",
     "iopub.status.busy": "2023-12-01T20:38:32.076854Z",
     "iopub.status.idle": "2023-12-01T20:38:32.139051Z",
     "shell.execute_reply": "2023-12-01T20:38:32.138541Z",
     "shell.execute_reply.started": "2023-12-01T20:38:32.077107Z"
    },
    "tags": []
   },
   "outputs": [],
   "source": [
    "import polars as pl"
   ]
  },
  {
   "cell_type": "code",
   "execution_count": 2,
   "id": "93e6d936-b896-47a7-8bdb-4f0f50ff3309",
   "metadata": {
    "execution": {
     "iopub.execute_input": "2023-12-01T20:38:32.960984Z",
     "iopub.status.busy": "2023-12-01T20:38:32.960743Z",
     "iopub.status.idle": "2023-12-01T20:38:32.964179Z",
     "shell.execute_reply": "2023-12-01T20:38:32.963488Z",
     "shell.execute_reply.started": "2023-12-01T20:38:32.960967Z"
    }
   },
   "outputs": [],
   "source": [
    "parquet_path = \"../../test_result.parquet/*\""
   ]
  },
  {
   "cell_type": "code",
   "execution_count": 3,
   "id": "8227b2fe-50b4-4c70-a108-95f0b48920db",
   "metadata": {
    "execution": {
     "iopub.execute_input": "2023-12-01T20:38:33.777035Z",
     "iopub.status.busy": "2023-12-01T20:38:33.776675Z",
     "iopub.status.idle": "2023-12-01T20:38:57.227457Z",
     "shell.execute_reply": "2023-12-01T20:38:57.227148Z",
     "shell.execute_reply.started": "2023-12-01T20:38:33.777015Z"
    }
   },
   "outputs": [],
   "source": [
    "fuel_type_edf = (\n",
    "    pl.scan_parquet(parquet_path)\n",
    "    .filter(pl.col(\"test_result\") == \"P\")\n",
    "    .with_columns(\n",
    "        pl.col(\"fuel_type\")\n",
    "        .replace({\"Hybrid Electric (Clean)\": \"HY\", \"Electric\": \"EL\"},\n",
    "                 default=pl.first())\n",
    "        .cast(str),\n",
    "        pl.col(\"test_date\").dt.year().alias(\"Year\"),\n",
    "    )\n",
    "    .group_by([\"Year\", \"fuel_type\"])\n",
    "    .agg(pl.col(\"test_result\").count().alias(\"vehicle_count\"))\n",
    "    .collect(streaming=True) # streaming required to prevent OOM\n",
    ")"
   ]
  },
  {
   "cell_type": "code",
   "execution_count": 4,
   "id": "cf265977-c991-460f-8004-93f82e0936d6",
   "metadata": {
    "execution": {
     "iopub.execute_input": "2023-12-01T20:38:59.332184Z",
     "iopub.status.busy": "2023-12-01T20:38:59.331953Z",
     "iopub.status.idle": "2023-12-01T20:38:59.340255Z",
     "shell.execute_reply": "2023-12-01T20:38:59.339676Z",
     "shell.execute_reply.started": "2023-12-01T20:38:59.332162Z"
    }
   },
   "outputs": [],
   "source": [
    "fuel_type_ldf = (\n",
    "    pl.scan_parquet(parquet_path)\n",
    "    .select([\"test_result\", \"test_date\", \"fuel_type\"])\n",
    "    .filter(pl.col(\"test_result\") == \"P\")\n",
    "    .with_columns(\n",
    "        pl.col(\"fuel_type\")\n",
    "        .replace({\"Hybrid Electric (Clean)\": \"HY\", \"Electric\": \"EL\"},\n",
    "                 default=pl.first())\n",
    "        .cast(str),\n",
    "        pl.col(\"test_date\").dt.year().alias(\"Year\"),\n",
    "    )\n",
    "    .group_by([\"Year\", \"fuel_type\"])\n",
    "    .agg(pl.col(\"test_result\").count().alias(\"vehicle_count\"))\n",
    ")"
   ]
  },
  {
   "cell_type": "code",
   "execution_count": 5,
   "id": "fac256bf-45a2-4050-8eb8-82ddae86d9fa",
   "metadata": {
    "execution": {
     "iopub.execute_input": "2023-12-01T20:39:00.069943Z",
     "iopub.status.busy": "2023-12-01T20:39:00.069711Z",
     "iopub.status.idle": "2023-12-01T20:39:00.074028Z",
     "shell.execute_reply": "2023-12-01T20:39:00.073342Z",
     "shell.execute_reply.started": "2023-12-01T20:39:00.069923Z"
    }
   },
   "outputs": [
    {
     "name": "stdout",
     "output_type": "stream",
     "text": [
      "AGGREGATE\n",
      "\t[col(\"test_result\").count().alias(\"vehicle_count\")] BY [col(\"Year\"), col(\"fuel_type\")] FROM\n",
      "   WITH_COLUMNS:\n",
      "   [col(\"fuel_type\").python_udf().strict_cast(Utf8), col(\"test_date\").dt.year().alias(\"Year\")]\n",
      "    FAST_PROJECT: [test_result, test_date, fuel_type]\n",
      "\n",
      "        Parquet SCAN 854 files: first file: ../../test_result.parquet/part.0.parquet\n",
      "        PROJECT 3/14 COLUMNS\n",
      "        SELECTION: [(col(\"test_result\")) == (Utf8(P))]\n"
     ]
    }
   ],
   "source": [
    "print(fuel_type_ldf.explain())"
   ]
  },
  {
   "cell_type": "code",
   "execution_count": 6,
   "id": "333231ae-a26f-4038-a3c7-ea61e98ec66b",
   "metadata": {
    "execution": {
     "iopub.execute_input": "2023-12-01T20:39:00.901901Z",
     "iopub.status.busy": "2023-12-01T20:39:00.901294Z",
     "iopub.status.idle": "2023-12-01T20:39:00.978387Z",
     "shell.execute_reply": "2023-12-01T20:39:00.978071Z",
     "shell.execute_reply.started": "2023-12-01T20:39:00.901870Z"
    }
   },
   "outputs": [
    {
     "data": {
      "image/svg+xml": [
       "<svg xmlns=\"http://www.w3.org/2000/svg\" xmlns:xlink=\"http://www.w3.org/1999/xlink\" width=\"544pt\" height=\"294pt\" viewBox=\"0.00 0.00 544.00 294.00\">\n",
       "<g id=\"graph0\" class=\"graph\" transform=\"scale(1 1) rotate(0) translate(4 290)\">\n",
       "<title>polars_query</title>\n",
       "<polygon fill=\"white\" stroke=\"transparent\" points=\"-4,4 -4,-290 540,-290 540,4 -4,4\"/>\n",
       "<!-- AGG [col(&quot;test_result&quot;).count().alias(&quot;vehicle_count&quot;)]\n",
       "BY\n",
       "[col(&quot;Year&quot;),col(&quot;fuel_type&quot;)] [(0, 0)] [(0, 0)] -->\n",
       "<g id=\"node1\" class=\"node\">\n",
       "<title>AGG [col(&quot;test_result&quot;).count().alias(&quot;vehicle_count&quot;)]\n",
       "BY\n",
       "[col(&quot;Year&quot;),col(&quot;fuel_type&quot;)] [(0, 0)] [(0, 0)]</title>\n",
       "<polygon fill=\"none\" stroke=\"black\" points=\"467,-286 69,-286 69,-233 467,-233 467,-286\"/>\n",
       "<text text-anchor=\"middle\" x=\"268\" y=\"-270.8\" font-family=\"Times,serif\" font-size=\"14.00\">AGG [col(&quot;test_result&quot;).count().alias(&quot;vehicle_count&quot;)]</text>\n",
       "<text text-anchor=\"middle\" x=\"268\" y=\"-255.8\" font-family=\"Times,serif\" font-size=\"14.00\">BY</text>\n",
       "<text text-anchor=\"middle\" x=\"268\" y=\"-240.8\" font-family=\"Times,serif\" font-size=\"14.00\">[col(&quot;Year&quot;),col(&quot;fuel_type&quot;)] [(0, 0)]</text>\n",
       "</g>\n",
       "<!-- WITH COLUMNS [&quot;fuel_type&quot;,&quot;Year&quot;] [(0, 1)] -->\n",
       "<g id=\"node2\" class=\"node\">\n",
       "<title>WITH COLUMNS [&quot;fuel_type&quot;,&quot;Year&quot;] [(0, 1)]</title>\n",
       "<polygon fill=\"none\" stroke=\"black\" points=\"409.5,-197 126.5,-197 126.5,-161 409.5,-161 409.5,-197\"/>\n",
       "<text text-anchor=\"middle\" x=\"268\" y=\"-175.3\" font-family=\"Times,serif\" font-size=\"14.00\">WITH COLUMNS [&quot;fuel_type&quot;,&quot;Year&quot;]</text>\n",
       "</g>\n",
       "<!-- AGG [col(&quot;test_result&quot;).count().alias(&quot;vehicle_count&quot;)]\n",
       "BY\n",
       "[col(&quot;Year&quot;),col(&quot;fuel_type&quot;)] [(0, 0)] [(0, 0)]&#45;&#45;WITH COLUMNS [&quot;fuel_type&quot;,&quot;Year&quot;] [(0, 1)] -->\n",
       "<g id=\"edge1\" class=\"edge\">\n",
       "<title>AGG [col(&quot;test_result&quot;).count().alias(&quot;vehicle_count&quot;)]\n",
       "BY\n",
       "[col(&quot;Year&quot;),col(&quot;fuel_type&quot;)] [(0, 0)] [(0, 0)]--WITH COLUMNS [&quot;fuel_type&quot;,&quot;Year&quot;] [(0, 1)]</title>\n",
       "<path fill=\"none\" stroke=\"black\" d=\"M268,-232.8C268,-221.17 268,-207.74 268,-197.33\"/>\n",
       "</g>\n",
       "<!-- FAST_PROJECT: [test_result, test_date, fuel_type] [(0, 2)] -->\n",
       "<g id=\"node3\" class=\"node\">\n",
       "<title>FAST_PROJECT: [test_result, test_date, fuel_type] [(0, 2)]</title>\n",
       "<polygon fill=\"none\" stroke=\"black\" points=\"454,-125 82,-125 82,-89 454,-89 454,-125\"/>\n",
       "<text text-anchor=\"middle\" x=\"268\" y=\"-103.3\" font-family=\"Times,serif\" font-size=\"14.00\">FAST_PROJECT: [test_result, test_date, fuel_type]</text>\n",
       "</g>\n",
       "<!-- WITH COLUMNS [&quot;fuel_type&quot;,&quot;Year&quot;] [(0, 1)]&#45;&#45;FAST_PROJECT: [test_result, test_date, fuel_type] [(0, 2)] -->\n",
       "<g id=\"edge2\" class=\"edge\">\n",
       "<title>WITH COLUMNS [&quot;fuel_type&quot;,&quot;Year&quot;] [(0, 1)]--FAST_PROJECT: [test_result, test_date, fuel_type] [(0, 2)]</title>\n",
       "<path fill=\"none\" stroke=\"black\" d=\"M268,-160.7C268,-149.85 268,-135.92 268,-125.1\"/>\n",
       "</g>\n",
       "<!-- Parquet SCAN 854 files: first file: ../../test_result.parquet/part.0.parquet;\n",
       "π 3/14;\n",
       "σ (col(&quot;test_result&quot;)) == (... [(0, 3)] -->\n",
       "<g id=\"node4\" class=\"node\">\n",
       "<title>Parquet SCAN 854 files: first file: ../../test_result.parquet/part.0.parquet;\n",
       "π 3/14;\n",
       "σ (col(&quot;test_result&quot;)) == (... [(0, 3)]</title>\n",
       "<polygon fill=\"none\" stroke=\"black\" points=\"536,-53 0,-53 0,0 536,0 536,-53\"/>\n",
       "<text text-anchor=\"middle\" x=\"268\" y=\"-37.8\" font-family=\"Times,serif\" font-size=\"14.00\">Parquet SCAN 854 files: first file: ../../test_result.parquet/part.0.parquet;</text>\n",
       "<text text-anchor=\"middle\" x=\"268\" y=\"-22.8\" font-family=\"Times,serif\" font-size=\"14.00\">π 3/14;</text>\n",
       "<text text-anchor=\"middle\" x=\"268\" y=\"-7.8\" font-family=\"Times,serif\" font-size=\"14.00\">σ (col(&quot;test_result&quot;)) == (...</text>\n",
       "</g>\n",
       "<!-- FAST_PROJECT: [test_result, test_date, fuel_type] [(0, 2)]&#45;&#45;Parquet SCAN 854 files: first file: ../../test_result.parquet/part.0.parquet;\n",
       "π 3/14;\n",
       "σ (col(&quot;test_result&quot;)) == (... [(0, 3)] -->\n",
       "<g id=\"edge3\" class=\"edge\">\n",
       "<title>FAST_PROJECT: [test_result, test_date, fuel_type] [(0, 2)]--Parquet SCAN 854 files: first file: ../../test_result.parquet/part.0.parquet;\n",
       "π 3/14;\n",
       "σ (col(&quot;test_result&quot;)) == (... [(0, 3)]</title>\n",
       "<path fill=\"none\" stroke=\"black\" d=\"M268,-88.97C268,-78.51 268,-64.9 268,-53.16\"/>\n",
       "</g>\n",
       "</g>\n",
       "</svg>"
      ],
      "text/plain": [
       "<IPython.core.display.SVG object>"
      ]
     },
     "metadata": {},
     "output_type": "display_data"
    }
   ],
   "source": [
    "fuel_type_ldf.show_graph()"
   ]
  },
  {
   "cell_type": "code",
   "execution_count": 7,
   "id": "369490ff",
   "metadata": {
    "execution": {
     "iopub.execute_input": "2023-12-01T20:39:01.575349Z",
     "iopub.status.busy": "2023-12-01T20:39:01.575180Z",
     "iopub.status.idle": "2023-12-01T20:39:01.816049Z",
     "shell.execute_reply": "2023-12-01T20:39:01.815711Z",
     "shell.execute_reply.started": "2023-12-01T20:39:01.575337Z"
    },
    "tags": []
   },
   "outputs": [
    {
     "data": {
      "text/html": [
       "<div>\n",
       "<style scoped>\n",
       "    .dataframe tbody tr th:only-of-type {\n",
       "        vertical-align: middle;\n",
       "    }\n",
       "\n",
       "    .dataframe tbody tr th {\n",
       "        vertical-align: top;\n",
       "    }\n",
       "\n",
       "    .dataframe thead th {\n",
       "        text-align: right;\n",
       "    }\n",
       "</style>\n",
       "<table border=\"1\" class=\"dataframe\">\n",
       "  <thead>\n",
       "    <tr style=\"text-align: right;\">\n",
       "      <th></th>\n",
       "      <th>CN</th>\n",
       "      <th>DI</th>\n",
       "      <th>ED</th>\n",
       "      <th>EL</th>\n",
       "      <th>FC</th>\n",
       "      <th>GA</th>\n",
       "      <th>GB</th>\n",
       "      <th>GD</th>\n",
       "      <th>HY</th>\n",
       "      <th>LN</th>\n",
       "      <th>LP</th>\n",
       "      <th>OT</th>\n",
       "      <th>PE</th>\n",
       "      <th>ST</th>\n",
       "    </tr>\n",
       "    <tr>\n",
       "      <th>Year</th>\n",
       "      <th></th>\n",
       "      <th></th>\n",
       "      <th></th>\n",
       "      <th></th>\n",
       "      <th></th>\n",
       "      <th></th>\n",
       "      <th></th>\n",
       "      <th></th>\n",
       "      <th></th>\n",
       "      <th></th>\n",
       "      <th></th>\n",
       "      <th></th>\n",
       "      <th></th>\n",
       "      <th></th>\n",
       "    </tr>\n",
       "  </thead>\n",
       "  <tbody>\n",
       "    <tr>\n",
       "      <th>2005</th>\n",
       "      <td>11</td>\n",
       "      <td>1258805</td>\n",
       "      <td>0</td>\n",
       "      <td>335</td>\n",
       "      <td>3</td>\n",
       "      <td>20</td>\n",
       "      <td>121</td>\n",
       "      <td>0</td>\n",
       "      <td>25</td>\n",
       "      <td>18</td>\n",
       "      <td>7030</td>\n",
       "      <td>125</td>\n",
       "      <td>4098561</td>\n",
       "      <td>26</td>\n",
       "    </tr>\n",
       "    <tr>\n",
       "      <th>2006</th>\n",
       "      <td>61</td>\n",
       "      <td>5438952</td>\n",
       "      <td>0</td>\n",
       "      <td>1699</td>\n",
       "      <td>20</td>\n",
       "      <td>50</td>\n",
       "      <td>481</td>\n",
       "      <td>1</td>\n",
       "      <td>152</td>\n",
       "      <td>53</td>\n",
       "      <td>31308</td>\n",
       "      <td>693</td>\n",
       "      <td>17368825</td>\n",
       "      <td>89</td>\n",
       "    </tr>\n",
       "    <tr>\n",
       "      <th>2007</th>\n",
       "      <td>54</td>\n",
       "      <td>5973332</td>\n",
       "      <td>0</td>\n",
       "      <td>2539</td>\n",
       "      <td>36</td>\n",
       "      <td>56</td>\n",
       "      <td>584</td>\n",
       "      <td>1</td>\n",
       "      <td>381</td>\n",
       "      <td>66</td>\n",
       "      <td>32428</td>\n",
       "      <td>1159</td>\n",
       "      <td>17411739</td>\n",
       "      <td>104</td>\n",
       "    </tr>\n",
       "    <tr>\n",
       "      <th>2008</th>\n",
       "      <td>56</td>\n",
       "      <td>6448408</td>\n",
       "      <td>0</td>\n",
       "      <td>4660</td>\n",
       "      <td>85</td>\n",
       "      <td>54</td>\n",
       "      <td>682</td>\n",
       "      <td>2</td>\n",
       "      <td>1129</td>\n",
       "      <td>65</td>\n",
       "      <td>32569</td>\n",
       "      <td>2367</td>\n",
       "      <td>17174571</td>\n",
       "      <td>110</td>\n",
       "    </tr>\n",
       "    <tr>\n",
       "      <th>2009</th>\n",
       "      <td>58</td>\n",
       "      <td>7008115</td>\n",
       "      <td>0</td>\n",
       "      <td>7980</td>\n",
       "      <td>133</td>\n",
       "      <td>57</td>\n",
       "      <td>733</td>\n",
       "      <td>3</td>\n",
       "      <td>2424</td>\n",
       "      <td>68</td>\n",
       "      <td>31810</td>\n",
       "      <td>4276</td>\n",
       "      <td>17086268</td>\n",
       "      <td>122</td>\n",
       "    </tr>\n",
       "  </tbody>\n",
       "</table>\n",
       "</div>"
      ],
      "text/plain": [
       "      CN       DI  ED    EL   FC  GA   GB  GD    HY  LN     LP    OT  \\\n",
       "Year                                                                   \n",
       "2005  11  1258805   0   335    3  20  121   0    25  18   7030   125   \n",
       "2006  61  5438952   0  1699   20  50  481   1   152  53  31308   693   \n",
       "2007  54  5973332   0  2539   36  56  584   1   381  66  32428  1159   \n",
       "2008  56  6448408   0  4660   85  54  682   2  1129  65  32569  2367   \n",
       "2009  58  7008115   0  7980  133  57  733   3  2424  68  31810  4276   \n",
       "\n",
       "            PE   ST  \n",
       "Year                 \n",
       "2005   4098561   26  \n",
       "2006  17368825   89  \n",
       "2007  17411739  104  \n",
       "2008  17174571  110  \n",
       "2009  17086268  122  "
      ]
     },
     "execution_count": 7,
     "metadata": {},
     "output_type": "execute_result"
    }
   ],
   "source": [
    "fuel_type_df = (\n",
    "    fuel_type_edf.pivot(\n",
    "        index=\"Year\",\n",
    "        columns=\"fuel_type\",\n",
    "        values=\"vehicle_count\",\n",
    "        aggregate_function=\"sum\",\n",
    "        sort_columns=True,\n",
    "    )\n",
    "    .fill_null(0)\n",
    "    .sort(by=\"Year\")\n",
    "    .to_pandas()\n",
    "    .set_index(\"Year\")\n",
    ")\n",
    "\n",
    "fuel_type_df.head()"
   ]
  },
  {
   "cell_type": "code",
   "execution_count": 8,
   "id": "4dd2e590-41ef-4082-8086-53b82b18c70e",
   "metadata": {
    "execution": {
     "iopub.execute_input": "2023-12-01T20:39:02.373492Z",
     "iopub.status.busy": "2023-12-01T20:39:02.373002Z",
     "iopub.status.idle": "2023-12-01T20:39:02.902270Z",
     "shell.execute_reply": "2023-12-01T20:39:02.901863Z",
     "shell.execute_reply.started": "2023-12-01T20:39:02.373479Z"
    },
    "lines_to_next_cell": 0,
    "tags": []
   },
   "outputs": [
    {
     "data": {
      "image/png": "[encoded data removed]",
      "text/plain": [
       "<Figure size 800x600 with 1 Axes>"
      ]
     },
     "metadata": {},
     "output_type": "display_data"
    }
   ],
   "source": [
    "import matplotlib.pyplot as plt\n",
    "from simpler_mpl import set_commas, set_common_mpl_styles\n",
    "\n",
    "fig, ax = plt.subplots(constrained_layout=True, figsize=(8, 6))\n",
    "\n",
    "fuel_type_df.loc[2006:, [\"PE\", \"DI\", \"HY\", \"EL\"]].div(1000000).reset_index().plot.bar(\n",
    "    x=\"Year\", stacked=True, title=\"Car Counts by Fuel Type\", ax=ax\n",
    ")\n",
    "\n",
    "ax.set_ylabel(\"Count (million)\")\n",
    "set_common_mpl_styles(ax=ax)\n",
    "plt.xticks(rotation=-30);"
   ]
  },
  {
   "cell_type": "code",
   "execution_count": null,
   "id": "64de13a4",
   "metadata": {
    "lines_to_next_cell": 2
   },
   "outputs": [],
   "source": []
  }
 ],
 "metadata": {
  "jupytext": {
   "formats": "ipynb,py:light"
  },
  "kernelspec": {
   "display_name": "Python 3 (ipykernel)",
   "language": "python",
   "name": "python3"
  },
  "language_info": {
   "codemirror_mode": {
    "name": "ipython",
    "version": 3
   },
   "file_extension": ".py",
   "mimetype": "text/x-python",
   "name": "python",
   "nbconvert_exporter": "python",
   "pygments_lexer": "ipython3",
   "version": "3.11.5"
  }
 },
 "nbformat": 4,
 "nbformat_minor": 5
}
