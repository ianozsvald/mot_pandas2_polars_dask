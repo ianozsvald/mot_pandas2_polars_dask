{
 "cells": [
  {
   "cell_type": "markdown",
   "metadata": {},
   "source": [
    "# Try CoW in Pandas 2.1\n",
    "\n",
    "* https://pandas.pydata.org/docs/dev/user_guide/copy_on_write.html\n",
    "* https://towardsdatascience.com/deep-dive-into-pandas-copy-on-write-mode-part-i-26982e7408c6\n",
    "* https://towardsdatascience.com/deep-dive-into-pandas-copy-on-write-mode-part-ii-b023432a5334\n",
    "\n",
    "\n",
    "Making .to_numpy() read only seems like a sensible default\n",
    "\n",
    "Can try rename columns, assign new col, drop col, reset index, set index"
   ]
  },
  {
   "cell_type": "code",
   "execution_count": 1,
   "metadata": {},
   "outputs": [
    {
     "data": {
      "text/plain": [
       "'Pandas 2.1.3'"
      ]
     },
     "metadata": {},
     "output_type": "display_data"
    },
    {
     "data": {
      "text/plain": [
       "'Running: 20231203 10:54:34, env pydataglobal2023'"
      ]
     },
     "metadata": {},
     "output_type": "display_data"
    },
    {
     "name": "stdout",
     "output_type": "stream",
     "text": [
      "Enabling IPython Memory Usage, use %imu_start to begin, %imu_stop to end\n"
     ]
    },
    {
     "data": {
      "text/plain": [
       "'IPython Memory Usage started'"
      ]
     },
     "execution_count": 1,
     "metadata": {},
     "output_type": "execute_result"
    },
    {
     "name": "stdout",
     "output_type": "stream",
     "text": [
      "In [1] used 0.2 MiB RAM in 0.11s (system mean cpu 0%, single max cpu 0%), peaked 0.0 MiB above final usage, current RAM usage now 134.8 MiB\n"
     ]
    }
   ],
   "source": [
    "import pandas as pd\n",
    "#%load_ext autoreload\n",
    "#%autoreload 2\n",
    "\n",
    "import datetime, os\n",
    "display(f\"Pandas {pd.__version__}\")\n",
    "display(f'Running: {datetime.datetime.now().strftime(\"%Y%m%d %H:%M:%S\")}, env {os.getenv(\"CONDA_DEFAULT_ENV\")}')\n",
    "\n",
    "\n",
    "%load_ext ipython_memory_usage\n",
    "%imu_start"
   ]
  },
  {
   "cell_type": "code",
   "execution_count": 2,
   "metadata": {},
   "outputs": [
    {
     "name": "stdout",
     "output_type": "stream",
     "text": [
      "Copy on Write enabled? True\n",
      "Reading from /tmp\n",
      "In [2] used 9156.6 MiB RAM in 11.82s (system mean cpu 13%, single max cpu 100%), peaked 4254.2 MiB above final usage, current RAM usage now 9291.5 MiB\n"
     ]
    }
   ],
   "source": [
    "pd.options.mode.copy_on_write = True\n",
    "print(f\"Copy on Write enabled? {pd.options.mode.copy_on_write}\")\n",
    "import pickle\n",
    "\n",
    "# first we need to write the pickled file, before we try to use it\n",
    "# else we get odd memory cleanups!\n",
    "if not os.path.exists('/tmp/test_result.pickle'):\n",
    "    print(\"MAKING TMP FILE\")\n",
    "    dfpdn = pd.read_parquet(\"../test_result_2021on.parquet\", \n",
    "                            dtype_backend=\"numpy_nullable\")\n",
    "    # cow nocow 23s +19.8GB\n",
    "    with open('/tmp/test_result.pickle', 'wb') as f:\n",
    "        pickle.dump(dfpdn, f)\n",
    "    print(\"Wrote to /tmp\")\n",
    "    1/0 # deliberate crash\n",
    "else:\n",
    "    print(\"Reading from /tmp\")\n",
    "    # if file missing, create it with the line above\n",
    "    # and then restart the kernel\n",
    "    with open('/tmp/test_result.pickle', 'rb') as f:\n",
    "        dfpdn = pickle.load(f)\n"
   ]
  },
  {
   "cell_type": "code",
   "execution_count": null,
   "metadata": {},
   "outputs": [],
   "source": [
    "#import gc\n",
    "#gc.collect() # important when using parquet file, not if using pickled"
   ]
  },
  {
   "cell_type": "code",
   "execution_count": 3,
   "metadata": {},
   "outputs": [
    {
     "name": "stdout",
     "output_type": "stream",
     "text": [
      "In [3] used 79.6 MiB RAM in 3.36s (system mean cpu 11%, single max cpu 67%), peaked 0.0 MiB above final usage, current RAM usage now 9371.1 MiB\n"
     ]
    }
   ],
   "source": [
    "df2 = dfpdn.rename(columns={'make': 'car_make'}). \\\n",
    "            assign(is_petrol = dfpdn['fuel_type'] == 'PE'). \\\n",
    "            drop(columns=['fuel_type'])\n",
    "# (nocow -120MB, peaked 9.7GB, 20s if using parquet)\n",
    "# nocow 19s, +8.6GB, peak +9.6GB\n",
    "# cow +70MB 4s no peak"
   ]
  },
  {
   "cell_type": "code",
   "execution_count": 4,
   "metadata": {},
   "outputs": [
    {
     "name": "stdout",
     "output_type": "stream",
     "text": [
      "In [4] used 0.0 MiB RAM in 0.10s (system mean cpu 0%, single max cpu 0%), peaked 0.0 MiB above final usage, current RAM usage now 9371.1 MiB\n"
     ]
    }
   ],
   "source": [
    "assert df2['is_petrol'][0] == False"
   ]
  },
  {
   "cell_type": "code",
   "execution_count": null,
   "metadata": {},
   "outputs": [],
   "source": [
    "df2['is_petrol'][0] = False # results in a ChainedAssignmentError"
   ]
  },
  {
   "cell_type": "code",
   "execution_count": 5,
   "metadata": {},
   "outputs": [
    {
     "name": "stdout",
     "output_type": "stream",
     "text": [
      "In [5] used 1329.6 MiB RAM in 0.40s (system mean cpu 15%, single max cpu 100%), peaked 0.0 MiB above final usage, current RAM usage now 10700.7 MiB\n"
     ]
    }
   ],
   "source": [
    "df2.loc[0, 'test_mileage'] = 99  # this did result in a copy occuring!\n",
    "assert df2.loc[0, 'test_mileage'] == 99\n",
    "assert dfpdn.loc[0, 'test_mileage'] == 227219"
   ]
  },
  {
   "cell_type": "code",
   "execution_count": null,
   "metadata": {},
   "outputs": [],
   "source": [
    "dfpdn.head(3)"
   ]
  },
  {
   "cell_type": "code",
   "execution_count": 6,
   "metadata": {},
   "outputs": [
    {
     "name": "stdout",
     "output_type": "stream",
     "text": [
      "In [6] used 0.0 MiB RAM in 0.10s (system mean cpu 0%, single max cpu 0%), peaked 0.0 MiB above final usage, current RAM usage now 10700.7 MiB\n"
     ]
    }
   ],
   "source": [
    "df2.loc[0, 'is_petrol'] = True # cow works, doesn't need to copy"
   ]
  },
  {
   "cell_type": "code",
   "execution_count": null,
   "metadata": {},
   "outputs": [],
   "source": [
    "arr = df2[['is_petrol']].to_numpy()\n",
    "arr.data.readonly, arr.shape\n",
    "# cow readonly true\n",
    "# nocow readonly false"
   ]
  },
  {
   "cell_type": "code",
   "execution_count": null,
   "metadata": {},
   "outputs": [],
   "source": [
    "arr[0,:] = 0 # with cow will crash ValueError: assignment destination is read-only\n"
   ]
  },
  {
   "cell_type": "code",
   "execution_count": null,
   "metadata": {},
   "outputs": [],
   "source": [
    "#arr.data.readonly = False # can't change\n",
    "arr.flags.writeable = True\n",
    "arr[0,:] = 0"
   ]
  },
  {
   "cell_type": "code",
   "execution_count": null,
   "metadata": {},
   "outputs": [],
   "source": [
    "df2 = dfpdn.rename(columns={'make': 'car_make'}). \\\n",
    "    assign(is_petrol = dfpdn['fuel_type'] == 'PE')\n",
    "# nocow 0.4GB +15s\n",
    "# cow -8.7GB +4s, i don't know how this can save ram!"
   ]
  },
  {
   "cell_type": "code",
   "execution_count": null,
   "metadata": {},
   "outputs": [],
   "source": [
    "df2 = dfpdn.set_index('test_date'). \\\n",
    "    rename(columns={'make': 'car_make'}). \\\n",
    "    assign(is_petrol = dfpdn['fuel_type'] == 'PE')\n",
    "# nocow 31s +1GB\n",
    "# cow 5s -9GB"
   ]
  },
  {
   "cell_type": "markdown",
   "metadata": {},
   "source": [
    "# Try each item broken out"
   ]
  },
  {
   "cell_type": "code",
   "execution_count": null,
   "metadata": {},
   "outputs": [],
   "source": [
    "#df2 = dfpdn.set_index('test_date')\n",
    "# nocow 5s -1.2GB\n",
    "# cow 0s -0.7GB"
   ]
  },
  {
   "cell_type": "code",
   "execution_count": null,
   "metadata": {},
   "outputs": [],
   "source": [
    "df2 = dfpdn.rename(columns={'make': 'car_make'})\n",
    "# nocow 5s +9GB\n",
    "# cow 0s -0.8GB"
   ]
  },
  {
   "cell_type": "code",
   "execution_count": null,
   "metadata": {},
   "outputs": [],
   "source": [
    "#df4 = df3.assign(is_petrol = df3['fuel_type'] == 'PE')\n",
    "# 10s +8.6GB\n",
    "# 4s -8GB"
   ]
  },
  {
   "cell_type": "code",
   "execution_count": null,
   "metadata": {},
   "outputs": [],
   "source": []
  },
  {
   "cell_type": "code",
   "execution_count": null,
   "metadata": {},
   "outputs": [],
   "source": []
  },
  {
   "cell_type": "code",
   "execution_count": null,
   "metadata": {},
   "outputs": [],
   "source": [
    "#df2 = dfpda.reset_index(drop=True)\n",
    "# nocow drop=False 5s +172MB to 700MB\n",
    "# nocow drop=True 5s -1.8GB\n",
    "# cow drop False 0s -900MB"
   ]
  },
  {
   "cell_type": "code",
   "execution_count": null,
   "metadata": {},
   "outputs": [],
   "source": []
  },
  {
   "cell_type": "code",
   "execution_count": null,
   "metadata": {},
   "outputs": [],
   "source": []
  },
  {
   "cell_type": "code",
   "execution_count": null,
   "metadata": {},
   "outputs": [],
   "source": [
    "import pandas as pd\n",
    "#%load_ext autoreload\n",
    "#%autoreload 2\n",
    "display(f\"Pandas {pd.__version__}\")\n",
    "%load_ext ipython_memory_usage\n",
    "%imu_start"
   ]
  },
  {
   "cell_type": "code",
   "execution_count": null,
   "metadata": {},
   "outputs": [],
   "source": [
    "pd.options.mode.copy_on_write = True\n",
    "print(pd.options.mode.copy_on_write)"
   ]
  },
  {
   "cell_type": "code",
   "execution_count": null,
   "metadata": {},
   "outputs": [],
   "source": [
    "import numpy as np\n",
    "NBR_ONES = 100_000_000\n",
    "# c1 c2 8bytes so 1.6GB overall\n",
    "#df = pd.DataFrame({'c1': np.ones(NBR_ONES), 'c2': np.ones(NBR_ONES)})\n",
    "df = pd.DataFrame(np.ones((NBR_ONES, 2)))\n",
    "df.columns = ['c1', 'c2']\n",
    "df._data\n",
    "# +1.5GB"
   ]
  },
  {
   "cell_type": "code",
   "execution_count": null,
   "metadata": {},
   "outputs": [],
   "source": [
    "df2 = df.reset_index(drop=True)\n",
    "# nocow cow uses 1.5GB\n",
    "# sometimes nocow uses 3GB\n",
    "df2.head(2)"
   ]
  },
  {
   "cell_type": "code",
   "execution_count": null,
   "metadata": {},
   "outputs": [],
   "source": [
    "df.iloc[0, 0] = 1\n",
    "df.iloc[0, 1] = 1\n",
    "# cow seems to add +760 per column modified, which feels weird, regardless of of 2d block or 2*1d arrays"
   ]
  },
  {
   "cell_type": "code",
   "execution_count": null,
   "metadata": {},
   "outputs": [],
   "source": [
    "df3 = df2.drop(columns=['c2'])\n",
    "# cow uses 0.6mb\n",
    "# nocow uses 760MB (1.5GB if index wasn't dropped)\n",
    "df3.head(2)"
   ]
  },
  {
   "cell_type": "code",
   "execution_count": null,
   "metadata": {},
   "outputs": [],
   "source": [
    "arr = df3.to_numpy()\n",
    "# cow nocow False readonly, True writeable (varies by 1d or 2d)\n",
    "# 1d cow True ro, nocow False ro\n",
    "print(arr.data.readonly, arr.flags.writeable)\n",
    "arr"
   ]
  },
  {
   "cell_type": "code",
   "execution_count": null,
   "metadata": {},
   "outputs": [],
   "source": [
    "#\n",
    "#df = pd.DataFrame({\"a\": [1, 2], \"b\": [1.5, 2.5]})\n",
    "#display(df._data) # generates 2 blocks\n",
    "#arr = df.to_numpy()\n",
    "#print(arr.data.readonly, arr.flags.writeable)\n",
    "#arr[0, 0] = 100\n",
    "# nocow cow succeeds, df not modified, arr modified\n",
    "#df, arr"
   ]
  },
  {
   "cell_type": "code",
   "execution_count": null,
   "metadata": {},
   "outputs": [],
   "source": [
    "\n",
    "#df = pd.DataFrame({\"a\": [1, 2], \"b\": [3, 4]})\n",
    "#display(df._data) # generates 1 block\n",
    "#arr = df.to_numpy()\n",
    "#print(arr.data.readonly, arr.flags.writeable)\n",
    "#arr[0, 0] = 100\n",
    "## cow fails to write (True ro)\n",
    "## nocow succeeds (False ro)\n",
    "#df, arr"
   ]
  },
  {
   "cell_type": "code",
   "execution_count": null,
   "metadata": {},
   "outputs": [],
   "source": []
  },
  {
   "cell_type": "code",
   "execution_count": null,
   "metadata": {},
   "outputs": [],
   "source": []
  },
  {
   "cell_type": "code",
   "execution_count": null,
   "metadata": {},
   "outputs": [],
   "source": []
  },
  {
   "cell_type": "code",
   "execution_count": null,
   "metadata": {},
   "outputs": [],
   "source": []
  },
  {
   "cell_type": "code",
   "execution_count": null,
   "metadata": {},
   "outputs": [],
   "source": [
    "1/0"
   ]
  },
  {
   "cell_type": "code",
   "execution_count": null,
   "metadata": {},
   "outputs": [],
   "source": []
  },
  {
   "cell_type": "code",
   "execution_count": null,
   "metadata": {},
   "outputs": [],
   "source": []
  },
  {
   "cell_type": "code",
   "execution_count": null,
   "metadata": {},
   "outputs": [],
   "source": [
    "df3.columns"
   ]
  },
  {
   "cell_type": "code",
   "execution_count": null,
   "metadata": {},
   "outputs": [],
   "source": [
    "dfpda = pd.read_parquet(\"../test_result_2021on.parquet\", \n",
    "                        dtype_backend=\"pyarrow\")\n",
    "pd.options.mode.copy_on_write = False\n",
    "print(pd.options.mode.copy_on_write)"
   ]
  },
  {
   "cell_type": "code",
   "execution_count": null,
   "metadata": {},
   "outputs": [],
   "source": [
    "dfx2 = dfpda.reset_index(drop=True)\n",
    "dfx2['test_class_id'] = 1"
   ]
  },
  {
   "cell_type": "code",
   "execution_count": null,
   "metadata": {},
   "outputs": [],
   "source": [
    "dfx2 = dfx2.assign(test_type_4 = dfx2['test_class_id'] == 4)\n",
    "dfx2.head(2)"
   ]
  },
  {
   "cell_type": "code",
   "execution_count": null,
   "metadata": {},
   "outputs": [],
   "source": [
    "\n"
   ]
  }
 ],
 "metadata": {
  "kernelspec": {
   "display_name": "pydataglobal2023",
   "language": "python",
   "name": "python3"
  },
  "language_info": {
   "codemirror_mode": {
    "name": "ipython",
    "version": 3
   },
   "file_extension": ".py",
   "mimetype": "text/x-python",
   "name": "python",
   "nbconvert_exporter": "python",
   "pygments_lexer": "ipython3",
   "version": "3.11.5"
  }
 },
 "nbformat": 4,
 "nbformat_minor": 2
}
