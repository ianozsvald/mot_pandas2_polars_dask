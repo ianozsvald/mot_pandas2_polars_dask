{
 "cells": [
  {
   "cell_type": "markdown",
   "metadata": {},
   "source": [
    "# Try CoW in Pandas 2.1\n",
    "\n",
    "* https://pandas.pydata.org/docs/dev/user_guide/copy_on_write.html\n",
    "* https://towardsdatascience.com/deep-dive-into-pandas-copy-on-write-mode-part-i-26982e7408c6\n",
    "* https://towardsdatascience.com/deep-dive-into-pandas-copy-on-write-mode-part-ii-b023432a5334\n",
    "\n",
    "\n",
    "Making .to_numpy() read only seems like a sensible default\n",
    "\n",
    "Can try rename columns, assign new col, drop col, reset index, set index"
   ]
  },
  {
   "cell_type": "code",
   "execution_count": 1,
   "metadata": {},
   "outputs": [
    {
     "data": {
      "text/plain": [
       "'Pandas 2.1.3'"
      ]
     },
     "metadata": {},
     "output_type": "display_data"
    },
    {
     "name": "stdout",
     "output_type": "stream",
     "text": [
      "Enabling IPython Memory Usage, use %imu_start to begin, %imu_stop to end\n"
     ]
    },
    {
     "data": {
      "text/plain": [
       "'IPython Memory Usage started'"
      ]
     },
     "execution_count": 1,
     "metadata": {},
     "output_type": "execute_result"
    },
    {
     "name": "stdout",
     "output_type": "stream",
     "text": [
      "In [1] used 0.4 MiB RAM in 0.11s (system mean cpu 0%, single max cpu 0%), peaked 0.0 MiB above final usage, current RAM usage now 132.8 MiB\n"
     ]
    }
   ],
   "source": [
    "import pandas as pd\n",
    "#%load_ext autoreload\n",
    "#%autoreload 2\n",
    "\n",
    "import datetime, os\n",
    "display(f\"Pandas {pd.__version__}\")\n",
    "display(f'Running: {datetime.datetime.now().strftime(\"%Y%m%d %H:%M:%S\")}, env {os.getenv(\"CONDA_DEFAULT_ENV\")}')\n",
    "\n",
    "\n",
    "%load_ext ipython_memory_usage\n",
    "%imu_start"
   ]
  },
  {
   "cell_type": "code",
   "execution_count": 2,
   "metadata": {},
   "outputs": [
    {
     "name": "stdout",
     "output_type": "stream",
     "text": [
      "Copy on Write enabled? True\n",
      "Reading from /tmp\n",
      "In [2] used 9156.6 MiB RAM in 19.61s (system mean cpu 26%, single max cpu 100%), peaked 4334.5 MiB above final usage, current RAM usage now 9289.5 MiB\n"
     ]
    }
   ],
   "source": [
    "pd.options.mode.copy_on_write = True\n",
    "print(f\"Copy on Write enabled? {pd.options.mode.copy_on_write}\")\n",
    "import pickle\n",
    "\n",
    "# first we need to write the pickled file, before we try to use it\n",
    "# else we get odd memory cleanups!\n",
    "if False:\n",
    "    dfpdn = pd.read_parquet(\"../test_result_2021on.parquet\", \n",
    "                            dtype_backend=\"numpy_nullable\")\n",
    "    # cow nocow 23s +19.8GB\n",
    "    with open('/tmp/test_result.pickle', 'wb') as f:\n",
    "        pickle.dump(dfpdn, f)\n",
    "    print(\"Wrote to /tmp\")\n",
    "else:\n",
    "    print(\"Reading from /tmp\")\n",
    "    # if file missing, create it with the line above\n",
    "    # and then restart the kernel\n",
    "    with open('/tmp/test_result.pickle', 'rb') as f:\n",
    "        dfpdn = pickle.load(f)\n"
   ]
  },
  {
   "cell_type": "code",
   "execution_count": 3,
   "metadata": {},
   "outputs": [
    {
     "data": {
      "text/plain": [
       "0"
      ]
     },
     "execution_count": 3,
     "metadata": {},
     "output_type": "execute_result"
    },
    {
     "name": "stdout",
     "output_type": "stream",
     "text": [
      "In [3] used 0.1 MiB RAM in 0.16s (system mean cpu 23%, single max cpu 72%), peaked 0.0 MiB above final usage, current RAM usage now 9289.6 MiB\n"
     ]
    }
   ],
   "source": [
    "import gc\n",
    "gc.collect() # important!"
   ]
  },
  {
   "cell_type": "code",
   "execution_count": 4,
   "metadata": {},
   "outputs": [
    {
     "name": "stdout",
     "output_type": "stream",
     "text": [
      "In [4] used 79.4 MiB RAM in 5.85s (system mean cpu 0%, single max cpu 0%), peaked 0.0 MiB above final usage, current RAM usage now 9369.0 MiB\n"
     ]
    }
   ],
   "source": [
    "df2 = dfpdn.rename(columns={'make': 'car_make'}). \\\n",
    "            assign(is_petrol = dfpdn['fuel_type'] == 'PE'). \\\n",
    "            drop(columns=['fuel_type'])\n",
    "# (nocow -120MB, peaked 9.7GB, 20s if using parquet)\n",
    "# nocow 19s, +8.6GB, peak +9.6GB\n",
    "# cow +70MB 4s no peak"
   ]
  },
  {
   "cell_type": "code",
   "execution_count": 5,
   "metadata": {},
   "outputs": [
    {
     "data": {
      "text/plain": [
       "(True, (82012245, 1))"
      ]
     },
     "execution_count": 5,
     "metadata": {},
     "output_type": "execute_result"
    },
    {
     "name": "stdout",
     "output_type": "stream",
     "text": [
      "In [5] used 0.2 MiB RAM in 0.11s (system mean cpu 0%, single max cpu 0%), peaked 0.0 MiB above final usage, current RAM usage now 9369.2 MiB\n"
     ]
    }
   ],
   "source": [
    "arr = df2[['is_petrol']].to_numpy()\n",
    "arr.data.readonly, arr.shape\n",
    "# cow readonly true\n",
    "# nocow readonly false"
   ]
  },
  {
   "cell_type": "code",
   "execution_count": 6,
   "metadata": {},
   "outputs": [
    {
     "ename": "ValueError",
     "evalue": "assignment destination is read-only",
     "output_type": "error",
     "traceback": [
      "\u001b[0;31m---------------------------------------------------------------------------\u001b[0m",
      "\u001b[0;31mValueError\u001b[0m                                Traceback (most recent call last)",
      "\u001b[1;32m/home/ian/workspace/personal/mot_pandas2_polars_dask/experiments/20231130_pandas_cow.ipynb Cell 7\u001b[0m line \u001b[0;36m1\n\u001b[0;32m----> <a href='vscode-notebook-cell:/home/ian/workspace/personal/mot_pandas2_polars_dask/experiments/20231130_pandas_cow.ipynb#Y122sZmlsZQ%3D%3D?line=0'>1</a>\u001b[0m arr[\u001b[39m0\u001b[39;49m,:] \u001b[39m=\u001b[39m \u001b[39m99\u001b[39m\n",
      "\u001b[0;31mValueError\u001b[0m: assignment destination is read-only"
     ]
    },
    {
     "name": "stdout",
     "output_type": "stream",
     "text": [
      "In [6] used 6.1 MiB RAM in 0.28s (system mean cpu 19%, single max cpu 62%), peaked 0.0 MiB above final usage, current RAM usage now 9375.3 MiB\n"
     ]
    }
   ],
   "source": [
    "arr[0,:] = 99"
   ]
  },
  {
   "cell_type": "code",
   "execution_count": 12,
   "metadata": {},
   "outputs": [
    {
     "name": "stdout",
     "output_type": "stream",
     "text": [
      "In [12] used 0.0 MiB RAM in 0.10s (system mean cpu 0%, single max cpu 0%), peaked 0.0 MiB above final usage, current RAM usage now 9375.8 MiB\n"
     ]
    }
   ],
   "source": [
    "#arr.data.readonly = False # can't change\n",
    "arr.flags.writeable = True\n",
    "arr[0,:] = 0"
   ]
  },
  {
   "cell_type": "code",
   "execution_count": null,
   "metadata": {},
   "outputs": [],
   "source": [
    "df2 = dfpdn.rename(columns={'make': 'car_make'}). \\\n",
    "    assign(is_petrol = dfpdn['fuel_type'] == 'PE')\n",
    "# nocow 0.4GB +15s\n",
    "# cow -8.7GB +4s, i don't know how this can save ram!"
   ]
  },
  {
   "cell_type": "code",
   "execution_count": null,
   "metadata": {},
   "outputs": [],
   "source": [
    "df2 = dfpdn.set_index('test_date'). \\\n",
    "    rename(columns={'make': 'car_make'}). \\\n",
    "    assign(is_petrol = dfpdn['fuel_type'] == 'PE')\n",
    "# nocow 31s +1GB\n",
    "# cow 5s -9GB"
   ]
  },
  {
   "cell_type": "markdown",
   "metadata": {},
   "source": [
    "# Try each item broken out"
   ]
  },
  {
   "cell_type": "code",
   "execution_count": null,
   "metadata": {},
   "outputs": [],
   "source": [
    "#df2 = dfpdn.set_index('test_date')\n",
    "# nocow 5s -1.2GB\n",
    "# cow 0s -0.7GB"
   ]
  },
  {
   "cell_type": "code",
   "execution_count": null,
   "metadata": {},
   "outputs": [],
   "source": [
    "df2 = dfpdn.rename(columns={'make': 'car_make'})\n",
    "# nocow 5s +9GB\n",
    "# cow 0s -0.8GB"
   ]
  },
  {
   "cell_type": "code",
   "execution_count": null,
   "metadata": {},
   "outputs": [],
   "source": [
    "#df4 = df3.assign(is_petrol = df3['fuel_type'] == 'PE')\n",
    "# 10s +8.6GB\n",
    "# 4s -8GB"
   ]
  },
  {
   "cell_type": "code",
   "execution_count": null,
   "metadata": {},
   "outputs": [],
   "source": []
  },
  {
   "cell_type": "code",
   "execution_count": null,
   "metadata": {},
   "outputs": [],
   "source": []
  },
  {
   "cell_type": "code",
   "execution_count": null,
   "metadata": {},
   "outputs": [],
   "source": [
    "#df2 = dfpda.reset_index(drop=True)\n",
    "# nocow drop=False 5s +172MB to 700MB\n",
    "# nocow drop=True 5s -1.8GB\n",
    "# cow drop False 0s -900MB"
   ]
  },
  {
   "cell_type": "code",
   "execution_count": null,
   "metadata": {},
   "outputs": [],
   "source": []
  },
  {
   "cell_type": "code",
   "execution_count": null,
   "metadata": {},
   "outputs": [],
   "source": []
  },
  {
   "cell_type": "code",
   "execution_count": null,
   "metadata": {},
   "outputs": [],
   "source": [
    "import pandas as pd\n",
    "#%load_ext autoreload\n",
    "#%autoreload 2\n",
    "display(f\"Pandas {pd.__version__}\")\n",
    "%load_ext ipython_memory_usage\n",
    "%imu_start"
   ]
  },
  {
   "cell_type": "code",
   "execution_count": null,
   "metadata": {},
   "outputs": [],
   "source": [
    "pd.options.mode.copy_on_write = True\n",
    "print(pd.options.mode.copy_on_write)"
   ]
  },
  {
   "cell_type": "code",
   "execution_count": null,
   "metadata": {},
   "outputs": [],
   "source": [
    "import numpy as np\n",
    "NBR_ONES = 100_000_000\n",
    "# c1 c2 8bytes so 1.6GB overall\n",
    "#df = pd.DataFrame({'c1': np.ones(NBR_ONES), 'c2': np.ones(NBR_ONES)})\n",
    "df = pd.DataFrame(np.ones((NBR_ONES, 2)))\n",
    "df.columns = ['c1', 'c2']\n",
    "df._data\n",
    "# +1.5GB"
   ]
  },
  {
   "cell_type": "code",
   "execution_count": null,
   "metadata": {},
   "outputs": [],
   "source": [
    "df2 = df.reset_index(drop=True)\n",
    "# nocow cow uses 1.5GB\n",
    "# sometimes nocow uses 3GB\n",
    "df2.head(2)"
   ]
  },
  {
   "cell_type": "code",
   "execution_count": null,
   "metadata": {},
   "outputs": [],
   "source": [
    "df.iloc[0, 0] = 1\n",
    "df.iloc[0, 1] = 1\n",
    "# cow seems to add +760 per column modified, which feels weird, regardless of of 2d block or 2*1d arrays"
   ]
  },
  {
   "cell_type": "code",
   "execution_count": null,
   "metadata": {},
   "outputs": [],
   "source": [
    "df3 = df2.drop(columns=['c2'])\n",
    "# cow uses 0.6mb\n",
    "# nocow uses 760MB (1.5GB if index wasn't dropped)\n",
    "df3.head(2)"
   ]
  },
  {
   "cell_type": "code",
   "execution_count": null,
   "metadata": {},
   "outputs": [],
   "source": [
    "arr = df3.to_numpy()\n",
    "# cow nocow False readonly, True writeable (varies by 1d or 2d)\n",
    "# 1d cow True ro, nocow False ro\n",
    "print(arr.data.readonly, arr.flags.writeable)\n",
    "arr"
   ]
  },
  {
   "cell_type": "code",
   "execution_count": null,
   "metadata": {},
   "outputs": [],
   "source": [
    "#\n",
    "#df = pd.DataFrame({\"a\": [1, 2], \"b\": [1.5, 2.5]})\n",
    "#display(df._data) # generates 2 blocks\n",
    "#arr = df.to_numpy()\n",
    "#print(arr.data.readonly, arr.flags.writeable)\n",
    "#arr[0, 0] = 100\n",
    "# nocow cow succeeds, df not modified, arr modified\n",
    "#df, arr"
   ]
  },
  {
   "cell_type": "code",
   "execution_count": null,
   "metadata": {},
   "outputs": [],
   "source": [
    "\n",
    "#df = pd.DataFrame({\"a\": [1, 2], \"b\": [3, 4]})\n",
    "#display(df._data) # generates 1 block\n",
    "#arr = df.to_numpy()\n",
    "#print(arr.data.readonly, arr.flags.writeable)\n",
    "#arr[0, 0] = 100\n",
    "## cow fails to write (True ro)\n",
    "## nocow succeeds (False ro)\n",
    "#df, arr"
   ]
  },
  {
   "cell_type": "code",
   "execution_count": null,
   "metadata": {},
   "outputs": [],
   "source": []
  },
  {
   "cell_type": "code",
   "execution_count": null,
   "metadata": {},
   "outputs": [],
   "source": []
  },
  {
   "cell_type": "code",
   "execution_count": null,
   "metadata": {},
   "outputs": [],
   "source": []
  },
  {
   "cell_type": "code",
   "execution_count": null,
   "metadata": {},
   "outputs": [],
   "source": []
  },
  {
   "cell_type": "code",
   "execution_count": null,
   "metadata": {},
   "outputs": [],
   "source": [
    "1/0"
   ]
  },
  {
   "cell_type": "code",
   "execution_count": null,
   "metadata": {},
   "outputs": [],
   "source": []
  },
  {
   "cell_type": "code",
   "execution_count": null,
   "metadata": {},
   "outputs": [],
   "source": []
  },
  {
   "cell_type": "code",
   "execution_count": null,
   "metadata": {},
   "outputs": [],
   "source": [
    "df3.columns"
   ]
  },
  {
   "cell_type": "code",
   "execution_count": null,
   "metadata": {},
   "outputs": [],
   "source": [
    "dfpda = pd.read_parquet(\"../test_result_2021on.parquet\", \n",
    "                        dtype_backend=\"pyarrow\")\n",
    "pd.options.mode.copy_on_write = False\n",
    "print(pd.options.mode.copy_on_write)"
   ]
  },
  {
   "cell_type": "code",
   "execution_count": null,
   "metadata": {},
   "outputs": [],
   "source": [
    "dfx2 = dfpda.reset_index(drop=True)\n",
    "dfx2['test_class_id'] = 1"
   ]
  },
  {
   "cell_type": "code",
   "execution_count": null,
   "metadata": {},
   "outputs": [],
   "source": [
    "dfx2 = dfx2.assign(test_type_4 = dfx2['test_class_id'] == 4)\n",
    "dfx2.head(2)"
   ]
  },
  {
   "cell_type": "code",
   "execution_count": null,
   "metadata": {},
   "outputs": [],
   "source": [
    "\n"
   ]
  }
 ],
 "metadata": {
  "kernelspec": {
   "display_name": "pydataglobal2023",
   "language": "python",
   "name": "python3"
  },
  "language_info": {
   "codemirror_mode": {
    "name": "ipython",
    "version": 3
   },
   "file_extension": ".py",
   "mimetype": "text/x-python",
   "name": "python",
   "nbconvert_exporter": "python",
   "pygments_lexer": "ipython3",
   "version": "3.11.5"
  }
 },
 "nbformat": 4,
 "nbformat_minor": 2
}
