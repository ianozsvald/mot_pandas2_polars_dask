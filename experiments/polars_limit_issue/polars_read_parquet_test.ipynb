{
 "cells": [
  {
   "cell_type": "markdown",
   "id": "5b50dc02",
   "metadata": {},
   "source": [
    "# OOM errors with scan_parquet > limit > collect\n",
    "\n",
    "See https://github.com/pola-rs/polars/issues/9001"
   ]
  },
  {
   "cell_type": "code",
   "execution_count": 1,
   "id": "8701e358",
   "metadata": {},
   "outputs": [],
   "source": [
    "import polars as pl\n",
    "import pyarrow.dataset as ds"
   ]
  },
  {
   "cell_type": "code",
   "execution_count": 2,
   "id": "fee5054c-7464-4b62-8d05-7eb299adee9b",
   "metadata": {},
   "outputs": [
    {
     "name": "stdout",
     "output_type": "stream",
     "text": [
      "--------Version info---------\n",
      "Polars:               0.19.18\n",
      "Index type:           UInt32\n",
      "Platform:             Linux-6.1.0-13-amd64-x86_64-with-glibc2.36\n",
      "Python:               3.11.5 (main, Sep 11 2023, 13:54:46) [GCC 11.2.0]\n",
      "\n",
      "----Optional dependencies----\n",
      "adbc_driver_manager:  <not installed>\n",
      "cloudpickle:          3.0.0\n",
      "connectorx:           <not installed>\n",
      "deltalake:            <not installed>\n",
      "fsspec:               2023.10.0\n",
      "gevent:               <not installed>\n",
      "matplotlib:           3.8.2\n",
      "numpy:                1.26.2\n",
      "openpyxl:             <not installed>\n",
      "pandas:               2.1.3\n",
      "pyarrow:              14.0.1\n",
      "pydantic:             <not installed>\n",
      "pyiceberg:            <not installed>\n",
      "pyxlsb:               <not installed>\n",
      "sqlalchemy:           <not installed>\n",
      "xlsx2csv:             <not installed>\n",
      "xlsxwriter:           <not installed>\n"
     ]
    }
   ],
   "source": [
    "pl.show_versions()"
   ]
  },
  {
   "cell_type": "code",
   "execution_count": 3,
   "id": "05cff916",
   "metadata": {},
   "outputs": [],
   "source": [
    "# 635m row dataset\n",
    "scan_path = \"../../test_result.parquet/*.parquet\""
   ]
  },
  {
   "cell_type": "markdown",
   "id": "94582bdb",
   "metadata": {},
   "source": [
    "## Eager"
   ]
  },
  {
   "cell_type": "code",
   "execution_count": 4,
   "id": "10e509dd",
   "metadata": {},
   "outputs": [
    {
     "data": {
      "text/html": [
       "<div><style>\n",
       ".dataframe > thead > tr,\n",
       ".dataframe > tbody > tr {\n",
       "  text-align: right;\n",
       "  white-space: pre-wrap;\n",
       "}\n",
       "</style>\n",
       "<small>shape: (5, 14)</small><table border=\"1\" class=\"dataframe\"><thead><tr><th>test_id</th><th>vehicle_id</th><th>test_date</th><th>test_class_id</th><th>test_type</th><th>test_result</th><th>test_mileage</th><th>postcode_area</th><th>make</th><th>model</th><th>colour</th><th>fuel_type</th><th>cylinder_capacity</th><th>first_use_date</th></tr><tr><td>i64</td><td>i64</td><td>datetime[μs]</td><td>i64</td><td>str</td><td>str</td><td>i64</td><td>str</td><td>str</td><td>str</td><td>str</td><td>str</td><td>i64</td><td>datetime[μs]</td></tr></thead><tbody><tr><td>804664368</td><td>256274986</td><td>2005-01-01 00:00:00</td><td>0</td><td>&quot;NT&quot;</td><td>&quot;P&quot;</td><td>23459</td><td>&quot;TF&quot;</td><td>&quot;FORD&quot;</td><td>&quot;UNCLASSIFIED&quot;</td><td>&quot;SILVER&quot;</td><td>&quot;PE&quot;</td><td>null</td><td>null</td></tr><tr><td>392603376</td><td>633988704</td><td>2005-01-01 00:00:00</td><td>0</td><td>&quot;NT&quot;</td><td>&quot;P&quot;</td><td>40961</td><td>&quot;E&quot;</td><td>&quot;LOTUS&quot;</td><td>&quot;UNCLASSIFIED&quot;</td><td>&quot;RED&quot;</td><td>&quot;PE&quot;</td><td>null</td><td>null</td></tr><tr><td>1894843206</td><td>1320781748</td><td>2005-01-01 00:00:00</td><td>0</td><td>&quot;NT&quot;</td><td>&quot;P&quot;</td><td>16416</td><td>&quot;S&quot;</td><td>&quot;VAUXHALL&quot;</td><td>&quot;UNCLASSIFIED&quot;</td><td>&quot;BLUE&quot;</td><td>&quot;PE&quot;</td><td>null</td><td>null</td></tr><tr><td>830908928</td><td>1263031090</td><td>2005-01-01 00:00:00</td><td>4</td><td>&quot;NT&quot;</td><td>&quot;P&quot;</td><td>93318</td><td>&quot;W&quot;</td><td>&quot;LAND ROVER&quot;</td><td>&quot;109 V8 S.W.&quot;</td><td>&quot;BLUE&quot;</td><td>&quot;PE&quot;</td><td>3528</td><td>1981-04-06 00:00:00</td></tr><tr><td>727535460</td><td>1123257842</td><td>2005-01-01 00:00:00</td><td>4</td><td>&quot;NT&quot;</td><td>&quot;P&quot;</td><td>121930</td><td>&quot;RG&quot;</td><td>&quot;CITROEN&quot;</td><td>&quot;AX&quot;</td><td>&quot;WHITE&quot;</td><td>&quot;DI&quot;</td><td>1360</td><td>1993-08-31 00:00:00</td></tr></tbody></table></div>"
      ],
      "text/plain": [
       "shape: (5, 14)\n",
       "┌────────────┬────────────┬───────────┬───────────┬───┬────────┬───────────┬───────────┬───────────┐\n",
       "│ test_id    ┆ vehicle_id ┆ test_date ┆ test_clas ┆ … ┆ colour ┆ fuel_type ┆ cylinder_ ┆ first_use │\n",
       "│ ---        ┆ ---        ┆ ---       ┆ s_id      ┆   ┆ ---    ┆ ---       ┆ capacity  ┆ _date     │\n",
       "│ i64        ┆ i64        ┆ datetime[ ┆ ---       ┆   ┆ str    ┆ str       ┆ ---       ┆ ---       │\n",
       "│            ┆            ┆ μs]       ┆ i64       ┆   ┆        ┆           ┆ i64       ┆ datetime[ │\n",
       "│            ┆            ┆           ┆           ┆   ┆        ┆           ┆           ┆ μs]       │\n",
       "╞════════════╪════════════╪═══════════╪═══════════╪═══╪════════╪═══════════╪═══════════╪═══════════╡\n",
       "│ 804664368  ┆ 256274986  ┆ 2005-01-0 ┆ 0         ┆ … ┆ SILVER ┆ PE        ┆ null      ┆ null      │\n",
       "│            ┆            ┆ 1         ┆           ┆   ┆        ┆           ┆           ┆           │\n",
       "│            ┆            ┆ 00:00:00  ┆           ┆   ┆        ┆           ┆           ┆           │\n",
       "│ 392603376  ┆ 633988704  ┆ 2005-01-0 ┆ 0         ┆ … ┆ RED    ┆ PE        ┆ null      ┆ null      │\n",
       "│            ┆            ┆ 1         ┆           ┆   ┆        ┆           ┆           ┆           │\n",
       "│            ┆            ┆ 00:00:00  ┆           ┆   ┆        ┆           ┆           ┆           │\n",
       "│ 1894843206 ┆ 1320781748 ┆ 2005-01-0 ┆ 0         ┆ … ┆ BLUE   ┆ PE        ┆ null      ┆ null      │\n",
       "│            ┆            ┆ 1         ┆           ┆   ┆        ┆           ┆           ┆           │\n",
       "│            ┆            ┆ 00:00:00  ┆           ┆   ┆        ┆           ┆           ┆           │\n",
       "│ 830908928  ┆ 1263031090 ┆ 2005-01-0 ┆ 4         ┆ … ┆ BLUE   ┆ PE        ┆ 3528      ┆ 1981-04-0 │\n",
       "│            ┆            ┆ 1         ┆           ┆   ┆        ┆           ┆           ┆ 6         │\n",
       "│            ┆            ┆ 00:00:00  ┆           ┆   ┆        ┆           ┆           ┆ 00:00:00  │\n",
       "│ 727535460  ┆ 1123257842 ┆ 2005-01-0 ┆ 4         ┆ … ┆ WHITE  ┆ DI        ┆ 1360      ┆ 1993-08-3 │\n",
       "│            ┆            ┆ 1         ┆           ┆   ┆        ┆           ┆           ┆ 1         │\n",
       "│            ┆            ┆ 00:00:00  ┆           ┆   ┆        ┆           ┆           ┆ 00:00:00  │\n",
       "└────────────┴────────────┴───────────┴───────────┴───┴────────┴───────────┴───────────┴───────────┘"
      ]
     },
     "execution_count": 4,
     "metadata": {},
     "output_type": "execute_result"
    }
   ],
   "source": [
    "df = pl.read_parquet(scan_path, n_rows=1000)\n",
    "df.limit(5)"
   ]
  },
  {
   "cell_type": "code",
   "execution_count": 5,
   "id": "4ac744e8",
   "metadata": {},
   "outputs": [
    {
     "data": {
      "text/html": [
       "<div><style>\n",
       ".dataframe > thead > tr,\n",
       ".dataframe > tbody > tr {\n",
       "  text-align: right;\n",
       "  white-space: pre-wrap;\n",
       "}\n",
       "</style>\n",
       "<small>shape: (5, 14)</small><table border=\"1\" class=\"dataframe\"><thead><tr><th>test_id</th><th>vehicle_id</th><th>test_date</th><th>test_class_id</th><th>test_type</th><th>test_result</th><th>test_mileage</th><th>postcode_area</th><th>make</th><th>model</th><th>colour</th><th>fuel_type</th><th>cylinder_capacity</th><th>first_use_date</th></tr><tr><td>i64</td><td>i64</td><td>datetime[μs]</td><td>i64</td><td>str</td><td>str</td><td>i64</td><td>str</td><td>str</td><td>str</td><td>str</td><td>str</td><td>i64</td><td>datetime[μs]</td></tr></thead><tbody><tr><td>804664368</td><td>256274986</td><td>2005-01-01 00:00:00</td><td>0</td><td>&quot;NT&quot;</td><td>&quot;P&quot;</td><td>23459</td><td>&quot;TF&quot;</td><td>&quot;FORD&quot;</td><td>&quot;UNCLASSIFIED&quot;</td><td>&quot;SILVER&quot;</td><td>&quot;PE&quot;</td><td>null</td><td>null</td></tr><tr><td>392603376</td><td>633988704</td><td>2005-01-01 00:00:00</td><td>0</td><td>&quot;NT&quot;</td><td>&quot;P&quot;</td><td>40961</td><td>&quot;E&quot;</td><td>&quot;LOTUS&quot;</td><td>&quot;UNCLASSIFIED&quot;</td><td>&quot;RED&quot;</td><td>&quot;PE&quot;</td><td>null</td><td>null</td></tr><tr><td>1894843206</td><td>1320781748</td><td>2005-01-01 00:00:00</td><td>0</td><td>&quot;NT&quot;</td><td>&quot;P&quot;</td><td>16416</td><td>&quot;S&quot;</td><td>&quot;VAUXHALL&quot;</td><td>&quot;UNCLASSIFIED&quot;</td><td>&quot;BLUE&quot;</td><td>&quot;PE&quot;</td><td>null</td><td>null</td></tr><tr><td>830908928</td><td>1263031090</td><td>2005-01-01 00:00:00</td><td>4</td><td>&quot;NT&quot;</td><td>&quot;P&quot;</td><td>93318</td><td>&quot;W&quot;</td><td>&quot;LAND ROVER&quot;</td><td>&quot;109 V8 S.W.&quot;</td><td>&quot;BLUE&quot;</td><td>&quot;PE&quot;</td><td>3528</td><td>1981-04-06 00:00:00</td></tr><tr><td>727535460</td><td>1123257842</td><td>2005-01-01 00:00:00</td><td>4</td><td>&quot;NT&quot;</td><td>&quot;P&quot;</td><td>121930</td><td>&quot;RG&quot;</td><td>&quot;CITROEN&quot;</td><td>&quot;AX&quot;</td><td>&quot;WHITE&quot;</td><td>&quot;DI&quot;</td><td>1360</td><td>1993-08-31 00:00:00</td></tr></tbody></table></div>"
      ],
      "text/plain": [
       "shape: (5, 14)\n",
       "┌────────────┬────────────┬───────────┬───────────┬───┬────────┬───────────┬───────────┬───────────┐\n",
       "│ test_id    ┆ vehicle_id ┆ test_date ┆ test_clas ┆ … ┆ colour ┆ fuel_type ┆ cylinder_ ┆ first_use │\n",
       "│ ---        ┆ ---        ┆ ---       ┆ s_id      ┆   ┆ ---    ┆ ---       ┆ capacity  ┆ _date     │\n",
       "│ i64        ┆ i64        ┆ datetime[ ┆ ---       ┆   ┆ str    ┆ str       ┆ ---       ┆ ---       │\n",
       "│            ┆            ┆ μs]       ┆ i64       ┆   ┆        ┆           ┆ i64       ┆ datetime[ │\n",
       "│            ┆            ┆           ┆           ┆   ┆        ┆           ┆           ┆ μs]       │\n",
       "╞════════════╪════════════╪═══════════╪═══════════╪═══╪════════╪═══════════╪═══════════╪═══════════╡\n",
       "│ 804664368  ┆ 256274986  ┆ 2005-01-0 ┆ 0         ┆ … ┆ SILVER ┆ PE        ┆ null      ┆ null      │\n",
       "│            ┆            ┆ 1         ┆           ┆   ┆        ┆           ┆           ┆           │\n",
       "│            ┆            ┆ 00:00:00  ┆           ┆   ┆        ┆           ┆           ┆           │\n",
       "│ 392603376  ┆ 633988704  ┆ 2005-01-0 ┆ 0         ┆ … ┆ RED    ┆ PE        ┆ null      ┆ null      │\n",
       "│            ┆            ┆ 1         ┆           ┆   ┆        ┆           ┆           ┆           │\n",
       "│            ┆            ┆ 00:00:00  ┆           ┆   ┆        ┆           ┆           ┆           │\n",
       "│ 1894843206 ┆ 1320781748 ┆ 2005-01-0 ┆ 0         ┆ … ┆ BLUE   ┆ PE        ┆ null      ┆ null      │\n",
       "│            ┆            ┆ 1         ┆           ┆   ┆        ┆           ┆           ┆           │\n",
       "│            ┆            ┆ 00:00:00  ┆           ┆   ┆        ┆           ┆           ┆           │\n",
       "│ 830908928  ┆ 1263031090 ┆ 2005-01-0 ┆ 4         ┆ … ┆ BLUE   ┆ PE        ┆ 3528      ┆ 1981-04-0 │\n",
       "│            ┆            ┆ 1         ┆           ┆   ┆        ┆           ┆           ┆ 6         │\n",
       "│            ┆            ┆ 00:00:00  ┆           ┆   ┆        ┆           ┆           ┆ 00:00:00  │\n",
       "│ 727535460  ┆ 1123257842 ┆ 2005-01-0 ┆ 4         ┆ … ┆ WHITE  ┆ DI        ┆ 1360      ┆ 1993-08-3 │\n",
       "│            ┆            ┆ 1         ┆           ┆   ┆        ┆           ┆           ┆ 1         │\n",
       "│            ┆            ┆ 00:00:00  ┆           ┆   ┆        ┆           ┆           ┆ 00:00:00  │\n",
       "└────────────┴────────────┴───────────┴───────────┴───┴────────┴───────────┴───────────┴───────────┘"
      ]
     },
     "execution_count": 5,
     "metadata": {},
     "output_type": "execute_result"
    }
   ],
   "source": [
    "df = pl.read_parquet(\"../../test_result.parquet/part.0.parquet\", use_pyarrow=True)\n",
    "df.limit(5)"
   ]
  },
  {
   "cell_type": "code",
   "execution_count": 6,
   "id": "8bf00253",
   "metadata": {},
   "outputs": [
    {
     "data": {
      "text/plain": [
       "OrderedDict([('test_id', Int64),\n",
       "             ('vehicle_id', Int64),\n",
       "             ('test_date', Datetime(time_unit='us', time_zone=None)),\n",
       "             ('test_class_id', Int64),\n",
       "             ('test_type', Utf8),\n",
       "             ('test_result', Utf8),\n",
       "             ('test_mileage', Int64),\n",
       "             ('postcode_area', Utf8),\n",
       "             ('make', Utf8),\n",
       "             ('model', Utf8),\n",
       "             ('colour', Utf8),\n",
       "             ('fuel_type', Utf8),\n",
       "             ('cylinder_capacity', Int64),\n",
       "             ('first_use_date', Datetime(time_unit='us', time_zone=None))])"
      ]
     },
     "execution_count": 6,
     "metadata": {},
     "output_type": "execute_result"
    }
   ],
   "source": [
    "df.schema"
   ]
  },
  {
   "cell_type": "markdown",
   "id": "40174ef7",
   "metadata": {},
   "source": [
    "## Lazy"
   ]
  },
  {
   "cell_type": "code",
   "execution_count": 7,
   "id": "1411da67",
   "metadata": {},
   "outputs": [
    {
     "data": {
      "text/plain": [
       "OrderedDict([('test_id', Int64),\n",
       "             ('vehicle_id', Int64),\n",
       "             ('test_date', Datetime(time_unit='us', time_zone=None)),\n",
       "             ('test_class_id', Int64),\n",
       "             ('test_type', Utf8),\n",
       "             ('test_result', Utf8),\n",
       "             ('test_mileage', Int64),\n",
       "             ('postcode_area', Utf8),\n",
       "             ('make', Utf8),\n",
       "             ('model', Utf8),\n",
       "             ('colour', Utf8),\n",
       "             ('fuel_type', Utf8),\n",
       "             ('cylinder_capacity', Int64),\n",
       "             ('first_use_date', Datetime(time_unit='us', time_zone=None))])"
      ]
     },
     "execution_count": 7,
     "metadata": {},
     "output_type": "execute_result"
    }
   ],
   "source": [
    "lf = pl.scan_parquet(scan_path, n_rows=1000)\n",
    "lf.schema"
   ]
  },
  {
   "cell_type": "code",
   "execution_count": 8,
   "id": "f1b63540",
   "metadata": {},
   "outputs": [
    {
     "data": {
      "text/plain": [
       "OrderedDict([('test_id', Int64),\n",
       "             ('vehicle_id', Int64),\n",
       "             ('test_date', Datetime(time_unit='us', time_zone=None)),\n",
       "             ('test_class_id', Int64),\n",
       "             ('test_type', Utf8),\n",
       "             ('test_result', Utf8),\n",
       "             ('test_mileage', Int64),\n",
       "             ('postcode_area', Utf8),\n",
       "             ('make', Utf8),\n",
       "             ('model', Utf8),\n",
       "             ('colour', Utf8),\n",
       "             ('fuel_type', Utf8),\n",
       "             ('cylinder_capacity', Int64),\n",
       "             ('first_use_date', Datetime(time_unit='us', time_zone=None))])"
      ]
     },
     "execution_count": 8,
     "metadata": {},
     "output_type": "execute_result"
    }
   ],
   "source": [
    "lf = pl.scan_pyarrow_dataset(ds.dataset(\"../../test_result.parquet\", format=\"parquet\"))\n",
    "lf.schema"
   ]
  },
  {
   "cell_type": "markdown",
   "id": "8eb90ac4",
   "metadata": {},
   "source": [
    "### Collect"
   ]
  },
  {
   "cell_type": "code",
   "execution_count": 9,
   "id": "c9b62066",
   "metadata": {},
   "outputs": [
    {
     "name": "stdout",
     "output_type": "stream",
     "text": [
      "CPU times: user 373 ms, sys: 104 ms, total: 478 ms\n",
      "Wall time: 54.3 ms\n"
     ]
    },
    {
     "data": {
      "text/html": [
       "<div><style>\n",
       ".dataframe > thead > tr,\n",
       ".dataframe > tbody > tr {\n",
       "  text-align: right;\n",
       "  white-space: pre-wrap;\n",
       "}\n",
       "</style>\n",
       "<small>shape: (5, 14)</small><table border=\"1\" class=\"dataframe\"><thead><tr><th>test_id</th><th>vehicle_id</th><th>test_date</th><th>test_class_id</th><th>test_type</th><th>test_result</th><th>test_mileage</th><th>postcode_area</th><th>make</th><th>model</th><th>colour</th><th>fuel_type</th><th>cylinder_capacity</th><th>first_use_date</th></tr><tr><td>i64</td><td>i64</td><td>datetime[μs]</td><td>i64</td><td>str</td><td>str</td><td>i64</td><td>str</td><td>str</td><td>str</td><td>str</td><td>str</td><td>i64</td><td>datetime[μs]</td></tr></thead><tbody><tr><td>804664368</td><td>256274986</td><td>2005-01-01 00:00:00</td><td>0</td><td>&quot;NT&quot;</td><td>&quot;P&quot;</td><td>23459</td><td>&quot;TF&quot;</td><td>&quot;FORD&quot;</td><td>&quot;UNCLASSIFIED&quot;</td><td>&quot;SILVER&quot;</td><td>&quot;PE&quot;</td><td>null</td><td>null</td></tr><tr><td>392603376</td><td>633988704</td><td>2005-01-01 00:00:00</td><td>0</td><td>&quot;NT&quot;</td><td>&quot;P&quot;</td><td>40961</td><td>&quot;E&quot;</td><td>&quot;LOTUS&quot;</td><td>&quot;UNCLASSIFIED&quot;</td><td>&quot;RED&quot;</td><td>&quot;PE&quot;</td><td>null</td><td>null</td></tr><tr><td>1894843206</td><td>1320781748</td><td>2005-01-01 00:00:00</td><td>0</td><td>&quot;NT&quot;</td><td>&quot;P&quot;</td><td>16416</td><td>&quot;S&quot;</td><td>&quot;VAUXHALL&quot;</td><td>&quot;UNCLASSIFIED&quot;</td><td>&quot;BLUE&quot;</td><td>&quot;PE&quot;</td><td>null</td><td>null</td></tr><tr><td>830908928</td><td>1263031090</td><td>2005-01-01 00:00:00</td><td>4</td><td>&quot;NT&quot;</td><td>&quot;P&quot;</td><td>93318</td><td>&quot;W&quot;</td><td>&quot;LAND ROVER&quot;</td><td>&quot;109 V8 S.W.&quot;</td><td>&quot;BLUE&quot;</td><td>&quot;PE&quot;</td><td>3528</td><td>1981-04-06 00:00:00</td></tr><tr><td>727535460</td><td>1123257842</td><td>2005-01-01 00:00:00</td><td>4</td><td>&quot;NT&quot;</td><td>&quot;P&quot;</td><td>121930</td><td>&quot;RG&quot;</td><td>&quot;CITROEN&quot;</td><td>&quot;AX&quot;</td><td>&quot;WHITE&quot;</td><td>&quot;DI&quot;</td><td>1360</td><td>1993-08-31 00:00:00</td></tr></tbody></table></div>"
      ],
      "text/plain": [
       "shape: (5, 14)\n",
       "┌────────────┬────────────┬───────────┬───────────┬───┬────────┬───────────┬───────────┬───────────┐\n",
       "│ test_id    ┆ vehicle_id ┆ test_date ┆ test_clas ┆ … ┆ colour ┆ fuel_type ┆ cylinder_ ┆ first_use │\n",
       "│ ---        ┆ ---        ┆ ---       ┆ s_id      ┆   ┆ ---    ┆ ---       ┆ capacity  ┆ _date     │\n",
       "│ i64        ┆ i64        ┆ datetime[ ┆ ---       ┆   ┆ str    ┆ str       ┆ ---       ┆ ---       │\n",
       "│            ┆            ┆ μs]       ┆ i64       ┆   ┆        ┆           ┆ i64       ┆ datetime[ │\n",
       "│            ┆            ┆           ┆           ┆   ┆        ┆           ┆           ┆ μs]       │\n",
       "╞════════════╪════════════╪═══════════╪═══════════╪═══╪════════╪═══════════╪═══════════╪═══════════╡\n",
       "│ 804664368  ┆ 256274986  ┆ 2005-01-0 ┆ 0         ┆ … ┆ SILVER ┆ PE        ┆ null      ┆ null      │\n",
       "│            ┆            ┆ 1         ┆           ┆   ┆        ┆           ┆           ┆           │\n",
       "│            ┆            ┆ 00:00:00  ┆           ┆   ┆        ┆           ┆           ┆           │\n",
       "│ 392603376  ┆ 633988704  ┆ 2005-01-0 ┆ 0         ┆ … ┆ RED    ┆ PE        ┆ null      ┆ null      │\n",
       "│            ┆            ┆ 1         ┆           ┆   ┆        ┆           ┆           ┆           │\n",
       "│            ┆            ┆ 00:00:00  ┆           ┆   ┆        ┆           ┆           ┆           │\n",
       "│ 1894843206 ┆ 1320781748 ┆ 2005-01-0 ┆ 0         ┆ … ┆ BLUE   ┆ PE        ┆ null      ┆ null      │\n",
       "│            ┆            ┆ 1         ┆           ┆   ┆        ┆           ┆           ┆           │\n",
       "│            ┆            ┆ 00:00:00  ┆           ┆   ┆        ┆           ┆           ┆           │\n",
       "│ 830908928  ┆ 1263031090 ┆ 2005-01-0 ┆ 4         ┆ … ┆ BLUE   ┆ PE        ┆ 3528      ┆ 1981-04-0 │\n",
       "│            ┆            ┆ 1         ┆           ┆   ┆        ┆           ┆           ┆ 6         │\n",
       "│            ┆            ┆ 00:00:00  ┆           ┆   ┆        ┆           ┆           ┆ 00:00:00  │\n",
       "│ 727535460  ┆ 1123257842 ┆ 2005-01-0 ┆ 4         ┆ … ┆ WHITE  ┆ DI        ┆ 1360      ┆ 1993-08-3 │\n",
       "│            ┆            ┆ 1         ┆           ┆   ┆        ┆           ┆           ┆ 1         │\n",
       "│            ┆            ┆ 00:00:00  ┆           ┆   ┆        ┆           ┆           ┆ 00:00:00  │\n",
       "└────────────┴────────────┴───────────┴───────────┴───┴────────┴───────────┴───────────┴───────────┘"
      ]
     },
     "execution_count": 9,
     "metadata": {},
     "output_type": "execute_result"
    }
   ],
   "source": [
    "%%time\n",
    "lf.limit(5).collect()"
   ]
  },
  {
   "cell_type": "code",
   "execution_count": 10,
   "id": "593f3646",
   "metadata": {},
   "outputs": [
    {
     "name": "stdout",
     "output_type": "stream",
     "text": [
      "CPU times: user 799 ms, sys: 145 ms, total: 945 ms\n",
      "Wall time: 91.1 ms\n"
     ]
    },
    {
     "data": {
      "text/html": [
       "<div><style>\n",
       ".dataframe > thead > tr,\n",
       ".dataframe > tbody > tr {\n",
       "  text-align: right;\n",
       "  white-space: pre-wrap;\n",
       "}\n",
       "</style>\n",
       "<small>shape: (5, 14)</small><table border=\"1\" class=\"dataframe\"><thead><tr><th>test_id</th><th>vehicle_id</th><th>test_date</th><th>test_class_id</th><th>test_type</th><th>test_result</th><th>test_mileage</th><th>postcode_area</th><th>make</th><th>model</th><th>colour</th><th>fuel_type</th><th>cylinder_capacity</th><th>first_use_date</th></tr><tr><td>i64</td><td>i64</td><td>datetime[μs]</td><td>i64</td><td>str</td><td>str</td><td>i64</td><td>str</td><td>str</td><td>str</td><td>str</td><td>str</td><td>i64</td><td>datetime[μs]</td></tr></thead><tbody><tr><td>804664368</td><td>256274986</td><td>2005-01-01 00:00:00</td><td>0</td><td>&quot;NT&quot;</td><td>&quot;P&quot;</td><td>23459</td><td>&quot;TF&quot;</td><td>&quot;FORD&quot;</td><td>&quot;UNCLASSIFIED&quot;</td><td>&quot;SILVER&quot;</td><td>&quot;PE&quot;</td><td>null</td><td>null</td></tr><tr><td>392603376</td><td>633988704</td><td>2005-01-01 00:00:00</td><td>0</td><td>&quot;NT&quot;</td><td>&quot;P&quot;</td><td>40961</td><td>&quot;E&quot;</td><td>&quot;LOTUS&quot;</td><td>&quot;UNCLASSIFIED&quot;</td><td>&quot;RED&quot;</td><td>&quot;PE&quot;</td><td>null</td><td>null</td></tr><tr><td>1894843206</td><td>1320781748</td><td>2005-01-01 00:00:00</td><td>0</td><td>&quot;NT&quot;</td><td>&quot;P&quot;</td><td>16416</td><td>&quot;S&quot;</td><td>&quot;VAUXHALL&quot;</td><td>&quot;UNCLASSIFIED&quot;</td><td>&quot;BLUE&quot;</td><td>&quot;PE&quot;</td><td>null</td><td>null</td></tr><tr><td>830908928</td><td>1263031090</td><td>2005-01-01 00:00:00</td><td>4</td><td>&quot;NT&quot;</td><td>&quot;P&quot;</td><td>93318</td><td>&quot;W&quot;</td><td>&quot;LAND ROVER&quot;</td><td>&quot;109 V8 S.W.&quot;</td><td>&quot;BLUE&quot;</td><td>&quot;PE&quot;</td><td>3528</td><td>1981-04-06 00:00:00</td></tr><tr><td>727535460</td><td>1123257842</td><td>2005-01-01 00:00:00</td><td>4</td><td>&quot;NT&quot;</td><td>&quot;P&quot;</td><td>121930</td><td>&quot;RG&quot;</td><td>&quot;CITROEN&quot;</td><td>&quot;AX&quot;</td><td>&quot;WHITE&quot;</td><td>&quot;DI&quot;</td><td>1360</td><td>1993-08-31 00:00:00</td></tr></tbody></table></div>"
      ],
      "text/plain": [
       "shape: (5, 14)\n",
       "┌────────────┬────────────┬───────────┬───────────┬───┬────────┬───────────┬───────────┬───────────┐\n",
       "│ test_id    ┆ vehicle_id ┆ test_date ┆ test_clas ┆ … ┆ colour ┆ fuel_type ┆ cylinder_ ┆ first_use │\n",
       "│ ---        ┆ ---        ┆ ---       ┆ s_id      ┆   ┆ ---    ┆ ---       ┆ capacity  ┆ _date     │\n",
       "│ i64        ┆ i64        ┆ datetime[ ┆ ---       ┆   ┆ str    ┆ str       ┆ ---       ┆ ---       │\n",
       "│            ┆            ┆ μs]       ┆ i64       ┆   ┆        ┆           ┆ i64       ┆ datetime[ │\n",
       "│            ┆            ┆           ┆           ┆   ┆        ┆           ┆           ┆ μs]       │\n",
       "╞════════════╪════════════╪═══════════╪═══════════╪═══╪════════╪═══════════╪═══════════╪═══════════╡\n",
       "│ 804664368  ┆ 256274986  ┆ 2005-01-0 ┆ 0         ┆ … ┆ SILVER ┆ PE        ┆ null      ┆ null      │\n",
       "│            ┆            ┆ 1         ┆           ┆   ┆        ┆           ┆           ┆           │\n",
       "│            ┆            ┆ 00:00:00  ┆           ┆   ┆        ┆           ┆           ┆           │\n",
       "│ 392603376  ┆ 633988704  ┆ 2005-01-0 ┆ 0         ┆ … ┆ RED    ┆ PE        ┆ null      ┆ null      │\n",
       "│            ┆            ┆ 1         ┆           ┆   ┆        ┆           ┆           ┆           │\n",
       "│            ┆            ┆ 00:00:00  ┆           ┆   ┆        ┆           ┆           ┆           │\n",
       "│ 1894843206 ┆ 1320781748 ┆ 2005-01-0 ┆ 0         ┆ … ┆ BLUE   ┆ PE        ┆ null      ┆ null      │\n",
       "│            ┆            ┆ 1         ┆           ┆   ┆        ┆           ┆           ┆           │\n",
       "│            ┆            ┆ 00:00:00  ┆           ┆   ┆        ┆           ┆           ┆           │\n",
       "│ 830908928  ┆ 1263031090 ┆ 2005-01-0 ┆ 4         ┆ … ┆ BLUE   ┆ PE        ┆ 3528      ┆ 1981-04-0 │\n",
       "│            ┆            ┆ 1         ┆           ┆   ┆        ┆           ┆           ┆ 6         │\n",
       "│            ┆            ┆ 00:00:00  ┆           ┆   ┆        ┆           ┆           ┆ 00:00:00  │\n",
       "│ 727535460  ┆ 1123257842 ┆ 2005-01-0 ┆ 4         ┆ … ┆ WHITE  ┆ DI        ┆ 1360      ┆ 1993-08-3 │\n",
       "│            ┆            ┆ 1         ┆           ┆   ┆        ┆           ┆           ┆ 1         │\n",
       "│            ┆            ┆ 00:00:00  ┆           ┆   ┆        ┆           ┆           ┆ 00:00:00  │\n",
       "└────────────┴────────────┴───────────┴───────────┴───┴────────┴───────────┴───────────┴───────────┘"
      ]
     },
     "execution_count": 10,
     "metadata": {},
     "output_type": "execute_result"
    }
   ],
   "source": [
    "%%time\n",
    "# Streaming is faster\n",
    "lf.limit(5).collect(streaming=True)"
   ]
  },
  {
   "cell_type": "markdown",
   "id": "c52dea79",
   "metadata": {},
   "source": [
    "### Fetch"
   ]
  },
  {
   "cell_type": "raw",
   "id": "34be4edd",
   "metadata": {},
   "source": [
    "%%time\n",
    "# OOMs with scan_pyarrow_dataset\n",
    "lf.fetch(n_rows=5).limit(5)"
   ]
  },
  {
   "cell_type": "code",
   "execution_count": 11,
   "id": "6fdd7383",
   "metadata": {},
   "outputs": [
    {
     "name": "stdout",
     "output_type": "stream",
     "text": [
      "CPU times: user 766 ms, sys: 89.1 ms, total: 855 ms\n",
      "Wall time: 81.8 ms\n"
     ]
    },
    {
     "data": {
      "text/html": [
       "<div><style>\n",
       ".dataframe > thead > tr,\n",
       ".dataframe > tbody > tr {\n",
       "  text-align: right;\n",
       "  white-space: pre-wrap;\n",
       "}\n",
       "</style>\n",
       "<small>shape: (5, 14)</small><table border=\"1\" class=\"dataframe\"><thead><tr><th>test_id</th><th>vehicle_id</th><th>test_date</th><th>test_class_id</th><th>test_type</th><th>test_result</th><th>test_mileage</th><th>postcode_area</th><th>make</th><th>model</th><th>colour</th><th>fuel_type</th><th>cylinder_capacity</th><th>first_use_date</th></tr><tr><td>i64</td><td>i64</td><td>datetime[μs]</td><td>i64</td><td>str</td><td>str</td><td>i64</td><td>str</td><td>str</td><td>str</td><td>str</td><td>str</td><td>i64</td><td>datetime[μs]</td></tr></thead><tbody><tr><td>804664368</td><td>256274986</td><td>2005-01-01 00:00:00</td><td>0</td><td>&quot;NT&quot;</td><td>&quot;P&quot;</td><td>23459</td><td>&quot;TF&quot;</td><td>&quot;FORD&quot;</td><td>&quot;UNCLASSIFIED&quot;</td><td>&quot;SILVER&quot;</td><td>&quot;PE&quot;</td><td>null</td><td>null</td></tr><tr><td>392603376</td><td>633988704</td><td>2005-01-01 00:00:00</td><td>0</td><td>&quot;NT&quot;</td><td>&quot;P&quot;</td><td>40961</td><td>&quot;E&quot;</td><td>&quot;LOTUS&quot;</td><td>&quot;UNCLASSIFIED&quot;</td><td>&quot;RED&quot;</td><td>&quot;PE&quot;</td><td>null</td><td>null</td></tr><tr><td>1894843206</td><td>1320781748</td><td>2005-01-01 00:00:00</td><td>0</td><td>&quot;NT&quot;</td><td>&quot;P&quot;</td><td>16416</td><td>&quot;S&quot;</td><td>&quot;VAUXHALL&quot;</td><td>&quot;UNCLASSIFIED&quot;</td><td>&quot;BLUE&quot;</td><td>&quot;PE&quot;</td><td>null</td><td>null</td></tr><tr><td>830908928</td><td>1263031090</td><td>2005-01-01 00:00:00</td><td>4</td><td>&quot;NT&quot;</td><td>&quot;P&quot;</td><td>93318</td><td>&quot;W&quot;</td><td>&quot;LAND ROVER&quot;</td><td>&quot;109 V8 S.W.&quot;</td><td>&quot;BLUE&quot;</td><td>&quot;PE&quot;</td><td>3528</td><td>1981-04-06 00:00:00</td></tr><tr><td>727535460</td><td>1123257842</td><td>2005-01-01 00:00:00</td><td>4</td><td>&quot;NT&quot;</td><td>&quot;P&quot;</td><td>121930</td><td>&quot;RG&quot;</td><td>&quot;CITROEN&quot;</td><td>&quot;AX&quot;</td><td>&quot;WHITE&quot;</td><td>&quot;DI&quot;</td><td>1360</td><td>1993-08-31 00:00:00</td></tr></tbody></table></div>"
      ],
      "text/plain": [
       "shape: (5, 14)\n",
       "┌────────────┬────────────┬───────────┬───────────┬───┬────────┬───────────┬───────────┬───────────┐\n",
       "│ test_id    ┆ vehicle_id ┆ test_date ┆ test_clas ┆ … ┆ colour ┆ fuel_type ┆ cylinder_ ┆ first_use │\n",
       "│ ---        ┆ ---        ┆ ---       ┆ s_id      ┆   ┆ ---    ┆ ---       ┆ capacity  ┆ _date     │\n",
       "│ i64        ┆ i64        ┆ datetime[ ┆ ---       ┆   ┆ str    ┆ str       ┆ ---       ┆ ---       │\n",
       "│            ┆            ┆ μs]       ┆ i64       ┆   ┆        ┆           ┆ i64       ┆ datetime[ │\n",
       "│            ┆            ┆           ┆           ┆   ┆        ┆           ┆           ┆ μs]       │\n",
       "╞════════════╪════════════╪═══════════╪═══════════╪═══╪════════╪═══════════╪═══════════╪═══════════╡\n",
       "│ 804664368  ┆ 256274986  ┆ 2005-01-0 ┆ 0         ┆ … ┆ SILVER ┆ PE        ┆ null      ┆ null      │\n",
       "│            ┆            ┆ 1         ┆           ┆   ┆        ┆           ┆           ┆           │\n",
       "│            ┆            ┆ 00:00:00  ┆           ┆   ┆        ┆           ┆           ┆           │\n",
       "│ 392603376  ┆ 633988704  ┆ 2005-01-0 ┆ 0         ┆ … ┆ RED    ┆ PE        ┆ null      ┆ null      │\n",
       "│            ┆            ┆ 1         ┆           ┆   ┆        ┆           ┆           ┆           │\n",
       "│            ┆            ┆ 00:00:00  ┆           ┆   ┆        ┆           ┆           ┆           │\n",
       "│ 1894843206 ┆ 1320781748 ┆ 2005-01-0 ┆ 0         ┆ … ┆ BLUE   ┆ PE        ┆ null      ┆ null      │\n",
       "│            ┆            ┆ 1         ┆           ┆   ┆        ┆           ┆           ┆           │\n",
       "│            ┆            ┆ 00:00:00  ┆           ┆   ┆        ┆           ┆           ┆           │\n",
       "│ 830908928  ┆ 1263031090 ┆ 2005-01-0 ┆ 4         ┆ … ┆ BLUE   ┆ PE        ┆ 3528      ┆ 1981-04-0 │\n",
       "│            ┆            ┆ 1         ┆           ┆   ┆        ┆           ┆           ┆ 6         │\n",
       "│            ┆            ┆ 00:00:00  ┆           ┆   ┆        ┆           ┆           ┆ 00:00:00  │\n",
       "│ 727535460  ┆ 1123257842 ┆ 2005-01-0 ┆ 4         ┆ … ┆ WHITE  ┆ DI        ┆ 1360      ┆ 1993-08-3 │\n",
       "│            ┆            ┆ 1         ┆           ┆   ┆        ┆           ┆           ┆ 1         │\n",
       "│            ┆            ┆ 00:00:00  ┆           ┆   ┆        ┆           ┆           ┆ 00:00:00  │\n",
       "└────────────┴────────────┴───────────┴───────────┴───┴────────┴───────────┴───────────┴───────────┘"
      ]
     },
     "execution_count": 11,
     "metadata": {},
     "output_type": "execute_result"
    }
   ],
   "source": [
    "%%time\n",
    "lf.limit(5).fetch(n_rows=5)"
   ]
  },
  {
   "cell_type": "raw",
   "id": "862d14bc",
   "metadata": {},
   "source": [
    "%%time\n",
    "# OOMs with scan_pyarrow_dataset\n",
    "lf.fetch(streaming=True).limit(5)"
   ]
  },
  {
   "cell_type": "code",
   "execution_count": 12,
   "id": "dc208c08",
   "metadata": {},
   "outputs": [
    {
     "name": "stdout",
     "output_type": "stream",
     "text": [
      "CPU times: user 814 ms, sys: 47.8 ms, total: 862 ms\n",
      "Wall time: 83.3 ms\n"
     ]
    },
    {
     "name": "stderr",
     "output_type": "stream",
     "text": [
      "<timed eval>:2: UserWarning: Cannot combine 'streaming' with 'comm_subplan_elim'. CSE will be turned off.\n"
     ]
    },
    {
     "data": {
      "text/html": [
       "<div><style>\n",
       ".dataframe > thead > tr,\n",
       ".dataframe > tbody > tr {\n",
       "  text-align: right;\n",
       "  white-space: pre-wrap;\n",
       "}\n",
       "</style>\n",
       "<small>shape: (5, 14)</small><table border=\"1\" class=\"dataframe\"><thead><tr><th>test_id</th><th>vehicle_id</th><th>test_date</th><th>test_class_id</th><th>test_type</th><th>test_result</th><th>test_mileage</th><th>postcode_area</th><th>make</th><th>model</th><th>colour</th><th>fuel_type</th><th>cylinder_capacity</th><th>first_use_date</th></tr><tr><td>i64</td><td>i64</td><td>datetime[μs]</td><td>i64</td><td>str</td><td>str</td><td>i64</td><td>str</td><td>str</td><td>str</td><td>str</td><td>str</td><td>i64</td><td>datetime[μs]</td></tr></thead><tbody><tr><td>804664368</td><td>256274986</td><td>2005-01-01 00:00:00</td><td>0</td><td>&quot;NT&quot;</td><td>&quot;P&quot;</td><td>23459</td><td>&quot;TF&quot;</td><td>&quot;FORD&quot;</td><td>&quot;UNCLASSIFIED&quot;</td><td>&quot;SILVER&quot;</td><td>&quot;PE&quot;</td><td>null</td><td>null</td></tr><tr><td>392603376</td><td>633988704</td><td>2005-01-01 00:00:00</td><td>0</td><td>&quot;NT&quot;</td><td>&quot;P&quot;</td><td>40961</td><td>&quot;E&quot;</td><td>&quot;LOTUS&quot;</td><td>&quot;UNCLASSIFIED&quot;</td><td>&quot;RED&quot;</td><td>&quot;PE&quot;</td><td>null</td><td>null</td></tr><tr><td>1894843206</td><td>1320781748</td><td>2005-01-01 00:00:00</td><td>0</td><td>&quot;NT&quot;</td><td>&quot;P&quot;</td><td>16416</td><td>&quot;S&quot;</td><td>&quot;VAUXHALL&quot;</td><td>&quot;UNCLASSIFIED&quot;</td><td>&quot;BLUE&quot;</td><td>&quot;PE&quot;</td><td>null</td><td>null</td></tr><tr><td>830908928</td><td>1263031090</td><td>2005-01-01 00:00:00</td><td>4</td><td>&quot;NT&quot;</td><td>&quot;P&quot;</td><td>93318</td><td>&quot;W&quot;</td><td>&quot;LAND ROVER&quot;</td><td>&quot;109 V8 S.W.&quot;</td><td>&quot;BLUE&quot;</td><td>&quot;PE&quot;</td><td>3528</td><td>1981-04-06 00:00:00</td></tr><tr><td>727535460</td><td>1123257842</td><td>2005-01-01 00:00:00</td><td>4</td><td>&quot;NT&quot;</td><td>&quot;P&quot;</td><td>121930</td><td>&quot;RG&quot;</td><td>&quot;CITROEN&quot;</td><td>&quot;AX&quot;</td><td>&quot;WHITE&quot;</td><td>&quot;DI&quot;</td><td>1360</td><td>1993-08-31 00:00:00</td></tr></tbody></table></div>"
      ],
      "text/plain": [
       "shape: (5, 14)\n",
       "┌────────────┬────────────┬───────────┬───────────┬───┬────────┬───────────┬───────────┬───────────┐\n",
       "│ test_id    ┆ vehicle_id ┆ test_date ┆ test_clas ┆ … ┆ colour ┆ fuel_type ┆ cylinder_ ┆ first_use │\n",
       "│ ---        ┆ ---        ┆ ---       ┆ s_id      ┆   ┆ ---    ┆ ---       ┆ capacity  ┆ _date     │\n",
       "│ i64        ┆ i64        ┆ datetime[ ┆ ---       ┆   ┆ str    ┆ str       ┆ ---       ┆ ---       │\n",
       "│            ┆            ┆ μs]       ┆ i64       ┆   ┆        ┆           ┆ i64       ┆ datetime[ │\n",
       "│            ┆            ┆           ┆           ┆   ┆        ┆           ┆           ┆ μs]       │\n",
       "╞════════════╪════════════╪═══════════╪═══════════╪═══╪════════╪═══════════╪═══════════╪═══════════╡\n",
       "│ 804664368  ┆ 256274986  ┆ 2005-01-0 ┆ 0         ┆ … ┆ SILVER ┆ PE        ┆ null      ┆ null      │\n",
       "│            ┆            ┆ 1         ┆           ┆   ┆        ┆           ┆           ┆           │\n",
       "│            ┆            ┆ 00:00:00  ┆           ┆   ┆        ┆           ┆           ┆           │\n",
       "│ 392603376  ┆ 633988704  ┆ 2005-01-0 ┆ 0         ┆ … ┆ RED    ┆ PE        ┆ null      ┆ null      │\n",
       "│            ┆            ┆ 1         ┆           ┆   ┆        ┆           ┆           ┆           │\n",
       "│            ┆            ┆ 00:00:00  ┆           ┆   ┆        ┆           ┆           ┆           │\n",
       "│ 1894843206 ┆ 1320781748 ┆ 2005-01-0 ┆ 0         ┆ … ┆ BLUE   ┆ PE        ┆ null      ┆ null      │\n",
       "│            ┆            ┆ 1         ┆           ┆   ┆        ┆           ┆           ┆           │\n",
       "│            ┆            ┆ 00:00:00  ┆           ┆   ┆        ┆           ┆           ┆           │\n",
       "│ 830908928  ┆ 1263031090 ┆ 2005-01-0 ┆ 4         ┆ … ┆ BLUE   ┆ PE        ┆ 3528      ┆ 1981-04-0 │\n",
       "│            ┆            ┆ 1         ┆           ┆   ┆        ┆           ┆           ┆ 6         │\n",
       "│            ┆            ┆ 00:00:00  ┆           ┆   ┆        ┆           ┆           ┆ 00:00:00  │\n",
       "│ 727535460  ┆ 1123257842 ┆ 2005-01-0 ┆ 4         ┆ … ┆ WHITE  ┆ DI        ┆ 1360      ┆ 1993-08-3 │\n",
       "│            ┆            ┆ 1         ┆           ┆   ┆        ┆           ┆           ┆ 1         │\n",
       "│            ┆            ┆ 00:00:00  ┆           ┆   ┆        ┆           ┆           ┆ 00:00:00  │\n",
       "└────────────┴────────────┴───────────┴───────────┴───┴────────┴───────────┴───────────┴───────────┘"
      ]
     },
     "execution_count": 12,
     "metadata": {},
     "output_type": "execute_result"
    }
   ],
   "source": [
    "%%time\n",
    "# More speed!\n",
    "lf.limit(5).fetch(streaming=True)"
   ]
  },
  {
   "cell_type": "markdown",
   "id": "aa8cdc7c",
   "metadata": {},
   "source": [
    "## Issue report examples"
   ]
  },
  {
   "cell_type": "code",
   "execution_count": 13,
   "id": "b9339e0c",
   "metadata": {},
   "outputs": [
    {
     "name": "stdout",
     "output_type": "stream",
     "text": [
      "CPU times: user 160 ms, sys: 10.7 ms, total: 171 ms\n",
      "Wall time: 19.5 ms\n"
     ]
    },
    {
     "data": {
      "text/html": [
       "<div><style>\n",
       ".dataframe > thead > tr,\n",
       ".dataframe > tbody > tr {\n",
       "  text-align: right;\n",
       "  white-space: pre-wrap;\n",
       "}\n",
       "</style>\n",
       "<small>shape: (5, 14)</small><table border=\"1\" class=\"dataframe\"><thead><tr><th>test_id</th><th>vehicle_id</th><th>test_date</th><th>test_class_id</th><th>test_type</th><th>test_result</th><th>test_mileage</th><th>postcode_area</th><th>make</th><th>model</th><th>colour</th><th>fuel_type</th><th>cylinder_capacity</th><th>first_use_date</th></tr><tr><td>i64</td><td>i64</td><td>datetime[μs]</td><td>i64</td><td>str</td><td>str</td><td>i64</td><td>str</td><td>str</td><td>str</td><td>str</td><td>str</td><td>i64</td><td>datetime[μs]</td></tr></thead><tbody><tr><td>804664368</td><td>256274986</td><td>2005-01-01 00:00:00</td><td>0</td><td>&quot;NT&quot;</td><td>&quot;P&quot;</td><td>23459</td><td>&quot;TF&quot;</td><td>&quot;FORD&quot;</td><td>&quot;UNCLASSIFIED&quot;</td><td>&quot;SILVER&quot;</td><td>&quot;PE&quot;</td><td>null</td><td>null</td></tr><tr><td>392603376</td><td>633988704</td><td>2005-01-01 00:00:00</td><td>0</td><td>&quot;NT&quot;</td><td>&quot;P&quot;</td><td>40961</td><td>&quot;E&quot;</td><td>&quot;LOTUS&quot;</td><td>&quot;UNCLASSIFIED&quot;</td><td>&quot;RED&quot;</td><td>&quot;PE&quot;</td><td>null</td><td>null</td></tr><tr><td>1894843206</td><td>1320781748</td><td>2005-01-01 00:00:00</td><td>0</td><td>&quot;NT&quot;</td><td>&quot;P&quot;</td><td>16416</td><td>&quot;S&quot;</td><td>&quot;VAUXHALL&quot;</td><td>&quot;UNCLASSIFIED&quot;</td><td>&quot;BLUE&quot;</td><td>&quot;PE&quot;</td><td>null</td><td>null</td></tr><tr><td>830908928</td><td>1263031090</td><td>2005-01-01 00:00:00</td><td>4</td><td>&quot;NT&quot;</td><td>&quot;P&quot;</td><td>93318</td><td>&quot;W&quot;</td><td>&quot;LAND ROVER&quot;</td><td>&quot;109 V8 S.W.&quot;</td><td>&quot;BLUE&quot;</td><td>&quot;PE&quot;</td><td>3528</td><td>1981-04-06 00:00:00</td></tr><tr><td>727535460</td><td>1123257842</td><td>2005-01-01 00:00:00</td><td>4</td><td>&quot;NT&quot;</td><td>&quot;P&quot;</td><td>121930</td><td>&quot;RG&quot;</td><td>&quot;CITROEN&quot;</td><td>&quot;AX&quot;</td><td>&quot;WHITE&quot;</td><td>&quot;DI&quot;</td><td>1360</td><td>1993-08-31 00:00:00</td></tr></tbody></table></div>"
      ],
      "text/plain": [
       "shape: (5, 14)\n",
       "┌────────────┬────────────┬───────────┬───────────┬───┬────────┬───────────┬───────────┬───────────┐\n",
       "│ test_id    ┆ vehicle_id ┆ test_date ┆ test_clas ┆ … ┆ colour ┆ fuel_type ┆ cylinder_ ┆ first_use │\n",
       "│ ---        ┆ ---        ┆ ---       ┆ s_id      ┆   ┆ ---    ┆ ---       ┆ capacity  ┆ _date     │\n",
       "│ i64        ┆ i64        ┆ datetime[ ┆ ---       ┆   ┆ str    ┆ str       ┆ ---       ┆ ---       │\n",
       "│            ┆            ┆ μs]       ┆ i64       ┆   ┆        ┆           ┆ i64       ┆ datetime[ │\n",
       "│            ┆            ┆           ┆           ┆   ┆        ┆           ┆           ┆ μs]       │\n",
       "╞════════════╪════════════╪═══════════╪═══════════╪═══╪════════╪═══════════╪═══════════╪═══════════╡\n",
       "│ 804664368  ┆ 256274986  ┆ 2005-01-0 ┆ 0         ┆ … ┆ SILVER ┆ PE        ┆ null      ┆ null      │\n",
       "│            ┆            ┆ 1         ┆           ┆   ┆        ┆           ┆           ┆           │\n",
       "│            ┆            ┆ 00:00:00  ┆           ┆   ┆        ┆           ┆           ┆           │\n",
       "│ 392603376  ┆ 633988704  ┆ 2005-01-0 ┆ 0         ┆ … ┆ RED    ┆ PE        ┆ null      ┆ null      │\n",
       "│            ┆            ┆ 1         ┆           ┆   ┆        ┆           ┆           ┆           │\n",
       "│            ┆            ┆ 00:00:00  ┆           ┆   ┆        ┆           ┆           ┆           │\n",
       "│ 1894843206 ┆ 1320781748 ┆ 2005-01-0 ┆ 0         ┆ … ┆ BLUE   ┆ PE        ┆ null      ┆ null      │\n",
       "│            ┆            ┆ 1         ┆           ┆   ┆        ┆           ┆           ┆           │\n",
       "│            ┆            ┆ 00:00:00  ┆           ┆   ┆        ┆           ┆           ┆           │\n",
       "│ 830908928  ┆ 1263031090 ┆ 2005-01-0 ┆ 4         ┆ … ┆ BLUE   ┆ PE        ┆ 3528      ┆ 1981-04-0 │\n",
       "│            ┆            ┆ 1         ┆           ┆   ┆        ┆           ┆           ┆ 6         │\n",
       "│            ┆            ┆ 00:00:00  ┆           ┆   ┆        ┆           ┆           ┆ 00:00:00  │\n",
       "│ 727535460  ┆ 1123257842 ┆ 2005-01-0 ┆ 4         ┆ … ┆ WHITE  ┆ DI        ┆ 1360      ┆ 1993-08-3 │\n",
       "│            ┆            ┆ 1         ┆           ┆   ┆        ┆           ┆           ┆ 1         │\n",
       "│            ┆            ┆ 00:00:00  ┆           ┆   ┆        ┆           ┆           ┆ 00:00:00  │\n",
       "└────────────┴────────────┴───────────┴───────────┴───┴────────┴───────────┴───────────┴───────────┘"
      ]
     },
     "execution_count": 13,
     "metadata": {},
     "output_type": "execute_result"
    }
   ],
   "source": [
    "%%time\n",
    "# OOMs No More :-)\n",
    "pl.scan_parquet(scan_path).limit(5).collect()"
   ]
  },
  {
   "cell_type": "code",
   "execution_count": 14,
   "id": "2384f06e",
   "metadata": {},
   "outputs": [
    {
     "name": "stdout",
     "output_type": "stream",
     "text": [
      "CPU times: user 26.5 ms, sys: 3.24 ms, total: 29.7 ms\n",
      "Wall time: 12.3 ms\n"
     ]
    },
    {
     "data": {
      "text/html": [
       "<div><style>\n",
       ".dataframe > thead > tr,\n",
       ".dataframe > tbody > tr {\n",
       "  text-align: right;\n",
       "  white-space: pre-wrap;\n",
       "}\n",
       "</style>\n",
       "<small>shape: (5, 14)</small><table border=\"1\" class=\"dataframe\"><thead><tr><th>test_id</th><th>vehicle_id</th><th>test_date</th><th>test_class_id</th><th>test_type</th><th>test_result</th><th>test_mileage</th><th>postcode_area</th><th>make</th><th>model</th><th>colour</th><th>fuel_type</th><th>cylinder_capacity</th><th>first_use_date</th></tr><tr><td>i64</td><td>i64</td><td>datetime[μs]</td><td>i64</td><td>str</td><td>str</td><td>i64</td><td>str</td><td>str</td><td>str</td><td>str</td><td>str</td><td>i64</td><td>datetime[μs]</td></tr></thead><tbody><tr><td>804664368</td><td>256274986</td><td>2005-01-01 00:00:00</td><td>0</td><td>&quot;NT&quot;</td><td>&quot;P&quot;</td><td>23459</td><td>&quot;TF&quot;</td><td>&quot;FORD&quot;</td><td>&quot;UNCLASSIFIED&quot;</td><td>&quot;SILVER&quot;</td><td>&quot;PE&quot;</td><td>null</td><td>null</td></tr><tr><td>392603376</td><td>633988704</td><td>2005-01-01 00:00:00</td><td>0</td><td>&quot;NT&quot;</td><td>&quot;P&quot;</td><td>40961</td><td>&quot;E&quot;</td><td>&quot;LOTUS&quot;</td><td>&quot;UNCLASSIFIED&quot;</td><td>&quot;RED&quot;</td><td>&quot;PE&quot;</td><td>null</td><td>null</td></tr><tr><td>1894843206</td><td>1320781748</td><td>2005-01-01 00:00:00</td><td>0</td><td>&quot;NT&quot;</td><td>&quot;P&quot;</td><td>16416</td><td>&quot;S&quot;</td><td>&quot;VAUXHALL&quot;</td><td>&quot;UNCLASSIFIED&quot;</td><td>&quot;BLUE&quot;</td><td>&quot;PE&quot;</td><td>null</td><td>null</td></tr><tr><td>830908928</td><td>1263031090</td><td>2005-01-01 00:00:00</td><td>4</td><td>&quot;NT&quot;</td><td>&quot;P&quot;</td><td>93318</td><td>&quot;W&quot;</td><td>&quot;LAND ROVER&quot;</td><td>&quot;109 V8 S.W.&quot;</td><td>&quot;BLUE&quot;</td><td>&quot;PE&quot;</td><td>3528</td><td>1981-04-06 00:00:00</td></tr><tr><td>727535460</td><td>1123257842</td><td>2005-01-01 00:00:00</td><td>4</td><td>&quot;NT&quot;</td><td>&quot;P&quot;</td><td>121930</td><td>&quot;RG&quot;</td><td>&quot;CITROEN&quot;</td><td>&quot;AX&quot;</td><td>&quot;WHITE&quot;</td><td>&quot;DI&quot;</td><td>1360</td><td>1993-08-31 00:00:00</td></tr></tbody></table></div>"
      ],
      "text/plain": [
       "shape: (5, 14)\n",
       "┌────────────┬────────────┬───────────┬───────────┬───┬────────┬───────────┬───────────┬───────────┐\n",
       "│ test_id    ┆ vehicle_id ┆ test_date ┆ test_clas ┆ … ┆ colour ┆ fuel_type ┆ cylinder_ ┆ first_use │\n",
       "│ ---        ┆ ---        ┆ ---       ┆ s_id      ┆   ┆ ---    ┆ ---       ┆ capacity  ┆ _date     │\n",
       "│ i64        ┆ i64        ┆ datetime[ ┆ ---       ┆   ┆ str    ┆ str       ┆ ---       ┆ ---       │\n",
       "│            ┆            ┆ μs]       ┆ i64       ┆   ┆        ┆           ┆ i64       ┆ datetime[ │\n",
       "│            ┆            ┆           ┆           ┆   ┆        ┆           ┆           ┆ μs]       │\n",
       "╞════════════╪════════════╪═══════════╪═══════════╪═══╪════════╪═══════════╪═══════════╪═══════════╡\n",
       "│ 804664368  ┆ 256274986  ┆ 2005-01-0 ┆ 0         ┆ … ┆ SILVER ┆ PE        ┆ null      ┆ null      │\n",
       "│            ┆            ┆ 1         ┆           ┆   ┆        ┆           ┆           ┆           │\n",
       "│            ┆            ┆ 00:00:00  ┆           ┆   ┆        ┆           ┆           ┆           │\n",
       "│ 392603376  ┆ 633988704  ┆ 2005-01-0 ┆ 0         ┆ … ┆ RED    ┆ PE        ┆ null      ┆ null      │\n",
       "│            ┆            ┆ 1         ┆           ┆   ┆        ┆           ┆           ┆           │\n",
       "│            ┆            ┆ 00:00:00  ┆           ┆   ┆        ┆           ┆           ┆           │\n",
       "│ 1894843206 ┆ 1320781748 ┆ 2005-01-0 ┆ 0         ┆ … ┆ BLUE   ┆ PE        ┆ null      ┆ null      │\n",
       "│            ┆            ┆ 1         ┆           ┆   ┆        ┆           ┆           ┆           │\n",
       "│            ┆            ┆ 00:00:00  ┆           ┆   ┆        ┆           ┆           ┆           │\n",
       "│ 830908928  ┆ 1263031090 ┆ 2005-01-0 ┆ 4         ┆ … ┆ BLUE   ┆ PE        ┆ 3528      ┆ 1981-04-0 │\n",
       "│            ┆            ┆ 1         ┆           ┆   ┆        ┆           ┆           ┆ 6         │\n",
       "│            ┆            ┆ 00:00:00  ┆           ┆   ┆        ┆           ┆           ┆ 00:00:00  │\n",
       "│ 727535460  ┆ 1123257842 ┆ 2005-01-0 ┆ 4         ┆ … ┆ WHITE  ┆ DI        ┆ 1360      ┆ 1993-08-3 │\n",
       "│            ┆            ┆ 1         ┆           ┆   ┆        ┆           ┆           ┆ 1         │\n",
       "│            ┆            ┆ 00:00:00  ┆           ┆   ┆        ┆           ┆           ┆ 00:00:00  │\n",
       "└────────────┴────────────┴───────────┴───────────┴───┴────────┴───────────┴───────────┴───────────┘"
      ]
     },
     "execution_count": 14,
     "metadata": {},
     "output_type": "execute_result"
    }
   ],
   "source": [
    "%%time\n",
    "pl.scan_parquet(scan_path, n_rows=100).limit(5).collect()"
   ]
  },
  {
   "cell_type": "code",
   "execution_count": 15,
   "id": "15bd3f1a",
   "metadata": {},
   "outputs": [
    {
     "name": "stdout",
     "output_type": "stream",
     "text": [
      "CPU times: user 15.3 ms, sys: 6.56 ms, total: 21.9 ms\n",
      "Wall time: 13.3 ms\n"
     ]
    },
    {
     "data": {
      "text/html": [
       "<div><style>\n",
       ".dataframe > thead > tr,\n",
       ".dataframe > tbody > tr {\n",
       "  text-align: right;\n",
       "  white-space: pre-wrap;\n",
       "}\n",
       "</style>\n",
       "<small>shape: (5, 14)</small><table border=\"1\" class=\"dataframe\"><thead><tr><th>test_id</th><th>vehicle_id</th><th>test_date</th><th>test_class_id</th><th>test_type</th><th>test_result</th><th>test_mileage</th><th>postcode_area</th><th>make</th><th>model</th><th>colour</th><th>fuel_type</th><th>cylinder_capacity</th><th>first_use_date</th></tr><tr><td>i64</td><td>i64</td><td>datetime[μs]</td><td>i64</td><td>str</td><td>str</td><td>i64</td><td>str</td><td>str</td><td>str</td><td>str</td><td>str</td><td>i64</td><td>datetime[μs]</td></tr></thead><tbody><tr><td>804664368</td><td>256274986</td><td>2005-01-01 00:00:00</td><td>0</td><td>&quot;NT&quot;</td><td>&quot;P&quot;</td><td>23459</td><td>&quot;TF&quot;</td><td>&quot;FORD&quot;</td><td>&quot;UNCLASSIFIED&quot;</td><td>&quot;SILVER&quot;</td><td>&quot;PE&quot;</td><td>null</td><td>null</td></tr><tr><td>392603376</td><td>633988704</td><td>2005-01-01 00:00:00</td><td>0</td><td>&quot;NT&quot;</td><td>&quot;P&quot;</td><td>40961</td><td>&quot;E&quot;</td><td>&quot;LOTUS&quot;</td><td>&quot;UNCLASSIFIED&quot;</td><td>&quot;RED&quot;</td><td>&quot;PE&quot;</td><td>null</td><td>null</td></tr><tr><td>1894843206</td><td>1320781748</td><td>2005-01-01 00:00:00</td><td>0</td><td>&quot;NT&quot;</td><td>&quot;P&quot;</td><td>16416</td><td>&quot;S&quot;</td><td>&quot;VAUXHALL&quot;</td><td>&quot;UNCLASSIFIED&quot;</td><td>&quot;BLUE&quot;</td><td>&quot;PE&quot;</td><td>null</td><td>null</td></tr><tr><td>830908928</td><td>1263031090</td><td>2005-01-01 00:00:00</td><td>4</td><td>&quot;NT&quot;</td><td>&quot;P&quot;</td><td>93318</td><td>&quot;W&quot;</td><td>&quot;LAND ROVER&quot;</td><td>&quot;109 V8 S.W.&quot;</td><td>&quot;BLUE&quot;</td><td>&quot;PE&quot;</td><td>3528</td><td>1981-04-06 00:00:00</td></tr><tr><td>727535460</td><td>1123257842</td><td>2005-01-01 00:00:00</td><td>4</td><td>&quot;NT&quot;</td><td>&quot;P&quot;</td><td>121930</td><td>&quot;RG&quot;</td><td>&quot;CITROEN&quot;</td><td>&quot;AX&quot;</td><td>&quot;WHITE&quot;</td><td>&quot;DI&quot;</td><td>1360</td><td>1993-08-31 00:00:00</td></tr></tbody></table></div>"
      ],
      "text/plain": [
       "shape: (5, 14)\n",
       "┌────────────┬────────────┬───────────┬───────────┬───┬────────┬───────────┬───────────┬───────────┐\n",
       "│ test_id    ┆ vehicle_id ┆ test_date ┆ test_clas ┆ … ┆ colour ┆ fuel_type ┆ cylinder_ ┆ first_use │\n",
       "│ ---        ┆ ---        ┆ ---       ┆ s_id      ┆   ┆ ---    ┆ ---       ┆ capacity  ┆ _date     │\n",
       "│ i64        ┆ i64        ┆ datetime[ ┆ ---       ┆   ┆ str    ┆ str       ┆ ---       ┆ ---       │\n",
       "│            ┆            ┆ μs]       ┆ i64       ┆   ┆        ┆           ┆ i64       ┆ datetime[ │\n",
       "│            ┆            ┆           ┆           ┆   ┆        ┆           ┆           ┆ μs]       │\n",
       "╞════════════╪════════════╪═══════════╪═══════════╪═══╪════════╪═══════════╪═══════════╪═══════════╡\n",
       "│ 804664368  ┆ 256274986  ┆ 2005-01-0 ┆ 0         ┆ … ┆ SILVER ┆ PE        ┆ null      ┆ null      │\n",
       "│            ┆            ┆ 1         ┆           ┆   ┆        ┆           ┆           ┆           │\n",
       "│            ┆            ┆ 00:00:00  ┆           ┆   ┆        ┆           ┆           ┆           │\n",
       "│ 392603376  ┆ 633988704  ┆ 2005-01-0 ┆ 0         ┆ … ┆ RED    ┆ PE        ┆ null      ┆ null      │\n",
       "│            ┆            ┆ 1         ┆           ┆   ┆        ┆           ┆           ┆           │\n",
       "│            ┆            ┆ 00:00:00  ┆           ┆   ┆        ┆           ┆           ┆           │\n",
       "│ 1894843206 ┆ 1320781748 ┆ 2005-01-0 ┆ 0         ┆ … ┆ BLUE   ┆ PE        ┆ null      ┆ null      │\n",
       "│            ┆            ┆ 1         ┆           ┆   ┆        ┆           ┆           ┆           │\n",
       "│            ┆            ┆ 00:00:00  ┆           ┆   ┆        ┆           ┆           ┆           │\n",
       "│ 830908928  ┆ 1263031090 ┆ 2005-01-0 ┆ 4         ┆ … ┆ BLUE   ┆ PE        ┆ 3528      ┆ 1981-04-0 │\n",
       "│            ┆            ┆ 1         ┆           ┆   ┆        ┆           ┆           ┆ 6         │\n",
       "│            ┆            ┆ 00:00:00  ┆           ┆   ┆        ┆           ┆           ┆ 00:00:00  │\n",
       "│ 727535460  ┆ 1123257842 ┆ 2005-01-0 ┆ 4         ┆ … ┆ WHITE  ┆ DI        ┆ 1360      ┆ 1993-08-3 │\n",
       "│            ┆            ┆ 1         ┆           ┆   ┆        ┆           ┆           ┆ 1         │\n",
       "│            ┆            ┆ 00:00:00  ┆           ┆   ┆        ┆           ┆           ┆ 00:00:00  │\n",
       "└────────────┴────────────┴───────────┴───────────┴───┴────────┴───────────┴───────────┴───────────┘"
      ]
     },
     "execution_count": 15,
     "metadata": {},
     "output_type": "execute_result"
    }
   ],
   "source": [
    "%%time\n",
    "# Now fast, no OOM\n",
    "pl.scan_parquet(scan_path, n_rows=100).limit(5).collect(streaming=True)"
   ]
  },
  {
   "cell_type": "code",
   "execution_count": 16,
   "id": "89403831",
   "metadata": {},
   "outputs": [
    {
     "name": "stdout",
     "output_type": "stream",
     "text": [
      "CPU times: user 11.1 ms, sys: 7.62 ms, total: 18.7 ms\n",
      "Wall time: 6.57 ms\n"
     ]
    },
    {
     "data": {
      "text/html": [
       "<div><style>\n",
       ".dataframe > thead > tr,\n",
       ".dataframe > tbody > tr {\n",
       "  text-align: right;\n",
       "  white-space: pre-wrap;\n",
       "}\n",
       "</style>\n",
       "<small>shape: (5, 14)</small><table border=\"1\" class=\"dataframe\"><thead><tr><th>test_id</th><th>vehicle_id</th><th>test_date</th><th>test_class_id</th><th>test_type</th><th>test_result</th><th>test_mileage</th><th>postcode_area</th><th>make</th><th>model</th><th>colour</th><th>fuel_type</th><th>cylinder_capacity</th><th>first_use_date</th></tr><tr><td>i64</td><td>i64</td><td>datetime[μs]</td><td>i64</td><td>str</td><td>str</td><td>i64</td><td>str</td><td>str</td><td>str</td><td>str</td><td>str</td><td>i64</td><td>datetime[μs]</td></tr></thead><tbody><tr><td>804664368</td><td>256274986</td><td>2005-01-01 00:00:00</td><td>0</td><td>&quot;NT&quot;</td><td>&quot;P&quot;</td><td>23459</td><td>&quot;TF&quot;</td><td>&quot;FORD&quot;</td><td>&quot;UNCLASSIFIED&quot;</td><td>&quot;SILVER&quot;</td><td>&quot;PE&quot;</td><td>null</td><td>null</td></tr><tr><td>392603376</td><td>633988704</td><td>2005-01-01 00:00:00</td><td>0</td><td>&quot;NT&quot;</td><td>&quot;P&quot;</td><td>40961</td><td>&quot;E&quot;</td><td>&quot;LOTUS&quot;</td><td>&quot;UNCLASSIFIED&quot;</td><td>&quot;RED&quot;</td><td>&quot;PE&quot;</td><td>null</td><td>null</td></tr><tr><td>1894843206</td><td>1320781748</td><td>2005-01-01 00:00:00</td><td>0</td><td>&quot;NT&quot;</td><td>&quot;P&quot;</td><td>16416</td><td>&quot;S&quot;</td><td>&quot;VAUXHALL&quot;</td><td>&quot;UNCLASSIFIED&quot;</td><td>&quot;BLUE&quot;</td><td>&quot;PE&quot;</td><td>null</td><td>null</td></tr><tr><td>830908928</td><td>1263031090</td><td>2005-01-01 00:00:00</td><td>4</td><td>&quot;NT&quot;</td><td>&quot;P&quot;</td><td>93318</td><td>&quot;W&quot;</td><td>&quot;LAND ROVER&quot;</td><td>&quot;109 V8 S.W.&quot;</td><td>&quot;BLUE&quot;</td><td>&quot;PE&quot;</td><td>3528</td><td>1981-04-06 00:00:00</td></tr><tr><td>727535460</td><td>1123257842</td><td>2005-01-01 00:00:00</td><td>4</td><td>&quot;NT&quot;</td><td>&quot;P&quot;</td><td>121930</td><td>&quot;RG&quot;</td><td>&quot;CITROEN&quot;</td><td>&quot;AX&quot;</td><td>&quot;WHITE&quot;</td><td>&quot;DI&quot;</td><td>1360</td><td>1993-08-31 00:00:00</td></tr></tbody></table></div>"
      ],
      "text/plain": [
       "shape: (5, 14)\n",
       "┌────────────┬────────────┬───────────┬───────────┬───┬────────┬───────────┬───────────┬───────────┐\n",
       "│ test_id    ┆ vehicle_id ┆ test_date ┆ test_clas ┆ … ┆ colour ┆ fuel_type ┆ cylinder_ ┆ first_use │\n",
       "│ ---        ┆ ---        ┆ ---       ┆ s_id      ┆   ┆ ---    ┆ ---       ┆ capacity  ┆ _date     │\n",
       "│ i64        ┆ i64        ┆ datetime[ ┆ ---       ┆   ┆ str    ┆ str       ┆ ---       ┆ ---       │\n",
       "│            ┆            ┆ μs]       ┆ i64       ┆   ┆        ┆           ┆ i64       ┆ datetime[ │\n",
       "│            ┆            ┆           ┆           ┆   ┆        ┆           ┆           ┆ μs]       │\n",
       "╞════════════╪════════════╪═══════════╪═══════════╪═══╪════════╪═══════════╪═══════════╪═══════════╡\n",
       "│ 804664368  ┆ 256274986  ┆ 2005-01-0 ┆ 0         ┆ … ┆ SILVER ┆ PE        ┆ null      ┆ null      │\n",
       "│            ┆            ┆ 1         ┆           ┆   ┆        ┆           ┆           ┆           │\n",
       "│            ┆            ┆ 00:00:00  ┆           ┆   ┆        ┆           ┆           ┆           │\n",
       "│ 392603376  ┆ 633988704  ┆ 2005-01-0 ┆ 0         ┆ … ┆ RED    ┆ PE        ┆ null      ┆ null      │\n",
       "│            ┆            ┆ 1         ┆           ┆   ┆        ┆           ┆           ┆           │\n",
       "│            ┆            ┆ 00:00:00  ┆           ┆   ┆        ┆           ┆           ┆           │\n",
       "│ 1894843206 ┆ 1320781748 ┆ 2005-01-0 ┆ 0         ┆ … ┆ BLUE   ┆ PE        ┆ null      ┆ null      │\n",
       "│            ┆            ┆ 1         ┆           ┆   ┆        ┆           ┆           ┆           │\n",
       "│            ┆            ┆ 00:00:00  ┆           ┆   ┆        ┆           ┆           ┆           │\n",
       "│ 830908928  ┆ 1263031090 ┆ 2005-01-0 ┆ 4         ┆ … ┆ BLUE   ┆ PE        ┆ 3528      ┆ 1981-04-0 │\n",
       "│            ┆            ┆ 1         ┆           ┆   ┆        ┆           ┆           ┆ 6         │\n",
       "│            ┆            ┆ 00:00:00  ┆           ┆   ┆        ┆           ┆           ┆ 00:00:00  │\n",
       "│ 727535460  ┆ 1123257842 ┆ 2005-01-0 ┆ 4         ┆ … ┆ WHITE  ┆ DI        ┆ 1360      ┆ 1993-08-3 │\n",
       "│            ┆            ┆ 1         ┆           ┆   ┆        ┆           ┆           ┆ 1         │\n",
       "│            ┆            ┆ 00:00:00  ┆           ┆   ┆        ┆           ┆           ┆ 00:00:00  │\n",
       "└────────────┴────────────┴───────────┴───────────┴───┴────────┴───────────┴───────────┴───────────┘"
      ]
     },
     "execution_count": 16,
     "metadata": {},
     "output_type": "execute_result"
    }
   ],
   "source": [
    "%%time\n",
    "# OOMs No More :-)\n",
    "pl.scan_parquet(scan_path, n_rows=1000000000).limit(5).collect(streaming=True)"
   ]
  },
  {
   "cell_type": "code",
   "execution_count": 17,
   "id": "deebea1e",
   "metadata": {},
   "outputs": [
    {
     "name": "stdout",
     "output_type": "stream",
     "text": [
      "CPU times: user 20.6 ms, sys: 0 ns, total: 20.6 ms\n",
      "Wall time: 5.68 ms\n"
     ]
    },
    {
     "data": {
      "text/html": [
       "<div><style>\n",
       ".dataframe > thead > tr,\n",
       ".dataframe > tbody > tr {\n",
       "  text-align: right;\n",
       "  white-space: pre-wrap;\n",
       "}\n",
       "</style>\n",
       "<small>shape: (5, 14)</small><table border=\"1\" class=\"dataframe\"><thead><tr><th>test_id</th><th>vehicle_id</th><th>test_date</th><th>test_class_id</th><th>test_type</th><th>test_result</th><th>test_mileage</th><th>postcode_area</th><th>make</th><th>model</th><th>colour</th><th>fuel_type</th><th>cylinder_capacity</th><th>first_use_date</th></tr><tr><td>i64</td><td>i64</td><td>datetime[μs]</td><td>i64</td><td>str</td><td>str</td><td>i64</td><td>str</td><td>str</td><td>str</td><td>str</td><td>str</td><td>i64</td><td>datetime[μs]</td></tr></thead><tbody><tr><td>804664368</td><td>256274986</td><td>2005-01-01 00:00:00</td><td>0</td><td>&quot;NT&quot;</td><td>&quot;P&quot;</td><td>23459</td><td>&quot;TF&quot;</td><td>&quot;FORD&quot;</td><td>&quot;UNCLASSIFIED&quot;</td><td>&quot;SILVER&quot;</td><td>&quot;PE&quot;</td><td>null</td><td>null</td></tr><tr><td>392603376</td><td>633988704</td><td>2005-01-01 00:00:00</td><td>0</td><td>&quot;NT&quot;</td><td>&quot;P&quot;</td><td>40961</td><td>&quot;E&quot;</td><td>&quot;LOTUS&quot;</td><td>&quot;UNCLASSIFIED&quot;</td><td>&quot;RED&quot;</td><td>&quot;PE&quot;</td><td>null</td><td>null</td></tr><tr><td>1894843206</td><td>1320781748</td><td>2005-01-01 00:00:00</td><td>0</td><td>&quot;NT&quot;</td><td>&quot;P&quot;</td><td>16416</td><td>&quot;S&quot;</td><td>&quot;VAUXHALL&quot;</td><td>&quot;UNCLASSIFIED&quot;</td><td>&quot;BLUE&quot;</td><td>&quot;PE&quot;</td><td>null</td><td>null</td></tr><tr><td>830908928</td><td>1263031090</td><td>2005-01-01 00:00:00</td><td>4</td><td>&quot;NT&quot;</td><td>&quot;P&quot;</td><td>93318</td><td>&quot;W&quot;</td><td>&quot;LAND ROVER&quot;</td><td>&quot;109 V8 S.W.&quot;</td><td>&quot;BLUE&quot;</td><td>&quot;PE&quot;</td><td>3528</td><td>1981-04-06 00:00:00</td></tr><tr><td>727535460</td><td>1123257842</td><td>2005-01-01 00:00:00</td><td>4</td><td>&quot;NT&quot;</td><td>&quot;P&quot;</td><td>121930</td><td>&quot;RG&quot;</td><td>&quot;CITROEN&quot;</td><td>&quot;AX&quot;</td><td>&quot;WHITE&quot;</td><td>&quot;DI&quot;</td><td>1360</td><td>1993-08-31 00:00:00</td></tr></tbody></table></div>"
      ],
      "text/plain": [
       "shape: (5, 14)\n",
       "┌────────────┬────────────┬───────────┬───────────┬───┬────────┬───────────┬───────────┬───────────┐\n",
       "│ test_id    ┆ vehicle_id ┆ test_date ┆ test_clas ┆ … ┆ colour ┆ fuel_type ┆ cylinder_ ┆ first_use │\n",
       "│ ---        ┆ ---        ┆ ---       ┆ s_id      ┆   ┆ ---    ┆ ---       ┆ capacity  ┆ _date     │\n",
       "│ i64        ┆ i64        ┆ datetime[ ┆ ---       ┆   ┆ str    ┆ str       ┆ ---       ┆ ---       │\n",
       "│            ┆            ┆ μs]       ┆ i64       ┆   ┆        ┆           ┆ i64       ┆ datetime[ │\n",
       "│            ┆            ┆           ┆           ┆   ┆        ┆           ┆           ┆ μs]       │\n",
       "╞════════════╪════════════╪═══════════╪═══════════╪═══╪════════╪═══════════╪═══════════╪═══════════╡\n",
       "│ 804664368  ┆ 256274986  ┆ 2005-01-0 ┆ 0         ┆ … ┆ SILVER ┆ PE        ┆ null      ┆ null      │\n",
       "│            ┆            ┆ 1         ┆           ┆   ┆        ┆           ┆           ┆           │\n",
       "│            ┆            ┆ 00:00:00  ┆           ┆   ┆        ┆           ┆           ┆           │\n",
       "│ 392603376  ┆ 633988704  ┆ 2005-01-0 ┆ 0         ┆ … ┆ RED    ┆ PE        ┆ null      ┆ null      │\n",
       "│            ┆            ┆ 1         ┆           ┆   ┆        ┆           ┆           ┆           │\n",
       "│            ┆            ┆ 00:00:00  ┆           ┆   ┆        ┆           ┆           ┆           │\n",
       "│ 1894843206 ┆ 1320781748 ┆ 2005-01-0 ┆ 0         ┆ … ┆ BLUE   ┆ PE        ┆ null      ┆ null      │\n",
       "│            ┆            ┆ 1         ┆           ┆   ┆        ┆           ┆           ┆           │\n",
       "│            ┆            ┆ 00:00:00  ┆           ┆   ┆        ┆           ┆           ┆           │\n",
       "│ 830908928  ┆ 1263031090 ┆ 2005-01-0 ┆ 4         ┆ … ┆ BLUE   ┆ PE        ┆ 3528      ┆ 1981-04-0 │\n",
       "│            ┆            ┆ 1         ┆           ┆   ┆        ┆           ┆           ┆ 6         │\n",
       "│            ┆            ┆ 00:00:00  ┆           ┆   ┆        ┆           ┆           ┆ 00:00:00  │\n",
       "│ 727535460  ┆ 1123257842 ┆ 2005-01-0 ┆ 4         ┆ … ┆ WHITE  ┆ DI        ┆ 1360      ┆ 1993-08-3 │\n",
       "│            ┆            ┆ 1         ┆           ┆   ┆        ┆           ┆           ┆ 1         │\n",
       "│            ┆            ┆ 00:00:00  ┆           ┆   ┆        ┆           ┆           ┆ 00:00:00  │\n",
       "└────────────┴────────────┴───────────┴───────────┴───┴────────┴───────────┴───────────┴───────────┘"
      ]
     },
     "execution_count": 17,
     "metadata": {},
     "output_type": "execute_result"
    }
   ],
   "source": [
    "%%time\n",
    "# OOMs no more :-)\n",
    "pl.scan_parquet(scan_path).limit(5).collect(streaming=True)"
   ]
  },
  {
   "cell_type": "code",
   "execution_count": 18,
   "id": "4dab7456",
   "metadata": {},
   "outputs": [
    {
     "name": "stdout",
     "output_type": "stream",
     "text": [
      "CPU times: user 7.7 ms, sys: 4.49 ms, total: 12.2 ms\n",
      "Wall time: 10.8 ms\n"
     ]
    },
    {
     "data": {
      "text/html": [
       "<div><style>\n",
       ".dataframe > thead > tr,\n",
       ".dataframe > tbody > tr {\n",
       "  text-align: right;\n",
       "  white-space: pre-wrap;\n",
       "}\n",
       "</style>\n",
       "<small>shape: (5, 14)</small><table border=\"1\" class=\"dataframe\"><thead><tr><th>test_id</th><th>vehicle_id</th><th>test_date</th><th>test_class_id</th><th>test_type</th><th>test_result</th><th>test_mileage</th><th>postcode_area</th><th>make</th><th>model</th><th>colour</th><th>fuel_type</th><th>cylinder_capacity</th><th>first_use_date</th></tr><tr><td>i64</td><td>i64</td><td>datetime[μs]</td><td>i64</td><td>str</td><td>str</td><td>i64</td><td>str</td><td>str</td><td>str</td><td>str</td><td>str</td><td>i64</td><td>datetime[μs]</td></tr></thead><tbody><tr><td>804664368</td><td>256274986</td><td>2005-01-01 00:00:00</td><td>0</td><td>&quot;NT&quot;</td><td>&quot;P&quot;</td><td>23459</td><td>&quot;TF&quot;</td><td>&quot;FORD&quot;</td><td>&quot;UNCLASSIFIED&quot;</td><td>&quot;SILVER&quot;</td><td>&quot;PE&quot;</td><td>null</td><td>null</td></tr><tr><td>392603376</td><td>633988704</td><td>2005-01-01 00:00:00</td><td>0</td><td>&quot;NT&quot;</td><td>&quot;P&quot;</td><td>40961</td><td>&quot;E&quot;</td><td>&quot;LOTUS&quot;</td><td>&quot;UNCLASSIFIED&quot;</td><td>&quot;RED&quot;</td><td>&quot;PE&quot;</td><td>null</td><td>null</td></tr><tr><td>1894843206</td><td>1320781748</td><td>2005-01-01 00:00:00</td><td>0</td><td>&quot;NT&quot;</td><td>&quot;P&quot;</td><td>16416</td><td>&quot;S&quot;</td><td>&quot;VAUXHALL&quot;</td><td>&quot;UNCLASSIFIED&quot;</td><td>&quot;BLUE&quot;</td><td>&quot;PE&quot;</td><td>null</td><td>null</td></tr><tr><td>830908928</td><td>1263031090</td><td>2005-01-01 00:00:00</td><td>4</td><td>&quot;NT&quot;</td><td>&quot;P&quot;</td><td>93318</td><td>&quot;W&quot;</td><td>&quot;LAND ROVER&quot;</td><td>&quot;109 V8 S.W.&quot;</td><td>&quot;BLUE&quot;</td><td>&quot;PE&quot;</td><td>3528</td><td>1981-04-06 00:00:00</td></tr><tr><td>727535460</td><td>1123257842</td><td>2005-01-01 00:00:00</td><td>4</td><td>&quot;NT&quot;</td><td>&quot;P&quot;</td><td>121930</td><td>&quot;RG&quot;</td><td>&quot;CITROEN&quot;</td><td>&quot;AX&quot;</td><td>&quot;WHITE&quot;</td><td>&quot;DI&quot;</td><td>1360</td><td>1993-08-31 00:00:00</td></tr></tbody></table></div>"
      ],
      "text/plain": [
       "shape: (5, 14)\n",
       "┌────────────┬────────────┬───────────┬───────────┬───┬────────┬───────────┬───────────┬───────────┐\n",
       "│ test_id    ┆ vehicle_id ┆ test_date ┆ test_clas ┆ … ┆ colour ┆ fuel_type ┆ cylinder_ ┆ first_use │\n",
       "│ ---        ┆ ---        ┆ ---       ┆ s_id      ┆   ┆ ---    ┆ ---       ┆ capacity  ┆ _date     │\n",
       "│ i64        ┆ i64        ┆ datetime[ ┆ ---       ┆   ┆ str    ┆ str       ┆ ---       ┆ ---       │\n",
       "│            ┆            ┆ μs]       ┆ i64       ┆   ┆        ┆           ┆ i64       ┆ datetime[ │\n",
       "│            ┆            ┆           ┆           ┆   ┆        ┆           ┆           ┆ μs]       │\n",
       "╞════════════╪════════════╪═══════════╪═══════════╪═══╪════════╪═══════════╪═══════════╪═══════════╡\n",
       "│ 804664368  ┆ 256274986  ┆ 2005-01-0 ┆ 0         ┆ … ┆ SILVER ┆ PE        ┆ null      ┆ null      │\n",
       "│            ┆            ┆ 1         ┆           ┆   ┆        ┆           ┆           ┆           │\n",
       "│            ┆            ┆ 00:00:00  ┆           ┆   ┆        ┆           ┆           ┆           │\n",
       "│ 392603376  ┆ 633988704  ┆ 2005-01-0 ┆ 0         ┆ … ┆ RED    ┆ PE        ┆ null      ┆ null      │\n",
       "│            ┆            ┆ 1         ┆           ┆   ┆        ┆           ┆           ┆           │\n",
       "│            ┆            ┆ 00:00:00  ┆           ┆   ┆        ┆           ┆           ┆           │\n",
       "│ 1894843206 ┆ 1320781748 ┆ 2005-01-0 ┆ 0         ┆ … ┆ BLUE   ┆ PE        ┆ null      ┆ null      │\n",
       "│            ┆            ┆ 1         ┆           ┆   ┆        ┆           ┆           ┆           │\n",
       "│            ┆            ┆ 00:00:00  ┆           ┆   ┆        ┆           ┆           ┆           │\n",
       "│ 830908928  ┆ 1263031090 ┆ 2005-01-0 ┆ 4         ┆ … ┆ BLUE   ┆ PE        ┆ 3528      ┆ 1981-04-0 │\n",
       "│            ┆            ┆ 1         ┆           ┆   ┆        ┆           ┆           ┆ 6         │\n",
       "│            ┆            ┆ 00:00:00  ┆           ┆   ┆        ┆           ┆           ┆ 00:00:00  │\n",
       "│ 727535460  ┆ 1123257842 ┆ 2005-01-0 ┆ 4         ┆ … ┆ WHITE  ┆ DI        ┆ 1360      ┆ 1993-08-3 │\n",
       "│            ┆            ┆ 1         ┆           ┆   ┆        ┆           ┆           ┆ 1         │\n",
       "│            ┆            ┆ 00:00:00  ┆           ┆   ┆        ┆           ┆           ┆ 00:00:00  │\n",
       "└────────────┴────────────┴───────────┴───────────┴───┴────────┴───────────┴───────────┴───────────┘"
      ]
     },
     "execution_count": 18,
     "metadata": {},
     "output_type": "execute_result"
    }
   ],
   "source": [
    "%%time\n",
    "# OOMs No More :-)\n",
    "pl.scan_parquet(scan_path, n_rows=1000000000).limit(5).collect()"
   ]
  },
  {
   "cell_type": "code",
   "execution_count": null,
   "id": "c2b71005",
   "metadata": {},
   "outputs": [],
   "source": []
  }
 ],
 "metadata": {
  "jupytext": {
   "formats": "ipynb,py:light"
  },
  "kernelspec": {
   "display_name": "Python 3 (ipykernel)",
   "language": "python",
   "name": "python3"
  },
  "language_info": {
   "codemirror_mode": {
    "name": "ipython",
    "version": 3
   },
   "file_extension": ".py",
   "mimetype": "text/x-python",
   "name": "python",
   "nbconvert_exporter": "python",
   "pygments_lexer": "ipython3",
   "version": "3.11.5"
  }
 },
 "nbformat": 4,
 "nbformat_minor": 5
}
