{
 "cells": [
  {
   "cell_type": "markdown",
   "id": "d631cf9f-0606-44c4-96fc-e1d4a8d0d402",
   "metadata": {},
   "source": [
    "# Pandas\n",
    "\n",
    "* memory usage of Parquet read in Pandas as Arrow or NumPy arrays\n",
    "  * 2021+ 11GB 6s as Arrow\n",
    "  * 2021+ 39GB 16s at NumPy"
   ]
  },
  {
   "cell_type": "code",
   "execution_count": 1,
   "id": "073dd630-d7db-4f79-b38a-c73986427233",
   "metadata": {
    "tags": []
   },
   "outputs": [
    {
     "data": {
      "text/plain": [
       "'Pandas 2.0.1, Polars 0.17.10'"
      ]
     },
     "metadata": {},
     "output_type": "display_data"
    },
    {
     "name": "stdout",
     "output_type": "stream",
     "text": [
      "In [1] used 0.0 MiB RAM in 0.10s (system mean cpu 0%, single max cpu 0%), peaked 0.0 MiB above final usage, current RAM usage now 208.4 MiB\n"
     ]
    }
   ],
   "source": [
    "import pandas as pd\n",
    "import polars as pl\n",
    "from humanfriendly import format_size, format_number\n",
    "from simpler_mpl import set_commas, set_common_mpl_styles\n",
    "import matplotlib.pyplot as plt\n",
    "import seaborn as sns\n",
    "\n",
    "%load_ext autoreload\n",
    "%autoreload 2\n",
    "\n",
    "display(f\"Pandas {pd.__version__}, Polars {pl.__version__}\")\n",
    "\n",
    "from cell_profiler import cell_profiler as cp\n",
    "\n",
    "%start_cell_profiler\n",
    "\n",
    "\n",
    "def show_rows_memory(df, deep=False):\n",
    "    \"\"\"\n",
    "    Show rows and memory cost of a Pandas/Polars dataframe\n",
    "    `deep=True` only has an impact on Pandas numpy-backed string columns, which otherwise are undercounted\n",
    "    \"\"\"\n",
    "    num_bytes = 0\n",
    "    df_type = \"Unknown\"\n",
    "    try:\n",
    "        num_bytes = df.estimated_size()  # try Polars\n",
    "        df_type = \"Polars\"\n",
    "    except AttributeError:\n",
    "        pass\n",
    "    try:\n",
    "        num_bytes = df.memory_usage(deep=deep, index=False).sum()  # try Pandas\n",
    "        df_type = \"Pandas\"\n",
    "    except AttributeError:\n",
    "        pass\n",
    "    display(\n",
    "        f\"{df_type} df with {format_number(df.shape[0])} rows, {format_size(num_bytes)} bytes\"\n",
    "    )"
   ]
  },
  {
   "cell_type": "code",
   "execution_count": 2,
   "id": "5dc1a970-46a3-4ab1-972f-0f4bcf34967a",
   "metadata": {
    "tags": []
   },
   "outputs": [
    {
     "data": {
      "text/plain": [
       "'Profiling disabled'"
      ]
     },
     "execution_count": 2,
     "metadata": {},
     "output_type": "execute_result"
    }
   ],
   "source": [
    "%stop_cell_profiler"
   ]
  },
  {
   "cell_type": "code",
   "execution_count": 3,
   "id": "a51fafda-7854-4313-ba68-bd23638a05ad",
   "metadata": {
    "tags": []
   },
   "outputs": [],
   "source": [
    "dfpda = pd.read_parquet(\"../test_result_2021on.parquet\", \n",
    "                        dtype_backend=\"pyarrow\")"
   ]
  },
  {
   "cell_type": "code",
   "execution_count": 4,
   "id": "ada4a3e8-a5a8-44c0-9621-8742a1db0efc",
   "metadata": {
    "tags": []
   },
   "outputs": [
    {
     "data": {
      "text/plain": [
       "'Pandas df with 82,012,245 rows, 11.19 GB bytes'"
      ]
     },
     "metadata": {},
     "output_type": "display_data"
    }
   ],
   "source": [
    "show_rows_memory(dfpda)"
   ]
  },
  {
   "cell_type": "code",
   "execution_count": 5,
   "id": "b1ae5aa9-883e-44de-95ca-585796e13405",
   "metadata": {
    "tags": []
   },
   "outputs": [
    {
     "name": "stdout",
     "output_type": "stream",
     "text": [
      "<class 'pandas.core.frame.DataFrame'>\n",
      "RangeIndex: 82012245 entries, 0 to 82012244\n",
      "Data columns (total 14 columns):\n",
      " #   Column             Dtype                 \n",
      "---  ------             -----                 \n",
      " 0   test_id            int64[pyarrow]        \n",
      " 1   vehicle_id         int64[pyarrow]        \n",
      " 2   test_date          timestamp[ns][pyarrow]\n",
      " 3   test_class_id      int64[pyarrow]        \n",
      " 4   test_type          large_string[pyarrow] \n",
      " 5   test_result        large_string[pyarrow] \n",
      " 6   test_mileage       int64[pyarrow]        \n",
      " 7   postcode_area      large_string[pyarrow] \n",
      " 8   make               large_string[pyarrow] \n",
      " 9   model              large_string[pyarrow] \n",
      " 10  colour             large_string[pyarrow] \n",
      " 11  fuel_type          large_string[pyarrow] \n",
      " 12  cylinder_capacity  int64[pyarrow]        \n",
      " 13  first_use_date     timestamp[ns][pyarrow]\n",
      "dtypes: int64[pyarrow](5), large_string[pyarrow](7), timestamp[ns][pyarrow](2)\n",
      "memory usage: 10.4 GB\n"
     ]
    }
   ],
   "source": [
    "dfpda.info()"
   ]
  },
  {
   "cell_type": "code",
   "execution_count": 6,
   "id": "7823dc94-3121-454a-916a-9bee25fea854",
   "metadata": {},
   "outputs": [],
   "source": [
    "dfpdn = pd.read_parquet(\"../test_result_2021on.parquet\", \n",
    "                        dtype_backend=\"numpy_nullable\")"
   ]
  },
  {
   "cell_type": "code",
   "execution_count": 7,
   "id": "a27dc3ad-8b63-492f-8231-6dfacd88c7f9",
   "metadata": {},
   "outputs": [
    {
     "data": {
      "text/plain": [
       "'Pandas df with 82,012,245 rows, 39.66 GB bytes'"
      ]
     },
     "metadata": {},
     "output_type": "display_data"
    }
   ],
   "source": [
    "show_rows_memory(dfpdn, deep=True)"
   ]
  },
  {
   "cell_type": "code",
   "execution_count": 8,
   "id": "8322ddf1-dd4e-413d-98c6-6af2773e0deb",
   "metadata": {
    "tags": []
   },
   "outputs": [
    {
     "name": "stdout",
     "output_type": "stream",
     "text": [
      "<class 'pandas.core.frame.DataFrame'>\n",
      "RangeIndex: 82012245 entries, 0 to 82012244\n",
      "Data columns (total 14 columns):\n",
      " #   Column             Dtype         \n",
      "---  ------             -----         \n",
      " 0   test_id            Int64         \n",
      " 1   vehicle_id         Int64         \n",
      " 2   test_date          datetime64[ns]\n",
      " 3   test_class_id      Int64         \n",
      " 4   test_type          object        \n",
      " 5   test_result        object        \n",
      " 6   test_mileage       Int64         \n",
      " 7   postcode_area      object        \n",
      " 8   make               object        \n",
      " 9   model              object        \n",
      " 10  colour             object        \n",
      " 11  fuel_type          object        \n",
      " 12  cylinder_capacity  Int64         \n",
      " 13  first_use_date     datetime64[ns]\n",
      "dtypes: Int64(5), datetime64[ns](2), object(7)\n",
      "memory usage: 8.9+ GB\n"
     ]
    }
   ],
   "source": [
    "dfpdn.info()"
   ]
  },
  {
   "cell_type": "code",
   "execution_count": 58,
   "id": "f9131b36-8323-4725-b8e8-71f6dcb541c2",
   "metadata": {
    "tags": []
   },
   "outputs": [
    {
     "data": {
      "text/html": [
       "<div>\n",
       "<style scoped>\n",
       "    .dataframe tbody tr th:only-of-type {\n",
       "        vertical-align: middle;\n",
       "    }\n",
       "\n",
       "    .dataframe tbody tr th {\n",
       "        vertical-align: top;\n",
       "    }\n",
       "\n",
       "    .dataframe thead th {\n",
       "        text-align: right;\n",
       "    }\n",
       "</style>\n",
       "<table border=\"1\" class=\"dataframe\">\n",
       "  <thead>\n",
       "    <tr style=\"text-align: right;\">\n",
       "      <th></th>\n",
       "      <th>test_date</th>\n",
       "      <th>test_class_id</th>\n",
       "      <th>test_type</th>\n",
       "      <th>test_result</th>\n",
       "      <th>test_mileage</th>\n",
       "      <th>make</th>\n",
       "      <th>model</th>\n",
       "      <th>colour</th>\n",
       "      <th>fuel_type</th>\n",
       "      <th>cylinder_capacity</th>\n",
       "      <th>first_use_date</th>\n",
       "    </tr>\n",
       "  </thead>\n",
       "  <tbody>\n",
       "    <tr>\n",
       "      <th>14856429</th>\n",
       "      <td>2022-05-12 00:00:00</td>\n",
       "      <td>4</td>\n",
       "      <td>NT</td>\n",
       "      <td>F</td>\n",
       "      <td>171443</td>\n",
       "      <td>VOLVO</td>\n",
       "      <td>V50</td>\n",
       "      <td>BLUE</td>\n",
       "      <td>DI</td>\n",
       "      <td>1997</td>\n",
       "      <td>2005-03-10 00:00:00</td>\n",
       "    </tr>\n",
       "    <tr>\n",
       "      <th>14908799</th>\n",
       "      <td>2022-05-12 00:00:00</td>\n",
       "      <td>4</td>\n",
       "      <td>RT</td>\n",
       "      <td>P</td>\n",
       "      <td>171443</td>\n",
       "      <td>VOLVO</td>\n",
       "      <td>V50</td>\n",
       "      <td>BLUE</td>\n",
       "      <td>DI</td>\n",
       "      <td>1997</td>\n",
       "      <td>2005-03-10 00:00:00</td>\n",
       "    </tr>\n",
       "  </tbody>\n",
       "</table>\n",
       "</div>"
      ],
      "text/plain": [
       "                    test_date  test_class_id test_type test_result   \n",
       "14856429  2022-05-12 00:00:00              4        NT           F  \\\n",
       "14908799  2022-05-12 00:00:00              4        RT           P   \n",
       "\n",
       "          test_mileage   make model colour fuel_type  cylinder_capacity   \n",
       "14856429        171443  VOLVO   V50   BLUE        DI               1997  \\\n",
       "14908799        171443  VOLVO   V50   BLUE        DI               1997   \n",
       "\n",
       "               first_use_date  \n",
       "14856429  2005-03-10 00:00:00  \n",
       "14908799  2005-03-10 00:00:00  "
      ]
     },
     "execution_count": 58,
     "metadata": {},
     "output_type": "execute_result"
    },
    {
     "name": "stdout",
     "output_type": "stream",
     "text": [
      "In [58] used -346.1 MiB RAM in 10.99s (system mean cpu 18%, single max cpu 100%), peaked 1489.9 MiB above final usage, current RAM usage now 18604.0 MiB\n"
     ]
    }
   ],
   "source": [
    "# /tmp/ipykernel_585982/2566587885.py:1: RuntimeWarning: Engine has switched to 'python' because numexpr does not support extension array dtypes. Please set your engine to python manually.\n",
    "#dfpda.query('(test_mileage==171443) & (model==\"V50\") & (test_result==\"P\") & ', engine=\"python\")\n",
    "cols = ['test_date', 'test_class_id', 'test_type', 'test_result', 'test_mileage', 'make', 'model', 'colour', 'fuel_type', 'cylinder_capacity', 'first_use_date']\n",
    "#dfpda.query('(test_id==\"642012593\")')[cols] # Ian's volvo v50\n",
    "dfpda.query('(test_mileage==171443) & (model==\"V50\") & (colour==\"BLUE\")', engine='python')[cols] # Ian's volvo v50"
   ]
  },
  {
   "cell_type": "markdown",
   "id": "ef966b43-12a3-4f38-942c-95a6d7a9dade",
   "metadata": {},
   "source": [
    "# Speed test"
   ]
  },
  {
   "cell_type": "code",
   "execution_count": 9,
   "id": "fbf74d21-dd72-444c-beb7-499b17534963",
   "metadata": {
    "tags": []
   },
   "outputs": [
    {
     "name": "stdout",
     "output_type": "stream",
     "text": [
      "1.09 s ± 130 ms per loop (mean ± std. dev. of 7 runs, 1 loop each)\n"
     ]
    }
   ],
   "source": [
    "%timeit dfpda['make'].str.len()\n",
    "# e.g. TOYOTA, VOLKSWAGEN"
   ]
  },
  {
   "cell_type": "code",
   "execution_count": 10,
   "id": "4fdb2b8f-c260-42f5-a884-52a3735c9f6b",
   "metadata": {
    "tags": []
   },
   "outputs": [
    {
     "name": "stdout",
     "output_type": "stream",
     "text": [
      "7.65 s ± 246 ms per loop (mean ± std. dev. of 7 runs, 1 loop each)\n"
     ]
    }
   ],
   "source": [
    "%timeit dfpdn['make'].str.len()"
   ]
  },
  {
   "cell_type": "code",
   "execution_count": 11,
   "id": "4001b2da-1067-4294-a390-91e7690cdc42",
   "metadata": {
    "tags": []
   },
   "outputs": [
    {
     "name": "stdout",
     "output_type": "stream",
     "text": [
      "83.1 ms ± 1.74 ms per loop (mean ± std. dev. of 7 runs, 10 loops each)\n"
     ]
    }
   ],
   "source": [
    "%timeit dfpda['test_class_id'].max()"
   ]
  },
  {
   "cell_type": "code",
   "execution_count": 12,
   "id": "d6d26ee8-48d6-4878-97fc-0469a7c4b565",
   "metadata": {
    "tags": []
   },
   "outputs": [
    {
     "name": "stdout",
     "output_type": "stream",
     "text": [
      "167 ms ± 1.78 ms per loop (mean ± std. dev. of 7 runs, 10 loops each)\n"
     ]
    }
   ],
   "source": [
    "%timeit dfpdn['test_class_id'].max()"
   ]
  },
  {
   "cell_type": "code",
   "execution_count": 63,
   "id": "2ef11fca-de0e-49ab-84ff-b002140a45ef",
   "metadata": {
    "tags": []
   },
   "outputs": [
    {
     "name": "stdout",
     "output_type": "stream",
     "text": [
      "In [63] used 0.0 MiB RAM in 0.38s (system mean cpu 17%, single max cpu 100%), peaked 0.0 MiB above final usage, current RAM usage now 14750.4 MiB\n"
     ]
    }
   ],
   "source": [
    "import numpy as np\n",
    "\n",
    "np.testing.assert_approx_equal(74115.13, dfpda[\"test_mileage\"].mean())\n",
    "np.testing.assert_approx_equal(74115.13, dfpdn[\"test_mileage\"].mean())"
   ]
  },
  {
   "cell_type": "code",
   "execution_count": 14,
   "id": "e600ffb0-df22-465e-94fd-1a5b17e4158d",
   "metadata": {
    "tags": []
   },
   "outputs": [
    {
     "name": "stdout",
     "output_type": "stream",
     "text": [
      "60 ms ± 1.76 ms per loop (mean ± std. dev. of 7 runs, 10 loops each)\n"
     ]
    }
   ],
   "source": [
    "%timeit dfpda['test_mileage'].mean()"
   ]
  },
  {
   "cell_type": "code",
   "execution_count": 15,
   "id": "9a889928-5318-4035-8740-37bb1e5312ca",
   "metadata": {
    "tags": []
   },
   "outputs": [
    {
     "name": "stdout",
     "output_type": "stream",
     "text": [
      "140 ms ± 1.18 ms per loop (mean ± std. dev. of 7 runs, 10 loops each)\n"
     ]
    }
   ],
   "source": [
    "%timeit dfpdn['test_mileage'].mean()"
   ]
  },
  {
   "cell_type": "code",
   "execution_count": 16,
   "id": "6546d611-7655-466b-ae38-0d5015af1a3c",
   "metadata": {
    "tags": []
   },
   "outputs": [],
   "source": [
    "# IAN IS IT SANE TO TEST THE TIME OF 2 OPS - I REALLY NEED TO SEPARATE THESE...\n",
    "# %timeit dfpda['test_mileage'].dropna().mean()"
   ]
  },
  {
   "cell_type": "code",
   "execution_count": 17,
   "id": "05daa96e-c037-478a-9861-c835ec70b196",
   "metadata": {
    "tags": []
   },
   "outputs": [],
   "source": [
    "# %timeit dfpdn['test_mileage'].dropna().mean()"
   ]
  },
  {
   "cell_type": "markdown",
   "id": "e7277ced-b8db-4ade-af20-75166b575e5f",
   "metadata": {},
   "source": [
    "# Mileage vs first use year"
   ]
  },
  {
   "cell_type": "markdown",
   "id": "6b86cc2e-c195-4356-a313-7aa1a68082b6",
   "metadata": {},
   "source": [
    "### Subsample using NumPy and Arrow\n",
    "\n",
    "**TODO**"
   ]
  },
  {
   "cell_type": "code",
   "execution_count": 18,
   "id": "3499e537-db6c-4729-bb98-303c64262878",
   "metadata": {
    "tags": []
   },
   "outputs": [
    {
     "data": {
      "text/plain": [
       "'Profiling enabled'"
      ]
     },
     "execution_count": 18,
     "metadata": {},
     "output_type": "execute_result"
    },
    {
     "name": "stdout",
     "output_type": "stream",
     "text": [
      "In [18] used 24421.9 MiB RAM in 170.39s (system mean cpu 17%, single max cpu 100%), peaked 12239.8 MiB above final usage, current RAM usage now 24630.4 MiB\n"
     ]
    }
   ],
   "source": [
    "%start_cell_profiler"
   ]
  },
  {
   "cell_type": "code",
   "execution_count": 19,
   "id": "ec8c6ca0-ba50-4297-b7c9-146dd7e4dc04",
   "metadata": {
    "tags": []
   },
   "outputs": [
    {
     "name": "stdout",
     "output_type": "stream",
     "text": [
      "In [19] used 0.0 MiB RAM in 0.10s (system mean cpu 5%, single max cpu 33%), peaked 0.0 MiB above final usage, current RAM usage now 24630.4 MiB\n"
     ]
    }
   ],
   "source": [
    "# df_fuel = dfpda[:10000].query('test_result==\"P\"')\n",
    "# df_fuel = dfpda.query('test_result==\"P\"').sample(10_000)"
   ]
  },
  {
   "cell_type": "markdown",
   "id": "08f27aa1-1985-4392-90ba-62a887868718",
   "metadata": {},
   "source": [
    "## How to get the rows and columns needed?\n",
    "\n",
    "* query on test result is very slow\n",
    "* mask on the same logical query is faster\n",
    "* making the mask is very fast\n",
    "* selecting rows then selecting columns is slow\n",
    "* selecting subset of columns then applying mask is very fast"
   ]
  },
  {
   "cell_type": "code",
   "execution_count": 20,
   "id": "816c086b-368e-4ae9-a24e-863fed7ddba6",
   "metadata": {
    "tags": []
   },
   "outputs": [
    {
     "name": "stdout",
     "output_type": "stream",
     "text": [
      "CPU times: user 7.24 s, sys: 4.32 s, total: 11.6 s\n",
      "Wall time: 11.4 s\n",
      "In [20] used 626.3 MiB RAM in 11.72s (system mean cpu 9%, single max cpu 100%), peaked 9139.4 MiB above final usage, current RAM usage now 25256.7 MiB\n"
     ]
    }
   ],
   "source": [
    "%time dfpda.query('test_result==\"P\"');"
   ]
  },
  {
   "cell_type": "code",
   "execution_count": 21,
   "id": "291728a4-33ed-47b2-9b6f-4f8930a968e3",
   "metadata": {
    "tags": []
   },
   "outputs": [
    {
     "name": "stdout",
     "output_type": "stream",
     "text": [
      "CPU times: user 6.71 s, sys: 4.57 s, total: 11.3 s\n",
      "Wall time: 11.2 s\n",
      "In [21] used 0.0 MiB RAM in 11.31s (system mean cpu 8%, single max cpu 100%), peaked 9609.7 MiB above final usage, current RAM usage now 25256.7 MiB\n"
     ]
    }
   ],
   "source": [
    "%%time\n",
    "# similar results CoW enabled and disabled\n",
    "with pd.option_context(\"mode.copy_on_write\", True):\n",
    "    dfpda.query('test_result==\"P\"');"
   ]
  },
  {
   "cell_type": "code",
   "execution_count": 22,
   "id": "c5b2980e-869d-4106-962b-a5abf16fb2e6",
   "metadata": {
    "tags": []
   },
   "outputs": [
    {
     "name": "stdout",
     "output_type": "stream",
     "text": [
      "In [22] used 0.0 MiB RAM in 0.10s (system mean cpu 0%, single max cpu 0%), peaked 0.0 MiB above final usage, current RAM usage now 25256.7 MiB\n"
     ]
    }
   ],
   "source": [
    "# sanity check they're installed - they are\n",
    "import bottleneck\n",
    "import numexpr"
   ]
  },
  {
   "cell_type": "code",
   "execution_count": 23,
   "id": "4e5c46bb-7c27-49c5-a1d8-aa26da8b9255",
   "metadata": {
    "tags": []
   },
   "outputs": [
    {
     "name": "stdout",
     "output_type": "stream",
     "text": [
      "CPU times: user 6.63 s, sys: 4.31 s, total: 10.9 s\n",
      "Wall time: 10.9 s\n",
      "In [23] used 0.0 MiB RAM in 11.13s (system mean cpu 8%, single max cpu 100%), peaked 9534.4 MiB above final usage, current RAM usage now 25256.7 MiB\n"
     ]
    }
   ],
   "source": [
    "%time dfpda.query('test_result==\"P\"');"
   ]
  },
  {
   "cell_type": "code",
   "execution_count": 46,
   "id": "417bb54a-15ea-4851-9ad0-847c6151984a",
   "metadata": {
    "tags": []
   },
   "outputs": [
    {
     "name": "stdout",
     "output_type": "stream",
     "text": [
      "CPU times: user 997 ms, sys: 171 ms, total: 1.17 s\n",
      "Wall time: 1.04 s\n",
      "In [46] used 0.0 MiB RAM in 1.14s (system mean cpu 9%, single max cpu 100%), peaked 779.9 MiB above final usage, current RAM usage now 25358.1 MiB\n"
     ]
    }
   ],
   "source": [
    "%time dfpda.eval('test_result==\"P\"'); \n",
    "# make mask with eval"
   ]
  },
  {
   "cell_type": "code",
   "execution_count": 47,
   "id": "0d931804-a1e6-4be5-b936-330ba3c7c4c1",
   "metadata": {
    "tags": []
   },
   "outputs": [
    {
     "name": "stdout",
     "output_type": "stream",
     "text": [
      "CPU times: user 391 ms, sys: 4.77 ms, total: 396 ms\n",
      "Wall time: 394 ms\n",
      "In [47] used 0.0 MiB RAM in 0.49s (system mean cpu 7%, single max cpu 100%), peaked 19.3 MiB above final usage, current RAM usage now 25358.1 MiB\n"
     ]
    }
   ],
   "source": [
    "%%time \n",
    "pass_mask = dfpda[\"test_result\"] == \"P\"; \n",
    "# make mask only"
   ]
  },
  {
   "cell_type": "code",
   "execution_count": 25,
   "id": "eae0b2e1-8fc8-45a1-8ed8-e1d1e69492af",
   "metadata": {
    "tags": []
   },
   "outputs": [
    {
     "name": "stdout",
     "output_type": "stream",
     "text": [
      "CPU times: user 5.97 s, sys: 4.11 s, total: 10.1 s\n",
      "Wall time: 10 s\n",
      "In [25] used 0.4 MiB RAM in 10.29s (system mean cpu 7%, single max cpu 100%), peaked 9175.8 MiB above final usage, current RAM usage now 25276.5 MiB\n"
     ]
    }
   ],
   "source": [
    "%time dfpda[pass_mask]; \n",
    "# select all columns against mask"
   ]
  },
  {
   "cell_type": "code",
   "execution_count": 26,
   "id": "a494c197-1376-429d-ae50-c08e79b24af4",
   "metadata": {
    "tags": []
   },
   "outputs": [
    {
     "name": "stdout",
     "output_type": "stream",
     "text": [
      "CPU times: user 5.88 s, sys: 4.29 s, total: 10.2 s\n",
      "Wall time: 10.1 s\n",
      "In [26] used 0.0 MiB RAM in 10.27s (system mean cpu 8%, single max cpu 100%), peaked 9178.8 MiB above final usage, current RAM usage now 25276.5 MiB\n"
     ]
    }
   ],
   "source": [
    "%%time\n",
    "cols = [\"test_mileage\", \"fuel_type\", \n",
    "        \"first_use_date\"] \n",
    "dfpda[pass_mask][cols]; \n",
    "# select all columns after mask"
   ]
  },
  {
   "cell_type": "code",
   "execution_count": 65,
   "id": "30f0b0bf-ab51-4c09-8660-55fc96974d78",
   "metadata": {
    "tags": []
   },
   "outputs": [
    {
     "name": "stdout",
     "output_type": "stream",
     "text": [
      "CPU times: user 10.5 s, sys: 8.29 s, total: 18.8 s\n",
      "Wall time: 19 s\n",
      "In [65] used -163.7 MiB RAM in 19.95s (system mean cpu 11%, single max cpu 100%), peaked 7630.1 MiB above final usage, current RAM usage now 14614.3 MiB\n"
     ]
    }
   ],
   "source": [
    "%time dfpda[cols][pass_mask]; \n",
    "# select all columns before mask"
   ]
  },
  {
   "cell_type": "code",
   "execution_count": 27,
   "id": "ca5a8935-9aab-4452-973e-047592a73b3b",
   "metadata": {
    "tags": []
   },
   "outputs": [
    {
     "name": "stdout",
     "output_type": "stream",
     "text": [
      "CPU times: user 1.48 s, sys: 870 ms, total: 2.34 s\n",
      "Wall time: 2.34 s\n",
      "In [27] used 0.0 MiB RAM in 2.48s (system mean cpu 8%, single max cpu 100%), peaked 2498.2 MiB above final usage, current RAM usage now 25276.5 MiB\n"
     ]
    }
   ],
   "source": [
    "%time dfpda[cols][pass_mask]; \n",
    "# select all columns before mask"
   ]
  },
  {
   "cell_type": "code",
   "execution_count": 27,
   "id": "58e077af",
   "metadata": {
    "tags": []
   },
   "outputs": [
    {
     "name": "stdout",
     "output_type": "stream",
     "text": [
      "CPU times: user 1.48 s, sys: 870 ms, total: 2.34 s\n",
      "Wall time: 2.34 s\n",
      "In [27] used 0.0 MiB RAM in 2.48s (system mean cpu 8%, single max cpu 100%), peaked 2498.2 MiB above final usage, current RAM usage now 25276.5 MiB\n"
     ]
    }
   ],
   "source": [
    "%time dfpda[cols][pass_mask]; \n",
    "# select all columns before mask"
   ]
  },
  {
   "cell_type": "code",
   "execution_count": 28,
   "id": "af6ecde3-213e-47c7-b388-31e7737be69b",
   "metadata": {
    "tags": []
   },
   "outputs": [
    {
     "name": "stdout",
     "output_type": "stream",
     "text": [
      "CPU times: user 6.36 s, sys: 4.07 s, total: 10.4 s\n",
      "Wall time: 10.4 s\n",
      "In [28] used 0.1 MiB RAM in 10.64s (system mean cpu 8%, single max cpu 100%), peaked 9154.1 MiB above final usage, current RAM usage now 25276.6 MiB\n"
     ]
    }
   ],
   "source": [
    "%time\n",
    "dfpda[dfpda[\"test_result\"] == \"P\"];"
   ]
  },
  {
   "cell_type": "code",
   "execution_count": 29,
   "id": "9ca3a49c-d64a-4de8-8a5c-1477ac0bd84e",
   "metadata": {
    "tags": []
   },
   "outputs": [
    {
     "name": "stdout",
     "output_type": "stream",
     "text": [
      "CPU times: user 8.89 s, sys: 4.41 s, total: 13.3 s\n",
      "Wall time: 13.1 s\n",
      "In [29] used 1.6 MiB RAM in 13.16s (system mean cpu 8%, single max cpu 100%), peaked 9211.4 MiB above final usage, current RAM usage now 25278.1 MiB\n"
     ]
    }
   ],
   "source": [
    "%%time\n",
    "df_fuel = dfpda.query('test_result==\"P\"').sample(10_000)"
   ]
  },
  {
   "cell_type": "markdown",
   "id": "b2a77d45-849c-4787-9cdf-6f355900dfb5",
   "metadata": {},
   "source": [
    "## The actual \"work\" is fast for pandas and polars"
   ]
  },
  {
   "cell_type": "code",
   "execution_count": 30,
   "id": "434e0b7d-ead6-4a53-96ea-cacb6573ca82",
   "metadata": {
    "tags": []
   },
   "outputs": [
    {
     "name": "stdout",
     "output_type": "stream",
     "text": [
      "CPU times: user 4.72 ms, sys: 203 µs, total: 4.92 ms\n",
      "Wall time: 4.24 ms\n",
      "In [30] used 0.6 MiB RAM in 0.11s (system mean cpu 4%, single max cpu 25%), peaked 0.0 MiB above final usage, current RAM usage now 25278.7 MiB\n"
     ]
    }
   ],
   "source": [
    "%%time\n",
    "df_fuel = (\n",
    "    df_fuel.assign(first_use_year=lambda dfx: dfx[\"first_use_date\"].dt.year)[\n",
    "        [\"test_mileage\", \"fuel_type\", \"first_use_year\"]\n",
    "    ]\n",
    "    .dropna()\n",
    "    .query(\"fuel_type in ['PE', 'DI']\")\n",
    ")"
   ]
  },
  {
   "cell_type": "code",
   "execution_count": 67,
   "id": "d8f11bd2-7e9e-4fb3-906f-8a9d4368f543",
   "metadata": {
    "tags": []
   },
   "outputs": [
    {
     "name": "stdout",
     "output_type": "stream",
     "text": [
      "CPU times: user 8.94 s, sys: 5.11 s, total: 14 s\n",
      "Wall time: 13.9 s\n",
      "In [67] used 0.8 MiB RAM in 13.99s (system mean cpu 10%, single max cpu 100%), peaked 9218.1 MiB above final usage, current RAM usage now 14618.9 MiB\n"
     ]
    }
   ],
   "source": [
    "%%time\n",
    "df_fuel = (\n",
    "    dfpda.query('test_result==\"P\"')\n",
    "    .sample(10_000)\n",
    "    .assign(first_use_year=lambda dfx: dfx[\"first_use_date\"].dt.year)[\n",
    "        [\"test_mileage\", \"fuel_type\", \"first_use_year\"]\n",
    "    ]\n",
    "    .dropna()\n",
    "    .query(\"fuel_type in ['PE', 'DI']\")\n",
    ")"
   ]
  },
  {
   "cell_type": "code",
   "execution_count": 32,
   "id": "c65e219d-bf6d-4923-89c5-53c5d63adc07",
   "metadata": {
    "tags": []
   },
   "outputs": [
    {
     "name": "stdout",
     "output_type": "stream",
     "text": [
      "In [32] used 0.0 MiB RAM in 0.10s (system mean cpu 5%, single max cpu 18%), peaked 0.0 MiB above final usage, current RAM usage now 25278.4 MiB\n"
     ]
    }
   ],
   "source": [
    "# def add_year(dfx):\n",
    "#    dfx['first_use_year'] = dfx['first_use_date'].dt.year\n",
    "#    return dfx\n",
    "# df_fuel = df_fuel.pipe(add_year)[['test_mileage', 'fuel_type', 'first_use_year']]. \\"
   ]
  },
  {
   "cell_type": "code",
   "execution_count": 33,
   "id": "5d2e15aa-873d-4917-a1fc-4bd05c66e294",
   "metadata": {
    "tags": []
   },
   "outputs": [
    {
     "name": "stdout",
     "output_type": "stream",
     "text": [
      "In [33] used 0.0 MiB RAM in 0.10s (system mean cpu 5%, single max cpu 25%), peaked 0.0 MiB above final usage, current RAM usage now 25278.4 MiB\n"
     ]
    }
   ],
   "source": [
    "# dfs_allfuel = dfpda.query('test_result==\"P\"').sample(10_000)\n",
    "# dfs_allfuel['first_use_year'] = dfs_allfuel['first_use_date'].dt.year\n",
    "# dfs_allfuel = dfs_allfuel[['test_mileage', 'fuel_type', 'first_use_year']]\n",
    "# dfs_allfuel = dfs_allfuel.dropna() # some of the test_mileage rows are empty\n",
    "# df_fuel = dfs_allfuel[dfs_allfuel['fuel_type'].isin(['PE', 'DI'])]"
   ]
  },
  {
   "cell_type": "code",
   "execution_count": 34,
   "id": "7502d1e1-16a0-4232-a033-5db336e3cf8e",
   "metadata": {
    "tags": []
   },
   "outputs": [
    {
     "data": {
      "image/png": "[encoded data removed]",
      "text/plain": [
       "<Figure size 400x400 with 1 Axes>"
      ]
     },
     "metadata": {},
     "output_type": "display_data"
    },
    {
     "name": "stdout",
     "output_type": "stream",
     "text": [
      "In [34] used 1.1 MiB RAM in 0.52s (system mean cpu 11%, single max cpu 100%), peaked 0.0 MiB above final usage, current RAM usage now 25279.6 MiB\n"
     ]
    }
   ],
   "source": [
    "fig, ax = plt.subplots(constrained_layout=True, figsize=(4, 4))\n",
    "# Note this is Pandas Arrow with Seaborn\n",
    "# TODO maybe different symbols\n",
    "# h/t https://stackoverflow.com/questions/56394204/pandas-groupby-scatter-plot-in-a-single-plot for categorical solution\n",
    "# sns.scatterplot(x=dfs['first_use_year'], y=dfs['test_mileage'], c=pd.Categorical(dfs['fuel_type']).codes, ax=ax)\n",
    "sns.scatterplot(\n",
    "    x=df_fuel[\"first_use_year\"],\n",
    "    y=df_fuel[\"test_mileage\"],\n",
    "    hue=df_fuel[\"fuel_type\"],\n",
    "    hue_order=[\"DI\", \"PE\"],\n",
    "    ax=ax,\n",
    ")\n",
    "# ax.scatter(x=dfs['first_use_year'], y=dfs['test_mileage'], c=pd.Categorical(dfs['fuel_type']).codes,)\n",
    "ax.set_xlim(xmin=1960)\n",
    "ax.set_ylim(ymax=400000)\n",
    "set_commas(ax, y_axis=True)\n",
    "set_common_mpl_styles(ax, ymin=-2000, title=\"MOT Year 2021+\")"
   ]
  },
  {
   "cell_type": "code",
   "execution_count": 35,
   "id": "8a0f9937-3e7b-4438-9bbe-a7ce6f853fb8",
   "metadata": {
    "tags": []
   },
   "outputs": [
    {
     "name": "stdout",
     "output_type": "stream",
     "text": [
      "In [35] used 0.3 MiB RAM in 0.10s (system mean cpu 3%, single max cpu 18%), peaked 0.0 MiB above final usage, current RAM usage now 25279.9 MiB\n"
     ]
    }
   ],
   "source": [
    "# dfs.info()"
   ]
  },
  {
   "cell_type": "markdown",
   "id": "aea09eb8-b2ea-4ad5-b473-a5eb01df27ce",
   "metadata": {},
   "source": [
    "# Old experiments to load in single file dumps"
   ]
  },
  {
   "cell_type": "code",
   "execution_count": 36,
   "id": "69eecf11-efb6-40b3-96e3-a2447fd96d03",
   "metadata": {
    "tags": []
   },
   "outputs": [
    {
     "name": "stdout",
     "output_type": "stream",
     "text": [
      "In [36] used 0.0 MiB RAM in 0.10s (system mean cpu 8%, single max cpu 33%), peaked 0.0 MiB above final usage, current RAM usage now 25279.9 MiB\n"
     ]
    }
   ],
   "source": [
    "# dfpda2018 = pd.read_parquet('../test_result_2018on.parquet', dtype_backend=\"pyarrow\")"
   ]
  },
  {
   "cell_type": "code",
   "execution_count": 37,
   "id": "6e117b3a-ce49-4db4-8714-986f84d548ee",
   "metadata": {
    "tags": []
   },
   "outputs": [
    {
     "name": "stdout",
     "output_type": "stream",
     "text": [
      "In [37] used 0.0 MiB RAM in 0.10s (system mean cpu 9%, single max cpu 50%), peaked 0.0 MiB above final usage, current RAM usage now 25279.9 MiB\n"
     ]
    }
   ],
   "source": [
    "# dfpda2018.memory_usage(deep=True, index=False) # deep=True gives same answer as deep=False on Arrow"
   ]
  },
  {
   "cell_type": "code",
   "execution_count": 38,
   "id": "fb40f54b-2e0d-49bb-84f3-e2373c7052cd",
   "metadata": {
    "tags": []
   },
   "outputs": [
    {
     "name": "stdout",
     "output_type": "stream",
     "text": [
      "In [38] used 0.0 MiB RAM in 0.10s (system mean cpu 12%, single max cpu 50%), peaked 0.0 MiB above final usage, current RAM usage now 25279.9 MiB\n"
     ]
    }
   ],
   "source": [
    "# show_rows_memory(dfpda2018) # 198M rows, 27GB"
   ]
  },
  {
   "cell_type": "code",
   "execution_count": 39,
   "id": "fdf8ddc0-7785-4e5b-ae4b-cf0ea4acab3c",
   "metadata": {},
   "outputs": [
    {
     "name": "stdout",
     "output_type": "stream",
     "text": [
      "In [39] used 0.0 MiB RAM in 0.10s (system mean cpu 0%, single max cpu 0%), peaked 0.0 MiB above final usage, current RAM usage now 25279.9 MiB\n"
     ]
    }
   ],
   "source": [
    "# dfpda2021 = pd.read_parquet('../test_result_2021on.parquet', dtype_backend=\"pyarrow\")"
   ]
  },
  {
   "cell_type": "code",
   "execution_count": 40,
   "id": "fa437e85-3bed-4c1c-84fd-cad6ae8dd23b",
   "metadata": {
    "tags": []
   },
   "outputs": [
    {
     "name": "stdout",
     "output_type": "stream",
     "text": [
      "In [40] used 0.0 MiB RAM in 0.10s (system mean cpu 0%, single max cpu 0%), peaked 0.0 MiB above final usage, current RAM usage now 25279.9 MiB\n"
     ]
    }
   ],
   "source": [
    "# show_rows_memory(dfpda2021) # 82M rows 11GB"
   ]
  },
  {
   "cell_type": "code",
   "execution_count": 41,
   "id": "32ff200e-087b-432d-afb8-e09b1b6713c8",
   "metadata": {
    "tags": []
   },
   "outputs": [
    {
     "name": "stdout",
     "output_type": "stream",
     "text": [
      "In [41] used 0.0 MiB RAM in 0.10s (system mean cpu 5%, single max cpu 23%), peaked 0.0 MiB above final usage, current RAM usage now 25279.9 MiB\n"
     ]
    }
   ],
   "source": [
    "# dfpdn2021 = pd.read_parquet('../test_result_2021on.parquet', dtype_backend=\"numpy_nullable\")"
   ]
  },
  {
   "cell_type": "code",
   "execution_count": 42,
   "id": "29d66217-7707-4606-9630-9c28af28f2c6",
   "metadata": {
    "tags": []
   },
   "outputs": [
    {
     "name": "stdout",
     "output_type": "stream",
     "text": [
      "In [42] used 0.0 MiB RAM in 0.10s (system mean cpu 5%, single max cpu 23%), peaked 0.0 MiB above final usage, current RAM usage now 25279.9 MiB\n"
     ]
    }
   ],
   "source": [
    "# show_rows_memory(dfpdn2021)"
   ]
  },
  {
   "cell_type": "code",
   "execution_count": 43,
   "id": "0a819d1a-a734-49c3-874d-8d4676e8b986",
   "metadata": {
    "tags": []
   },
   "outputs": [
    {
     "name": "stdout",
     "output_type": "stream",
     "text": [
      "In [43] used -1.0 MiB RAM in 0.10s (system mean cpu 0%, single max cpu 0%), peaked 0.0 MiB above final usage, current RAM usage now 25278.8 MiB\n"
     ]
    }
   ],
   "source": [
    "# show_rows_memory(dfpdn2021, deep=True) # 82M rows 39GB"
   ]
  },
  {
   "cell_type": "code",
   "execution_count": null,
   "id": "66df417c-6fff-4435-b2d4-c83c806f674b",
   "metadata": {},
   "outputs": [],
   "source": []
  }
 ],
 "metadata": {
  "kernelspec": {
   "display_name": "Python 3 (ipykernel)",
   "language": "python",
   "name": "python3"
  },
  "language_info": {
   "codemirror_mode": {
    "name": "ipython",
    "version": 3
   },
   "file_extension": ".py",
   "mimetype": "text/x-python",
   "name": "python",
   "nbconvert_exporter": "python",
   "pygments_lexer": "ipython3",
   "version": "3.11.3"
  }
 },
 "nbformat": 4,
 "nbformat_minor": 5
}
