{
 "cells": [
  {
   "cell_type": "markdown",
   "id": "d631cf9f-0606-44c4-96fc-e1d4a8d0d402",
   "metadata": {},
   "source": [
    "# Pandas\n",
    "\n",
    "* memory usage of Parquet read in Pandas as Arrow or NumPy arrays\n",
    "  * 2021+ 11GB 6s as Arrow\n",
    "  * 2021+ 39GB 16s at NumPy"
   ]
  },
  {
   "cell_type": "code",
   "execution_count": 1,
   "id": "073dd630-d7db-4f79-b38a-c73986427233",
   "metadata": {
    "tags": []
   },
   "outputs": [
    {
     "data": {
      "text/plain": [
       "'Pandas 2.0.1, Polars 0.17.10'"
      ]
     },
     "metadata": {},
     "output_type": "display_data"
    },
    {
     "name": "stdout",
     "output_type": "stream",
     "text": [
      "In [1] used 0.0 MiB RAM in 0.10s (system mean cpu 0%, single max cpu 0%), peaked 0.0 MiB above final usage, current RAM usage now 208.4 MiB\n"
     ]
    }
   ],
   "source": [
    "import pandas as pd\n",
    "import polars as pl\n",
    "from humanfriendly import format_size, format_number\n",
    "from simpler_mpl import set_commas, set_common_mpl_styles\n",
    "import matplotlib.pyplot as plt\n",
    "import seaborn as sns\n",
    "\n",
    "%load_ext autoreload\n",
    "%autoreload 2\n",
    "\n",
    "display(f\"Pandas {pd.__version__}, Polars {pl.__version__}\")\n",
    "\n",
    "from cell_profiler import cell_profiler as cp\n",
    "%start_cell_profiler\n",
    "\n",
    "def show_rows_memory(df, deep=False):\n",
    "    \"\"\"\n",
    "    Show rows and memory cost of a Pandas/Polars dataframe\n",
    "    `deep=True` only has an impact on Pandas numpy-backed string columns, which otherwise are undercounted\n",
    "    \"\"\"\n",
    "    num_bytes = 0\n",
    "    df_type = 'Unknown'\n",
    "    try:\n",
    "        num_bytes = df.estimated_size() # try Polars\n",
    "        df_type = 'Polars'\n",
    "    except AttributeError:\n",
    "        pass\n",
    "    try:\n",
    "        num_bytes = df.memory_usage(deep=deep, index=False).sum() # try Pandas\n",
    "        df_type = 'Pandas'\n",
    "    except AttributeError:\n",
    "        pass\n",
    "    display(f\"{df_type} df with {format_number(df.shape[0])} rows, {format_size(num_bytes)} bytes\")"
   ]
  },
  {
   "cell_type": "code",
   "execution_count": 2,
   "id": "a51fafda-7854-4313-ba68-bd23638a05ad",
   "metadata": {
    "tags": []
   },
   "outputs": [
    {
     "name": "stdout",
     "output_type": "stream",
     "text": [
      "In [2] used 15687.0 MiB RAM in 8.52s (system mean cpu 54%, single max cpu 100%), peaked 766.3 MiB above final usage, current RAM usage now 15895.4 MiB\n"
     ]
    }
   ],
   "source": [
    "dfpda = pd.read_parquet('../test_result_2021on.parquet', dtype_backend=\"pyarrow\")"
   ]
  },
  {
   "cell_type": "code",
   "execution_count": 3,
   "id": "ada4a3e8-a5a8-44c0-9621-8742a1db0efc",
   "metadata": {
    "tags": []
   },
   "outputs": [
    {
     "data": {
      "text/plain": [
       "'Pandas df with 82,012,245 rows, 11.19 GB bytes'"
      ]
     },
     "metadata": {},
     "output_type": "display_data"
    },
    {
     "name": "stdout",
     "output_type": "stream",
     "text": [
      "In [3] used -2843.8 MiB RAM in 1.45s (system mean cpu 7%, single max cpu 82%), peaked 58.3 MiB above final usage, current RAM usage now 13051.7 MiB\n"
     ]
    }
   ],
   "source": [
    "show_rows_memory(dfpda)"
   ]
  },
  {
   "cell_type": "code",
   "execution_count": 4,
   "id": "b1ae5aa9-883e-44de-95ca-585796e13405",
   "metadata": {
    "tags": []
   },
   "outputs": [
    {
     "name": "stdout",
     "output_type": "stream",
     "text": [
      "<class 'pandas.core.frame.DataFrame'>\n",
      "RangeIndex: 82012245 entries, 0 to 82012244\n",
      "Data columns (total 14 columns):\n",
      " #   Column             Dtype                 \n",
      "---  ------             -----                 \n",
      " 0   test_id            int64[pyarrow]        \n",
      " 1   vehicle_id         int64[pyarrow]        \n",
      " 2   test_date          timestamp[ns][pyarrow]\n",
      " 3   test_class_id      int64[pyarrow]        \n",
      " 4   test_type          large_string[pyarrow] \n",
      " 5   test_result        large_string[pyarrow] \n",
      " 6   test_mileage       int64[pyarrow]        \n",
      " 7   postcode_area      large_string[pyarrow] \n",
      " 8   make               large_string[pyarrow] \n",
      " 9   model              large_string[pyarrow] \n",
      " 10  colour             large_string[pyarrow] \n",
      " 11  fuel_type          large_string[pyarrow] \n",
      " 12  cylinder_capacity  int64[pyarrow]        \n",
      " 13  first_use_date     timestamp[ns][pyarrow]\n",
      "dtypes: int64[pyarrow](5), large_string[pyarrow](7), timestamp[ns][pyarrow](2)\n",
      "memory usage: 10.4 GB\n",
      "In [4] used 2.1 MiB RAM in 3.43s (system mean cpu 10%, single max cpu 92%), peaked 0.0 MiB above final usage, current RAM usage now 13053.7 MiB\n"
     ]
    }
   ],
   "source": [
    "dfpda.info()"
   ]
  },
  {
   "cell_type": "code",
   "execution_count": 5,
   "id": "7823dc94-3121-454a-916a-9bee25fea854",
   "metadata": {},
   "outputs": [
    {
     "name": "stdout",
     "output_type": "stream",
     "text": [
      "In [5] used 23154.9 MiB RAM in 22.84s (system mean cpu 44%, single max cpu 100%), peaked 789.9 MiB above final usage, current RAM usage now 36208.6 MiB\n"
     ]
    }
   ],
   "source": [
    "dfpdn = pd.read_parquet('../test_result_2021on.parquet', dtype_backend=\"numpy_nullable\")"
   ]
  },
  {
   "cell_type": "code",
   "execution_count": 6,
   "id": "a27dc3ad-8b63-492f-8231-6dfacd88c7f9",
   "metadata": {},
   "outputs": [
    {
     "data": {
      "text/plain": [
       "'Pandas df with 82,012,245 rows, 39.66 GB bytes'"
      ]
     },
     "metadata": {},
     "output_type": "display_data"
    },
    {
     "name": "stdout",
     "output_type": "stream",
     "text": [
      "In [6] used -11486.6 MiB RAM in 31.61s (system mean cpu 11%, single max cpu 74%), peaked 0.0 MiB above final usage, current RAM usage now 24721.9 MiB\n"
     ]
    }
   ],
   "source": [
    "show_rows_memory(dfpdn, deep=True)"
   ]
  },
  {
   "cell_type": "code",
   "execution_count": 7,
   "id": "8322ddf1-dd4e-413d-98c6-6af2773e0deb",
   "metadata": {
    "tags": []
   },
   "outputs": [
    {
     "name": "stdout",
     "output_type": "stream",
     "text": [
      "<class 'pandas.core.frame.DataFrame'>\n",
      "RangeIndex: 82012245 entries, 0 to 82012244\n",
      "Data columns (total 14 columns):\n",
      " #   Column             Dtype         \n",
      "---  ------             -----         \n",
      " 0   test_id            Int64         \n",
      " 1   vehicle_id         Int64         \n",
      " 2   test_date          datetime64[ns]\n",
      " 3   test_class_id      Int64         \n",
      " 4   test_type          object        \n",
      " 5   test_result        object        \n",
      " 6   test_mileage       Int64         \n",
      " 7   postcode_area      object        \n",
      " 8   make               object        \n",
      " 9   model              object        \n",
      " 10  colour             object        \n",
      " 11  fuel_type          object        \n",
      " 12  cylinder_capacity  Int64         \n",
      " 13  first_use_date     datetime64[ns]\n",
      "dtypes: Int64(5), datetime64[ns](2), object(7)\n",
      "memory usage: 8.9+ GB\n",
      "In [7] used 0.0 MiB RAM in 0.10s (system mean cpu 0%, single max cpu 0%), peaked 0.0 MiB above final usage, current RAM usage now 24721.9 MiB\n"
     ]
    }
   ],
   "source": [
    "dfpdn.info()"
   ]
  },
  {
   "cell_type": "markdown",
   "id": "ef966b43-12a3-4f38-942c-95a6d7a9dade",
   "metadata": {},
   "source": [
    "# Speed test"
   ]
  },
  {
   "cell_type": "code",
   "execution_count": 8,
   "id": "fbf74d21-dd72-444c-beb7-499b17534963",
   "metadata": {
    "tags": []
   },
   "outputs": [
    {
     "name": "stdout",
     "output_type": "stream",
     "text": [
      "1.04 s ± 18.3 ms per loop (mean ± std. dev. of 7 runs, 1 loop each)\n",
      "In [8] used -0.1 MiB RAM in 8.48s (system mean cpu 9%, single max cpu 100%), peaked 635.5 MiB above final usage, current RAM usage now 24721.8 MiB\n"
     ]
    }
   ],
   "source": [
    "%timeit dfpda['make'].str.len() # e.g. TOYOTA, VOLKSWAGEN"
   ]
  },
  {
   "cell_type": "code",
   "execution_count": 9,
   "id": "4fdb2b8f-c260-42f5-a884-52a3735c9f6b",
   "metadata": {
    "tags": []
   },
   "outputs": [
    {
     "name": "stdout",
     "output_type": "stream",
     "text": [
      "7.59 s ± 23 ms per loop (mean ± std. dev. of 7 runs, 1 loop each)\n",
      "In [9] used 0.0 MiB RAM in 61.53s (system mean cpu 9%, single max cpu 100%), peaked 625.7 MiB above final usage, current RAM usage now 24721.8 MiB\n"
     ]
    }
   ],
   "source": [
    "%timeit dfpdn['make'].str.len()"
   ]
  },
  {
   "cell_type": "code",
   "execution_count": 10,
   "id": "4001b2da-1067-4294-a390-91e7690cdc42",
   "metadata": {
    "tags": []
   },
   "outputs": [
    {
     "name": "stdout",
     "output_type": "stream",
     "text": [
      "86.4 ms ± 1.79 ms per loop (mean ± std. dev. of 7 runs, 10 loops each)\n",
      "In [10] used 0.0 MiB RAM in 7.11s (system mean cpu 9%, single max cpu 100%), peaked 0.0 MiB above final usage, current RAM usage now 24721.8 MiB\n"
     ]
    }
   ],
   "source": [
    "%timeit dfpda['test_class_id'].max()"
   ]
  },
  {
   "cell_type": "code",
   "execution_count": 11,
   "id": "d6d26ee8-48d6-4878-97fc-0469a7c4b565",
   "metadata": {
    "tags": []
   },
   "outputs": [
    {
     "name": "stdout",
     "output_type": "stream",
     "text": [
      "180 ms ± 10.5 ms per loop (mean ± std. dev. of 7 runs, 1 loop each)\n",
      "In [11] used 0.4 MiB RAM in 1.58s (system mean cpu 10%, single max cpu 100%), peaked 625.6 MiB above final usage, current RAM usage now 24722.2 MiB\n"
     ]
    }
   ],
   "source": [
    "%timeit dfpdn['test_class_id'].max()"
   ]
  },
  {
   "cell_type": "code",
   "execution_count": 35,
   "id": "2ef11fca-de0e-49ab-84ff-b002140a45ef",
   "metadata": {
    "tags": []
   },
   "outputs": [
    {
     "name": "stdout",
     "output_type": "stream",
     "text": [
      "In [35] used 0.0 MiB RAM in 0.33s (system mean cpu 6%, single max cpu 100%), peaked 0.0 MiB above final usage, current RAM usage now 22834.2 MiB\n"
     ]
    }
   ],
   "source": [
    "import numpy as np\n",
    "np.testing.assert_approx_equal(74115.13152002622, dfpda['test_mileage'].mean())\n",
    "np.testing.assert_approx_equal(74115.13152002622, dfpdn['test_mileage'].mean())"
   ]
  },
  {
   "cell_type": "code",
   "execution_count": 12,
   "id": "e600ffb0-df22-465e-94fd-1a5b17e4158d",
   "metadata": {
    "tags": []
   },
   "outputs": [
    {
     "name": "stdout",
     "output_type": "stream",
     "text": [
      "63.1 ms ± 2.06 ms per loop (mean ± std. dev. of 7 runs, 10 loops each)\n",
      "In [12] used 0.0 MiB RAM in 5.25s (system mean cpu 9%, single max cpu 100%), peaked 0.0 MiB above final usage, current RAM usage now 24722.2 MiB\n"
     ]
    }
   ],
   "source": [
    "%timeit dfpda['test_mileage'].mean()"
   ]
  },
  {
   "cell_type": "code",
   "execution_count": 13,
   "id": "9a889928-5318-4035-8740-37bb1e5312ca",
   "metadata": {
    "tags": []
   },
   "outputs": [
    {
     "name": "stdout",
     "output_type": "stream",
     "text": [
      "148 ms ± 1.47 ms per loop (mean ± std. dev. of 7 runs, 10 loops each)\n",
      "In [13] used 0.0 MiB RAM in 12.19s (system mean cpu 8%, single max cpu 100%), peaked 0.0 MiB above final usage, current RAM usage now 24722.2 MiB\n"
     ]
    }
   ],
   "source": [
    "%timeit dfpdn['test_mileage'].mean()"
   ]
  },
  {
   "cell_type": "code",
   "execution_count": 14,
   "id": "6546d611-7655-466b-ae38-0d5015af1a3c",
   "metadata": {
    "tags": []
   },
   "outputs": [
    {
     "name": "stdout",
     "output_type": "stream",
     "text": [
      "In [14] used 0.0 MiB RAM in 0.10s (system mean cpu 6%, single max cpu 100%), peaked 0.0 MiB above final usage, current RAM usage now 24722.2 MiB\n"
     ]
    }
   ],
   "source": [
    "# IAN IS IT SANE TO TEST THE TIME OF 2 OPS - I REALLY NEED TO SEPARATE THESE...\n",
    "#%timeit dfpda['test_mileage'].dropna().mean()"
   ]
  },
  {
   "cell_type": "code",
   "execution_count": 15,
   "id": "05daa96e-c037-478a-9861-c835ec70b196",
   "metadata": {
    "tags": []
   },
   "outputs": [
    {
     "name": "stdout",
     "output_type": "stream",
     "text": [
      "In [15] used 0.0 MiB RAM in 0.10s (system mean cpu 12%, single max cpu 100%), peaked 0.0 MiB above final usage, current RAM usage now 24722.2 MiB\n"
     ]
    }
   ],
   "source": [
    "#%timeit dfpdn['test_mileage'].dropna().mean()"
   ]
  },
  {
   "cell_type": "markdown",
   "id": "e7277ced-b8db-4ade-af20-75166b575e5f",
   "metadata": {},
   "source": [
    "# Mileage vs first use year"
   ]
  },
  {
   "cell_type": "markdown",
   "id": "6b86cc2e-c195-4356-a313-7aa1a68082b6",
   "metadata": {},
   "source": [
    "### Subsample using NumPy and Arrow\n",
    "\n",
    "**TODO**"
   ]
  },
  {
   "cell_type": "code",
   "execution_count": 16,
   "id": "f91d5a95-e1ba-4672-9d23-e060255e0036",
   "metadata": {
    "tags": []
   },
   "outputs": [
    {
     "data": {
      "text/plain": [
       "(10000, 14)"
      ]
     },
     "execution_count": 16,
     "metadata": {},
     "output_type": "execute_result"
    },
    {
     "name": "stdout",
     "output_type": "stream",
     "text": [
      "In [16] used 628.0 MiB RAM in 13.83s (system mean cpu 5%, single max cpu 100%), peaked 9533.4 MiB above final usage, current RAM usage now 25350.2 MiB\n"
     ]
    }
   ],
   "source": [
    "#dfs = dfpdn.sample(frac=0.001)\n",
    "# \n",
    "dfs_allfuel = dfpda.query('test_result==\"P\"').sample(10_000)\n",
    "dfs_allfuel.shape"
   ]
  },
  {
   "cell_type": "code",
   "execution_count": 17,
   "id": "85f9d68c-f0d7-4f9a-872c-25286fd6f427",
   "metadata": {
    "tags": []
   },
   "outputs": [
    {
     "name": "stdout",
     "output_type": "stream",
     "text": [
      "In [17] used 0.0 MiB RAM in 0.10s (system mean cpu 0%, single max cpu 0%), peaked 0.0 MiB above final usage, current RAM usage now 25350.3 MiB\n"
     ]
    }
   ],
   "source": [
    "dfs_allfuel['first_use_year'] = dfs_allfuel['first_use_date'].dt.year"
   ]
  },
  {
   "cell_type": "code",
   "execution_count": 18,
   "id": "e6db2ae2-bbf0-4fd4-b725-eded7e6e06ce",
   "metadata": {
    "tags": []
   },
   "outputs": [
    {
     "name": "stdout",
     "output_type": "stream",
     "text": [
      "In [18] used 0.0 MiB RAM in 0.10s (system mean cpu 0%, single max cpu 0%), peaked 0.0 MiB above final usage, current RAM usage now 25350.3 MiB\n"
     ]
    }
   ],
   "source": [
    "if False:\n",
    "    #dfs = dfs_allfuel.query('fuel_type==\"PE\"')\n",
    "    #dfs = dfs_allfuel.query('fuel_type==\"DI\"')\n",
    "    #dfs.shape\n",
    "    fig, ax = plt.subplots(constrained_layout=True, figsize=(4, 4))\n",
    "    dfs.plot(kind='scatter', x='first_use_year', y='test_mileage', alpha=0.5, ax=ax)\n",
    "    ax.set_xlim(xmin=1980)\n",
    "    ax.set_ylim(ymax=400000)\n",
    "    set_commas(ax, y_axis=True)\n",
    "    set_common_mpl_styles(ax, ymin=-2000, title=\"MOT Year 2021+\")"
   ]
  },
  {
   "cell_type": "code",
   "execution_count": 19,
   "id": "61fab509-f93b-494b-918c-8277dbfd5f93",
   "metadata": {
    "tags": []
   },
   "outputs": [
    {
     "name": "stdout",
     "output_type": "stream",
     "text": [
      "In [19] used 0.0 MiB RAM in 0.10s (system mean cpu 0%, single max cpu 0%), peaked 0.0 MiB above final usage, current RAM usage now 25350.3 MiB\n"
     ]
    }
   ],
   "source": [
    "#dfs['first_use_year'].isna().sum()"
   ]
  },
  {
   "cell_type": "code",
   "execution_count": 20,
   "id": "f0f03d54-6444-4c47-ad88-c63db8871d33",
   "metadata": {
    "tags": []
   },
   "outputs": [
    {
     "name": "stdout",
     "output_type": "stream",
     "text": [
      "In [20] used 0.0 MiB RAM in 0.10s (system mean cpu 0%, single max cpu 0%), peaked 0.0 MiB above final usage, current RAM usage now 25350.3 MiB\n"
     ]
    }
   ],
   "source": [
    "#dfs['test_mileage'].isna().sum()"
   ]
  },
  {
   "cell_type": "code",
   "execution_count": 21,
   "id": "5d2e15aa-873d-4917-a1fc-4bd05c66e294",
   "metadata": {
    "tags": []
   },
   "outputs": [
    {
     "name": "stdout",
     "output_type": "stream",
     "text": [
      "In [21] used 0.0 MiB RAM in 0.10s (system mean cpu 8%, single max cpu 31%), peaked 0.0 MiB above final usage, current RAM usage now 25350.3 MiB\n"
     ]
    }
   ],
   "source": [
    "# TODO TEST FOR PASSING ONLY!\n",
    "dfs_allfuel = dfs_allfuel[['test_mileage', 'fuel_type', 'first_use_year']]\n",
    "dfs_allfuel = dfs_allfuel.dropna() # some of the test_mileage rows are empty"
   ]
  },
  {
   "cell_type": "code",
   "execution_count": 22,
   "id": "7502d1e1-16a0-4232-a033-5db336e3cf8e",
   "metadata": {
    "tags": []
   },
   "outputs": [
    {
     "data": {
      "image/png": "[encoded data removed]",
      "text/plain": [
       "<Figure size 400x400 with 1 Axes>"
      ]
     },
     "metadata": {},
     "output_type": "display_data"
    },
    {
     "name": "stdout",
     "output_type": "stream",
     "text": [
      "In [22] used 0.2 MiB RAM in 0.57s (system mean cpu 13%, single max cpu 100%), peaked 0.0 MiB above final usage, current RAM usage now 25350.4 MiB\n"
     ]
    }
   ],
   "source": [
    "dfs = dfs_allfuel[dfs_allfuel['fuel_type'].isin(['PE', 'DI'])]\n",
    "fig, ax = plt.subplots(constrained_layout=True, figsize=(4, 4))\n",
    "# Note this is Pandas Arrow with Seaborn\n",
    "# TODO maybe different symbols\n",
    "# h/t https://stackoverflow.com/questions/56394204/pandas-groupby-scatter-plot-in-a-single-plot for categorical solution\n",
    "#sns.scatterplot(x=dfs['first_use_year'], y=dfs['test_mileage'], c=pd.Categorical(dfs['fuel_type']).codes, ax=ax)\n",
    "sns.scatterplot(x=dfs['first_use_year'], y=dfs['test_mileage'], hue=dfs['fuel_type'], hue_order=['DI', 'PE'], ax=ax)\n",
    "#ax.scatter(x=dfs['first_use_year'], y=dfs['test_mileage'], c=pd.Categorical(dfs['fuel_type']).codes,)\n",
    "ax.set_xlim(xmin=1960)\n",
    "ax.set_ylim(ymax=400000)\n",
    "set_commas(ax, y_axis=True)\n",
    "set_common_mpl_styles(ax, ymin=-2000, title=\"MOT Year 2021+\")"
   ]
  },
  {
   "cell_type": "code",
   "execution_count": 23,
   "id": "8a0f9937-3e7b-4438-9bbe-a7ce6f853fb8",
   "metadata": {
    "tags": []
   },
   "outputs": [
    {
     "name": "stdout",
     "output_type": "stream",
     "text": [
      "<class 'pandas.core.frame.DataFrame'>\n",
      "Index: 9757 entries, 60722956 to 7558843\n",
      "Data columns (total 3 columns):\n",
      " #   Column          Non-Null Count  Dtype                \n",
      "---  ------          --------------  -----                \n",
      " 0   test_mileage    9757 non-null   int64[pyarrow]       \n",
      " 1   fuel_type       9757 non-null   large_string[pyarrow]\n",
      " 2   first_use_year  9757 non-null   int64[pyarrow]       \n",
      "dtypes: int64[pyarrow](2), large_string[pyarrow](1)\n",
      "memory usage: 327.5 KB\n",
      "In [23] used 2.2 MiB RAM in 0.10s (system mean cpu 5%, single max cpu 30%), peaked 0.0 MiB above final usage, current RAM usage now 25352.6 MiB\n"
     ]
    }
   ],
   "source": [
    "dfs.info()"
   ]
  },
  {
   "cell_type": "markdown",
   "id": "aea09eb8-b2ea-4ad5-b473-a5eb01df27ce",
   "metadata": {},
   "source": [
    "# Old experiments to load in single file dumps"
   ]
  },
  {
   "cell_type": "code",
   "execution_count": 24,
   "id": "69eecf11-efb6-40b3-96e3-a2447fd96d03",
   "metadata": {
    "tags": []
   },
   "outputs": [
    {
     "name": "stdout",
     "output_type": "stream",
     "text": [
      "In [24] used 0.0 MiB RAM in 0.10s (system mean cpu 8%, single max cpu 60%), peaked 0.0 MiB above final usage, current RAM usage now 25352.6 MiB\n"
     ]
    }
   ],
   "source": [
    "#dfpda2018 = pd.read_parquet('../test_result_2018on.parquet', dtype_backend=\"pyarrow\")"
   ]
  },
  {
   "cell_type": "code",
   "execution_count": 25,
   "id": "6e117b3a-ce49-4db4-8714-986f84d548ee",
   "metadata": {
    "tags": []
   },
   "outputs": [
    {
     "name": "stdout",
     "output_type": "stream",
     "text": [
      "In [25] used 0.0 MiB RAM in 0.10s (system mean cpu 11%, single max cpu 67%), peaked 0.0 MiB above final usage, current RAM usage now 25352.7 MiB\n"
     ]
    }
   ],
   "source": [
    "#dfpda2018.memory_usage(deep=True, index=False) # deep=True gives same answer as deep=False on Arrow"
   ]
  },
  {
   "cell_type": "code",
   "execution_count": 26,
   "id": "fb40f54b-2e0d-49bb-84f3-e2373c7052cd",
   "metadata": {
    "tags": []
   },
   "outputs": [
    {
     "name": "stdout",
     "output_type": "stream",
     "text": [
      "In [26] used 0.0 MiB RAM in 0.10s (system mean cpu 9%, single max cpu 33%), peaked 0.0 MiB above final usage, current RAM usage now 25352.7 MiB\n"
     ]
    }
   ],
   "source": [
    "#show_rows_memory(dfpda2018) # 198M rows, 27GB"
   ]
  },
  {
   "cell_type": "code",
   "execution_count": 27,
   "id": "fdf8ddc0-7785-4e5b-ae4b-cf0ea4acab3c",
   "metadata": {},
   "outputs": [
    {
     "name": "stdout",
     "output_type": "stream",
     "text": [
      "In [27] used 0.0 MiB RAM in 0.10s (system mean cpu 13%, single max cpu 40%), peaked 0.0 MiB above final usage, current RAM usage now 25352.7 MiB\n"
     ]
    }
   ],
   "source": [
    "#dfpda2021 = pd.read_parquet('../test_result_2021on.parquet', dtype_backend=\"pyarrow\")"
   ]
  },
  {
   "cell_type": "code",
   "execution_count": 28,
   "id": "fa437e85-3bed-4c1c-84fd-cad6ae8dd23b",
   "metadata": {
    "tags": []
   },
   "outputs": [
    {
     "name": "stdout",
     "output_type": "stream",
     "text": [
      "In [28] used 0.0 MiB RAM in 0.10s (system mean cpu 0%, single max cpu 0%), peaked 0.0 MiB above final usage, current RAM usage now 25352.7 MiB\n"
     ]
    }
   ],
   "source": [
    "#show_rows_memory(dfpda2021) # 82M rows 11GB"
   ]
  },
  {
   "cell_type": "code",
   "execution_count": 29,
   "id": "32ff200e-087b-432d-afb8-e09b1b6713c8",
   "metadata": {
    "tags": []
   },
   "outputs": [
    {
     "name": "stdout",
     "output_type": "stream",
     "text": [
      "In [29] used 0.0 MiB RAM in 0.10s (system mean cpu 0%, single max cpu 0%), peaked 0.0 MiB above final usage, current RAM usage now 25352.7 MiB\n"
     ]
    }
   ],
   "source": [
    "#dfpdn2021 = pd.read_parquet('../test_result_2021on.parquet', dtype_backend=\"numpy_nullable\")"
   ]
  },
  {
   "cell_type": "code",
   "execution_count": 30,
   "id": "29d66217-7707-4606-9630-9c28af28f2c6",
   "metadata": {
    "tags": []
   },
   "outputs": [
    {
     "name": "stdout",
     "output_type": "stream",
     "text": [
      "In [30] used 0.0 MiB RAM in 0.10s (system mean cpu 0%, single max cpu 0%), peaked 0.0 MiB above final usage, current RAM usage now 25352.7 MiB\n"
     ]
    }
   ],
   "source": [
    "#show_rows_memory(dfpdn2021)"
   ]
  },
  {
   "cell_type": "code",
   "execution_count": 31,
   "id": "0a819d1a-a734-49c3-874d-8d4676e8b986",
   "metadata": {
    "tags": []
   },
   "outputs": [
    {
     "name": "stdout",
     "output_type": "stream",
     "text": [
      "In [31] used 0.0 MiB RAM in 0.10s (system mean cpu 0%, single max cpu 0%), peaked 0.0 MiB above final usage, current RAM usage now 25352.7 MiB\n"
     ]
    }
   ],
   "source": [
    "#show_rows_memory(dfpdn2021, deep=True) # 82M rows 39GB"
   ]
  },
  {
   "cell_type": "code",
   "execution_count": null,
   "id": "66df417c-6fff-4435-b2d4-c83c806f674b",
   "metadata": {},
   "outputs": [],
   "source": []
  }
 ],
 "metadata": {
  "kernelspec": {
   "display_name": "Python 3 (ipykernel)",
   "language": "python",
   "name": "python3"
  },
  "language_info": {
   "codemirror_mode": {
    "name": "ipython",
    "version": 3
   },
   "file_extension": ".py",
   "mimetype": "text/x-python",
   "name": "python",
   "nbconvert_exporter": "python",
   "pygments_lexer": "ipython3",
   "version": "3.11.3"
  }
 },
 "nbformat": 4,
 "nbformat_minor": 5
}
