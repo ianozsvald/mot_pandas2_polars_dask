{
 "cells": [
  {
   "cell_type": "markdown",
   "id": "d631cf9f-0606-44c4-96fc-e1d4a8d0d402",
   "metadata": {},
   "source": [
    "# Pandas\n",
    "\n",
    "* memory usage of Parquet read in Pandas as Arrow or NumPy arrays\n",
    "  * 2021+ 11GB 6s as Arrow\n",
    "  * 2021+ 39GB 16s at NumPy"
   ]
  },
  {
   "cell_type": "code",
   "execution_count": 1,
   "id": "073dd630-d7db-4f79-b38a-c73986427233",
   "metadata": {
    "tags": []
   },
   "outputs": [
    {
     "data": {
      "text/plain": [
       "'Pandas 2.1.3, Polars 0.19.17'"
      ]
     },
     "metadata": {},
     "output_type": "display_data"
    },
    {
     "data": {
      "text/plain": [
       "'Running: 20231205 12:00:31, env pydataglobal2023'"
      ]
     },
     "metadata": {},
     "output_type": "display_data"
    },
    {
     "name": "stdout",
     "output_type": "stream",
     "text": [
      "Enabling IPython Memory Usage, use %imu_start to begin, %imu_stop to end\n",
      "In [1] used 0.2 MiB RAM in 0.18s (system mean cpu 0%, single max cpu 0%), peaked 0.0 MiB above final usage, current RAM usage now 212.2 MiB\n"
     ]
    }
   ],
   "source": [
    "import pandas as pd\n",
    "import polars as pl\n",
    "from humanfriendly import format_size, format_number\n",
    "from simpler_mpl import set_commas, set_common_mpl_styles\n",
    "import matplotlib.pyplot as plt\n",
    "import seaborn as sns\n",
    "\n",
    "%load_ext autoreload\n",
    "%autoreload 2\n",
    "\n",
    "import datetime, os\n",
    "display(f\"Pandas {pd.__version__}, Polars {pl.__version__}\")\n",
    "display(f'Running: {datetime.datetime.now().strftime(\"%Y%m%d %H:%M:%S\")}, env {os.getenv(\"CONDA_DEFAULT_ENV\")}')\n",
    "\n",
    "%load_ext ipython_memory_usage\n",
    "%imu_start\n",
    "\n",
    "def show_rows_memory(df, deep=False):\n",
    "    \"\"\"\n",
    "    Show rows and memory cost of a Pandas/Polars dataframe\n",
    "    `deep=True` only has an impact on Pandas numpy-backed string columns, which otherwise are undercounted\n",
    "    \"\"\"\n",
    "    num_bytes = 0\n",
    "    df_type = \"Unknown\"\n",
    "    try:\n",
    "        num_bytes = df.estimated_size()  # try Polars\n",
    "        df_type = \"Polars\"\n",
    "    except AttributeError:\n",
    "        pass\n",
    "    try:\n",
    "        num_bytes = df.memory_usage(deep=deep, index=False).sum()  # try Pandas\n",
    "        df_type = \"Pandas\"\n",
    "    except AttributeError:\n",
    "        pass\n",
    "    display(\n",
    "        f\"{df_type} df with {format_number(df.shape[0])} rows, {format_size(num_bytes)} bytes\"\n",
    "    )"
   ]
  },
  {
   "cell_type": "code",
   "execution_count": 2,
   "id": "a51fafda-7854-4313-ba68-bd23638a05ad",
   "metadata": {
    "tags": []
   },
   "outputs": [
    {
     "name": "stdout",
     "output_type": "stream",
     "text": [
      "In [2] used 12986.9 MiB RAM in 4.04s (system mean cpu 83%, single max cpu 100%), peaked 2532.4 MiB above final usage, current RAM usage now 13199.1 MiB\n"
     ]
    }
   ],
   "source": [
    "dfpda = pd.read_parquet(\"../test_result_2021on.parquet\", \n",
    "                        dtype_backend=\"pyarrow\")"
   ]
  },
  {
   "cell_type": "code",
   "execution_count": 3,
   "id": "ada4a3e8-a5a8-44c0-9621-8742a1db0efc",
   "metadata": {
    "tags": []
   },
   "outputs": [
    {
     "data": {
      "text/plain": [
       "'Pandas df with 82,012,245 rows, 11.19 GB bytes'"
      ]
     },
     "metadata": {},
     "output_type": "display_data"
    },
    {
     "name": "stdout",
     "output_type": "stream",
     "text": [
      "In [3] used -119.6 MiB RAM in 1.32s (system mean cpu 10%, single max cpu 58%), peaked 0.0 MiB above final usage, current RAM usage now 13079.5 MiB\n"
     ]
    }
   ],
   "source": [
    "show_rows_memory(dfpda)"
   ]
  },
  {
   "cell_type": "code",
   "execution_count": 4,
   "id": "b1ae5aa9-883e-44de-95ca-585796e13405",
   "metadata": {
    "tags": []
   },
   "outputs": [
    {
     "name": "stdout",
     "output_type": "stream",
     "text": [
      "<class 'pandas.core.frame.DataFrame'>\n",
      "RangeIndex: 82012245 entries, 0 to 82012244\n",
      "Data columns (total 14 columns):\n",
      " #   Column             Dtype                 \n",
      "---  ------             -----                 \n",
      " 0   test_id            int64[pyarrow]        \n",
      " 1   vehicle_id         int64[pyarrow]        \n",
      " 2   test_date          timestamp[us][pyarrow]\n",
      " 3   test_class_id      int64[pyarrow]        \n",
      " 4   test_type          large_string[pyarrow] \n",
      " 5   test_result        large_string[pyarrow] \n",
      " 6   test_mileage       int64[pyarrow]        \n",
      " 7   postcode_area      large_string[pyarrow] \n",
      " 8   make               large_string[pyarrow] \n",
      " 9   model              large_string[pyarrow] \n",
      " 10  colour             large_string[pyarrow] \n",
      " 11  fuel_type          large_string[pyarrow] \n",
      " 12  cylinder_capacity  int64[pyarrow]        \n",
      " 13  first_use_date     timestamp[us][pyarrow]\n",
      "dtypes: int64[pyarrow](5), large_string[pyarrow](7), timestamp[us][pyarrow](2)\n",
      "memory usage: 10.4 GB\n",
      "In [4] used -12.1 MiB RAM in 1.31s (system mean cpu 10%, single max cpu 99%), peaked 0.0 MiB above final usage, current RAM usage now 13067.5 MiB\n"
     ]
    }
   ],
   "source": [
    "dfpda.info()"
   ]
  },
  {
   "cell_type": "code",
   "execution_count": 5,
   "id": "7823dc94-3121-454a-916a-9bee25fea854",
   "metadata": {},
   "outputs": [
    {
     "name": "stdout",
     "output_type": "stream",
     "text": [
      "In [5] used 21892.7 MiB RAM in 17.23s (system mean cpu 50%, single max cpu 100%), peaked 1651.3 MiB above final usage, current RAM usage now 34960.2 MiB\n"
     ]
    }
   ],
   "source": [
    "dfpdn = pd.read_parquet(\"../test_result_2021on.parquet\", \n",
    "                        dtype_backend=\"numpy_nullable\")"
   ]
  },
  {
   "cell_type": "code",
   "execution_count": 6,
   "id": "a27dc3ad-8b63-492f-8231-6dfacd88c7f9",
   "metadata": {},
   "outputs": [
    {
     "data": {
      "text/plain": [
       "'Pandas df with 82,012,245 rows, 39.66 GB bytes'"
      ]
     },
     "metadata": {},
     "output_type": "display_data"
    },
    {
     "name": "stdout",
     "output_type": "stream",
     "text": [
      "In [6] used -11260.1 MiB RAM in 58.58s (system mean cpu 11%, single max cpu 34%), peaked 0.0 MiB above final usage, current RAM usage now 23700.1 MiB\n"
     ]
    }
   ],
   "source": [
    "show_rows_memory(dfpdn, deep=True)"
   ]
  },
  {
   "cell_type": "code",
   "execution_count": 7,
   "id": "8322ddf1-dd4e-413d-98c6-6af2773e0deb",
   "metadata": {
    "tags": []
   },
   "outputs": [
    {
     "name": "stdout",
     "output_type": "stream",
     "text": [
      "<class 'pandas.core.frame.DataFrame'>\n",
      "RangeIndex: 82012245 entries, 0 to 82012244\n",
      "Data columns (total 14 columns):\n",
      " #   Column             Dtype         \n",
      "---  ------             -----         \n",
      " 0   test_id            Int64         \n",
      " 1   vehicle_id         Int64         \n",
      " 2   test_date          datetime64[us]\n",
      " 3   test_class_id      Int64         \n",
      " 4   test_type          object        \n",
      " 5   test_result        object        \n",
      " 6   test_mileage       Int64         \n",
      " 7   postcode_area      object        \n",
      " 8   make               object        \n",
      " 9   model              object        \n",
      " 10  colour             object        \n",
      " 11  fuel_type          object        \n",
      " 12  cylinder_capacity  Int64         \n",
      " 13  first_use_date     datetime64[us]\n",
      "dtypes: Int64(5), datetime64[us](2), object(7)\n",
      "memory usage: 8.9+ GB\n",
      "In [7] used 0.0 MiB RAM in 0.10s (system mean cpu 0%, single max cpu 0%), peaked 0.0 MiB above final usage, current RAM usage now 23700.1 MiB\n"
     ]
    }
   ],
   "source": [
    "dfpdn.info()"
   ]
  },
  {
   "cell_type": "code",
   "execution_count": 8,
   "id": "f9131b36-8323-4725-b8e8-71f6dcb541c2",
   "metadata": {
    "tags": []
   },
   "outputs": [
    {
     "data": {
      "text/html": [
       "<div>\n",
       "<style scoped>\n",
       "    .dataframe tbody tr th:only-of-type {\n",
       "        vertical-align: middle;\n",
       "    }\n",
       "\n",
       "    .dataframe tbody tr th {\n",
       "        vertical-align: top;\n",
       "    }\n",
       "\n",
       "    .dataframe thead th {\n",
       "        text-align: right;\n",
       "    }\n",
       "</style>\n",
       "<table border=\"1\" class=\"dataframe\">\n",
       "  <thead>\n",
       "    <tr style=\"text-align: right;\">\n",
       "      <th></th>\n",
       "      <th>test_date</th>\n",
       "      <th>test_class_id</th>\n",
       "      <th>test_type</th>\n",
       "      <th>test_result</th>\n",
       "      <th>test_mileage</th>\n",
       "      <th>make</th>\n",
       "      <th>model</th>\n",
       "      <th>colour</th>\n",
       "      <th>fuel_type</th>\n",
       "      <th>cylinder_capacity</th>\n",
       "      <th>first_use_date</th>\n",
       "    </tr>\n",
       "  </thead>\n",
       "  <tbody>\n",
       "    <tr>\n",
       "      <th>14852857</th>\n",
       "      <td>2022-05-12 00:00:00</td>\n",
       "      <td>4</td>\n",
       "      <td>NT</td>\n",
       "      <td>F</td>\n",
       "      <td>171443</td>\n",
       "      <td>VOLVO</td>\n",
       "      <td>V50</td>\n",
       "      <td>BLUE</td>\n",
       "      <td>DI</td>\n",
       "      <td>1997</td>\n",
       "      <td>2005-03-10 00:00:00</td>\n",
       "    </tr>\n",
       "    <tr>\n",
       "      <th>14905227</th>\n",
       "      <td>2022-05-12 00:00:00</td>\n",
       "      <td>4</td>\n",
       "      <td>RT</td>\n",
       "      <td>P</td>\n",
       "      <td>171443</td>\n",
       "      <td>VOLVO</td>\n",
       "      <td>V50</td>\n",
       "      <td>BLUE</td>\n",
       "      <td>DI</td>\n",
       "      <td>1997</td>\n",
       "      <td>2005-03-10 00:00:00</td>\n",
       "    </tr>\n",
       "  </tbody>\n",
       "</table>\n",
       "</div>"
      ],
      "text/plain": [
       "                    test_date  test_class_id test_type test_result  \\\n",
       "14852857  2022-05-12 00:00:00              4        NT           F   \n",
       "14905227  2022-05-12 00:00:00              4        RT           P   \n",
       "\n",
       "          test_mileage   make model colour fuel_type  cylinder_capacity  \\\n",
       "14852857        171443  VOLVO   V50   BLUE        DI               1997   \n",
       "14905227        171443  VOLVO   V50   BLUE        DI               1997   \n",
       "\n",
       "               first_use_date  \n",
       "14852857  2005-03-10 00:00:00  \n",
       "14905227  2005-03-10 00:00:00  "
      ]
     },
     "execution_count": 8,
     "metadata": {},
     "output_type": "execute_result"
    },
    {
     "name": "stdout",
     "output_type": "stream",
     "text": [
      "In [8] used 626.2 MiB RAM in 7.95s (system mean cpu 11%, single max cpu 100%), peaked 1487.3 MiB above final usage, current RAM usage now 24326.3 MiB\n"
     ]
    }
   ],
   "source": [
    "# /tmp/ipykernel_585982/2566587885.py:1: RuntimeWarning: Engine has switched to 'python' because numexpr does not support extension array dtypes. Please set your engine to python manually.\n",
    "#dfpda.query('(test_mileage==171443) & (model==\"V50\") & (test_result==\"P\") & ', engine=\"python\")\n",
    "cols = ['test_date', 'test_class_id', 'test_type', 'test_result', 'test_mileage', 'make', 'model', 'colour', 'fuel_type', 'cylinder_capacity', 'first_use_date']\n",
    "#dfpda.query('(test_id==\"642012593\")')[cols] # Ian's volvo v50\n",
    "dfpda.query('(test_mileage==171443) & (model==\"V50\") & (colour==\"BLUE\")', engine='python')[cols] # Ian's volvo v50"
   ]
  },
  {
   "cell_type": "markdown",
   "id": "ef966b43-12a3-4f38-942c-95a6d7a9dade",
   "metadata": {},
   "source": [
    "# Speed test"
   ]
  },
  {
   "cell_type": "code",
   "execution_count": 9,
   "id": "4a145403-35b5-4e18-9389-358347ae51ef",
   "metadata": {},
   "outputs": [
    {
     "data": {
      "text/plain": [
       "'IPython Memory Usage stopped'"
      ]
     },
     "execution_count": 9,
     "metadata": {},
     "output_type": "execute_result"
    }
   ],
   "source": [
    "%imu_stop"
   ]
  },
  {
   "cell_type": "markdown",
   "metadata": {},
   "source": [
    "### Benchmark groupby between them\n",
    "\n",
    "* `dfpda.groupby('test_result')['test_mileage'].mean()` - no diff (similar with `fuel_type`)\n",
    "* `dfpda.groupby('cylinder_capacity')['test_mileage'].mean()` - arrow 2x slower"
   ]
  },
  {
   "cell_type": "code",
   "execution_count": 10,
   "metadata": {},
   "outputs": [
    {
     "name": "stdout",
     "output_type": "stream",
     "text": [
      "1.07 s ± 31 ms per loop (mean ± std. dev. of 7 runs, 1 loop each)\n"
     ]
    }
   ],
   "source": [
    "%timeit dfpdn.groupby('cylinder_capacity')['test_mileage'].mean()"
   ]
  },
  {
   "cell_type": "code",
   "execution_count": 11,
   "metadata": {},
   "outputs": [
    {
     "name": "stdout",
     "output_type": "stream",
     "text": [
      "2.46 s ± 84.8 ms per loop (mean ± std. dev. of 7 runs, 1 loop each)\n"
     ]
    }
   ],
   "source": [
    "%timeit dfpda.groupby('cylinder_capacity')['test_mileage'].mean()"
   ]
  },
  {
   "cell_type": "markdown",
   "metadata": {},
   "source": [
    "### str benchmark"
   ]
  },
  {
   "cell_type": "code",
   "execution_count": 12,
   "id": "fbf74d21-dd72-444c-beb7-499b17534963",
   "metadata": {
    "tags": []
   },
   "outputs": [
    {
     "name": "stdout",
     "output_type": "stream",
     "text": [
      "1.01 s ± 38.9 ms per loop (mean ± std. dev. of 7 runs, 1 loop each)\n"
     ]
    }
   ],
   "source": [
    "%timeit dfpda['make'].str.len()\n",
    "# e.g. TOYOTA, VOLKSWAGEN"
   ]
  },
  {
   "cell_type": "code",
   "execution_count": 13,
   "id": "4fdb2b8f-c260-42f5-a884-52a3735c9f6b",
   "metadata": {
    "tags": []
   },
   "outputs": [
    {
     "name": "stdout",
     "output_type": "stream",
     "text": [
      "7.5 s ± 29.7 ms per loop (mean ± std. dev. of 7 runs, 1 loop each)\n"
     ]
    }
   ],
   "source": [
    "%timeit dfpdn['make'].str.len()"
   ]
  },
  {
   "cell_type": "code",
   "execution_count": 14,
   "id": "4001b2da-1067-4294-a390-91e7690cdc42",
   "metadata": {
    "tags": []
   },
   "outputs": [
    {
     "name": "stdout",
     "output_type": "stream",
     "text": [
      "107 ms ± 11.5 ms per loop (mean ± std. dev. of 7 runs, 10 loops each)\n"
     ]
    }
   ],
   "source": [
    "%timeit dfpda['test_class_id'].max()"
   ]
  },
  {
   "cell_type": "code",
   "execution_count": 15,
   "id": "d6d26ee8-48d6-4878-97fc-0469a7c4b565",
   "metadata": {
    "tags": []
   },
   "outputs": [
    {
     "name": "stdout",
     "output_type": "stream",
     "text": [
      "224 ms ± 21.2 ms per loop (mean ± std. dev. of 7 runs, 1 loop each)\n"
     ]
    }
   ],
   "source": [
    "%timeit dfpdn['test_class_id'].max()"
   ]
  },
  {
   "cell_type": "code",
   "execution_count": 16,
   "id": "2ef11fca-de0e-49ab-84ff-b002140a45ef",
   "metadata": {
    "tags": []
   },
   "outputs": [],
   "source": [
    "import numpy as np\n",
    "\n",
    "np.testing.assert_approx_equal(74115.13, dfpda[\"test_mileage\"].mean())\n",
    "np.testing.assert_approx_equal(74115.13, dfpdn[\"test_mileage\"].mean())"
   ]
  },
  {
   "cell_type": "code",
   "execution_count": 17,
   "id": "e600ffb0-df22-465e-94fd-1a5b17e4158d",
   "metadata": {
    "tags": []
   },
   "outputs": [
    {
     "name": "stdout",
     "output_type": "stream",
     "text": [
      "107 ms ± 3.5 ms per loop (mean ± std. dev. of 7 runs, 10 loops each)\n"
     ]
    }
   ],
   "source": [
    "%timeit dfpda['test_mileage'].mean()"
   ]
  },
  {
   "cell_type": "code",
   "execution_count": 18,
   "id": "9a889928-5318-4035-8740-37bb1e5312ca",
   "metadata": {
    "tags": []
   },
   "outputs": [
    {
     "name": "stdout",
     "output_type": "stream",
     "text": [
      "186 ms ± 14.8 ms per loop (mean ± std. dev. of 7 runs, 10 loops each)\n"
     ]
    }
   ],
   "source": [
    "%timeit dfpdn['test_mileage'].mean()"
   ]
  },
  {
   "cell_type": "code",
   "execution_count": 19,
   "id": "6546d611-7655-466b-ae38-0d5015af1a3c",
   "metadata": {
    "tags": []
   },
   "outputs": [],
   "source": [
    "# IAN IS IT SANE TO TEST THE TIME OF 2 OPS - I REALLY NEED TO SEPARATE THESE...\n",
    "# %timeit dfpda['test_mileage'].dropna().mean()"
   ]
  },
  {
   "cell_type": "code",
   "execution_count": 20,
   "id": "05daa96e-c037-478a-9861-c835ec70b196",
   "metadata": {
    "tags": []
   },
   "outputs": [],
   "source": [
    "# %timeit dfpdn['test_mileage'].dropna().mean()"
   ]
  },
  {
   "cell_type": "markdown",
   "id": "e7277ced-b8db-4ade-af20-75166b575e5f",
   "metadata": {},
   "source": [
    "# Mileage vs first use year"
   ]
  },
  {
   "cell_type": "markdown",
   "id": "6b86cc2e-c195-4356-a313-7aa1a68082b6",
   "metadata": {},
   "source": [
    "### Subsample using NumPy and Arrow\n",
    "\n",
    "**TODO**"
   ]
  },
  {
   "cell_type": "code",
   "execution_count": 21,
   "id": "3499e537-db6c-4729-bb98-303c64262878",
   "metadata": {
    "tags": []
   },
   "outputs": [
    {
     "data": {
      "text/plain": [
       "'IPython Memory Usage started'"
      ]
     },
     "execution_count": 21,
     "metadata": {},
     "output_type": "execute_result"
    },
    {
     "name": "stdout",
     "output_type": "stream",
     "text": [
      "In [21] used 1.2 MiB RAM in 131.32s (system mean cpu 10%, single max cpu 100%), peaked 1986.6 MiB above final usage, current RAM usage now 24327.5 MiB\n"
     ]
    }
   ],
   "source": [
    "%imu_start"
   ]
  },
  {
   "cell_type": "code",
   "execution_count": 22,
   "id": "ec8c6ca0-ba50-4297-b7c9-146dd7e4dc04",
   "metadata": {
    "tags": []
   },
   "outputs": [
    {
     "name": "stdout",
     "output_type": "stream",
     "text": [
      "In [22] used 0.0 MiB RAM in 0.10s (system mean cpu 10%, single max cpu 40%), peaked 0.0 MiB above final usage, current RAM usage now 24327.5 MiB\n"
     ]
    }
   ],
   "source": [
    "# df_fuel = dfpda[:10000].query('test_result==\"P\"')\n",
    "# df_fuel = dfpda.query('test_result==\"P\"').sample(10_000)"
   ]
  },
  {
   "cell_type": "markdown",
   "id": "08f27aa1-1985-4392-90ba-62a887868718",
   "metadata": {},
   "source": [
    "## How to get the rows and columns needed?\n",
    "\n",
    "* query on test result is very slow\n",
    "* mask on the same logical query is faster\n",
    "* making the mask is very fast\n",
    "* selecting rows then selecting columns is slow\n",
    "* selecting subset of columns then applying mask is very fast"
   ]
  },
  {
   "cell_type": "code",
   "execution_count": 23,
   "id": "816c086b-368e-4ae9-a24e-863fed7ddba6",
   "metadata": {
    "tags": []
   },
   "outputs": [
    {
     "name": "stdout",
     "output_type": "stream",
     "text": [
      "CPU times: user 10.3 s, sys: 6.49 s, total: 16.8 s\n",
      "Wall time: 16.4 s\n",
      "In [23] used 0.6 MiB RAM in 16.78s (system mean cpu 13%, single max cpu 100%), peaked 9757.2 MiB above final usage, current RAM usage now 24328.1 MiB\n"
     ]
    }
   ],
   "source": [
    "%time dfpda.query('test_result==\"P\"');"
   ]
  },
  {
   "cell_type": "code",
   "execution_count": 24,
   "id": "291728a4-33ed-47b2-9b6f-4f8930a968e3",
   "metadata": {
    "tags": []
   },
   "outputs": [
    {
     "name": "stdout",
     "output_type": "stream",
     "text": [
      "CPU times: user 9.84 s, sys: 6.65 s, total: 16.5 s\n",
      "Wall time: 16.2 s\n",
      "In [24] used -0.2 MiB RAM in 16.32s (system mean cpu 10%, single max cpu 100%), peaked 9818.8 MiB above final usage, current RAM usage now 24327.9 MiB\n"
     ]
    }
   ],
   "source": [
    "%%time\n",
    "# similar results CoW enabled and disabled\n",
    "with pd.option_context(\"mode.copy_on_write\", True):\n",
    "    dfpda.query('test_result==\"P\"');"
   ]
  },
  {
   "cell_type": "code",
   "execution_count": 25,
   "id": "c5b2980e-869d-4106-962b-a5abf16fb2e6",
   "metadata": {
    "tags": []
   },
   "outputs": [
    {
     "name": "stdout",
     "output_type": "stream",
     "text": [
      "In [25] used 0.0 MiB RAM in 0.10s (system mean cpu 0%, single max cpu 0%), peaked 0.0 MiB above final usage, current RAM usage now 24327.9 MiB\n"
     ]
    }
   ],
   "source": [
    "# sanity check they're installed - they are\n",
    "import bottleneck\n",
    "import numexpr"
   ]
  },
  {
   "cell_type": "markdown",
   "metadata": {},
   "source": [
    "Note if rerun out of order when machine is cooler, it still takes 15s"
   ]
  },
  {
   "cell_type": "code",
   "execution_count": 52,
   "id": "4e5c46bb-7c27-49c5-a1d8-aa26da8b9255",
   "metadata": {
    "tags": []
   },
   "outputs": [
    {
     "name": "stdout",
     "output_type": "stream",
     "text": [
      "CPU times: user 9.46 s, sys: 6.06 s, total: 15.5 s\n",
      "Wall time: 15.3 s\n",
      "In [52] used -1.2 MiB RAM in 15.66s (system mean cpu 10%, single max cpu 100%), peaked 9705.4 MiB above final usage, current RAM usage now 24350.0 MiB\n"
     ]
    }
   ],
   "source": [
    "%time dfpda.query('test_result==\"P\"');"
   ]
  },
  {
   "cell_type": "code",
   "execution_count": 27,
   "id": "417bb54a-15ea-4851-9ad0-847c6151984a",
   "metadata": {
    "tags": []
   },
   "outputs": [
    {
     "name": "stdout",
     "output_type": "stream",
     "text": [
      "CPU times: user 1.43 s, sys: 306 ms, total: 1.74 s\n",
      "Wall time: 1.55 s\n",
      "In [27] used 0.1 MiB RAM in 1.65s (system mean cpu 13%, single max cpu 100%), peaked 1357.8 MiB above final usage, current RAM usage now 24328.0 MiB\n"
     ]
    }
   ],
   "source": [
    "%time dfpda.eval('test_result==\"P\"'); \n",
    "# make mask with eval"
   ]
  },
  {
   "cell_type": "code",
   "execution_count": 28,
   "id": "0d931804-a1e6-4be5-b936-330ba3c7c4c1",
   "metadata": {
    "tags": []
   },
   "outputs": [
    {
     "name": "stdout",
     "output_type": "stream",
     "text": [
      "CPU times: user 475 ms, sys: 157 µs, total: 475 ms\n",
      "Wall time: 470 ms\n",
      "In [28] used 19.4 MiB RAM in 0.57s (system mean cpu 9%, single max cpu 100%), peaked 0.0 MiB above final usage, current RAM usage now 24347.4 MiB\n"
     ]
    }
   ],
   "source": [
    "%%time \n",
    "pass_mask = dfpda[\"test_result\"] == \"P\"; \n",
    "# make mask only"
   ]
  },
  {
   "cell_type": "code",
   "execution_count": 29,
   "id": "eae0b2e1-8fc8-45a1-8ed8-e1d1e69492af",
   "metadata": {
    "tags": []
   },
   "outputs": [
    {
     "name": "stdout",
     "output_type": "stream",
     "text": [
      "CPU times: user 8.57 s, sys: 6.08 s, total: 14.7 s\n",
      "Wall time: 14.4 s\n",
      "In [29] used 0.2 MiB RAM in 14.81s (system mean cpu 10%, single max cpu 100%), peaked 9828.8 MiB above final usage, current RAM usage now 24347.6 MiB\n"
     ]
    }
   ],
   "source": [
    "%time dfpda[pass_mask]; \n",
    "# select all columns against mask"
   ]
  },
  {
   "cell_type": "code",
   "execution_count": 30,
   "metadata": {},
   "outputs": [
    {
     "name": "stdout",
     "output_type": "stream",
     "text": [
      "CPU times: user 8.11 s, sys: 6.21 s, total: 14.3 s\n",
      "Wall time: 14.2 s\n",
      "In [30] used 0.1 MiB RAM in 14.39s (system mean cpu 9%, single max cpu 100%), peaked 9794.4 MiB above final usage, current RAM usage now 24347.7 MiB\n"
     ]
    }
   ],
   "source": [
    "%%time\n",
    "cols = [\"test_mileage\", \"fuel_type\", \n",
    "        \"first_use_date\"] \n",
    "dfpda[pass_mask][cols]; \n",
    "# select all columns after mask\n",
    "# NOTE RUNNING WHEN COOLER (BY HAND), was 64C package by end of run, now 47C takes 11s not 15s, then 54C take 12s"
   ]
  },
  {
   "cell_type": "code",
   "execution_count": 31,
   "id": "a494c197-1376-429d-ae50-c08e79b24af4",
   "metadata": {
    "tags": []
   },
   "outputs": [
    {
     "name": "stdout",
     "output_type": "stream",
     "text": [
      "CPU times: user 8.08 s, sys: 6.22 s, total: 14.3 s\n",
      "Wall time: 14.2 s\n",
      "In [31] used 0.0 MiB RAM in 14.38s (system mean cpu 10%, single max cpu 100%), peaked 9816.4 MiB above final usage, current RAM usage now 24347.7 MiB\n"
     ]
    }
   ],
   "source": [
    "%%time\n",
    "cols = [\"test_mileage\", \"fuel_type\", \n",
    "        \"first_use_date\"] \n",
    "dfpda[pass_mask][cols]; \n",
    "# select all columns after mask"
   ]
  },
  {
   "cell_type": "code",
   "execution_count": 32,
   "metadata": {},
   "outputs": [
    {
     "name": "stdout",
     "output_type": "stream",
     "text": [
      "CPU times: user 2.12 s, sys: 1.3 s, total: 3.42 s\n",
      "Wall time: 3.4 s\n",
      "In [32] used 0.0 MiB RAM in 3.57s (system mean cpu 10%, single max cpu 100%), peaked 3139.7 MiB above final usage, current RAM usage now 24347.7 MiB\n"
     ]
    }
   ],
   "source": [
    "%time dfpda[cols][pass_mask]; \n",
    "# select all columns before mask\n",
    "# NOTE RUNNING WHEN COOLER (BY HAND), was 64C package by end of run, now 50C takes 3.1s not 3.6s"
   ]
  },
  {
   "cell_type": "code",
   "execution_count": 33,
   "id": "30f0b0bf-ab51-4c09-8660-55fc96974d78",
   "metadata": {
    "tags": []
   },
   "outputs": [
    {
     "name": "stdout",
     "output_type": "stream",
     "text": [
      "CPU times: user 2.09 s, sys: 1.31 s, total: 3.4 s\n",
      "Wall time: 3.38 s\n",
      "In [33] used -0.0 MiB RAM in 3.55s (system mean cpu 10%, single max cpu 100%), peaked 3172.2 MiB above final usage, current RAM usage now 24347.6 MiB\n"
     ]
    }
   ],
   "source": [
    "%time dfpda[cols][pass_mask]; \n",
    "# select all columns before mask"
   ]
  },
  {
   "cell_type": "code",
   "execution_count": 34,
   "id": "ca5a8935-9aab-4452-973e-047592a73b3b",
   "metadata": {
    "tags": []
   },
   "outputs": [
    {
     "name": "stdout",
     "output_type": "stream",
     "text": [
      "CPU times: user 2.11 s, sys: 1.29 s, total: 3.4 s\n",
      "Wall time: 3.38 s\n",
      "In [34] used -0.1 MiB RAM in 3.55s (system mean cpu 10%, single max cpu 100%), peaked 3170.0 MiB above final usage, current RAM usage now 24347.5 MiB\n"
     ]
    }
   ],
   "source": [
    "%time dfpda[cols][pass_mask]; \n",
    "# select all columns before mask"
   ]
  },
  {
   "cell_type": "code",
   "execution_count": 35,
   "id": "58e077af",
   "metadata": {
    "tags": []
   },
   "outputs": [
    {
     "name": "stdout",
     "output_type": "stream",
     "text": [
      "CPU times: user 1.95 s, sys: 1.42 s, total: 3.37 s\n",
      "Wall time: 3.35 s\n",
      "In [35] used 0.0 MiB RAM in 3.52s (system mean cpu 10%, single max cpu 100%), peaked 3216.5 MiB above final usage, current RAM usage now 24347.5 MiB\n"
     ]
    }
   ],
   "source": [
    "%time dfpda[cols][pass_mask]; \n",
    "# select all columns before mask"
   ]
  },
  {
   "cell_type": "code",
   "execution_count": 36,
   "id": "af6ecde3-213e-47c7-b388-31e7737be69b",
   "metadata": {
    "tags": []
   },
   "outputs": [
    {
     "name": "stdout",
     "output_type": "stream",
     "text": [
      "CPU times: user 8.68 s, sys: 5.91 s, total: 14.6 s\n",
      "Wall time: 14.5 s\n",
      "In [36] used 0.2 MiB RAM in 14.88s (system mean cpu 10%, single max cpu 100%), peaked 9836.1 MiB above final usage, current RAM usage now 24347.7 MiB\n"
     ]
    }
   ],
   "source": [
    "%time dfpda[dfpda[\"test_result\"] == \"P\"];"
   ]
  },
  {
   "cell_type": "code",
   "execution_count": 37,
   "id": "9ca3a49c-d64a-4de8-8a5c-1477ac0bd84e",
   "metadata": {
    "tags": []
   },
   "outputs": [
    {
     "name": "stdout",
     "output_type": "stream",
     "text": [
      "CPU times: user 12.1 s, sys: 6.37 s, total: 18.5 s\n",
      "Wall time: 18.2 s\n",
      "In [37] used 1.7 MiB RAM in 18.30s (system mean cpu 10%, single max cpu 100%), peaked 9680.4 MiB above final usage, current RAM usage now 24349.4 MiB\n"
     ]
    }
   ],
   "source": [
    "%%time\n",
    "df_fuel = dfpda.query('test_result==\"P\"').sample(10_000)"
   ]
  },
  {
   "cell_type": "markdown",
   "id": "b2a77d45-849c-4787-9cdf-6f355900dfb5",
   "metadata": {},
   "source": [
    "## The actual \"work\" is fast for pandas and polars"
   ]
  },
  {
   "cell_type": "code",
   "execution_count": 38,
   "id": "434e0b7d-ead6-4a53-96ea-cacb6573ca82",
   "metadata": {
    "tags": []
   },
   "outputs": [
    {
     "name": "stdout",
     "output_type": "stream",
     "text": [
      "CPU times: user 5.72 ms, sys: 504 µs, total: 6.22 ms\n",
      "Wall time: 5.49 ms\n",
      "In [38] used 0.5 MiB RAM in 0.11s (system mean cpu 14%, single max cpu 100%), peaked 0.0 MiB above final usage, current RAM usage now 24349.9 MiB\n"
     ]
    }
   ],
   "source": [
    "%%time\n",
    "df_fuel = (\n",
    "    df_fuel.assign(first_use_year=lambda dfx: dfx[\"first_use_date\"].dt.year)[\n",
    "        [\"test_mileage\", \"fuel_type\", \"first_use_year\"]\n",
    "    ]\n",
    "    .dropna()\n",
    "    .query(\"fuel_type in ['PE', 'DI']\")\n",
    ")"
   ]
  },
  {
   "cell_type": "markdown",
   "metadata": {},
   "source": [
    "Note on one run when warm it reported 20s, +9.8GB peak, same when cold"
   ]
  },
  {
   "cell_type": "code",
   "execution_count": 39,
   "id": "d8f11bd2-7e9e-4fb3-906f-8a9d4368f543",
   "metadata": {
    "tags": []
   },
   "outputs": [
    {
     "name": "stdout",
     "output_type": "stream",
     "text": [
      "CPU times: user 12.9 s, sys: 6.72 s, total: 19.6 s\n",
      "Wall time: 19.2 s\n",
      "In [39] used -0.5 MiB RAM in 19.28s (system mean cpu 11%, single max cpu 100%), peaked 9721.6 MiB above final usage, current RAM usage now 24349.4 MiB\n"
     ]
    }
   ],
   "source": [
    "%%time\n",
    "df_fuel = (\n",
    "    dfpda.query('test_result==\"P\"')\n",
    "    .sample(10_000)\n",
    "    .assign(first_use_year=lambda dfx: dfx[\"first_use_date\"].dt.year)[\n",
    "        [\"test_mileage\", \"fuel_type\", \"first_use_year\"]\n",
    "    ]\n",
    "    .dropna()\n",
    "    .query(\"fuel_type in ['PE', 'DI']\")\n",
    ")"
   ]
  },
  {
   "cell_type": "code",
   "execution_count": 40,
   "id": "c65e219d-bf6d-4923-89c5-53c5d63adc07",
   "metadata": {
    "tags": []
   },
   "outputs": [
    {
     "name": "stdout",
     "output_type": "stream",
     "text": [
      "In [40] used 0.0 MiB RAM in 0.10s (system mean cpu 9%, single max cpu 40%), peaked 0.0 MiB above final usage, current RAM usage now 24349.4 MiB\n"
     ]
    }
   ],
   "source": [
    "# def add_year(dfx):\n",
    "#    dfx['first_use_year'] = dfx['first_use_date'].dt.year\n",
    "#    return dfx\n",
    "# df_fuel = df_fuel.pipe(add_year)[['test_mileage', 'fuel_type', 'first_use_year']]. \\"
   ]
  },
  {
   "cell_type": "code",
   "execution_count": 41,
   "id": "5d2e15aa-873d-4917-a1fc-4bd05c66e294",
   "metadata": {
    "tags": []
   },
   "outputs": [
    {
     "name": "stdout",
     "output_type": "stream",
     "text": [
      "In [41] used 0.0 MiB RAM in 0.10s (system mean cpu 11%, single max cpu 50%), peaked 0.0 MiB above final usage, current RAM usage now 24349.4 MiB\n"
     ]
    }
   ],
   "source": [
    "# dfs_allfuel = dfpda.query('test_result==\"P\"').sample(10_000)\n",
    "# dfs_allfuel['first_use_year'] = dfs_allfuel['first_use_date'].dt.year\n",
    "# dfs_allfuel = dfs_allfuel[['test_mileage', 'fuel_type', 'first_use_year']]\n",
    "# dfs_allfuel = dfs_allfuel.dropna() # some of the test_mileage rows are empty\n",
    "# df_fuel = dfs_allfuel[dfs_allfuel['fuel_type'].isin(['PE', 'DI'])]"
   ]
  },
  {
   "cell_type": "code",
   "execution_count": 42,
   "id": "7502d1e1-16a0-4232-a033-5db336e3cf8e",
   "metadata": {
    "tags": []
   },
   "outputs": [
    {
     "data": {
      "image/png": "[encoded data removed]",
      "text/plain": [
       "<Figure size 400x400 with 1 Axes>"
      ]
     },
     "metadata": {},
     "output_type": "display_data"
    },
    {
     "name": "stdout",
     "output_type": "stream",
     "text": [
      "In [42] used 1.8 MiB RAM in 0.55s (system mean cpu 16%, single max cpu 100%), peaked 0.0 MiB above final usage, current RAM usage now 24351.1 MiB\n"
     ]
    }
   ],
   "source": [
    "fig, ax = plt.subplots(constrained_layout=True, figsize=(4, 4))\n",
    "# Note this is Pandas Arrow with Seaborn\n",
    "# TODO maybe different symbols\n",
    "# h/t https://stackoverflow.com/questions/56394204/pandas-groupby-scatter-plot-in-a-single-plot for categorical solution\n",
    "# sns.scatterplot(x=dfs['first_use_year'], y=dfs['test_mileage'], c=pd.Categorical(dfs['fuel_type']).codes, ax=ax)\n",
    "sns.scatterplot(\n",
    "    x=df_fuel[\"first_use_year\"],\n",
    "    y=df_fuel[\"test_mileage\"],\n",
    "    hue=df_fuel[\"fuel_type\"],\n",
    "    hue_order=[\"DI\", \"PE\"],\n",
    "    ax=ax,\n",
    ")\n",
    "# ax.scatter(x=dfs['first_use_year'], y=dfs['test_mileage'], c=pd.Categorical(dfs['fuel_type']).codes,)\n",
    "ax.set_xlim(xmin=1960)\n",
    "ax.set_ylim(ymax=400000)\n",
    "set_commas(ax, y_axis=True)\n",
    "set_common_mpl_styles(ax, ymin=-2000, title=\"MOT Year 2021+\")"
   ]
  },
  {
   "cell_type": "code",
   "execution_count": 43,
   "id": "8a0f9937-3e7b-4438-9bbe-a7ce6f853fb8",
   "metadata": {
    "tags": []
   },
   "outputs": [
    {
     "name": "stdout",
     "output_type": "stream",
     "text": [
      "In [43] used 0.0 MiB RAM in 0.10s (system mean cpu 13%, single max cpu 50%), peaked 0.0 MiB above final usage, current RAM usage now 24351.1 MiB\n"
     ]
    }
   ],
   "source": [
    "# dfs.info()"
   ]
  }
 ],
 "metadata": {
  "kernelspec": {
   "display_name": "Python 3 (ipykernel)",
   "language": "python",
   "name": "python3"
  },
  "language_info": {
   "codemirror_mode": {
    "name": "ipython",
    "version": 3
   },
   "file_extension": ".py",
   "mimetype": "text/x-python",
   "name": "python",
   "nbconvert_exporter": "python",
   "pygments_lexer": "ipython3",
   "version": "3.11.5"
  }
 },
 "nbformat": 4,
 "nbformat_minor": 5
}
