{
 "cells": [
  {
   "cell_type": "code",
   "execution_count": 1,
   "id": "c1747e54",
   "metadata": {},
   "outputs": [],
   "source": [
    "import polars as pl"
   ]
  },
  {
   "cell_type": "code",
   "execution_count": 15,
   "id": "ce869a69",
   "metadata": {},
   "outputs": [
    {
     "name": "stdout",
     "output_type": "stream",
     "text": [
      "CPU times: user 21.9 ms, sys: 11.4 ms, total: 33.3 ms\n",
      "Wall time: 32.7 ms\n"
     ]
    },
    {
     "data": {
      "text/plain": [
       "{'vehicle_id': Int64,\n",
       " 'make': Utf8,\n",
       " 'model': Utf8,\n",
       " 'fuel_type': Utf8,\n",
       " 'cylinder_capacity': Int64,\n",
       " 'first_use_date': Datetime(time_unit='us', time_zone=None),\n",
       " 'last_test_date': Datetime(time_unit='us', time_zone=None),\n",
       " 'last_known_mileage': Int64}"
      ]
     },
     "execution_count": 15,
     "metadata": {},
     "output_type": "execute_result"
    }
   ],
   "source": [
    "%%time\n",
    "\n",
    "ldf = (\n",
    "    pl.scan_parquet('../../test_result.parquet/*',J\n",
    "                    #low_memory=True\n",
    "                   )\n",
    "    .select('vehicle_id', 'make','model','fuel_type','cylinder_capacity','first_use_date','test_date','test_mileage',)\n",
    "    .filter(pl.col('make').is_in([\"VOLVO\", \"ROVER\", \"VOLKSWAGEN\"]))\n",
    "    .filter(pl.col('model').is_in([\"V50\", \"200\", \"PASSAT\"]))\n",
    "    .groupby('vehicle_id')\n",
    "    .agg(pl.col('make', 'model', 'fuel_type', 'cylinder_capacity', 'first_use_date').last(),\n",
    "         pl.col('test_date').max().alias('last_test_date'),\n",
    "         pl.col('test_mileage').max().alias('last_known_mileage'),\n",
    "        )\n",
    ")\n",
    "\n",
    "ldf.schema"
   ]
  },
  {
   "cell_type": "code",
   "execution_count": 16,
   "id": "c7ad9557",
   "metadata": {},
   "outputs": [
    {
     "name": "stdout",
     "output_type": "stream",
     "text": [
      "CPU times: user 3min 2s, sys: 51.7 s, total: 3min 54s\n",
      "Wall time: 2min 15s\n"
     ]
    }
   ],
   "source": [
    "%%time\n",
    "edf = ldf.collect(streaming=True)"
   ]
  },
  {
   "cell_type": "code",
   "execution_count": 15,
   "id": "21477adf-9f7d-470f-9551-7e094ca84f6e",
   "metadata": {},
   "outputs": [
    {
     "name": "stdout",
     "output_type": "stream",
     "text": [
      "CPU times: user 21.9 ms, sys: 11.4 ms, total: 33.3 ms\n",
      "Wall time: 32.7 ms\n"
     ]
    },
    {
     "data": {
      "text/plain": [
       "{'vehicle_id': Int64,\n",
       " 'make': Utf8,\n",
       " 'model': Utf8,\n",
       " 'fuel_type': Utf8,\n",
       " 'cylinder_capacity': Int64,\n",
       " 'first_use_date': Datetime(time_unit='us', time_zone=None),\n",
       " 'last_test_date': Datetime(time_unit='us', time_zone=None),\n",
       " 'last_known_mileage': Int64}"
      ]
     },
     "execution_count": 15,
     "metadata": {},
     "output_type": "execute_result"
    }
   ],
   "source": [
    "%%time\n",
    "\n",
    "ldf = (\n",
    "    pl.scan_parquet('../../test_result_sorted.parquet/*',J\n",
    "                    #low_memory=True\n",
    "                   )\n",
    "    .select('vehicle_id', 'make','model','fuel_type','cylinder_capacity','first_use_date','test_date','test_mileage',)\n",
    "    .filter(pl.col('make').is_in([\"VOLVO\", \"ROVER\", \"VOLKSWAGEN\"]))\n",
    "    .filter(pl.col('model').is_in([\"V50\", \"200\", \"PASSAT\"]))\n",
    "    .groupby('vehicle_id')\n",
    "    .agg(pl.col('make', 'model', 'fuel_type', 'cylinder_capacity', 'first_use_date').last(),\n",
    "         pl.col('test_date').max().alias('last_test_date'),\n",
    "         pl.col('test_mileage').max().alias('last_known_mileage'),\n",
    "        )\n",
    ")\n",
    "\n",
    "ldf.schema"
   ]
  },
  {
   "cell_type": "code",
   "execution_count": 16,
   "id": "9227ce8b-f3d9-441f-b8a4-61b840dee795",
   "metadata": {},
   "outputs": [
    {
     "name": "stdout",
     "output_type": "stream",
     "text": [
      "CPU times: user 3min 2s, sys: 51.7 s, total: 3min 54s\n",
      "Wall time: 2min 15s\n"
     ]
    }
   ],
   "source": [
    "%%time\n",
    "edf = ldf.collect(streaming=True)"
   ]
  },
  {
   "cell_type": "code",
   "execution_count": 17,
   "id": "06c7ebdd",
   "metadata": {},
   "outputs": [
    {
     "name": "stdout",
     "output_type": "stream",
     "text": [
      "CPU times: user 31.6 ms, sys: 0 ns, total: 31.6 ms\n",
      "Wall time: 30.7 ms\n"
     ]
    },
    {
     "data": {
      "text/plain": [
       "{'vehicle_id': Int64,\n",
       " 'make': Utf8,\n",
       " 'model': Utf8,\n",
       " 'fuel_type': Utf8,\n",
       " 'cylinder_capacity': Int64,\n",
       " 'first_use_date': Datetime(time_unit='us', time_zone=None),\n",
       " 'last_test_date': Datetime(time_unit='us', time_zone=None),\n",
       " 'last_known_mileage': Int64}"
      ]
     },
     "execution_count": 17,
     "metadata": {},
     "output_type": "execute_result"
    }
   ],
   "source": [
    "%%time\n",
    "\n",
    "ldf = (\n",
    "    pl.scan_parquet('../../test_result_sorted.parquet/*',\n",
    "                    low_memory=True\n",
    "                   )\n",
    "    .select('vehicle_id', 'make','model','fuel_type','cylinder_capacity','first_use_date','test_date','test_mileage',)\n",
    "    .filter(pl.col('make').is_in([\"VOLVO\", \"ROVER\", \"VOLKSWAGEN\"]))\n",
    "    .filter(pl.col('model').is_in([\"V50\", \"200\", \"PASSAT\"]))\n",
    "    .groupby('vehicle_id')\n",
    "    .agg(pl.col('make', 'model', 'fuel_type', 'cylinder_capacity', 'first_use_date').last(),\n",
    "         pl.col('test_date').max().alias('last_test_date'),\n",
    "         pl.col('test_mileage').max().alias('last_known_mileage'),\n",
    "        )\n",
    ")\n",
    "\n",
    "ldf.schema"
   ]
  },
  {
   "cell_type": "code",
   "execution_count": 18,
   "id": "b1f1a724",
   "metadata": {},
   "outputs": [
    {
     "name": "stdout",
     "output_type": "stream",
     "text": [
      "CPU times: user 3min 1s, sys: 52.2 s, total: 3min 53s\n",
      "Wall time: 2min 14s\n"
     ]
    }
   ],
   "source": [
    "%%time\n",
    "edf = ldf.collect(streaming=True)"
   ]
  },
  {
   "cell_type": "code",
   "execution_count": 8,
   "id": "f8b37068",
   "metadata": {},
   "outputs": [
    {
     "name": "stdout",
     "output_type": "stream",
     "text": [
      "CPU times: user 51 ms, sys: 38.6 ms, total: 89.5 ms\n",
      "Wall time: 88.3 ms\n"
     ]
    }
   ],
   "source": [
    "%%time\n",
    "edf.write_parquet('volvo_data_polars.parquet')"
   ]
  },
  {
   "cell_type": "code",
   "execution_count": 9,
   "id": "14cbb8c3",
   "metadata": {},
   "outputs": [
    {
     "data": {
      "text/html": [
       "<div><style>\n",
       ".dataframe > thead > tr > th,\n",
       ".dataframe > tbody > tr > td {\n",
       "  text-align: right;\n",
       "}\n",
       "</style>\n",
       "<small>shape: (5, 8)</small><table border=\"1\" class=\"dataframe\"><thead><tr><th>vehicle_id</th><th>make</th><th>model</th><th>fuel_type</th><th>cylinder_capacity</th><th>first_use_date</th><th>last_test_date</th><th>last_known_mileage</th></tr><tr><td>i64</td><td>str</td><td>str</td><td>str</td><td>i64</td><td>datetime[μs]</td><td>datetime[μs]</td><td>i64</td></tr></thead><tbody><tr><td>503093648</td><td>&quot;VOLVO&quot;</td><td>&quot;V50&quot;</td><td>&quot;DI&quot;</td><td>1997</td><td>2011-11-03 00:00:00</td><td>2022-11-05 00:00:00</td><td>62625</td></tr><tr><td>638811922</td><td>&quot;VOLVO&quot;</td><td>&quot;V50&quot;</td><td>&quot;PE&quot;</td><td>2521</td><td>2007-05-15 00:00:00</td><td>2022-06-14 00:00:00</td><td>108915</td></tr><tr><td>638742268</td><td>&quot;VOLVO&quot;</td><td>&quot;V50&quot;</td><td>&quot;DI&quot;</td><td>2401</td><td>2007-03-27 00:00:00</td><td>2022-04-04 00:00:00</td><td>34836</td></tr><tr><td>656698580</td><td>&quot;VOLVO&quot;</td><td>&quot;V50&quot;</td><td>&quot;DI&quot;</td><td>1998</td><td>2005-03-30 00:00:00</td><td>2017-12-28 00:00:00</td><td>215205</td></tr><tr><td>808792404</td><td>null</td><td>null</td><td>null</td><td>null</td><td>null</td><td>2022-10-07 00:00:00</td><td>100490</td></tr></tbody></table></div>"
      ],
      "text/plain": [
       "shape: (5, 8)\n",
       "┌────────────┬───────┬───────┬───────────┬────────────┬──────────────┬──────────────┬──────────────┐\n",
       "│ vehicle_id ┆ make  ┆ model ┆ fuel_type ┆ cylinder_c ┆ first_use_da ┆ last_test_da ┆ last_known_m │\n",
       "│ ---        ┆ ---   ┆ ---   ┆ ---       ┆ apacity    ┆ te           ┆ te           ┆ ileage       │\n",
       "│ i64        ┆ str   ┆ str   ┆ str       ┆ ---        ┆ ---          ┆ ---          ┆ ---          │\n",
       "│            ┆       ┆       ┆           ┆ i64        ┆ datetime[μs] ┆ datetime[μs] ┆ i64          │\n",
       "╞════════════╪═══════╪═══════╪═══════════╪════════════╪══════════════╪══════════════╪══════════════╡\n",
       "│ 503093648  ┆ VOLVO ┆ V50   ┆ DI        ┆ 1997       ┆ 2011-11-03   ┆ 2022-11-05   ┆ 62625        │\n",
       "│            ┆       ┆       ┆           ┆            ┆ 00:00:00     ┆ 00:00:00     ┆              │\n",
       "│ 638811922  ┆ VOLVO ┆ V50   ┆ PE        ┆ 2521       ┆ 2007-05-15   ┆ 2022-06-14   ┆ 108915       │\n",
       "│            ┆       ┆       ┆           ┆            ┆ 00:00:00     ┆ 00:00:00     ┆              │\n",
       "│ 638742268  ┆ VOLVO ┆ V50   ┆ DI        ┆ 2401       ┆ 2007-03-27   ┆ 2022-04-04   ┆ 34836        │\n",
       "│            ┆       ┆       ┆           ┆            ┆ 00:00:00     ┆ 00:00:00     ┆              │\n",
       "│ 656698580  ┆ VOLVO ┆ V50   ┆ DI        ┆ 1998       ┆ 2005-03-30   ┆ 2017-12-28   ┆ 215205       │\n",
       "│            ┆       ┆       ┆           ┆            ┆ 00:00:00     ┆ 00:00:00     ┆              │\n",
       "│ 808792404  ┆ null  ┆ null  ┆ null      ┆ null       ┆ null         ┆ 2022-10-07   ┆ 100490       │\n",
       "│            ┆       ┆       ┆           ┆            ┆              ┆ 00:00:00     ┆              │\n",
       "└────────────┴───────┴───────┴───────────┴────────────┴──────────────┴──────────────┴──────────────┘"
      ]
     },
     "execution_count": 9,
     "metadata": {},
     "output_type": "execute_result"
    }
   ],
   "source": [
    "edf.head()"
   ]
  }
 ],
 "metadata": {
  "kernelspec": {
   "display_name": "Python 3 (ipykernel)",
   "language": "python",
   "name": "python3"
  },
  "language_info": {
   "codemirror_mode": {
    "name": "ipython",
    "version": 3
   },
   "file_extension": ".py",
   "mimetype": "text/x-python",
   "name": "python",
   "nbconvert_exporter": "python",
   "pygments_lexer": "ipython3",
   "version": "3.11.3"
  }
 },
 "nbformat": 4,
 "nbformat_minor": 5
}
