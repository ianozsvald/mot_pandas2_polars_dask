{
 "cells": [
  {
   "cell_type": "code",
   "execution_count": 1,
   "id": "c1747e54",
   "metadata": {
    "execution": {
     "iopub.execute_input": "2023-12-01T20:48:34.097484Z",
     "iopub.status.busy": "2023-12-01T20:48:34.097317Z",
     "iopub.status.idle": "2023-12-01T20:48:34.374967Z",
     "shell.execute_reply": "2023-12-01T20:48:34.374583Z",
     "shell.execute_reply.started": "2023-12-01T20:48:34.097465Z"
    },
    "tags": []
   },
   "outputs": [],
   "source": [
    "import polars as pl\n",
    "import pandas as pd\n",
    "import os"
   ]
  },
  {
   "cell_type": "code",
   "execution_count": 2,
   "id": "4ed19608-2248-4642-850d-6d7072819e09",
   "metadata": {
    "execution": {
     "iopub.execute_input": "2023-12-01T20:48:34.375979Z",
     "iopub.status.busy": "2023-12-01T20:48:34.375785Z",
     "iopub.status.idle": "2023-12-01T20:48:34.378106Z",
     "shell.execute_reply": "2023-12-01T20:48:34.377777Z",
     "shell.execute_reply.started": "2023-12-01T20:48:34.375967Z"
    }
   },
   "outputs": [],
   "source": [
    "parquet_path = \"../../test_result.parquet/*\""
   ]
  },
  {
   "cell_type": "code",
   "execution_count": 3,
   "id": "ce869a69",
   "metadata": {
    "execution": {
     "iopub.execute_input": "2023-12-01T20:48:34.378620Z",
     "iopub.status.busy": "2023-12-01T20:48:34.378517Z",
     "iopub.status.idle": "2023-12-01T20:48:44.496711Z",
     "shell.execute_reply": "2023-12-01T20:48:44.496411Z",
     "shell.execute_reply.started": "2023-12-01T20:48:34.378610Z"
    },
    "tags": []
   },
   "outputs": [],
   "source": [
    "edf = (\n",
    "    pl.scan_parquet(parquet_path)\n",
    "    .filter(pl.col(\"make\").is_in([\"VOLVO\", \"VOLKSWAGEN\"]) &\n",
    "            pl.col(\"model\").is_in([\"V50\", \"PASSAT\"])\n",
    "           )\n",
    "    .group_by(\"vehicle_id\")\n",
    "    .agg(\n",
    "        pl.col(\n",
    "            \"make\", \"model\", \"fuel_type\", \"cylinder_capacity\", \"first_use_date\"\n",
    "        ).last(),\n",
    "        pl.col(\"test_date\").max().alias(\"last_test_date\"),\n",
    "        pl.col(\"test_mileage\").max().alias(\"last_known_mileage\"),\n",
    "    )\n",
    "    .collect()\n",
    ")"
   ]
  },
  {
   "cell_type": "code",
   "execution_count": 4,
   "id": "f9771517",
   "metadata": {
    "execution": {
     "iopub.execute_input": "2023-12-01T20:48:44.497354Z",
     "iopub.status.busy": "2023-12-01T20:48:44.497127Z",
     "iopub.status.idle": "2023-12-01T20:48:44.501659Z",
     "shell.execute_reply": "2023-12-01T20:48:44.501330Z",
     "shell.execute_reply.started": "2023-12-01T20:48:44.497342Z"
    }
   },
   "outputs": [
    {
     "data": {
      "text/html": [
       "<div><style>\n",
       ".dataframe > thead > tr,\n",
       ".dataframe > tbody > tr {\n",
       "  text-align: right;\n",
       "  white-space: pre-wrap;\n",
       "}\n",
       "</style>\n",
       "<small>shape: (5, 8)</small><table border=\"1\" class=\"dataframe\"><thead><tr><th>vehicle_id</th><th>make</th><th>model</th><th>fuel_type</th><th>cylinder_capacity</th><th>first_use_date</th><th>last_test_date</th><th>last_known_mileage</th></tr><tr><td>i64</td><td>str</td><td>str</td><td>str</td><td>i64</td><td>datetime[μs]</td><td>datetime[μs]</td><td>i64</td></tr></thead><tbody><tr><td>67080024</td><td>&quot;VOLKSWAGEN&quot;</td><td>&quot;PASSAT&quot;</td><td>&quot;PE&quot;</td><td>1781</td><td>1998-12-31 00:00:00</td><td>2010-03-13 00:00:00</td><td>77653</td></tr><tr><td>216134802</td><td>&quot;VOLKSWAGEN&quot;</td><td>&quot;PASSAT&quot;</td><td>&quot;DI&quot;</td><td>1896</td><td>2007-10-04 00:00:00</td><td>2017-07-22 00:00:00</td><td>262056</td></tr><tr><td>1303506971</td><td>&quot;VOLKSWAGEN&quot;</td><td>&quot;PASSAT&quot;</td><td>&quot;DI&quot;</td><td>1968</td><td>2013-12-04 00:00:00</td><td>2022-03-09 00:00:00</td><td>78496</td></tr><tr><td>1087043444</td><td>&quot;VOLKSWAGEN&quot;</td><td>&quot;PASSAT&quot;</td><td>&quot;DI&quot;</td><td>1896</td><td>2003-11-17 00:00:00</td><td>2015-05-22 00:00:00</td><td>138235</td></tr><tr><td>733512900</td><td>&quot;VOLKSWAGEN&quot;</td><td>&quot;PASSAT&quot;</td><td>&quot;PE&quot;</td><td>1800</td><td>1999-07-14 00:00:00</td><td>2014-07-02 00:00:00</td><td>117592</td></tr></tbody></table></div>"
      ],
      "text/plain": [
       "shape: (5, 8)\n",
       "┌────────────┬────────────┬────────┬───────────┬────────────┬────────────┬────────────┬────────────┐\n",
       "│ vehicle_id ┆ make       ┆ model  ┆ fuel_type ┆ cylinder_c ┆ first_use_ ┆ last_test_ ┆ last_known │\n",
       "│ ---        ┆ ---        ┆ ---    ┆ ---       ┆ apacity    ┆ date       ┆ date       ┆ _mileage   │\n",
       "│ i64        ┆ str        ┆ str    ┆ str       ┆ ---        ┆ ---        ┆ ---        ┆ ---        │\n",
       "│            ┆            ┆        ┆           ┆ i64        ┆ datetime[μ ┆ datetime[μ ┆ i64        │\n",
       "│            ┆            ┆        ┆           ┆            ┆ s]         ┆ s]         ┆            │\n",
       "╞════════════╪════════════╪════════╪═══════════╪════════════╪════════════╪════════════╪════════════╡\n",
       "│ 67080024   ┆ VOLKSWAGEN ┆ PASSAT ┆ PE        ┆ 1781       ┆ 1998-12-31 ┆ 2010-03-13 ┆ 77653      │\n",
       "│            ┆            ┆        ┆           ┆            ┆ 00:00:00   ┆ 00:00:00   ┆            │\n",
       "│ 216134802  ┆ VOLKSWAGEN ┆ PASSAT ┆ DI        ┆ 1896       ┆ 2007-10-04 ┆ 2017-07-22 ┆ 262056     │\n",
       "│            ┆            ┆        ┆           ┆            ┆ 00:00:00   ┆ 00:00:00   ┆            │\n",
       "│ 1303506971 ┆ VOLKSWAGEN ┆ PASSAT ┆ DI        ┆ 1968       ┆ 2013-12-04 ┆ 2022-03-09 ┆ 78496      │\n",
       "│            ┆            ┆        ┆           ┆            ┆ 00:00:00   ┆ 00:00:00   ┆            │\n",
       "│ 1087043444 ┆ VOLKSWAGEN ┆ PASSAT ┆ DI        ┆ 1896       ┆ 2003-11-17 ┆ 2015-05-22 ┆ 138235     │\n",
       "│            ┆            ┆        ┆           ┆            ┆ 00:00:00   ┆ 00:00:00   ┆            │\n",
       "│ 733512900  ┆ VOLKSWAGEN ┆ PASSAT ┆ PE        ┆ 1800       ┆ 1999-07-14 ┆ 2014-07-02 ┆ 117592     │\n",
       "│            ┆            ┆        ┆           ┆            ┆ 00:00:00   ┆ 00:00:00   ┆            │\n",
       "└────────────┴────────────┴────────┴───────────┴────────────┴────────────┴────────────┴────────────┘"
      ]
     },
     "execution_count": 4,
     "metadata": {},
     "output_type": "execute_result"
    }
   ],
   "source": [
    "edf.head()"
   ]
  },
  {
   "cell_type": "code",
   "execution_count": 5,
   "id": "5d1c0ec4",
   "metadata": {
    "execution": {
     "iopub.execute_input": "2023-12-01T20:48:44.502338Z",
     "iopub.status.busy": "2023-12-01T20:48:44.502129Z",
     "iopub.status.idle": "2023-12-01T20:48:44.509884Z",
     "shell.execute_reply": "2023-12-01T20:48:44.509543Z",
     "shell.execute_reply.started": "2023-12-01T20:48:44.502326Z"
    }
   },
   "outputs": [
    {
     "data": {
      "text/plain": [
       "604023"
      ]
     },
     "execution_count": 5,
     "metadata": {},
     "output_type": "execute_result"
    }
   ],
   "source": [
    "len(edf)"
   ]
  },
  {
   "cell_type": "code",
   "execution_count": 6,
   "id": "269fd062",
   "metadata": {
    "execution": {
     "iopub.execute_input": "2023-12-01T20:48:44.510580Z",
     "iopub.status.busy": "2023-12-01T20:48:44.510335Z",
     "iopub.status.idle": "2023-12-01T20:48:44.515347Z",
     "shell.execute_reply": "2023-12-01T20:48:44.515061Z",
     "shell.execute_reply.started": "2023-12-01T20:48:44.510562Z"
    }
   },
   "outputs": [
    {
     "data": {
      "text/plain": [
       "OrderedDict([('vehicle_id', Int64),\n",
       "             ('make', Utf8),\n",
       "             ('model', Utf8),\n",
       "             ('fuel_type', Utf8),\n",
       "             ('cylinder_capacity', Int64),\n",
       "             ('first_use_date', Datetime(time_unit='us', time_zone=None)),\n",
       "             ('last_test_date', Datetime(time_unit='us', time_zone=None)),\n",
       "             ('last_known_mileage', Int64)])"
      ]
     },
     "execution_count": 6,
     "metadata": {},
     "output_type": "execute_result"
    }
   ],
   "source": [
    "edf.schema"
   ]
  },
  {
   "cell_type": "code",
   "execution_count": 7,
   "id": "d7bf711f-91c7-47dd-bd41-d2b034f327fb",
   "metadata": {
    "execution": {
     "iopub.execute_input": "2023-12-01T20:48:44.516802Z",
     "iopub.status.busy": "2023-12-01T20:48:44.516670Z",
     "iopub.status.idle": "2023-12-01T20:48:44.522113Z",
     "shell.execute_reply": "2023-12-01T20:48:44.521797Z",
     "shell.execute_reply.started": "2023-12-01T20:48:44.516790Z"
    },
    "tags": []
   },
   "outputs": [],
   "source": [
    "ldf = (\n",
    "    pl.scan_parquet(parquet_path)\n",
    "    .filter(pl.col(\"make\").is_in([\"VOLVO\", \"VOLKSWAGEN\"]))\n",
    "    .filter(pl.col(\"model\").is_in([\"V50\", \"PASSAT\"]))\n",
    "    .group_by(\"vehicle_id\")\n",
    "    .agg(\n",
    "        pl.col(\n",
    "            \"make\", \"model\", \"fuel_type\", \"cylinder_capacity\", \"first_use_date\"\n",
    "        ).last(),\n",
    "        pl.col(\"test_date\").max().alias(\"last_test_date\"),\n",
    "        pl.col(\"test_mileage\").max().alias(\"last_known_mileage\"),\n",
    "    )\n",
    ")"
   ]
  },
  {
   "cell_type": "code",
   "execution_count": 8,
   "id": "e1092dbf",
   "metadata": {
    "execution": {
     "iopub.execute_input": "2023-12-01T20:48:44.522676Z",
     "iopub.status.busy": "2023-12-01T20:48:44.522530Z",
     "iopub.status.idle": "2023-12-01T20:49:16.011695Z",
     "shell.execute_reply": "2023-12-01T20:49:16.011352Z",
     "shell.execute_reply.started": "2023-12-01T20:48:44.522664Z"
    },
    "tags": []
   },
   "outputs": [
    {
     "name": "stdout",
     "output_type": "stream",
     "text": [
      "CPU times: user 1min 44s, sys: 7.45 s, total: 1min 51s\n",
      "Wall time: 31.5 s\n"
     ]
    }
   ],
   "source": [
    "%%time\n",
    "# 5m22s\n",
    "# 4m44s\n",
    "edf1 = ldf.collect(streaming=True)"
   ]
  },
  {
   "cell_type": "code",
   "execution_count": 9,
   "id": "c7ad9557",
   "metadata": {
    "execution": {
     "iopub.execute_input": "2023-12-01T20:49:16.012236Z",
     "iopub.status.busy": "2023-12-01T20:49:16.012116Z",
     "iopub.status.idle": "2023-12-01T20:49:26.134189Z",
     "shell.execute_reply": "2023-12-01T20:49:26.133911Z",
     "shell.execute_reply.started": "2023-12-01T20:49:16.012225Z"
    },
    "scrolled": true,
    "tags": []
   },
   "outputs": [
    {
     "name": "stdout",
     "output_type": "stream",
     "text": [
      "CPU times: user 1min 29s, sys: 17.8 s, total: 1min 47s\n",
      "Wall time: 10.1 s\n"
     ]
    }
   ],
   "source": [
    "%%time\n",
    "# xmxxs\n",
    "edf2 = ldf.collect()"
   ]
  },
  {
   "cell_type": "code",
   "execution_count": 10,
   "id": "a5342f24",
   "metadata": {
    "execution": {
     "iopub.execute_input": "2023-12-01T20:49:26.134676Z",
     "iopub.status.busy": "2023-12-01T20:49:26.134573Z",
     "iopub.status.idle": "2023-12-01T20:49:26.136406Z",
     "shell.execute_reply": "2023-12-01T20:49:26.136152Z",
     "shell.execute_reply.started": "2023-12-01T20:49:26.134666Z"
    }
   },
   "outputs": [],
   "source": [
    "edf = edf2"
   ]
  },
  {
   "cell_type": "code",
   "execution_count": 11,
   "id": "f405c2ce-4f66-4c66-adc2-233b430e54fc",
   "metadata": {
    "execution": {
     "iopub.execute_input": "2023-12-01T20:49:26.136834Z",
     "iopub.status.busy": "2023-12-01T20:49:26.136736Z",
     "iopub.status.idle": "2023-12-01T20:49:26.148466Z",
     "shell.execute_reply": "2023-12-01T20:49:26.148209Z",
     "shell.execute_reply.started": "2023-12-01T20:49:26.136824Z"
    },
    "tags": []
   },
   "outputs": [
    {
     "data": {
      "text/html": [
       "<div><style>\n",
       ".dataframe > thead > tr,\n",
       ".dataframe > tbody > tr {\n",
       "  text-align: right;\n",
       "  white-space: pre-wrap;\n",
       "}\n",
       "</style>\n",
       "<small>shape: (5, 8)</small><table border=\"1\" class=\"dataframe\"><thead><tr><th>vehicle_id</th><th>make</th><th>model</th><th>fuel_type</th><th>cylinder_capacity</th><th>first_use_date</th><th>last_test_date</th><th>last_known_mileage</th></tr><tr><td>i64</td><td>str</td><td>str</td><td>str</td><td>i64</td><td>datetime[μs]</td><td>datetime[μs]</td><td>i64</td></tr></thead><tbody><tr><td>468130186</td><td>&quot;VOLKSWAGEN&quot;</td><td>&quot;PASSAT&quot;</td><td>&quot;DI&quot;</td><td>1968</td><td>2010-03-16 00:00:00</td><td>2020-12-02 00:00:00</td><td>101399</td></tr><tr><td>157028922</td><td>&quot;VOLKSWAGEN&quot;</td><td>&quot;PASSAT&quot;</td><td>&quot;DI&quot;</td><td>1896</td><td>2000-04-27 00:00:00</td><td>2012-11-27 00:00:00</td><td>149945</td></tr><tr><td>1175038834</td><td>&quot;VOLKSWAGEN&quot;</td><td>&quot;PASSAT&quot;</td><td>&quot;DI&quot;</td><td>1896</td><td>2005-12-22 00:00:00</td><td>2022-02-24 00:00:00</td><td>138145</td></tr><tr><td>69213878</td><td>&quot;VOLKSWAGEN&quot;</td><td>&quot;PASSAT&quot;</td><td>&quot;DI&quot;</td><td>1968</td><td>2006-07-19 00:00:00</td><td>2021-03-23 00:00:00</td><td>165599</td></tr><tr><td>1181212178</td><td>&quot;VOLKSWAGEN&quot;</td><td>&quot;PASSAT&quot;</td><td>&quot;PE&quot;</td><td>1781</td><td>1998-03-30 00:00:00</td><td>2020-05-26 00:00:00</td><td>92455</td></tr></tbody></table></div>"
      ],
      "text/plain": [
       "shape: (5, 8)\n",
       "┌────────────┬────────────┬────────┬───────────┬────────────┬────────────┬────────────┬────────────┐\n",
       "│ vehicle_id ┆ make       ┆ model  ┆ fuel_type ┆ cylinder_c ┆ first_use_ ┆ last_test_ ┆ last_known │\n",
       "│ ---        ┆ ---        ┆ ---    ┆ ---       ┆ apacity    ┆ date       ┆ date       ┆ _mileage   │\n",
       "│ i64        ┆ str        ┆ str    ┆ str       ┆ ---        ┆ ---        ┆ ---        ┆ ---        │\n",
       "│            ┆            ┆        ┆           ┆ i64        ┆ datetime[μ ┆ datetime[μ ┆ i64        │\n",
       "│            ┆            ┆        ┆           ┆            ┆ s]         ┆ s]         ┆            │\n",
       "╞════════════╪════════════╪════════╪═══════════╪════════════╪════════════╪════════════╪════════════╡\n",
       "│ 468130186  ┆ VOLKSWAGEN ┆ PASSAT ┆ DI        ┆ 1968       ┆ 2010-03-16 ┆ 2020-12-02 ┆ 101399     │\n",
       "│            ┆            ┆        ┆           ┆            ┆ 00:00:00   ┆ 00:00:00   ┆            │\n",
       "│ 157028922  ┆ VOLKSWAGEN ┆ PASSAT ┆ DI        ┆ 1896       ┆ 2000-04-27 ┆ 2012-11-27 ┆ 149945     │\n",
       "│            ┆            ┆        ┆           ┆            ┆ 00:00:00   ┆ 00:00:00   ┆            │\n",
       "│ 1175038834 ┆ VOLKSWAGEN ┆ PASSAT ┆ DI        ┆ 1896       ┆ 2005-12-22 ┆ 2022-02-24 ┆ 138145     │\n",
       "│            ┆            ┆        ┆           ┆            ┆ 00:00:00   ┆ 00:00:00   ┆            │\n",
       "│ 69213878   ┆ VOLKSWAGEN ┆ PASSAT ┆ DI        ┆ 1968       ┆ 2006-07-19 ┆ 2021-03-23 ┆ 165599     │\n",
       "│            ┆            ┆        ┆           ┆            ┆ 00:00:00   ┆ 00:00:00   ┆            │\n",
       "│ 1181212178 ┆ VOLKSWAGEN ┆ PASSAT ┆ PE        ┆ 1781       ┆ 1998-03-30 ┆ 2020-05-26 ┆ 92455      │\n",
       "│            ┆            ┆        ┆           ┆            ┆ 00:00:00   ┆ 00:00:00   ┆            │\n",
       "└────────────┴────────────┴────────┴───────────┴────────────┴────────────┴────────────┴────────────┘"
      ]
     },
     "execution_count": 11,
     "metadata": {},
     "output_type": "execute_result"
    }
   ],
   "source": [
    "edf.head()"
   ]
  },
  {
   "cell_type": "code",
   "execution_count": 12,
   "id": "43e3ace3-0ffa-4570-90fa-17369fd9d0c8",
   "metadata": {
    "execution": {
     "iopub.execute_input": "2023-12-01T20:49:26.148889Z",
     "iopub.status.busy": "2023-12-01T20:49:26.148793Z",
     "iopub.status.idle": "2023-12-01T20:49:26.153409Z",
     "shell.execute_reply": "2023-12-01T20:49:26.153159Z",
     "shell.execute_reply.started": "2023-12-01T20:49:26.148879Z"
    }
   },
   "outputs": [
    {
     "data": {
      "text/plain": [
       "OrderedDict([('vehicle_id', Int64),\n",
       "             ('make', Utf8),\n",
       "             ('model', Utf8),\n",
       "             ('fuel_type', Utf8),\n",
       "             ('cylinder_capacity', Int64),\n",
       "             ('first_use_date', Datetime(time_unit='us', time_zone=None)),\n",
       "             ('last_test_date', Datetime(time_unit='us', time_zone=None)),\n",
       "             ('last_known_mileage', Int64)])"
      ]
     },
     "execution_count": 12,
     "metadata": {},
     "output_type": "execute_result"
    }
   ],
   "source": [
    "ldf.schema"
   ]
  },
  {
   "cell_type": "code",
   "execution_count": 13,
   "id": "4ae4c587",
   "metadata": {
    "execution": {
     "iopub.execute_input": "2023-12-01T20:49:26.153835Z",
     "iopub.status.busy": "2023-12-01T20:49:26.153741Z",
     "iopub.status.idle": "2023-12-01T20:49:26.186183Z",
     "shell.execute_reply": "2023-12-01T20:49:26.185901Z",
     "shell.execute_reply.started": "2023-12-01T20:49:26.153826Z"
    }
   },
   "outputs": [
    {
     "data": {
      "text/html": [
       "<h4>NAIVE QUERY PLAN</h4><p>run <b>LazyFrame.show_graph()</b> to see the optimized version</p><?xml version=\"1.0\" encoding=\"UTF-8\" standalone=\"no\"?>\n",
       "<!DOCTYPE svg PUBLIC \"-//W3C//DTD SVG 1.1//EN\"\n",
       " \"http://www.w3.org/Graphics/SVG/1.1/DTD/svg11.dtd\">\n",
       "<!-- Generated by graphviz version 2.43.0 (0)\n",
       " -->\n",
       "<!-- Title: polars_query Pages: 1 -->\n",
       "<svg width=\"1623pt\" height=\"366pt\"\n",
       " viewBox=\"0.00 0.00 1623.00 366.00\" xmlns=\"http://www.w3.org/2000/svg\" xmlns:xlink=\"http://www.w3.org/1999/xlink\">\n",
       "<g id=\"graph0\" class=\"graph\" transform=\"scale(1 1) rotate(0) translate(4 362)\">\n",
       "<title>polars_query</title>\n",
       "<polygon fill=\"white\" stroke=\"transparent\" points=\"-4,4 -4,-362 1619,-362 1619,4 -4,4\"/>\n",
       "<!-- WITH COLUMNS [&quot;lifetime&quot;] [(0, 0)] -->\n",
       "<g id=\"node1\" class=\"node\">\n",
       "<title>WITH COLUMNS [&quot;lifetime&quot;] [(0, 0)]</title>\n",
       "<polygon fill=\"none\" stroke=\"black\" points=\"919,-358 696,-358 696,-322 919,-322 919,-358\"/>\n",
       "<text text-anchor=\"middle\" x=\"807.5\" y=\"-336.3\" font-family=\"Times,serif\" font-size=\"14.00\">WITH COLUMNS [&quot;lifetime&quot;]</text>\n",
       "</g>\n",
       "<!-- AGG [col(&quot;make&quot;).last(), col(&quot;model&quot;).last(), col(&quot;fuel_type&quot;).last(), col(&quot;cylinder_capacity&quot;).last(), col(&quot;first_use_date&quot;).last(), col(&quot;test_date&quot;).max().alias(&quot;last_test_date&quot;), col(&quot;test_mileage&quot;).max().alias(&quot;last_known_mileage&quot;)]\n",
       "BY\n",
       "[col(&quot;vehicle_id&quot;)] [(0, 1)] [(0, 1)] -->\n",
       "<g id=\"node2\" class=\"node\">\n",
       "<title>AGG [col(&quot;make&quot;).last(), col(&quot;model&quot;).last(), col(&quot;fuel_type&quot;).last(), col(&quot;cylinder_capacity&quot;).last(), col(&quot;first_use_date&quot;).last(), col(&quot;test_date&quot;).max().alias(&quot;last_test_date&quot;), col(&quot;test_mileage&quot;).max().alias(&quot;last_known_mileage&quot;)]\n",
       "BY\n",
       "[col(&quot;vehicle_id&quot;)] [(0, 1)] [(0, 1)]</title>\n",
       "<polygon fill=\"none\" stroke=\"black\" points=\"1615,-286 0,-286 0,-233 1615,-233 1615,-286\"/>\n",
       "<text text-anchor=\"middle\" x=\"807.5\" y=\"-270.8\" font-family=\"Times,serif\" font-size=\"14.00\">AGG [col(&quot;make&quot;).last(), col(&quot;model&quot;).last(), col(&quot;fuel_type&quot;).last(), col(&quot;cylinder_capacity&quot;).last(), col(&quot;first_use_date&quot;).last(), col(&quot;test_date&quot;).max().alias(&quot;last_test_date&quot;), col(&quot;test_mileage&quot;).max().alias(&quot;last_known_mileage&quot;)]</text>\n",
       "<text text-anchor=\"middle\" x=\"807.5\" y=\"-255.8\" font-family=\"Times,serif\" font-size=\"14.00\">BY</text>\n",
       "<text text-anchor=\"middle\" x=\"807.5\" y=\"-240.8\" font-family=\"Times,serif\" font-size=\"14.00\">[col(&quot;vehicle_id&quot;)] [(0, 1)]</text>\n",
       "</g>\n",
       "<!-- WITH COLUMNS [&quot;lifetime&quot;] [(0, 0)]&#45;&#45;AGG [col(&quot;make&quot;).last(), col(&quot;model&quot;).last(), col(&quot;fuel_type&quot;).last(), col(&quot;cylinder_capacity&quot;).last(), col(&quot;first_use_date&quot;).last(), col(&quot;test_date&quot;).max().alias(&quot;last_test_date&quot;), col(&quot;test_mileage&quot;).max().alias(&quot;last_known_mileage&quot;)]\n",
       "BY\n",
       "[col(&quot;vehicle_id&quot;)] [(0, 1)] [(0, 1)] -->\n",
       "<g id=\"edge1\" class=\"edge\">\n",
       "<title>WITH COLUMNS [&quot;lifetime&quot;] [(0, 0)]&#45;&#45;AGG [col(&quot;make&quot;).last(), col(&quot;model&quot;).last(), col(&quot;fuel_type&quot;).last(), col(&quot;cylinder_capacity&quot;).last(), col(&quot;first_use_date&quot;).last(), col(&quot;test_date&quot;).max().alias(&quot;last_test_date&quot;), col(&quot;test_mileage&quot;).max().alias(&quot;last_known_mileage&quot;)]\n",
       "BY\n",
       "[col(&quot;vehicle_id&quot;)] [(0, 1)] [(0, 1)]</title>\n",
       "<path fill=\"none\" stroke=\"black\" d=\"M807.5,-321.97C807.5,-311.51 807.5,-297.9 807.5,-286.16\"/>\n",
       "</g>\n",
       "<!-- FILTER BY col(&quot;model&quot;).is_in(Series... [(0, 2)] -->\n",
       "<g id=\"node3\" class=\"node\">\n",
       "<title>FILTER BY col(&quot;model&quot;).is_in(Series... [(0, 2)]</title>\n",
       "<polygon fill=\"none\" stroke=\"black\" points=\"950.5,-197 664.5,-197 664.5,-161 950.5,-161 950.5,-197\"/>\n",
       "<text text-anchor=\"middle\" x=\"807.5\" y=\"-175.3\" font-family=\"Times,serif\" font-size=\"14.00\">FILTER BY col(&quot;model&quot;).is_in(Series...</text>\n",
       "</g>\n",
       "<!-- AGG [col(&quot;make&quot;).last(), col(&quot;model&quot;).last(), col(&quot;fuel_type&quot;).last(), col(&quot;cylinder_capacity&quot;).last(), col(&quot;first_use_date&quot;).last(), col(&quot;test_date&quot;).max().alias(&quot;last_test_date&quot;), col(&quot;test_mileage&quot;).max().alias(&quot;last_known_mileage&quot;)]\n",
       "BY\n",
       "[col(&quot;vehicle_id&quot;)] [(0, 1)] [(0, 1)]&#45;&#45;FILTER BY col(&quot;model&quot;).is_in(Series... [(0, 2)] -->\n",
       "<g id=\"edge2\" class=\"edge\">\n",
       "<title>AGG [col(&quot;make&quot;).last(), col(&quot;model&quot;).last(), col(&quot;fuel_type&quot;).last(), col(&quot;cylinder_capacity&quot;).last(), col(&quot;first_use_date&quot;).last(), col(&quot;test_date&quot;).max().alias(&quot;last_test_date&quot;), col(&quot;test_mileage&quot;).max().alias(&quot;last_known_mileage&quot;)]\n",
       "BY\n",
       "[col(&quot;vehicle_id&quot;)] [(0, 1)] [(0, 1)]&#45;&#45;FILTER BY col(&quot;model&quot;).is_in(Series... [(0, 2)]</title>\n",
       "<path fill=\"none\" stroke=\"black\" d=\"M807.5,-232.8C807.5,-221.17 807.5,-207.74 807.5,-197.33\"/>\n",
       "</g>\n",
       "<!-- FILTER BY col(&quot;make&quot;).is_in(Series) [(0, 3)] -->\n",
       "<g id=\"node4\" class=\"node\">\n",
       "<title>FILTER BY col(&quot;make&quot;).is_in(Series) [(0, 3)]</title>\n",
       "<polygon fill=\"none\" stroke=\"black\" points=\"943.5,-125 671.5,-125 671.5,-89 943.5,-89 943.5,-125\"/>\n",
       "<text text-anchor=\"middle\" x=\"807.5\" y=\"-103.3\" font-family=\"Times,serif\" font-size=\"14.00\">FILTER BY col(&quot;make&quot;).is_in(Series)</text>\n",
       "</g>\n",
       "<!-- FILTER BY col(&quot;model&quot;).is_in(Series... [(0, 2)]&#45;&#45;FILTER BY col(&quot;make&quot;).is_in(Series) [(0, 3)] -->\n",
       "<g id=\"edge3\" class=\"edge\">\n",
       "<title>FILTER BY col(&quot;model&quot;).is_in(Series... [(0, 2)]&#45;&#45;FILTER BY col(&quot;make&quot;).is_in(Series) [(0, 3)]</title>\n",
       "<path fill=\"none\" stroke=\"black\" d=\"M807.5,-160.7C807.5,-149.85 807.5,-135.92 807.5,-125.1\"/>\n",
       "</g>\n",
       "<!-- Parquet SCAN 854 files: first file: ../../test_result.parquet/part.0.parquet;\n",
       "π */14;\n",
       "σ &#45; [(0, 4)] -->\n",
       "<g id=\"node5\" class=\"node\">\n",
       "<title>Parquet SCAN 854 files: first file: ../../test_result.parquet/part.0.parquet;\n",
       "π */14;\n",
       "σ &#45; [(0, 4)]</title>\n",
       "<polygon fill=\"none\" stroke=\"black\" points=\"1075.5,-53 539.5,-53 539.5,0 1075.5,0 1075.5,-53\"/>\n",
       "<text text-anchor=\"middle\" x=\"807.5\" y=\"-37.8\" font-family=\"Times,serif\" font-size=\"14.00\">Parquet SCAN 854 files: first file: ../../test_result.parquet/part.0.parquet;</text>\n",
       "<text text-anchor=\"middle\" x=\"807.5\" y=\"-22.8\" font-family=\"Times,serif\" font-size=\"14.00\">π */14;</text>\n",
       "<text text-anchor=\"middle\" x=\"807.5\" y=\"-7.8\" font-family=\"Times,serif\" font-size=\"14.00\">σ &#45;</text>\n",
       "</g>\n",
       "<!-- FILTER BY col(&quot;make&quot;).is_in(Series) [(0, 3)]&#45;&#45;Parquet SCAN 854 files: first file: ../../test_result.parquet/part.0.parquet;\n",
       "π */14;\n",
       "σ &#45; [(0, 4)] -->\n",
       "<g id=\"edge4\" class=\"edge\">\n",
       "<title>FILTER BY col(&quot;make&quot;).is_in(Series) [(0, 3)]&#45;&#45;Parquet SCAN 854 files: first file: ../../test_result.parquet/part.0.parquet;\n",
       "π */14;\n",
       "σ &#45; [(0, 4)]</title>\n",
       "<path fill=\"none\" stroke=\"black\" d=\"M807.5,-88.97C807.5,-78.51 807.5,-64.9 807.5,-53.16\"/>\n",
       "</g>\n",
       "</g>\n",
       "</svg>\n"
      ],
      "text/plain": [
       "<LazyFrame [9 cols, {\"vehicle_id\": Int64 … \"lifetime\": Duration(time_unit='us')}] at 0x7FEC0810B590>"
      ]
     },
     "execution_count": 13,
     "metadata": {},
     "output_type": "execute_result"
    }
   ],
   "source": [
    "#ldf.with_columns(('lifetime', pl.col('last_test_date') - pl.col('first_use_date')))\n",
    "ldf.with_columns((pl.col('last_test_date') - pl.col('first_use_date')).alias('lifetime'))"
   ]
  },
  {
   "cell_type": "code",
   "execution_count": 14,
   "id": "17e726a1",
   "metadata": {
    "execution": {
     "iopub.execute_input": "2023-12-01T20:49:26.186833Z",
     "iopub.status.busy": "2023-12-01T20:49:26.186607Z",
     "iopub.status.idle": "2023-12-01T20:49:36.200290Z",
     "shell.execute_reply": "2023-12-01T20:49:36.199985Z",
     "shell.execute_reply.started": "2023-12-01T20:49:26.186818Z"
    }
   },
   "outputs": [
    {
     "name": "stdout",
     "output_type": "stream",
     "text": [
      "CPU times: user 1min 30s, sys: 17.2 s, total: 1min 47s\n",
      "Wall time: 10 s\n"
     ]
    }
   ],
   "source": [
    "%%time\n",
    "edf = ldf.collect()"
   ]
  },
  {
   "cell_type": "code",
   "execution_count": 15,
   "id": "338db0c8-6ff0-4e91-a4e2-26bd1358c1a4",
   "metadata": {
    "execution": {
     "iopub.execute_input": "2023-12-01T20:49:36.200780Z",
     "iopub.status.busy": "2023-12-01T20:49:36.200678Z",
     "iopub.status.idle": "2023-12-01T20:49:36.203328Z",
     "shell.execute_reply": "2023-12-01T20:49:36.203079Z",
     "shell.execute_reply.started": "2023-12-01T20:49:36.200770Z"
    }
   },
   "outputs": [
    {
     "data": {
      "text/plain": [
       "OrderedDict([('vehicle_id', Int64),\n",
       "             ('make', Utf8),\n",
       "             ('model', Utf8),\n",
       "             ('fuel_type', Utf8),\n",
       "             ('cylinder_capacity', Int64),\n",
       "             ('first_use_date', Datetime(time_unit='us', time_zone=None)),\n",
       "             ('last_test_date', Datetime(time_unit='us', time_zone=None)),\n",
       "             ('last_known_mileage', Int64)])"
      ]
     },
     "execution_count": 15,
     "metadata": {},
     "output_type": "execute_result"
    }
   ],
   "source": [
    "edf.schema"
   ]
  },
  {
   "cell_type": "code",
   "execution_count": 16,
   "id": "bbb8ae44",
   "metadata": {
    "execution": {
     "iopub.execute_input": "2023-12-01T20:49:36.203759Z",
     "iopub.status.busy": "2023-12-01T20:49:36.203665Z",
     "iopub.status.idle": "2023-12-01T20:49:36.220103Z",
     "shell.execute_reply": "2023-12-01T20:49:36.219747Z",
     "shell.execute_reply.started": "2023-12-01T20:49:36.203750Z"
    }
   },
   "outputs": [
    {
     "data": {
      "text/html": [
       "<div><style>\n",
       ".dataframe > thead > tr,\n",
       ".dataframe > tbody > tr {\n",
       "  text-align: right;\n",
       "  white-space: pre-wrap;\n",
       "}\n",
       "</style>\n",
       "<small>shape: (604_023, 9)</small><table border=\"1\" class=\"dataframe\"><thead><tr><th>vehicle_id</th><th>make</th><th>model</th><th>fuel_type</th><th>cylinder_capacity</th><th>first_use_date</th><th>last_test_date</th><th>last_known_mileage</th><th>lifetime</th></tr><tr><td>i64</td><td>str</td><td>str</td><td>str</td><td>i64</td><td>datetime[μs]</td><td>datetime[μs]</td><td>i64</td><td>duration[μs]</td></tr></thead><tbody><tr><td>66804506</td><td>&quot;VOLKSWAGEN&quot;</td><td>&quot;PASSAT&quot;</td><td>&quot;DI&quot;</td><td>1598</td><td>2012-04-13 00:00:00</td><td>2021-11-25 00:00:00</td><td>186560</td><td>3513d</td></tr><tr><td>216527137</td><td>&quot;VOLKSWAGEN&quot;</td><td>&quot;PASSAT&quot;</td><td>&quot;DI&quot;</td><td>1598</td><td>2017-03-03 00:00:00</td><td>2022-03-02 00:00:00</td><td>67325</td><td>1825d</td></tr><tr><td>382735286</td><td>&quot;VOLKSWAGEN&quot;</td><td>&quot;PASSAT&quot;</td><td>&quot;PE&quot;</td><td>1781</td><td>2010-01-27 00:00:00</td><td>2022-11-30 00:00:00</td><td>101877</td><td>4690d</td></tr><tr><td>983910</td><td>&quot;VOLKSWAGEN&quot;</td><td>&quot;PASSAT&quot;</td><td>&quot;PE&quot;</td><td>1781</td><td>1999-09-01 00:00:00</td><td>2008-06-03 00:00:00</td><td>107476</td><td>3198d</td></tr><tr><td>541377516</td><td>&quot;VOLKSWAGEN&quot;</td><td>&quot;PASSAT&quot;</td><td>&quot;DI&quot;</td><td>1896</td><td>2007-03-12 00:00:00</td><td>2022-12-12 00:00:00</td><td>191929</td><td>5754d</td></tr><tr><td>697189880</td><td>&quot;VOLKSWAGEN&quot;</td><td>&quot;PASSAT&quot;</td><td>&quot;DI&quot;</td><td>1598</td><td>2011-06-14 00:00:00</td><td>2019-06-19 00:00:00</td><td>91255</td><td>2927d</td></tr><tr><td>907197986</td><td>&quot;VOLKSWAGEN&quot;</td><td>&quot;PASSAT&quot;</td><td>&quot;DI&quot;</td><td>1896</td><td>2002-05-30 00:00:00</td><td>2019-02-21 00:00:00</td><td>213248</td><td>6111d</td></tr><tr><td>656357932</td><td>&quot;VOLKSWAGEN&quot;</td><td>&quot;PASSAT&quot;</td><td>&quot;DI&quot;</td><td>1896</td><td>2003-09-01 00:00:00</td><td>2020-09-17 00:00:00</td><td>129908</td><td>6226d</td></tr><tr><td>1414871562</td><td>&quot;VOLKSWAGEN&quot;</td><td>&quot;PASSAT&quot;</td><td>&quot;DI&quot;</td><td>1968</td><td>2010-09-01 00:00:00</td><td>2022-03-09 00:00:00</td><td>169937</td><td>4207d</td></tr><tr><td>40924333</td><td>&quot;VOLKSWAGEN&quot;</td><td>&quot;PASSAT&quot;</td><td>&quot;DI&quot;</td><td>1968</td><td>2018-06-30 00:00:00</td><td>2022-06-30 00:00:00</td><td>57696</td><td>1461d</td></tr><tr><td>1366530609</td><td>&quot;VOLKSWAGEN&quot;</td><td>&quot;PASSAT&quot;</td><td>&quot;DI&quot;</td><td>1968</td><td>2014-03-27 00:00:00</td><td>2022-08-08 00:00:00</td><td>134280</td><td>3056d</td></tr><tr><td>787104530</td><td>&quot;VOLKSWAGEN&quot;</td><td>&quot;PASSAT&quot;</td><td>&quot;DI&quot;</td><td>1896</td><td>2001-03-03 00:00:00</td><td>2012-05-14 00:00:00</td><td>155651</td><td>4090d</td></tr><tr><td>&hellip;</td><td>&hellip;</td><td>&hellip;</td><td>&hellip;</td><td>&hellip;</td><td>&hellip;</td><td>&hellip;</td><td>&hellip;</td><td>&hellip;</td></tr><tr><td>251336168</td><td>&quot;VOLVO&quot;</td><td>&quot;V50&quot;</td><td>&quot;DI&quot;</td><td>1997</td><td>2008-12-22 00:00:00</td><td>2018-01-19 00:00:00</td><td>137534</td><td>3315d</td></tr><tr><td>1480781271</td><td>&quot;VOLKSWAGEN&quot;</td><td>&quot;PASSAT&quot;</td><td>&quot;DI&quot;</td><td>1968</td><td>2012-09-13 00:00:00</td><td>2022-09-14 00:00:00</td><td>108438</td><td>3653d</td></tr><tr><td>919484872</td><td>&quot;VOLKSWAGEN&quot;</td><td>&quot;PASSAT&quot;</td><td>&quot;DI&quot;</td><td>1896</td><td>2005-10-14 00:00:00</td><td>2021-01-04 00:00:00</td><td>192238</td><td>5561d</td></tr><tr><td>392561004</td><td>&quot;VOLKSWAGEN&quot;</td><td>&quot;PASSAT&quot;</td><td>&quot;DI&quot;</td><td>1968</td><td>2006-09-21 00:00:00</td><td>2019-12-04 00:00:00</td><td>136005</td><td>4822d</td></tr><tr><td>218763713</td><td>&quot;VOLKSWAGEN&quot;</td><td>&quot;PASSAT&quot;</td><td>&quot;DI&quot;</td><td>1598</td><td>2015-05-01 00:00:00</td><td>2022-12-05 00:00:00</td><td>35039</td><td>2775d</td></tr><tr><td>999153932</td><td>&quot;VOLKSWAGEN&quot;</td><td>&quot;PASSAT&quot;</td><td>&quot;DI&quot;</td><td>1968</td><td>2012-06-29 00:00:00</td><td>2020-07-10 00:00:00</td><td>148172</td><td>2933d</td></tr><tr><td>316082446</td><td>&quot;VOLVO&quot;</td><td>&quot;V50&quot;</td><td>&quot;DI&quot;</td><td>1997</td><td>2008-07-22 00:00:00</td><td>2022-09-12 00:00:00</td><td>104942</td><td>5165d</td></tr><tr><td>508108498</td><td>&quot;VOLKSWAGEN&quot;</td><td>&quot;PASSAT&quot;</td><td>&quot;PE&quot;</td><td>1968</td><td>2007-06-27 00:00:00</td><td>2020-01-08 00:00:00</td><td>149397</td><td>4578d</td></tr><tr><td>848858620</td><td>&quot;VOLKSWAGEN&quot;</td><td>&quot;PASSAT&quot;</td><td>&quot;DI&quot;</td><td>1896</td><td>2000-08-01 00:00:00</td><td>2008-09-02 00:00:00</td><td>80072</td><td>2954d</td></tr><tr><td>430633058</td><td>&quot;VOLKSWAGEN&quot;</td><td>&quot;PASSAT&quot;</td><td>&quot;DI&quot;</td><td>1896</td><td>2004-09-28 00:00:00</td><td>2022-08-02 00:00:00</td><td>189702</td><td>6517d</td></tr><tr><td>1205412914</td><td>&quot;VOLKSWAGEN&quot;</td><td>&quot;PASSAT&quot;</td><td>&quot;DI&quot;</td><td>1896</td><td>2005-05-05 00:00:00</td><td>2020-11-10 00:00:00</td><td>140150</td><td>5668d</td></tr><tr><td>1244694026</td><td>&quot;VOLKSWAGEN&quot;</td><td>&quot;PASSAT&quot;</td><td>&quot;PE&quot;</td><td>1800</td><td>1999-12-02 00:00:00</td><td>2013-03-15 00:00:00</td><td>167471</td><td>4852d</td></tr></tbody></table></div>"
      ],
      "text/plain": [
       "shape: (604_023, 9)\n",
       "┌────────────┬────────────┬────────┬───────────┬───┬───────────┬───────────┬───────────┬───────────┐\n",
       "│ vehicle_id ┆ make       ┆ model  ┆ fuel_type ┆ … ┆ first_use ┆ last_test ┆ last_know ┆ lifetime  │\n",
       "│ ---        ┆ ---        ┆ ---    ┆ ---       ┆   ┆ _date     ┆ _date     ┆ n_mileage ┆ ---       │\n",
       "│ i64        ┆ str        ┆ str    ┆ str       ┆   ┆ ---       ┆ ---       ┆ ---       ┆ duration[ │\n",
       "│            ┆            ┆        ┆           ┆   ┆ datetime[ ┆ datetime[ ┆ i64       ┆ μs]       │\n",
       "│            ┆            ┆        ┆           ┆   ┆ μs]       ┆ μs]       ┆           ┆           │\n",
       "╞════════════╪════════════╪════════╪═══════════╪═══╪═══════════╪═══════════╪═══════════╪═══════════╡\n",
       "│ 66804506   ┆ VOLKSWAGEN ┆ PASSAT ┆ DI        ┆ … ┆ 2012-04-1 ┆ 2021-11-2 ┆ 186560    ┆ 3513d     │\n",
       "│            ┆            ┆        ┆           ┆   ┆ 3         ┆ 5         ┆           ┆           │\n",
       "│            ┆            ┆        ┆           ┆   ┆ 00:00:00  ┆ 00:00:00  ┆           ┆           │\n",
       "│ 216527137  ┆ VOLKSWAGEN ┆ PASSAT ┆ DI        ┆ … ┆ 2017-03-0 ┆ 2022-03-0 ┆ 67325     ┆ 1825d     │\n",
       "│            ┆            ┆        ┆           ┆   ┆ 3         ┆ 2         ┆           ┆           │\n",
       "│            ┆            ┆        ┆           ┆   ┆ 00:00:00  ┆ 00:00:00  ┆           ┆           │\n",
       "│ 382735286  ┆ VOLKSWAGEN ┆ PASSAT ┆ PE        ┆ … ┆ 2010-01-2 ┆ 2022-11-3 ┆ 101877    ┆ 4690d     │\n",
       "│            ┆            ┆        ┆           ┆   ┆ 7         ┆ 0         ┆           ┆           │\n",
       "│            ┆            ┆        ┆           ┆   ┆ 00:00:00  ┆ 00:00:00  ┆           ┆           │\n",
       "│ 983910     ┆ VOLKSWAGEN ┆ PASSAT ┆ PE        ┆ … ┆ 1999-09-0 ┆ 2008-06-0 ┆ 107476    ┆ 3198d     │\n",
       "│            ┆            ┆        ┆           ┆   ┆ 1         ┆ 3         ┆           ┆           │\n",
       "│            ┆            ┆        ┆           ┆   ┆ 00:00:00  ┆ 00:00:00  ┆           ┆           │\n",
       "│ …          ┆ …          ┆ …      ┆ …         ┆ … ┆ …         ┆ …         ┆ …         ┆ …         │\n",
       "│ 848858620  ┆ VOLKSWAGEN ┆ PASSAT ┆ DI        ┆ … ┆ 2000-08-0 ┆ 2008-09-0 ┆ 80072     ┆ 2954d     │\n",
       "│            ┆            ┆        ┆           ┆   ┆ 1         ┆ 2         ┆           ┆           │\n",
       "│            ┆            ┆        ┆           ┆   ┆ 00:00:00  ┆ 00:00:00  ┆           ┆           │\n",
       "│ 430633058  ┆ VOLKSWAGEN ┆ PASSAT ┆ DI        ┆ … ┆ 2004-09-2 ┆ 2022-08-0 ┆ 189702    ┆ 6517d     │\n",
       "│            ┆            ┆        ┆           ┆   ┆ 8         ┆ 2         ┆           ┆           │\n",
       "│            ┆            ┆        ┆           ┆   ┆ 00:00:00  ┆ 00:00:00  ┆           ┆           │\n",
       "│ 1205412914 ┆ VOLKSWAGEN ┆ PASSAT ┆ DI        ┆ … ┆ 2005-05-0 ┆ 2020-11-1 ┆ 140150    ┆ 5668d     │\n",
       "│            ┆            ┆        ┆           ┆   ┆ 5         ┆ 0         ┆           ┆           │\n",
       "│            ┆            ┆        ┆           ┆   ┆ 00:00:00  ┆ 00:00:00  ┆           ┆           │\n",
       "│ 1244694026 ┆ VOLKSWAGEN ┆ PASSAT ┆ PE        ┆ … ┆ 1999-12-0 ┆ 2013-03-1 ┆ 167471    ┆ 4852d     │\n",
       "│            ┆            ┆        ┆           ┆   ┆ 2         ┆ 5         ┆           ┆           │\n",
       "│            ┆            ┆        ┆           ┆   ┆ 00:00:00  ┆ 00:00:00  ┆           ┆           │\n",
       "└────────────┴────────────┴────────┴───────────┴───┴───────────┴───────────┴───────────┴───────────┘"
      ]
     },
     "execution_count": 16,
     "metadata": {},
     "output_type": "execute_result"
    }
   ],
   "source": [
    "edf.with_columns((pl.col('last_test_date') - pl.col('first_use_date')).alias('lifetime'))"
   ]
  },
  {
   "cell_type": "code",
   "execution_count": 17,
   "id": "a6965e88-f189-418e-a2ed-096871d0fcd3",
   "metadata": {
    "execution": {
     "iopub.execute_input": "2023-12-01T20:49:36.220669Z",
     "iopub.status.busy": "2023-12-01T20:49:36.220564Z",
     "iopub.status.idle": "2023-12-01T20:49:36.262722Z",
     "shell.execute_reply": "2023-12-01T20:49:36.262289Z",
     "shell.execute_reply.started": "2023-12-01T20:49:36.220658Z"
    }
   },
   "outputs": [],
   "source": [
    "vehicle_summary_pdf = (\n",
    "    edf\n",
    "    .with_columns((pl.col('last_test_date') - pl.col('first_use_date')).alias('lifetime'))\n",
    "    .to_pandas()\n",
    ")\n",
    "\n",
    "vehicle_summary_pdf['lifetime'] = vehicle_summary_pdf.lifetime.dt.days / 365"
   ]
  },
  {
   "cell_type": "code",
   "execution_count": 18,
   "id": "e92b27d5-38cc-4f17-b059-9cfeb4bedbc6",
   "metadata": {
    "execution": {
     "iopub.execute_input": "2023-12-01T20:49:36.263439Z",
     "iopub.status.busy": "2023-12-01T20:49:36.263147Z",
     "iopub.status.idle": "2023-12-01T20:49:36.304218Z",
     "shell.execute_reply": "2023-12-01T20:49:36.303958Z",
     "shell.execute_reply.started": "2023-12-01T20:49:36.263427Z"
    }
   },
   "outputs": [
    {
     "data": {
      "text/html": [
       "<div>\n",
       "<style scoped>\n",
       "    .dataframe tbody tr th:only-of-type {\n",
       "        vertical-align: middle;\n",
       "    }\n",
       "\n",
       "    .dataframe tbody tr th {\n",
       "        vertical-align: top;\n",
       "    }\n",
       "\n",
       "    .dataframe thead th {\n",
       "        text-align: right;\n",
       "    }\n",
       "</style>\n",
       "<table border=\"1\" class=\"dataframe\">\n",
       "  <thead>\n",
       "    <tr style=\"text-align: right;\">\n",
       "      <th></th>\n",
       "      <th>vehicle_id</th>\n",
       "      <th>make</th>\n",
       "      <th>model</th>\n",
       "      <th>fuel_type</th>\n",
       "      <th>cylinder_capacity</th>\n",
       "      <th>first_use_date</th>\n",
       "      <th>last_test_date</th>\n",
       "      <th>last_known_mileage</th>\n",
       "      <th>lifetime</th>\n",
       "      <th>surviving</th>\n",
       "      <th>surviving_colour</th>\n",
       "      <th>fuel_colour</th>\n",
       "    </tr>\n",
       "  </thead>\n",
       "  <tbody>\n",
       "    <tr>\n",
       "      <th>0</th>\n",
       "      <td>66804506</td>\n",
       "      <td>VOLKSWAGEN</td>\n",
       "      <td>PASSAT</td>\n",
       "      <td>DI</td>\n",
       "      <td>1598.0</td>\n",
       "      <td>2012-04-13</td>\n",
       "      <td>2021-11-25</td>\n",
       "      <td>186560.0</td>\n",
       "      <td>9.624658</td>\n",
       "      <td>False</td>\n",
       "      <td>red</td>\n",
       "      <td>black</td>\n",
       "    </tr>\n",
       "    <tr>\n",
       "      <th>1</th>\n",
       "      <td>216527137</td>\n",
       "      <td>VOLKSWAGEN</td>\n",
       "      <td>PASSAT</td>\n",
       "      <td>DI</td>\n",
       "      <td>1598.0</td>\n",
       "      <td>2017-03-03</td>\n",
       "      <td>2022-03-02</td>\n",
       "      <td>67325.0</td>\n",
       "      <td>5.000000</td>\n",
       "      <td>True</td>\n",
       "      <td>blue</td>\n",
       "      <td>black</td>\n",
       "    </tr>\n",
       "    <tr>\n",
       "      <th>2</th>\n",
       "      <td>382735286</td>\n",
       "      <td>VOLKSWAGEN</td>\n",
       "      <td>PASSAT</td>\n",
       "      <td>PE</td>\n",
       "      <td>1781.0</td>\n",
       "      <td>2010-01-27</td>\n",
       "      <td>2022-11-30</td>\n",
       "      <td>101877.0</td>\n",
       "      <td>12.849315</td>\n",
       "      <td>True</td>\n",
       "      <td>blue</td>\n",
       "      <td>blue</td>\n",
       "    </tr>\n",
       "    <tr>\n",
       "      <th>3</th>\n",
       "      <td>983910</td>\n",
       "      <td>VOLKSWAGEN</td>\n",
       "      <td>PASSAT</td>\n",
       "      <td>PE</td>\n",
       "      <td>1781.0</td>\n",
       "      <td>1999-09-01</td>\n",
       "      <td>2008-06-03</td>\n",
       "      <td>107476.0</td>\n",
       "      <td>8.761644</td>\n",
       "      <td>False</td>\n",
       "      <td>red</td>\n",
       "      <td>blue</td>\n",
       "    </tr>\n",
       "    <tr>\n",
       "      <th>4</th>\n",
       "      <td>541377516</td>\n",
       "      <td>VOLKSWAGEN</td>\n",
       "      <td>PASSAT</td>\n",
       "      <td>DI</td>\n",
       "      <td>1896.0</td>\n",
       "      <td>2007-03-12</td>\n",
       "      <td>2022-12-12</td>\n",
       "      <td>191929.0</td>\n",
       "      <td>15.764384</td>\n",
       "      <td>True</td>\n",
       "      <td>blue</td>\n",
       "      <td>black</td>\n",
       "    </tr>\n",
       "    <tr>\n",
       "      <th>...</th>\n",
       "      <td>...</td>\n",
       "      <td>...</td>\n",
       "      <td>...</td>\n",
       "      <td>...</td>\n",
       "      <td>...</td>\n",
       "      <td>...</td>\n",
       "      <td>...</td>\n",
       "      <td>...</td>\n",
       "      <td>...</td>\n",
       "      <td>...</td>\n",
       "      <td>...</td>\n",
       "      <td>...</td>\n",
       "    </tr>\n",
       "    <tr>\n",
       "      <th>604018</th>\n",
       "      <td>508108498</td>\n",
       "      <td>VOLKSWAGEN</td>\n",
       "      <td>PASSAT</td>\n",
       "      <td>PE</td>\n",
       "      <td>1968.0</td>\n",
       "      <td>2007-06-27</td>\n",
       "      <td>2020-01-08</td>\n",
       "      <td>149397.0</td>\n",
       "      <td>12.542466</td>\n",
       "      <td>False</td>\n",
       "      <td>red</td>\n",
       "      <td>blue</td>\n",
       "    </tr>\n",
       "    <tr>\n",
       "      <th>604019</th>\n",
       "      <td>848858620</td>\n",
       "      <td>VOLKSWAGEN</td>\n",
       "      <td>PASSAT</td>\n",
       "      <td>DI</td>\n",
       "      <td>1896.0</td>\n",
       "      <td>2000-08-01</td>\n",
       "      <td>2008-09-02</td>\n",
       "      <td>80072.0</td>\n",
       "      <td>8.093151</td>\n",
       "      <td>False</td>\n",
       "      <td>red</td>\n",
       "      <td>black</td>\n",
       "    </tr>\n",
       "    <tr>\n",
       "      <th>604020</th>\n",
       "      <td>430633058</td>\n",
       "      <td>VOLKSWAGEN</td>\n",
       "      <td>PASSAT</td>\n",
       "      <td>DI</td>\n",
       "      <td>1896.0</td>\n",
       "      <td>2004-09-28</td>\n",
       "      <td>2022-08-02</td>\n",
       "      <td>189702.0</td>\n",
       "      <td>17.854795</td>\n",
       "      <td>True</td>\n",
       "      <td>blue</td>\n",
       "      <td>black</td>\n",
       "    </tr>\n",
       "    <tr>\n",
       "      <th>604021</th>\n",
       "      <td>1205412914</td>\n",
       "      <td>VOLKSWAGEN</td>\n",
       "      <td>PASSAT</td>\n",
       "      <td>DI</td>\n",
       "      <td>1896.0</td>\n",
       "      <td>2005-05-05</td>\n",
       "      <td>2020-11-10</td>\n",
       "      <td>140150.0</td>\n",
       "      <td>15.528767</td>\n",
       "      <td>False</td>\n",
       "      <td>red</td>\n",
       "      <td>black</td>\n",
       "    </tr>\n",
       "    <tr>\n",
       "      <th>604022</th>\n",
       "      <td>1244694026</td>\n",
       "      <td>VOLKSWAGEN</td>\n",
       "      <td>PASSAT</td>\n",
       "      <td>PE</td>\n",
       "      <td>1800.0</td>\n",
       "      <td>1999-12-02</td>\n",
       "      <td>2013-03-15</td>\n",
       "      <td>167471.0</td>\n",
       "      <td>13.293151</td>\n",
       "      <td>False</td>\n",
       "      <td>red</td>\n",
       "      <td>blue</td>\n",
       "    </tr>\n",
       "  </tbody>\n",
       "</table>\n",
       "<p>604023 rows × 12 columns</p>\n",
       "</div>"
      ],
      "text/plain": [
       "        vehicle_id        make   model fuel_type  cylinder_capacity  \\\n",
       "0         66804506  VOLKSWAGEN  PASSAT        DI             1598.0   \n",
       "1        216527137  VOLKSWAGEN  PASSAT        DI             1598.0   \n",
       "2        382735286  VOLKSWAGEN  PASSAT        PE             1781.0   \n",
       "3           983910  VOLKSWAGEN  PASSAT        PE             1781.0   \n",
       "4        541377516  VOLKSWAGEN  PASSAT        DI             1896.0   \n",
       "...            ...         ...     ...       ...                ...   \n",
       "604018   508108498  VOLKSWAGEN  PASSAT        PE             1968.0   \n",
       "604019   848858620  VOLKSWAGEN  PASSAT        DI             1896.0   \n",
       "604020   430633058  VOLKSWAGEN  PASSAT        DI             1896.0   \n",
       "604021  1205412914  VOLKSWAGEN  PASSAT        DI             1896.0   \n",
       "604022  1244694026  VOLKSWAGEN  PASSAT        PE             1800.0   \n",
       "\n",
       "       first_use_date last_test_date  last_known_mileage   lifetime  \\\n",
       "0          2012-04-13     2021-11-25            186560.0   9.624658   \n",
       "1          2017-03-03     2022-03-02             67325.0   5.000000   \n",
       "2          2010-01-27     2022-11-30            101877.0  12.849315   \n",
       "3          1999-09-01     2008-06-03            107476.0   8.761644   \n",
       "4          2007-03-12     2022-12-12            191929.0  15.764384   \n",
       "...               ...            ...                 ...        ...   \n",
       "604018     2007-06-27     2020-01-08            149397.0  12.542466   \n",
       "604019     2000-08-01     2008-09-02             80072.0   8.093151   \n",
       "604020     2004-09-28     2022-08-02            189702.0  17.854795   \n",
       "604021     2005-05-05     2020-11-10            140150.0  15.528767   \n",
       "604022     1999-12-02     2013-03-15            167471.0  13.293151   \n",
       "\n",
       "        surviving surviving_colour fuel_colour  \n",
       "0           False              red       black  \n",
       "1            True             blue       black  \n",
       "2            True             blue        blue  \n",
       "3           False              red        blue  \n",
       "4            True             blue       black  \n",
       "...           ...              ...         ...  \n",
       "604018      False              red        blue  \n",
       "604019      False              red       black  \n",
       "604020       True             blue       black  \n",
       "604021      False              red       black  \n",
       "604022      False              red        blue  \n",
       "\n",
       "[604023 rows x 12 columns]"
      ]
     },
     "execution_count": 18,
     "metadata": {},
     "output_type": "execute_result"
    }
   ],
   "source": [
    "#vehicle_summary_pdf[\"test_date\"] = pd.to_datetime(vehicle_summary_pdf[\"test_date\"])\n",
    "#vehicle_summary_pdf[\"first_use_date\"] = pd.to_datetime(\n",
    "#    vehicle_summary_pdf[\"first_use_date\"]\n",
    "#)\n",
    "vehicle_summary_pdf[\"surviving\"] = vehicle_summary_pdf[\"last_test_date\"] >= pd.Timestamp(\n",
    "    \"2022-01-01\"\n",
    ")\n",
    "vehicle_summary_pdf[\"surviving_colour\"] = vehicle_summary_pdf.surviving.map(\n",
    "    {True: \"blue\", False: \"red\"}\n",
    ")\n",
    "vehicle_summary_pdf[\"fuel_colour\"] = vehicle_summary_pdf.fuel_type.map(\n",
    "    {\"DI\": \"black\", \"PE\": \"blue\", \"HY\": \"green\"}\n",
    ")\n",
    "vehicle_summary_pdf"
   ]
  },
  {
   "cell_type": "code",
   "execution_count": 19,
   "id": "67aea1aa",
   "metadata": {
    "execution": {
     "iopub.execute_input": "2023-12-01T20:49:36.304703Z",
     "iopub.status.busy": "2023-12-01T20:49:36.304603Z",
     "iopub.status.idle": "2023-12-01T20:49:36.416375Z",
     "shell.execute_reply": "2023-12-01T20:49:36.416037Z",
     "shell.execute_reply.started": "2023-12-01T20:49:36.304693Z"
    }
   },
   "outputs": [
    {
     "data": {
      "text/html": [
       "<div>\n",
       "<style scoped>\n",
       "    .dataframe tbody tr th:only-of-type {\n",
       "        vertical-align: middle;\n",
       "    }\n",
       "\n",
       "    .dataframe tbody tr th {\n",
       "        vertical-align: top;\n",
       "    }\n",
       "\n",
       "    .dataframe thead th {\n",
       "        text-align: right;\n",
       "    }\n",
       "</style>\n",
       "<table border=\"1\" class=\"dataframe\">\n",
       "  <thead>\n",
       "    <tr style=\"text-align: right;\">\n",
       "      <th></th>\n",
       "      <th>vehicle_id</th>\n",
       "      <th>make</th>\n",
       "      <th>model</th>\n",
       "      <th>fuel_type</th>\n",
       "      <th>cylinder_capacity</th>\n",
       "      <th>first_use_date</th>\n",
       "      <th>last_test_date</th>\n",
       "      <th>last_known_mileage</th>\n",
       "      <th>lifetime</th>\n",
       "      <th>surviving</th>\n",
       "      <th>surviving_colour</th>\n",
       "      <th>fuel_colour</th>\n",
       "      <th>year</th>\n",
       "    </tr>\n",
       "  </thead>\n",
       "  <tbody>\n",
       "    <tr>\n",
       "      <th>53</th>\n",
       "      <td>1095927116</td>\n",
       "      <td>VOLKSWAGEN</td>\n",
       "      <td>PASSAT</td>\n",
       "      <td>PE</td>\n",
       "      <td>1798.0</td>\n",
       "      <td>1998-08-21</td>\n",
       "      <td>2016-04-18</td>\n",
       "      <td>179928.0</td>\n",
       "      <td>17.671233</td>\n",
       "      <td>False</td>\n",
       "      <td>red</td>\n",
       "      <td>blue</td>\n",
       "      <td>1998.0</td>\n",
       "    </tr>\n",
       "    <tr>\n",
       "      <th>314</th>\n",
       "      <td>1436675276</td>\n",
       "      <td>VOLKSWAGEN</td>\n",
       "      <td>PASSAT</td>\n",
       "      <td>PE</td>\n",
       "      <td>1798.0</td>\n",
       "      <td>2001-01-23</td>\n",
       "      <td>2011-11-11</td>\n",
       "      <td>124319.0</td>\n",
       "      <td>10.805479</td>\n",
       "      <td>False</td>\n",
       "      <td>red</td>\n",
       "      <td>blue</td>\n",
       "      <td>2001.0</td>\n",
       "    </tr>\n",
       "    <tr>\n",
       "      <th>347</th>\n",
       "      <td>1051694720</td>\n",
       "      <td>VOLKSWAGEN</td>\n",
       "      <td>PASSAT</td>\n",
       "      <td>PE</td>\n",
       "      <td>1798.0</td>\n",
       "      <td>1997-11-14</td>\n",
       "      <td>2012-04-27</td>\n",
       "      <td>160523.0</td>\n",
       "      <td>14.460274</td>\n",
       "      <td>False</td>\n",
       "      <td>red</td>\n",
       "      <td>blue</td>\n",
       "      <td>1997.0</td>\n",
       "    </tr>\n",
       "    <tr>\n",
       "      <th>381</th>\n",
       "      <td>907575756</td>\n",
       "      <td>VOLKSWAGEN</td>\n",
       "      <td>PASSAT</td>\n",
       "      <td>PE</td>\n",
       "      <td>1798.0</td>\n",
       "      <td>2000-03-11</td>\n",
       "      <td>2009-11-11</td>\n",
       "      <td>128815.0</td>\n",
       "      <td>9.676712</td>\n",
       "      <td>False</td>\n",
       "      <td>red</td>\n",
       "      <td>blue</td>\n",
       "      <td>2000.0</td>\n",
       "    </tr>\n",
       "    <tr>\n",
       "      <th>440</th>\n",
       "      <td>147123082</td>\n",
       "      <td>VOLKSWAGEN</td>\n",
       "      <td>PASSAT</td>\n",
       "      <td>PE</td>\n",
       "      <td>1798.0</td>\n",
       "      <td>1999-05-18</td>\n",
       "      <td>2011-01-24</td>\n",
       "      <td>92728.0</td>\n",
       "      <td>11.695890</td>\n",
       "      <td>False</td>\n",
       "      <td>red</td>\n",
       "      <td>blue</td>\n",
       "      <td>1999.0</td>\n",
       "    </tr>\n",
       "    <tr>\n",
       "      <th>...</th>\n",
       "      <td>...</td>\n",
       "      <td>...</td>\n",
       "      <td>...</td>\n",
       "      <td>...</td>\n",
       "      <td>...</td>\n",
       "      <td>...</td>\n",
       "      <td>...</td>\n",
       "      <td>...</td>\n",
       "      <td>...</td>\n",
       "      <td>...</td>\n",
       "      <td>...</td>\n",
       "      <td>...</td>\n",
       "      <td>...</td>\n",
       "    </tr>\n",
       "    <tr>\n",
       "      <th>603542</th>\n",
       "      <td>1307067612</td>\n",
       "      <td>VOLKSWAGEN</td>\n",
       "      <td>PASSAT</td>\n",
       "      <td>PE</td>\n",
       "      <td>1798.0</td>\n",
       "      <td>1998-10-01</td>\n",
       "      <td>2016-10-20</td>\n",
       "      <td>115940.0</td>\n",
       "      <td>18.065753</td>\n",
       "      <td>False</td>\n",
       "      <td>red</td>\n",
       "      <td>blue</td>\n",
       "      <td>1998.0</td>\n",
       "    </tr>\n",
       "    <tr>\n",
       "      <th>603544</th>\n",
       "      <td>487138064</td>\n",
       "      <td>VOLKSWAGEN</td>\n",
       "      <td>PASSAT</td>\n",
       "      <td>PE</td>\n",
       "      <td>1798.0</td>\n",
       "      <td>1998-01-02</td>\n",
       "      <td>2015-08-10</td>\n",
       "      <td>96207.0</td>\n",
       "      <td>17.613699</td>\n",
       "      <td>False</td>\n",
       "      <td>red</td>\n",
       "      <td>blue</td>\n",
       "      <td>1998.0</td>\n",
       "    </tr>\n",
       "    <tr>\n",
       "      <th>603803</th>\n",
       "      <td>341555582</td>\n",
       "      <td>VOLKSWAGEN</td>\n",
       "      <td>PASSAT</td>\n",
       "      <td>PE</td>\n",
       "      <td>1798.0</td>\n",
       "      <td>1999-11-02</td>\n",
       "      <td>2012-01-11</td>\n",
       "      <td>125959.0</td>\n",
       "      <td>12.200000</td>\n",
       "      <td>False</td>\n",
       "      <td>red</td>\n",
       "      <td>blue</td>\n",
       "      <td>1999.0</td>\n",
       "    </tr>\n",
       "    <tr>\n",
       "      <th>603988</th>\n",
       "      <td>1494770766</td>\n",
       "      <td>VOLKSWAGEN</td>\n",
       "      <td>PASSAT</td>\n",
       "      <td>PE</td>\n",
       "      <td>1798.0</td>\n",
       "      <td>2000-09-13</td>\n",
       "      <td>2021-12-03</td>\n",
       "      <td>116336.0</td>\n",
       "      <td>21.235616</td>\n",
       "      <td>False</td>\n",
       "      <td>red</td>\n",
       "      <td>blue</td>\n",
       "      <td>2000.0</td>\n",
       "    </tr>\n",
       "    <tr>\n",
       "      <th>603992</th>\n",
       "      <td>191380460</td>\n",
       "      <td>VOLKSWAGEN</td>\n",
       "      <td>PASSAT</td>\n",
       "      <td>PE</td>\n",
       "      <td>1798.0</td>\n",
       "      <td>2000-11-29</td>\n",
       "      <td>2017-11-11</td>\n",
       "      <td>180641.0</td>\n",
       "      <td>16.961644</td>\n",
       "      <td>False</td>\n",
       "      <td>red</td>\n",
       "      <td>blue</td>\n",
       "      <td>2000.0</td>\n",
       "    </tr>\n",
       "  </tbody>\n",
       "</table>\n",
       "<p>5196 rows × 13 columns</p>\n",
       "</div>"
      ],
      "text/plain": [
       "        vehicle_id        make   model fuel_type  cylinder_capacity  \\\n",
       "53      1095927116  VOLKSWAGEN  PASSAT        PE             1798.0   \n",
       "314     1436675276  VOLKSWAGEN  PASSAT        PE             1798.0   \n",
       "347     1051694720  VOLKSWAGEN  PASSAT        PE             1798.0   \n",
       "381      907575756  VOLKSWAGEN  PASSAT        PE             1798.0   \n",
       "440      147123082  VOLKSWAGEN  PASSAT        PE             1798.0   \n",
       "...            ...         ...     ...       ...                ...   \n",
       "603542  1307067612  VOLKSWAGEN  PASSAT        PE             1798.0   \n",
       "603544   487138064  VOLKSWAGEN  PASSAT        PE             1798.0   \n",
       "603803   341555582  VOLKSWAGEN  PASSAT        PE             1798.0   \n",
       "603988  1494770766  VOLKSWAGEN  PASSAT        PE             1798.0   \n",
       "603992   191380460  VOLKSWAGEN  PASSAT        PE             1798.0   \n",
       "\n",
       "       first_use_date last_test_date  last_known_mileage   lifetime  \\\n",
       "53         1998-08-21     2016-04-18            179928.0  17.671233   \n",
       "314        2001-01-23     2011-11-11            124319.0  10.805479   \n",
       "347        1997-11-14     2012-04-27            160523.0  14.460274   \n",
       "381        2000-03-11     2009-11-11            128815.0   9.676712   \n",
       "440        1999-05-18     2011-01-24             92728.0  11.695890   \n",
       "...               ...            ...                 ...        ...   \n",
       "603542     1998-10-01     2016-10-20            115940.0  18.065753   \n",
       "603544     1998-01-02     2015-08-10             96207.0  17.613699   \n",
       "603803     1999-11-02     2012-01-11            125959.0  12.200000   \n",
       "603988     2000-09-13     2021-12-03            116336.0  21.235616   \n",
       "603992     2000-11-29     2017-11-11            180641.0  16.961644   \n",
       "\n",
       "        surviving surviving_colour fuel_colour    year  \n",
       "53          False              red        blue  1998.0  \n",
       "314         False              red        blue  2001.0  \n",
       "347         False              red        blue  1997.0  \n",
       "381         False              red        blue  2000.0  \n",
       "440         False              red        blue  1999.0  \n",
       "...           ...              ...         ...     ...  \n",
       "603542      False              red        blue  1998.0  \n",
       "603544      False              red        blue  1998.0  \n",
       "603803      False              red        blue  1999.0  \n",
       "603988      False              red        blue  2000.0  \n",
       "603992      False              red        blue  2000.0  \n",
       "\n",
       "[5196 rows x 13 columns]"
      ]
     },
     "execution_count": 19,
     "metadata": {},
     "output_type": "execute_result"
    }
   ],
   "source": [
    "passats_df = (\n",
    "    vehicle_summary_pdf.assign(year=vehicle_summary_pdf.first_use_date.dt.year)\n",
    "    .query('model == \"PASSAT\" & fuel_type == \"PE\" & cylinder_capacity == 1798')\n",
    "    .query(\"1997 <= year <= 2001\")\n",
    ")\n",
    "\n",
    "passats_df"
   ]
  },
  {
   "cell_type": "code",
   "execution_count": 20,
   "id": "e086c4e1",
   "metadata": {
    "execution": {
     "iopub.execute_input": "2023-12-01T20:49:36.416963Z",
     "iopub.status.busy": "2023-12-01T20:49:36.416809Z",
     "iopub.status.idle": "2023-12-01T20:49:36.916758Z",
     "shell.execute_reply": "2023-12-01T20:49:36.916482Z",
     "shell.execute_reply.started": "2023-12-01T20:49:36.416952Z"
    }
   },
   "outputs": [
    {
     "data": {
      "image/png": "[encoded data removed]",
      "text/plain": [
       "<Figure size 800x400 with 1 Axes>"
      ]
     },
     "metadata": {},
     "output_type": "display_data"
    }
   ],
   "source": [
    "from simpler_mpl import set_common_mpl_styles, set_commas\n",
    "import matplotlib.pyplot as plt\n",
    "\n",
    "fig, ax = plt.subplots(constrained_layout=True)\n",
    "\n",
    "passats_df.dropna().plot.scatter(\n",
    "    figsize=(8, 4),\n",
    "    x=\"lifetime\",\n",
    "    y=\"last_known_mileage\",\n",
    "    marker=\".\",\n",
    "    alpha=0.5,\n",
    "    # s=0.5,\n",
    "    c=\"surviving_colour\",\n",
    "    ax=ax\n",
    ")\n",
    "#ax.set_xlim(5, 26)\n",
    "ax.set_ylim(0, 400000)\n",
    "#ax.plot(result[\"test_date\"], result[\"passed\"])  # , marker='o')\n",
    "ax.yaxis.set_major_formatter(lambda x, pos: f\"{int(x/1000):,}k\")\n",
    "plt.xticks(rotation=-30)\n",
    "set_common_mpl_styles(\n",
    "    ax, title=\"Passat survival since registration\", ymin=0, xlabel=\"Lifetime (years)\" #ylabel=\"Passing Tests per Week\"\n",
    ")\n"
   ]
  },
  {
   "cell_type": "code",
   "execution_count": null,
   "id": "14a3cd21-58bc-421a-a056-364764252ad9",
   "metadata": {},
   "outputs": [],
   "source": []
  }
 ],
 "metadata": {
  "kernelspec": {
   "display_name": "Python 3 (ipykernel)",
   "language": "python",
   "name": "python3"
  },
  "language_info": {
   "codemirror_mode": {
    "name": "ipython",
    "version": 3
   },
   "file_extension": ".py",
   "mimetype": "text/x-python",
   "name": "python",
   "nbconvert_exporter": "python",
   "pygments_lexer": "ipython3",
   "version": "3.11.5"
  }
 },
 "nbformat": 4,
 "nbformat_minor": 5
}
