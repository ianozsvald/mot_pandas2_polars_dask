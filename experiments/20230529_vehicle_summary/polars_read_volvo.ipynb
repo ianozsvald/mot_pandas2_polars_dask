{
 "cells": [
  {
   "cell_type": "code",
   "execution_count": 1,
   "id": "c1747e54",
   "metadata": {
    "tags": []
   },
   "outputs": [],
   "source": [
    "import polars as pl"
   ]
  },
  {
   "cell_type": "code",
   "execution_count": 2,
   "id": "ce869a69",
   "metadata": {
    "tags": []
   },
   "outputs": [
    {
     "name": "stdout",
     "output_type": "stream",
     "text": [
      "CPU times: user 17.6 ms, sys: 71.9 ms, total: 89.5 ms\n",
      "Wall time: 498 ms\n"
     ]
    },
    {
     "data": {
      "text/plain": [
       "{'vehicle_id': Int64,\n",
       " 'make': Utf8,\n",
       " 'model': Utf8,\n",
       " 'fuel_type': Utf8,\n",
       " 'cylinder_capacity': Int64,\n",
       " 'first_use_date': Datetime(time_unit='ns', time_zone=None),\n",
       " 'last_test_date': Datetime(time_unit='ns', time_zone=None),\n",
       " 'last_known_mileage': Int64}"
      ]
     },
     "execution_count": 2,
     "metadata": {},
     "output_type": "execute_result"
    }
   ],
   "source": [
    "%%time\n",
    "\n",
    "ldf = (\n",
    "    pl.scan_parquet(\"../../test_result.parquet/*\")\n",
    "    .select(\n",
    "        \"vehicle_id\",\n",
    "        \"make\",\n",
    "        \"model\",\n",
    "        \"fuel_type\",\n",
    "        \"cylinder_capacity\",\n",
    "        \"first_use_date\",\n",
    "        \"test_date\",\n",
    "        \"test_mileage\",\n",
    "    )\n",
    "    .filter(pl.col(\"make\").is_in([\"VOLVO\", \"ROVER\", \"VOLKSWAGEN\"]))\n",
    "    .filter(pl.col(\"model\").is_in([\"V50\", \"200\", \"PASSAT\"]))\n",
    "    .groupby(\"vehicle_id\")\n",
    "    .agg(\n",
    "        pl.col(\n",
    "            \"make\", \"model\", \"fuel_type\", \"cylinder_capacity\", \"first_use_date\"\n",
    "        ).last(),\n",
    "        pl.col(\"test_date\").max().alias(\"last_test_date\"),\n",
    "        pl.col(\"test_mileage\").max().alias(\"last_known_mileage\"),\n",
    "    )\n",
    ")"
   ]
  },
  {
   "cell_type": "code",
   "execution_count": null,
   "id": "e2478102-7137-420c-b26a-4ab21b6ae2f0",
   "metadata": {},
   "outputs": [],
   "source": [
    "ldf.schema"
   ]
  },
  {
   "cell_type": "code",
   "execution_count": 3,
   "id": "c7ad9557",
   "metadata": {
    "tags": []
   },
   "outputs": [
    {
     "name": "stderr",
     "output_type": "stream",
     "text": [
      "PARTITIONED DS: estimated cardinality: 0.99440104 exceeded the boundary: 0.4, running default HASH AGGREGATION\n"
     ]
    },
    {
     "name": "stdout",
     "output_type": "stream",
     "text": [
      "CPU times: user 2min 13s, sys: 41.3 s, total: 2min 54s\n",
      "Wall time: 15.1 s\n"
     ]
    }
   ],
   "source": [
    "%%time\n",
    "edf = ldf.collect(streaming=True)"
   ]
  },
  {
   "cell_type": "code",
   "execution_count": 4,
   "id": "f405c2ce-4f66-4c66-adc2-233b430e54fc",
   "metadata": {
    "tags": []
   },
   "outputs": [
    {
     "data": {
      "text/html": [
       "<div><style>\n",
       ".dataframe > thead > tr > th,\n",
       ".dataframe > tbody > tr > td {\n",
       "  text-align: right;\n",
       "}\n",
       "</style>\n",
       "<small>shape: (5, 8)</small><table border=\"1\" class=\"dataframe\"><thead><tr><th>vehicle_id</th><th>make</th><th>model</th><th>fuel_type</th><th>cylinder_capacity</th><th>first_use_date</th><th>last_test_date</th><th>last_known_mileage</th></tr><tr><td>i64</td><td>str</td><td>str</td><td>str</td><td>i64</td><td>datetime[ns]</td><td>datetime[ns]</td><td>i64</td></tr></thead><tbody><tr><td>1021476656</td><td>&quot;VOLKSWAGEN&quot;</td><td>&quot;PASSAT&quot;</td><td>&quot;PE&quot;</td><td>1984</td><td>2002-12-18 00:00:00</td><td>2018-07-16 00:00:00</td><td>85559</td></tr><tr><td>902520208</td><td>&quot;VOLKSWAGEN&quot;</td><td>&quot;PASSAT&quot;</td><td>&quot;DI&quot;</td><td>1896</td><td>1999-12-31 00:00:00</td><td>2013-08-06 00:00:00</td><td>152665</td></tr><tr><td>477485504</td><td>&quot;VOLKSWAGEN&quot;</td><td>&quot;PASSAT&quot;</td><td>&quot;DI&quot;</td><td>1968</td><td>2006-10-17 00:00:00</td><td>2022-03-24 00:00:00</td><td>106259</td></tr><tr><td>928707056</td><td>&quot;VOLKSWAGEN&quot;</td><td>&quot;PASSAT&quot;</td><td>&quot;DI&quot;</td><td>1968</td><td>2010-03-18 00:00:00</td><td>2022-05-05 00:00:00</td><td>177222</td></tr><tr><td>1163839536</td><td>&quot;VOLKSWAGEN&quot;</td><td>&quot;PASSAT&quot;</td><td>&quot;PE&quot;</td><td>1781</td><td>1999-10-22 00:00:00</td><td>2007-11-05 00:00:00</td><td>61711</td></tr></tbody></table></div>"
      ],
      "text/plain": [
       "shape: (5, 8)\n",
       "┌────────────┬────────────┬────────┬───────────┬────────────┬────────────┬────────────┬────────────┐\n",
       "│ vehicle_id ┆ make       ┆ model  ┆ fuel_type ┆ cylinder_c ┆ first_use_ ┆ last_test_ ┆ last_known │\n",
       "│ ---        ┆ ---        ┆ ---    ┆ ---       ┆ apacity    ┆ date       ┆ date       ┆ _mileage   │\n",
       "│ i64        ┆ str        ┆ str    ┆ str       ┆ ---        ┆ ---        ┆ ---        ┆ ---        │\n",
       "│            ┆            ┆        ┆           ┆ i64        ┆ datetime[n ┆ datetime[n ┆ i64        │\n",
       "│            ┆            ┆        ┆           ┆            ┆ s]         ┆ s]         ┆            │\n",
       "╞════════════╪════════════╪════════╪═══════════╪════════════╪════════════╪════════════╪════════════╡\n",
       "│ 1021476656 ┆ VOLKSWAGEN ┆ PASSAT ┆ PE        ┆ 1984       ┆ 2002-12-18 ┆ 2018-07-16 ┆ 85559      │\n",
       "│            ┆            ┆        ┆           ┆            ┆ 00:00:00   ┆ 00:00:00   ┆            │\n",
       "│ 902520208  ┆ VOLKSWAGEN ┆ PASSAT ┆ DI        ┆ 1896       ┆ 1999-12-31 ┆ 2013-08-06 ┆ 152665     │\n",
       "│            ┆            ┆        ┆           ┆            ┆ 00:00:00   ┆ 00:00:00   ┆            │\n",
       "│ 477485504  ┆ VOLKSWAGEN ┆ PASSAT ┆ DI        ┆ 1968       ┆ 2006-10-17 ┆ 2022-03-24 ┆ 106259     │\n",
       "│            ┆            ┆        ┆           ┆            ┆ 00:00:00   ┆ 00:00:00   ┆            │\n",
       "│ 928707056  ┆ VOLKSWAGEN ┆ PASSAT ┆ DI        ┆ 1968       ┆ 2010-03-18 ┆ 2022-05-05 ┆ 177222     │\n",
       "│            ┆            ┆        ┆           ┆            ┆ 00:00:00   ┆ 00:00:00   ┆            │\n",
       "│ 1163839536 ┆ VOLKSWAGEN ┆ PASSAT ┆ PE        ┆ 1781       ┆ 1999-10-22 ┆ 2007-11-05 ┆ 61711      │\n",
       "│            ┆            ┆        ┆           ┆            ┆ 00:00:00   ┆ 00:00:00   ┆            │\n",
       "└────────────┴────────────┴────────┴───────────┴────────────┴────────────┴────────────┴────────────┘"
      ]
     },
     "execution_count": 4,
     "metadata": {},
     "output_type": "execute_result"
    }
   ],
   "source": [
    "edf.head()"
   ]
  },
  {
   "cell_type": "code",
   "execution_count": 5,
   "id": "21477adf-9f7d-470f-9551-7e094ca84f6e",
   "metadata": {},
   "outputs": [
    {
     "name": "stdout",
     "output_type": "stream",
     "text": [
      "CPU times: user 103 ms, sys: 177 ms, total: 281 ms\n",
      "Wall time: 556 ms\n"
     ]
    },
    {
     "data": {
      "text/plain": [
       "{'vehicle_id': Int64,\n",
       " 'make': Utf8,\n",
       " 'model': Utf8,\n",
       " 'fuel_type': Utf8,\n",
       " 'cylinder_capacity': Int64,\n",
       " 'first_use_date': Datetime(time_unit='us', time_zone=None),\n",
       " 'last_test_date': Datetime(time_unit='us', time_zone=None),\n",
       " 'last_known_mileage': Int64}"
      ]
     },
     "execution_count": 5,
     "metadata": {},
     "output_type": "execute_result"
    }
   ],
   "source": [
    "%%time\n",
    "\n",
    "ldf = (\n",
    "    pl.scan_parquet(\n",
    "        \"../../test_result_sorted.parquet/*\",\n",
    "    )\n",
    "    .select(\n",
    "        \"vehicle_id\",\n",
    "        \"make\",\n",
    "        \"model\",\n",
    "        \"fuel_type\",\n",
    "        \"cylinder_capacity\",\n",
    "        \"first_use_date\",\n",
    "        \"test_date\",\n",
    "        \"test_mileage\",\n",
    "    )\n",
    "    .filter(pl.col(\"make\").is_in([\"VOLVO\", \"ROVER\", \"VOLKSWAGEN\"]))\n",
    "    .filter(pl.col(\"model\").is_in([\"V50\", \"200\", \"PASSAT\"]))\n",
    "    .groupby(\"vehicle_id\")\n",
    "    .agg(\n",
    "        pl.col(\n",
    "            \"make\", \"model\", \"fuel_type\", \"cylinder_capacity\", \"first_use_date\"\n",
    "        ).last(),\n",
    "        pl.col(\"test_date\").max().alias(\"last_test_date\"),\n",
    "        pl.col(\"test_mileage\").max().alias(\"last_known_mileage\"),\n",
    "    )\n",
    ")"
   ]
  },
  {
   "cell_type": "code",
   "execution_count": null,
   "id": "f2631963-851b-44c2-a127-c08f56ca3e02",
   "metadata": {},
   "outputs": [],
   "source": [
    "ldf.schema"
   ]
  },
  {
   "cell_type": "code",
   "execution_count": 6,
   "id": "9227ce8b-f3d9-441f-b8a4-61b840dee795",
   "metadata": {
    "tags": []
   },
   "outputs": [
    {
     "name": "stderr",
     "output_type": "stream",
     "text": [
      "PARTITIONED DS: estimated cardinality: 0.9920015 exceeded the boundary: 0.4, running default HASH AGGREGATION\n"
     ]
    },
    {
     "name": "stdout",
     "output_type": "stream",
     "text": [
      "CPU times: user 2min 6s, sys: 31.3 s, total: 2min 37s\n",
      "Wall time: 12.9 s\n"
     ]
    }
   ],
   "source": [
    "%%time\n",
    "edf = ldf.collect(streaming=True)"
   ]
  },
  {
   "cell_type": "code",
   "execution_count": null,
   "id": "06c7ebdd",
   "metadata": {
    "tags": []
   },
   "outputs": [],
   "source": [
    "%%time\n",
    "\n",
    "ldf = (\n",
    "    pl.scan_parquet(\"../../test_result_sorted.parquet/*\", low_memory=True)\n",
    "    .select(\n",
    "        \"vehicle_id\",\n",
    "        \"make\",\n",
    "        \"model\",\n",
    "        \"fuel_type\",\n",
    "        \"cylinder_capacity\",\n",
    "        \"first_use_date\",\n",
    "        \"test_date\",\n",
    "        \"test_mileage\",\n",
    "    )\n",
    "    .filter(pl.col(\"make\").is_in([\"VOLVO\", \"ROVER\", \"VOLKSWAGEN\"]))\n",
    "    .filter(pl.col(\"model\").is_in([\"V50\", \"200\", \"PASSAT\"]))\n",
    "    .groupby(\"vehicle_id\")\n",
    "    .agg(\n",
    "        pl.col(\n",
    "            \"make\", \"model\", \"fuel_type\", \"cylinder_capacity\", \"first_use_date\"\n",
    "        ).last(),\n",
    "        pl.col(\"test_date\").max().alias(\"last_test_date\"),\n",
    "        pl.col(\"test_mileage\").max().alias(\"last_known_mileage\"),\n",
    "    )\n",
    ")"
   ]
  },
  {
   "cell_type": "code",
   "execution_count": 8,
   "id": "e137f510-bcdc-41d3-beb2-56594cf68376",
   "metadata": {
    "tags": []
   },
   "outputs": [
    {
     "data": {
      "text/plain": [
       "{'vehicle_id': Int64,\n",
       " 'make': Utf8,\n",
       " 'model': Utf8,\n",
       " 'fuel_type': Utf8,\n",
       " 'cylinder_capacity': Int64,\n",
       " 'first_use_date': Datetime(time_unit='us', time_zone=None),\n",
       " 'last_test_date': Datetime(time_unit='us', time_zone=None),\n",
       " 'last_known_mileage': Int64}"
      ]
     },
     "execution_count": 8,
     "metadata": {},
     "output_type": "execute_result"
    }
   ],
   "source": [
    "ldf.schema"
   ]
  },
  {
   "cell_type": "code",
   "execution_count": null,
   "id": "b1f1a724",
   "metadata": {},
   "outputs": [],
   "source": [
    "%%time\n",
    "edf = ldf.collect(streaming=True)"
   ]
  },
  {
   "cell_type": "code",
   "execution_count": null,
   "id": "f8b37068",
   "metadata": {},
   "outputs": [],
   "source": [
    "%%time\n",
    "edf.write_parquet(\"volvo_data_polars.parquet\")"
   ]
  },
  {
   "cell_type": "code",
   "execution_count": null,
   "id": "14cbb8c3",
   "metadata": {
    "tags": []
   },
   "outputs": [],
   "source": [
    "edf.head()"
   ]
  }
 ],
 "metadata": {
  "kernelspec": {
   "display_name": "Python 3 (ipykernel)",
   "language": "python",
   "name": "python3"
  },
  "language_info": {
   "codemirror_mode": {
    "name": "ipython",
    "version": 3
   },
   "file_extension": ".py",
   "mimetype": "text/x-python",
   "name": "python",
   "nbconvert_exporter": "python",
   "pygments_lexer": "ipython3",
   "version": "3.11.3"
  }
 },
 "nbformat": 4,
 "nbformat_minor": 5
}
