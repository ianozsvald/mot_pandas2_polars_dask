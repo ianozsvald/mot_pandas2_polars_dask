{
 "cells": [
  {
   "cell_type": "markdown",
   "metadata": {},
   "source": [
    "Polars lazy experiments\n",
    "\n",
    "This was a WIP in 202311 and was abandoned, so ignore"
   ]
  },
  {
   "cell_type": "code",
   "execution_count": 1,
   "metadata": {},
   "outputs": [
    {
     "data": {
      "text/plain": [
       "'Polars 0.19.17'"
      ]
     },
     "metadata": {},
     "output_type": "display_data"
    },
    {
     "name": "stdout",
     "output_type": "stream",
     "text": [
      "Enabling IPython Memory Usage, use %imu_start to begin, %imu_stop to end\n"
     ]
    },
    {
     "data": {
      "text/plain": [
       "'IPython Memory Usage started'"
      ]
     },
     "execution_count": 1,
     "metadata": {},
     "output_type": "execute_result"
    },
    {
     "name": "stdout",
     "output_type": "stream",
     "text": [
      "In [1] used 1.1 MiB RAM in 0.11s (system mean cpu 0%, single max cpu 0%), peaked 0.0 MiB above final usage, current RAM usage now 81.2 MiB\n"
     ]
    }
   ],
   "source": [
    "import polars as pl\n",
    "import datetime\n",
    "\n",
    "%load_ext autoreload\n",
    "%autoreload 2\n",
    "\n",
    "import datetime, os\n",
    "display(f\"Polars {pl.__version__}\")\n",
    "display(f'Running: {datetime.datetime.now().strftime(\"%Y%m%d %H:%M:%S\")}, env {os.getenv(\"CONDA_DEFAULT_ENV\")}')\n",
    "\n",
    "%load_ext ipython_memory_usage\n",
    "\n",
    "%imu_start\n"
   ]
  },
  {
   "cell_type": "code",
   "execution_count": 2,
   "metadata": {},
   "outputs": [
    {
     "name": "stdout",
     "output_type": "stream",
     "text": [
      "'{\"environment\":{},\"direct\":{\"set_fmt_float\":\"mixed\",\"set_float_precision\":null,\"set_thousands_separator\":\"\",\"set_decimal_separator\":\".\",\"set_trim_decimal_zeros\":false}}'\n",
      "In [2] used 0.0 MiB RAM in 0.10s (system mean cpu 0%, single max cpu 0%), peaked 0.0 MiB above final usage, current RAM usage now 81.2 MiB\n"
     ]
    }
   ],
   "source": [
    "from pprint import pprint\n",
    "pprint(pl.Config.save())"
   ]
  },
  {
   "cell_type": "code",
   "execution_count": 24,
   "metadata": {},
   "outputs": [
    {
     "data": {
      "text/plain": [
       "polars.config.Config"
      ]
     },
     "execution_count": 24,
     "metadata": {},
     "output_type": "execute_result"
    },
    {
     "name": "stdout",
     "output_type": "stream",
     "text": [
      "In [24] used 0.0 MiB RAM in 0.10s (system mean cpu 0%, single max cpu 0%), peaked 0.0 MiB above final usage, current RAM usage now 814.4 MiB\n"
     ]
    }
   ],
   "source": [
    "pl.Config.set_verbose() # enable verbose logs"
   ]
  },
  {
   "cell_type": "code",
   "execution_count": 16,
   "metadata": {},
   "outputs": [
    {
     "data": {
      "text/plain": [
       "16"
      ]
     },
     "execution_count": 16,
     "metadata": {},
     "output_type": "execute_result"
    },
    {
     "name": "stdout",
     "output_type": "stream",
     "text": [
      "In [16] used 0.0 MiB RAM in 0.10s (system mean cpu 0%, single max cpu 0%), peaked 0.0 MiB above final usage, current RAM usage now 792.1 MiB\n"
     ]
    }
   ],
   "source": [
    "pl.threadpool_size()\n"
   ]
  },
  {
   "cell_type": "code",
   "execution_count": 3,
   "metadata": {},
   "outputs": [
    {
     "data": {
      "text/plain": [
       "'639,506,968 items'"
      ]
     },
     "execution_count": 3,
     "metadata": {},
     "output_type": "execute_result"
    },
    {
     "name": "stdout",
     "output_type": "stream",
     "text": [
      "In [3] used 941.0 MiB RAM in 4.27s (system mean cpu 38%, single max cpu 100%), peaked 8855.3 MiB above final usage, current RAM usage now 1022.1 MiB\n"
     ]
    }
   ],
   "source": [
    "dfpll = pl.scan_parquet(\"../test_result.parquet/*.parquet\")\n",
    "f\"{dfpll.select(pl.count()).collect().item():,} items\"\n"
   ]
  },
  {
   "cell_type": "markdown",
   "metadata": {},
   "source": [
    "# Count only"
   ]
  },
  {
   "cell_type": "code",
   "execution_count": 8,
   "metadata": {},
   "outputs": [
    {
     "data": {
      "text/html": [
       "<div><style>\n",
       ".dataframe > thead > tr,\n",
       ".dataframe > tbody > tr {\n",
       "  text-align: right;\n",
       "  white-space: pre-wrap;\n",
       "}\n",
       "</style>\n",
       "<small>shape: (1, 1)</small><table border=\"1\" class=\"dataframe\"><thead><tr><th>count</th></tr><tr><td>u32</td></tr></thead><tbody><tr><td>639506968</td></tr></tbody></table></div>"
      ],
      "text/plain": [
       "shape: (1, 1)\n",
       "┌───────────┐\n",
       "│ count     │\n",
       "│ ---       │\n",
       "│ u32       │\n",
       "╞═══════════╡\n",
       "│ 639506968 │\n",
       "└───────────┘"
      ]
     },
     "execution_count": 8,
     "metadata": {},
     "output_type": "execute_result"
    },
    {
     "name": "stdout",
     "output_type": "stream",
     "text": [
      "In [8] used -425.0 MiB RAM in 4.08s (system mean cpu 38%, single max cpu 100%), peaked 9243.3 MiB above final usage, current RAM usage now 597.7 MiB\n"
     ]
    }
   ],
   "source": [
    "dfpll.select(pl.count()).collect()"
   ]
  },
  {
   "cell_type": "code",
   "execution_count": 9,
   "metadata": {},
   "outputs": [
    {
     "data": {
      "text/html": [
       "<div><style>\n",
       ".dataframe > thead > tr,\n",
       ".dataframe > tbody > tr {\n",
       "  text-align: right;\n",
       "  white-space: pre-wrap;\n",
       "}\n",
       "</style>\n",
       "<small>shape: (1, 1)</small><table border=\"1\" class=\"dataframe\"><thead><tr><th>count</th></tr><tr><td>u32</td></tr></thead><tbody><tr><td>639506968</td></tr></tbody></table></div>"
      ],
      "text/plain": [
       "shape: (1, 1)\n",
       "┌───────────┐\n",
       "│ count     │\n",
       "│ ---       │\n",
       "│ u32       │\n",
       "╞═══════════╡\n",
       "│ 639506968 │\n",
       "└───────────┘"
      ]
     },
     "execution_count": 9,
     "metadata": {},
     "output_type": "execute_result"
    },
    {
     "name": "stdout",
     "output_type": "stream",
     "text": [
      "In [9] used 71.6 MiB RAM in 7.93s (system mean cpu 12%, single max cpu 100%), peaked 4394.2 MiB above final usage, current RAM usage now 669.2 MiB\n"
     ]
    }
   ],
   "source": [
    "dfpll.select(pl.count()).collect(streaming=True)"
   ]
  },
  {
   "cell_type": "code",
   "execution_count": 4,
   "metadata": {},
   "outputs": [
    {
     "name": "stdout",
     "output_type": "stream",
     "text": [
      " SELECT [count()] FROM\n",
      "\n",
      "    Parquet SCAN 854 files: first file: ../test_result.parquet/part.0.parquet\n",
      "    PROJECT 1/14 COLUMNS\n",
      "In [4] used 0.1 MiB RAM in 0.10s (system mean cpu 15%, single max cpu 100%), peaked 0.0 MiB above final usage, current RAM usage now 1022.3 MiB\n"
     ]
    }
   ],
   "source": [
    "print(dfpll.select(pl.count()).explain())"
   ]
  },
  {
   "cell_type": "code",
   "execution_count": 25,
   "metadata": {},
   "outputs": [
    {
     "name": "stdout",
     "output_type": "stream",
     "text": [
      " SELECT [count()] FROM\n",
      "  --- STREAMING\n",
      "\n",
      "  Parquet SCAN 854 files: first file: ../test_result.parquet/part.0.parquet\n",
      "  PROJECT 1/14 COLUMNS  --- END STREAMING\n",
      "\n",
      "    DF []; PROJECT */0 COLUMNS; SELECTION: \"None\"\n",
      "In [25] used 0.6 MiB RAM in 0.12s (system mean cpu 0%, single max cpu 0%), peaked 0.0 MiB above final usage, current RAM usage now 815.0 MiB\n"
     ]
    },
    {
     "name": "stderr",
     "output_type": "stream",
     "text": [
      "/tmp/ipykernel_53334/1326765554.py:1: UserWarning: Cannot combine 'streaming' with 'comm_subplan_elim'. CSE will be turned off.\n",
      "  print(dfpll.select(pl.count()).explain(streaming=True))\n",
      "POLARS PREFETCH_SIZE: 32\n"
     ]
    }
   ],
   "source": [
    "print(dfpll.select(pl.count()).explain(streaming=True))"
   ]
  },
  {
   "cell_type": "markdown",
   "metadata": {},
   "source": [
    "# Filter and count"
   ]
  },
  {
   "cell_type": "code",
   "execution_count": 10,
   "metadata": {},
   "outputs": [
    {
     "data": {
      "text/html": [
       "<div><style>\n",
       ".dataframe > thead > tr,\n",
       ".dataframe > tbody > tr {\n",
       "  text-align: right;\n",
       "  white-space: pre-wrap;\n",
       "}\n",
       "</style>\n",
       "<small>shape: (1, 1)</small><table border=\"1\" class=\"dataframe\"><thead><tr><th>count</th></tr><tr><td>u32</td></tr></thead><tbody><tr><td>82012245</td></tr></tbody></table></div>"
      ],
      "text/plain": [
       "shape: (1, 1)\n",
       "┌──────────┐\n",
       "│ count    │\n",
       "│ ---      │\n",
       "│ u32      │\n",
       "╞══════════╡\n",
       "│ 82012245 │\n",
       "└──────────┘"
      ]
     },
     "execution_count": 10,
     "metadata": {},
     "output_type": "execute_result"
    },
    {
     "name": "stdout",
     "output_type": "stream",
     "text": [
      "In [10] used 54.7 MiB RAM in 2.94s (system mean cpu 69%, single max cpu 100%), peaked 1928.0 MiB above final usage, current RAM usage now 723.9 MiB\n"
     ]
    }
   ],
   "source": [
    "dfpll.filter(pl.col(\"test_date\") > datetime.datetime(2021, 1, 1)).select(\n",
    "    pl.count()\n",
    ").collect()"
   ]
  },
  {
   "cell_type": "code",
   "execution_count": 11,
   "metadata": {},
   "outputs": [
    {
     "data": {
      "text/html": [
       "<div><style>\n",
       ".dataframe > thead > tr,\n",
       ".dataframe > tbody > tr {\n",
       "  text-align: right;\n",
       "  white-space: pre-wrap;\n",
       "}\n",
       "</style>\n",
       "<small>shape: (1, 1)</small><table border=\"1\" class=\"dataframe\"><thead><tr><th>count</th></tr><tr><td>u32</td></tr></thead><tbody><tr><td>82012245</td></tr></tbody></table></div>"
      ],
      "text/plain": [
       "shape: (1, 1)\n",
       "┌──────────┐\n",
       "│ count    │\n",
       "│ ---      │\n",
       "│ u32      │\n",
       "╞══════════╡\n",
       "│ 82012245 │\n",
       "└──────────┘"
      ]
     },
     "execution_count": 11,
     "metadata": {},
     "output_type": "execute_result"
    },
    {
     "name": "stdout",
     "output_type": "stream",
     "text": [
      "In [11] used -28.7 MiB RAM in 7.78s (system mean cpu 14%, single max cpu 100%), peaked 871.8 MiB above final usage, current RAM usage now 695.2 MiB\n"
     ]
    }
   ],
   "source": [
    "dfpll.filter(pl.col(\"test_date\") > datetime.datetime(2021, 1, 1)).select(\n",
    "    pl.count()\n",
    ").collect(streaming=True)"
   ]
  },
  {
   "cell_type": "code",
   "execution_count": 6,
   "metadata": {},
   "outputs": [
    {
     "name": "stdout",
     "output_type": "stream",
     "text": [
      " SELECT [count()] FROM\n",
      "\n",
      "    Parquet SCAN 854 files: first file: ../test_result.parquet/part.0.parquet\n",
      "    PROJECT 2/14 COLUMNS\n",
      "    SELECTION: [(col(\"test_date\")) > (2021-01-01 00:00:00)]\n",
      "In [6] used 0.1 MiB RAM in 0.10s (system mean cpu 0%, single max cpu 0%), peaked 0.0 MiB above final usage, current RAM usage now 1022.5 MiB\n"
     ]
    }
   ],
   "source": [
    "# 82012876\n",
    "print(dfpll.filter(pl.col(\"test_date\") > datetime.datetime(2021, 1, 1)).select(\n",
    "    pl.count()\n",
    ").explain())"
   ]
  },
  {
   "cell_type": "code",
   "execution_count": 7,
   "metadata": {},
   "outputs": [
    {
     "name": "stdout",
     "output_type": "stream",
     "text": [
      " SELECT [count()] FROM\n",
      "  --- STREAMING\n",
      "\n",
      "  Parquet SCAN 854 files: first file: ../test_result.parquet/part.0.parquet\n",
      "  PROJECT 2/14 COLUMNS\n",
      "  SELECTION: [(col(\"test_date\")) > (2021-01-01 00:00:00)]  --- END STREAMING\n",
      "\n",
      "    DF []; PROJECT */0 COLUMNS; SELECTION: \"None\"\n",
      "In [7] used 0.1 MiB RAM in 0.10s (system mean cpu 0%, single max cpu 0%), peaked 0.0 MiB above final usage, current RAM usage now 1022.6 MiB\n"
     ]
    },
    {
     "name": "stderr",
     "output_type": "stream",
     "text": [
      "/tmp/ipykernel_53334/2477444838.py:6: UserWarning: Cannot combine 'streaming' with 'comm_subplan_elim'. CSE will be turned off.\n",
      "  ).explain(streaming=True))\n"
     ]
    }
   ],
   "source": [
    "import datetime\n",
    "\n",
    "# 82012876\n",
    "print(dfpll.filter(pl.col(\"test_date\") > datetime.datetime(2021, 1, 1)).select(\n",
    "    pl.count()\n",
    ").explain(streaming=True))"
   ]
  },
  {
   "cell_type": "markdown",
   "metadata": {},
   "source": [
    "# Filter, sort, group by, agg"
   ]
  },
  {
   "cell_type": "code",
   "execution_count": 12,
   "metadata": {},
   "outputs": [
    {
     "name": "stdout",
     "output_type": "stream",
     "text": [
      "In [12] used 140.0 MiB RAM in 13.38s (system mean cpu 39%, single max cpu 100%), peaked 9345.8 MiB above final usage, current RAM usage now 835.2 MiB\n"
     ]
    }
   ],
   "source": [
    "result_lz = (\n",
    "    dfpll.filter(pl.col(\"test_date\") > datetime.datetime(2018, 1, 1))\n",
    "    .with_columns((pl.col(\"test_result\") == pl.lit(\"P\")).alias(\"passed\"))\n",
    "    .sort(pl.col(\"test_date\"))\n",
    "    .group_by_dynamic(\"test_date\", every=\"1w\")\n",
    "    .agg(pl.col(\"passed\").sum())\n",
    "    .collect(streaming=False)\n",
    ")"
   ]
  },
  {
   "cell_type": "code",
   "execution_count": 13,
   "metadata": {},
   "outputs": [
    {
     "name": "stdout",
     "output_type": "stream",
     "text": [
      "In [13] used -43.1 MiB RAM in 17.88s (system mean cpu 35%, single max cpu 100%), peaked 9542.0 MiB above final usage, current RAM usage now 792.1 MiB\n"
     ]
    }
   ],
   "source": [
    "result_lz = (\n",
    "    dfpll.filter(pl.col(\"test_date\") > datetime.datetime(2018, 1, 1))\n",
    "    .with_columns((pl.col(\"test_result\") == pl.lit(\"P\")).alias(\"passed\"))\n",
    "    .sort(pl.col(\"test_date\"))\n",
    "    .group_by_dynamic(\"test_date\", every=\"1w\")\n",
    "    .agg(pl.col(\"passed\").sum())\n",
    "    .collect(streaming=True)\n",
    ")\n",
    "# 17s + 9.5GB\n",
    "#In [11] used -1.3 MiB RAM in 17.84s (system mean cpu 34%, single max cpu 100%), \n",
    "# peaked 9534.2 MiB above final usage, current RAM usage now 1022.9 MiB\n"
   ]
  },
  {
   "cell_type": "code",
   "execution_count": 14,
   "metadata": {},
   "outputs": [
    {
     "name": "stdout",
     "output_type": "stream",
     "text": [
      "AGGREGATE\n",
      "\t[col(\"passed\").sum()] BY [] FROM\n",
      "  SORT BY [col(\"test_date\")]\n",
      "     WITH_COLUMNS:\n",
      "     [[(col(\"test_result\")) == (Utf8(P))].alias(\"passed\")]\n",
      "\n",
      "        Parquet SCAN 854 files: first file: ../test_result.parquet/part.0.parquet\n",
      "        PROJECT 2/14 COLUMNS\n",
      "        SELECTION: [(col(\"test_date\")) > (2018-01-01 00:00:00)]\n",
      "In [14] used 0.0 MiB RAM in 0.10s (system mean cpu 0%, single max cpu 0%), peaked 0.0 MiB above final usage, current RAM usage now 792.1 MiB\n"
     ]
    }
   ],
   "source": [
    "print(\n",
    "    dfpll.filter(pl.col(\"test_date\") > datetime.datetime(2018, 1, 1))\n",
    "    .with_columns((pl.col(\"test_result\") == pl.lit(\"P\")).alias(\"passed\"))\n",
    "    .sort(pl.col(\"test_date\"))\n",
    "    .group_by_dynamic(\"test_date\", every=\"1w\")\n",
    "    .agg(pl.col(\"passed\").sum())\n",
    "    .explain(streaming=False)\n",
    ")"
   ]
  },
  {
   "cell_type": "code",
   "execution_count": 26,
   "metadata": {},
   "outputs": [
    {
     "name": "stdout",
     "output_type": "stream",
     "text": [
      "AGGREGATE\n",
      "\t[col(\"passed\").sum()] BY [] FROM\n",
      "  --- STREAMING\n",
      "SORT BY [col(\"test_date\")]\n",
      "   WITH_COLUMNS:\n",
      "   [[(col(\"test_result\")) == (Utf8(P))].alias(\"passed\")]\n",
      "\n",
      "      Parquet SCAN 854 files: first file: ../test_result.parquet/part.0.parquet\n",
      "      PROJECT 2/14 COLUMNS\n",
      "      SELECTION: [(col(\"test_date\")) > (2018-01-01 00:00:00)]  --- END STREAMING\n",
      "\n",
      "    DF []; PROJECT */0 COLUMNS; SELECTION: \"None\"\n",
      "In [26] used 0.0 MiB RAM in 0.10s (system mean cpu 0%, single max cpu 0%), peaked 0.0 MiB above final usage, current RAM usage now 815.0 MiB\n"
     ]
    },
    {
     "name": "stderr",
     "output_type": "stream",
     "text": [
      "/tmp/ipykernel_53334/4111795314.py:7: UserWarning: Cannot combine 'streaming' with 'comm_subplan_elim'. CSE will be turned off.\n",
      "  .explain(streaming=True)\n",
      "POLARS PREFETCH_SIZE: 32\n"
     ]
    }
   ],
   "source": [
    "print(\n",
    "    dfpll.filter(pl.col(\"test_date\") > datetime.datetime(2018, 1, 1))\n",
    "    .with_columns((pl.col(\"test_result\") == pl.lit(\"P\")).alias(\"passed\"))\n",
    "    .sort(pl.col(\"test_date\"))\n",
    "    .group_by_dynamic(\"test_date\", every=\"1w\")\n",
    "    .agg(pl.col(\"passed\").sum())\n",
    "    .explain(streaming=True)\n",
    ")"
   ]
  },
  {
   "cell_type": "code",
   "execution_count": 17,
   "metadata": {},
   "outputs": [
    {
     "name": "stdout",
     "output_type": "stream",
     "text": [
      "In [17] used 2864.5 MiB RAM in 27.14s (system mean cpu 34%, single max cpu 100%), peaked 9594.3 MiB above final usage, current RAM usage now 3656.6 MiB\n"
     ]
    }
   ],
   "source": [
    "pl.Config.set_streaming_chunk_size(100)\n",
    "result_lz = (\n",
    "    dfpll.filter(pl.col(\"test_date\") > datetime.datetime(2018, 1, 1))\n",
    "    .with_columns((pl.col(\"test_result\") == pl.lit(\"P\")).alias(\"passed\"))\n",
    "    .sort(pl.col(\"test_date\"))\n",
    "    .group_by_dynamic(\"test_date\", every=\"1w\")\n",
    "    .agg(pl.col(\"passed\").sum())\n",
    "    .collect(streaming=True)\n",
    ")\n"
   ]
  },
  {
   "cell_type": "code",
   "execution_count": 18,
   "metadata": {},
   "outputs": [
    {
     "name": "stdout",
     "output_type": "stream",
     "text": [
      "In [18] used -2162.8 MiB RAM in 19.26s (system mean cpu 33%, single max cpu 100%), peaked 9433.4 MiB above final usage, current RAM usage now 1493.8 MiB\n"
     ]
    }
   ],
   "source": [
    "pl.Config.set_streaming_chunk_size(1000)\n",
    "result_lz = (\n",
    "    dfpll.filter(pl.col(\"test_date\") > datetime.datetime(2018, 1, 1))\n",
    "    .with_columns((pl.col(\"test_result\") == pl.lit(\"P\")).alias(\"passed\"))\n",
    "    .sort(pl.col(\"test_date\"))\n",
    "    .group_by_dynamic(\"test_date\", every=\"1w\")\n",
    "    .agg(pl.col(\"passed\").sum())\n",
    "    .collect(streaming=True)\n",
    ")\n"
   ]
  },
  {
   "cell_type": "code",
   "execution_count": 19,
   "metadata": {},
   "outputs": [
    {
     "name": "stdout",
     "output_type": "stream",
     "text": [
      "In [19] used -559.1 MiB RAM in 18.28s (system mean cpu 33%, single max cpu 100%), peaked 9884.0 MiB above final usage, current RAM usage now 934.8 MiB\n"
     ]
    }
   ],
   "source": [
    "pl.Config.set_streaming_chunk_size(5000)\n",
    "result_lz = (\n",
    "    dfpll.filter(pl.col(\"test_date\") > datetime.datetime(2018, 1, 1))\n",
    "    .with_columns((pl.col(\"test_result\") == pl.lit(\"P\")).alias(\"passed\"))\n",
    "    .sort(pl.col(\"test_date\"))\n",
    "    .group_by_dynamic(\"test_date\", every=\"1w\")\n",
    "    .agg(pl.col(\"passed\").sum())\n",
    "    .collect(streaming=True)\n",
    ")\n"
   ]
  },
  {
   "cell_type": "code",
   "execution_count": 20,
   "metadata": {},
   "outputs": [
    {
     "name": "stdout",
     "output_type": "stream",
     "text": [
      "In [20] used -155.0 MiB RAM in 18.10s (system mean cpu 32%, single max cpu 100%), peaked 9459.4 MiB above final usage, current RAM usage now 779.8 MiB\n"
     ]
    }
   ],
   "source": [
    "pl.Config.set_streaming_chunk_size(25000)\n",
    "result_lz = (\n",
    "    dfpll.filter(pl.col(\"test_date\") > datetime.datetime(2018, 1, 1))\n",
    "    .with_columns((pl.col(\"test_result\") == pl.lit(\"P\")).alias(\"passed\"))\n",
    "    .sort(pl.col(\"test_date\"))\n",
    "    .group_by_dynamic(\"test_date\", every=\"1w\")\n",
    "    .agg(pl.col(\"passed\").sum())\n",
    "    .collect(streaming=True)\n",
    ")\n"
   ]
  },
  {
   "cell_type": "code",
   "execution_count": 21,
   "metadata": {},
   "outputs": [
    {
     "name": "stdout",
     "output_type": "stream",
     "text": [
      "In [21] used 40.5 MiB RAM in 18.31s (system mean cpu 33%, single max cpu 100%), peaked 9391.4 MiB above final usage, current RAM usage now 820.3 MiB\n"
     ]
    }
   ],
   "source": [
    "pl.Config.set_streaming_chunk_size(50000)\n",
    "result_lz = (\n",
    "    dfpll.filter(pl.col(\"test_date\") > datetime.datetime(2018, 1, 1))\n",
    "    .with_columns((pl.col(\"test_result\") == pl.lit(\"P\")).alias(\"passed\"))\n",
    "    .sort(pl.col(\"test_date\"))\n",
    "    .group_by_dynamic(\"test_date\", every=\"1w\")\n",
    "    .agg(pl.col(\"passed\").sum())\n",
    "    .collect(streaming=True)\n",
    ")\n"
   ]
  },
  {
   "cell_type": "code",
   "execution_count": null,
   "metadata": {},
   "outputs": [],
   "source": []
  }
 ],
 "metadata": {
  "kernelspec": {
   "display_name": "pydataglobal2023",
   "language": "python",
   "name": "python3"
  },
  "language_info": {
   "codemirror_mode": {
    "name": "ipython",
    "version": 3
   },
   "file_extension": ".py",
   "mimetype": "text/x-python",
   "name": "python",
   "nbconvert_exporter": "python",
   "pygments_lexer": "ipython3",
   "version": "3.11.5"
  }
 },
 "nbformat": 4,
 "nbformat_minor": 2
}
