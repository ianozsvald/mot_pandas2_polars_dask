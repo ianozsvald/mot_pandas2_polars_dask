{
 "cells": [
  {
   "cell_type": "markdown",
   "id": "68683f24-ed21-4642-9501-d40272fda313",
   "metadata": {},
   "source": [
    "# Try numba\n",
    "\n",
    "Arrow doesn't seem to work in Numba. Float Numpy does, but by default I get an object array out which is weird!"
   ]
  },
  {
   "cell_type": "code",
   "execution_count": 1,
   "id": "b400d712-3c1f-4f71-a488-94b8e434d820",
   "metadata": {
    "tags": []
   },
   "outputs": [],
   "source": [
    "import numba"
   ]
  },
  {
   "cell_type": "code",
   "execution_count": 8,
   "id": "8fa25604-eb3c-4d75-bc74-e00b02f519e3",
   "metadata": {
    "tags": []
   },
   "outputs": [
    {
     "data": {
      "text/plain": [
       "'Pandas 2.1.3, Polars 0.19.17'"
      ]
     },
     "metadata": {},
     "output_type": "display_data"
    },
    {
     "name": "stdout",
     "output_type": "stream",
     "text": [
      "Enabling IPython Memory Usage, use %imu_start to begin, %imu_stop to end\n"
     ]
    },
    {
     "data": {
      "text/plain": [
       "'IPython Memory Usage started'"
      ]
     },
     "execution_count": 8,
     "metadata": {},
     "output_type": "execute_result"
    },
    {
     "name": "stdout",
     "output_type": "stream",
     "text": [
      "In [8] used 0.1 MiB RAM in 0.11s (system mean cpu 0%, single max cpu 0%), peaked 0.0 MiB above final usage, current RAM usage now 26945.9 MiB\n"
     ]
    }
   ],
   "source": [
    "import pandas as pd\n",
    "import polars as pl\n",
    "from humanfriendly import format_size, format_number\n",
    "from simpler_mpl import set_commas, set_common_mpl_styles\n",
    "import matplotlib.pyplot as plt\n",
    "import seaborn as sns\n",
    "\n",
    "#%load_ext autoreload\n",
    "#%autoreload 2\n",
    "\n",
    "display(f\"Pandas {pd.__version__}, Polars {pl.__version__}\")\n",
    "\n",
    "#from cell_profiler import cell_profiler as cp\n",
    "#%start_cell_profiler\n",
    "%load_ext ipython_memory_usage\n",
    "%imu_start\n"
   ]
  },
  {
   "cell_type": "code",
   "execution_count": 3,
   "id": "523f1886-9693-4dc8-a929-082c0fd54efe",
   "metadata": {
    "tags": []
   },
   "outputs": [],
   "source": [
    "dfpda = pd.read_parquet(\"../test_result_2021on.parquet\", \n",
    "                        dtype_backend=\"pyarrow\")"
   ]
  },
  {
   "cell_type": "code",
   "execution_count": 4,
   "id": "ec878c0f-b704-42ee-a0d5-992d0db032c0",
   "metadata": {
    "tags": []
   },
   "outputs": [
    {
     "name": "stdout",
     "output_type": "stream",
     "text": [
      "<class 'pandas.core.frame.DataFrame'>\n",
      "RangeIndex: 82012245 entries, 0 to 82012244\n",
      "Data columns (total 14 columns):\n",
      " #   Column             Dtype                 \n",
      "---  ------             -----                 \n",
      " 0   test_id            int64[pyarrow]        \n",
      " 1   vehicle_id         int64[pyarrow]        \n",
      " 2   test_date          timestamp[us][pyarrow]\n",
      " 3   test_class_id      int64[pyarrow]        \n",
      " 4   test_type          large_string[pyarrow] \n",
      " 5   test_result        large_string[pyarrow] \n",
      " 6   test_mileage       int64[pyarrow]        \n",
      " 7   postcode_area      large_string[pyarrow] \n",
      " 8   make               large_string[pyarrow] \n",
      " 9   model              large_string[pyarrow] \n",
      " 10  colour             large_string[pyarrow] \n",
      " 11  fuel_type          large_string[pyarrow] \n",
      " 12  cylinder_capacity  int64[pyarrow]        \n",
      " 13  first_use_date     timestamp[us][pyarrow]\n",
      "dtypes: int64[pyarrow](5), large_string[pyarrow](7), timestamp[us][pyarrow](2)\n",
      "memory usage: 10.4 GB\n"
     ]
    }
   ],
   "source": [
    "dfpda.info()"
   ]
  },
  {
   "cell_type": "code",
   "execution_count": 5,
   "id": "03f2cec9-6173-4fc0-b4fd-20b54f40bd04",
   "metadata": {
    "tags": []
   },
   "outputs": [],
   "source": [
    "dfpdn = pd.read_parquet(\"../test_result_2021on.parquet\", \n",
    "                        dtype_backend=\"numpy_nullable\")"
   ]
  },
  {
   "cell_type": "code",
   "execution_count": 9,
   "id": "4987a70d-1aac-4cb1-9bc7-9cfea4b41ae6",
   "metadata": {
    "tags": []
   },
   "outputs": [
    {
     "data": {
      "text/plain": [
       "numpy.ndarray"
      ]
     },
     "execution_count": 9,
     "metadata": {},
     "output_type": "execute_result"
    },
    {
     "name": "stdout",
     "output_type": "stream",
     "text": [
      "In [9] used 1.6 MiB RAM in 2.41s (system mean cpu 10%, single max cpu 100%), peaked 702.4 MiB above final usage, current RAM usage now 26947.5 MiB\n"
     ]
    }
   ],
   "source": [
    "ser_mileage_pdn = dfpdn['test_mileage'].fillna(0).to_numpy()\n",
    "type(ser_mileage_pdn)\n",
    "# +0.7GB"
   ]
  },
  {
   "cell_type": "code",
   "execution_count": 10,
   "id": "698984ad-e54f-4b0d-895e-40f29cb2bfd3",
   "metadata": {
    "tags": []
   },
   "outputs": [
    {
     "data": {
      "text/plain": [
       "dtype('O')"
      ]
     },
     "execution_count": 10,
     "metadata": {},
     "output_type": "execute_result"
    },
    {
     "name": "stdout",
     "output_type": "stream",
     "text": [
      "In [10] used 0.1 MiB RAM in 0.10s (system mean cpu 0%, single max cpu 0%), peaked 0.0 MiB above final usage, current RAM usage now 26947.6 MiB\n"
     ]
    }
   ],
   "source": [
    "ser_mileage_pdn.dtype # !!! why object?!"
   ]
  },
  {
   "cell_type": "code",
   "execution_count": 11,
   "id": "608c3778-075c-4033-b479-f57e78059f87",
   "metadata": {
    "tags": []
   },
   "outputs": [
    {
     "data": {
      "text/plain": [
       "dtype('float64')"
      ]
     },
     "execution_count": 11,
     "metadata": {},
     "output_type": "execute_result"
    },
    {
     "name": "stdout",
     "output_type": "stream",
     "text": [
      "In [11] used -2492.3 MiB RAM in 2.67s (system mean cpu 0%, single max cpu 0%), peaked 0.0 MiB above final usage, current RAM usage now 24455.3 MiB\n"
     ]
    }
   ],
   "source": [
    "ser_mileage_pdn = ser_mileage_pdn.astype('float')\n",
    "ser_mileage_pdn.dtype"
   ]
  },
  {
   "cell_type": "code",
   "execution_count": null,
   "id": "5b0a4832-1edc-43ba-85c3-c6552996d5ea",
   "metadata": {
    "tags": []
   },
   "outputs": [],
   "source": [
    "#dfpda['test_mileage'].to_numpy() # feather\n",
    "# used 3157.7 MiB RAM in 2.68s"
   ]
  },
  {
   "cell_type": "code",
   "execution_count": 12,
   "id": "ccd23f7f-bd45-4825-b21d-9a6cd99fe045",
   "metadata": {
    "tags": []
   },
   "outputs": [
    {
     "data": {
      "text/plain": [
       "pandas.core.arrays.arrow.array.ArrowExtensionArray"
      ]
     },
     "execution_count": 12,
     "metadata": {},
     "output_type": "execute_result"
    },
    {
     "name": "stdout",
     "output_type": "stream",
     "text": [
      "In [12] used 635.5 MiB RAM in 0.46s (system mean cpu 12%, single max cpu 100%), peaked 0.0 MiB above final usage, current RAM usage now 25090.8 MiB\n"
     ]
    }
   ],
   "source": [
    "ser_mileage_pda = dfpda['test_mileage'].fillna(0).values\n",
    "type(ser_mileage_pda)"
   ]
  },
  {
   "cell_type": "code",
   "execution_count": 13,
   "id": "c1cc4a28-0cd4-4fd7-840c-e70c240b5839",
   "metadata": {
    "tags": []
   },
   "outputs": [
    {
     "name": "stdout",
     "output_type": "stream",
     "text": [
      "In [13] used 0.0 MiB RAM in 0.10s (system mean cpu 0%, single max cpu 0%), peaked 0.0 MiB above final usage, current RAM usage now 25090.8 MiB\n"
     ]
    }
   ],
   "source": [
    "def do_thing(ser):\n",
    "    # given ser, loop and find max\n",
    "    mx = 0\n",
    "    for idx in range(ser.shape[0]):\n",
    "        value = ser[idx]\n",
    "        if value > mx:\n",
    "            mx = value\n",
    "    return mx"
   ]
  },
  {
   "cell_type": "code",
   "execution_count": 14,
   "id": "10fe2ec1-48db-49f6-8b74-e098cac62cc2",
   "metadata": {
    "tags": []
   },
   "outputs": [
    {
     "data": {
      "text/plain": [
       "999999.0"
      ]
     },
     "execution_count": 14,
     "metadata": {},
     "output_type": "execute_result"
    },
    {
     "name": "stdout",
     "output_type": "stream",
     "text": [
      "In [14] used 0.0 MiB RAM in 5.18s (system mean cpu 10%, single max cpu 100%), peaked 0.0 MiB above final usage, current RAM usage now 25090.8 MiB\n"
     ]
    }
   ],
   "source": [
    "do_thing(ser_mileage_pdn)"
   ]
  },
  {
   "cell_type": "code",
   "execution_count": 15,
   "id": "a88ef0a2-b446-4daa-be92-c0d202e69b48",
   "metadata": {
    "tags": []
   },
   "outputs": [
    {
     "data": {
      "text/plain": [
       "997046"
      ]
     },
     "execution_count": 15,
     "metadata": {},
     "output_type": "execute_result"
    },
    {
     "name": "stdout",
     "output_type": "stream",
     "text": [
      "In [15] used 0.0 MiB RAM in 0.31s (system mean cpu 8%, single max cpu 29%), peaked 0.0 MiB above final usage, current RAM usage now 25090.8 MiB\n"
     ]
    }
   ],
   "source": [
    "do_thing(ser_mileage_pda[:100000]) # crazy slow if not limited!"
   ]
  },
  {
   "cell_type": "code",
   "execution_count": 16,
   "id": "6c8c96db-cb48-4218-afb8-0118bef31ab9",
   "metadata": {
    "tags": []
   },
   "outputs": [
    {
     "name": "stdout",
     "output_type": "stream",
     "text": [
      "In [16] used 7.2 MiB RAM in 0.11s (system mean cpu 4%, single max cpu 9%), peaked 0.0 MiB above final usage, current RAM usage now 25098.0 MiB\n"
     ]
    }
   ],
   "source": [
    "from numba import njit\n",
    "do_thing_njit = njit(do_thing)"
   ]
  },
  {
   "cell_type": "code",
   "execution_count": 17,
   "id": "b0c44393-d65a-4cac-9635-806fd788aa60",
   "metadata": {
    "tags": []
   },
   "outputs": [
    {
     "data": {
      "text/plain": [
       "999999.0"
      ]
     },
     "execution_count": 17,
     "metadata": {},
     "output_type": "execute_result"
    },
    {
     "name": "stdout",
     "output_type": "stream",
     "text": [
      "In [17] used 28.4 MiB RAM in 0.43s (system mean cpu 10%, single max cpu 94%), peaked 0.0 MiB above final usage, current RAM usage now 25126.4 MiB\n"
     ]
    }
   ],
   "source": [
    "do_thing_njit(ser_mileage_pdn)"
   ]
  },
  {
   "cell_type": "code",
   "execution_count": 19,
   "id": "b73b970f-655a-43a8-9336-51dda2da5c80",
   "metadata": {
    "tags": []
   },
   "outputs": [
    {
     "name": "stdout",
     "output_type": "stream",
     "text": [
      "In [19] used 0.0 MiB RAM in 0.10s (system mean cpu 0%, single max cpu 0%), peaked 0.0 MiB above final usage, current RAM usage now 25133.8 MiB\n"
     ]
    }
   ],
   "source": [
    "#- argument 0: Cannot determine Numba type of <class 'pandas.core.arrays.arrow.array.ArrowExtensionArray'>\n",
    "#do_thing_njit(ser_mileage_pda)"
   ]
  },
  {
   "cell_type": "markdown",
   "id": "80b5284e-c490-4c15-bb17-d85a6440ba08",
   "metadata": {},
   "source": [
    "# Bit unsure about all of this!"
   ]
  },
  {
   "cell_type": "code",
   "execution_count": null,
   "id": "0a6d4f62-0236-4b76-bdd9-0b39abe9bb72",
   "metadata": {
    "tags": []
   },
   "outputs": [],
   "source": [
    "import numpy as np"
   ]
  },
  {
   "cell_type": "code",
   "execution_count": null,
   "id": "b9605890-afee-482c-8bcc-3034538f84a7",
   "metadata": {
    "tags": []
   },
   "outputs": [],
   "source": [
    "%timeit ser_mileage_pdn.mean()"
   ]
  },
  {
   "cell_type": "code",
   "execution_count": null,
   "id": "a102dd79-4cc9-408b-98ff-9e7ac52072e2",
   "metadata": {
    "tags": []
   },
   "outputs": [],
   "source": [
    "%timeit np.nanmean(ser_mileage_pdn)"
   ]
  },
  {
   "cell_type": "code",
   "execution_count": null,
   "id": "cc6a66c0-21da-4a47-aa33-f551fb492e16",
   "metadata": {
    "tags": []
   },
   "outputs": [],
   "source": [
    "%timeit dfpdn['test_mileage'].fillna(0).mean()"
   ]
  },
  {
   "cell_type": "code",
   "execution_count": null,
   "id": "5152fe07-705a-4c93-a237-7b6feac65c70",
   "metadata": {
    "tags": []
   },
   "outputs": [],
   "source": [
    "dfpdn['test_mileage'].fillna(0).mean()"
   ]
  },
  {
   "cell_type": "code",
   "execution_count": null,
   "id": "6cec5624-b052-4390-ad65-b032d8a0ef3d",
   "metadata": {
    "tags": []
   },
   "outputs": [],
   "source": [
    "dfpdn['test_mileage'].mean()"
   ]
  },
  {
   "cell_type": "code",
   "execution_count": null,
   "id": "c5e635b7-3675-426f-a850-7f55cfb5df18",
   "metadata": {
    "tags": []
   },
   "outputs": [],
   "source": [
    "%timeit dfpdn['test_mileage'].mean()"
   ]
  },
  {
   "cell_type": "code",
   "execution_count": null,
   "id": "43e0531e-4ee3-481d-9803-a01e5fee9074",
   "metadata": {
    "tags": []
   },
   "outputs": [],
   "source": [
    "%timeit dfpda['test_mileage'].fillna(0).mean()"
   ]
  },
  {
   "cell_type": "markdown",
   "id": "921833fb-f49c-4853-a9f8-f5014844e03f",
   "metadata": {},
   "source": [
    "# Trying sane item\n",
    "\n",
    "TODO try to balance up speed timings on mean?"
   ]
  },
  {
   "cell_type": "code",
   "execution_count": null,
   "id": "62c5d8c2-08d2-40b1-8143-e3c916f306f5",
   "metadata": {
    "tags": []
   },
   "outputs": [],
   "source": [
    "ser_pdn = pd.Series(np.array([0.1] * 1_000_000))\n",
    "assert ser_pdn.dtype == np.dtype('float64')"
   ]
  },
  {
   "cell_type": "code",
   "execution_count": null,
   "id": "29b4ed3f-11ec-4ed5-8ee4-65e9ed12a929",
   "metadata": {
    "tags": []
   },
   "outputs": [],
   "source": [
    "ser_pda = ser_pdn.astype('float64[pyarrow]')\n",
    "#assert ser_pda.dtype == np.dtype('double[pyarrow]')"
   ]
  },
  {
   "cell_type": "code",
   "execution_count": null,
   "id": "fdef2504-23aa-40ac-ad44-17a9ae9abf9c",
   "metadata": {
    "tags": []
   },
   "outputs": [],
   "source": [
    "ser_pl = pl.from_pandas(ser)"
   ]
  },
  {
   "cell_type": "code",
   "execution_count": null,
   "id": "651d2592-2e1a-4587-bac9-8af17d3c7a1e",
   "metadata": {
    "tags": []
   },
   "outputs": [],
   "source": [
    "ser_pdn.mean()"
   ]
  },
  {
   "cell_type": "code",
   "execution_count": null,
   "id": "ec6dabb8-3e13-4cb4-bac2-4436b13ed3d5",
   "metadata": {
    "tags": []
   },
   "outputs": [],
   "source": [
    "ser_pda.mean()"
   ]
  },
  {
   "cell_type": "code",
   "execution_count": null,
   "id": "d828ea42-2bad-4ce5-8206-ebc43336e8e6",
   "metadata": {
    "tags": []
   },
   "outputs": [],
   "source": [
    "ser_pl.mean()"
   ]
  },
  {
   "cell_type": "code",
   "execution_count": null,
   "id": "16b062fc-f740-4afa-9b49-614164e21622",
   "metadata": {},
   "outputs": [],
   "source": []
  }
 ],
 "metadata": {
  "kernelspec": {
   "display_name": "Python 3 (ipykernel)",
   "language": "python",
   "name": "python3"
  },
  "language_info": {
   "codemirror_mode": {
    "name": "ipython",
    "version": 3
   },
   "file_extension": ".py",
   "mimetype": "text/x-python",
   "name": "python",
   "nbconvert_exporter": "python",
   "pygments_lexer": "ipython3",
   "version": "3.11.5"
  }
 },
 "nbformat": 4,
 "nbformat_minor": 5
}
