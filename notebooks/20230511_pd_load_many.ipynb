{
 "cells": [
  {
   "cell_type": "markdown",
   "id": "cf9c22e9-698a-4fb1-aee3-21d47ad5a0fe",
   "metadata": {
    "tags": []
   },
   "source": [
    "# Explore with Pandas"
   ]
  },
  {
   "cell_type": "code",
   "execution_count": 1,
   "id": "a2a1dd62-04db-4b97-8a07-fb2cca1e4277",
   "metadata": {
    "tags": []
   },
   "outputs": [
    {
     "data": {
      "text/plain": [
       "'2.0.1'"
      ]
     },
     "metadata": {},
     "output_type": "display_data"
    },
    {
     "data": {
      "text/plain": [
       "'memory profile enabled'"
      ]
     },
     "execution_count": 1,
     "metadata": {},
     "output_type": "execute_result"
    },
    {
     "name": "stdout",
     "output_type": "stream",
     "text": [
      "In [1] used 0.0000 MiB RAM in 0.10s, peaked 0.00 MiB above current, total RAM usage 203.15 MiB\n"
     ]
    }
   ],
   "source": [
    "import pandas as pd\n",
    "import os\n",
    "import pandera as pa\n",
    "import glob\n",
    "import matplotlib.pyplot as plt\n",
    "\n",
    "display(pd.__version__)\n",
    "\n",
    "import ipython_memory_usage as imu\n",
    "%ipython_memory_usage_start"
   ]
  },
  {
   "cell_type": "code",
   "execution_count": 2,
   "id": "427c39e3-bd50-4868-a5d5-94eac62ab6a6",
   "metadata": {
    "tags": []
   },
   "outputs": [
    {
     "data": {
      "text/plain": [
       "('/home/ian/workspace/data/anonymised_mot_tests/test_result_2021',\n",
       " ['/home/ian/workspace/data/anonymised_mot_tests/test_result_2021/test_result_20220531131730_32355.csv',\n",
       "  '/home/ian/workspace/data/anonymised_mot_tests/test_result_2021/test_result_20220531131730_32361.csv',\n",
       "  '/home/ian/workspace/data/anonymised_mot_tests/test_result_2021/test_result_20220531131730_32372.csv',\n",
       "  '/home/ian/workspace/data/anonymised_mot_tests/test_result_2021/test_result_20220531131730_32367.csv',\n",
       "  '/home/ian/workspace/data/anonymised_mot_tests/test_result_2021/test_result_20220531131730_32365.csv',\n",
       "  '/home/ian/workspace/data/anonymised_mot_tests/test_result_2021/test_result_20220531131730_32386.csv',\n",
       "  '/home/ian/workspace/data/anonymised_mot_tests/test_result_2021/test_result_20220531131730_32357.csv',\n",
       "  '/home/ian/workspace/data/anonymised_mot_tests/test_result_2021/test_result_20220531131730_32378.csv',\n",
       "  '/home/ian/workspace/data/anonymised_mot_tests/test_result_2021/test_result_20220531131730_32370.csv',\n",
       "  '/home/ian/workspace/data/anonymised_mot_tests/test_result_2021/test_result_20220531131730_32360.csv',\n",
       "  '/home/ian/workspace/data/anonymised_mot_tests/test_result_2021/test_result_20220531131730_32384.csv',\n",
       "  '/home/ian/workspace/data/anonymised_mot_tests/test_result_2021/test_result_20220531131730_32375.csv'])"
      ]
     },
     "execution_count": 2,
     "metadata": {},
     "output_type": "execute_result"
    },
    {
     "name": "stdout",
     "output_type": "stream",
     "text": [
      "In [2] used 0.0000 MiB RAM in 0.10s, peaked 0.00 MiB above current, total RAM usage 203.15 MiB\n"
     ]
    }
   ],
   "source": [
    "DATA_FOLDER = '/home/ian/workspace/data/anonymised_mot_tests'\n",
    "DATA_FOLDER = os.path.join(DATA_FOLDER, 'test_result_2021')\n",
    "#DATA_FOLDER\n",
    "\n",
    "files = glob.glob(DATA_FOLDER+\"/test_result_*.csv\")\n",
    "DATA_FOLDER, files"
   ]
  },
  {
   "cell_type": "code",
   "execution_count": 3,
   "id": "5312fc17-c7e1-4062-a39a-94ce41b40d48",
   "metadata": {
    "tags": []
   },
   "outputs": [
    {
     "name": "stdout",
     "output_type": "stream",
     "text": [
      "Loading /home/ian/workspace/data/anonymised_mot_tests/test_result_2021/test_result_20220531131730_32355.csv\n",
      "Loading /home/ian/workspace/data/anonymised_mot_tests/test_result_2021/test_result_20220531131730_32361.csv\n",
      "Loading /home/ian/workspace/data/anonymised_mot_tests/test_result_2021/test_result_20220531131730_32372.csv\n",
      "Loading /home/ian/workspace/data/anonymised_mot_tests/test_result_2021/test_result_20220531131730_32367.csv\n",
      "Loading /home/ian/workspace/data/anonymised_mot_tests/test_result_2021/test_result_20220531131730_32365.csv\n",
      "Loading /home/ian/workspace/data/anonymised_mot_tests/test_result_2021/test_result_20220531131730_32386.csv\n",
      "Loading /home/ian/workspace/data/anonymised_mot_tests/test_result_2021/test_result_20220531131730_32357.csv\n",
      "Loading /home/ian/workspace/data/anonymised_mot_tests/test_result_2021/test_result_20220531131730_32378.csv\n",
      "Loading /home/ian/workspace/data/anonymised_mot_tests/test_result_2021/test_result_20220531131730_32370.csv\n",
      "Loading /home/ian/workspace/data/anonymised_mot_tests/test_result_2021/test_result_20220531131730_32360.csv\n",
      "Loading /home/ian/workspace/data/anonymised_mot_tests/test_result_2021/test_result_20220531131730_32384.csv\n",
      "Loading /home/ian/workspace/data/anonymised_mot_tests/test_result_2021/test_result_20220531131730_32375.csv\n",
      "In [3] used 4705.9336 MiB RAM in 44.27s, peaked 357.33 MiB above current, total RAM usage 4909.08 MiB\n"
     ]
    }
   ],
   "source": [
    "#filename = 'test_result_2021/test_result_20220531131730_32355.csv'\n",
    "dfs = []\n",
    "for filename in files:\n",
    "    #filename = files[0]\n",
    "    print(f\"Loading {filename}\")\n",
    "    df = pd.read_csv(filename)\n",
    "    dfs.append(df)"
   ]
  },
  {
   "cell_type": "code",
   "execution_count": 4,
   "id": "87a79435-3e48-4d72-bead-7fe51dc2b280",
   "metadata": {
    "tags": []
   },
   "outputs": [
    {
     "name": "stdout",
     "output_type": "stream",
     "text": [
      "In [4] used 4899.5156 MiB RAM in 5.53s, peaked 0.00 MiB above current, total RAM usage 9808.60 MiB\n"
     ]
    }
   ],
   "source": [
    "df = pd.concat(dfs)"
   ]
  },
  {
   "cell_type": "code",
   "execution_count": 5,
   "id": "195c7f95-2206-4c0b-881d-3140dedc50c7",
   "metadata": {
    "tags": []
   },
   "outputs": [
    {
     "name": "stdout",
     "output_type": "stream",
     "text": [
      "In [5] used -1969.1562 MiB RAM in 14.79s, peaked 2327.05 MiB above current, total RAM usage 7839.44 MiB\n"
     ]
    }
   ],
   "source": [
    "# seem to need to run this after concat, as before columns get de-categorised\n",
    "cat_cols = ['test_class_id', 'test_type', 'test_result', 'postcode_area', 'make', 'model', 'colour', 'fuel_type']\n",
    "for cat_col in cat_cols:\n",
    "    df[cat_col] = df[cat_col].astype('category')"
   ]
  },
  {
   "cell_type": "code",
   "execution_count": 6,
   "id": "65f2d5d6-37c8-4da6-b109-a2e4ad7185a8",
   "metadata": {
    "tags": []
   },
   "outputs": [
    {
     "name": "stdout",
     "output_type": "stream",
     "text": [
      "<class 'pandas.core.frame.DataFrame'>\n",
      "Index: 40380646 entries, 0 to 3363312\n",
      "Data columns (total 14 columns):\n",
      " #   Column             Dtype   \n",
      "---  ------             -----   \n",
      " 0   test_id            int64   \n",
      " 1   vehicle_id         int64   \n",
      " 2   test_date          object  \n",
      " 3   test_class_id      category\n",
      " 4   test_type          category\n",
      " 5   test_result        category\n",
      " 6   test_mileage       float64 \n",
      " 7   postcode_area      category\n",
      " 8   make               category\n",
      " 9   model              category\n",
      " 10  colour             category\n",
      " 11  fuel_type          category\n",
      " 12  cylinder_capacity  float64 \n",
      " 13  first_use_date     object  \n",
      "dtypes: category(8), float64(2), int64(2), object(2)\n",
      "memory usage: 2.6+ GB\n",
      "In [6] used 2.2930 MiB RAM in 0.13s, peaked 0.00 MiB above current, total RAM usage 7841.73 MiB\n"
     ]
    }
   ],
   "source": [
    "df.info()"
   ]
  },
  {
   "cell_type": "code",
   "execution_count": 7,
   "id": "3def7927-0f46-4dd2-85f0-597dc8733e6c",
   "metadata": {
    "tags": []
   },
   "outputs": [
    {
     "name": "stdout",
     "output_type": "stream",
     "text": [
      "In [7] used 309.2969 MiB RAM in 6.50s, peaked 616.08 MiB above current, total RAM usage 8151.03 MiB\n"
     ]
    }
   ],
   "source": [
    "df['first_use_date_raw'] = df['first_use_date']\n",
    "df['first_use_date'] = pd.to_datetime(df['first_use_date_raw'], errors='coerce')\n",
    "#OutOfBoundsDatetime: Out of bounds nanosecond timestamp: 4-02-20 00:00:00, at position 904021. You might want to try:\n",
    "#    - passing `format` if your strings have a consistent format;\n",
    "#    - passing `format='ISO8601'` if your strings are all ISO8601 but not necessarily in exactly the same format;\n",
    "#    - passing `format='mixed'`, and the format will be inferred for each element individually. You might want to use `dayfirst` alongside this."
   ]
  },
  {
   "cell_type": "code",
   "execution_count": 8,
   "id": "e0ac9392-9dab-4402-88b6-13cb08d38c7d",
   "metadata": {
    "tags": []
   },
   "outputs": [
    {
     "name": "stdout",
     "output_type": "stream",
     "text": [
      "In [8] used 308.2188 MiB RAM in 3.67s, peaked 528.42 MiB above current, total RAM usage 8459.25 MiB\n"
     ]
    }
   ],
   "source": [
    "df['test_date_raw'] = df['test_date']\n",
    "df['test_date'] = pd.to_datetime(df['test_date_raw'], errors='coerce')"
   ]
  },
  {
   "cell_type": "code",
   "execution_count": 9,
   "id": "285bd7b2-bbd2-40d8-8aa2-8f042733deb6",
   "metadata": {
    "tags": []
   },
   "outputs": [
    {
     "name": "stdout",
     "output_type": "stream",
     "text": [
      "In [9] used 2927.0664 MiB RAM in 5.22s, peaked 1757.45 MiB above current, total RAM usage 11386.32 MiB\n"
     ]
    }
   ],
   "source": [
    "from pandera import DataFrameSchema, Column, Check, Index, MultiIndex\n",
    "from pandera.errors import SchemaErrors\n",
    "\n",
    "VALID_TEST_RESULT = set(['P', 'F', 'PRS', 'ABR', 'ABA', 'ABRVE'])\n",
    "VALID_TEST_TYPE = set(['NT', 'RT', 'ES'])\n",
    "VALID_COLOUR = set(['BLACK', 'WHITE', 'SILVER', 'BLUE', 'GREY', 'RED', 'GREEN', 'ORANGE', 'YELLOW', 'BEIGE', \\\n",
    "                   'BROWN', 'PURPLE', 'GOLD', 'BRONZE', 'MAROON','TURQUOISE', 'CREAM', 'PINK', 'MULTI-COLOUR', 'NOT STATED'])\n",
    "VALID_FUEL_TYPE = set(['PE', 'DI', 'HY', 'EL', 'OT', 'LP', 'ED', 'GB', 'FC', 'CN', 'GA', 'GD','ST', 'LN'])\n",
    "\n",
    "# by default Column has nullable, coerce, unique, refex == False\n",
    "# title is not needed nor description\n",
    "\n",
    "# other checks?\n",
    "# test_mileage 5th percentile > xxx as most should be \"sensible\"\n",
    "# postcode_area xx very rare\n",
    "# cylinder_capacity typically more than ...\n",
    "# first_use_date > ... something reasonable\n",
    "\n",
    "\n",
    "schema = DataFrameSchema(\n",
    "    columns={\n",
    "        \"test_id\": Column(\n",
    "            dtype=\"int64\",\n",
    "            checks=[\n",
    "                #Check.greater_than_or_equal_to(min_value=31563.0),\n",
    "                #Check.less_than_or_equal_to(max_value=1999897323.0),\n",
    "            ],\n",
    "        ),\n",
    "        \"vehicle_id\": Column(\n",
    "            dtype=\"int64\",\n",
    "            checks=[\n",
    "                #Check.greater_than_or_equal_to(min_value=108275.0),\n",
    "                #Check.less_than_or_equal_to(max_value=1499704119.0),\n",
    "            ],\n",
    "        ),\n",
    "        \"test_date\": Column(\n",
    "            dtype=\"datetime\",\n",
    "            coerce=False\n",
    "        ),\n",
    "        \"test_class_id\": Column(\n",
    "            dtype=\"category\",\n",
    "            checks=[\n",
    "                # WHAT'S A GOOD RANGE?\n",
    "                #Check.greater_than_or_equal_to(min_value=1.0),\n",
    "                #Check.less_than_or_equal_to(max_value=7.0),\n",
    "            ],\n",
    "        ),\n",
    "        \"test_type\": Column(\n",
    "            dtype=\"category\",\n",
    "            checks=[pa.Check(lambda s: s.isin(VALID_TEST_TYPE))],\n",
    "        ),\n",
    "        \"test_result\": Column(\n",
    "            dtype=\"category\",\n",
    "            checks=[Check(lambda s: s.isin(VALID_TEST_RESULT)),\n",
    "                    # we normally see 75% pass rate, so test >60%\n",
    "                    Check(lambda ser: ((ser == 'P').sum() / ser.size) > 0.6)],\n",
    "        ),\n",
    "        \"test_mileage\": Column(\n",
    "            dtype=\"float64\",\n",
    "            checks=[\n",
    "                # we do get 1-10 miles on the clock!\n",
    "                Check.greater_than_or_equal_to(min_value=1.0),\n",
    "                Check.less_than_or_equal_to(max_value=999999.0),\n",
    "            ],\n",
    "            nullable=True,\n",
    "        ),\n",
    "        \"postcode_area\": Column(\n",
    "            dtype=\"category\",\n",
    "            checks=None,\n",
    "        ),\n",
    "        \"make\": Column(\n",
    "            dtype=\"category\",\n",
    "            nullable=True,\n",
    "            checks=[pa.Check(lambda ser: ser.isnull().sum() <= 5)]\n",
    "        ),\n",
    "        \"model\": Column(\n",
    "            dtype=\"category\",\n",
    "            nullable=True\n",
    "        ),\n",
    "        \"colour\": Column(\n",
    "            dtype=\"category\",\n",
    "            checks=[pa.Check(lambda s: s.isin(VALID_COLOUR))],\n",
    "        ),\n",
    "        \"fuel_type\": Column(\n",
    "            dtype=\"category\",\n",
    "            checks=[Check(lambda s: s.isin(VALID_FUEL_TYPE))],\n",
    "        ),\n",
    "        \"cylinder_capacity\": Column(\n",
    "            dtype=\"float64\",\n",
    "            checks=[\n",
    "                Check.greater_than_or_equal_to(min_value=0.0),\n",
    "                Check.less_than_or_equal_to(max_value=99999.0),\n",
    "                # TODO added percentile check\n",
    "            ],\n",
    "            nullable=True,\n",
    "        ),\n",
    "        \"first_use_date\": Column(\n",
    "            dtype=\"datetime\",\n",
    "            nullable=True\n",
    "        ),\n",
    "    },\n",
    "    checks=None,\n",
    "    index=Index(\n",
    "        dtype=\"int64\",\n",
    "        checks=[\n",
    "            #Check.greater_than_or_equal_to(min_value=1030.0),\n",
    "            #Check.less_than_or_equal_to(max_value=3362152.0),\n",
    "        ],\n",
    "    ),\n",
    "    dtype=None,\n",
    "    coerce=False,\n",
    "    strict=False,\n",
    "    name=None,\n",
    "    ordered=False,\n",
    "    unique=None,\n",
    "    report_duplicates=\"all\",\n",
    "    unique_column_names=False,\n",
    "    title=None,\n",
    "    description=None,\n",
    ")\n",
    "\n",
    "try:\n",
    "    schema.validate(df, lazy=True) # RESTRICTED\n",
    "except SchemaErrors as err:\n",
    "    print(err.failure_cases)  # dataframe of schema errors\n",
    "    print(err.data)  # invalid dataframe\n"
   ]
  },
  {
   "cell_type": "markdown",
   "id": "66dc6991-9496-4e44-b5dd-d647fc3221f2",
   "metadata": {},
   "source": [
    "# Plot first use year vs mileage"
   ]
  },
  {
   "cell_type": "code",
   "execution_count": 13,
   "id": "ac0b4256-9cfe-459b-a497-60d7ea3e88fa",
   "metadata": {
    "tags": []
   },
   "outputs": [
    {
     "data": {
      "text/html": [
       "<div>\n",
       "<style scoped>\n",
       "    .dataframe tbody tr th:only-of-type {\n",
       "        vertical-align: middle;\n",
       "    }\n",
       "\n",
       "    .dataframe tbody tr th {\n",
       "        vertical-align: top;\n",
       "    }\n",
       "\n",
       "    .dataframe thead th {\n",
       "        text-align: right;\n",
       "    }\n",
       "</style>\n",
       "<table border=\"1\" class=\"dataframe\">\n",
       "  <thead>\n",
       "    <tr style=\"text-align: right;\">\n",
       "      <th></th>\n",
       "      <th>test_mileage</th>\n",
       "      <th>first_use_date</th>\n",
       "    </tr>\n",
       "  </thead>\n",
       "  <tbody>\n",
       "    <tr>\n",
       "      <th>2882486</th>\n",
       "      <td>129372.0</td>\n",
       "      <td>2008-12-01</td>\n",
       "    </tr>\n",
       "    <tr>\n",
       "      <th>1192348</th>\n",
       "      <td>21707.0</td>\n",
       "      <td>2016-11-24</td>\n",
       "    </tr>\n",
       "    <tr>\n",
       "      <th>2431636</th>\n",
       "      <td>156192.0</td>\n",
       "      <td>2007-12-17</td>\n",
       "    </tr>\n",
       "    <tr>\n",
       "      <th>644337</th>\n",
       "      <td>12680.0</td>\n",
       "      <td>2017-03-15</td>\n",
       "    </tr>\n",
       "    <tr>\n",
       "      <th>3336766</th>\n",
       "      <td>65167.0</td>\n",
       "      <td>2008-03-13</td>\n",
       "    </tr>\n",
       "    <tr>\n",
       "      <th>...</th>\n",
       "      <td>...</td>\n",
       "      <td>...</td>\n",
       "    </tr>\n",
       "    <tr>\n",
       "      <th>407545</th>\n",
       "      <td>66372.0</td>\n",
       "      <td>2013-03-20</td>\n",
       "    </tr>\n",
       "    <tr>\n",
       "      <th>1292476</th>\n",
       "      <td>65947.0</td>\n",
       "      <td>2013-05-31</td>\n",
       "    </tr>\n",
       "    <tr>\n",
       "      <th>333066</th>\n",
       "      <td>57046.0</td>\n",
       "      <td>2016-03-18</td>\n",
       "    </tr>\n",
       "    <tr>\n",
       "      <th>2832372</th>\n",
       "      <td>28331.0</td>\n",
       "      <td>2018-10-13</td>\n",
       "    </tr>\n",
       "    <tr>\n",
       "      <th>2665995</th>\n",
       "      <td>31705.0</td>\n",
       "      <td>2014-10-31</td>\n",
       "    </tr>\n",
       "  </tbody>\n",
       "</table>\n",
       "<p>994 rows × 2 columns</p>\n",
       "</div>"
      ],
      "text/plain": [
       "         test_mileage first_use_date\n",
       "2882486      129372.0     2008-12-01\n",
       "1192348       21707.0     2016-11-24\n",
       "2431636      156192.0     2007-12-17\n",
       "644337        12680.0     2017-03-15\n",
       "3336766       65167.0     2008-03-13\n",
       "...               ...            ...\n",
       "407545        66372.0     2013-03-20\n",
       "1292476       65947.0     2013-05-31\n",
       "333066        57046.0     2016-03-18\n",
       "2832372       28331.0     2018-10-13\n",
       "2665995       31705.0     2014-10-31\n",
       "\n",
       "[994 rows x 2 columns]"
      ]
     },
     "execution_count": 13,
     "metadata": {},
     "output_type": "execute_result"
    },
    {
     "name": "stdout",
     "output_type": "stream",
     "text": [
      "In [13] used 0.3242 MiB RAM in 1.56s, peaked 2.19 MiB above current, total RAM usage 8466.76 MiB\n"
     ]
    }
   ],
   "source": [
    "df_sample = df.sample(1_000)\n",
    "dfx = df_sample[['test_mileage', 'first_use_date']].copy()\n",
    "dfx = dfx.dropna()\n",
    "dfx"
   ]
  },
  {
   "cell_type": "code",
   "execution_count": 14,
   "id": "97660e3e-1fef-46a1-aff9-f860d31dd08f",
   "metadata": {
    "tags": []
   },
   "outputs": [
    {
     "name": "stdout",
     "output_type": "stream",
     "text": [
      "In [14] used 0.0000 MiB RAM in 0.10s, peaked 0.00 MiB above current, total RAM usage 8466.76 MiB\n"
     ]
    }
   ],
   "source": [
    "# https://github.com/ianozsvald/notes_to_self/blob/master/simpler_mpl.py\n",
    "\n",
    "def set_common_mpl_styles(\n",
    "    ax,\n",
    "    legend=True,\n",
    "    grid_axis=\"y\",\n",
    "    ylabel=None,\n",
    "    xlabel=None,\n",
    "    title=None,\n",
    "    ymin=None,\n",
    "    xmin=None,\n",
    "):\n",
    "    \"\"\"Nice common plot configuration\n",
    "    We might use it via `fig, ax = plt.subplots(constrained_layout=True, figsize=(8, 6))`\n",
    "    \"\"\"\n",
    "    if grid_axis is not None:\n",
    "        # depending on major/minor grid frequency we might\n",
    "        # need the simpler form\n",
    "        # ax.grid(axis=grid_axis)\n",
    "        ax.grid(visible=True, which=\"both\", axis=grid_axis)\n",
    "    #if legend is False: # CHANGED\n",
    "    #    ax.legend_.remove()\n",
    "    #else:\n",
    "    #    ax.legend()\n",
    "    ax.spines[\"top\"].set_visible(False)\n",
    "    ax.spines[\"right\"].set_visible(False)\n",
    "    if ylabel is not None:\n",
    "        ax.set_ylabel(ylabel)\n",
    "    if xlabel is not None:\n",
    "        ax.set_xlabel(xlabel)\n",
    "    if title is not None:\n",
    "        ax.set_title(title)\n",
    "    if ymin is not None:\n",
    "        ax.set_ylim(ymin=ymin)\n",
    "    if xmin is not None:\n",
    "        ax.set_xlim(xmin=xmin)\n",
    "\n",
    "\n",
    "def rotate_labels(x_axis=False, y_axis=False, rotation=-90):\n",
    "    if x_axis:\n",
    "        plt.xticks(rotation=rotation)\n",
    "    if y_axis:\n",
    "        plt.yticks(rotation=rotation)\n",
    "\n",
    "\n",
    "def set_commas(ax, x_axis=False, y_axis=False):\n",
    "    # NOTE this may not work well e.g. on bar plots\n",
    "    # in which case make a df_to_plot where index has been\n",
    "    # reset, turned with string formatting into good result,\n",
    "    # then index has been set again\n",
    "    texts = []\n",
    "    if x_axis:\n",
    "        ticks = ax.get_xticks()\n",
    "        tick_labels = ax.get_xticklabels()\n",
    "        for label in tick_labels:\n",
    "            text = label.get_text()\n",
    "            texts.append(f\"{int(text):,}\")\n",
    "        plt.xticks(ticks=ticks, labels=texts)\n",
    "    if y_axis:\n",
    "        ticks = ax.get_yticks()\n",
    "        tick_labels = ax.get_yticklabels()\n",
    "        for label in tick_labels:\n",
    "            text = label.get_text()\n",
    "            text = text.replace('−', '-') # CHANGED\n",
    "            texts.append(f\"{int(text):,}\")\n",
    "        plt.yticks(ticks=ticks, labels=texts)"
   ]
  },
  {
   "cell_type": "code",
   "execution_count": 15,
   "id": "9796c99c-05d1-4dd8-a8a0-2f5c9cbbe1b7",
   "metadata": {
    "tags": []
   },
   "outputs": [
    {
     "data": {
      "image/png": "[encoded data removed]",
      "text/plain": [
       "<Figure size 400x400 with 1 Axes>"
      ]
     },
     "metadata": {},
     "output_type": "display_data"
    },
    {
     "name": "stdout",
     "output_type": "stream",
     "text": [
      "In [15] used 0.2539 MiB RAM in 0.28s, peaked 0.00 MiB above current, total RAM usage 8467.02 MiB\n"
     ]
    }
   ],
   "source": [
    "dfx['first_use_year'] = dfx['first_use_date'].dt.year\n",
    "#dfx = dfx.set_index('first_use_year')\n",
    "\n",
    "fig, ax = plt.subplots(constrained_layout=True, figsize=(4, 4))\n",
    "dfx.plot(kind='scatter', x='first_use_year', y='test_mileage', alpha=0.5, ax=ax)\n",
    "set_commas(ax, y_axis=True)\n",
    "set_common_mpl_styles(ax, ymin=-2000, title=\"MOT Year 2021\")"
   ]
  },
  {
   "cell_type": "code",
   "execution_count": 16,
   "id": "6a6046d4-976d-46de-8f2a-eca8a99bf54c",
   "metadata": {
    "tags": []
   },
   "outputs": [
    {
     "data": {
      "text/plain": [
       "(-2000.0, 400000.0)"
      ]
     },
     "execution_count": 16,
     "metadata": {},
     "output_type": "execute_result"
    },
    {
     "data": {
      "image/png": "[encoded data removed]",
      "text/plain": [
       "<Figure size 400x400 with 1 Axes>"
      ]
     },
     "metadata": {},
     "output_type": "display_data"
    },
    {
     "name": "stdout",
     "output_type": "stream",
     "text": [
      "In [16] used 0.5156 MiB RAM in 0.28s, peaked 0.00 MiB above current, total RAM usage 8467.53 MiB\n"
     ]
    }
   ],
   "source": [
    "dfx['first_use_year'] = dfx['first_use_date'].dt.year\n",
    "#dfx = dfx.set_index('first_use_year')\n",
    "\n",
    "fig, ax = plt.subplots(constrained_layout=True, figsize=(4, 4))\n",
    "dfx.plot(kind='scatter', x='first_use_year', y='test_mileage', alpha=0.5, ax=ax)\n",
    "set_commas(ax, y_axis=True)\n",
    "set_common_mpl_styles(ax, ymin=-2000, title=\"MOT Year 2021\")\n",
    "ax.set_xlim(xmin=1980)\n",
    "ax.set_ylim(ymax=400000)"
   ]
  },
  {
   "cell_type": "code",
   "execution_count": null,
   "id": "605e24f9-5788-4c03-82fd-0a4c43291bd1",
   "metadata": {
    "tags": []
   },
   "outputs": [],
   "source": []
  },
  {
   "cell_type": "markdown",
   "id": "3def4c1a-66e4-4027-a8ca-2520376dc9d0",
   "metadata": {},
   "source": [
    "# quick hack to look in to the volvo and passat"
   ]
  },
  {
   "cell_type": "code",
   "execution_count": 17,
   "id": "13607101-9a6e-44c2-8866-04981bdd1ceb",
   "metadata": {
    "tags": []
   },
   "outputs": [
    {
     "name": "stdout",
     "output_type": "stream",
     "text": [
      "In [17] used 308.1328 MiB RAM in 1.88s, peaked 2.25 MiB above current, total RAM usage 8775.66 MiB\n"
     ]
    }
   ],
   "source": [
    "df['first_use_year'] = df['first_use_date'].dt.year\n"
   ]
  },
  {
   "cell_type": "code",
   "execution_count": 18,
   "id": "76b54e63-dd8e-4de8-93c5-7f8ff4e7962a",
   "metadata": {},
   "outputs": [
    {
     "data": {
      "text/plain": [
       "count      1893.000000\n",
       "mean     147694.984680\n",
       "std       38235.841446\n",
       "min       11697.000000\n",
       "25%      123573.000000\n",
       "50%      147722.000000\n",
       "75%      172023.000000\n",
       "max      339348.000000\n",
       "Name: test_mileage, dtype: float64"
      ]
     },
     "execution_count": 18,
     "metadata": {},
     "output_type": "execute_result"
    },
    {
     "name": "stdout",
     "output_type": "stream",
     "text": [
      "In [18] used -0.6484 MiB RAM in 0.42s, peaked 759.89 MiB above current, total RAM usage 8775.02 MiB\n"
     ]
    }
   ],
   "source": [
    "# https://www.ebay.co.uk/itm/166050536198\n",
    "df.query('make==\"VOLVO\" and model==\"V50\" and fuel_type==\"DI\" \\\n",
    "and test_result==\"P\" and first_use_year==2005')['test_mileage'].describe()"
   ]
  },
  {
   "cell_type": "code",
   "execution_count": 19,
   "id": "d9870bbc-5d5f-4c8d-9d9c-3a5c943b4b52",
   "metadata": {
    "tags": []
   },
   "outputs": [
    {
     "data": {
      "text/plain": [
       "count       330.000000\n",
       "mean     128494.012121\n",
       "std       48560.709765\n",
       "min       21820.000000\n",
       "25%       95334.500000\n",
       "50%      125398.500000\n",
       "75%      157700.750000\n",
       "max      380196.000000\n",
       "Name: test_mileage, dtype: float64"
      ]
     },
     "execution_count": 19,
     "metadata": {},
     "output_type": "execute_result"
    },
    {
     "name": "stdout",
     "output_type": "stream",
     "text": [
      "In [19] used -0.3125 MiB RAM in 0.41s, peaked 808.04 MiB above current, total RAM usage 8774.70 MiB\n"
     ]
    }
   ],
   "source": [
    "# https://www.facebook.com/marketplace/item/956054899045224/\n",
    "\n",
    "df.query('make==\"VOLKSWAGEN\" and model==\"PASSAT\" and fuel_type==\"PE\" \\\n",
    "and test_result==\"P\" and first_use_year==1999')['test_mileage'].describe()"
   ]
  },
  {
   "cell_type": "code",
   "execution_count": null,
   "id": "f7acd4b4-433e-4c7a-ba27-6796fe1054f3",
   "metadata": {},
   "outputs": [],
   "source": []
  }
 ],
 "metadata": {
  "kernelspec": {
   "display_name": "Python 3 (ipykernel)",
   "language": "python",
   "name": "python3"
  },
  "language_info": {
   "codemirror_mode": {
    "name": "ipython",
    "version": 3
   },
   "file_extension": ".py",
   "mimetype": "text/x-python",
   "name": "python",
   "nbconvert_exporter": "python",
   "pygments_lexer": "ipython3",
   "version": "3.11.3"
  }
 },
 "nbformat": 4,
 "nbformat_minor": 5
}
