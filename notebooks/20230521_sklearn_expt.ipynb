{
 "cells": [
  {
   "cell_type": "code",
   "execution_count": 1,
   "id": "a9d98b3f-f764-490e-8278-ab5fa9b38f9c",
   "metadata": {
    "tags": []
   },
   "outputs": [
    {
     "data": {
      "text/plain": [
       "'0.17.10'"
      ]
     },
     "metadata": {},
     "output_type": "display_data"
    },
    {
     "data": {
      "text/plain": [
       "'Profiling enabled'"
      ]
     },
     "execution_count": 1,
     "metadata": {},
     "output_type": "execute_result"
    },
    {
     "name": "stdout",
     "output_type": "stream",
     "text": [
      "In [1] used 0.0 MiB RAM in 0.10s (system mean cpu 0%, single max cpu 0%), peaked 0.0 MiB above final usage, current RAM usage now 78.2 MiB\n"
     ]
    }
   ],
   "source": [
    "import polars as pl\n",
    "\n",
    "display(pl.__version__)\n",
    "\n",
    "from cell_profiler import cell_profiler as cp\n",
    "%start_cell_profiler"
   ]
  },
  {
   "cell_type": "code",
   "execution_count": 9,
   "id": "9f53c540-a5c1-4f62-89bf-36cc31662975",
   "metadata": {
    "tags": []
   },
   "outputs": [
    {
     "data": {
      "text/plain": [
       "((100, 20), (100,))"
      ]
     },
     "execution_count": 9,
     "metadata": {},
     "output_type": "execute_result"
    },
    {
     "name": "stdout",
     "output_type": "stream",
     "text": [
      "In [9] used 0.0 MiB RAM in 0.10s (system mean cpu 8%, single max cpu 12%), peaked 0.0 MiB above final usage, current RAM usage now 150.7 MiB\n"
     ]
    }
   ],
   "source": [
    "import sklearn\n",
    "from sklearn import datasets\n",
    "\n",
    "X, y = datasets.make_classification(n_samples=100)\n",
    "X.shape, y.shape"
   ]
  },
  {
   "cell_type": "code",
   "execution_count": 19,
   "id": "22d7d3f6-699e-4b17-ab00-2d61541ecb8e",
   "metadata": {
    "tags": []
   },
   "outputs": [
    {
     "data": {
      "text/html": [
       "<div>\n",
       "<style scoped>\n",
       "    .dataframe tbody tr th:only-of-type {\n",
       "        vertical-align: middle;\n",
       "    }\n",
       "\n",
       "    .dataframe tbody tr th {\n",
       "        vertical-align: top;\n",
       "    }\n",
       "\n",
       "    .dataframe thead th {\n",
       "        text-align: right;\n",
       "    }\n",
       "</style>\n",
       "<table border=\"1\" class=\"dataframe\">\n",
       "  <thead>\n",
       "    <tr style=\"text-align: right;\">\n",
       "      <th></th>\n",
       "      <th>0</th>\n",
       "      <th>1</th>\n",
       "      <th>2</th>\n",
       "      <th>3</th>\n",
       "      <th>4</th>\n",
       "      <th>5</th>\n",
       "      <th>6</th>\n",
       "      <th>7</th>\n",
       "      <th>8</th>\n",
       "      <th>9</th>\n",
       "      <th>...</th>\n",
       "      <th>11</th>\n",
       "      <th>12</th>\n",
       "      <th>13</th>\n",
       "      <th>14</th>\n",
       "      <th>15</th>\n",
       "      <th>16</th>\n",
       "      <th>17</th>\n",
       "      <th>18</th>\n",
       "      <th>19</th>\n",
       "      <th>y</th>\n",
       "    </tr>\n",
       "  </thead>\n",
       "  <tbody>\n",
       "    <tr>\n",
       "      <th>11</th>\n",
       "      <td>-0.060270</td>\n",
       "      <td>0.422732</td>\n",
       "      <td>1.686743</td>\n",
       "      <td>0.593993</td>\n",
       "      <td>0.809713</td>\n",
       "      <td>-0.943838</td>\n",
       "      <td>-1.059615</td>\n",
       "      <td>-0.921746</td>\n",
       "      <td>1.333141</td>\n",
       "      <td>-0.213168</td>\n",
       "      <td>...</td>\n",
       "      <td>0.095334</td>\n",
       "      <td>-1.613140</td>\n",
       "      <td>0.382292</td>\n",
       "      <td>-0.084190</td>\n",
       "      <td>0.202388</td>\n",
       "      <td>-1.939808</td>\n",
       "      <td>1.820742</td>\n",
       "      <td>-0.716959</td>\n",
       "      <td>0.514736</td>\n",
       "      <td>1</td>\n",
       "    </tr>\n",
       "    <tr>\n",
       "      <th>30</th>\n",
       "      <td>0.861566</td>\n",
       "      <td>-0.991108</td>\n",
       "      <td>1.273455</td>\n",
       "      <td>-0.201152</td>\n",
       "      <td>-1.034313</td>\n",
       "      <td>1.231253</td>\n",
       "      <td>-0.759911</td>\n",
       "      <td>0.749452</td>\n",
       "      <td>-0.037539</td>\n",
       "      <td>0.191867</td>\n",
       "      <td>...</td>\n",
       "      <td>1.144565</td>\n",
       "      <td>0.861858</td>\n",
       "      <td>-0.219410</td>\n",
       "      <td>1.402508</td>\n",
       "      <td>-1.780807</td>\n",
       "      <td>-1.177060</td>\n",
       "      <td>0.766279</td>\n",
       "      <td>1.156789</td>\n",
       "      <td>0.025800</td>\n",
       "      <td>0</td>\n",
       "    </tr>\n",
       "    <tr>\n",
       "      <th>77</th>\n",
       "      <td>1.055320</td>\n",
       "      <td>1.336201</td>\n",
       "      <td>0.613361</td>\n",
       "      <td>0.564196</td>\n",
       "      <td>0.799453</td>\n",
       "      <td>1.296898</td>\n",
       "      <td>-0.658185</td>\n",
       "      <td>0.152470</td>\n",
       "      <td>-0.937939</td>\n",
       "      <td>1.827581</td>\n",
       "      <td>...</td>\n",
       "      <td>0.492752</td>\n",
       "      <td>-2.071814</td>\n",
       "      <td>-0.609538</td>\n",
       "      <td>-0.222946</td>\n",
       "      <td>-1.619777</td>\n",
       "      <td>-0.153761</td>\n",
       "      <td>0.812372</td>\n",
       "      <td>-1.040297</td>\n",
       "      <td>-1.177872</td>\n",
       "      <td>1</td>\n",
       "    </tr>\n",
       "    <tr>\n",
       "      <th>62</th>\n",
       "      <td>-0.721950</td>\n",
       "      <td>-0.753917</td>\n",
       "      <td>-0.638892</td>\n",
       "      <td>-0.661616</td>\n",
       "      <td>0.240034</td>\n",
       "      <td>0.902817</td>\n",
       "      <td>-1.018813</td>\n",
       "      <td>0.185339</td>\n",
       "      <td>-0.726852</td>\n",
       "      <td>-2.595235</td>\n",
       "      <td>...</td>\n",
       "      <td>0.901671</td>\n",
       "      <td>0.118457</td>\n",
       "      <td>-0.245946</td>\n",
       "      <td>0.775568</td>\n",
       "      <td>1.143367</td>\n",
       "      <td>-0.971372</td>\n",
       "      <td>-1.956115</td>\n",
       "      <td>-1.059235</td>\n",
       "      <td>-1.615791</td>\n",
       "      <td>0</td>\n",
       "    </tr>\n",
       "    <tr>\n",
       "      <th>23</th>\n",
       "      <td>-1.184289</td>\n",
       "      <td>-0.869667</td>\n",
       "      <td>-0.210753</td>\n",
       "      <td>-0.461355</td>\n",
       "      <td>0.137064</td>\n",
       "      <td>-0.554451</td>\n",
       "      <td>0.093945</td>\n",
       "      <td>-0.370074</td>\n",
       "      <td>0.241144</td>\n",
       "      <td>0.786154</td>\n",
       "      <td>...</td>\n",
       "      <td>1.454090</td>\n",
       "      <td>-0.958533</td>\n",
       "      <td>1.137856</td>\n",
       "      <td>1.322500</td>\n",
       "      <td>1.956404</td>\n",
       "      <td>0.587218</td>\n",
       "      <td>-0.290232</td>\n",
       "      <td>1.615645</td>\n",
       "      <td>-0.725156</td>\n",
       "      <td>1</td>\n",
       "    </tr>\n",
       "  </tbody>\n",
       "</table>\n",
       "<p>5 rows × 21 columns</p>\n",
       "</div>"
      ],
      "text/plain": [
       "           0         1         2         3         4         5         6   \n",
       "11 -0.060270  0.422732  1.686743  0.593993  0.809713 -0.943838 -1.059615  \\\n",
       "30  0.861566 -0.991108  1.273455 -0.201152 -1.034313  1.231253 -0.759911   \n",
       "77  1.055320  1.336201  0.613361  0.564196  0.799453  1.296898 -0.658185   \n",
       "62 -0.721950 -0.753917 -0.638892 -0.661616  0.240034  0.902817 -1.018813   \n",
       "23 -1.184289 -0.869667 -0.210753 -0.461355  0.137064 -0.554451  0.093945   \n",
       "\n",
       "           7         8         9  ...        11        12        13        14   \n",
       "11 -0.921746  1.333141 -0.213168  ...  0.095334 -1.613140  0.382292 -0.084190  \\\n",
       "30  0.749452 -0.037539  0.191867  ...  1.144565  0.861858 -0.219410  1.402508   \n",
       "77  0.152470 -0.937939  1.827581  ...  0.492752 -2.071814 -0.609538 -0.222946   \n",
       "62  0.185339 -0.726852 -2.595235  ...  0.901671  0.118457 -0.245946  0.775568   \n",
       "23 -0.370074  0.241144  0.786154  ...  1.454090 -0.958533  1.137856  1.322500   \n",
       "\n",
       "          15        16        17        18        19  y  \n",
       "11  0.202388 -1.939808  1.820742 -0.716959  0.514736  1  \n",
       "30 -1.780807 -1.177060  0.766279  1.156789  0.025800  0  \n",
       "77 -1.619777 -0.153761  0.812372 -1.040297 -1.177872  1  \n",
       "62  1.143367 -0.971372 -1.956115 -1.059235 -1.615791  0  \n",
       "23  1.956404  0.587218 -0.290232  1.615645 -0.725156  1  \n",
       "\n",
       "[5 rows x 21 columns]"
      ]
     },
     "execution_count": 19,
     "metadata": {},
     "output_type": "execute_result"
    },
    {
     "name": "stdout",
     "output_type": "stream",
     "text": [
      "In [19] used 0.0 MiB RAM in 0.12s (system mean cpu 0%, single max cpu 0%), peaked 0.0 MiB above final usage, current RAM usage now 224.3 MiB\n"
     ]
    }
   ],
   "source": [
    "import pandas as pd\n",
    "df_np = pd.DataFrame(X)\n",
    "df_np['y'] = y\n",
    "df_np.sample(5)"
   ]
  },
  {
   "cell_type": "code",
   "execution_count": 27,
   "id": "8913d2ed-836c-4055-a40c-81e4fd580c49",
   "metadata": {
    "tags": []
   },
   "outputs": [
    {
     "data": {
      "text/plain": [
       "((75, 20), (75,))"
      ]
     },
     "execution_count": 27,
     "metadata": {},
     "output_type": "execute_result"
    },
    {
     "name": "stdout",
     "output_type": "stream",
     "text": [
      "In [27] used 0.0 MiB RAM in 0.10s (system mean cpu 7%, single max cpu 13%), peaked 0.0 MiB above final usage, current RAM usage now 267.3 MiB\n"
     ]
    }
   ],
   "source": [
    "from sklearn.model_selection import train_test_split\n",
    "X_train, X_test, y_train, y_test = train_test_split(df_np.drop(columns=['y']), df_np['y'])\n",
    "X_train.shape, y_train.shape"
   ]
  },
  {
   "cell_type": "code",
   "execution_count": 18,
   "id": "e8bbd215-72e7-41b9-8a9e-16fba0b2cceb",
   "metadata": {
    "tags": []
   },
   "outputs": [
    {
     "data": {
      "text/plain": [
       "0.84"
      ]
     },
     "execution_count": 18,
     "metadata": {},
     "output_type": "execute_result"
    },
    {
     "name": "stdout",
     "output_type": "stream",
     "text": [
      "In [18] used 0.0 MiB RAM in 0.11s (system mean cpu 9%, single max cpu 13%), peaked 0.0 MiB above final usage, current RAM usage now 224.3 MiB\n"
     ]
    }
   ],
   "source": [
    "from sklearn.linear_model import LogisticRegression\n",
    "clf = LogisticRegression()\n",
    "clf.fit(X_train, y_train)\n",
    "clf.score(X_test, y_test)"
   ]
  },
  {
   "cell_type": "code",
   "execution_count": 32,
   "id": "a4d9142e-c5a7-45d9-b13f-ef2c3b38a727",
   "metadata": {
    "tags": []
   },
   "outputs": [
    {
     "data": {
      "text/html": [
       "<div><style>\n",
       ".dataframe > thead > tr > th,\n",
       ".dataframe > tbody > tr > td {\n",
       "  text-align: right;\n",
       "}\n",
       "</style>\n",
       "<small>shape: (5, 21)</small><table border=\"1\" class=\"dataframe\"><thead><tr><th>0</th><th>1</th><th>2</th><th>3</th><th>4</th><th>5</th><th>6</th><th>7</th><th>8</th><th>9</th><th>10</th><th>11</th><th>12</th><th>13</th><th>14</th><th>15</th><th>16</th><th>17</th><th>18</th><th>19</th><th>y</th></tr><tr><td>f64</td><td>f64</td><td>f64</td><td>f64</td><td>f64</td><td>f64</td><td>f64</td><td>f64</td><td>f64</td><td>f64</td><td>f64</td><td>f64</td><td>f64</td><td>f64</td><td>f64</td><td>f64</td><td>f64</td><td>f64</td><td>f64</td><td>f64</td><td>i64</td></tr></thead><tbody><tr><td>-0.609251</td><td>0.58008</td><td>-2.010993</td><td>-0.051076</td><td>2.038963</td><td>-0.131485</td><td>0.071559</td><td>-0.532819</td><td>0.727061</td><td>-1.441947</td><td>-0.397792</td><td>3.211164</td><td>0.894453</td><td>-0.352268</td><td>2.514532</td><td>1.232693</td><td>-0.073565</td><td>0.639091</td><td>-0.123848</td><td>3.03647</td><td>1</td></tr><tr><td>-0.713306</td><td>-0.569839</td><td>0.494348</td><td>0.260301</td><td>0.43114</td><td>2.405756</td><td>-0.211969</td><td>0.634343</td><td>-0.526305</td><td>-0.69156</td><td>0.62866</td><td>1.03613</td><td>0.829073</td><td>-0.389461</td><td>-0.870147</td><td>1.168222</td><td>-0.263271</td><td>-0.269834</td><td>-0.134793</td><td>0.517666</td><td>0</td></tr><tr><td>0.944544</td><td>1.26518</td><td>-1.33923</td><td>2.288202</td><td>-0.900055</td><td>-0.550943</td><td>0.009292</td><td>0.735532</td><td>0.432712</td><td>0.437493</td><td>-1.279865</td><td>1.273202</td><td>0.015702</td><td>0.246745</td><td>1.308517</td><td>-1.434505</td><td>-0.091467</td><td>0.141366</td><td>-1.065337</td><td>1.291824</td><td>1</td></tr><tr><td>-0.667283</td><td>0.395956</td><td>-0.276867</td><td>0.597341</td><td>1.015797</td><td>-0.38233</td><td>0.352839</td><td>0.751959</td><td>0.070397</td><td>1.404978</td><td>-0.225934</td><td>0.321398</td><td>-0.414179</td><td>0.440473</td><td>0.958128</td><td>1.297403</td><td>1.282997</td><td>-0.779223</td><td>0.391468</td><td>0.001027</td><td>1</td></tr><tr><td>-0.647657</td><td>-0.773324</td><td>0.025058</td><td>-1.244677</td><td>0.641588</td><td>0.059241</td><td>0.412602</td><td>0.402816</td><td>0.397112</td><td>0.753711</td><td>0.795052</td><td>0.612262</td><td>0.301945</td><td>1.863222</td><td>-0.090701</td><td>1.004353</td><td>0.191039</td><td>-0.09952</td><td>0.734253</td><td>1.845307</td><td>0</td></tr></tbody></table></div>"
      ],
      "text/plain": [
       "shape: (5, 21)\n",
       "┌───────────┬───────────┬───────────┬───────────┬───┬───────────┬───────────┬──────────┬─────┐\n",
       "│ 0         ┆ 1         ┆ 2         ┆ 3         ┆ … ┆ 17        ┆ 18        ┆ 19       ┆ y   │\n",
       "│ ---       ┆ ---       ┆ ---       ┆ ---       ┆   ┆ ---       ┆ ---       ┆ ---      ┆ --- │\n",
       "│ f64       ┆ f64       ┆ f64       ┆ f64       ┆   ┆ f64       ┆ f64       ┆ f64      ┆ i64 │\n",
       "╞═══════════╪═══════════╪═══════════╪═══════════╪═══╪═══════════╪═══════════╪══════════╪═════╡\n",
       "│ -0.609251 ┆ 0.58008   ┆ -2.010993 ┆ -0.051076 ┆ … ┆ 0.639091  ┆ -0.123848 ┆ 3.03647  ┆ 1   │\n",
       "│ -0.713306 ┆ -0.569839 ┆ 0.494348  ┆ 0.260301  ┆ … ┆ -0.269834 ┆ -0.134793 ┆ 0.517666 ┆ 0   │\n",
       "│ 0.944544  ┆ 1.26518   ┆ -1.33923  ┆ 2.288202  ┆ … ┆ 0.141366  ┆ -1.065337 ┆ 1.291824 ┆ 1   │\n",
       "│ -0.667283 ┆ 0.395956  ┆ -0.276867 ┆ 0.597341  ┆ … ┆ -0.779223 ┆ 0.391468  ┆ 0.001027 ┆ 1   │\n",
       "│ -0.647657 ┆ -0.773324 ┆ 0.025058  ┆ -1.244677 ┆ … ┆ -0.09952  ┆ 0.734253  ┆ 1.845307 ┆ 0   │\n",
       "└───────────┴───────────┴───────────┴───────────┴───┴───────────┴───────────┴──────────┴─────┘"
      ]
     },
     "execution_count": 32,
     "metadata": {},
     "output_type": "execute_result"
    },
    {
     "name": "stdout",
     "output_type": "stream",
     "text": [
      "In [32] used 2.0 MiB RAM in 0.11s (system mean cpu 8%, single max cpu 16%), peaked 0.0 MiB above final usage, current RAM usage now 306.9 MiB\n"
     ]
    }
   ],
   "source": [
    "df_po = pl.from_pandas(df_np)\n",
    "df_po.sample(5)"
   ]
  },
  {
   "cell_type": "code",
   "execution_count": 33,
   "id": "6b305400-4ce2-40d3-b1d6-25a4d042aad8",
   "metadata": {
    "tags": []
   },
   "outputs": [
    {
     "data": {
      "text/plain": [
       "{'0': Float64,\n",
       " '1': Float64,\n",
       " '2': Float64,\n",
       " '3': Float64,\n",
       " '4': Float64,\n",
       " '5': Float64,\n",
       " '6': Float64,\n",
       " '7': Float64,\n",
       " '8': Float64,\n",
       " '9': Float64,\n",
       " '10': Float64,\n",
       " '11': Float64,\n",
       " '12': Float64,\n",
       " '13': Float64,\n",
       " '14': Float64,\n",
       " '15': Float64,\n",
       " '16': Float64,\n",
       " '17': Float64,\n",
       " '18': Float64,\n",
       " '19': Float64,\n",
       " 'y': Int64}"
      ]
     },
     "execution_count": 33,
     "metadata": {},
     "output_type": "execute_result"
    },
    {
     "name": "stdout",
     "output_type": "stream",
     "text": [
      "In [33] used 0.0 MiB RAM in 0.10s (system mean cpu 0%, single max cpu 0%), peaked 0.0 MiB above final usage, current RAM usage now 306.9 MiB\n"
     ]
    }
   ],
   "source": [
    "df_po.schema"
   ]
  },
  {
   "cell_type": "code",
   "execution_count": 34,
   "id": "aae3251f-3a41-4243-95e9-1bbdb40f0a2e",
   "metadata": {
    "tags": []
   },
   "outputs": [
    {
     "data": {
      "text/plain": [
       "((75, 20), (75,))"
      ]
     },
     "execution_count": 34,
     "metadata": {},
     "output_type": "execute_result"
    },
    {
     "name": "stdout",
     "output_type": "stream",
     "text": [
      "In [34] used 0.0 MiB RAM in 0.11s (system mean cpu 7%, single max cpu 14%), peaked 0.0 MiB above final usage, current RAM usage now 306.9 MiB\n"
     ]
    }
   ],
   "source": [
    "X_train, X_test, y_train, y_test = train_test_split(df_po.drop(columns=['y']), df_po['y'])\n",
    "X_train.shape, y_train.shape"
   ]
  },
  {
   "cell_type": "code",
   "execution_count": 37,
   "id": "478ec783-75a2-44b2-a033-d04af477db2a",
   "metadata": {
    "tags": []
   },
   "outputs": [
    {
     "data": {
      "text/plain": [
       "(polars.dataframe.frame.DataFrame, polars.series.series.Series)"
      ]
     },
     "execution_count": 37,
     "metadata": {},
     "output_type": "execute_result"
    },
    {
     "name": "stdout",
     "output_type": "stream",
     "text": [
      "In [37] used 0.0 MiB RAM in 0.10s (system mean cpu 6%, single max cpu 13%), peaked 0.0 MiB above final usage, current RAM usage now 309.2 MiB\n"
     ]
    }
   ],
   "source": [
    "type(X_train), type(y_train)"
   ]
  },
  {
   "cell_type": "code",
   "execution_count": 38,
   "id": "ee259ae2-772f-4040-bbad-9bf721f2adf7",
   "metadata": {
    "tags": []
   },
   "outputs": [
    {
     "data": {
      "text/plain": [
       "0.8"
      ]
     },
     "execution_count": 38,
     "metadata": {},
     "output_type": "execute_result"
    },
    {
     "name": "stdout",
     "output_type": "stream",
     "text": [
      "In [38] used 0.0 MiB RAM in 0.11s (system mean cpu 7%, single max cpu 16%), peaked 0.0 MiB above final usage, current RAM usage now 309.2 MiB\n"
     ]
    }
   ],
   "source": [
    "clf.fit(X_train, y_train)\n",
    "clf.score(X_test, y_test)"
   ]
  },
  {
   "cell_type": "code",
   "execution_count": 45,
   "id": "86feb6a5-0d77-4f34-9633-9fbbb9cf4071",
   "metadata": {
    "tags": []
   },
   "outputs": [
    {
     "data": {
      "text/plain": [
       "0.8"
      ]
     },
     "execution_count": 45,
     "metadata": {},
     "output_type": "execute_result"
    },
    {
     "name": "stdout",
     "output_type": "stream",
     "text": [
      "In [45] used 14.8 MiB RAM in 0.35s (system mean cpu 17%, single max cpu 100%), peaked 0.0 MiB above final usage, current RAM usage now 83.1 MiB\n"
     ]
    }
   ],
   "source": [
    "from sklearn.ensemble import RandomForestClassifier\n",
    "clf = RandomForestClassifier()\n",
    "clf.fit(X_train, y_train)\n",
    "clf.score(X_test, y_test)"
   ]
  },
  {
   "cell_type": "code",
   "execution_count": 47,
   "id": "9be9f55a-60a7-46d1-b555-a754ddd49466",
   "metadata": {
    "tags": []
   },
   "outputs": [
    {
     "data": {
      "text/plain": [
       "0.8"
      ]
     },
     "execution_count": 47,
     "metadata": {},
     "output_type": "execute_result"
    },
    {
     "name": "stdout",
     "output_type": "stream",
     "text": [
      "In [47] used 1.3 MiB RAM in 0.13s (system mean cpu 13%, single max cpu 88%), peaked 0.0 MiB above final usage, current RAM usage now 84.5 MiB\n"
     ]
    }
   ],
   "source": [
    "from sklearn.svm import SVC\n",
    "clf = SVC()\n",
    "clf.fit(X_train, y_train)\n",
    "clf.score(X_test, y_test)"
   ]
  },
  {
   "cell_type": "code",
   "execution_count": 50,
   "id": "dc6e1d26-f02c-4d42-b562-865f0a525af7",
   "metadata": {
    "tags": []
   },
   "outputs": [
    {
     "data": {
      "text/html": [
       "<style>#sk-container-id-2 {color: black;background-color: white;}#sk-container-id-2 pre{padding: 0;}#sk-container-id-2 div.sk-toggleable {background-color: white;}#sk-container-id-2 label.sk-toggleable__label {cursor: pointer;display: block;width: 100%;margin-bottom: 0;padding: 0.3em;box-sizing: border-box;text-align: center;}#sk-container-id-2 label.sk-toggleable__label-arrow:before {content: \"▸\";float: left;margin-right: 0.25em;color: #696969;}#sk-container-id-2 label.sk-toggleable__label-arrow:hover:before {color: black;}#sk-container-id-2 div.sk-estimator:hover label.sk-toggleable__label-arrow:before {color: black;}#sk-container-id-2 div.sk-toggleable__content {max-height: 0;max-width: 0;overflow: hidden;text-align: left;background-color: #f0f8ff;}#sk-container-id-2 div.sk-toggleable__content pre {margin: 0.2em;color: black;border-radius: 0.25em;background-color: #f0f8ff;}#sk-container-id-2 input.sk-toggleable__control:checked~div.sk-toggleable__content {max-height: 200px;max-width: 100%;overflow: auto;}#sk-container-id-2 input.sk-toggleable__control:checked~label.sk-toggleable__label-arrow:before {content: \"▾\";}#sk-container-id-2 div.sk-estimator input.sk-toggleable__control:checked~label.sk-toggleable__label {background-color: #d4ebff;}#sk-container-id-2 div.sk-label input.sk-toggleable__control:checked~label.sk-toggleable__label {background-color: #d4ebff;}#sk-container-id-2 input.sk-hidden--visually {border: 0;clip: rect(1px 1px 1px 1px);clip: rect(1px, 1px, 1px, 1px);height: 1px;margin: -1px;overflow: hidden;padding: 0;position: absolute;width: 1px;}#sk-container-id-2 div.sk-estimator {font-family: monospace;background-color: #f0f8ff;border: 1px dotted black;border-radius: 0.25em;box-sizing: border-box;margin-bottom: 0.5em;}#sk-container-id-2 div.sk-estimator:hover {background-color: #d4ebff;}#sk-container-id-2 div.sk-parallel-item::after {content: \"\";width: 100%;border-bottom: 1px solid gray;flex-grow: 1;}#sk-container-id-2 div.sk-label:hover label.sk-toggleable__label {background-color: #d4ebff;}#sk-container-id-2 div.sk-serial::before {content: \"\";position: absolute;border-left: 1px solid gray;box-sizing: border-box;top: 0;bottom: 0;left: 50%;z-index: 0;}#sk-container-id-2 div.sk-serial {display: flex;flex-direction: column;align-items: center;background-color: white;padding-right: 0.2em;padding-left: 0.2em;position: relative;}#sk-container-id-2 div.sk-item {position: relative;z-index: 1;}#sk-container-id-2 div.sk-parallel {display: flex;align-items: stretch;justify-content: center;background-color: white;position: relative;}#sk-container-id-2 div.sk-item::before, #sk-container-id-2 div.sk-parallel-item::before {content: \"\";position: absolute;border-left: 1px solid gray;box-sizing: border-box;top: 0;bottom: 0;left: 50%;z-index: -1;}#sk-container-id-2 div.sk-parallel-item {display: flex;flex-direction: column;z-index: 1;position: relative;background-color: white;}#sk-container-id-2 div.sk-parallel-item:first-child::after {align-self: flex-end;width: 50%;}#sk-container-id-2 div.sk-parallel-item:last-child::after {align-self: flex-start;width: 50%;}#sk-container-id-2 div.sk-parallel-item:only-child::after {width: 0;}#sk-container-id-2 div.sk-dashed-wrapped {border: 1px dashed gray;margin: 0 0.4em 0.5em 0.4em;box-sizing: border-box;padding-bottom: 0.4em;background-color: white;}#sk-container-id-2 div.sk-label label {font-family: monospace;font-weight: bold;display: inline-block;line-height: 1.2em;}#sk-container-id-2 div.sk-label-container {text-align: center;}#sk-container-id-2 div.sk-container {/* jupyter's `normalize.less` sets `[hidden] { display: none; }` but bootstrap.min.css set `[hidden] { display: none !important; }` so we also need the `!important` here to be able to override the default hidden behavior on the sphinx rendered scikit-learn.org. See: https://github.com/scikit-learn/scikit-learn/issues/21755 */display: inline-block !important;position: relative;}#sk-container-id-2 div.sk-text-repr-fallback {display: none;}</style><div id=\"sk-container-id-2\" class=\"sk-top-container\"><div class=\"sk-text-repr-fallback\"><pre>LGBMClassifier()</pre><b>In a Jupyter environment, please rerun this cell to show the HTML representation or trust the notebook. <br />On GitHub, the HTML representation is unable to render, please try loading this page with nbviewer.org.</b></div><div class=\"sk-container\" hidden><div class=\"sk-item\"><div class=\"sk-estimator sk-toggleable\"><input class=\"sk-toggleable__control sk-hidden--visually\" id=\"sk-estimator-id-2\" type=\"checkbox\" checked><label for=\"sk-estimator-id-2\" class=\"sk-toggleable__label sk-toggleable__label-arrow\">LGBMClassifier</label><div class=\"sk-toggleable__content\"><pre>LGBMClassifier()</pre></div></div></div></div></div>"
      ],
      "text/plain": [
       "LGBMClassifier()"
      ]
     },
     "execution_count": 50,
     "metadata": {},
     "output_type": "execute_result"
    },
    {
     "name": "stdout",
     "output_type": "stream",
     "text": [
      "In [50] used 3.1 MiB RAM in 17.78s (system mean cpu 99%, single max cpu 100%), peaked 0.0 MiB above final usage, current RAM usage now 298.4 MiB\n"
     ]
    }
   ],
   "source": [
    "import lightgbm as lgb\n",
    "clf = lgb.LGBMClassifier()\n",
    "clf.fit(X_train, y_train)"
   ]
  },
  {
   "cell_type": "code",
   "execution_count": 51,
   "id": "8eb806ff-66d0-4584-b6fd-09f061633543",
   "metadata": {
    "tags": []
   },
   "outputs": [
    {
     "data": {
      "text/plain": [
       "0.84"
      ]
     },
     "execution_count": 51,
     "metadata": {},
     "output_type": "execute_result"
    },
    {
     "name": "stdout",
     "output_type": "stream",
     "text": [
      "In [51] used 0.0 MiB RAM in 0.13s (system mean cpu 16%, single max cpu 47%), peaked 0.0 MiB above final usage, current RAM usage now 298.5 MiB\n"
     ]
    }
   ],
   "source": [
    "clf.score(X_test, y_test)"
   ]
  },
  {
   "cell_type": "code",
   "execution_count": 52,
   "id": "9f0593af-11e7-4aca-82c1-0618a2209c91",
   "metadata": {
    "tags": []
   },
   "outputs": [
    {
     "data": {
      "text/plain": [
       "polars.dataframe.frame.DataFrame"
      ]
     },
     "execution_count": 52,
     "metadata": {},
     "output_type": "execute_result"
    },
    {
     "name": "stdout",
     "output_type": "stream",
     "text": [
      "In [52] used 0.0 MiB RAM in 0.10s (system mean cpu 0%, single max cpu 0%), peaked 0.0 MiB above final usage, current RAM usage now 298.5 MiB\n"
     ]
    }
   ],
   "source": [
    "type(X_train)"
   ]
  },
  {
   "cell_type": "code",
   "execution_count": null,
   "id": "200624f4-ece6-49cf-abe5-d48137dced29",
   "metadata": {},
   "outputs": [],
   "source": []
  }
 ],
 "metadata": {
  "kernelspec": {
   "display_name": "Python 3 (ipykernel)",
   "language": "python",
   "name": "python3"
  },
  "language_info": {
   "codemirror_mode": {
    "name": "ipython",
    "version": 3
   },
   "file_extension": ".py",
   "mimetype": "text/x-python",
   "name": "python",
   "nbconvert_exporter": "python",
   "pygments_lexer": "ipython3",
   "version": "3.11.3"
  }
 },
 "nbformat": 4,
 "nbformat_minor": 5
}
