{
 "cells": [
  {
   "cell_type": "markdown",
   "id": "cf9c22e9-698a-4fb1-aee3-21d47ad5a0fe",
   "metadata": {
    "tags": []
   },
   "source": [
    "# Explore with Pandas"
   ]
  },
  {
   "cell_type": "code",
   "execution_count": 5,
   "id": "a2a1dd62-04db-4b97-8a07-fb2cca1e4277",
   "metadata": {
    "tags": []
   },
   "outputs": [
    {
     "data": {
      "text/plain": [
       "'2.0.1'"
      ]
     },
     "metadata": {},
     "output_type": "display_data"
    },
    {
     "data": {
      "text/plain": [
       "'Profiling enabled'"
      ]
     },
     "execution_count": 5,
     "metadata": {},
     "output_type": "execute_result"
    },
    {
     "name": "stdout",
     "output_type": "stream",
     "text": [
      "In [5] used 0.0 MiB RAM in 0.10s (system mean cpu 2%, single max cpu 5%), peaked 0.0 MiB above final usage, current RAM usage now 143.2 MiB\n"
     ]
    }
   ],
   "source": [
    "import pandas as pd\n",
    "display(pd.__version__)\n",
    "\n",
    "#%load_ext autoreload\n",
    "#%autoreload 2\n",
    "\n",
    "from cell_profiler import cell_profiler as cp\n",
    "%start_cell_profiler\n",
    "#import ipython_memory_usage as imu\n",
    "#%ipython_memory_usage_start"
   ]
  },
  {
   "cell_type": "code",
   "execution_count": 6,
   "id": "5374f506-57f8-44c2-82ba-a780691273b9",
   "metadata": {
    "tags": []
   },
   "outputs": [
    {
     "data": {
      "text/plain": [
       "('/home/ian/workspace/data/anonymised_mot_tests/test_result_2021',\n",
       " ['/home/ian/workspace/data/anonymised_mot_tests/test_result_2021/test_result_20220531131730_32355.csv',\n",
       "  '/home/ian/workspace/data/anonymised_mot_tests/test_result_2021/test_result_20220531131730_32361.csv',\n",
       "  '/home/ian/workspace/data/anonymised_mot_tests/test_result_2021/test_result_20220531131730_32372.csv',\n",
       "  '/home/ian/workspace/data/anonymised_mot_tests/test_result_2021/test_result_20220531131730_32367.csv',\n",
       "  '/home/ian/workspace/data/anonymised_mot_tests/test_result_2021/test_result_20220531131730_32365.csv',\n",
       "  '/home/ian/workspace/data/anonymised_mot_tests/test_result_2021/test_result_20220531131730_32386.csv',\n",
       "  '/home/ian/workspace/data/anonymised_mot_tests/test_result_2021/test_result_20220531131730_32357.csv',\n",
       "  '/home/ian/workspace/data/anonymised_mot_tests/test_result_2021/test_result_20220531131730_32378.csv',\n",
       "  '/home/ian/workspace/data/anonymised_mot_tests/test_result_2021/test_result_20220531131730_32370.csv',\n",
       "  '/home/ian/workspace/data/anonymised_mot_tests/test_result_2021/test_result_20220531131730_32360.csv',\n",
       "  '/home/ian/workspace/data/anonymised_mot_tests/test_result_2021/test_result_20220531131730_32384.csv',\n",
       "  '/home/ian/workspace/data/anonymised_mot_tests/test_result_2021/test_result_20220531131730_32375.csv'])"
      ]
     },
     "execution_count": 6,
     "metadata": {},
     "output_type": "execute_result"
    },
    {
     "name": "stdout",
     "output_type": "stream",
     "text": [
      "In [6] used 0.0 MiB RAM in 0.10s (system mean cpu 3%, single max cpu 10%), peaked 0.0 MiB above final usage, current RAM usage now 143.2 MiB\n"
     ]
    }
   ],
   "source": [
    "import os\n",
    "import glob\n",
    "\n",
    "DATA_FOLDER = '/home/ian/workspace/data/anonymised_mot_tests'\n",
    "DATA_FOLDER = os.path.join(DATA_FOLDER, 'test_result_2021')\n",
    "#DATA_FOLDER\n",
    "\n",
    "files = glob.glob(DATA_FOLDER+\"/test_result_*.csv\")\n",
    "filename = files[0]\n",
    "DATA_FOLDER, files"
   ]
  },
  {
   "cell_type": "code",
   "execution_count": 7,
   "id": "5312fc17-c7e1-4062-a39a-94ce41b40d48",
   "metadata": {
    "tags": []
   },
   "outputs": [
    {
     "name": "stdout",
     "output_type": "stream",
     "text": [
      "In [7] used 416.0 MiB RAM in 2.87s (system mean cpu 9%, single max cpu 100%), peaked 289.0 MiB above final usage, current RAM usage now 559.2 MiB\n"
     ]
    }
   ],
   "source": [
    "df = pd.read_csv(filename)"
   ]
  },
  {
   "cell_type": "code",
   "execution_count": 8,
   "id": "9dd7d8b6-aed5-4272-9ab0-f2c5a6eb1125",
   "metadata": {
    "tags": []
   },
   "outputs": [
    {
     "name": "stdout",
     "output_type": "stream",
     "text": [
      "<class 'pandas.core.frame.DataFrame'>\n",
      "RangeIndex: 3362528 entries, 0 to 3362527\n",
      "Data columns (total 14 columns):\n",
      " #   Column             Dtype  \n",
      "---  ------             -----  \n",
      " 0   test_id            int64  \n",
      " 1   vehicle_id         int64  \n",
      " 2   test_date          object \n",
      " 3   test_class_id      int64  \n",
      " 4   test_type          object \n",
      " 5   test_result        object \n",
      " 6   test_mileage       float64\n",
      " 7   postcode_area      object \n",
      " 8   make               object \n",
      " 9   model              object \n",
      " 10  colour             object \n",
      " 11  fuel_type          object \n",
      " 12  cylinder_capacity  float64\n",
      " 13  first_use_date     object \n",
      "dtypes: float64(2), int64(3), object(9)\n",
      "memory usage: 359.2+ MB\n",
      "In [8] used 0.0 MiB RAM in 0.11s (system mean cpu 3%, single max cpu 6%), peaked 0.0 MiB above final usage, current RAM usage now 559.2 MiB\n"
     ]
    }
   ],
   "source": [
    "df.info()"
   ]
  },
  {
   "cell_type": "code",
   "execution_count": 9,
   "id": "3e6912a5-2093-4b57-9852-f2eac63a3e9f",
   "metadata": {
    "tags": []
   },
   "outputs": [
    {
     "data": {
      "text/plain": [
       "'2,005,492,851 bytes'"
      ]
     },
     "execution_count": 9,
     "metadata": {},
     "output_type": "execute_result"
    },
    {
     "name": "stdout",
     "output_type": "stream",
     "text": [
      "In [9] used 0.0 MiB RAM in 1.67s (system mean cpu 7%, single max cpu 100%), peaked 0.0 MiB above final usage, current RAM usage now 559.2 MiB\n"
     ]
    }
   ],
   "source": [
    "f\"{df.memory_usage(deep=True).sum():,} bytes\""
   ]
  },
  {
   "cell_type": "code",
   "execution_count": 10,
   "id": "b33281d3-01bc-42d7-9038-471ff822f63a",
   "metadata": {
    "tags": []
   },
   "outputs": [
    {
     "data": {
      "text/html": [
       "<div>\n",
       "<style scoped>\n",
       "    .dataframe tbody tr th:only-of-type {\n",
       "        vertical-align: middle;\n",
       "    }\n",
       "\n",
       "    .dataframe tbody tr th {\n",
       "        vertical-align: top;\n",
       "    }\n",
       "\n",
       "    .dataframe thead th {\n",
       "        text-align: right;\n",
       "    }\n",
       "</style>\n",
       "<table border=\"1\" class=\"dataframe\">\n",
       "  <thead>\n",
       "    <tr style=\"text-align: right;\">\n",
       "      <th></th>\n",
       "      <th>test_id</th>\n",
       "      <th>vehicle_id</th>\n",
       "      <th>test_date</th>\n",
       "      <th>test_class_id</th>\n",
       "      <th>test_type</th>\n",
       "      <th>test_result</th>\n",
       "      <th>test_mileage</th>\n",
       "      <th>postcode_area</th>\n",
       "      <th>make</th>\n",
       "      <th>model</th>\n",
       "      <th>colour</th>\n",
       "      <th>fuel_type</th>\n",
       "      <th>cylinder_capacity</th>\n",
       "      <th>first_use_date</th>\n",
       "    </tr>\n",
       "  </thead>\n",
       "  <tbody>\n",
       "    <tr>\n",
       "      <th>505531</th>\n",
       "      <td>924429767</td>\n",
       "      <td>667608259</td>\n",
       "      <td>2021-02-22</td>\n",
       "      <td>4</td>\n",
       "      <td>NT</td>\n",
       "      <td>P</td>\n",
       "      <td>21839.0</td>\n",
       "      <td>CV</td>\n",
       "      <td>LAND ROVER</td>\n",
       "      <td>DEFENDER</td>\n",
       "      <td>YELLOW</td>\n",
       "      <td>PE</td>\n",
       "      <td>4999.0</td>\n",
       "      <td>2015-11-30</td>\n",
       "    </tr>\n",
       "    <tr>\n",
       "      <th>2964950</th>\n",
       "      <td>362248785</td>\n",
       "      <td>217167112</td>\n",
       "      <td>2021-11-16</td>\n",
       "      <td>4</td>\n",
       "      <td>RT</td>\n",
       "      <td>P</td>\n",
       "      <td>130932.0</td>\n",
       "      <td>HP</td>\n",
       "      <td>BMW</td>\n",
       "      <td>116</td>\n",
       "      <td>BLACK</td>\n",
       "      <td>PE</td>\n",
       "      <td>1596.0</td>\n",
       "      <td>2009-09-28</td>\n",
       "    </tr>\n",
       "    <tr>\n",
       "      <th>336796</th>\n",
       "      <td>397226957</td>\n",
       "      <td>316556401</td>\n",
       "      <td>2021-02-03</td>\n",
       "      <td>4</td>\n",
       "      <td>NT</td>\n",
       "      <td>P</td>\n",
       "      <td>56107.0</td>\n",
       "      <td>CB</td>\n",
       "      <td>FORD</td>\n",
       "      <td>B-MAX</td>\n",
       "      <td>GREY</td>\n",
       "      <td>PE</td>\n",
       "      <td>1596.0</td>\n",
       "      <td>2014-02-28</td>\n",
       "    </tr>\n",
       "    <tr>\n",
       "      <th>63187</th>\n",
       "      <td>486140371</td>\n",
       "      <td>573879724</td>\n",
       "      <td>2021-01-08</td>\n",
       "      <td>4</td>\n",
       "      <td>RT</td>\n",
       "      <td>P</td>\n",
       "      <td>119189.0</td>\n",
       "      <td>DN</td>\n",
       "      <td>FORD</td>\n",
       "      <td>TRANSIT CONNECT</td>\n",
       "      <td>WHITE</td>\n",
       "      <td>DI</td>\n",
       "      <td>1753.0</td>\n",
       "      <td>2010-03-25</td>\n",
       "    </tr>\n",
       "    <tr>\n",
       "      <th>2178533</th>\n",
       "      <td>21513473</td>\n",
       "      <td>1278598806</td>\n",
       "      <td>2021-09-09</td>\n",
       "      <td>2</td>\n",
       "      <td>NT</td>\n",
       "      <td>P</td>\n",
       "      <td>84951.0</td>\n",
       "      <td>SY</td>\n",
       "      <td>BMW</td>\n",
       "      <td>K75</td>\n",
       "      <td>RED</td>\n",
       "      <td>PE</td>\n",
       "      <td>750.0</td>\n",
       "      <td>1989-08-01</td>\n",
       "    </tr>\n",
       "  </tbody>\n",
       "</table>\n",
       "</div>"
      ],
      "text/plain": [
       "           test_id  vehicle_id   test_date  test_class_id test_type   \n",
       "505531   924429767   667608259  2021-02-22              4        NT  \\\n",
       "2964950  362248785   217167112  2021-11-16              4        RT   \n",
       "336796   397226957   316556401  2021-02-03              4        NT   \n",
       "63187    486140371   573879724  2021-01-08              4        RT   \n",
       "2178533   21513473  1278598806  2021-09-09              2        NT   \n",
       "\n",
       "        test_result  test_mileage postcode_area        make            model   \n",
       "505531            P       21839.0            CV  LAND ROVER         DEFENDER  \\\n",
       "2964950           P      130932.0            HP         BMW              116   \n",
       "336796            P       56107.0            CB        FORD            B-MAX   \n",
       "63187             P      119189.0            DN        FORD  TRANSIT CONNECT   \n",
       "2178533           P       84951.0            SY         BMW              K75   \n",
       "\n",
       "         colour fuel_type  cylinder_capacity first_use_date  \n",
       "505531   YELLOW        PE             4999.0     2015-11-30  \n",
       "2964950   BLACK        PE             1596.0     2009-09-28  \n",
       "336796     GREY        PE             1596.0     2014-02-28  \n",
       "63187     WHITE        DI             1753.0     2010-03-25  \n",
       "2178533     RED        PE              750.0     1989-08-01  "
      ]
     },
     "execution_count": 10,
     "metadata": {},
     "output_type": "execute_result"
    },
    {
     "name": "stdout",
     "output_type": "stream",
     "text": [
      "In [10] used 26.9 MiB RAM in 0.17s (system mean cpu 8%, single max cpu 70%), peaked 0.0 MiB above final usage, current RAM usage now 586.1 MiB\n"
     ]
    }
   ],
   "source": [
    "df.sample(5)"
   ]
  },
  {
   "cell_type": "code",
   "execution_count": 11,
   "id": "3def7927-0f46-4dd2-85f0-597dc8733e6c",
   "metadata": {
    "tags": []
   },
   "outputs": [
    {
     "name": "stdout",
     "output_type": "stream",
     "text": [
      "In [11] used 0.0 MiB RAM in 0.10s (system mean cpu 2%, single max cpu 10%), peaked 0.0 MiB above final usage, current RAM usage now 586.1 MiB\n"
     ]
    }
   ],
   "source": [
    "#pd.to_datetime(df['first_use_date'])\n",
    "\n",
    "\n",
    "#OutOfBoundsDatetime: Out of bounds nanosecond timestamp: 4-02-20 00:00:00, at position 904021. You might want to try:\n",
    "#    - passing `format` if your strings have a consistent format;\n",
    "#    - passing `format='ISO8601'` if your strings are all ISO8601 but not necessarily in exactly the same format;\n",
    "#    - passing `format='mixed'`, and the format will be inferred for each element individually. You might want to use `dayfirst` alongside this."
   ]
  },
  {
   "cell_type": "code",
   "execution_count": 12,
   "id": "e0ac9392-9dab-4402-88b6-13cb08d38c7d",
   "metadata": {
    "tags": []
   },
   "outputs": [
    {
     "name": "stdout",
     "output_type": "stream",
     "text": [
      "In [12] used 0.0 MiB RAM in 0.10s (system mean cpu 18%, single max cpu 50%), peaked 0.0 MiB above final usage, current RAM usage now 586.1 MiB\n"
     ]
    }
   ],
   "source": [
    "#pd.to_datetime(df['test_date']) # this field converts ok"
   ]
  },
  {
   "cell_type": "code",
   "execution_count": 13,
   "id": "33a02acb-4336-4cb0-a429-4ae26c9ccc68",
   "metadata": {
    "tags": []
   },
   "outputs": [
    {
     "name": "stdout",
     "output_type": "stream",
     "text": [
      "In [13] used 359.4 MiB RAM in 0.25s (system mean cpu 7%, single max cpu 100%), peaked 0.0 MiB above final usage, current RAM usage now 945.5 MiB\n"
     ]
    }
   ],
   "source": [
    "df_shrink = df.copy()"
   ]
  },
  {
   "cell_type": "code",
   "execution_count": 14,
   "id": "91d8f09b-f265-487c-8608-4e1fa3743e3c",
   "metadata": {
    "tags": []
   },
   "outputs": [
    {
     "name": "stdout",
     "output_type": "stream",
     "text": [
      "In [14] used 16.1 MiB RAM in 1.00s (system mean cpu 8%, single max cpu 100%), peaked 31.4 MiB above final usage, current RAM usage now 961.7 MiB\n"
     ]
    }
   ],
   "source": [
    "cat_cols = ['test_class_id', 'test_type', 'test_result', 'postcode_area', 'make', 'model', 'colour', 'fuel_type']\n",
    "for cat_col in cat_cols:\n",
    "    df_shrink[cat_col] = df[cat_col].astype('category')"
   ]
  },
  {
   "cell_type": "code",
   "execution_count": 15,
   "id": "7c3304f1-1ba0-4954-b6f0-8b64c073afda",
   "metadata": {
    "tags": []
   },
   "outputs": [
    {
     "data": {
      "text/plain": [
       "'593,478,040 bytes'"
      ]
     },
     "execution_count": 15,
     "metadata": {},
     "output_type": "execute_result"
    },
    {
     "name": "stdout",
     "output_type": "stream",
     "text": [
      "In [15] used 0.0 MiB RAM in 0.41s (system mean cpu 5%, single max cpu 89%), peaked 0.0 MiB above final usage, current RAM usage now 961.7 MiB\n"
     ]
    }
   ],
   "source": [
    "f\"{df_shrink.memory_usage(deep=True).sum():,} bytes\""
   ]
  },
  {
   "cell_type": "code",
   "execution_count": 16,
   "id": "fd7fd89a-3e8c-4107-a743-0b9609acfc8a",
   "metadata": {
    "tags": []
   },
   "outputs": [
    {
     "name": "stdout",
     "output_type": "stream",
     "text": [
      "<class 'pandas.core.frame.DataFrame'>\n",
      "RangeIndex: 3362528 entries, 0 to 3362527\n",
      "Data columns (total 14 columns):\n",
      " #   Column             Dtype   \n",
      "---  ------             -----   \n",
      " 0   test_id            int64   \n",
      " 1   vehicle_id         int64   \n",
      " 2   test_date          object  \n",
      " 3   test_class_id      category\n",
      " 4   test_type          category\n",
      " 5   test_result        category\n",
      " 6   test_mileage       float64 \n",
      " 7   postcode_area      category\n",
      " 8   make               category\n",
      " 9   model              category\n",
      " 10  colour             category\n",
      " 11  fuel_type          category\n",
      " 12  cylinder_capacity  float64 \n",
      " 13  first_use_date     object  \n",
      "dtypes: category(8), float64(2), int64(2), object(2)\n",
      "memory usage: 186.7+ MB\n",
      "In [16] used 0.8 MiB RAM in 0.11s (system mean cpu 5%, single max cpu 18%), peaked 0.0 MiB above final usage, current RAM usage now 962.5 MiB\n"
     ]
    }
   ],
   "source": [
    "df_shrink.info()"
   ]
  },
  {
   "cell_type": "code",
   "execution_count": 17,
   "id": "7d333572-6c53-48c4-90b2-5bf5e7c1573c",
   "metadata": {
    "tags": []
   },
   "outputs": [
    {
     "name": "stdout",
     "output_type": "stream",
     "text": [
      "CPU times: user 91.4 ms, sys: 1.21 ms, total: 92.6 ms\n",
      "Wall time: 91.4 ms\n"
     ]
    },
    {
     "data": {
      "text/plain": [
       "fuel_type\n",
       "PE    1762204\n",
       "DI    1537930\n",
       "HY      48346\n",
       "EL       9372\n",
       "OT       2368\n",
       "LP       1106\n",
       "ED       1013\n",
       "GB         90\n",
       "FC         60\n",
       "CN         16\n",
       "GA         13\n",
       "GD          7\n",
       "ST          2\n",
       "LN          1\n",
       "Name: count, dtype: int64"
      ]
     },
     "execution_count": 17,
     "metadata": {},
     "output_type": "execute_result"
    },
    {
     "name": "stdout",
     "output_type": "stream",
     "text": [
      "In [17] used 0.0 MiB RAM in 0.20s (system mean cpu 7%, single max cpu 100%), peaked 0.0 MiB above final usage, current RAM usage now 962.5 MiB\n"
     ]
    }
   ],
   "source": [
    "%time df['fuel_type'].value_counts()"
   ]
  },
  {
   "cell_type": "code",
   "execution_count": 18,
   "id": "22d3c82e-8fe9-4c03-b7c7-e348c883e1dd",
   "metadata": {
    "tags": []
   },
   "outputs": [
    {
     "name": "stdout",
     "output_type": "stream",
     "text": [
      "In [18] used 34.9 MiB RAM in 0.37s (system mean cpu 34%, single max cpu 100%), peaked 0.0 MiB above final usage, current RAM usage now 997.4 MiB\n"
     ]
    }
   ],
   "source": [
    "import pandera as pa"
   ]
  },
  {
   "cell_type": "code",
   "execution_count": 19,
   "id": "f01c4635-5b1e-429b-8eb0-ee41cf22518b",
   "metadata": {
    "tags": []
   },
   "outputs": [
    {
     "name": "stdout",
     "output_type": "stream",
     "text": [
      "from pandera import DataFrameSchema, Column, Check, Index, MultiIndex\n",
      "\n",
      "schema = DataFrameSchema(\n",
      "    columns={\n",
      "        \"test_id\": Column(\n",
      "            dtype=\"int64\",\n",
      "            checks=[\n",
      "                Check.greater_than_or_equal_to(min_value=218841.0),\n",
      "                Check.less_than_or_equal_to(max_value=1999850089.0),\n",
      "            ],\n",
      "            nullable=False,\n",
      "            unique=False,\n",
      "            coerce=False,\n",
      "            required=True,\n",
      "            regex=False,\n",
      "            description=None,\n",
      "            title=None,\n",
      "        ),\n",
      "        \"vehicle_id\": Column(\n",
      "            dtype=\"int64\",\n",
      "            checks=[\n",
      "                Check.greater_than_or_equal_to(min_value=52722.0),\n",
      "                Check.less_than_or_equal_to(max_value=1499903019.0),\n",
      "            ],\n",
      "            nullable=False,\n",
      "            unique=False,\n",
      "            coerce=False,\n",
      "            required=True,\n",
      "            regex=False,\n",
      "            description=None,\n",
      "            title=None,\n",
      "        ),\n",
      "        \"test_date\": Column(\n",
      "            dtype=\"object\",\n",
      "            checks=None,\n",
      "            nullable=False,\n",
      "            unique=False,\n",
      "            coerce=False,\n",
      "            required=True,\n",
      "            regex=False,\n",
      "            description=None,\n",
      "            title=None,\n",
      "        ),\n",
      "        \"test_class_id\": Column(\n",
      "            dtype=\"int64\",\n",
      "            checks=[\n",
      "                Check.greater_than_or_equal_to(min_value=1.0),\n",
      "                Check.less_than_or_equal_to(max_value=7.0),\n",
      "            ],\n",
      "            nullable=False,\n",
      "            unique=False,\n",
      "            coerce=False,\n",
      "            required=True,\n",
      "            regex=False,\n",
      "            description=None,\n",
      "            title=None,\n",
      "        ),\n",
      "        \"test_type\": Column(\n",
      "            dtype=\"object\",\n",
      "            checks=None,\n",
      "            nullable=False,\n",
      "            unique=False,\n",
      "            coerce=False,\n",
      "            required=True,\n",
      "            regex=False,\n",
      "            description=None,\n",
      "            title=None,\n",
      "        ),\n",
      "        \"test_result\": Column(\n",
      "            dtype=\"object\",\n",
      "            checks=None,\n",
      "            nullable=False,\n",
      "            unique=False,\n",
      "            coerce=False,\n",
      "            required=True,\n",
      "            regex=False,\n",
      "            description=None,\n",
      "            title=None,\n",
      "        ),\n",
      "        \"test_mileage\": Column(\n",
      "            dtype=\"float64\",\n",
      "            checks=[\n",
      "                Check.greater_than_or_equal_to(min_value=7.0),\n",
      "                Check.less_than_or_equal_to(max_value=952324.0),\n",
      "            ],\n",
      "            nullable=True,\n",
      "            unique=False,\n",
      "            coerce=False,\n",
      "            required=True,\n",
      "            regex=False,\n",
      "            description=None,\n",
      "            title=None,\n",
      "        ),\n",
      "        \"postcode_area\": Column(\n",
      "            dtype=\"object\",\n",
      "            checks=None,\n",
      "            nullable=False,\n",
      "            unique=False,\n",
      "            coerce=False,\n",
      "            required=True,\n",
      "            regex=False,\n",
      "            description=None,\n",
      "            title=None,\n",
      "        ),\n",
      "        \"make\": Column(\n",
      "            dtype=\"object\",\n",
      "            checks=None,\n",
      "            nullable=False,\n",
      "            unique=False,\n",
      "            coerce=False,\n",
      "            required=True,\n",
      "            regex=False,\n",
      "            description=None,\n",
      "            title=None,\n",
      "        ),\n",
      "        \"model\": Column(\n",
      "            dtype=\"object\",\n",
      "            checks=None,\n",
      "            nullable=False,\n",
      "            unique=False,\n",
      "            coerce=False,\n",
      "            required=True,\n",
      "            regex=False,\n",
      "            description=None,\n",
      "            title=None,\n",
      "        ),\n",
      "        \"colour\": Column(\n",
      "            dtype=\"object\",\n",
      "            checks=None,\n",
      "            nullable=False,\n",
      "            unique=False,\n",
      "            coerce=False,\n",
      "            required=True,\n",
      "            regex=False,\n",
      "            description=None,\n",
      "            title=None,\n",
      "        ),\n",
      "        \"fuel_type\": Column(\n",
      "            dtype=\"object\",\n",
      "            checks=None,\n",
      "            nullable=False,\n",
      "            unique=False,\n",
      "            coerce=False,\n",
      "            required=True,\n",
      "            regex=False,\n",
      "            description=None,\n",
      "            title=None,\n",
      "        ),\n",
      "        \"cylinder_capacity\": Column(\n",
      "            dtype=\"float64\",\n",
      "            checks=[\n",
      "                Check.greater_than_or_equal_to(min_value=49.0),\n",
      "                Check.less_than_or_equal_to(max_value=12809.0),\n",
      "            ],\n",
      "            nullable=True,\n",
      "            unique=False,\n",
      "            coerce=False,\n",
      "            required=True,\n",
      "            regex=False,\n",
      "            description=None,\n",
      "            title=None,\n",
      "        ),\n",
      "        \"first_use_date\": Column(\n",
      "            dtype=\"object\",\n",
      "            checks=None,\n",
      "            nullable=False,\n",
      "            unique=False,\n",
      "            coerce=False,\n",
      "            required=True,\n",
      "            regex=False,\n",
      "            description=None,\n",
      "            title=None,\n",
      "        ),\n",
      "    },\n",
      "    checks=None,\n",
      "    index=Index(\n",
      "        dtype=\"int64\",\n",
      "        checks=[\n",
      "            Check.greater_than_or_equal_to(min_value=125.0),\n",
      "            Check.less_than_or_equal_to(max_value=3362428.0),\n",
      "        ],\n",
      "        nullable=False,\n",
      "        coerce=False,\n",
      "        name=None,\n",
      "        description=None,\n",
      "        title=None,\n",
      "    ),\n",
      "    dtype=None,\n",
      "    coerce=True,\n",
      "    strict=False,\n",
      "    name=None,\n",
      "    ordered=False,\n",
      "    unique=None,\n",
      "    report_duplicates=\"all\",\n",
      "    unique_column_names=False,\n",
      "    title=None,\n",
      "    description=None,\n",
      ")\n",
      "\n",
      "In [19] used 46.2 MiB RAM in 0.58s (system mean cpu 8%, single max cpu 100%), peaked 0.0 MiB above final usage, current RAM usage now 1043.6 MiB\n"
     ]
    }
   ],
   "source": [
    "sample = df.sample(10000)\n",
    "schema = pa.infer_schema(sample)\n",
    "print(schema.to_script())"
   ]
  },
  {
   "cell_type": "code",
   "execution_count": 20,
   "id": "285bd7b2-bbd2-40d8-8aa2-8f042733deb6",
   "metadata": {
    "tags": []
   },
   "outputs": [
    {
     "name": "stdout",
     "output_type": "stream",
     "text": [
      "In [20] used 410.8 MiB RAM in 1.76s (system mean cpu 7%, single max cpu 100%), peaked 209.8 MiB above final usage, current RAM usage now 1454.4 MiB\n"
     ]
    }
   ],
   "source": [
    "from pandera import DataFrameSchema, Column, Check, Index, MultiIndex\n",
    "from pandera.errors import SchemaErrors\n",
    "\n",
    "VALID_TEST_RESULT = set(['P', 'F', 'PRS', 'ABR', 'ABA', 'ABRVE'])\n",
    "VALID_TEST_TYPE = set(['NT', 'RT', 'ES'])\n",
    "VALID_COLOUR = set(['BLACK', 'WHITE', 'SILVER', 'BLUE', 'GREY', 'RED', 'GREEN', 'ORANGE', 'YELLOW', 'BEIGE', \\\n",
    "                   'BROWN', 'PURPLE', 'GOLD', 'BRONZE', 'MAROON','TURQUOISE', 'CREAM', 'PINK', 'MULTI-COLOUR', 'NOT STATED'])\n",
    "VALID_FUEL_TYPE = set(['PE', 'DI', 'HY', 'EL', 'OT', 'LP', 'ED', 'GB', 'FC', 'CN', 'GA', 'GD','ST', 'LN'])\n",
    "\n",
    "# by default Column has nullable, coerce, unique, refex == False\n",
    "# title is not needed nor description\n",
    "\n",
    "# other checks?\n",
    "# test_mileage 5th percentile > xxx as most should be \"sensible\"\n",
    "# postcode_area xx very rare\n",
    "# cylinder_capacity typically more than ...\n",
    "# first_use_date > ... something reasonable\n",
    "\n",
    "\n",
    "schema = DataFrameSchema(\n",
    "    columns={\n",
    "        \"test_id\": Column(\n",
    "            dtype=\"int64\",\n",
    "            checks=[\n",
    "                #Check.greater_than_or_equal_to(min_value=31563.0),\n",
    "                #Check.less_than_or_equal_to(max_value=1999897323.0),\n",
    "            ],\n",
    "        ),\n",
    "        \"vehicle_id\": Column(\n",
    "            dtype=\"int64\",\n",
    "            checks=[\n",
    "                #Check.greater_than_or_equal_to(min_value=108275.0),\n",
    "                #Check.less_than_or_equal_to(max_value=1499704119.0),\n",
    "            ],\n",
    "        ),\n",
    "        \"test_date\": Column(\n",
    "            dtype=\"object\",\n",
    "        ),\n",
    "        \"test_class_id\": Column(\n",
    "            dtype=\"int64\",\n",
    "            checks=[\n",
    "                Check.greater_than_or_equal_to(min_value=1.0),\n",
    "                Check.less_than_or_equal_to(max_value=7.0),\n",
    "            ],\n",
    "        ),\n",
    "        \"test_type\": Column(\n",
    "            dtype=\"object\",\n",
    "            checks=[pa.Check(lambda s: s.isin(VALID_TEST_TYPE))],\n",
    "        ),\n",
    "        \"test_result\": Column(\n",
    "            dtype=\"object\",\n",
    "            checks=[Check(lambda s: s.isin(VALID_TEST_RESULT)),\n",
    "                    # we normally see 75% pass rate, so test >60%\n",
    "                    Check(lambda ser: ((ser == 'P').sum() / ser.size) > 0.6)],\n",
    "        ),\n",
    "        \"test_mileage\": Column(\n",
    "            dtype=\"float64\",\n",
    "            checks=[\n",
    "                # we do get 1-10 miles on the clock!\n",
    "                Check.greater_than_or_equal_to(min_value=1.0),\n",
    "                Check.less_than_or_equal_to(max_value=999999.0),\n",
    "            ],\n",
    "            nullable=True,\n",
    "        ),\n",
    "        \"postcode_area\": Column(\n",
    "            dtype=\"object\",\n",
    "            checks=None,\n",
    "        ),\n",
    "        \"make\": Column(\n",
    "            dtype=\"object\",\n",
    "            nullable=True,\n",
    "            checks=[pa.Check(lambda ser: ser.isnull().sum() <= 5)]\n",
    "        ),\n",
    "        \"model\": Column(\n",
    "            dtype=\"object\",\n",
    "        ),\n",
    "        \"colour\": Column(\n",
    "            dtype=\"object\",\n",
    "            checks=[pa.Check(lambda s: s.isin(VALID_COLOUR))],\n",
    "        ),\n",
    "        \"fuel_type\": Column(\n",
    "            dtype=\"object\",\n",
    "            checks=[Check(lambda s: s.isin(VALID_FUEL_TYPE))],\n",
    "        ),\n",
    "        \"cylinder_capacity\": Column(\n",
    "            dtype=\"float64\",\n",
    "            checks=[\n",
    "                Check.greater_than_or_equal_to(min_value=0.0),\n",
    "                Check.less_than_or_equal_to(max_value=60000.0),\n",
    "            ],\n",
    "            nullable=True,\n",
    "        ),\n",
    "        \"first_use_date\": Column(\n",
    "            dtype=\"object\",\n",
    "        ),\n",
    "    },\n",
    "    checks=None,\n",
    "    index=Index(\n",
    "        dtype=\"int64\",\n",
    "        checks=[\n",
    "            #Check.greater_than_or_equal_to(min_value=1030.0),\n",
    "            #Check.less_than_or_equal_to(max_value=3362152.0),\n",
    "        ],\n",
    "    ),\n",
    "    dtype=None,\n",
    "    coerce=True,\n",
    "    strict=False,\n",
    "    name=None,\n",
    "    ordered=False,\n",
    "    unique=None,\n",
    "    report_duplicates=\"all\",\n",
    "    unique_column_names=False,\n",
    "    title=None,\n",
    "    description=None,\n",
    ")\n",
    "\n",
    "try:\n",
    "    schema.validate(df, lazy=True)\n",
    "except SchemaErrors as err:\n",
    "    print(err.failure_cases)  # dataframe of schema errors\n",
    "    print(err.data)  # invalid dataframe\n"
   ]
  },
  {
   "cell_type": "markdown",
   "id": "1065e448-7a64-450e-84e1-997c6194dcee",
   "metadata": {},
   "source": [
    "# Some investigation"
   ]
  },
  {
   "cell_type": "code",
   "execution_count": 21,
   "id": "de582963-9117-4a94-85e7-be9f12ffe3cb",
   "metadata": {
    "tags": []
   },
   "outputs": [
    {
     "data": {
      "text/plain": [
       "Index(['PE', 'DI', 'HY', 'EL', 'OT', 'LP', 'ED', 'GB', 'FC', 'CN', 'GA', 'GD',\n",
       "       'ST', 'LN'],\n",
       "      dtype='object', name='fuel_type')"
      ]
     },
     "execution_count": 21,
     "metadata": {},
     "output_type": "execute_result"
    },
    {
     "name": "stdout",
     "output_type": "stream",
     "text": [
      "In [21] used 0.1 MiB RAM in 0.20s (system mean cpu 7%, single max cpu 56%), peaked 0.0 MiB above final usage, current RAM usage now 1454.5 MiB\n"
     ]
    }
   ],
   "source": [
    "df['fuel_type'].value_counts().keys()\n",
    "# ST steam? GD GA LN GB FC?"
   ]
  },
  {
   "cell_type": "code",
   "execution_count": 22,
   "id": "56a4c081-1604-446d-9dc4-ec92e311766a",
   "metadata": {
    "tags": []
   },
   "outputs": [
    {
     "data": {
      "text/plain": [
       "test_type\n",
       "NT    2779739\n",
       "RT     582785\n",
       "ES          4\n",
       "Name: count, dtype: int64"
      ]
     },
     "execution_count": 22,
     "metadata": {},
     "output_type": "execute_result"
    },
    {
     "name": "stdout",
     "output_type": "stream",
     "text": [
      "In [22] used 0.1 MiB RAM in 0.19s (system mean cpu 0%, single max cpu 0%), peaked 0.0 MiB above final usage, current RAM usage now 1454.6 MiB\n"
     ]
    }
   ],
   "source": [
    "df['test_type'].value_counts()\n"
   ]
  },
  {
   "cell_type": "code",
   "execution_count": 23,
   "id": "709886d0-357a-46d6-a7ab-5c86994709d0",
   "metadata": {
    "tags": []
   },
   "outputs": [
    {
     "data": {
      "text/plain": [
       "test_result\n",
       "P        2532720\n",
       "F         637610\n",
       "PRS       173390\n",
       "ABR        16860\n",
       "ABA         1943\n",
       "ABRVE          5\n",
       "Name: count, dtype: int64"
      ]
     },
     "execution_count": 23,
     "metadata": {},
     "output_type": "execute_result"
    },
    {
     "name": "stdout",
     "output_type": "stream",
     "text": [
      "In [23] used 0.0 MiB RAM in 0.17s (system mean cpu 0%, single max cpu 0%), peaked 0.0 MiB above final usage, current RAM usage now 1454.6 MiB\n"
     ]
    }
   ],
   "source": [
    "df['test_result'].value_counts()"
   ]
  },
  {
   "cell_type": "code",
   "execution_count": 24,
   "id": "854048c4-23c9-4ea0-9a48-cba4776e6062",
   "metadata": {
    "tags": []
   },
   "outputs": [
    {
     "data": {
      "text/html": [
       "<div>\n",
       "<style scoped>\n",
       "    .dataframe tbody tr th:only-of-type {\n",
       "        vertical-align: middle;\n",
       "    }\n",
       "\n",
       "    .dataframe tbody tr th {\n",
       "        vertical-align: top;\n",
       "    }\n",
       "\n",
       "    .dataframe thead th {\n",
       "        text-align: right;\n",
       "    }\n",
       "</style>\n",
       "<table border=\"1\" class=\"dataframe\">\n",
       "  <thead>\n",
       "    <tr style=\"text-align: right;\">\n",
       "      <th></th>\n",
       "      <th>test_id</th>\n",
       "      <th>vehicle_id</th>\n",
       "      <th>test_class_id</th>\n",
       "      <th>test_mileage</th>\n",
       "      <th>cylinder_capacity</th>\n",
       "    </tr>\n",
       "  </thead>\n",
       "  <tbody>\n",
       "    <tr>\n",
       "      <th>count</th>\n",
       "      <td>3.362528e+06</td>\n",
       "      <td>3.362528e+06</td>\n",
       "      <td>3.362528e+06</td>\n",
       "      <td>3.337324e+06</td>\n",
       "      <td>3.354378e+06</td>\n",
       "    </tr>\n",
       "    <tr>\n",
       "      <th>mean</th>\n",
       "      <td>1.000234e+09</td>\n",
       "      <td>7.503363e+08</td>\n",
       "      <td>4.026887e+00</td>\n",
       "      <td>7.414440e+04</td>\n",
       "      <td>1.711889e+03</td>\n",
       "    </tr>\n",
       "    <tr>\n",
       "      <th>std</th>\n",
       "      <td>5.770968e+08</td>\n",
       "      <td>4.330425e+08</td>\n",
       "      <td>6.206862e-01</td>\n",
       "      <td>4.875133e+04</td>\n",
       "      <td>6.041044e+02</td>\n",
       "    </tr>\n",
       "    <tr>\n",
       "      <th>min</th>\n",
       "      <td>4.850000e+02</td>\n",
       "      <td>2.900000e+02</td>\n",
       "      <td>1.000000e+00</td>\n",
       "      <td>1.000000e+00</td>\n",
       "      <td>0.000000e+00</td>\n",
       "    </tr>\n",
       "    <tr>\n",
       "      <th>25%</th>\n",
       "      <td>5.006305e+08</td>\n",
       "      <td>3.755046e+08</td>\n",
       "      <td>4.000000e+00</td>\n",
       "      <td>3.762400e+04</td>\n",
       "      <td>1.349000e+03</td>\n",
       "    </tr>\n",
       "    <tr>\n",
       "      <th>50%</th>\n",
       "      <td>1.000133e+09</td>\n",
       "      <td>7.503748e+08</td>\n",
       "      <td>4.000000e+00</td>\n",
       "      <td>6.565300e+04</td>\n",
       "      <td>1.598000e+03</td>\n",
       "    </tr>\n",
       "    <tr>\n",
       "      <th>75%</th>\n",
       "      <td>1.499843e+09</td>\n",
       "      <td>1.125506e+09</td>\n",
       "      <td>4.000000e+00</td>\n",
       "      <td>1.007630e+05</td>\n",
       "      <td>1.995000e+03</td>\n",
       "    </tr>\n",
       "    <tr>\n",
       "      <th>max</th>\n",
       "      <td>2.000000e+09</td>\n",
       "      <td>1.500000e+09</td>\n",
       "      <td>7.000000e+00</td>\n",
       "      <td>9.999990e+05</td>\n",
       "      <td>5.000700e+04</td>\n",
       "    </tr>\n",
       "  </tbody>\n",
       "</table>\n",
       "</div>"
      ],
      "text/plain": [
       "            test_id    vehicle_id  test_class_id  test_mileage   \n",
       "count  3.362528e+06  3.362528e+06   3.362528e+06  3.337324e+06  \\\n",
       "mean   1.000234e+09  7.503363e+08   4.026887e+00  7.414440e+04   \n",
       "std    5.770968e+08  4.330425e+08   6.206862e-01  4.875133e+04   \n",
       "min    4.850000e+02  2.900000e+02   1.000000e+00  1.000000e+00   \n",
       "25%    5.006305e+08  3.755046e+08   4.000000e+00  3.762400e+04   \n",
       "50%    1.000133e+09  7.503748e+08   4.000000e+00  6.565300e+04   \n",
       "75%    1.499843e+09  1.125506e+09   4.000000e+00  1.007630e+05   \n",
       "max    2.000000e+09  1.500000e+09   7.000000e+00  9.999990e+05   \n",
       "\n",
       "       cylinder_capacity  \n",
       "count       3.354378e+06  \n",
       "mean        1.711889e+03  \n",
       "std         6.041044e+02  \n",
       "min         0.000000e+00  \n",
       "25%         1.349000e+03  \n",
       "50%         1.598000e+03  \n",
       "75%         1.995000e+03  \n",
       "max         5.000700e+04  "
      ]
     },
     "execution_count": 24,
     "metadata": {},
     "output_type": "execute_result"
    },
    {
     "name": "stdout",
     "output_type": "stream",
     "text": [
      "In [24] used 0.4 MiB RAM in 0.41s (system mean cpu 8%, single max cpu 100%), peaked 128.1 MiB above final usage, current RAM usage now 1455.0 MiB\n"
     ]
    }
   ],
   "source": [
    "df.describe()"
   ]
  },
  {
   "cell_type": "markdown",
   "id": "6e2b19a8-e12b-434f-acff-11a56d11c409",
   "metadata": {},
   "source": [
    "## can we get median cylinder values?"
   ]
  },
  {
   "cell_type": "code",
   "execution_count": 25,
   "id": "14371d86-685b-4787-b625-e3a2a4acffd4",
   "metadata": {
    "tags": []
   },
   "outputs": [
    {
     "name": "stdout",
     "output_type": "stream",
     "text": [
      "CPU times: user 167 ms, sys: 11.8 ms, total: 178 ms\n",
      "Wall time: 176 ms\n"
     ]
    },
    {
     "data": {
      "text/plain": [
       "make\n",
       "ALVIS SPEED 25 SB        0.0\n",
       "ERIDER                   0.0\n",
       "NANFANG NF50-A          48.5\n",
       "DIRECT                  49.0\n",
       "LINTEX                  49.0\n",
       "                      ...   \n",
       "EOS COACH            10964.0\n",
       "AEC MILITANT         11600.0\n",
       "FODEN                12000.0\n",
       "PETERBILT            14000.0\n",
       "NEOPLAN              14500.0\n",
       "Name: cylinder_capacity, Length: 1998, dtype: float64"
      ]
     },
     "execution_count": 25,
     "metadata": {},
     "output_type": "execute_result"
    },
    {
     "name": "stdout",
     "output_type": "stream",
     "text": [
      "In [25] used -25.4 MiB RAM in 0.28s (system mean cpu 7%, single max cpu 100%), peaked 50.9 MiB above final usage, current RAM usage now 1429.6 MiB\n"
     ]
    }
   ],
   "source": [
    "# lots of NaN values!\n",
    "%time df.groupby('make')['cylinder_capacity'].median().sort_values().dropna()"
   ]
  },
  {
   "cell_type": "code",
   "execution_count": 26,
   "id": "3a7d04b5-8c5d-4f91-a0f0-738030e7617b",
   "metadata": {
    "tags": []
   },
   "outputs": [
    {
     "data": {
      "text/plain": [
       "1"
      ]
     },
     "execution_count": 26,
     "metadata": {},
     "output_type": "execute_result"
    },
    {
     "name": "stdout",
     "output_type": "stream",
     "text": [
      "In [26] used 0.0 MiB RAM in 0.19s (system mean cpu 7%, single max cpu 60%), peaked 0.0 MiB above final usage, current RAM usage now 1429.6 MiB\n"
     ]
    }
   ],
   "source": [
    "df['make'].value_counts().loc['NEOPLAN']"
   ]
  },
  {
   "cell_type": "code",
   "execution_count": 27,
   "id": "2bec6abc-4b61-4705-8e0d-4854b030489a",
   "metadata": {
    "tags": []
   },
   "outputs": [
    {
     "data": {
      "text/html": [
       "<div>\n",
       "<style scoped>\n",
       "    .dataframe tbody tr th:only-of-type {\n",
       "        vertical-align: middle;\n",
       "    }\n",
       "\n",
       "    .dataframe tbody tr th {\n",
       "        vertical-align: top;\n",
       "    }\n",
       "\n",
       "    .dataframe thead th {\n",
       "        text-align: right;\n",
       "    }\n",
       "</style>\n",
       "<table border=\"1\" class=\"dataframe\">\n",
       "  <thead>\n",
       "    <tr style=\"text-align: right;\">\n",
       "      <th></th>\n",
       "      <th>median</th>\n",
       "      <th>size</th>\n",
       "    </tr>\n",
       "    <tr>\n",
       "      <th>make</th>\n",
       "      <th></th>\n",
       "      <th></th>\n",
       "    </tr>\n",
       "  </thead>\n",
       "  <tbody>\n",
       "    <tr>\n",
       "      <th>.</th>\n",
       "      <td>1998.0</td>\n",
       "      <td>1</td>\n",
       "    </tr>\n",
       "    <tr>\n",
       "      <th>150 STAR</th>\n",
       "      <td>150.0</td>\n",
       "      <td>1</td>\n",
       "    </tr>\n",
       "    <tr>\n",
       "      <th>1VECO</th>\n",
       "      <td>NaN</td>\n",
       "      <td>1</td>\n",
       "    </tr>\n",
       "    <tr>\n",
       "      <th>A M GERENAL</th>\n",
       "      <td>6500.0</td>\n",
       "      <td>1</td>\n",
       "    </tr>\n",
       "    <tr>\n",
       "      <th>A.J.S.</th>\n",
       "      <td>650.0</td>\n",
       "      <td>1</td>\n",
       "    </tr>\n",
       "    <tr>\n",
       "      <th>...</th>\n",
       "      <td>...</td>\n",
       "      <td>...</td>\n",
       "    </tr>\n",
       "    <tr>\n",
       "      <th>ZHEZIANG SPY250F1</th>\n",
       "      <td>249.0</td>\n",
       "      <td>1</td>\n",
       "    </tr>\n",
       "    <tr>\n",
       "      <th>ZIL 131</th>\n",
       "      <td>6000.0</td>\n",
       "      <td>1</td>\n",
       "    </tr>\n",
       "    <tr>\n",
       "      <th>ZONGSHEN RANGER 125</th>\n",
       "      <td>124.0</td>\n",
       "      <td>1</td>\n",
       "    </tr>\n",
       "    <tr>\n",
       "      <th>ZONGSHEN SPY F1 250</th>\n",
       "      <td>250.0</td>\n",
       "      <td>1</td>\n",
       "    </tr>\n",
       "    <tr>\n",
       "      <th>ZY MOTOR</th>\n",
       "      <td>NaN</td>\n",
       "      <td>1</td>\n",
       "    </tr>\n",
       "  </tbody>\n",
       "</table>\n",
       "<p>1346 rows × 2 columns</p>\n",
       "</div>"
      ],
      "text/plain": [
       "                     median  size\n",
       "make                             \n",
       ".                    1998.0     1\n",
       "150 STAR              150.0     1\n",
       "1VECO                   NaN     1\n",
       "A M GERENAL          6500.0     1\n",
       "A.J.S.                650.0     1\n",
       "...                     ...   ...\n",
       "ZHEZIANG SPY250F1     249.0     1\n",
       "ZIL 131              6000.0     1\n",
       "ZONGSHEN RANGER 125   124.0     1\n",
       "ZONGSHEN SPY F1 250   250.0     1\n",
       "ZY MOTOR                NaN     1\n",
       "\n",
       "[1346 rows x 2 columns]"
      ]
     },
     "execution_count": 27,
     "metadata": {},
     "output_type": "execute_result"
    },
    {
     "name": "stdout",
     "output_type": "stream",
     "text": [
      "In [27] used -384.8 MiB RAM in 0.40s (system mean cpu 9%, single max cpu 100%), peaked 435.9 MiB above final usage, current RAM usage now 1044.8 MiB\n"
     ]
    }
   ],
   "source": [
    "agg_result = df.groupby('make')['cylinder_capacity'].agg(['median', 'size'])\n",
    "#agg_result.query('size > 10').dropna().sort_values('median')\n",
    "agg_result.query('size == 1').sort_index()"
   ]
  },
  {
   "cell_type": "markdown",
   "id": "036e82c1-b87d-4420-a8a2-1b1e355d52c8",
   "metadata": {
    "tags": []
   },
   "source": [
    "# Check for high outliers"
   ]
  },
  {
   "cell_type": "code",
   "execution_count": 28,
   "id": "e754e11b-cfa7-42fe-8b97-ec71cd369e26",
   "metadata": {
    "tags": []
   },
   "outputs": [
    {
     "name": "stdout",
     "output_type": "stream",
     "text": [
      "CPU times: user 35.4 ms, sys: 3.11 ms, total: 38.5 ms\n",
      "Wall time: 22.1 ms\n"
     ]
    },
    {
     "data": {
      "text/html": [
       "<div>\n",
       "<style scoped>\n",
       "    .dataframe tbody tr th:only-of-type {\n",
       "        vertical-align: middle;\n",
       "    }\n",
       "\n",
       "    .dataframe tbody tr th {\n",
       "        vertical-align: top;\n",
       "    }\n",
       "\n",
       "    .dataframe thead th {\n",
       "        text-align: right;\n",
       "    }\n",
       "</style>\n",
       "<table border=\"1\" class=\"dataframe\">\n",
       "  <thead>\n",
       "    <tr style=\"text-align: right;\">\n",
       "      <th></th>\n",
       "      <th>test_id</th>\n",
       "      <th>vehicle_id</th>\n",
       "      <th>test_date</th>\n",
       "      <th>test_class_id</th>\n",
       "      <th>test_type</th>\n",
       "      <th>test_result</th>\n",
       "      <th>test_mileage</th>\n",
       "      <th>postcode_area</th>\n",
       "      <th>make</th>\n",
       "      <th>model</th>\n",
       "      <th>colour</th>\n",
       "      <th>fuel_type</th>\n",
       "      <th>cylinder_capacity</th>\n",
       "      <th>first_use_date</th>\n",
       "    </tr>\n",
       "  </thead>\n",
       "  <tbody>\n",
       "    <tr>\n",
       "      <th>48466</th>\n",
       "      <td>1108568485</td>\n",
       "      <td>1224975303</td>\n",
       "      <td>2021-01-07</td>\n",
       "      <td>5</td>\n",
       "      <td>NT</td>\n",
       "      <td>P</td>\n",
       "      <td>985643.0</td>\n",
       "      <td>L</td>\n",
       "      <td>DAF</td>\n",
       "      <td>UNCLASSIFIED</td>\n",
       "      <td>MULTI-COLOUR</td>\n",
       "      <td>DI</td>\n",
       "      <td>5900.0</td>\n",
       "      <td>2006-04-11</td>\n",
       "    </tr>\n",
       "    <tr>\n",
       "      <th>60488</th>\n",
       "      <td>672464823</td>\n",
       "      <td>113771524</td>\n",
       "      <td>2021-01-08</td>\n",
       "      <td>4</td>\n",
       "      <td>NT</td>\n",
       "      <td>F</td>\n",
       "      <td>999999.0</td>\n",
       "      <td>EX</td>\n",
       "      <td>PEUGEOT</td>\n",
       "      <td>406</td>\n",
       "      <td>MAROON</td>\n",
       "      <td>PE</td>\n",
       "      <td>1997.0</td>\n",
       "      <td>2012-01-16</td>\n",
       "    </tr>\n",
       "    <tr>\n",
       "      <th>85439</th>\n",
       "      <td>164383885</td>\n",
       "      <td>442025378</td>\n",
       "      <td>2021-01-11</td>\n",
       "      <td>4</td>\n",
       "      <td>RT</td>\n",
       "      <td>P</td>\n",
       "      <td>915321.0</td>\n",
       "      <td>MK</td>\n",
       "      <td>VAUXHALL</td>\n",
       "      <td>COMBO</td>\n",
       "      <td>WHITE</td>\n",
       "      <td>DI</td>\n",
       "      <td>1686.0</td>\n",
       "      <td>2007-12-31</td>\n",
       "    </tr>\n",
       "    <tr>\n",
       "      <th>99095</th>\n",
       "      <td>1764557687</td>\n",
       "      <td>1440326550</td>\n",
       "      <td>2021-01-12</td>\n",
       "      <td>7</td>\n",
       "      <td>NT</td>\n",
       "      <td>P</td>\n",
       "      <td>956596.0</td>\n",
       "      <td>IP</td>\n",
       "      <td>LDV</td>\n",
       "      <td>MAXUS</td>\n",
       "      <td>SILVER</td>\n",
       "      <td>DI</td>\n",
       "      <td>2499.0</td>\n",
       "      <td>2007-07-27</td>\n",
       "    </tr>\n",
       "    <tr>\n",
       "      <th>115938</th>\n",
       "      <td>786258681</td>\n",
       "      <td>1405447220</td>\n",
       "      <td>2021-01-13</td>\n",
       "      <td>7</td>\n",
       "      <td>RT</td>\n",
       "      <td>P</td>\n",
       "      <td>948958.0</td>\n",
       "      <td>PL</td>\n",
       "      <td>LDV</td>\n",
       "      <td>MAXUS</td>\n",
       "      <td>RED</td>\n",
       "      <td>DI</td>\n",
       "      <td>2500.0</td>\n",
       "      <td>2008-04-10</td>\n",
       "    </tr>\n",
       "    <tr>\n",
       "      <th>...</th>\n",
       "      <td>...</td>\n",
       "      <td>...</td>\n",
       "      <td>...</td>\n",
       "      <td>...</td>\n",
       "      <td>...</td>\n",
       "      <td>...</td>\n",
       "      <td>...</td>\n",
       "      <td>...</td>\n",
       "      <td>...</td>\n",
       "      <td>...</td>\n",
       "      <td>...</td>\n",
       "      <td>...</td>\n",
       "      <td>...</td>\n",
       "      <td>...</td>\n",
       "    </tr>\n",
       "    <tr>\n",
       "      <th>3266265</th>\n",
       "      <td>1995218387</td>\n",
       "      <td>1468720309</td>\n",
       "      <td>2021-12-14</td>\n",
       "      <td>7</td>\n",
       "      <td>NT</td>\n",
       "      <td>PRS</td>\n",
       "      <td>991911.0</td>\n",
       "      <td>E</td>\n",
       "      <td>MERCEDES-BENZ</td>\n",
       "      <td>SPRINTER</td>\n",
       "      <td>BLUE</td>\n",
       "      <td>DI</td>\n",
       "      <td>2700.0</td>\n",
       "      <td>2002-10-28</td>\n",
       "    </tr>\n",
       "    <tr>\n",
       "      <th>3296449</th>\n",
       "      <td>1312308563</td>\n",
       "      <td>1008360357</td>\n",
       "      <td>2021-12-17</td>\n",
       "      <td>4</td>\n",
       "      <td>NT</td>\n",
       "      <td>P</td>\n",
       "      <td>991376.0</td>\n",
       "      <td>DL</td>\n",
       "      <td>CITROEN</td>\n",
       "      <td>NEMO</td>\n",
       "      <td>WHITE</td>\n",
       "      <td>DI</td>\n",
       "      <td>1248.0</td>\n",
       "      <td>2015-07-08</td>\n",
       "    </tr>\n",
       "    <tr>\n",
       "      <th>3334786</th>\n",
       "      <td>598534645</td>\n",
       "      <td>693775344</td>\n",
       "      <td>2021-12-21</td>\n",
       "      <td>7</td>\n",
       "      <td>NT</td>\n",
       "      <td>PRS</td>\n",
       "      <td>970110.0</td>\n",
       "      <td>LE</td>\n",
       "      <td>LDV</td>\n",
       "      <td>MAXUS</td>\n",
       "      <td>WHITE</td>\n",
       "      <td>DI</td>\n",
       "      <td>2499.0</td>\n",
       "      <td>2008-05-23</td>\n",
       "    </tr>\n",
       "    <tr>\n",
       "      <th>3354163</th>\n",
       "      <td>213916469</td>\n",
       "      <td>589020394</td>\n",
       "      <td>2021-12-29</td>\n",
       "      <td>4</td>\n",
       "      <td>RT</td>\n",
       "      <td>P</td>\n",
       "      <td>920120.0</td>\n",
       "      <td>HU</td>\n",
       "      <td>VOLKSWAGEN</td>\n",
       "      <td>POLO</td>\n",
       "      <td>BLACK</td>\n",
       "      <td>PE</td>\n",
       "      <td>1198.0</td>\n",
       "      <td>2007-12-20</td>\n",
       "    </tr>\n",
       "    <tr>\n",
       "      <th>3354834</th>\n",
       "      <td>1649383403</td>\n",
       "      <td>1111350058</td>\n",
       "      <td>2021-12-30</td>\n",
       "      <td>4</td>\n",
       "      <td>NT</td>\n",
       "      <td>F</td>\n",
       "      <td>932344.0</td>\n",
       "      <td>NW</td>\n",
       "      <td>VOLKSWAGEN</td>\n",
       "      <td>GOLF</td>\n",
       "      <td>BLACK</td>\n",
       "      <td>PE</td>\n",
       "      <td>1390.0</td>\n",
       "      <td>2010-06-06</td>\n",
       "    </tr>\n",
       "  </tbody>\n",
       "</table>\n",
       "<p>149 rows × 14 columns</p>\n",
       "</div>"
      ],
      "text/plain": [
       "            test_id  vehicle_id   test_date  test_class_id test_type   \n",
       "48466    1108568485  1224975303  2021-01-07              5        NT  \\\n",
       "60488     672464823   113771524  2021-01-08              4        NT   \n",
       "85439     164383885   442025378  2021-01-11              4        RT   \n",
       "99095    1764557687  1440326550  2021-01-12              7        NT   \n",
       "115938    786258681  1405447220  2021-01-13              7        RT   \n",
       "...             ...         ...         ...            ...       ...   \n",
       "3266265  1995218387  1468720309  2021-12-14              7        NT   \n",
       "3296449  1312308563  1008360357  2021-12-17              4        NT   \n",
       "3334786   598534645   693775344  2021-12-21              7        NT   \n",
       "3354163   213916469   589020394  2021-12-29              4        RT   \n",
       "3354834  1649383403  1111350058  2021-12-30              4        NT   \n",
       "\n",
       "        test_result  test_mileage postcode_area           make         model   \n",
       "48466             P      985643.0             L            DAF  UNCLASSIFIED  \\\n",
       "60488             F      999999.0            EX        PEUGEOT           406   \n",
       "85439             P      915321.0            MK       VAUXHALL         COMBO   \n",
       "99095             P      956596.0            IP            LDV         MAXUS   \n",
       "115938            P      948958.0            PL            LDV         MAXUS   \n",
       "...             ...           ...           ...            ...           ...   \n",
       "3266265         PRS      991911.0             E  MERCEDES-BENZ      SPRINTER   \n",
       "3296449           P      991376.0            DL        CITROEN          NEMO   \n",
       "3334786         PRS      970110.0            LE            LDV         MAXUS   \n",
       "3354163           P      920120.0            HU     VOLKSWAGEN          POLO   \n",
       "3354834           F      932344.0            NW     VOLKSWAGEN          GOLF   \n",
       "\n",
       "               colour fuel_type  cylinder_capacity first_use_date  \n",
       "48466    MULTI-COLOUR        DI             5900.0     2006-04-11  \n",
       "60488          MAROON        PE             1997.0     2012-01-16  \n",
       "85439           WHITE        DI             1686.0     2007-12-31  \n",
       "99095          SILVER        DI             2499.0     2007-07-27  \n",
       "115938            RED        DI             2500.0     2008-04-10  \n",
       "...               ...       ...                ...            ...  \n",
       "3266265          BLUE        DI             2700.0     2002-10-28  \n",
       "3296449         WHITE        DI             1248.0     2015-07-08  \n",
       "3334786         WHITE        DI             2499.0     2008-05-23  \n",
       "3354163         BLACK        PE             1198.0     2007-12-20  \n",
       "3354834         BLACK        PE             1390.0     2010-06-06  \n",
       "\n",
       "[149 rows x 14 columns]"
      ]
     },
     "execution_count": 28,
     "metadata": {},
     "output_type": "execute_result"
    },
    {
     "name": "stdout",
     "output_type": "stream",
     "text": [
      "In [28] used 0.0 MiB RAM in 0.13s (system mean cpu 12%, single max cpu 73%), peaked 4.0 MiB above final usage, current RAM usage now 1044.8 MiB\n"
     ]
    }
   ],
   "source": [
    "%time df.query('test_mileage > 900000')"
   ]
  },
  {
   "cell_type": "code",
   "execution_count": 29,
   "id": "156f0c9d-0530-4961-af02-4423d61d326f",
   "metadata": {
    "tags": []
   },
   "outputs": [
    {
     "name": "stdout",
     "output_type": "stream",
     "text": [
      "CPU times: user 20.8 ms, sys: 8.53 ms, total: 29.3 ms\n",
      "Wall time: 14.1 ms\n"
     ]
    },
    {
     "data": {
      "text/html": [
       "<div>\n",
       "<style scoped>\n",
       "    .dataframe tbody tr th:only-of-type {\n",
       "        vertical-align: middle;\n",
       "    }\n",
       "\n",
       "    .dataframe tbody tr th {\n",
       "        vertical-align: top;\n",
       "    }\n",
       "\n",
       "    .dataframe thead th {\n",
       "        text-align: right;\n",
       "    }\n",
       "</style>\n",
       "<table border=\"1\" class=\"dataframe\">\n",
       "  <thead>\n",
       "    <tr style=\"text-align: right;\">\n",
       "      <th></th>\n",
       "      <th>test_id</th>\n",
       "      <th>vehicle_id</th>\n",
       "      <th>test_date</th>\n",
       "      <th>test_class_id</th>\n",
       "      <th>test_type</th>\n",
       "      <th>test_result</th>\n",
       "      <th>test_mileage</th>\n",
       "      <th>postcode_area</th>\n",
       "      <th>make</th>\n",
       "      <th>model</th>\n",
       "      <th>colour</th>\n",
       "      <th>fuel_type</th>\n",
       "      <th>cylinder_capacity</th>\n",
       "      <th>first_use_date</th>\n",
       "    </tr>\n",
       "  </thead>\n",
       "  <tbody>\n",
       "    <tr>\n",
       "      <th>2971964</th>\n",
       "      <td>269712991</td>\n",
       "      <td>1347489287</td>\n",
       "      <td>2021-11-17</td>\n",
       "      <td>4</td>\n",
       "      <td>RT</td>\n",
       "      <td>P</td>\n",
       "      <td>206903.0</td>\n",
       "      <td>UB</td>\n",
       "      <td>DODGE</td>\n",
       "      <td>RAM</td>\n",
       "      <td>BLACK</td>\n",
       "      <td>PE</td>\n",
       "      <td>50007.0</td>\n",
       "      <td>2015-03-11</td>\n",
       "    </tr>\n",
       "    <tr>\n",
       "      <th>1595211</th>\n",
       "      <td>1209201737</td>\n",
       "      <td>764415083</td>\n",
       "      <td>2021-07-09</td>\n",
       "      <td>4</td>\n",
       "      <td>NT</td>\n",
       "      <td>P</td>\n",
       "      <td>800.0</td>\n",
       "      <td>TR</td>\n",
       "      <td>CHEVROLET</td>\n",
       "      <td>UNCLASSIFIED</td>\n",
       "      <td>GREEN</td>\n",
       "      <td>PE</td>\n",
       "      <td>35400.0</td>\n",
       "      <td>2020-10-01</td>\n",
       "    </tr>\n",
       "    <tr>\n",
       "      <th>2847725</th>\n",
       "      <td>448570249</td>\n",
       "      <td>1071738607</td>\n",
       "      <td>2021-11-06</td>\n",
       "      <td>4</td>\n",
       "      <td>NT</td>\n",
       "      <td>P</td>\n",
       "      <td>123360.0</td>\n",
       "      <td>LL</td>\n",
       "      <td>VOLKSWAGEN</td>\n",
       "      <td>TOUAREG</td>\n",
       "      <td>SILVER</td>\n",
       "      <td>DI</td>\n",
       "      <td>28890.0</td>\n",
       "      <td>2019-07-23</td>\n",
       "    </tr>\n",
       "    <tr>\n",
       "      <th>359713</th>\n",
       "      <td>524049153</td>\n",
       "      <td>342455707</td>\n",
       "      <td>2021-02-05</td>\n",
       "      <td>4</td>\n",
       "      <td>RT</td>\n",
       "      <td>F</td>\n",
       "      <td>61230.0</td>\n",
       "      <td>RM</td>\n",
       "      <td>GM</td>\n",
       "      <td>CAPTIVA</td>\n",
       "      <td>BEIGE</td>\n",
       "      <td>PE</td>\n",
       "      <td>26000.0</td>\n",
       "      <td>2017-06-14</td>\n",
       "    </tr>\n",
       "    <tr>\n",
       "      <th>821645</th>\n",
       "      <td>1713916205</td>\n",
       "      <td>483469641</td>\n",
       "      <td>2021-03-20</td>\n",
       "      <td>4</td>\n",
       "      <td>NT</td>\n",
       "      <td>P</td>\n",
       "      <td>38678.0</td>\n",
       "      <td>LS</td>\n",
       "      <td>AUDI</td>\n",
       "      <td>A3</td>\n",
       "      <td>GREY</td>\n",
       "      <td>PE</td>\n",
       "      <td>24985.0</td>\n",
       "      <td>2015-09-18</td>\n",
       "    </tr>\n",
       "    <tr>\n",
       "      <th>2537986</th>\n",
       "      <td>747746659</td>\n",
       "      <td>1221928576</td>\n",
       "      <td>2021-10-11</td>\n",
       "      <td>4</td>\n",
       "      <td>NT</td>\n",
       "      <td>F</td>\n",
       "      <td>56571.0</td>\n",
       "      <td>WF</td>\n",
       "      <td>VOLKSWAGEN</td>\n",
       "      <td>TRANSPORTER</td>\n",
       "      <td>BLUE</td>\n",
       "      <td>DI</td>\n",
       "      <td>24614.0</td>\n",
       "      <td>2000-11-22</td>\n",
       "    </tr>\n",
       "    <tr>\n",
       "      <th>2318796</th>\n",
       "      <td>795477519</td>\n",
       "      <td>540242564</td>\n",
       "      <td>2021-09-22</td>\n",
       "      <td>4</td>\n",
       "      <td>NT</td>\n",
       "      <td>P</td>\n",
       "      <td>34218.0</td>\n",
       "      <td>CO</td>\n",
       "      <td>FORD</td>\n",
       "      <td>AUTO-TRAIL</td>\n",
       "      <td>WHITE</td>\n",
       "      <td>DI</td>\n",
       "      <td>24402.0</td>\n",
       "      <td>2001-05-03</td>\n",
       "    </tr>\n",
       "    <tr>\n",
       "      <th>1288582</th>\n",
       "      <td>1662636953</td>\n",
       "      <td>696789090</td>\n",
       "      <td>2021-06-02</td>\n",
       "      <td>4</td>\n",
       "      <td>NT</td>\n",
       "      <td>P</td>\n",
       "      <td>160272.0</td>\n",
       "      <td>GU</td>\n",
       "      <td>VOLKSWAGEN</td>\n",
       "      <td>CARAVELLE</td>\n",
       "      <td>RED</td>\n",
       "      <td>DI</td>\n",
       "      <td>23704.0</td>\n",
       "      <td>1997-08-01</td>\n",
       "    </tr>\n",
       "    <tr>\n",
       "      <th>1137742</th>\n",
       "      <td>1541292435</td>\n",
       "      <td>333317966</td>\n",
       "      <td>2021-05-10</td>\n",
       "      <td>7</td>\n",
       "      <td>NT</td>\n",
       "      <td>F</td>\n",
       "      <td>110254.0</td>\n",
       "      <td>CF</td>\n",
       "      <td>VAUXHALL</td>\n",
       "      <td>MOVANO</td>\n",
       "      <td>BLUE</td>\n",
       "      <td>DI</td>\n",
       "      <td>22900.0</td>\n",
       "      <td>2011-05-27</td>\n",
       "    </tr>\n",
       "  </tbody>\n",
       "</table>\n",
       "</div>"
      ],
      "text/plain": [
       "            test_id  vehicle_id   test_date  test_class_id test_type   \n",
       "2971964   269712991  1347489287  2021-11-17              4        RT  \\\n",
       "1595211  1209201737   764415083  2021-07-09              4        NT   \n",
       "2847725   448570249  1071738607  2021-11-06              4        NT   \n",
       "359713    524049153   342455707  2021-02-05              4        RT   \n",
       "821645   1713916205   483469641  2021-03-20              4        NT   \n",
       "2537986   747746659  1221928576  2021-10-11              4        NT   \n",
       "2318796   795477519   540242564  2021-09-22              4        NT   \n",
       "1288582  1662636953   696789090  2021-06-02              4        NT   \n",
       "1137742  1541292435   333317966  2021-05-10              7        NT   \n",
       "\n",
       "        test_result  test_mileage postcode_area        make         model   \n",
       "2971964           P      206903.0            UB       DODGE           RAM  \\\n",
       "1595211           P         800.0            TR   CHEVROLET  UNCLASSIFIED   \n",
       "2847725           P      123360.0            LL  VOLKSWAGEN       TOUAREG   \n",
       "359713            F       61230.0            RM          GM       CAPTIVA   \n",
       "821645            P       38678.0            LS        AUDI            A3   \n",
       "2537986           F       56571.0            WF  VOLKSWAGEN   TRANSPORTER   \n",
       "2318796           P       34218.0            CO        FORD    AUTO-TRAIL   \n",
       "1288582           P      160272.0            GU  VOLKSWAGEN     CARAVELLE   \n",
       "1137742           F      110254.0            CF    VAUXHALL        MOVANO   \n",
       "\n",
       "         colour fuel_type  cylinder_capacity first_use_date  \n",
       "2971964   BLACK        PE            50007.0     2015-03-11  \n",
       "1595211   GREEN        PE            35400.0     2020-10-01  \n",
       "2847725  SILVER        DI            28890.0     2019-07-23  \n",
       "359713    BEIGE        PE            26000.0     2017-06-14  \n",
       "821645     GREY        PE            24985.0     2015-09-18  \n",
       "2537986    BLUE        DI            24614.0     2000-11-22  \n",
       "2318796   WHITE        DI            24402.0     2001-05-03  \n",
       "1288582     RED        DI            23704.0     1997-08-01  \n",
       "1137742    BLUE        DI            22900.0     2011-05-27  "
      ]
     },
     "execution_count": 29,
     "metadata": {},
     "output_type": "execute_result"
    },
    {
     "name": "stdout",
     "output_type": "stream",
     "text": [
      "In [29] used 0.0 MiB RAM in 0.12s (system mean cpu 6%, single max cpu 73%), peaked 2.0 MiB above final usage, current RAM usage now 1044.8 MiB\n"
     ]
    }
   ],
   "source": [
    "%time df.query('cylinder_capacity > 20000').sort_values('cylinder_capacity', ascending=False)"
   ]
  },
  {
   "cell_type": "markdown",
   "id": "e6ef9637-7cf8-4284-828d-b9205f889bee",
   "metadata": {},
   "source": [
    "## drop rows with nan cylinder capacity - how many left? does groupby do better?"
   ]
  },
  {
   "cell_type": "code",
   "execution_count": 30,
   "id": "de5749ba-fe50-4e2e-9b99-734aab65df0b",
   "metadata": {
    "tags": []
   },
   "outputs": [
    {
     "data": {
      "text/plain": [
       "8150"
      ]
     },
     "execution_count": 30,
     "metadata": {},
     "output_type": "execute_result"
    },
    {
     "name": "stdout",
     "output_type": "stream",
     "text": [
      "In [30] used 0.0 MiB RAM in 0.10s (system mean cpu 4%, single max cpu 57%), peaked 0.0 MiB above final usage, current RAM usage now 1044.8 MiB\n"
     ]
    }
   ],
   "source": [
    "mask = df['cylinder_capacity'].isna()\n",
    "mask.sum() # nbr of rows to remove"
   ]
  },
  {
   "cell_type": "code",
   "execution_count": 31,
   "id": "ca3c15d1-3f5a-40e8-b3e0-1e132afa94aa",
   "metadata": {
    "tags": []
   },
   "outputs": [
    {
     "data": {
      "text/plain": [
       "(3354378, 14)"
      ]
     },
     "execution_count": 31,
     "metadata": {},
     "output_type": "execute_result"
    },
    {
     "name": "stdout",
     "output_type": "stream",
     "text": [
      "In [31] used 409.7 MiB RAM in 0.29s (system mean cpu 8%, single max cpu 100%), peaked 0.0 MiB above final usage, current RAM usage now 1454.5 MiB\n"
     ]
    }
   ],
   "source": [
    "df_nonan_cylcap = df[~mask]\n",
    "df_nonan_cylcap.shape"
   ]
  },
  {
   "cell_type": "code",
   "execution_count": 32,
   "id": "7cd81b99-d852-4804-a6df-e7d0a961e311",
   "metadata": {
    "tags": []
   },
   "outputs": [
    {
     "data": {
      "text/html": [
       "<div>\n",
       "<style scoped>\n",
       "    .dataframe tbody tr th:only-of-type {\n",
       "        vertical-align: middle;\n",
       "    }\n",
       "\n",
       "    .dataframe tbody tr th {\n",
       "        vertical-align: top;\n",
       "    }\n",
       "\n",
       "    .dataframe thead th {\n",
       "        text-align: right;\n",
       "    }\n",
       "</style>\n",
       "<table border=\"1\" class=\"dataframe\">\n",
       "  <thead>\n",
       "    <tr style=\"text-align: right;\">\n",
       "      <th></th>\n",
       "      <th>median</th>\n",
       "      <th>size</th>\n",
       "    </tr>\n",
       "    <tr>\n",
       "      <th>make</th>\n",
       "      <th></th>\n",
       "      <th></th>\n",
       "    </tr>\n",
       "  </thead>\n",
       "  <tbody>\n",
       "    <tr>\n",
       "      <th>CPI</th>\n",
       "      <td>49.0</td>\n",
       "      <td>34</td>\n",
       "    </tr>\n",
       "    <tr>\n",
       "      <th>TOMOS</th>\n",
       "      <td>49.0</td>\n",
       "      <td>16</td>\n",
       "    </tr>\n",
       "    <tr>\n",
       "      <th>DIRECT BIKES</th>\n",
       "      <td>49.0</td>\n",
       "      <td>111</td>\n",
       "    </tr>\n",
       "    <tr>\n",
       "      <th>BEELINE</th>\n",
       "      <td>49.0</td>\n",
       "      <td>17</td>\n",
       "    </tr>\n",
       "    <tr>\n",
       "      <th>EASY RIDER</th>\n",
       "      <td>49.0</td>\n",
       "      <td>28</td>\n",
       "    </tr>\n",
       "    <tr>\n",
       "      <th>...</th>\n",
       "      <td>...</td>\n",
       "      <td>...</td>\n",
       "    </tr>\n",
       "    <tr>\n",
       "      <th>BENTLEY</th>\n",
       "      <td>5998.0</td>\n",
       "      <td>1901</td>\n",
       "    </tr>\n",
       "    <tr>\n",
       "      <th>JENSEN</th>\n",
       "      <td>6276.0</td>\n",
       "      <td>20</td>\n",
       "    </tr>\n",
       "    <tr>\n",
       "      <th>ALEXANDER DENNIS</th>\n",
       "      <td>6700.0</td>\n",
       "      <td>19</td>\n",
       "    </tr>\n",
       "    <tr>\n",
       "      <th>ROLLS ROYCE</th>\n",
       "      <td>6749.0</td>\n",
       "      <td>532</td>\n",
       "    </tr>\n",
       "    <tr>\n",
       "      <th>LEYLAND</th>\n",
       "      <td>9999.0</td>\n",
       "      <td>21</td>\n",
       "    </tr>\n",
       "  </tbody>\n",
       "</table>\n",
       "<p>270 rows × 2 columns</p>\n",
       "</div>"
      ],
      "text/plain": [
       "                  median  size\n",
       "make                          \n",
       "CPI                 49.0    34\n",
       "TOMOS               49.0    16\n",
       "DIRECT BIKES        49.0   111\n",
       "BEELINE             49.0    17\n",
       "EASY RIDER          49.0    28\n",
       "...                  ...   ...\n",
       "BENTLEY           5998.0  1901\n",
       "JENSEN            6276.0    20\n",
       "ALEXANDER DENNIS  6700.0    19\n",
       "ROLLS ROYCE       6749.0   532\n",
       "LEYLAND           9999.0    21\n",
       "\n",
       "[270 rows x 2 columns]"
      ]
     },
     "execution_count": 32,
     "metadata": {},
     "output_type": "execute_result"
    },
    {
     "name": "stdout",
     "output_type": "stream",
     "text": [
      "In [32] used 51.2 MiB RAM in 0.30s (system mean cpu 6%, single max cpu 100%), peaked 0.0 MiB above final usage, current RAM usage now 1505.7 MiB\n"
     ]
    }
   ],
   "source": [
    "agg_result = df_nonan_cylcap.groupby('make')['cylinder_capacity'].agg(['median', 'size'])\n",
    "agg_result.query('size > 10').sort_values('median')\n",
    "#agg_result.query('size == 1').sort_index()"
   ]
  },
  {
   "cell_type": "code",
   "execution_count": 33,
   "id": "2cf1df1c-eff5-4b93-9f21-50aa0704c0ed",
   "metadata": {
    "tags": []
   },
   "outputs": [
    {
     "name": "stdout",
     "output_type": "stream",
     "text": [
      "CPU times: user 393 ms, sys: 78.8 ms, total: 472 ms\n",
      "Wall time: 468 ms\n"
     ]
    },
    {
     "data": {
      "text/html": [
       "<div>\n",
       "<style scoped>\n",
       "    .dataframe tbody tr th:only-of-type {\n",
       "        vertical-align: middle;\n",
       "    }\n",
       "\n",
       "    .dataframe tbody tr th {\n",
       "        vertical-align: top;\n",
       "    }\n",
       "\n",
       "    .dataframe thead th {\n",
       "        text-align: right;\n",
       "    }\n",
       "</style>\n",
       "<table border=\"1\" class=\"dataframe\">\n",
       "  <thead>\n",
       "    <tr style=\"text-align: right;\">\n",
       "      <th></th>\n",
       "      <th>median</th>\n",
       "      <th>size</th>\n",
       "    </tr>\n",
       "    <tr>\n",
       "      <th>make</th>\n",
       "      <th></th>\n",
       "      <th></th>\n",
       "    </tr>\n",
       "  </thead>\n",
       "  <tbody>\n",
       "    <tr>\n",
       "      <th>CPI</th>\n",
       "      <td>49.0</td>\n",
       "      <td>34</td>\n",
       "    </tr>\n",
       "    <tr>\n",
       "      <th>TOMOS</th>\n",
       "      <td>49.0</td>\n",
       "      <td>16</td>\n",
       "    </tr>\n",
       "    <tr>\n",
       "      <th>DIRECT BIKES</th>\n",
       "      <td>49.0</td>\n",
       "      <td>111</td>\n",
       "    </tr>\n",
       "    <tr>\n",
       "      <th>BEELINE</th>\n",
       "      <td>49.0</td>\n",
       "      <td>17</td>\n",
       "    </tr>\n",
       "    <tr>\n",
       "      <th>EASY RIDER</th>\n",
       "      <td>49.0</td>\n",
       "      <td>28</td>\n",
       "    </tr>\n",
       "    <tr>\n",
       "      <th>...</th>\n",
       "      <td>...</td>\n",
       "      <td>...</td>\n",
       "    </tr>\n",
       "    <tr>\n",
       "      <th>BENTLEY</th>\n",
       "      <td>5998.0</td>\n",
       "      <td>1901</td>\n",
       "    </tr>\n",
       "    <tr>\n",
       "      <th>JENSEN</th>\n",
       "      <td>6276.0</td>\n",
       "      <td>20</td>\n",
       "    </tr>\n",
       "    <tr>\n",
       "      <th>ALEXANDER DENNIS</th>\n",
       "      <td>6700.0</td>\n",
       "      <td>19</td>\n",
       "    </tr>\n",
       "    <tr>\n",
       "      <th>ROLLS ROYCE</th>\n",
       "      <td>6749.0</td>\n",
       "      <td>532</td>\n",
       "    </tr>\n",
       "    <tr>\n",
       "      <th>LEYLAND</th>\n",
       "      <td>9999.0</td>\n",
       "      <td>21</td>\n",
       "    </tr>\n",
       "  </tbody>\n",
       "</table>\n",
       "<p>270 rows × 2 columns</p>\n",
       "</div>"
      ],
      "text/plain": [
       "                  median  size\n",
       "make                          \n",
       "CPI                 49.0    34\n",
       "TOMOS               49.0    16\n",
       "DIRECT BIKES        49.0   111\n",
       "BEELINE             49.0    17\n",
       "EASY RIDER          49.0    28\n",
       "...                  ...   ...\n",
       "BENTLEY           5998.0  1901\n",
       "JENSEN            6276.0    20\n",
       "ALEXANDER DENNIS  6700.0    19\n",
       "ROLLS ROYCE       6749.0   532\n",
       "LEYLAND           9999.0    21\n",
       "\n",
       "[270 rows x 2 columns]"
      ]
     },
     "execution_count": 33,
     "metadata": {},
     "output_type": "execute_result"
    },
    {
     "name": "stdout",
     "output_type": "stream",
     "text": [
      "In [33] used -51.0 MiB RAM in 0.57s (system mean cpu 9%, single max cpu 100%), peaked 434.9 MiB above final usage, current RAM usage now 1454.7 MiB\n"
     ]
    }
   ],
   "source": [
    "%%time\n",
    "\n",
    "df[~df['cylinder_capacity'].isna()] \\\n",
    ".groupby('make')['cylinder_capacity'].agg(['median', 'size']) \\\n",
    ".query('size > 10').sort_values('median')\n",
    "#agg_result.query('size == 1').sort_index()"
   ]
  },
  {
   "cell_type": "code",
   "execution_count": null,
   "id": "76b54e63-dd8e-4de8-93c5-7f8ff4e7962a",
   "metadata": {},
   "outputs": [],
   "source": []
  }
 ],
 "metadata": {
  "kernelspec": {
   "display_name": "Python 3 (ipykernel)",
   "language": "python",
   "name": "python3"
  },
  "language_info": {
   "codemirror_mode": {
    "name": "ipython",
    "version": 3
   },
   "file_extension": ".py",
   "mimetype": "text/x-python",
   "name": "python",
   "nbconvert_exporter": "python",
   "pygments_lexer": "ipython3",
   "version": "3.11.3"
  }
 },
 "nbformat": 4,
 "nbformat_minor": 5
}
