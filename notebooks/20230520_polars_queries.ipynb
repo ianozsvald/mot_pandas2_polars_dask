{
 "cells": [
  {
   "cell_type": "markdown",
   "id": "eb6ef869-e2ae-45b0-9cd2-7a7d50675f46",
   "metadata": {},
   "source": [
    "# Try some queries\n",
    "\n",
    "* read 1 parquet file, select date range\n",
    "* count pass rates by day for petrols, same for fails - value_counts, groupby\n",
    "* read all 2021 rows\n",
    "\n",
    "How do we?\n",
    "\n",
    "* count rows in a file using scan_parquet, without instantiating it"
   ]
  },
  {
   "cell_type": "code",
   "execution_count": 1,
   "id": "f61f4f3f-0296-49b3-8b90-2ecb7bf9ecb7",
   "metadata": {
    "tags": []
   },
   "outputs": [
    {
     "data": {
      "text/plain": [
       "'0.17.10'"
      ]
     },
     "metadata": {},
     "output_type": "display_data"
    },
    {
     "data": {
      "text/plain": [
       "'Profiling enabled'"
      ]
     },
     "execution_count": 1,
     "metadata": {},
     "output_type": "execute_result"
    },
    {
     "name": "stdout",
     "output_type": "stream",
     "text": [
      "In [1] used 0.0 MiB RAM in 0.10s (system mean cpu 0%, single max cpu 0%), peaked 0.0 MiB above final usage, current RAM usage now 78.1 MiB\n"
     ]
    }
   ],
   "source": [
    "import polars as pl\n",
    "\n",
    "display(pl.__version__)\n",
    "\n",
    "from cell_profiler import cell_profiler as cp\n",
    "%start_cell_profiler"
   ]
  },
  {
   "cell_type": "markdown",
   "id": "81331f49-73de-480d-8446-725bcf91a0d8",
   "metadata": {},
   "source": [
    "# Read 1 file, calculate pass and fail rates"
   ]
  },
  {
   "cell_type": "code",
   "execution_count": 2,
   "id": "72b81b98-2b08-4547-afe3-61d243c2bd35",
   "metadata": {
    "tags": []
   },
   "outputs": [
    {
     "data": {
      "text/html": [
       "<div><style>\n",
       ".dataframe > thead > tr > th,\n",
       ".dataframe > tbody > tr > td {\n",
       "  text-align: right;\n",
       "}\n",
       "</style>\n",
       "<small>shape: (5, 14)</small><table border=\"1\" class=\"dataframe\"><thead><tr><th>test_id</th><th>vehicle_id</th><th>test_date</th><th>test_class_id</th><th>test_type</th><th>test_result</th><th>test_mileage</th><th>postcode_area</th><th>make</th><th>model</th><th>colour</th><th>fuel_type</th><th>cylinder_capacity</th><th>first_use_date</th></tr><tr><td>i64</td><td>i64</td><td>datetime[ns]</td><td>i64</td><td>str</td><td>str</td><td>i64</td><td>str</td><td>str</td><td>str</td><td>str</td><td>str</td><td>i64</td><td>datetime[ns]</td></tr></thead><tbody><tr><td>501924826</td><td>995588368</td><td>2005-07-01 00:00:00</td><td>4</td><td>&quot;NT&quot;</td><td>&quot;F&quot;</td><td>72145</td><td>&quot;NR&quot;</td><td>&quot;FORD&quot;</td><td>&quot;FIESTA&quot;</td><td>&quot;RED&quot;</td><td>&quot;PE&quot;</td><td>1242</td><td>1998-06-30 00:00:00</td></tr><tr><td>52672256</td><td>844414844</td><td>2005-07-01 00:00:00</td><td>7</td><td>&quot;NT&quot;</td><td>&quot;P&quot;</td><td>107920</td><td>&quot;CR&quot;</td><td>&quot;FORD&quot;</td><td>&quot;TRANSIT&quot;</td><td>&quot;WHITE&quot;</td><td>&quot;DI&quot;</td><td>2496</td><td>2001-02-12 00:00:00</td></tr><tr><td>1516474096</td><td>123004922</td><td>2005-07-01 00:00:00</td><td>4</td><td>&quot;RT&quot;</td><td>&quot;P&quot;</td><td>60483</td><td>&quot;NE&quot;</td><td>&quot;FIAT&quot;</td><td>&quot;PUNTO&quot;</td><td>&quot;BLUE&quot;</td><td>&quot;PE&quot;</td><td>1242</td><td>1999-03-26 00:00:00</td></tr><tr><td>1322772390</td><td>1477765462</td><td>2005-07-01 00:00:00</td><td>4</td><td>&quot;NT&quot;</td><td>&quot;P&quot;</td><td>83307</td><td>&quot;ME&quot;</td><td>&quot;FORD&quot;</td><td>&quot;ESCORT&quot;</td><td>&quot;RED&quot;</td><td>&quot;DI&quot;</td><td>1753</td><td>1999-01-17 00:00:00</td></tr><tr><td>1924636408</td><td>1169641864</td><td>2005-07-01 00:00:00</td><td>4</td><td>&quot;NT&quot;</td><td>&quot;F&quot;</td><td>56870</td><td>&quot;B&quot;</td><td>&quot;PEUGEOT&quot;</td><td>&quot;206&quot;</td><td>&quot;GREY&quot;</td><td>&quot;PE&quot;</td><td>1124</td><td>2002-03-25 00:00:00</td></tr></tbody></table></div>"
      ],
      "text/plain": [
       "shape: (5, 14)\n",
       "┌───────────┬──────────┬───────────┬────────────┬───┬────────┬───────────┬────────────┬────────────┐\n",
       "│ test_id   ┆ vehicle_ ┆ test_date ┆ test_class ┆ … ┆ colour ┆ fuel_type ┆ cylinder_c ┆ first_use_ │\n",
       "│ ---       ┆ id       ┆ ---       ┆ _id        ┆   ┆ ---    ┆ ---       ┆ apacity    ┆ date       │\n",
       "│ i64       ┆ ---      ┆ datetime[ ┆ ---        ┆   ┆ str    ┆ str       ┆ ---        ┆ ---        │\n",
       "│           ┆ i64      ┆ ns]       ┆ i64        ┆   ┆        ┆           ┆ i64        ┆ datetime[n │\n",
       "│           ┆          ┆           ┆            ┆   ┆        ┆           ┆            ┆ s]         │\n",
       "╞═══════════╪══════════╪═══════════╪════════════╪═══╪════════╪═══════════╪════════════╪════════════╡\n",
       "│ 501924826 ┆ 99558836 ┆ 2005-07-0 ┆ 4          ┆ … ┆ RED    ┆ PE        ┆ 1242       ┆ 1998-06-30 │\n",
       "│           ┆ 8        ┆ 1         ┆            ┆   ┆        ┆           ┆            ┆ 00:00:00   │\n",
       "│           ┆          ┆ 00:00:00  ┆            ┆   ┆        ┆           ┆            ┆            │\n",
       "│ 52672256  ┆ 84441484 ┆ 2005-07-0 ┆ 7          ┆ … ┆ WHITE  ┆ DI        ┆ 2496       ┆ 2001-02-12 │\n",
       "│           ┆ 4        ┆ 1         ┆            ┆   ┆        ┆           ┆            ┆ 00:00:00   │\n",
       "│           ┆          ┆ 00:00:00  ┆            ┆   ┆        ┆           ┆            ┆            │\n",
       "│ 151647409 ┆ 12300492 ┆ 2005-07-0 ┆ 4          ┆ … ┆ BLUE   ┆ PE        ┆ 1242       ┆ 1999-03-26 │\n",
       "│ 6         ┆ 2        ┆ 1         ┆            ┆   ┆        ┆           ┆            ┆ 00:00:00   │\n",
       "│           ┆          ┆ 00:00:00  ┆            ┆   ┆        ┆           ┆            ┆            │\n",
       "│ 132277239 ┆ 14777654 ┆ 2005-07-0 ┆ 4          ┆ … ┆ RED    ┆ DI        ┆ 1753       ┆ 1999-01-17 │\n",
       "│ 0         ┆ 62       ┆ 1         ┆            ┆   ┆        ┆           ┆            ┆ 00:00:00   │\n",
       "│           ┆          ┆ 00:00:00  ┆            ┆   ┆        ┆           ┆            ┆            │\n",
       "│ 192463640 ┆ 11696418 ┆ 2005-07-0 ┆ 4          ┆ … ┆ GREY   ┆ PE        ┆ 1124       ┆ 2002-03-25 │\n",
       "│ 8         ┆ 64       ┆ 1         ┆            ┆   ┆        ┆           ┆            ┆ 00:00:00   │\n",
       "│           ┆          ┆ 00:00:00  ┆            ┆   ┆        ┆           ┆            ┆            │\n",
       "└───────────┴──────────┴───────────┴────────────┴───┴────────┴───────────┴────────────┴────────────┘"
      ]
     },
     "execution_count": 2,
     "metadata": {},
     "output_type": "execute_result"
    },
    {
     "name": "stdout",
     "output_type": "stream",
     "text": [
      "In [2] used 130.9 MiB RAM in 0.21s (system mean cpu 11%, single max cpu 34%), peaked 0.0 MiB above final usage, current RAM usage now 209.0 MiB\n"
     ]
    }
   ],
   "source": [
    "parquet_test_result = \"../test_result.parquet/part.1.parquet\"\n",
    "#pl.read_parquet_schema(parquet_test_result + \"/part.1.parquet\")\n",
    "df = pl.read_parquet(parquet_test_result)\n",
    "df.head()"
   ]
  },
  {
   "cell_type": "code",
   "execution_count": 17,
   "id": "664169f1-eca0-4682-8e64-fdbe81da4b99",
   "metadata": {
    "tags": []
   },
   "outputs": [
    {
     "data": {
      "text/html": [
       "<div><style>\n",
       ".dataframe > thead > tr > th,\n",
       ".dataframe > tbody > tr > td {\n",
       "  text-align: right;\n",
       "}\n",
       "</style>\n",
       "<small>shape: (7, 2)</small><table border=\"1\" class=\"dataframe\"><thead><tr><th>test_date</th><th>counts</th></tr><tr><td>u32</td><td>u32</td></tr></thead><tbody><tr><td>1</td><td>78057</td></tr><tr><td>2</td><td>83191</td></tr><tr><td>3</td><td>76524</td></tr><tr><td>4</td><td>65422</td></tr><tr><td>5</td><td>80020</td></tr><tr><td>6</td><td>37068</td></tr><tr><td>7</td><td>510</td></tr></tbody></table></div>"
      ],
      "text/plain": [
       "shape: (7, 2)\n",
       "┌───────────┬────────┐\n",
       "│ test_date ┆ counts │\n",
       "│ ---       ┆ ---    │\n",
       "│ u32       ┆ u32    │\n",
       "╞═══════════╪════════╡\n",
       "│ 1         ┆ 78057  │\n",
       "│ 2         ┆ 83191  │\n",
       "│ 3         ┆ 76524  │\n",
       "│ 4         ┆ 65422  │\n",
       "│ 5         ┆ 80020  │\n",
       "│ 6         ┆ 37068  │\n",
       "│ 7         ┆ 510    │\n",
       "└───────────┴────────┘"
      ]
     },
     "execution_count": 17,
     "metadata": {},
     "output_type": "execute_result"
    },
    {
     "name": "stdout",
     "output_type": "stream",
     "text": [
      "In [17] used 7.3 MiB RAM in 0.13s (system mean cpu 7%, single max cpu 18%), peaked 0.0 MiB above final usage, current RAM usage now 613.4 MiB\n"
     ]
    }
   ],
   "source": [
    "# Monday is 1, Sunday 7\n",
    "df.filter((pl.col('test_result')=='P') & (pl.col('fuel_type')=='PE'))['test_date'].dt.weekday().value_counts()"
   ]
  },
  {
   "cell_type": "code",
   "execution_count": 24,
   "id": "59ef5e22-0a3c-45c8-8266-914e774cd84d",
   "metadata": {
    "tags": []
   },
   "outputs": [
    {
     "data": {
      "text/html": [
       "<div><style>\n",
       ".dataframe > thead > tr > th,\n",
       ".dataframe > tbody > tr > td {\n",
       "  text-align: right;\n",
       "}\n",
       "</style>\n",
       "<small>shape: (7, 2)</small><table border=\"1\" class=\"dataframe\"><thead><tr><th>test_date</th><th>count</th></tr><tr><td>u32</td><td>u32</td></tr></thead><tbody><tr><td>1</td><td>78057</td></tr><tr><td>2</td><td>83191</td></tr><tr><td>3</td><td>76524</td></tr><tr><td>4</td><td>65422</td></tr><tr><td>5</td><td>80020</td></tr><tr><td>6</td><td>37068</td></tr><tr><td>7</td><td>510</td></tr></tbody></table></div>"
      ],
      "text/plain": [
       "shape: (7, 2)\n",
       "┌───────────┬───────┐\n",
       "│ test_date ┆ count │\n",
       "│ ---       ┆ ---   │\n",
       "│ u32       ┆ u32   │\n",
       "╞═══════════╪═══════╡\n",
       "│ 1         ┆ 78057 │\n",
       "│ 2         ┆ 83191 │\n",
       "│ 3         ┆ 76524 │\n",
       "│ 4         ┆ 65422 │\n",
       "│ 5         ┆ 80020 │\n",
       "│ 6         ┆ 37068 │\n",
       "│ 7         ┆ 510   │\n",
       "└───────────┴───────┘"
      ]
     },
     "execution_count": 24,
     "metadata": {},
     "output_type": "execute_result"
    },
    {
     "name": "stdout",
     "output_type": "stream",
     "text": [
      "In [24] used 14.4 MiB RAM in 0.14s (system mean cpu 7%, single max cpu 11%), peaked 0.0 MiB above final usage, current RAM usage now 672.0 MiB\n"
     ]
    }
   ],
   "source": [
    "pass_cnt_days = df.filter((pl.col('test_result')=='P') & (pl.col('fuel_type')=='PE')).groupby(pl.col('test_date').dt.weekday()).count()\n",
    "pass_cnt_days"
   ]
  },
  {
   "cell_type": "code",
   "execution_count": 25,
   "id": "98eba732-607d-47fc-9c18-34bf190ddcc0",
   "metadata": {
    "tags": []
   },
   "outputs": [
    {
     "data": {
      "text/html": [
       "<div><style>\n",
       ".dataframe > thead > tr > th,\n",
       ".dataframe > tbody > tr > td {\n",
       "  text-align: right;\n",
       "}\n",
       "</style>\n",
       "<small>shape: (7, 2)</small><table border=\"1\" class=\"dataframe\"><thead><tr><th>test_date</th><th>count</th></tr><tr><td>u32</td><td>u32</td></tr></thead><tbody><tr><td>1</td><td>26352</td></tr><tr><td>2</td><td>27530</td></tr><tr><td>3</td><td>24956</td></tr><tr><td>4</td><td>19822</td></tr><tr><td>5</td><td>23575</td></tr><tr><td>6</td><td>10512</td></tr><tr><td>7</td><td>128</td></tr></tbody></table></div>"
      ],
      "text/plain": [
       "shape: (7, 2)\n",
       "┌───────────┬───────┐\n",
       "│ test_date ┆ count │\n",
       "│ ---       ┆ ---   │\n",
       "│ u32       ┆ u32   │\n",
       "╞═══════════╪═══════╡\n",
       "│ 1         ┆ 26352 │\n",
       "│ 2         ┆ 27530 │\n",
       "│ 3         ┆ 24956 │\n",
       "│ 4         ┆ 19822 │\n",
       "│ 5         ┆ 23575 │\n",
       "│ 6         ┆ 10512 │\n",
       "│ 7         ┆ 128   │\n",
       "└───────────┴───────┘"
      ]
     },
     "execution_count": 25,
     "metadata": {},
     "output_type": "execute_result"
    },
    {
     "name": "stdout",
     "output_type": "stream",
     "text": [
      "In [25] used 0.3 MiB RAM in 0.12s (system mean cpu 8%, single max cpu 13%), peaked 0.0 MiB above final usage, current RAM usage now 672.3 MiB\n"
     ]
    }
   ],
   "source": [
    "failure_cnt_days = df.filter((pl.col('test_result')=='F') & (pl.col('fuel_type')=='PE')).groupby(pl.col('test_date').dt.weekday()).count()\n",
    "failure_cnt_days"
   ]
  },
  {
   "cell_type": "code",
   "execution_count": 28,
   "id": "a51f3137-0d16-45c2-b6a1-4075b3dd9a76",
   "metadata": {
    "tags": []
   },
   "outputs": [
    {
     "data": {
      "text/html": [
       "<div><style>\n",
       ".dataframe > thead > tr > th,\n",
       ".dataframe > tbody > tr > td {\n",
       "  text-align: right;\n",
       "}\n",
       "</style>\n",
       "<small>shape: (7, 2)</small><table border=\"1\" class=\"dataframe\"><thead><tr><th>test_date</th><th>count</th></tr><tr><td>f64</td><td>f64</td></tr></thead><tbody><tr><td>1.0</td><td>2.96209</td></tr><tr><td>1.0</td><td>3.021831</td></tr><tr><td>1.0</td><td>3.066357</td></tr><tr><td>1.0</td><td>3.300474</td></tr><tr><td>1.0</td><td>3.394274</td></tr><tr><td>1.0</td><td>3.526256</td></tr><tr><td>1.0</td><td>3.984375</td></tr></tbody></table></div>"
      ],
      "text/plain": [
       "shape: (7, 2)\n",
       "┌───────────┬──────────┐\n",
       "│ test_date ┆ count    │\n",
       "│ ---       ┆ ---      │\n",
       "│ f64       ┆ f64      │\n",
       "╞═══════════╪══════════╡\n",
       "│ 1.0       ┆ 2.96209  │\n",
       "│ 1.0       ┆ 3.021831 │\n",
       "│ 1.0       ┆ 3.066357 │\n",
       "│ 1.0       ┆ 3.300474 │\n",
       "│ 1.0       ┆ 3.394274 │\n",
       "│ 1.0       ┆ 3.526256 │\n",
       "│ 1.0       ┆ 3.984375 │\n",
       "└───────────┴──────────┘"
      ]
     },
     "execution_count": 28,
     "metadata": {},
     "output_type": "execute_result"
    },
    {
     "name": "stdout",
     "output_type": "stream",
     "text": [
      "In [28] used 0.0 MiB RAM in 0.10s (system mean cpu 7%, single max cpu 19%), peaked 0.0 MiB above final usage, current RAM usage now 672.1 MiB\n"
     ]
    }
   ],
   "source": [
    "pass_cnt_days/failure_cnt_days"
   ]
  },
  {
   "cell_type": "markdown",
   "id": "b6b108fd-7f9c-4f4c-8664-614e94a580be",
   "metadata": {},
   "source": [
    "# Try filtering on all data"
   ]
  },
  {
   "cell_type": "code",
   "execution_count": 12,
   "id": "e327e8cf-aef5-4798-8eee-299b473ec2a5",
   "metadata": {
    "tags": []
   },
   "outputs": [
    {
     "data": {
      "text/plain": [
       "(0, 14)"
      ]
     },
     "execution_count": 12,
     "metadata": {},
     "output_type": "execute_result"
    },
    {
     "name": "stdout",
     "output_type": "stream",
     "text": [
      "In [12] used 0.3 MiB RAM in 0.11s (system mean cpu 7%, single max cpu 10%), peaked 0.0 MiB above final usage, current RAM usage now 348.3 MiB\n"
     ]
    }
   ],
   "source": [
    "import datetime\n",
    "#df.filter(pl.col('test_date') > datetime.datetime(2006, 1, 1))\n",
    "df.filter(pl.col('test_date') > datetime.datetime(2006, 1, 1)).shape"
   ]
  },
  {
   "cell_type": "code",
   "execution_count": null,
   "id": "7a32539b-3509-449c-ba44-f18941d92ceb",
   "metadata": {
    "tags": []
   },
   "outputs": [],
   "source": [
    "df.head(5)"
   ]
  },
  {
   "cell_type": "code",
   "execution_count": 13,
   "id": "584a9c25-56d0-4d13-a524-e90fb9de3cfd",
   "metadata": {
    "tags": []
   },
   "outputs": [
    {
     "data": {
      "text/plain": [
       "(82012245, 14)"
      ]
     },
     "execution_count": 13,
     "metadata": {},
     "output_type": "execute_result"
    },
    {
     "name": "stdout",
     "output_type": "stream",
     "text": [
      "In [13] used 12413.6 MiB RAM in 32.20s (system mean cpu 79%, single max cpu 100%), peaked 9460.4 MiB above final usage, current RAM usage now 12761.8 MiB\n"
     ]
    }
   ],
   "source": [
    "dt = datetime.datetime(2021, 1, 1)\n",
    "dfp = pl.scan_parquet('../test_result.parquet/*.parquet').filter(pl.col('test_date') > dt).collect()\n",
    "dfp.shape"
   ]
  },
  {
   "cell_type": "code",
   "execution_count": 17,
   "id": "92823824-ab0b-4913-954c-1d687f695924",
   "metadata": {
    "tags": []
   },
   "outputs": [
    {
     "data": {
      "text/plain": [
       "'11,167,322,973'"
      ]
     },
     "execution_count": 17,
     "metadata": {},
     "output_type": "execute_result"
    },
    {
     "name": "stdout",
     "output_type": "stream",
     "text": [
      "In [17] used 0.0 MiB RAM in 0.10s (system mean cpu 0%, single max cpu 0%), peaked 0.0 MiB above final usage, current RAM usage now 12778.3 MiB\n"
     ]
    }
   ],
   "source": [
    "f\"{dfp.estimated_size():,} bytes\""
   ]
  },
  {
   "cell_type": "code",
   "execution_count": 23,
   "id": "3dec57a2-66a6-4899-a76d-955eef706070",
   "metadata": {
    "tags": []
   },
   "outputs": [
    {
     "data": {
      "text/plain": [
       "(datetime.datetime(2022, 12, 31, 0, 0), datetime.datetime(2021, 1, 2, 0, 0))"
      ]
     },
     "execution_count": 23,
     "metadata": {},
     "output_type": "execute_result"
    },
    {
     "name": "stdout",
     "output_type": "stream",
     "text": [
      "In [23] used 0.0 MiB RAM in 0.20s (system mean cpu 8%, single max cpu 17%), peaked 0.0 MiB above final usage, current RAM usage now 12776.0 MiB\n"
     ]
    }
   ],
   "source": [
    "dfp['test_date'].max(), dfp['test_date'].min()"
   ]
  },
  {
   "cell_type": "code",
   "execution_count": 26,
   "id": "156f5728-181f-40de-bc25-438a3aaf57f4",
   "metadata": {
    "tags": []
   },
   "outputs": [
    {
     "name": "stdout",
     "output_type": "stream",
     "text": [
      "In [26] used -97.4 MiB RAM in 4.46s (system mean cpu 51%, single max cpu 100%), peaked 10736.7 MiB above final usage, current RAM usage now 11950.8 MiB\n"
     ]
    }
   ],
   "source": [
    "passes_cnt_days = dfp.filter(pl.col('test_result')=='P').groupby(pl.col('test_date').dt.weekday()).count()"
   ]
  },
  {
   "cell_type": "code",
   "execution_count": 27,
   "id": "ad7f31db-e5d1-4e70-ba68-748070089b18",
   "metadata": {
    "tags": []
   },
   "outputs": [
    {
     "name": "stdout",
     "output_type": "stream",
     "text": [
      "In [27] used -289.6 MiB RAM in 2.33s (system mean cpu 51%, single max cpu 100%), peaked 2390.6 MiB above final usage, current RAM usage now 11661.2 MiB\n"
     ]
    }
   ],
   "source": [
    "failures_cnt_days = dfp.filter(pl.col('test_result')=='F').groupby(pl.col('test_date').dt.weekday()).count()"
   ]
  },
  {
   "cell_type": "code",
   "execution_count": 28,
   "id": "b3ea89c1-7f0a-4918-a6a9-b773705a4e16",
   "metadata": {
    "tags": []
   },
   "outputs": [
    {
     "data": {
      "text/html": [
       "<div><style>\n",
       ".dataframe > thead > tr > th,\n",
       ".dataframe > tbody > tr > td {\n",
       "  text-align: right;\n",
       "}\n",
       "</style>\n",
       "<small>shape: (7, 2)</small><table border=\"1\" class=\"dataframe\"><thead><tr><th>test_date</th><th>count</th></tr><tr><td>f64</td><td>f64</td></tr></thead><tbody><tr><td>1.0</td><td>3.690846</td></tr><tr><td>1.0</td><td>3.843502</td></tr><tr><td>1.0</td><td>3.93646</td></tr><tr><td>1.0</td><td>4.031116</td></tr><tr><td>1.0</td><td>4.370042</td></tr><tr><td>1.0</td><td>5.245285</td></tr><tr><td>1.0</td><td>5.428355</td></tr></tbody></table></div>"
      ],
      "text/plain": [
       "shape: (7, 2)\n",
       "┌───────────┬──────────┐\n",
       "│ test_date ┆ count    │\n",
       "│ ---       ┆ ---      │\n",
       "│ f64       ┆ f64      │\n",
       "╞═══════════╪══════════╡\n",
       "│ 1.0       ┆ 3.690846 │\n",
       "│ 1.0       ┆ 3.843502 │\n",
       "│ 1.0       ┆ 3.93646  │\n",
       "│ 1.0       ┆ 4.031116 │\n",
       "│ 1.0       ┆ 4.370042 │\n",
       "│ 1.0       ┆ 5.245285 │\n",
       "│ 1.0       ┆ 5.428355 │\n",
       "└───────────┴──────────┘"
      ]
     },
     "execution_count": 28,
     "metadata": {},
     "output_type": "execute_result"
    },
    {
     "name": "stdout",
     "output_type": "stream",
     "text": [
      "In [28] used 0.1 MiB RAM in 0.11s (system mean cpu 9%, single max cpu 17%), peaked 0.0 MiB above final usage, current RAM usage now 11661.3 MiB\n"
     ]
    }
   ],
   "source": [
    "passes_cnt_days / failures_cnt_days"
   ]
  },
  {
   "cell_type": "markdown",
   "id": "ea86f54e-9141-4a2c-825a-af1324ddbcf6",
   "metadata": {},
   "source": [
    "# Try filtering and writing out"
   ]
  },
  {
   "cell_type": "code",
   "execution_count": 40,
   "id": "293bb2e3-d488-48fb-82b0-e04cfe2d0c1a",
   "metadata": {
    "tags": []
   },
   "outputs": [
    {
     "name": "stdout",
     "output_type": "stream",
     "text": [
      "In [40] used 0.0 MiB RAM in 0.10s (system mean cpu 0%, single max cpu 0%), peaked 0.0 MiB above final usage, current RAM usage now 11674.2 MiB\n"
     ]
    }
   ],
   "source": [
    "#pl.scan_parquet('../test_result.parquet/*.parquet')."
   ]
  },
  {
   "cell_type": "code",
   "execution_count": 41,
   "id": "80632eaf-e0d7-4651-8463-bd82602aae77",
   "metadata": {
    "tags": []
   },
   "outputs": [
    {
     "name": "stdout",
     "output_type": "stream",
     "text": [
      "In [41] used 11792.8 MiB RAM in 25.84s (system mean cpu 89%, single max cpu 100%), peaked 9667.8 MiB above final usage, current RAM usage now 23467.0 MiB\n"
     ]
    }
   ],
   "source": [
    "dt = datetime.datetime(2021, 1, 1)\n",
    "dfp = pl.scan_parquet('../test_result.parquet/*.parquet').filter(pl.col('test_date') > dt).collect()\n"
   ]
  },
  {
   "cell_type": "code",
   "execution_count": 42,
   "id": "426f3278-04b3-4088-92ed-1392b3648d88",
   "metadata": {
    "tags": []
   },
   "outputs": [
    {
     "data": {
      "text/plain": [
       "(82012245, 14)"
      ]
     },
     "execution_count": 42,
     "metadata": {},
     "output_type": "execute_result"
    },
    {
     "name": "stdout",
     "output_type": "stream",
     "text": [
      "In [42] used 0.0 MiB RAM in 0.10s (system mean cpu 0%, single max cpu 0%), peaked 0.0 MiB above final usage, current RAM usage now 23467.0 MiB\n"
     ]
    }
   ],
   "source": [
    "dfp.shape"
   ]
  },
  {
   "cell_type": "code",
   "execution_count": 35,
   "id": "a15eee10-b287-416a-8941-6f3a151c8a78",
   "metadata": {
    "tags": []
   },
   "outputs": [
    {
     "data": {
      "text/plain": [
       "PosixPath('../test_result.parquet/test_result_2021on.parquet')"
      ]
     },
     "execution_count": 35,
     "metadata": {},
     "output_type": "execute_result"
    },
    {
     "name": "stdout",
     "output_type": "stream",
     "text": [
      "In [35] used 0.0 MiB RAM in 0.10s (system mean cpu 0%, single max cpu 0%), peaked 0.0 MiB above final usage, current RAM usage now 11668.5 MiB\n"
     ]
    }
   ],
   "source": [
    "import pathlib\n",
    "base_path = '../test_result.parquet'\n",
    "new_path = pathlib.Path(base_path) / \"test_result_2021on.parquet\"\n",
    "new_path"
   ]
  },
  {
   "cell_type": "code",
   "execution_count": 37,
   "id": "62729f3f-b6a9-4ea5-aa45-9cd2280db7f8",
   "metadata": {
    "tags": []
   },
   "outputs": [
    {
     "name": "stdout",
     "output_type": "stream",
     "text": [
      "In [37] used 0.0 MiB RAM in 0.10s (system mean cpu 0%, single max cpu 0%), peaked 0.0 MiB above final usage, current RAM usage now 11678.0 MiB\n"
     ]
    }
   ],
   "source": [
    "# default compression zstd, 'snappy' is allowed\n",
    "# dfp.write_parquet(new_path)\n",
    "# writes out a 2GB file in test_result as a single file\n",
    "# ought to figure out how to partition it a bit?"
   ]
  },
  {
   "cell_type": "code",
   "execution_count": null,
   "id": "284e9317-6be8-4310-b941-eb8927e08475",
   "metadata": {},
   "outputs": [],
   "source": []
  }
 ],
 "metadata": {
  "kernelspec": {
   "display_name": "Python 3 (ipykernel)",
   "language": "python",
   "name": "python3"
  },
  "language_info": {
   "codemirror_mode": {
    "name": "ipython",
    "version": 3
   },
   "file_extension": ".py",
   "mimetype": "text/x-python",
   "name": "python",
   "nbconvert_exporter": "python",
   "pygments_lexer": "ipython3",
   "version": "3.11.3"
  }
 },
 "nbformat": 4,
 "nbformat_minor": 5
}
