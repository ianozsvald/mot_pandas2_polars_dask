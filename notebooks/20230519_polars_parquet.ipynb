{
 "cells": [
  {
   "cell_type": "markdown",
   "id": "ed971418-652f-4341-a33c-2c16aaf36c86",
   "metadata": {},
   "source": [
    "# Load all parquet with polars\n",
    "\n",
    "I can load up to 300M rows with `read_parquet`, I can't load 400M and `scan_parquet` doesn't let me ignore a column.\n",
    "\n",
    "`use_pyarrow` doesn't let me restrict the number of rows to read. The Dask-generated parquet has an optional `path` column as a categorical which Polars doesn't like.\n",
    "\n",
    "Separately it seems that a `LazyFrame` doesn't support `value_counts`, I'm not sure why."
   ]
  },
  {
   "cell_type": "code",
   "execution_count": 1,
   "id": "0311dcbf-fef4-4af2-9769-d485866dd8eb",
   "metadata": {
    "tags": []
   },
   "outputs": [
    {
     "data": {
      "text/plain": [
       "'0.17.10'"
      ]
     },
     "metadata": {},
     "output_type": "display_data"
    },
    {
     "data": {
      "text/plain": [
       "'Profiling enabled'"
      ]
     },
     "execution_count": 1,
     "metadata": {},
     "output_type": "execute_result"
    },
    {
     "name": "stdout",
     "output_type": "stream",
     "text": [
      "In [1] used 0.0 MiB RAM in 0.10s (system mean cpu 0%, single max cpu 0%), peaked 0.0 MiB above final usage, current RAM usage now 78.8 MiB\n"
     ]
    }
   ],
   "source": [
    "import polars as pl\n",
    "\n",
    "display(pl.__version__)\n",
    "\n",
    "from cell_profiler import cell_profiler as cp\n",
    "%start_cell_profiler"
   ]
  },
  {
   "cell_type": "code",
   "execution_count": 2,
   "id": "b41c50fc-11be-47bf-830f-9bd1714b4ab8",
   "metadata": {
    "tags": []
   },
   "outputs": [
    {
     "data": {
      "text/plain": [
       "{'test_id': Int64,\n",
       " 'vehicle_id': Int64,\n",
       " 'test_date': Datetime(time_unit='ns', time_zone=None),\n",
       " 'test_class_id': Int64,\n",
       " 'test_type': Utf8,\n",
       " 'test_result': Utf8,\n",
       " 'test_mileage': Int64,\n",
       " 'postcode_area': Utf8,\n",
       " 'make': Utf8,\n",
       " 'model': Utf8,\n",
       " 'colour': Utf8,\n",
       " 'fuel_type': Utf8,\n",
       " 'cylinder_capacity': Int64,\n",
       " 'first_use_date': Datetime(time_unit='ns', time_zone=None)}"
      ]
     },
     "execution_count": 2,
     "metadata": {},
     "output_type": "execute_result"
    },
    {
     "name": "stdout",
     "output_type": "stream",
     "text": [
      "In [2] used 0.5 MiB RAM in 0.13s (system mean cpu 8%, single max cpu 15%), peaked 0.0 MiB above final usage, current RAM usage now 79.3 MiB\n"
     ]
    }
   ],
   "source": [
    "parquet_test_result = \"../test_result.parquet\"\n",
    "pl.read_parquet_schema(parquet_test_result + \"/part.1.parquet\")"
   ]
  },
  {
   "cell_type": "code",
   "execution_count": 3,
   "id": "dc8212fe-36b4-482a-b417-d6b8bab6da02",
   "metadata": {
    "tags": []
   },
   "outputs": [
    {
     "name": "stdout",
     "output_type": "stream",
     "text": [
      "In [3] used 0.0 MiB RAM in 0.10s (system mean cpu 9%, single max cpu 23%), peaked 0.0 MiB above final usage, current RAM usage now 79.7 MiB\n"
     ]
    }
   ],
   "source": [
    "#dfp = pl.read_parquet(parquet_test_result + \"/*.parquet\", n_rows=10, columns='make')\n",
    "#dfp = pl.read_parquet(parquet_test_result + \"/*.parquet\", columns='make') # costs 9GB 5s, 639M rows\n",
    "#dfp = pl.read_parquet(parquet_test_result + \"/*.parquet\", columns=['make', 'fuel_type']) # costs 17GB 10s\n",
    "#dfp = pl.read_parquet(parquet_test_result + \"/*.parquet\", n_rows=1_000_000, ) # costs FAILS with:\n",
    "# ComputeError(ErrString(\"cannot concat categoricals coming from a different source; consider setting a global StringCache\"))', /home/runner/work/polars/polars/polars/polars-core/src/frame/mod.rs:923:36\n"
   ]
  },
  {
   "cell_type": "code",
   "execution_count": null,
   "id": "ae763150-96ae-4814-8b83-a03430f61a07",
   "metadata": {
    "tags": []
   },
   "outputs": [],
   "source": [
    "cols = ['test_id', 'vehicle_id', 'test_date', 'test_class_id', 'test_type', 'test_result', 'test_mileage', 'postcode_area', 'make', 'model', 'colour', 'fuel_type', 'cylinder_capacity', 'first_use_date', ] # 'path'\n",
    "#dfp = pl.read_parquet(parquet_test_result + \"/*.parquet\", n_rows=1_000_000, columns=cols) # costs 10GB 45s\n",
    "#dfp = pl.read_parquet(parquet_test_result + \"/*.parquet\", n_rows=100_000_000, columns=cols) # costs 20GB 95s \n",
    "#dfp = pl.read_parquet(parquet_test_result + \"/*.parquet\", columns=cols) # EXPLODES AND RUNS OUT OF RAM\n",
    "\n",
    "#dfp = pl.read_parquet(parquet_test_result + \"/*.parquet\", n_rows=1_000_000, columns=cols) # costs 10GB 50S\n",
    "#dfp = pl.read_parquet(parquet_test_result + \"/*.parquet\", n_rows=1_000_000, columns=cols, low_memory=True) # costs 10GB 60s - not sure it behaves much differently?\n",
    "#dfp = pl.read_parquet(parquet_test_result + \"/*.parquet\", n_rows=1_000_000, columns=cols, use_pyarrow=True) # CAN'T mix n_rows and use_pyarrow, Use pyarrow instead of the Rust native parquet reader. The pyarrow reader is more stable.\n",
    "\n",
    "#dfp = pl.read_parquet(parquet_test_result + \"/*.parquet\", columns=cols, use_pyarrow=True, low_memory=True) # CAN'T mix n_rows and use_pyarrow \n",
    "# and this gives \"FileNotFoundError: ../test_result.parquet/*.parquet\"\n",
    "\n",
    "#dfp = pl.read_parquet(parquet_test_result + \"/*.parquet\", n_rows=100_000_000, columns=cols, low_memory=True) # costs 20GB 72s\n",
    "#dfp = pl.read_parquet(parquet_test_result + \"/*.parquet\", n_rows=300_000_000, columns=cols, low_memory=True) # costs 27GB 162s\n",
    "#dfp = pl.read_parquet(parquet_test_result + \"/*.parquet\", columns=cols, low_memory=True) # FAILS runs out of swap, same for 400_ and 500_000_000 rows\n",
    "\n",
    "# BEHAVIOUR reading eats Swap and RAM quickly maxes at 64GB and stays there, then reduces after the load completes\n",
    "# it looks like Polars eats a lot of swap\n",
    "\n",
    "# SO 300M rows is ok, more eats too much swap\n",
    "\n",
    "dfp.shape\n",
    "\n"
   ]
  },
  {
   "cell_type": "code",
   "execution_count": null,
   "id": "fb7e66ef-4ac6-4012-9efa-83d3e31cb1dd",
   "metadata": {
    "tags": []
   },
   "outputs": [],
   "source": [
    "cols = ['test_id', 'vehicle_id', 'test_date', 'test_class_id', 'test_type', 'test_result', 'test_mileage', \n",
    "        'postcode_area', 'make', 'model', 'colour', 'fuel_type', 'cylinder_capacity', 'first_use_date', ] \n",
    "# ignoring 'path' from Dask output which is categorical\n",
    "\n",
    "#dfp = pl.read_parquet(parquet_test_result + \"/*.parquet\", n_rows=300_000_000, columns=cols, low_memory=True) # costs 35GB 132s\n",
    "# In [5] used 35820.2 MiB RAM in 134.01s (system mean cpu 22%, single max cpu 100%), peaked 24928.4 MiB above final usage, current RAM usage now 35906.9 MiB"
   ]
  },
  {
   "cell_type": "code",
   "execution_count": null,
   "id": "0538639f-1dbf-41a4-81d9-68802234ca92",
   "metadata": {
    "tags": []
   },
   "outputs": [],
   "source": [
    "cols = ['test_id', 'vehicle_id', 'test_date', 'test_class_id', 'test_type', 'test_result', 'test_mileage', \n",
    "        'postcode_area', 'make', 'model', 'colour', 'fuel_type', 'cylinder_capacity', 'first_use_date', ] \n",
    "\n",
    "#dfp = pl.read_parquet(parquet_test_result + \"/*.parquet\", n_rows=300_000_000, columns=cols, low_memory=False) # costs ?\n",
    "# In [4] used 34525.3 MiB RAM in 142.73s (system mean cpu 22%, single max cpu 100%), peaked 25902.7 MiB above final usage, current RAM usage now 34613.7 MiB"
   ]
  },
  {
   "cell_type": "markdown",
   "id": "09837110-922f-41a9-8e14-392ea379cf91",
   "metadata": {},
   "source": [
    "Filed as an issue: https://github.com/pola-rs/polars/issues/8925"
   ]
  },
  {
   "cell_type": "code",
   "execution_count": null,
   "id": "966e42f6-ac85-4a41-adcb-0ad893018a36",
   "metadata": {
    "tags": []
   },
   "outputs": [],
   "source": [
    "#del dfp"
   ]
  },
  {
   "cell_type": "code",
   "execution_count": null,
   "id": "3c9024aa-9b03-446a-bb9f-f0ecc9b1713c",
   "metadata": {
    "tags": []
   },
   "outputs": [],
   "source": [
    "import gc; gc.collect()"
   ]
  },
  {
   "cell_type": "code",
   "execution_count": null,
   "id": "a15041b3-0bd1-4bc8-82c5-8379f08fbc7a",
   "metadata": {
    "tags": []
   },
   "outputs": [],
   "source": [
    "%whos"
   ]
  },
  {
   "cell_type": "code",
   "execution_count": null,
   "id": "d9d586a1-fa88-4e5a-b60c-b60b764fd477",
   "metadata": {
    "tags": []
   },
   "outputs": [],
   "source": [
    "pl.show_versions()"
   ]
  },
  {
   "cell_type": "code",
   "execution_count": null,
   "id": "beba4795-a923-4034-bacf-7c320ff98510",
   "metadata": {
    "tags": []
   },
   "outputs": [],
   "source": [
    "cols = ['test_id', 'vehicle_id', 'test_date', 'test_class_id', 'test_type', 'test_result', 'test_mileage', \n",
    "        'postcode_area', 'make', 'model', 'colour', 'fuel_type', 'cylinder_capacity', 'first_use_date', ] \n",
    "\n",
    "#dfp = pl.read_parquet(parquet_test_result + \"/*.parquet\", n_rows=300_000_000, columns=cols, rechunk=False) # costs 35GB 140s\n",
    "dfp = pl.read_parquet(parquet_test_result + \"/*.parquet\", n_rows=400_000_000, columns=cols, rechunk=False) # FAILS as it did above"
   ]
  },
  {
   "cell_type": "code",
   "execution_count": 3,
   "id": "2fa0b4a7-120e-487a-8d77-d6ac2bb33da8",
   "metadata": {
    "tags": []
   },
   "outputs": [
    {
     "name": "stdout",
     "output_type": "stream",
     "text": [
      "In [3] used 2.3 MiB RAM in 0.10s (system mean cpu 3%, single max cpu 6%), peaked 0.0 MiB above final usage, current RAM usage now 81.1 MiB\n"
     ]
    }
   ],
   "source": [
    "cols = ['test_id', 'vehicle_id', 'test_date', 'test_class_id', 'test_type', 'test_result', 'test_mileage', \n",
    "        'postcode_area', 'make', 'model', 'colour', 'fuel_type', 'cylinder_capacity', 'first_use_date', ] \n",
    "\n",
    "#dfp = pl.scan_parquet(parquet_test_result + \"/*.parquet\", n_rows=400_000_000, ).collect() # FAILS\n",
    "# PanicException: should not fail: ComputeError(ErrString(\"cannot concat categoricals coming from a different source; consider setting a global StringCache\"))"
   ]
  },
  {
   "cell_type": "code",
   "execution_count": null,
   "id": "e3e61713-8c53-4624-9d53-208740b7198d",
   "metadata": {
    "tags": []
   },
   "outputs": [],
   "source": [
    "#dfp = pl.scan_parquet(parquet_test_result + \"/*.parquet\", n_rows=400_000_000, ).select(pl.col(cols)).collect() # FAILS OOM\n",
    "#dfp = pl.scan_parquet(parquet_test_result + \"/*.parquet\", n_rows=400_000_000, ).select(pl.col(cols)).head(1_000).collect() # FAILS"
   ]
  },
  {
   "cell_type": "code",
   "execution_count": 10,
   "id": "3fbf92d1-77e9-4395-8702-07727e38ca29",
   "metadata": {
    "tags": []
   },
   "outputs": [
    {
     "name": "stdout",
     "output_type": "stream",
     "text": [
      "In [10] used -2.4 MiB RAM in 0.10s (system mean cpu 0%, single max cpu 0%), peaked 0.0 MiB above final usage, current RAM usage now 147.8 MiB\n"
     ]
    }
   ],
   "source": [
    "# show_graph and explain\n",
    "#pl.scan_parquet(parquet_test_result + \"/*.parquet\", n_rows=400_000_000, ).select(pl.col(cols)).head(1_000).show_graph()\n",
    "#pl.scan_parquet(parquet_test_result + \"/*.parquet\", ).select(pl.col(cols)).head(1_000).show_graph()"
   ]
  },
  {
   "cell_type": "code",
   "execution_count": 57,
   "id": "90749ab1-14cd-4968-8599-dd5a26daa232",
   "metadata": {
    "tags": []
   },
   "outputs": [
    {
     "name": "stdout",
     "output_type": "stream",
     "text": [
      "In [57] used 4015.0 MiB RAM in 4.32s (system mean cpu 18%, single max cpu 100%), peaked 2466.0 MiB above final usage, current RAM usage now 13737.0 MiB\n"
     ]
    }
   ],
   "source": [
    "#dfp = pl.read_parquet(parquet_test_result + \"/*.parquet\", n_rows=1_000_000, columns=cols)\n",
    "dfp = pl.read_parquet(parquet_test_result + \"/*.parquet\", columns=['test_class_id'])"
   ]
  },
  {
   "cell_type": "code",
   "execution_count": 61,
   "id": "15a56fbb-a533-4180-a9fc-4d8487d4d014",
   "metadata": {
    "tags": []
   },
   "outputs": [
    {
     "data": {
      "text/html": [
       "<div><style>\n",
       ".dataframe > thead > tr > th,\n",
       ".dataframe > tbody > tr > td {\n",
       "  text-align: right;\n",
       "}\n",
       "</style>\n",
       "<small>shape: (7, 2)</small><table border=\"1\" class=\"dataframe\"><thead><tr><th>test_class_id</th><th>counts</th></tr><tr><td>i64</td><td>u32</td></tr></thead><tbody><tr><td>0</td><td>37501</td></tr><tr><td>1</td><td>4831754</td></tr><tr><td>2</td><td>13385573</td></tr><tr><td>3</td><td>238944</td></tr><tr><td>4</td><td>604886542</td></tr><tr><td>5</td><td>920358</td></tr><tr><td>7</td><td>15206290</td></tr></tbody></table></div>"
      ],
      "text/plain": [
       "shape: (7, 2)\n",
       "┌───────────────┬───────────┐\n",
       "│ test_class_id ┆ counts    │\n",
       "│ ---           ┆ ---       │\n",
       "│ i64           ┆ u32       │\n",
       "╞═══════════════╪═══════════╡\n",
       "│ 0             ┆ 37501     │\n",
       "│ 1             ┆ 4831754   │\n",
       "│ 2             ┆ 13385573  │\n",
       "│ 3             ┆ 238944    │\n",
       "│ 4             ┆ 604886542 │\n",
       "│ 5             ┆ 920358    │\n",
       "│ 7             ┆ 15206290  │\n",
       "└───────────────┴───────────┘"
      ]
     },
     "execution_count": 61,
     "metadata": {},
     "output_type": "execute_result"
    },
    {
     "name": "stdout",
     "output_type": "stream",
     "text": [
      "In [61] used -0.3 MiB RAM in 4.90s (system mean cpu 23%, single max cpu 48%), peaked 0.0 MiB above final usage, current RAM usage now 13730.6 MiB\n"
     ]
    }
   ],
   "source": [
    "dfp.select('test_class_id')['test_class_id'].value_counts()"
   ]
  },
  {
   "cell_type": "code",
   "execution_count": 58,
   "id": "f9c3eaea-a8da-4b9f-8455-53d046dd29cb",
   "metadata": {
    "tags": []
   },
   "outputs": [
    {
     "data": {
      "text/html": [
       "<div><style>\n",
       ".dataframe > thead > tr > th,\n",
       ".dataframe > tbody > tr > td {\n",
       "  text-align: right;\n",
       "}\n",
       "</style>\n",
       "<small>shape: (7, 2)</small><table border=\"1\" class=\"dataframe\"><thead><tr><th>test_class_id</th><th>counts</th></tr><tr><td>i64</td><td>u32</td></tr></thead><tbody><tr><td>4</td><td>604886542</td></tr><tr><td>7</td><td>15206290</td></tr><tr><td>2</td><td>13385573</td></tr><tr><td>1</td><td>4831754</td></tr><tr><td>5</td><td>920358</td></tr><tr><td>3</td><td>238944</td></tr><tr><td>0</td><td>37501</td></tr></tbody></table></div>"
      ],
      "text/plain": [
       "shape: (7, 2)\n",
       "┌───────────────┬───────────┐\n",
       "│ test_class_id ┆ counts    │\n",
       "│ ---           ┆ ---       │\n",
       "│ i64           ┆ u32       │\n",
       "╞═══════════════╪═══════════╡\n",
       "│ 4             ┆ 604886542 │\n",
       "│ 7             ┆ 15206290  │\n",
       "│ 2             ┆ 13385573  │\n",
       "│ 1             ┆ 4831754   │\n",
       "│ 5             ┆ 920358    │\n",
       "│ 3             ┆ 238944    │\n",
       "│ 0             ┆ 37501     │\n",
       "└───────────────┴───────────┘"
      ]
     },
     "execution_count": 58,
     "metadata": {},
     "output_type": "execute_result"
    },
    {
     "name": "stdout",
     "output_type": "stream",
     "text": [
      "In [58] used -6.1 MiB RAM in 5.10s (system mean cpu 7%, single max cpu 9%), peaked 0.0 MiB above final usage, current RAM usage now 13730.9 MiB\n"
     ]
    }
   ],
   "source": [
    "dfp.select('test_class_id').to_series().value_counts().sort(by='counts', descending=True)"
   ]
  },
  {
   "cell_type": "code",
   "execution_count": 41,
   "id": "4cf5388c-de67-4621-98bf-08d5b8fc6c52",
   "metadata": {
    "tags": []
   },
   "outputs": [
    {
     "name": "stdout",
     "output_type": "stream",
     "text": [
      "In [41] used 0.0 MiB RAM in 0.10s (system mean cpu 0%, single max cpu 0%), peaked 0.0 MiB above final usage, current RAM usage now 9189.0 MiB\n"
     ]
    }
   ],
   "source": [
    "#pl.scan_parquet(parquet_test_result + \"/*.parquet\").head(10).select([pl.col(\"test_class_id\")])['test_class_id'].value_counts().sort(by=\"counts\", descending=True).collect()"
   ]
  },
  {
   "cell_type": "code",
   "execution_count": 65,
   "id": "f61715c8-4e74-4e42-8441-49d11fcccb20",
   "metadata": {
    "tags": []
   },
   "outputs": [
    {
     "ename": "AttributeError",
     "evalue": "'LazyFrame' object has no attribute 'value_counts'",
     "output_type": "error",
     "traceback": [
      "\u001b[0;31m---------------------------------------------------------------------------\u001b[0m",
      "\u001b[0;31mAttributeError\u001b[0m                            Traceback (most recent call last)",
      "Cell \u001b[0;32mIn[65], line 1\u001b[0m\n\u001b[0;32m----> 1\u001b[0m \u001b[43mpl\u001b[49m\u001b[38;5;241;43m.\u001b[39;49m\u001b[43mscan_parquet\u001b[49m\u001b[43m(\u001b[49m\u001b[43mparquet_test_result\u001b[49m\u001b[43m \u001b[49m\u001b[38;5;241;43m+\u001b[39;49m\u001b[43m \u001b[49m\u001b[38;5;124;43m\"\u001b[39;49m\u001b[38;5;124;43m/*.parquet\u001b[39;49m\u001b[38;5;124;43m\"\u001b[39;49m\u001b[43m)\u001b[49m\u001b[38;5;241;43m.\u001b[39;49m\u001b[43mselect\u001b[49m\u001b[43m(\u001b[49m\u001b[43mpl\u001b[49m\u001b[38;5;241;43m.\u001b[39;49m\u001b[43mcol\u001b[49m\u001b[43m(\u001b[49m\u001b[38;5;124;43m\"\u001b[39;49m\u001b[38;5;124;43mtest_class_id\u001b[39;49m\u001b[38;5;124;43m\"\u001b[39;49m\u001b[43m)\u001b[49m\u001b[43m)\u001b[49m\u001b[38;5;241;43m.\u001b[39;49m\u001b[43mvalue_counts\u001b[49m()\u001b[38;5;241m.\u001b[39mcollect()\n",
      "\u001b[0;31mAttributeError\u001b[0m: 'LazyFrame' object has no attribute 'value_counts'"
     ]
    },
    {
     "name": "stdout",
     "output_type": "stream",
     "text": [
      "In [65] used 1.6 MiB RAM in 0.15s (system mean cpu 3%, single max cpu 7%), peaked 0.0 MiB above final usage, current RAM usage now 13732.0 MiB\n"
     ]
    }
   ],
   "source": [
    "pl.scan_parquet(parquet_test_result + \"/*.parquet\").select(pl.col(\"test_class_id\")).value_counts().collect()"
   ]
  },
  {
   "cell_type": "code",
   "execution_count": 68,
   "id": "996bea27-236a-41c9-bce8-dd371ef834a8",
   "metadata": {
    "tags": []
   },
   "outputs": [
    {
     "data": {
      "text/html": [
       "<div><style>\n",
       ".dataframe > thead > tr > th,\n",
       ".dataframe > tbody > tr > td {\n",
       "  text-align: right;\n",
       "}\n",
       "</style>\n",
       "<small>shape: (7, 2)</small><table border=\"1\" class=\"dataframe\"><thead><tr><th>test_class_id</th><th>counts</th></tr><tr><td>i64</td><td>u32</td></tr></thead><tbody><tr><td>4</td><td>604886542</td></tr><tr><td>7</td><td>15206290</td></tr><tr><td>2</td><td>13385573</td></tr><tr><td>1</td><td>4831754</td></tr><tr><td>5</td><td>920358</td></tr><tr><td>3</td><td>238944</td></tr><tr><td>0</td><td>37501</td></tr></tbody></table></div>"
      ],
      "text/plain": [
       "shape: (7, 2)\n",
       "┌───────────────┬───────────┐\n",
       "│ test_class_id ┆ counts    │\n",
       "│ ---           ┆ ---       │\n",
       "│ i64           ┆ u32       │\n",
       "╞═══════════════╪═══════════╡\n",
       "│ 4             ┆ 604886542 │\n",
       "│ 7             ┆ 15206290  │\n",
       "│ 2             ┆ 13385573  │\n",
       "│ 1             ┆ 4831754   │\n",
       "│ 5             ┆ 920358    │\n",
       "│ 3             ┆ 238944    │\n",
       "│ 0             ┆ 37501     │\n",
       "└───────────────┴───────────┘"
      ]
     },
     "execution_count": 68,
     "metadata": {},
     "output_type": "execute_result"
    },
    {
     "name": "stdout",
     "output_type": "stream",
     "text": [
      "In [68] used 3940.1 MiB RAM in 8.05s (system mean cpu 27%, single max cpu 100%), peaked 2781.3 MiB above final usage, current RAM usage now 16897.4 MiB\n"
     ]
    }
   ],
   "source": [
    "dfp = pl.scan_parquet(parquet_test_result + \"/*.parquet\").select(pl.col(\"test_class_id\")).collect()\n",
    "dfp['test_class_id'].value_counts().sort(by='counts', descending=True)"
   ]
  },
  {
   "cell_type": "code",
   "execution_count": 19,
   "id": "7223966a-478c-418c-8a02-73bc95de0eca",
   "metadata": {
    "tags": []
   },
   "outputs": [
    {
     "data": {
      "text/html": [
       "<div><style>\n",
       ".dataframe > thead > tr > th,\n",
       ".dataframe > tbody > tr > td {\n",
       "  text-align: right;\n",
       "}\n",
       "</style>\n",
       "<small>shape: (7, 2)</small><table border=\"1\" class=\"dataframe\"><thead><tr><th>test_class_id</th><th>counts</th></tr><tr><td>i64</td><td>u32</td></tr></thead><tbody><tr><td>4</td><td>604886542</td></tr><tr><td>7</td><td>15206290</td></tr><tr><td>2</td><td>13385573</td></tr><tr><td>1</td><td>4831754</td></tr><tr><td>5</td><td>920358</td></tr><tr><td>3</td><td>238944</td></tr><tr><td>0</td><td>37501</td></tr></tbody></table></div>"
      ],
      "text/plain": [
       "shape: (7, 2)\n",
       "┌───────────────┬───────────┐\n",
       "│ test_class_id ┆ counts    │\n",
       "│ ---           ┆ ---       │\n",
       "│ i64           ┆ u32       │\n",
       "╞═══════════════╪═══════════╡\n",
       "│ 4             ┆ 604886542 │\n",
       "│ 7             ┆ 15206290  │\n",
       "│ 2             ┆ 13385573  │\n",
       "│ 1             ┆ 4831754   │\n",
       "│ 5             ┆ 920358    │\n",
       "│ 3             ┆ 238944    │\n",
       "│ 0             ┆ 37501     │\n",
       "└───────────────┴───────────┘"
      ]
     },
     "execution_count": 19,
     "metadata": {},
     "output_type": "execute_result"
    },
    {
     "name": "stdout",
     "output_type": "stream",
     "text": [
      "In [19] used 16.4 MiB RAM in 17.08s (system mean cpu 13%, single max cpu 100%), peaked 8928.8 MiB above final usage, current RAM usage now 972.1 MiB\n"
     ]
    }
   ],
   "source": [
    "# can't do sort(by='count', descending=False)\n",
    "res = pl.scan_parquet(parquet_test_result + \"/*.parquet\").select(pl.col(\"test_class_id\").value_counts()).unnest(\"test_class_id\") \\\n",
    ".sort(by='counts', descending=True).collect()\n",
    "res"
   ]
  },
  {
   "cell_type": "code",
   "execution_count": 13,
   "id": "c50ff4d2-4deb-462b-9118-d5eedbbce090",
   "metadata": {
    "tags": []
   },
   "outputs": [
    {
     "ename": "AttributeError",
     "evalue": "'DataFrame' object has no attribute 'unest'",
     "output_type": "error",
     "traceback": [
      "\u001b[0;31m---------------------------------------------------------------------------\u001b[0m",
      "\u001b[0;31mAttributeError\u001b[0m                            Traceback (most recent call last)",
      "Cell \u001b[0;32mIn[13], line 1\u001b[0m\n\u001b[0;32m----> 1\u001b[0m \u001b[43mres\u001b[49m\u001b[38;5;241;43m.\u001b[39;49m\u001b[43munest\u001b[49m()\n",
      "\u001b[0;31mAttributeError\u001b[0m: 'DataFrame' object has no attribute 'unest'"
     ]
    },
    {
     "name": "stdout",
     "output_type": "stream",
     "text": [
      "In [13] used 0.0 MiB RAM in 0.11s (system mean cpu 6%, single max cpu 12%), peaked 0.0 MiB above final usage, current RAM usage now 988.7 MiB\n"
     ]
    }
   ],
   "source": []
  },
  {
   "cell_type": "code",
   "execution_count": 62,
   "id": "3a7e7139-7174-403e-b0e4-668abfc4cb7c",
   "metadata": {
    "tags": []
   },
   "outputs": [
    {
     "ename": "TypeError",
     "evalue": "'LazyFrame' object is not subscriptable (aside from slicing). Use 'select()' or 'filter()' instead.",
     "output_type": "error",
     "traceback": [
      "\u001b[0;31m---------------------------------------------------------------------------\u001b[0m",
      "\u001b[0;31mTypeError\u001b[0m                                 Traceback (most recent call last)",
      "Cell \u001b[0;32mIn[62], line 1\u001b[0m\n\u001b[0;32m----> 1\u001b[0m res \u001b[38;5;241m=\u001b[39m \u001b[43mpl\u001b[49m\u001b[38;5;241;43m.\u001b[39;49m\u001b[43mscan_parquet\u001b[49m\u001b[43m(\u001b[49m\u001b[43mparquet_test_result\u001b[49m\u001b[43m \u001b[49m\u001b[38;5;241;43m+\u001b[39;49m\u001b[43m \u001b[49m\u001b[38;5;124;43m\"\u001b[39;49m\u001b[38;5;124;43m/*.parquet\u001b[39;49m\u001b[38;5;124;43m\"\u001b[39;49m\u001b[43m)\u001b[49m\u001b[38;5;241;43m.\u001b[39;49m\u001b[43mhead\u001b[49m\u001b[43m(\u001b[49m\u001b[38;5;241;43m10000\u001b[39;49m\u001b[43m)\u001b[49m\u001b[38;5;241;43m.\u001b[39;49m\u001b[43mselect\u001b[49m\u001b[43m(\u001b[49m\u001b[43mpl\u001b[49m\u001b[38;5;241;43m.\u001b[39;49m\u001b[43mcol\u001b[49m\u001b[43m(\u001b[49m\u001b[38;5;124;43m\"\u001b[39;49m\u001b[38;5;124;43mtest_class_id\u001b[39;49m\u001b[38;5;124;43m\"\u001b[39;49m\u001b[43m)\u001b[49m\u001b[43m)\u001b[49m\u001b[43m[\u001b[49m\u001b[38;5;124;43m'\u001b[39;49m\u001b[38;5;124;43mtest_class_id\u001b[39;49m\u001b[38;5;124;43m'\u001b[39;49m\u001b[43m]\u001b[49m\u001b[38;5;241m.\u001b[39mvalue_counts()\u001b[38;5;241m.\u001b[39mcollect()\n",
      "File \u001b[0;32m~/miniconda3/envs/pydatalondon2023/lib/python3.11/site-packages/polars/lazyframe/frame.py:660\u001b[0m, in \u001b[0;36mLazyFrame.__getitem__\u001b[0;34m(self, item)\u001b[0m\n\u001b[1;32m    658\u001b[0m \u001b[38;5;28;01mdef\u001b[39;00m \u001b[38;5;21m__getitem__\u001b[39m(\u001b[38;5;28mself\u001b[39m, item: \u001b[38;5;28mint\u001b[39m \u001b[38;5;241m|\u001b[39m \u001b[38;5;28mrange\u001b[39m \u001b[38;5;241m|\u001b[39m \u001b[38;5;28mslice\u001b[39m) \u001b[38;5;241m-\u001b[39m\u001b[38;5;241m>\u001b[39m Self:\n\u001b[1;32m    659\u001b[0m     \u001b[38;5;28;01mif\u001b[39;00m \u001b[38;5;129;01mnot\u001b[39;00m \u001b[38;5;28misinstance\u001b[39m(item, \u001b[38;5;28mslice\u001b[39m):\n\u001b[0;32m--> 660\u001b[0m         \u001b[38;5;28;01mraise\u001b[39;00m \u001b[38;5;167;01mTypeError\u001b[39;00m(\n\u001b[1;32m    661\u001b[0m             \u001b[38;5;124m\"\u001b[39m\u001b[38;5;124m'\u001b[39m\u001b[38;5;124mLazyFrame\u001b[39m\u001b[38;5;124m'\u001b[39m\u001b[38;5;124m object is not subscriptable (aside from slicing). Use\u001b[39m\u001b[38;5;124m\"\u001b[39m\n\u001b[1;32m    662\u001b[0m             \u001b[38;5;124m\"\u001b[39m\u001b[38;5;124m \u001b[39m\u001b[38;5;124m'\u001b[39m\u001b[38;5;124mselect()\u001b[39m\u001b[38;5;124m'\u001b[39m\u001b[38;5;124m or \u001b[39m\u001b[38;5;124m'\u001b[39m\u001b[38;5;124mfilter()\u001b[39m\u001b[38;5;124m'\u001b[39m\u001b[38;5;124m instead.\u001b[39m\u001b[38;5;124m\"\u001b[39m\n\u001b[1;32m    663\u001b[0m         )\n\u001b[1;32m    664\u001b[0m     \u001b[38;5;28;01mreturn\u001b[39;00m \u001b[38;5;28mself\u001b[39m\u001b[38;5;241m.\u001b[39m_from_pyldf(LazyPolarsSlice(\u001b[38;5;28mself\u001b[39m)\u001b[38;5;241m.\u001b[39mapply(item)\u001b[38;5;241m.\u001b[39m_ldf)\n",
      "\u001b[0;31mTypeError\u001b[0m: 'LazyFrame' object is not subscriptable (aside from slicing). Use 'select()' or 'filter()' instead."
     ]
    },
    {
     "name": "stdout",
     "output_type": "stream",
     "text": [
      "In [62] used -3.3 MiB RAM in 0.14s (system mean cpu 4%, single max cpu 6%), peaked 3.3 MiB above final usage, current RAM usage now 13727.2 MiB\n"
     ]
    }
   ],
   "source": [
    "res = pl.scan_parquet(parquet_test_result + \"/*.parquet\").head(10000).select(pl.col(\"test_class_id\"))['test_class_id'].value_counts().collect()"
   ]
  },
  {
   "cell_type": "code",
   "execution_count": 82,
   "id": "ae615146-1a25-481e-b2cb-0afec72e3c7b",
   "metadata": {
    "tags": []
   },
   "outputs": [
    {
     "data": {
      "text/html": [
       "<div><style>\n",
       ".dataframe > thead > tr > th,\n",
       ".dataframe > tbody > tr > td {\n",
       "  text-align: right;\n",
       "}\n",
       "</style>\n",
       "<small>shape: (1, 1)</small><table border=\"1\" class=\"dataframe\"><thead><tr><th>test_class_id</th></tr><tr><td>i64</td></tr></thead><tbody><tr><td>7</td></tr></tbody></table></div>"
      ],
      "text/plain": [
       "shape: (1, 1)\n",
       "┌───────────────┐\n",
       "│ test_class_id │\n",
       "│ ---           │\n",
       "│ i64           │\n",
       "╞═══════════════╡\n",
       "│ 7             │\n",
       "└───────────────┘"
      ]
     },
     "execution_count": 82,
     "metadata": {},
     "output_type": "execute_result"
    },
    {
     "name": "stdout",
     "output_type": "stream",
     "text": [
      "In [82] used 55.7 MiB RAM in 2.84s (system mean cpu 30%, single max cpu 100%), peaked 7740.4 MiB above final usage, current RAM usage now 16794.7 MiB\n"
     ]
    }
   ],
   "source": [
    "pl.scan_parquet(parquet_test_result + \"/*.parquet\").select(pl.col(\"test_class_id\")).max().collect()"
   ]
  },
  {
   "cell_type": "code",
   "execution_count": 83,
   "id": "b23bee74-a2cf-4946-8fa6-b0d0b7cd98ae",
   "metadata": {
    "tags": []
   },
   "outputs": [
    {
     "data": {
      "text/plain": [
       "{'test_class_id': Int64}"
      ]
     },
     "execution_count": 83,
     "metadata": {},
     "output_type": "execute_result"
    },
    {
     "name": "stdout",
     "output_type": "stream",
     "text": [
      "In [83] used -2.0 MiB RAM in 0.23s (system mean cpu 5%, single max cpu 11%), peaked 2.0 MiB above final usage, current RAM usage now 16792.7 MiB\n"
     ]
    }
   ],
   "source": [
    "pl.scan_parquet(parquet_test_result + \"/*.parquet\").select(pl.col(\"test_class_id\")).schema"
   ]
  },
  {
   "cell_type": "code",
   "execution_count": null,
   "id": "ba08236f-aace-499c-ac3d-41b6100a6c78",
   "metadata": {
    "tags": []
   },
   "outputs": [],
   "source": []
  },
  {
   "cell_type": "markdown",
   "id": "dfc584da-e0a5-4d35-b293-191d3af8394b",
   "metadata": {},
   "source": [
    "# Now try using the new Dask export that lacks the path categorical"
   ]
  },
  {
   "cell_type": "code",
   "execution_count": 7,
   "id": "ff015f17-8adb-4230-bfa6-ab48cca63fae",
   "metadata": {
    "tags": []
   },
   "outputs": [
    {
     "name": "stdout",
     "output_type": "stream",
     "text": [
      "In [7] used 0.1 MiB RAM in 0.10s (system mean cpu 0%, single max cpu 0%), peaked 0.0 MiB above final usage, current RAM usage now 241.2 MiB\n"
     ]
    }
   ],
   "source": [
    "#dfp = pl.read_parquet(parquet_test_result + \"/*.parquet\", use_pyarrow=True, rechunk=False)\n",
    "# still can't read as the glob isn't understood"
   ]
  },
  {
   "cell_type": "code",
   "execution_count": 9,
   "id": "f12bdd13-befb-44f1-b6da-343fdc8eba2e",
   "metadata": {
    "tags": []
   },
   "outputs": [
    {
     "data": {
      "text/html": [
       "<div><style>\n",
       ".dataframe > thead > tr > th,\n",
       ".dataframe > tbody > tr > td {\n",
       "  text-align: right;\n",
       "}\n",
       "</style>\n",
       "<small>shape: (1, 1)</small><table border=\"1\" class=\"dataframe\"><thead><tr><th>test_class_id</th></tr><tr><td>u32</td></tr></thead><tbody><tr><td>100</td></tr></tbody></table></div>"
      ],
      "text/plain": [
       "shape: (1, 1)\n",
       "┌───────────────┐\n",
       "│ test_class_id │\n",
       "│ ---           │\n",
       "│ u32           │\n",
       "╞═══════════════╡\n",
       "│ 100           │\n",
       "└───────────────┘"
      ]
     },
     "execution_count": 9,
     "metadata": {},
     "output_type": "execute_result"
    },
    {
     "name": "stdout",
     "output_type": "stream",
     "text": [
      "In [9] used 97.5 MiB RAM in 10.20s (system mean cpu 9%, single max cpu 100%), peaked 4781.6 MiB above final usage, current RAM usage now 336.9 MiB\n"
     ]
    }
   ],
   "source": [
    "pl.scan_parquet(parquet_test_result + \"/*.parquet\").head(100).select(pl.col(\"test_class_id\").count()).collect()"
   ]
  },
  {
   "cell_type": "code",
   "execution_count": null,
   "id": "7a1cc5ea-c1c7-45b9-847f-3dce007193b8",
   "metadata": {},
   "outputs": [],
   "source": []
  }
 ],
 "metadata": {
  "kernelspec": {
   "display_name": "Python 3 (ipykernel)",
   "language": "python",
   "name": "python3"
  },
  "language_info": {
   "codemirror_mode": {
    "name": "ipython",
    "version": 3
   },
   "file_extension": ".py",
   "mimetype": "text/x-python",
   "name": "python",
   "nbconvert_exporter": "python",
   "pygments_lexer": "ipython3",
   "version": "3.11.3"
  }
 },
 "nbformat": 4,
 "nbformat_minor": 5
}
