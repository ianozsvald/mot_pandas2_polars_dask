{
 "cells": [
  {
   "cell_type": "code",
   "execution_count": 41,
   "id": "768376c3-e368-4b15-94c6-47cfc1180187",
   "metadata": {
    "tags": []
   },
   "outputs": [
    {
     "data": {
      "text/plain": [
       "'0.17.10'"
      ]
     },
     "metadata": {},
     "output_type": "display_data"
    },
    {
     "data": {
      "text/plain": [
       "'Profiling enabled'"
      ]
     },
     "execution_count": 41,
     "metadata": {},
     "output_type": "execute_result"
    },
    {
     "name": "stdout",
     "output_type": "stream",
     "text": [
      "In [41] used -2.1 MiB RAM in 0.10s (system mean cpu 5%, single max cpu 10%), peaked 0.0 MiB above final usage, current RAM usage now 1872.3 MiB\n"
     ]
    }
   ],
   "source": [
    "import polars\n",
    "display(polars.__version__)\n",
    "\n",
    "from cell_profiler import cell_profiler as cp\n",
    "%start_cell_profiler"
   ]
  },
  {
   "cell_type": "code",
   "execution_count": 56,
   "id": "20285dbe-ad59-4491-a825-a4ab0fc91996",
   "metadata": {},
   "outputs": [
    {
     "data": {
      "text/plain": [
       "('/home/ian/workspace/data/anonymised_mot_tests/test_result_2021',\n",
       " ['/home/ian/workspace/data/anonymised_mot_tests/test_result_2021/test_result_20220531131730_32355.csv',\n",
       "  '/home/ian/workspace/data/anonymised_mot_tests/test_result_2021/test_result_20220531131730_32361.csv',\n",
       "  '/home/ian/workspace/data/anonymised_mot_tests/test_result_2021/test_result_20220531131730_32372.csv',\n",
       "  '/home/ian/workspace/data/anonymised_mot_tests/test_result_2021/test_result_20220531131730_32367.csv',\n",
       "  '/home/ian/workspace/data/anonymised_mot_tests/test_result_2021/test_result_20220531131730_32365.csv',\n",
       "  '/home/ian/workspace/data/anonymised_mot_tests/test_result_2021/test_result_20220531131730_32386.csv',\n",
       "  '/home/ian/workspace/data/anonymised_mot_tests/test_result_2021/test_result_20220531131730_32357.csv',\n",
       "  '/home/ian/workspace/data/anonymised_mot_tests/test_result_2021/test_result_20220531131730_32378.csv',\n",
       "  '/home/ian/workspace/data/anonymised_mot_tests/test_result_2021/test_result_20220531131730_32370.csv',\n",
       "  '/home/ian/workspace/data/anonymised_mot_tests/test_result_2021/test_result_20220531131730_32360.csv',\n",
       "  '/home/ian/workspace/data/anonymised_mot_tests/test_result_2021/test_result_20220531131730_32384.csv',\n",
       "  '/home/ian/workspace/data/anonymised_mot_tests/test_result_2021/test_result_20220531131730_32375.csv'])"
      ]
     },
     "execution_count": 56,
     "metadata": {},
     "output_type": "execute_result"
    },
    {
     "name": "stdout",
     "output_type": "stream",
     "text": [
      "In [56] used 0.0 MiB RAM in 0.10s (system mean cpu 0%, single max cpu 0%), peaked 0.0 MiB above final usage, current RAM usage now 2518.9 MiB\n"
     ]
    }
   ],
   "source": [
    "import os\n",
    "import glob\n",
    "\n",
    "DATA_FOLDER = '/home/ian/workspace/data/anonymised_mot_tests'\n",
    "DATA_FOLDER = os.path.join(DATA_FOLDER, 'test_result_2021')\n",
    "#DATA_FOLDER\n",
    "\n",
    "files = glob.glob(DATA_FOLDER+\"/test_result_*.csv\")\n",
    "filename = files[0]\n",
    "DATA_FOLDER, files"
   ]
  },
  {
   "cell_type": "code",
   "execution_count": 57,
   "id": "4f656fa2-6c47-41d7-a8f7-deded950d1fd",
   "metadata": {
    "tags": []
   },
   "outputs": [
    {
     "data": {
      "text/plain": [
       "(3362528, 14)"
      ]
     },
     "execution_count": 57,
     "metadata": {},
     "output_type": "execute_result"
    },
    {
     "name": "stdout",
     "output_type": "stream",
     "text": [
      "In [57] used 554.0 MiB RAM in 0.42s (system mean cpu 37%, single max cpu 46%), peaked 0.0 MiB above final usage, current RAM usage now 3072.9 MiB\n"
     ]
    }
   ],
   "source": [
    "#filename = 'test_result_2021/test_result_20220531131730_32355.csv'\n",
    "df = polars.read_csv(filename)\n",
    "df.shape\n",
    "# try_parse_dates: bool = False,"
   ]
  },
  {
   "cell_type": "code",
   "execution_count": 4,
   "id": "6dee0165-344e-4a79-9c37-6d6f9e5aba08",
   "metadata": {
    "tags": []
   },
   "outputs": [
    {
     "data": {
      "text/plain": [
       "'523,458,575'"
      ]
     },
     "execution_count": 4,
     "metadata": {},
     "output_type": "execute_result"
    },
    {
     "name": "stdout",
     "output_type": "stream",
     "text": [
      "In [4] used 0.0 MiB RAM in 0.10s (system mean cpu 0%, single max cpu 0%), peaked 0.0 MiB above final usage, current RAM usage now 1062.4 MiB\n"
     ]
    }
   ],
   "source": [
    "f\"{df.estimated_size():,}\" # estimate given underlying buffers"
   ]
  },
  {
   "cell_type": "code",
   "execution_count": 5,
   "id": "23fe230e-0860-4439-9f85-c3edd757c599",
   "metadata": {
    "tags": []
   },
   "outputs": [
    {
     "data": {
      "text/plain": [
       "{'test_id': Int64,\n",
       " 'vehicle_id': Int64,\n",
       " 'test_date': Utf8,\n",
       " 'test_class_id': Int64,\n",
       " 'test_type': Utf8,\n",
       " 'test_result': Utf8,\n",
       " 'test_mileage': Int64,\n",
       " 'postcode_area': Utf8,\n",
       " 'make': Utf8,\n",
       " 'model': Utf8,\n",
       " 'colour': Utf8,\n",
       " 'fuel_type': Utf8,\n",
       " 'cylinder_capacity': Int64,\n",
       " 'first_use_date': Utf8}"
      ]
     },
     "execution_count": 5,
     "metadata": {},
     "output_type": "execute_result"
    },
    {
     "name": "stdout",
     "output_type": "stream",
     "text": [
      "In [5] used 0.0 MiB RAM in 0.10s (system mean cpu 0%, single max cpu 0%), peaked 0.0 MiB above final usage, current RAM usage now 1062.4 MiB\n"
     ]
    }
   ],
   "source": [
    "df.schema"
   ]
  },
  {
   "cell_type": "code",
   "execution_count": 6,
   "id": "62cf5529-79df-4f75-b5d7-e7a3a8109698",
   "metadata": {
    "tags": []
   },
   "outputs": [
    {
     "data": {
      "text/plain": [
       "[Int64,\n",
       " Int64,\n",
       " Utf8,\n",
       " Int64,\n",
       " Utf8,\n",
       " Utf8,\n",
       " Int64,\n",
       " Utf8,\n",
       " Utf8,\n",
       " Utf8,\n",
       " Utf8,\n",
       " Utf8,\n",
       " Int64,\n",
       " Utf8]"
      ]
     },
     "execution_count": 6,
     "metadata": {},
     "output_type": "execute_result"
    },
    {
     "name": "stdout",
     "output_type": "stream",
     "text": [
      "In [6] used 0.0 MiB RAM in 0.10s (system mean cpu 5%, single max cpu 20%), peaked 0.0 MiB above final usage, current RAM usage now 1062.4 MiB\n"
     ]
    }
   ],
   "source": [
    "df.dtypes"
   ]
  },
  {
   "cell_type": "code",
   "execution_count": 7,
   "id": "b917cf2c-52ec-4782-8950-f09ec8b1573c",
   "metadata": {
    "tags": []
   },
   "outputs": [
    {
     "data": {
      "text/html": [
       "<div><style>\n",
       ".dataframe > thead > tr > th,\n",
       ".dataframe > tbody > tr > td {\n",
       "  text-align: right;\n",
       "}\n",
       "</style>\n",
       "<small>shape: (5, 14)</small><table border=\"1\" class=\"dataframe\"><thead><tr><th>test_id</th><th>vehicle_id</th><th>test_date</th><th>test_class_id</th><th>test_type</th><th>test_result</th><th>test_mileage</th><th>postcode_area</th><th>make</th><th>model</th><th>colour</th><th>fuel_type</th><th>cylinder_capacity</th><th>first_use_date</th></tr><tr><td>i64</td><td>i64</td><td>str</td><td>i64</td><td>str</td><td>str</td><td>i64</td><td>str</td><td>str</td><td>str</td><td>str</td><td>str</td><td>i64</td><td>str</td></tr></thead><tbody><tr><td>1488085241</td><td>298646303</td><td>&quot;2021-01-01&quot;</td><td>4</td><td>&quot;NT&quot;</td><td>&quot;P&quot;</td><td>113094</td><td>&quot;PO&quot;</td><td>&quot;VOLKSWAGEN&quot;</td><td>&quot;CADDY&quot;</td><td>&quot;WHITE&quot;</td><td>&quot;DI&quot;</td><td>1598</td><td>&quot;2013-01-01&quot;</td></tr><tr><td>1360139783</td><td>1372832822</td><td>&quot;2021-01-01&quot;</td><td>4</td><td>&quot;NT&quot;</td><td>&quot;P&quot;</td><td>146500</td><td>&quot;LU&quot;</td><td>&quot;VAUXHALL&quot;</td><td>&quot;ASTRA&quot;</td><td>&quot;BLUE&quot;</td><td>&quot;DI&quot;</td><td>1686</td><td>&quot;2006-09-29&quot;</td></tr><tr><td>1232194325</td><td>152373223</td><td>&quot;2021-01-01&quot;</td><td>4</td><td>&quot;NT&quot;</td><td>&quot;F&quot;</td><td>96459</td><td>&quot;DE&quot;</td><td>&quot;VAUXHALL&quot;</td><td>&quot;MOKKA&quot;</td><td>&quot;WHITE&quot;</td><td>&quot;DI&quot;</td><td>1686</td><td>&quot;2013-04-27&quot;</td></tr><tr><td>464521577</td><td>17056716</td><td>&quot;2021-01-01&quot;</td><td>4</td><td>&quot;NT&quot;</td><td>&quot;P&quot;</td><td>201104</td><td>&quot;B&quot;</td><td>&quot;HONDA&quot;</td><td>&quot;JAZZ&quot;</td><td>&quot;BLACK&quot;</td><td>&quot;PE&quot;</td><td>1339</td><td>&quot;2005-10-31&quot;</td></tr><tr><td>848357951</td><td>888720926</td><td>&quot;2021-01-01&quot;</td><td>4</td><td>&quot;NT&quot;</td><td>&quot;P&quot;</td><td>160067</td><td>&quot;IP&quot;</td><td>&quot;PEUGEOT&quot;</td><td>&quot;407&quot;</td><td>&quot;RED&quot;</td><td>&quot;DI&quot;</td><td>1997</td><td>&quot;2007-06-29&quot;</td></tr></tbody></table></div>"
      ],
      "text/plain": [
       "shape: (5, 14)\n",
       "┌───────────┬──────────┬───────────┬────────────┬───┬────────┬───────────┬────────────┬────────────┐\n",
       "│ test_id   ┆ vehicle_ ┆ test_date ┆ test_class ┆ … ┆ colour ┆ fuel_type ┆ cylinder_c ┆ first_use_ │\n",
       "│ ---       ┆ id       ┆ ---       ┆ _id        ┆   ┆ ---    ┆ ---       ┆ apacity    ┆ date       │\n",
       "│ i64       ┆ ---      ┆ str       ┆ ---        ┆   ┆ str    ┆ str       ┆ ---        ┆ ---        │\n",
       "│           ┆ i64      ┆           ┆ i64        ┆   ┆        ┆           ┆ i64        ┆ str        │\n",
       "╞═══════════╪══════════╪═══════════╪════════════╪═══╪════════╪═══════════╪════════════╪════════════╡\n",
       "│ 148808524 ┆ 29864630 ┆ 2021-01-0 ┆ 4          ┆ … ┆ WHITE  ┆ DI        ┆ 1598       ┆ 2013-01-01 │\n",
       "│ 1         ┆ 3        ┆ 1         ┆            ┆   ┆        ┆           ┆            ┆            │\n",
       "│ 136013978 ┆ 13728328 ┆ 2021-01-0 ┆ 4          ┆ … ┆ BLUE   ┆ DI        ┆ 1686       ┆ 2006-09-29 │\n",
       "│ 3         ┆ 22       ┆ 1         ┆            ┆   ┆        ┆           ┆            ┆            │\n",
       "│ 123219432 ┆ 15237322 ┆ 2021-01-0 ┆ 4          ┆ … ┆ WHITE  ┆ DI        ┆ 1686       ┆ 2013-04-27 │\n",
       "│ 5         ┆ 3        ┆ 1         ┆            ┆   ┆        ┆           ┆            ┆            │\n",
       "│ 464521577 ┆ 17056716 ┆ 2021-01-0 ┆ 4          ┆ … ┆ BLACK  ┆ PE        ┆ 1339       ┆ 2005-10-31 │\n",
       "│           ┆          ┆ 1         ┆            ┆   ┆        ┆           ┆            ┆            │\n",
       "│ 848357951 ┆ 88872092 ┆ 2021-01-0 ┆ 4          ┆ … ┆ RED    ┆ DI        ┆ 1997       ┆ 2007-06-29 │\n",
       "│           ┆ 6        ┆ 1         ┆            ┆   ┆        ┆           ┆            ┆            │\n",
       "└───────────┴──────────┴───────────┴────────────┴───┴────────┴───────────┴────────────┴────────────┘"
      ]
     },
     "execution_count": 7,
     "metadata": {},
     "output_type": "execute_result"
    },
    {
     "name": "stdout",
     "output_type": "stream",
     "text": [
      "In [7] used 0.0 MiB RAM in 0.10s (system mean cpu 8%, single max cpu 27%), peaked 0.0 MiB above final usage, current RAM usage now 1062.4 MiB\n"
     ]
    }
   ],
   "source": [
    "df.head()"
   ]
  },
  {
   "cell_type": "code",
   "execution_count": 8,
   "id": "e1dbefb2-2346-4168-9243-8ccfe6de4d18",
   "metadata": {
    "tags": []
   },
   "outputs": [
    {
     "data": {
      "text/html": [
       "<div><style>\n",
       ".dataframe > thead > tr > th,\n",
       ".dataframe > tbody > tr > td {\n",
       "  text-align: right;\n",
       "}\n",
       "</style>\n",
       "<small>shape: (9, 15)</small><table border=\"1\" class=\"dataframe\"><thead><tr><th>describe</th><th>test_id</th><th>vehicle_id</th><th>test_date</th><th>test_class_id</th><th>test_type</th><th>test_result</th><th>test_mileage</th><th>postcode_area</th><th>make</th><th>model</th><th>colour</th><th>fuel_type</th><th>cylinder_capacity</th><th>first_use_date</th></tr><tr><td>str</td><td>f64</td><td>f64</td><td>str</td><td>f64</td><td>str</td><td>str</td><td>f64</td><td>str</td><td>str</td><td>str</td><td>str</td><td>str</td><td>f64</td><td>str</td></tr></thead><tbody><tr><td>&quot;count&quot;</td><td>3.362528e6</td><td>3.362528e6</td><td>&quot;3362528&quot;</td><td>3.362528e6</td><td>&quot;3362528&quot;</td><td>&quot;3362528&quot;</td><td>3.362528e6</td><td>&quot;3362528&quot;</td><td>&quot;3362528&quot;</td><td>&quot;3362528&quot;</td><td>&quot;3362528&quot;</td><td>&quot;3362528&quot;</td><td>3.362528e6</td><td>&quot;3362528&quot;</td></tr><tr><td>&quot;null_count&quot;</td><td>0.0</td><td>0.0</td><td>&quot;0&quot;</td><td>0.0</td><td>&quot;0&quot;</td><td>&quot;0&quot;</td><td>25204.0</td><td>&quot;0&quot;</td><td>&quot;0&quot;</td><td>&quot;0&quot;</td><td>&quot;0&quot;</td><td>&quot;0&quot;</td><td>8150.0</td><td>&quot;0&quot;</td></tr><tr><td>&quot;mean&quot;</td><td>1.0002e9</td><td>7.5034e8</td><td>null</td><td>4.026887</td><td>null</td><td>null</td><td>74144.397808</td><td>null</td><td>null</td><td>null</td><td>null</td><td>null</td><td>1711.88879</td><td>null</td></tr><tr><td>&quot;std&quot;</td><td>5.7710e8</td><td>4.3304e8</td><td>null</td><td>0.620686</td><td>null</td><td>null</td><td>48751.326987</td><td>null</td><td>null</td><td>null</td><td>null</td><td>null</td><td>604.104353</td><td>null</td></tr><tr><td>&quot;min&quot;</td><td>485.0</td><td>290.0</td><td>&quot;2021-01-01&quot;</td><td>1.0</td><td>&quot;ES&quot;</td><td>&quot;ABA&quot;</td><td>1.0</td><td>&quot;AB&quot;</td><td>&quot;.&quot;</td><td>&quot; 570S&quot;</td><td>&quot;BEIGE&quot;</td><td>&quot;CN&quot;</td><td>0.0</td><td>&quot;0004-02-20&quot;</td></tr><tr><td>&quot;max&quot;</td><td>2.0000e9</td><td>1.5000e9</td><td>&quot;2021-12-30&quot;</td><td>7.0</td><td>&quot;RT&quot;</td><td>&quot;PRS&quot;</td><td>9.99999e5</td><td>&quot;ZE&quot;</td><td>&quot;ZY MOTOR&quot;</td><td>&quot;yfz350 banshee…</td><td>&quot;YELLOW&quot;</td><td>&quot;ST&quot;</td><td>50007.0</td><td>&quot;2021-12-21&quot;</td></tr><tr><td>&quot;median&quot;</td><td>1.0001e9</td><td>7.5037e8</td><td>null</td><td>4.0</td><td>null</td><td>null</td><td>65653.0</td><td>null</td><td>null</td><td>null</td><td>null</td><td>null</td><td>1598.0</td><td>null</td></tr><tr><td>&quot;25%&quot;</td><td>5.00630541e8</td><td>3.75504745e8</td><td>null</td><td>4.0</td><td>null</td><td>null</td><td>37624.0</td><td>null</td><td>null</td><td>null</td><td>null</td><td>null</td><td>1349.0</td><td>null</td></tr><tr><td>&quot;75%&quot;</td><td>1.4998e9</td><td>1.1255e9</td><td>null</td><td>4.0</td><td>null</td><td>null</td><td>100763.0</td><td>null</td><td>null</td><td>null</td><td>null</td><td>null</td><td>1995.0</td><td>null</td></tr></tbody></table></div>"
      ],
      "text/plain": [
       "shape: (9, 15)\n",
       "┌───────────┬───────────┬──────────┬───────────┬───┬─────────┬───────────┬────────────┬────────────┐\n",
       "│ describe  ┆ test_id   ┆ vehicle_ ┆ test_date ┆ … ┆ colour  ┆ fuel_type ┆ cylinder_c ┆ first_use_ │\n",
       "│ ---       ┆ ---       ┆ id       ┆ ---       ┆   ┆ ---     ┆ ---       ┆ apacity    ┆ date       │\n",
       "│ str       ┆ f64       ┆ ---      ┆ str       ┆   ┆ str     ┆ str       ┆ ---        ┆ ---        │\n",
       "│           ┆           ┆ f64      ┆           ┆   ┆         ┆           ┆ f64        ┆ str        │\n",
       "╞═══════════╪═══════════╪══════════╪═══════════╪═══╪═════════╪═══════════╪════════════╪════════════╡\n",
       "│ count     ┆ 3.362528e ┆ 3.362528 ┆ 3362528   ┆ … ┆ 3362528 ┆ 3362528   ┆ 3.362528e6 ┆ 3362528    │\n",
       "│           ┆ 6         ┆ e6       ┆           ┆   ┆         ┆           ┆            ┆            │\n",
       "│ null_coun ┆ 0.0       ┆ 0.0      ┆ 0         ┆ … ┆ 0       ┆ 0         ┆ 8150.0     ┆ 0          │\n",
       "│ t         ┆           ┆          ┆           ┆   ┆         ┆           ┆            ┆            │\n",
       "│ mean      ┆ 1.0002e9  ┆ 7.5034e8 ┆ null      ┆ … ┆ null    ┆ null      ┆ 1711.88879 ┆ null       │\n",
       "│ std       ┆ 5.7710e8  ┆ 4.3304e8 ┆ null      ┆ … ┆ null    ┆ null      ┆ 604.104353 ┆ null       │\n",
       "│ min       ┆ 485.0     ┆ 290.0    ┆ 2021-01-0 ┆ … ┆ BEIGE   ┆ CN        ┆ 0.0        ┆ 0004-02-20 │\n",
       "│           ┆           ┆          ┆ 1         ┆   ┆         ┆           ┆            ┆            │\n",
       "│ max       ┆ 2.0000e9  ┆ 1.5000e9 ┆ 2021-12-3 ┆ … ┆ YELLOW  ┆ ST        ┆ 50007.0    ┆ 2021-12-21 │\n",
       "│           ┆           ┆          ┆ 0         ┆   ┆         ┆           ┆            ┆            │\n",
       "│ median    ┆ 1.0001e9  ┆ 7.5037e8 ┆ null      ┆ … ┆ null    ┆ null      ┆ 1598.0     ┆ null       │\n",
       "│ 25%       ┆ 5.0063054 ┆ 3.755047 ┆ null      ┆ … ┆ null    ┆ null      ┆ 1349.0     ┆ null       │\n",
       "│           ┆ 1e8       ┆ 45e8     ┆           ┆   ┆         ┆           ┆            ┆            │\n",
       "│ 75%       ┆ 1.4998e9  ┆ 1.1255e9 ┆ null      ┆ … ┆ null    ┆ null      ┆ 1995.0     ┆ null       │\n",
       "└───────────┴───────────┴──────────┴───────────┴───┴─────────┴───────────┴────────────┴────────────┘"
      ]
     },
     "execution_count": 8,
     "metadata": {},
     "output_type": "execute_result"
    },
    {
     "name": "stdout",
     "output_type": "stream",
     "text": [
      "In [8] used 6.8 MiB RAM in 0.31s (system mean cpu 67%, single max cpu 100%), peaked 244.4 MiB above final usage, current RAM usage now 1069.2 MiB\n"
     ]
    }
   ],
   "source": [
    "df.describe()"
   ]
  },
  {
   "cell_type": "code",
   "execution_count": 9,
   "id": "1d49f730-94bd-48be-bf15-6c244df8d3e3",
   "metadata": {
    "tags": []
   },
   "outputs": [
    {
     "data": {
      "text/html": [
       "<div><style>\n",
       ".dataframe > thead > tr > th,\n",
       ".dataframe > tbody > tr > td {\n",
       "  text-align: right;\n",
       "}\n",
       "</style>\n",
       "<small>shape: (14, 2)</small><table border=\"1\" class=\"dataframe\"><thead><tr><th>fuel_type</th><th>counts</th></tr><tr><td>str</td><td>u32</td></tr></thead><tbody><tr><td>&quot;LN&quot;</td><td>1</td></tr><tr><td>&quot;ST&quot;</td><td>2</td></tr><tr><td>&quot;GD&quot;</td><td>7</td></tr><tr><td>&quot;GA&quot;</td><td>13</td></tr><tr><td>&quot;CN&quot;</td><td>16</td></tr><tr><td>&quot;FC&quot;</td><td>60</td></tr><tr><td>&quot;GB&quot;</td><td>90</td></tr><tr><td>&quot;ED&quot;</td><td>1013</td></tr><tr><td>&quot;LP&quot;</td><td>1106</td></tr><tr><td>&quot;OT&quot;</td><td>2368</td></tr><tr><td>&quot;EL&quot;</td><td>9372</td></tr><tr><td>&quot;HY&quot;</td><td>48346</td></tr><tr><td>&quot;DI&quot;</td><td>1537930</td></tr><tr><td>&quot;PE&quot;</td><td>1762204</td></tr></tbody></table></div>"
      ],
      "text/plain": [
       "shape: (14, 2)\n",
       "┌───────────┬─────────┐\n",
       "│ fuel_type ┆ counts  │\n",
       "│ ---       ┆ ---     │\n",
       "│ str       ┆ u32     │\n",
       "╞═══════════╪═════════╡\n",
       "│ LN        ┆ 1       │\n",
       "│ ST        ┆ 2       │\n",
       "│ GD        ┆ 7       │\n",
       "│ GA        ┆ 13      │\n",
       "│ …         ┆ …       │\n",
       "│ EL        ┆ 9372    │\n",
       "│ HY        ┆ 48346   │\n",
       "│ DI        ┆ 1537930 │\n",
       "│ PE        ┆ 1762204 │\n",
       "└───────────┴─────────┘"
      ]
     },
     "execution_count": 9,
     "metadata": {},
     "output_type": "execute_result"
    },
    {
     "name": "stdout",
     "output_type": "stream",
     "text": [
      "In [9] used 35.4 MiB RAM in 0.22s (system mean cpu 0%, single max cpu 0%), peaked 0.0 MiB above final usage, current RAM usage now 1104.5 MiB\n"
     ]
    }
   ],
   "source": [
    "df['fuel_type'].value_counts().sort(by='counts')"
   ]
  },
  {
   "cell_type": "code",
   "execution_count": 10,
   "id": "2a0ced3d-a169-42e1-a753-4554f303b54b",
   "metadata": {
    "tags": []
   },
   "outputs": [
    {
     "name": "stdout",
     "output_type": "stream",
     "text": [
      "CPU times: user 315 ms, sys: 18.6 ms, total: 334 ms\n",
      "Wall time: 44.7 ms\n"
     ]
    },
    {
     "data": {
      "text/html": [
       "<div><style>\n",
       ".dataframe > thead > tr > th,\n",
       ".dataframe > tbody > tr > td {\n",
       "  text-align: right;\n",
       "}\n",
       "</style>\n",
       "<small>shape: (14, 2)</small><table border=\"1\" class=\"dataframe\"><thead><tr><th>fuel_type</th><th>counts</th></tr><tr><td>str</td><td>u32</td></tr></thead><tbody><tr><td>&quot;PE&quot;</td><td>1762204</td></tr><tr><td>&quot;DI&quot;</td><td>1537930</td></tr><tr><td>&quot;HY&quot;</td><td>48346</td></tr><tr><td>&quot;EL&quot;</td><td>9372</td></tr><tr><td>&quot;OT&quot;</td><td>2368</td></tr><tr><td>&quot;LP&quot;</td><td>1106</td></tr><tr><td>&quot;ED&quot;</td><td>1013</td></tr><tr><td>&quot;GB&quot;</td><td>90</td></tr><tr><td>&quot;FC&quot;</td><td>60</td></tr><tr><td>&quot;CN&quot;</td><td>16</td></tr><tr><td>&quot;GA&quot;</td><td>13</td></tr><tr><td>&quot;GD&quot;</td><td>7</td></tr><tr><td>&quot;ST&quot;</td><td>2</td></tr><tr><td>&quot;LN&quot;</td><td>1</td></tr></tbody></table></div>"
      ],
      "text/plain": [
       "shape: (14, 2)\n",
       "┌───────────┬─────────┐\n",
       "│ fuel_type ┆ counts  │\n",
       "│ ---       ┆ ---     │\n",
       "│ str       ┆ u32     │\n",
       "╞═══════════╪═════════╡\n",
       "│ PE        ┆ 1762204 │\n",
       "│ DI        ┆ 1537930 │\n",
       "│ HY        ┆ 48346   │\n",
       "│ EL        ┆ 9372    │\n",
       "│ …         ┆ …       │\n",
       "│ GA        ┆ 13      │\n",
       "│ GD        ┆ 7       │\n",
       "│ ST        ┆ 2       │\n",
       "│ LN        ┆ 1       │\n",
       "└───────────┴─────────┘"
      ]
     },
     "execution_count": 10,
     "metadata": {},
     "output_type": "execute_result"
    },
    {
     "name": "stdout",
     "output_type": "stream",
     "text": [
      "In [10] used 7.0 MiB RAM in 0.15s (system mean cpu 19%, single max cpu 36%), peaked 0.0 MiB above final usage, current RAM usage now 1111.5 MiB\n"
     ]
    }
   ],
   "source": [
    "%time df['fuel_type'].value_counts(sort=True)"
   ]
  },
  {
   "cell_type": "code",
   "execution_count": 11,
   "id": "ea8ac9dd-1c83-4e94-8d1a-9eca52b70f84",
   "metadata": {
    "tags": []
   },
   "outputs": [
    {
     "name": "stdout",
     "output_type": "stream",
     "text": [
      "In [11] used 0.6 MiB RAM in 0.12s (system mean cpu 7%, single max cpu 23%), peaked 0.0 MiB above final usage, current RAM usage now 1112.1 MiB\n"
     ]
    },
    {
     "data": {
      "text/plain": [
       "\u001b[0;31mSignature:\u001b[0m \u001b[0mser\u001b[0m\u001b[0;34m.\u001b[0m\u001b[0mvalue_counts\u001b[0m\u001b[0;34m(\u001b[0m\u001b[0;34m*\u001b[0m\u001b[0;34m,\u001b[0m \u001b[0msort\u001b[0m\u001b[0;34m:\u001b[0m \u001b[0;34m'bool'\u001b[0m \u001b[0;34m=\u001b[0m \u001b[0;32mFalse\u001b[0m\u001b[0;34m)\u001b[0m \u001b[0;34m->\u001b[0m \u001b[0;34m'DataFrame'\u001b[0m\u001b[0;34m\u001b[0m\u001b[0;34m\u001b[0m\u001b[0m\n",
       "\u001b[0;31mDocstring:\u001b[0m\n",
       "Count the unique values in a Series.\n",
       "\n",
       "Parameters\n",
       "----------\n",
       "sort\n",
       "    Ensure the output is sorted from most values to least.\n",
       "\n",
       "Examples\n",
       "--------\n",
       ">>> s = pl.Series(\"a\", [1, 2, 2, 3])\n",
       ">>> s.value_counts().sort(by=\"a\")\n",
       "shape: (3, 2)\n",
       "┌─────┬────────┐\n",
       "│ a   ┆ counts │\n",
       "│ --- ┆ ---    │\n",
       "│ i64 ┆ u32    │\n",
       "╞═════╪════════╡\n",
       "│ 1   ┆ 1      │\n",
       "│ 2   ┆ 2      │\n",
       "│ 3   ┆ 1      │\n",
       "└─────┴────────┘\n",
       "\u001b[0;31mFile:\u001b[0m      ~/miniconda3/envs/pydatalondon2023/lib/python3.11/site-packages/polars/series/series.py\n",
       "\u001b[0;31mType:\u001b[0m      method"
      ]
     },
     "metadata": {},
     "output_type": "display_data"
    }
   ],
   "source": [
    "ser=df['fuel_type']\n",
    "ser.value_counts?"
   ]
  },
  {
   "cell_type": "code",
   "execution_count": 12,
   "id": "c41d3ba7-c237-4431-9dc8-01587a9f295f",
   "metadata": {
    "tags": []
   },
   "outputs": [
    {
     "name": "stdout",
     "output_type": "stream",
     "text": [
      "In [12] used 35.9 MiB RAM in 0.36s (system mean cpu 40%, single max cpu 100%), peaked 0.0 MiB above final usage, current RAM usage now 1148.0 MiB\n"
     ]
    }
   ],
   "source": [
    "import matplotlib.pyplot as plt"
   ]
  },
  {
   "cell_type": "code",
   "execution_count": 13,
   "id": "08bad7b8-60a5-44b7-a55f-d2f45e76bf11",
   "metadata": {
    "tags": []
   },
   "outputs": [
    {
     "name": "stdout",
     "output_type": "stream",
     "text": [
      "In [13] used 2.6 MiB RAM in 0.15s (system mean cpu 30%, single max cpu 50%), peaked 0.0 MiB above final usage, current RAM usage now 1150.6 MiB\n"
     ]
    }
   ],
   "source": [
    "counts = df['fuel_type'].value_counts(sort=True)"
   ]
  },
  {
   "cell_type": "code",
   "execution_count": 14,
   "id": "9b48b51f-3849-4ca0-a56b-718b883ee8a5",
   "metadata": {
    "tags": []
   },
   "outputs": [
    {
     "data": {
      "text/plain": [
       "polars.dataframe.frame.DataFrame"
      ]
     },
     "execution_count": 14,
     "metadata": {},
     "output_type": "execute_result"
    },
    {
     "name": "stdout",
     "output_type": "stream",
     "text": [
      "In [14] used 0.0 MiB RAM in 0.10s (system mean cpu 0%, single max cpu 0%), peaked 0.0 MiB above final usage, current RAM usage now 1150.6 MiB\n"
     ]
    }
   ],
   "source": [
    "type(counts)"
   ]
  },
  {
   "cell_type": "code",
   "execution_count": 15,
   "id": "4f9fbfe0-8315-4ae3-802a-2942b4f1abff",
   "metadata": {
    "tags": []
   },
   "outputs": [
    {
     "data": {
      "text/plain": [
       "array([['PE', 1762204],\n",
       "       ['DI', 1537930],\n",
       "       ['HY', 48346],\n",
       "       ['EL', 9372],\n",
       "       ['OT', 2368],\n",
       "       ['LP', 1106],\n",
       "       ['ED', 1013],\n",
       "       ['GB', 90],\n",
       "       ['FC', 60],\n",
       "       ['CN', 16],\n",
       "       ['GA', 13],\n",
       "       ['GD', 7],\n",
       "       ['ST', 2],\n",
       "       ['LN', 1]], dtype=object)"
      ]
     },
     "execution_count": 15,
     "metadata": {},
     "output_type": "execute_result"
    },
    {
     "name": "stdout",
     "output_type": "stream",
     "text": [
      "In [15] used 53.2 MiB RAM in 0.33s (system mean cpu 8%, single max cpu 100%), peaked 0.0 MiB above final usage, current RAM usage now 1203.8 MiB\n"
     ]
    }
   ],
   "source": [
    "counts.to_numpy()"
   ]
  },
  {
   "cell_type": "code",
   "execution_count": 16,
   "id": "8bd46338-4455-42d3-a946-fb6fd211c758",
   "metadata": {
    "tags": []
   },
   "outputs": [
    {
     "data": {
      "text/html": [
       "<div>\n",
       "<style scoped>\n",
       "    .dataframe tbody tr th:only-of-type {\n",
       "        vertical-align: middle;\n",
       "    }\n",
       "\n",
       "    .dataframe tbody tr th {\n",
       "        vertical-align: top;\n",
       "    }\n",
       "\n",
       "    .dataframe thead th {\n",
       "        text-align: right;\n",
       "    }\n",
       "</style>\n",
       "<table border=\"1\" class=\"dataframe\">\n",
       "  <thead>\n",
       "    <tr style=\"text-align: right;\">\n",
       "      <th></th>\n",
       "      <th>counts</th>\n",
       "    </tr>\n",
       "    <tr>\n",
       "      <th>fuel_type</th>\n",
       "      <th></th>\n",
       "    </tr>\n",
       "  </thead>\n",
       "  <tbody>\n",
       "    <tr>\n",
       "      <th>PE</th>\n",
       "      <td>1762204</td>\n",
       "    </tr>\n",
       "    <tr>\n",
       "      <th>DI</th>\n",
       "      <td>1537930</td>\n",
       "    </tr>\n",
       "    <tr>\n",
       "      <th>HY</th>\n",
       "      <td>48346</td>\n",
       "    </tr>\n",
       "    <tr>\n",
       "      <th>EL</th>\n",
       "      <td>9372</td>\n",
       "    </tr>\n",
       "    <tr>\n",
       "      <th>OT</th>\n",
       "      <td>2368</td>\n",
       "    </tr>\n",
       "    <tr>\n",
       "      <th>LP</th>\n",
       "      <td>1106</td>\n",
       "    </tr>\n",
       "    <tr>\n",
       "      <th>ED</th>\n",
       "      <td>1013</td>\n",
       "    </tr>\n",
       "    <tr>\n",
       "      <th>GB</th>\n",
       "      <td>90</td>\n",
       "    </tr>\n",
       "    <tr>\n",
       "      <th>FC</th>\n",
       "      <td>60</td>\n",
       "    </tr>\n",
       "    <tr>\n",
       "      <th>CN</th>\n",
       "      <td>16</td>\n",
       "    </tr>\n",
       "    <tr>\n",
       "      <th>GA</th>\n",
       "      <td>13</td>\n",
       "    </tr>\n",
       "    <tr>\n",
       "      <th>GD</th>\n",
       "      <td>7</td>\n",
       "    </tr>\n",
       "    <tr>\n",
       "      <th>ST</th>\n",
       "      <td>2</td>\n",
       "    </tr>\n",
       "    <tr>\n",
       "      <th>LN</th>\n",
       "      <td>1</td>\n",
       "    </tr>\n",
       "  </tbody>\n",
       "</table>\n",
       "</div>"
      ],
      "text/plain": [
       "            counts\n",
       "fuel_type         \n",
       "PE         1762204\n",
       "DI         1537930\n",
       "HY           48346\n",
       "EL            9372\n",
       "OT            2368\n",
       "LP            1106\n",
       "ED            1013\n",
       "GB              90\n",
       "FC              60\n",
       "CN              16\n",
       "GA              13\n",
       "GD               7\n",
       "ST               2\n",
       "LN               1"
      ]
     },
     "execution_count": 16,
     "metadata": {},
     "output_type": "execute_result"
    },
    {
     "name": "stdout",
     "output_type": "stream",
     "text": [
      "In [16] used 1.8 MiB RAM in 0.11s (system mean cpu 5%, single max cpu 30%), peaked 0.0 MiB above final usage, current RAM usage now 1205.6 MiB\n"
     ]
    }
   ],
   "source": [
    "counts.to_pandas().set_index('fuel_type')"
   ]
  },
  {
   "cell_type": "code",
   "execution_count": 17,
   "id": "f0f00b68-f742-403c-9231-fc4f017f5583",
   "metadata": {
    "tags": []
   },
   "outputs": [
    {
     "data": {
      "text/plain": [
       "<AxesSubplot: xlabel='fuel_type'>"
      ]
     },
     "execution_count": 17,
     "metadata": {},
     "output_type": "execute_result"
    },
    {
     "data": {
      "image/png": "[encoded data removed]",
      "text/plain": [
       "<Figure size 640x480 with 1 Axes>"
      ]
     },
     "metadata": {},
     "output_type": "display_data"
    },
    {
     "name": "stdout",
     "output_type": "stream",
     "text": [
      "In [17] used 6.0 MiB RAM in 0.21s (system mean cpu 13%, single max cpu 100%), peaked 0.5 MiB above final usage, current RAM usage now 1211.6 MiB\n"
     ]
    }
   ],
   "source": [
    "counts.to_pandas().set_index('fuel_type').plot(kind='bar')"
   ]
  },
  {
   "cell_type": "code",
   "execution_count": 18,
   "id": "e3509a8f-e97d-40a1-8217-6f7177af41a5",
   "metadata": {
    "tags": []
   },
   "outputs": [
    {
     "name": "stdout",
     "output_type": "stream",
     "text": [
      "In [18] used 0.0 MiB RAM in 0.10s (system mean cpu 2%, single max cpu 40%), peaked 0.0 MiB above final usage, current RAM usage now 1211.6 MiB\n"
     ]
    }
   ],
   "source": [
    "#%time df.query('test_mileage > 900000')"
   ]
  },
  {
   "cell_type": "code",
   "execution_count": 19,
   "id": "57a1d262-5e39-42f1-8cb9-00f7415b6bfc",
   "metadata": {
    "tags": []
   },
   "outputs": [
    {
     "data": {
      "text/html": [
       "<div><style>\n",
       ".dataframe > thead > tr > th,\n",
       ".dataframe > tbody > tr > td {\n",
       "  text-align: right;\n",
       "}\n",
       "</style>\n",
       "<small>shape: (3_362_528, 1)</small><table border=\"1\" class=\"dataframe\"><thead><tr><th>test_mileage</th></tr><tr><td>bool</td></tr></thead><tbody><tr><td>false</td></tr><tr><td>false</td></tr><tr><td>false</td></tr><tr><td>false</td></tr><tr><td>false</td></tr><tr><td>false</td></tr><tr><td>false</td></tr><tr><td>false</td></tr><tr><td>false</td></tr><tr><td>false</td></tr><tr><td>false</td></tr><tr><td>false</td></tr><tr><td>&hellip;</td></tr><tr><td>false</td></tr><tr><td>false</td></tr><tr><td>false</td></tr><tr><td>null</td></tr><tr><td>false</td></tr><tr><td>false</td></tr><tr><td>false</td></tr><tr><td>false</td></tr><tr><td>false</td></tr><tr><td>false</td></tr><tr><td>false</td></tr><tr><td>false</td></tr></tbody></table></div>"
      ],
      "text/plain": [
       "shape: (3_362_528, 1)\n",
       "┌──────────────┐\n",
       "│ test_mileage │\n",
       "│ ---          │\n",
       "│ bool         │\n",
       "╞══════════════╡\n",
       "│ false        │\n",
       "│ false        │\n",
       "│ false        │\n",
       "│ false        │\n",
       "│ …            │\n",
       "│ false        │\n",
       "│ false        │\n",
       "│ false        │\n",
       "│ false        │\n",
       "└──────────────┘"
      ]
     },
     "execution_count": 19,
     "metadata": {},
     "output_type": "execute_result"
    },
    {
     "name": "stdout",
     "output_type": "stream",
     "text": [
      "In [19] used 0.0 MiB RAM in 0.11s (system mean cpu 3%, single max cpu 80%), peaked 0.0 MiB above final usage, current RAM usage now 1211.6 MiB\n"
     ]
    }
   ],
   "source": [
    "import polars as pl\n",
    "# why will this include 'null' in the result?\n",
    "df.select([pl.col('test_mileage') > 900000])"
   ]
  },
  {
   "cell_type": "code",
   "execution_count": 20,
   "id": "46e7eaf0-d8e5-402e-bea4-eff526097495",
   "metadata": {
    "tags": []
   },
   "outputs": [
    {
     "name": "stdout",
     "output_type": "stream",
     "text": [
      "CPU times: user 17.4 ms, sys: 5.19 ms, total: 22.6 ms\n",
      "Wall time: 4.48 ms\n"
     ]
    },
    {
     "data": {
      "text/html": [
       "<div><style>\n",
       ".dataframe > thead > tr > th,\n",
       ".dataframe > tbody > tr > td {\n",
       "  text-align: right;\n",
       "}\n",
       "</style>\n",
       "<small>shape: (149, 14)</small><table border=\"1\" class=\"dataframe\"><thead><tr><th>test_id</th><th>vehicle_id</th><th>test_date</th><th>test_class_id</th><th>test_type</th><th>test_result</th><th>test_mileage</th><th>postcode_area</th><th>make</th><th>model</th><th>colour</th><th>fuel_type</th><th>cylinder_capacity</th><th>first_use_date</th></tr><tr><td>i64</td><td>i64</td><td>str</td><td>i64</td><td>str</td><td>str</td><td>i64</td><td>str</td><td>str</td><td>str</td><td>str</td><td>str</td><td>i64</td><td>str</td></tr></thead><tbody><tr><td>1108568485</td><td>1224975303</td><td>&quot;2021-01-07&quot;</td><td>5</td><td>&quot;NT&quot;</td><td>&quot;P&quot;</td><td>985643</td><td>&quot;L&quot;</td><td>&quot;DAF&quot;</td><td>&quot;UNCLASSIFIED&quot;</td><td>&quot;MULTI-COLOUR&quot;</td><td>&quot;DI&quot;</td><td>5900</td><td>&quot;2006-04-11&quot;</td></tr><tr><td>672464823</td><td>113771524</td><td>&quot;2021-01-08&quot;</td><td>4</td><td>&quot;NT&quot;</td><td>&quot;F&quot;</td><td>999999</td><td>&quot;EX&quot;</td><td>&quot;PEUGEOT&quot;</td><td>&quot;406&quot;</td><td>&quot;MAROON&quot;</td><td>&quot;PE&quot;</td><td>1997</td><td>&quot;2012-01-16&quot;</td></tr><tr><td>164383885</td><td>442025378</td><td>&quot;2021-01-11&quot;</td><td>4</td><td>&quot;RT&quot;</td><td>&quot;P&quot;</td><td>915321</td><td>&quot;MK&quot;</td><td>&quot;VAUXHALL&quot;</td><td>&quot;COMBO&quot;</td><td>&quot;WHITE&quot;</td><td>&quot;DI&quot;</td><td>1686</td><td>&quot;2007-12-31&quot;</td></tr><tr><td>1764557687</td><td>1440326550</td><td>&quot;2021-01-12&quot;</td><td>7</td><td>&quot;NT&quot;</td><td>&quot;P&quot;</td><td>956596</td><td>&quot;IP&quot;</td><td>&quot;LDV&quot;</td><td>&quot;MAXUS&quot;</td><td>&quot;SILVER&quot;</td><td>&quot;DI&quot;</td><td>2499</td><td>&quot;2007-07-27&quot;</td></tr><tr><td>786258681</td><td>1405447220</td><td>&quot;2021-01-13&quot;</td><td>7</td><td>&quot;RT&quot;</td><td>&quot;P&quot;</td><td>948958</td><td>&quot;PL&quot;</td><td>&quot;LDV&quot;</td><td>&quot;MAXUS&quot;</td><td>&quot;RED&quot;</td><td>&quot;DI&quot;</td><td>2500</td><td>&quot;2008-04-10&quot;</td></tr><tr><td>1276539759</td><td>300999080</td><td>&quot;2021-01-13&quot;</td><td>4</td><td>&quot;NT&quot;</td><td>&quot;P&quot;</td><td>951907</td><td>&quot;NN&quot;</td><td>&quot;FORD&quot;</td><td>&quot;C-MAX&quot;</td><td>&quot;BLACK&quot;</td><td>&quot;DI&quot;</td><td>1560</td><td>&quot;2012-03-15&quot;</td></tr><tr><td>1569668323</td><td>527217578</td><td>&quot;2021-01-15&quot;</td><td>4</td><td>&quot;NT&quot;</td><td>&quot;F&quot;</td><td>999999</td><td>&quot;BN&quot;</td><td>&quot;ROVER&quot;</td><td>&quot;75&quot;</td><td>&quot;GOLD&quot;</td><td>&quot;DI&quot;</td><td>1951</td><td>&quot;2005-01-25&quot;</td></tr><tr><td>876081953</td><td>58887022</td><td>&quot;2021-01-18&quot;</td><td>4</td><td>&quot;RT&quot;</td><td>&quot;P&quot;</td><td>911030</td><td>&quot;SK&quot;</td><td>&quot;VAUXHALL&quot;</td><td>&quot;INSIGNIA&quot;</td><td>&quot;BLACK&quot;</td><td>&quot;PE&quot;</td><td>1796</td><td>&quot;2011-03-01&quot;</td></tr><tr><td>1639215517</td><td>237535366</td><td>&quot;2021-01-18&quot;</td><td>7</td><td>&quot;NT&quot;</td><td>&quot;F&quot;</td><td>924364</td><td>&quot;DN&quot;</td><td>&quot;LDV&quot;</td><td>&quot;MAXUS&quot;</td><td>&quot;WHITE&quot;</td><td>&quot;DI&quot;</td><td>2499</td><td>&quot;2005-06-30&quot;</td></tr><tr><td>1841163887</td><td>1178507438</td><td>&quot;2021-01-21&quot;</td><td>4</td><td>&quot;NT&quot;</td><td>&quot;P&quot;</td><td>999999</td><td>&quot;B&quot;</td><td>&quot;ROVER&quot;</td><td>&quot;75&quot;</td><td>&quot;GOLD&quot;</td><td>&quot;DI&quot;</td><td>1951</td><td>&quot;2001-07-10&quot;</td></tr><tr><td>1962372417</td><td>1237316373</td><td>&quot;2021-01-27&quot;</td><td>1</td><td>&quot;NT&quot;</td><td>&quot;P&quot;</td><td>967533</td><td>&quot;DY&quot;</td><td>&quot;KTM&quot;</td><td>&quot;125&quot;</td><td>&quot;WHITE&quot;</td><td>&quot;PE&quot;</td><td>125</td><td>&quot;2016-05-05&quot;</td></tr><tr><td>1570800391</td><td>189141806</td><td>&quot;2021-02-02&quot;</td><td>4</td><td>&quot;NT&quot;</td><td>&quot;F&quot;</td><td>999999</td><td>&quot;TR&quot;</td><td>&quot;ROVER&quot;</td><td>&quot;75&quot;</td><td>&quot;GREY&quot;</td><td>&quot;DI&quot;</td><td>1951</td><td>&quot;2004-05-29&quot;</td></tr><tr><td>&hellip;</td><td>&hellip;</td><td>&hellip;</td><td>&hellip;</td><td>&hellip;</td><td>&hellip;</td><td>&hellip;</td><td>&hellip;</td><td>&hellip;</td><td>&hellip;</td><td>&hellip;</td><td>&hellip;</td><td>&hellip;</td><td>&hellip;</td></tr><tr><td>1044036445</td><td>1492760504</td><td>&quot;2021-12-04&quot;</td><td>4</td><td>&quot;NT&quot;</td><td>&quot;PRS&quot;</td><td>953397</td><td>&quot;DA&quot;</td><td>&quot;FORD&quot;</td><td>&quot;TRANSIT&quot;</td><td>&quot;WHITE&quot;</td><td>&quot;DI&quot;</td><td>1998</td><td>&quot;2003-12-31&quot;</td></tr><tr><td>1036418945</td><td>605123148</td><td>&quot;2021-12-04&quot;</td><td>4</td><td>&quot;RT&quot;</td><td>&quot;P&quot;</td><td>983341</td><td>&quot;UB&quot;</td><td>&quot;MERCEDES-BENZ&quot;</td><td>&quot;VIANO&quot;</td><td>&quot;SILVER&quot;</td><td>&quot;DI&quot;</td><td>2148</td><td>&quot;2006-07-14&quot;</td></tr><tr><td>1294128815</td><td>341444332</td><td>&quot;2021-12-10&quot;</td><td>7</td><td>&quot;RT&quot;</td><td>&quot;P&quot;</td><td>949594</td><td>&quot;SA&quot;</td><td>&quot;LDV&quot;</td><td>&quot;MAXUS&quot;</td><td>&quot;WHITE&quot;</td><td>&quot;DI&quot;</td><td>2500</td><td>&quot;2007-08-09&quot;</td></tr><tr><td>374768507</td><td>166182328</td><td>&quot;2021-12-10&quot;</td><td>4</td><td>&quot;NT&quot;</td><td>&quot;F&quot;</td><td>919236</td><td>&quot;ST&quot;</td><td>&quot;MINI&quot;</td><td>&quot;MINI&quot;</td><td>&quot;BROWN&quot;</td><td>&quot;DI&quot;</td><td>1560</td><td>&quot;2009-10-31&quot;</td></tr><tr><td>446868999</td><td>240792966</td><td>&quot;2021-12-11&quot;</td><td>4</td><td>&quot;NT&quot;</td><td>&quot;P&quot;</td><td>971191</td><td>&quot;SL&quot;</td><td>&quot;FORD&quot;</td><td>&quot;FOCUS&quot;</td><td>&quot;BLUE&quot;</td><td>&quot;PE&quot;</td><td>1596</td><td>&quot;2002-02-06&quot;</td></tr><tr><td>339601421</td><td>879215608</td><td>&quot;2021-12-14&quot;</td><td>4</td><td>&quot;NT&quot;</td><td>&quot;F&quot;</td><td>957033</td><td>&quot;HP&quot;</td><td>&quot;LAND ROVER&quot;</td><td>&quot;DEFENDER&quot;</td><td>&quot;BLUE&quot;</td><td>&quot;DI&quot;</td><td>2495</td><td>&quot;2002-10-12&quot;</td></tr><tr><td>13982285</td><td>365932951</td><td>&quot;2021-12-14&quot;</td><td>5</td><td>&quot;NT&quot;</td><td>&quot;P&quot;</td><td>960862</td><td>&quot;PE&quot;</td><td>&quot;VOLVO&quot;</td><td>&quot;UNCLASSIFIED&quot;</td><td>&quot;BLUE&quot;</td><td>&quot;DI&quot;</td><td>12000</td><td>&quot;2002-03-01&quot;</td></tr><tr><td>1995218387</td><td>1468720309</td><td>&quot;2021-12-14&quot;</td><td>7</td><td>&quot;NT&quot;</td><td>&quot;PRS&quot;</td><td>991911</td><td>&quot;E&quot;</td><td>&quot;MERCEDES-BENZ&quot;</td><td>&quot;SPRINTER&quot;</td><td>&quot;BLUE&quot;</td><td>&quot;DI&quot;</td><td>2700</td><td>&quot;2002-10-28&quot;</td></tr><tr><td>1312308563</td><td>1008360357</td><td>&quot;2021-12-17&quot;</td><td>4</td><td>&quot;NT&quot;</td><td>&quot;P&quot;</td><td>991376</td><td>&quot;DL&quot;</td><td>&quot;CITROEN&quot;</td><td>&quot;NEMO&quot;</td><td>&quot;WHITE&quot;</td><td>&quot;DI&quot;</td><td>1248</td><td>&quot;2015-07-08&quot;</td></tr><tr><td>598534645</td><td>693775344</td><td>&quot;2021-12-21&quot;</td><td>7</td><td>&quot;NT&quot;</td><td>&quot;PRS&quot;</td><td>970110</td><td>&quot;LE&quot;</td><td>&quot;LDV&quot;</td><td>&quot;MAXUS&quot;</td><td>&quot;WHITE&quot;</td><td>&quot;DI&quot;</td><td>2499</td><td>&quot;2008-05-23&quot;</td></tr><tr><td>213916469</td><td>589020394</td><td>&quot;2021-12-29&quot;</td><td>4</td><td>&quot;RT&quot;</td><td>&quot;P&quot;</td><td>920120</td><td>&quot;HU&quot;</td><td>&quot;VOLKSWAGEN&quot;</td><td>&quot;POLO&quot;</td><td>&quot;BLACK&quot;</td><td>&quot;PE&quot;</td><td>1198</td><td>&quot;2007-12-20&quot;</td></tr><tr><td>1649383403</td><td>1111350058</td><td>&quot;2021-12-30&quot;</td><td>4</td><td>&quot;NT&quot;</td><td>&quot;F&quot;</td><td>932344</td><td>&quot;NW&quot;</td><td>&quot;VOLKSWAGEN&quot;</td><td>&quot;GOLF&quot;</td><td>&quot;BLACK&quot;</td><td>&quot;PE&quot;</td><td>1390</td><td>&quot;2010-06-06&quot;</td></tr></tbody></table></div>"
      ],
      "text/plain": [
       "shape: (149, 14)\n",
       "┌───────────┬──────────┬───────────┬────────────┬───┬──────────┬─────────┬────────────┬────────────┐\n",
       "│ test_id   ┆ vehicle_ ┆ test_date ┆ test_class ┆ … ┆ colour   ┆ fuel_ty ┆ cylinder_c ┆ first_use_ │\n",
       "│ ---       ┆ id       ┆ ---       ┆ _id        ┆   ┆ ---      ┆ pe      ┆ apacity    ┆ date       │\n",
       "│ i64       ┆ ---      ┆ str       ┆ ---        ┆   ┆ str      ┆ ---     ┆ ---        ┆ ---        │\n",
       "│           ┆ i64      ┆           ┆ i64        ┆   ┆          ┆ str     ┆ i64        ┆ str        │\n",
       "╞═══════════╪══════════╪═══════════╪════════════╪═══╪══════════╪═════════╪════════════╪════════════╡\n",
       "│ 110856848 ┆ 12249753 ┆ 2021-01-0 ┆ 5          ┆ … ┆ MULTI-CO ┆ DI      ┆ 5900       ┆ 2006-04-11 │\n",
       "│ 5         ┆ 03       ┆ 7         ┆            ┆   ┆ LOUR     ┆         ┆            ┆            │\n",
       "│ 672464823 ┆ 11377152 ┆ 2021-01-0 ┆ 4          ┆ … ┆ MAROON   ┆ PE      ┆ 1997       ┆ 2012-01-16 │\n",
       "│           ┆ 4        ┆ 8         ┆            ┆   ┆          ┆         ┆            ┆            │\n",
       "│ 164383885 ┆ 44202537 ┆ 2021-01-1 ┆ 4          ┆ … ┆ WHITE    ┆ DI      ┆ 1686       ┆ 2007-12-31 │\n",
       "│           ┆ 8        ┆ 1         ┆            ┆   ┆          ┆         ┆            ┆            │\n",
       "│ 176455768 ┆ 14403265 ┆ 2021-01-1 ┆ 7          ┆ … ┆ SILVER   ┆ DI      ┆ 2499       ┆ 2007-07-27 │\n",
       "│ 7         ┆ 50       ┆ 2         ┆            ┆   ┆          ┆         ┆            ┆            │\n",
       "│ …         ┆ …        ┆ …         ┆ …          ┆ … ┆ …        ┆ …       ┆ …          ┆ …          │\n",
       "│ 131230856 ┆ 10083603 ┆ 2021-12-1 ┆ 4          ┆ … ┆ WHITE    ┆ DI      ┆ 1248       ┆ 2015-07-08 │\n",
       "│ 3         ┆ 57       ┆ 7         ┆            ┆   ┆          ┆         ┆            ┆            │\n",
       "│ 598534645 ┆ 69377534 ┆ 2021-12-2 ┆ 7          ┆ … ┆ WHITE    ┆ DI      ┆ 2499       ┆ 2008-05-23 │\n",
       "│           ┆ 4        ┆ 1         ┆            ┆   ┆          ┆         ┆            ┆            │\n",
       "│ 213916469 ┆ 58902039 ┆ 2021-12-2 ┆ 4          ┆ … ┆ BLACK    ┆ PE      ┆ 1198       ┆ 2007-12-20 │\n",
       "│           ┆ 4        ┆ 9         ┆            ┆   ┆          ┆         ┆            ┆            │\n",
       "│ 164938340 ┆ 11113500 ┆ 2021-12-3 ┆ 4          ┆ … ┆ BLACK    ┆ PE      ┆ 1390       ┆ 2010-06-06 │\n",
       "│ 3         ┆ 58       ┆ 0         ┆            ┆   ┆          ┆         ┆            ┆            │\n",
       "└───────────┴──────────┴───────────┴────────────┴───┴──────────┴─────────┴────────────┴────────────┘"
      ]
     },
     "execution_count": 20,
     "metadata": {},
     "output_type": "execute_result"
    },
    {
     "name": "stdout",
     "output_type": "stream",
     "text": [
      "In [20] used 1.4 MiB RAM in 0.11s (system mean cpu 4%, single max cpu 67%), peaked 0.0 MiB above final usage, current RAM usage now 1213.0 MiB\n"
     ]
    }
   ],
   "source": [
    "# use filter to cut down, select a column and value to filter, use e.g. (pl.col(...)>...)&(pl.col(...)<...) to do multiple\n",
    "%time df.filter(pl.col('test_mileage') > 900000)"
   ]
  },
  {
   "cell_type": "code",
   "execution_count": 21,
   "id": "192fa6ed-f4ac-4256-8a76-bd8947667506",
   "metadata": {
    "tags": []
   },
   "outputs": [
    {
     "data": {
      "text/html": [
       "<div><style>\n",
       ".dataframe > thead > tr > th,\n",
       ".dataframe > tbody > tr > td {\n",
       "  text-align: right;\n",
       "}\n",
       "</style>\n",
       "<small>shape: (5, 2)</small><table border=\"1\" class=\"dataframe\"><thead><tr><th>make</th><th>cylinder_capacity</th></tr><tr><td>str</td><td>list[i64]</td></tr></thead><tbody><tr><td>&quot;PEUGEOT 206 SW…</td><td>[1360]</td></tr><tr><td>&quot;FYM&quot;</td><td>[233, 125]</td></tr><tr><td>&quot;BRISTOL&quot;</td><td>[6277, 6556, … 5900]</td></tr><tr><td>&quot;VOLKSWAGEN GOL…</td><td>[1984]</td></tr><tr><td>&quot;DI-BLASI&quot;</td><td>[49, 49, 49]</td></tr></tbody></table></div>"
      ],
      "text/plain": [
       "shape: (5, 2)\n",
       "┌────────────────────────────────┬──────────────────────┐\n",
       "│ make                           ┆ cylinder_capacity    │\n",
       "│ ---                            ┆ ---                  │\n",
       "│ str                            ┆ list[i64]            │\n",
       "╞════════════════════════════════╪══════════════════════╡\n",
       "│ PEUGEOT 206 SW QUIKSILVER 1.4L ┆ [1360]               │\n",
       "│ FYM                            ┆ [233, 125]           │\n",
       "│ BRISTOL                        ┆ [6277, 6556, … 5900] │\n",
       "│ VOLKSWAGEN GOLF GTI            ┆ [1984]               │\n",
       "│ DI-BLASI                       ┆ [49, 49, 49]         │\n",
       "└────────────────────────────────┴──────────────────────┘"
      ]
     },
     "execution_count": 21,
     "metadata": {},
     "output_type": "execute_result"
    },
    {
     "name": "stdout",
     "output_type": "stream",
     "text": [
      "In [21] used 26.4 MiB RAM in 0.16s (system mean cpu 12%, single max cpu 100%), peaked 0.0 MiB above final usage, current RAM usage now 1239.4 MiB\n"
     ]
    }
   ],
   "source": [
    "df.groupby(by='make').agg('cylinder_capacity')[:5]"
   ]
  },
  {
   "cell_type": "code",
   "execution_count": 22,
   "id": "7741dfea-f5e3-4474-9b90-fefe32ef76ee",
   "metadata": {
    "tags": []
   },
   "outputs": [
    {
     "data": {
      "text/html": [
       "<h4>NAIVE QUERY PLAN</h4><p>run <b>LazyFrame.show_graph()</b> to see the optimized version</p><?xml version=\"1.0\" encoding=\"UTF-8\" standalone=\"no\"?>\n",
       "<!DOCTYPE svg PUBLIC \"-//W3C//DTD SVG 1.1//EN\"\n",
       " \"http://www.w3.org/Graphics/SVG/1.1/DTD/svg11.dtd\">\n",
       "<!-- Generated by graphviz version 2.43.0 (0)\n",
       " -->\n",
       "<!-- Title: polars_query Pages: 1 -->\n",
       "<svg width=\"240pt\" height=\"150pt\"\n",
       " viewBox=\"0.00 0.00 240.00 150.00\" xmlns=\"http://www.w3.org/2000/svg\" xmlns:xlink=\"http://www.w3.org/1999/xlink\">\n",
       "<g id=\"graph0\" class=\"graph\" transform=\"scale(1 1) rotate(0) translate(4 146)\">\n",
       "<title>polars_query</title>\n",
       "<polygon fill=\"white\" stroke=\"transparent\" points=\"-4,4 -4,-146 236,-146 236,4 -4,4\"/>\n",
       "<!-- AGG [col(&quot;cylinder_capacity&quot;)]\n",
       "BY\n",
       "[col(&quot;make&quot;)] [(0, 0)] [(0, 0)] -->\n",
       "<g id=\"node1\" class=\"node\">\n",
       "<title>AGG [col(&quot;cylinder_capacity&quot;)]\n",
       "BY\n",
       "[col(&quot;make&quot;)] [(0, 0)] [(0, 0)]</title>\n",
       "<polygon fill=\"none\" stroke=\"black\" points=\"232,-142 0,-142 0,-89 232,-89 232,-142\"/>\n",
       "<text text-anchor=\"middle\" x=\"116\" y=\"-126.8\" font-family=\"Times,serif\" font-size=\"14.00\">AGG [col(&quot;cylinder_capacity&quot;)]</text>\n",
       "<text text-anchor=\"middle\" x=\"116\" y=\"-111.8\" font-family=\"Times,serif\" font-size=\"14.00\">BY</text>\n",
       "<text text-anchor=\"middle\" x=\"116\" y=\"-96.8\" font-family=\"Times,serif\" font-size=\"14.00\">[col(&quot;make&quot;)] [(0, 0)]</text>\n",
       "</g>\n",
       "<!-- TABLE\n",
       "π */14;\n",
       "σ &#45;; [(0, 1)] -->\n",
       "<g id=\"node2\" class=\"node\">\n",
       "<title>TABLE\n",
       "π */14;\n",
       "σ &#45;; [(0, 1)]</title>\n",
       "<polygon fill=\"none\" stroke=\"black\" points=\"148.5,-53 83.5,-53 83.5,0 148.5,0 148.5,-53\"/>\n",
       "<text text-anchor=\"middle\" x=\"116\" y=\"-37.8\" font-family=\"Times,serif\" font-size=\"14.00\">TABLE</text>\n",
       "<text text-anchor=\"middle\" x=\"116\" y=\"-22.8\" font-family=\"Times,serif\" font-size=\"14.00\">π */14;</text>\n",
       "<text text-anchor=\"middle\" x=\"116\" y=\"-7.8\" font-family=\"Times,serif\" font-size=\"14.00\">σ &#45;;</text>\n",
       "</g>\n",
       "<!-- AGG [col(&quot;cylinder_capacity&quot;)]\n",
       "BY\n",
       "[col(&quot;make&quot;)] [(0, 0)] [(0, 0)]&#45;&#45;TABLE\n",
       "π */14;\n",
       "σ &#45;; [(0, 1)] -->\n",
       "<g id=\"edge1\" class=\"edge\">\n",
       "<title>AGG [col(&quot;cylinder_capacity&quot;)]\n",
       "BY\n",
       "[col(&quot;make&quot;)] [(0, 0)] [(0, 0)]&#45;&#45;TABLE\n",
       "π */14;\n",
       "σ &#45;; [(0, 1)]</title>\n",
       "<path fill=\"none\" stroke=\"black\" d=\"M116,-88.87C116,-77.64 116,-64.49 116,-53.25\"/>\n",
       "</g>\n",
       "</g>\n",
       "</svg>\n"
      ],
      "text/plain": [
       "<polars.LazyFrame object at 0x7FB4FE564A90>"
      ]
     },
     "execution_count": 22,
     "metadata": {},
     "output_type": "execute_result"
    },
    {
     "name": "stdout",
     "output_type": "stream",
     "text": [
      "In [22] used 0.0 MiB RAM in 0.13s (system mean cpu 3%, single max cpu 100%), peaked 0.0 MiB above final usage, current RAM usage now 1239.4 MiB\n"
     ]
    }
   ],
   "source": [
    "df.lazy().groupby(by='make').agg('cylinder_capacity')"
   ]
  },
  {
   "cell_type": "code",
   "execution_count": 23,
   "id": "5377615a-6eaf-4154-bcd0-bc7e8d75133f",
   "metadata": {
    "tags": []
   },
   "outputs": [
    {
     "data": {
      "text/html": [
       "<div><style>\n",
       ".dataframe > thead > tr > th,\n",
       ".dataframe > tbody > tr > td {\n",
       "  text-align: right;\n",
       "}\n",
       "</style>\n",
       "<small>shape: (5, 2)</small><table border=\"1\" class=\"dataframe\"><thead><tr><th>make</th><th>cylinder_capacity</th></tr><tr><td>str</td><td>list[i64]</td></tr></thead><tbody><tr><td>&quot;QUAZZAR E-DIVI…</td><td>[null, null, null]</td></tr><tr><td>&quot;ARIEL&quot;</td><td>[497, 1998, … 1998]</td></tr><tr><td>&quot;HARLEY-DAVIDSO…</td><td>[1690]</td></tr><tr><td>&quot;FURORE FORMULA…</td><td>[1441]</td></tr><tr><td>&quot;NOVA&quot;</td><td>[1490]</td></tr></tbody></table></div>"
      ],
      "text/plain": [
       "shape: (5, 2)\n",
       "┌───────────────────────────────────┬─────────────────────┐\n",
       "│ make                              ┆ cylinder_capacity   │\n",
       "│ ---                               ┆ ---                 │\n",
       "│ str                               ┆ list[i64]           │\n",
       "╞═══════════════════════════════════╪═════════════════════╡\n",
       "│ QUAZZAR E-DIVINE                  ┆ [null, null, null]  │\n",
       "│ ARIEL                             ┆ [497, 1998, … 1998] │\n",
       "│ HARLEY-DAVIDSON FLHTK EGLIDE UL … ┆ [1690]              │\n",
       "│ FURORE FORMULA CAR                ┆ [1441]              │\n",
       "│ NOVA                              ┆ [1490]              │\n",
       "└───────────────────────────────────┴─────────────────────┘"
      ]
     },
     "execution_count": 23,
     "metadata": {},
     "output_type": "execute_result"
    },
    {
     "name": "stdout",
     "output_type": "stream",
     "text": [
      "In [23] used 18.3 MiB RAM in 0.20s (system mean cpu 14%, single max cpu 100%), peaked 8.5 MiB above final usage, current RAM usage now 1257.7 MiB\n"
     ]
    }
   ],
   "source": [
    "df.lazy().groupby(by='make').agg('cylinder_capacity').collect()[:5]"
   ]
  },
  {
   "cell_type": "code",
   "execution_count": 24,
   "id": "f1aeaa35-e20d-4136-91d9-3d46f3a72f72",
   "metadata": {
    "tags": []
   },
   "outputs": [
    {
     "name": "stdout",
     "output_type": "stream",
     "text": [
      "In [24] used 0.0 MiB RAM in 0.10s (system mean cpu 3%, single max cpu 50%), peaked 0.0 MiB above final usage, current RAM usage now 1257.7 MiB\n"
     ]
    }
   ],
   "source": [
    "#        pl.col('Science').max().alias('Science(Max)')\n",
    "#df.groupby(by='make').agg(pl.col('cylinder_capacity')).last()"
   ]
  },
  {
   "cell_type": "code",
   "execution_count": 25,
   "id": "605ade73-6e85-420e-bf7e-83da81b720a1",
   "metadata": {
    "tags": []
   },
   "outputs": [
    {
     "data": {
      "text/html": [
       "<div><style>\n",
       ".dataframe > thead > tr > th,\n",
       ".dataframe > tbody > tr > td {\n",
       "  text-align: right;\n",
       "}\n",
       "</style>\n",
       "<small>shape: (2_072, 2)</small><table border=\"1\" class=\"dataframe\"><thead><tr><th>make</th><th>cylinder_capacity</th></tr><tr><td>str</td><td>f64</td></tr></thead><tbody><tr><td>&quot;VOLKSWAGEN GOL…</td><td>1390.0</td></tr><tr><td>&quot;GSR&quot;</td><td>3500.0</td></tr><tr><td>&quot;UMM&quot;</td><td>2498.0</td></tr><tr><td>&quot;TRIKING SPORT&quot;</td><td>1064.0</td></tr><tr><td>&quot;AEC MILITANT&quot;</td><td>11600.0</td></tr><tr><td>&quot;BMW 730LD M SP…</td><td>2993.0</td></tr><tr><td>&quot;AJS&quot;</td><td>124.0</td></tr><tr><td>&quot;HUMMER H2&quot;</td><td>6000.0</td></tr><tr><td>&quot;GMC YUKON XL&quot;</td><td>5300.0</td></tr><tr><td>&quot;RANDGER R499&quot;</td><td>1598.0</td></tr><tr><td>&quot;MOTO ROMA&quot;</td><td>124.0</td></tr><tr><td>&quot;CZ&quot;</td><td>124.0</td></tr><tr><td>&hellip;</td><td>&hellip;</td></tr><tr><td>&quot;BIRKIN&quot;</td><td>1950.0</td></tr><tr><td>&quot;PILOTE G740C&quot;</td><td>2287.0</td></tr><tr><td>&quot;NGTF KIR&quot;</td><td>1800.0</td></tr><tr><td>&quot;SWIFT BOLERO 6…</td><td>2287.0</td></tr><tr><td>&quot;MITSUBISHI OUT…</td><td>2268.0</td></tr><tr><td>&quot;DIRECTBIKESDB1…</td><td>124.0</td></tr><tr><td>&quot;FUN QUAD&quot;</td><td>340.0</td></tr><tr><td>&quot;AUTOCRUISE ALT…</td><td>2198.0</td></tr><tr><td>&quot;VIJAY&quot;</td><td>150.0</td></tr><tr><td>&quot;MERCEDES BENZ …</td><td>1796.0</td></tr><tr><td>&quot;ISUZU&quot;</td><td>2499.0</td></tr><tr><td>&quot;ASTON MARTIN&quot;</td><td>5935.0</td></tr></tbody></table></div>"
      ],
      "text/plain": [
       "shape: (2_072, 2)\n",
       "┌───────────────────────────────────┬───────────────────┐\n",
       "│ make                              ┆ cylinder_capacity │\n",
       "│ ---                               ┆ ---               │\n",
       "│ str                               ┆ f64               │\n",
       "╞═══════════════════════════════════╪═══════════════════╡\n",
       "│ VOLKSWAGEN GOLF COMFORT TSI 1.4L  ┆ 1390.0            │\n",
       "│ GSR                               ┆ 3500.0            │\n",
       "│ UMM                               ┆ 2498.0            │\n",
       "│ TRIKING SPORT                     ┆ 1064.0            │\n",
       "│ …                                 ┆ …                 │\n",
       "│ VIJAY                             ┆ 150.0             │\n",
       "│ MERCEDES BENZ C180 BLUE EFFICIEN… ┆ 1796.0            │\n",
       "│ ISUZU                             ┆ 2499.0            │\n",
       "│ ASTON MARTIN                      ┆ 5935.0            │\n",
       "└───────────────────────────────────┴───────────────────┘"
      ]
     },
     "execution_count": 25,
     "metadata": {},
     "output_type": "execute_result"
    },
    {
     "name": "stdout",
     "output_type": "stream",
     "text": [
      "In [25] used 3.6 MiB RAM in 0.15s (system mean cpu 20%, single max cpu 100%), peaked 0.9 MiB above final usage, current RAM usage now 1261.2 MiB\n"
     ]
    }
   ],
   "source": [
    "df.groupby(by='make').agg(pl.median('cylinder_capacity'))"
   ]
  },
  {
   "cell_type": "code",
   "execution_count": 26,
   "id": "d8aec390-afab-495e-b459-190744f5925a",
   "metadata": {
    "tags": []
   },
   "outputs": [
    {
     "data": {
      "text/html": [
       "<div><style>\n",
       ".dataframe > thead > tr > th,\n",
       ".dataframe > tbody > tr > td {\n",
       "  text-align: right;\n",
       "}\n",
       "</style>\n",
       "<small>shape: (2_072, 3)</small><table border=\"1\" class=\"dataframe\"><thead><tr><th>make</th><th>cylinder_capacity</th><th>test_mileage</th></tr><tr><td>str</td><td>i64</td><td>u32</td></tr></thead><tbody><tr><td>&quot;RBS EVO&quot;</td><td>1850</td><td>1</td></tr><tr><td>&quot;NISSAN&quot;</td><td>15255</td><td>159375</td></tr><tr><td>&quot;LINTEX HT50QT-…</td><td>49</td><td>3</td></tr><tr><td>&quot;SCOMADI&quot;</td><td>278</td><td>79</td></tr><tr><td>&quot;HARLEY-DAVIDSO…</td><td>1202</td><td>1</td></tr><tr><td>&quot;TIGER CAT E1&quot;</td><td>2000</td><td>1</td></tr><tr><td>&quot;SAIC MOTOR&quot;</td><td>2499</td><td>1</td></tr><tr><td>&quot;MGB&quot;</td><td>1800</td><td>2</td></tr><tr><td>&quot;AK SPROTS CARS…</td><td>6300</td><td>1</td></tr><tr><td>&quot;VESPA-PIAGGIO …</td><td>49</td><td>1</td></tr><tr><td>&quot;VOLKSWAGEN GOL…</td><td>1896</td><td>2</td></tr><tr><td>&quot;GULFSTREAM&quot;</td><td>6800</td><td>2</td></tr><tr><td>&hellip;</td><td>&hellip;</td><td>&hellip;</td></tr><tr><td>&quot;MX5&quot;</td><td>1839</td><td>3</td></tr><tr><td>&quot;LAND ROVER RAN…</td><td>2993</td><td>2</td></tr><tr><td>&quot;BIG DOG CHOPPE…</td><td>1916</td><td>1</td></tr><tr><td>&quot;BENDA&quot;</td><td>49</td><td>2</td></tr><tr><td>&quot;CONCORDE&quot;</td><td>6871</td><td>1</td></tr><tr><td>&quot;WATSON SUPER 7…</td><td>1840</td><td>1</td></tr><tr><td>&quot;SWIFT BOLERO 6…</td><td>2287</td><td>1</td></tr><tr><td>&quot;FIAT PILOTE&quot;</td><td>2300</td><td>1</td></tr><tr><td>&quot;RENAULT TRUCKS…</td><td>4764</td><td>184</td></tr><tr><td>&quot;SCION&quot;</td><td>2400</td><td>3</td></tr><tr><td>&quot;BEAUFORD&quot;</td><td>3500</td><td>25</td></tr><tr><td>&quot;RONART W152 56…</td><td>4235</td><td>1</td></tr></tbody></table></div>"
      ],
      "text/plain": [
       "shape: (2_072, 3)\n",
       "┌─────────────────┬───────────────────┬──────────────┐\n",
       "│ make            ┆ cylinder_capacity ┆ test_mileage │\n",
       "│ ---             ┆ ---               ┆ ---          │\n",
       "│ str             ┆ i64               ┆ u32          │\n",
       "╞═════════════════╪═══════════════════╪══════════════╡\n",
       "│ RBS EVO         ┆ 1850              ┆ 1            │\n",
       "│ NISSAN          ┆ 15255             ┆ 159375       │\n",
       "│ LINTEX HT50QT-7 ┆ 49                ┆ 3            │\n",
       "│ SCOMADI         ┆ 278               ┆ 79           │\n",
       "│ …               ┆ …                 ┆ …            │\n",
       "│ RENAULT TRUCKS  ┆ 4764              ┆ 184          │\n",
       "│ SCION           ┆ 2400              ┆ 3            │\n",
       "│ BEAUFORD        ┆ 3500              ┆ 25           │\n",
       "│ RONART W152 56  ┆ 4235              ┆ 1            │\n",
       "└─────────────────┴───────────────────┴──────────────┘"
      ]
     },
     "execution_count": 26,
     "metadata": {},
     "output_type": "execute_result"
    },
    {
     "name": "stdout",
     "output_type": "stream",
     "text": [
      "In [26] used 0.6 MiB RAM in 0.15s (system mean cpu 15%, single max cpu 100%), peaked 2.0 MiB above final usage, current RAM usage now 1261.9 MiB\n"
     ]
    }
   ],
   "source": [
    "# can't seem to use the same col twice! ah, name conflict!\n",
    "df.groupby(by='make').agg([pl.col('cylinder_capacity').max(), pl.col('test_mileage').count()])"
   ]
  },
  {
   "cell_type": "code",
   "execution_count": 27,
   "id": "deb5cf1b-0dd2-4393-bc59-5e0cf140b118",
   "metadata": {
    "tags": []
   },
   "outputs": [
    {
     "data": {
      "text/html": [
       "<div><style>\n",
       ".dataframe > thead > tr > th,\n",
       ".dataframe > tbody > tr > td {\n",
       "  text-align: right;\n",
       "}\n",
       "</style>\n",
       "<small>shape: (1_346, 3)</small><table border=\"1\" class=\"dataframe\"><thead><tr><th>make</th><th>cyl_size</th><th>cyl_median</th></tr><tr><td>str</td><td>u32</td><td>f64</td></tr></thead><tbody><tr><td>&quot;.&quot;</td><td>1</td><td>17851.0</td></tr><tr><td>&quot;150 STAR&quot;</td><td>1</td><td>719.0</td></tr><tr><td>&quot;1VECO&quot;</td><td>1</td><td>325080.0</td></tr><tr><td>&quot;A M GERENAL&quot;</td><td>1</td><td>10200.0</td></tr><tr><td>&quot;A.J.S.&quot;</td><td>1</td><td>1492.0</td></tr><tr><td>&quot;A.K SPORTS  AK…</td><td>1</td><td>347.0</td></tr><tr><td>&quot;A65GM FORD TRA…</td><td>1</td><td>27762.0</td></tr><tr><td>&quot;AC BUCKLAND&quot;</td><td>1</td><td>52334.0</td></tr><tr><td>&quot;ADRIA MATRIX M…</td><td>1</td><td>8677.0</td></tr><tr><td>&quot;ADRIA MATRIX S…</td><td>1</td><td>12633.0</td></tr><tr><td>&quot;ADVANCE 76-4&quot;</td><td>1</td><td>6864.0</td></tr><tr><td>&quot;AEC&quot;</td><td>1</td><td>16313.0</td></tr><tr><td>&hellip;</td><td>&hellip;</td><td>&hellip;</td></tr><tr><td>&quot;ZCARSMINI20&quot;</td><td>1</td><td>9311.0</td></tr><tr><td>&quot;ZENHUA&quot;</td><td>1</td><td>894.0</td></tr><tr><td>&quot;ZENNCO&quot;</td><td>1</td><td>9462.0</td></tr><tr><td>&quot;ZERO&quot;</td><td>1</td><td>7575.0</td></tr><tr><td>&quot;ZETHS HUNTER 1…</td><td>1</td><td>2583.0</td></tr><tr><td>&quot;ZETHS HUNTER-5…</td><td>1</td><td>4099.0</td></tr><tr><td>&quot;ZHEN ZN125T-E&quot;</td><td>1</td><td>6009.0</td></tr><tr><td>&quot;ZHEZIANG SPY25…</td><td>1</td><td>269.0</td></tr><tr><td>&quot;ZIL 131&quot;</td><td>1</td><td>7821.0</td></tr><tr><td>&quot;ZONGSHEN RANGE…</td><td>1</td><td>1183.0</td></tr><tr><td>&quot;ZONGSHEN SPY F…</td><td>1</td><td>119.0</td></tr><tr><td>&quot;ZY MOTOR&quot;</td><td>1</td><td>28315.0</td></tr></tbody></table></div>"
      ],
      "text/plain": [
       "shape: (1_346, 3)\n",
       "┌─────────────────────┬──────────┬────────────┐\n",
       "│ make                ┆ cyl_size ┆ cyl_median │\n",
       "│ ---                 ┆ ---      ┆ ---        │\n",
       "│ str                 ┆ u32      ┆ f64        │\n",
       "╞═════════════════════╪══════════╪════════════╡\n",
       "│ .                   ┆ 1        ┆ 17851.0    │\n",
       "│ 150 STAR            ┆ 1        ┆ 719.0      │\n",
       "│ 1VECO               ┆ 1        ┆ 325080.0   │\n",
       "│ A M GERENAL         ┆ 1        ┆ 10200.0    │\n",
       "│ …                   ┆ …        ┆ …          │\n",
       "│ ZIL 131             ┆ 1        ┆ 7821.0     │\n",
       "│ ZONGSHEN RANGER 125 ┆ 1        ┆ 1183.0     │\n",
       "│ ZONGSHEN SPY F1 250 ┆ 1        ┆ 119.0      │\n",
       "│ ZY MOTOR            ┆ 1        ┆ 28315.0    │\n",
       "└─────────────────────┴──────────┴────────────┘"
      ]
     },
     "execution_count": 27,
     "metadata": {},
     "output_type": "execute_result"
    },
    {
     "name": "stdout",
     "output_type": "stream",
     "text": [
      "In [27] used 3.1 MiB RAM in 0.17s (system mean cpu 28%, single max cpu 100%), peaked 0.0 MiB above final usage, current RAM usage now 1264.9 MiB\n"
     ]
    }
   ],
   "source": [
    "# pandas as leyland 9999, 27 size, but we get 27 size and median 108325 - we didn't filter nan here\n",
    "df.groupby(by='make').agg([pl.col('cylinder_capacity').count().alias('cyl_size'), pl.col('test_mileage').median().alias('cyl_median')])\\\n",
    ".filter(pl.col('cyl_size')==1).sort(by='make')"
   ]
  },
  {
   "cell_type": "code",
   "execution_count": 28,
   "id": "9ac2dd6d-6cb3-40e6-bcad-8fbcd7de6a78",
   "metadata": {
    "tags": []
   },
   "outputs": [
    {
     "name": "stdout",
     "output_type": "stream",
     "text": [
      "In [28] used 0.0 MiB RAM in 0.10s (system mean cpu 2%, single max cpu 33%), peaked 0.0 MiB above final usage, current RAM usage now 1265.0 MiB\n"
     ]
    }
   ],
   "source": [
    "#df.filter(df.select(pl.col('cylinder_capacity').is_null()))"
   ]
  },
  {
   "cell_type": "markdown",
   "id": "cb92872d-a5d1-46ca-a115-3195014408df",
   "metadata": {},
   "source": [
    "## drop rows with nan cylinder capacity - how many left? does groupby do better?"
   ]
  },
  {
   "cell_type": "code",
   "execution_count": 29,
   "id": "b86e8930-d3c2-451d-bb87-818f41536ed4",
   "metadata": {
    "tags": []
   },
   "outputs": [
    {
     "data": {
      "text/html": [
       "<div><style>\n",
       ".dataframe > thead > tr > th,\n",
       ".dataframe > tbody > tr > td {\n",
       "  text-align: right;\n",
       "}\n",
       "</style>\n",
       "<small>shape: (1, 1)</small><table border=\"1\" class=\"dataframe\"><thead><tr><th>cylinder_capacity</th></tr><tr><td>u32</td></tr></thead><tbody><tr><td>8150</td></tr></tbody></table></div>"
      ],
      "text/plain": [
       "shape: (1, 1)\n",
       "┌───────────────────┐\n",
       "│ cylinder_capacity │\n",
       "│ ---               │\n",
       "│ u32               │\n",
       "╞═══════════════════╡\n",
       "│ 8150              │\n",
       "└───────────────────┘"
      ]
     },
     "execution_count": 29,
     "metadata": {},
     "output_type": "execute_result"
    },
    {
     "name": "stdout",
     "output_type": "stream",
     "text": [
      "In [29] used -3.7 MiB RAM in 0.10s (system mean cpu 5%, single max cpu 100%), peaked 3.7 MiB above final usage, current RAM usage now 1261.3 MiB\n"
     ]
    }
   ],
   "source": [
    "df.select(pl.col('cylinder_capacity').is_null()).sum()"
   ]
  },
  {
   "cell_type": "code",
   "execution_count": 30,
   "id": "9d5b926e-b2bc-4f37-ade9-5b69024d90c2",
   "metadata": {
    "tags": []
   },
   "outputs": [
    {
     "data": {
      "text/plain": [
       "(3362528, 14)"
      ]
     },
     "execution_count": 30,
     "metadata": {},
     "output_type": "execute_result"
    },
    {
     "name": "stdout",
     "output_type": "stream",
     "text": [
      "In [30] used 0.0 MiB RAM in 0.10s (system mean cpu 5%, single max cpu 100%), peaked 0.0 MiB above final usage, current RAM usage now 1261.3 MiB\n"
     ]
    }
   ],
   "source": [
    "df.shape"
   ]
  },
  {
   "cell_type": "code",
   "execution_count": 31,
   "id": "8663fac3-7a2a-4db3-a194-94406fd9ebfa",
   "metadata": {
    "tags": []
   },
   "outputs": [
    {
     "data": {
      "text/html": [
       "<div><style>\n",
       ".dataframe > thead > tr > th,\n",
       ".dataframe > tbody > tr > td {\n",
       "  text-align: right;\n",
       "}\n",
       "</style>\n",
       "<small>shape: (1, 1)</small><table border=\"1\" class=\"dataframe\"><thead><tr><th>cylinder_capacity</th></tr><tr><td>u32</td></tr></thead><tbody><tr><td>8150</td></tr></tbody></table></div>"
      ],
      "text/plain": [
       "shape: (1, 1)\n",
       "┌───────────────────┐\n",
       "│ cylinder_capacity │\n",
       "│ ---               │\n",
       "│ u32               │\n",
       "╞═══════════════════╡\n",
       "│ 8150              │\n",
       "└───────────────────┘"
      ]
     },
     "execution_count": 31,
     "metadata": {},
     "output_type": "execute_result"
    },
    {
     "name": "stdout",
     "output_type": "stream",
     "text": [
      "In [31] used 0.0 MiB RAM in 0.10s (system mean cpu 5%, single max cpu 50%), peaked 0.0 MiB above final usage, current RAM usage now 1261.3 MiB\n"
     ]
    }
   ],
   "source": [
    "mask = df.select(pl.col('cylinder_capacity').is_null())\n",
    "mask.sum()"
   ]
  },
  {
   "cell_type": "code",
   "execution_count": 32,
   "id": "0738661d-d1f3-47b0-98c1-312c875c9141",
   "metadata": {
    "tags": []
   },
   "outputs": [
    {
     "name": "stdout",
     "output_type": "stream",
     "text": [
      "In [32] used 0.0 MiB RAM in 0.10s (system mean cpu 3%, single max cpu 100%), peaked 0.0 MiB above final usage, current RAM usage now 1261.3 MiB\n"
     ]
    }
   ],
   "source": [
    "lf = df.lazy() # make lazyframe"
   ]
  },
  {
   "cell_type": "code",
   "execution_count": 33,
   "id": "4ca8e841-cb61-4b3c-82ef-b5f896546a9f",
   "metadata": {
    "tags": []
   },
   "outputs": [
    {
     "data": {
      "text/html": [
       "<h4>NAIVE QUERY PLAN</h4><p>run <b>LazyFrame.show_graph()</b> to see the optimized version</p><?xml version=\"1.0\" encoding=\"UTF-8\" standalone=\"no\"?>\n",
       "<!DOCTYPE svg PUBLIC \"-//W3C//DTD SVG 1.1//EN\"\n",
       " \"http://www.w3.org/Graphics/SVG/1.1/DTD/svg11.dtd\">\n",
       "<!-- Generated by graphviz version 2.43.0 (0)\n",
       " -->\n",
       "<!-- Title: polars_query Pages: 1 -->\n",
       "<svg width=\"292pt\" height=\"133pt\"\n",
       " viewBox=\"0.00 0.00 292.00 133.00\" xmlns=\"http://www.w3.org/2000/svg\" xmlns:xlink=\"http://www.w3.org/1999/xlink\">\n",
       "<g id=\"graph0\" class=\"graph\" transform=\"scale(1 1) rotate(0) translate(4 129)\">\n",
       "<title>polars_query</title>\n",
       "<polygon fill=\"white\" stroke=\"transparent\" points=\"-4,4 -4,-129 288,-129 288,4 -4,4\"/>\n",
       "<!-- FILTER BY col(&quot;cylinder_capacity&quot;).... [(0, 0)] -->\n",
       "<g id=\"node1\" class=\"node\">\n",
       "<title>FILTER BY col(&quot;cylinder_capacity&quot;).... [(0, 0)]</title>\n",
       "<polygon fill=\"none\" stroke=\"black\" points=\"284,-125 0,-125 0,-89 284,-89 284,-125\"/>\n",
       "<text text-anchor=\"middle\" x=\"142\" y=\"-103.3\" font-family=\"Times,serif\" font-size=\"14.00\">FILTER BY col(&quot;cylinder_capacity&quot;)....</text>\n",
       "</g>\n",
       "<!-- TABLE\n",
       "π */14;\n",
       "σ &#45;; [(0, 1)] -->\n",
       "<g id=\"node2\" class=\"node\">\n",
       "<title>TABLE\n",
       "π */14;\n",
       "σ &#45;; [(0, 1)]</title>\n",
       "<polygon fill=\"none\" stroke=\"black\" points=\"174.5,-53 109.5,-53 109.5,0 174.5,0 174.5,-53\"/>\n",
       "<text text-anchor=\"middle\" x=\"142\" y=\"-37.8\" font-family=\"Times,serif\" font-size=\"14.00\">TABLE</text>\n",
       "<text text-anchor=\"middle\" x=\"142\" y=\"-22.8\" font-family=\"Times,serif\" font-size=\"14.00\">π */14;</text>\n",
       "<text text-anchor=\"middle\" x=\"142\" y=\"-7.8\" font-family=\"Times,serif\" font-size=\"14.00\">σ &#45;;</text>\n",
       "</g>\n",
       "<!-- FILTER BY col(&quot;cylinder_capacity&quot;).... [(0, 0)]&#45;&#45;TABLE\n",
       "π */14;\n",
       "σ &#45;; [(0, 1)] -->\n",
       "<g id=\"edge1\" class=\"edge\">\n",
       "<title>FILTER BY col(&quot;cylinder_capacity&quot;).... [(0, 0)]&#45;&#45;TABLE\n",
       "π */14;\n",
       "σ &#45;; [(0, 1)]</title>\n",
       "<path fill=\"none\" stroke=\"black\" d=\"M142,-88.97C142,-78.51 142,-64.9 142,-53.16\"/>\n",
       "</g>\n",
       "</g>\n",
       "</svg>\n"
      ],
      "text/plain": [
       "<polars.LazyFrame object at 0x7FB4FE599CD0>"
      ]
     },
     "execution_count": 33,
     "metadata": {},
     "output_type": "execute_result"
    },
    {
     "name": "stdout",
     "output_type": "stream",
     "text": [
      "In [33] used 0.0 MiB RAM in 0.13s (system mean cpu 4%, single max cpu 100%), peaked 0.0 MiB above final usage, current RAM usage now 1261.3 MiB\n"
     ]
    }
   ],
   "source": [
    "lf.filter(pl.col('cylinder_capacity').is_not_null())"
   ]
  },
  {
   "cell_type": "code",
   "execution_count": 34,
   "id": "c9c830d7-28d1-48fe-b0e0-f8104e0c154e",
   "metadata": {
    "tags": []
   },
   "outputs": [
    {
     "data": {
      "text/plain": [
       "(3354378, 14)"
      ]
     },
     "execution_count": 34,
     "metadata": {},
     "output_type": "execute_result"
    },
    {
     "name": "stdout",
     "output_type": "stream",
     "text": [
      "In [34] used 583.9 MiB RAM in 0.27s (system mean cpu 31%, single max cpu 100%), peaked 0.0 MiB above final usage, current RAM usage now 1845.3 MiB\n"
     ]
    }
   ],
   "source": [
    "df_nonan_cylcap = lf.filter(pl.col('cylinder_capacity').is_not_null()).collect()\n",
    "df_nonan_cylcap.shape"
   ]
  },
  {
   "cell_type": "code",
   "execution_count": 35,
   "id": "6f646fdd-703c-47c2-b4e5-bebd4a149368",
   "metadata": {
    "tags": []
   },
   "outputs": [
    {
     "name": "stdout",
     "output_type": "stream",
     "text": [
      "In [35] used 0.0 MiB RAM in 0.10s (system mean cpu 1%, single max cpu 33%), peaked 0.0 MiB above final usage, current RAM usage now 1845.3 MiB\n"
     ]
    }
   ],
   "source": [
    "# pandas as leyland 9999, 27 size, but we get 27 size and median 108325 - we didn't filter nan here\n",
    "#df_nonan_cylcap.groupby(by='make').agg([pl.col('cylinder_capacity').count().alias('cyl_size'), pl.col('test_mileage').median().alias('cyl_median')])\\\n",
    "#.filter(pl.col('cyl_size')==1).sort(by='make')"
   ]
  },
  {
   "cell_type": "code",
   "execution_count": 36,
   "id": "cc9d7fd2-7b8e-48e3-8daa-d237e954e2e4",
   "metadata": {
    "tags": []
   },
   "outputs": [
    {
     "data": {
      "text/html": [
       "<div><style>\n",
       ".dataframe > thead > tr > th,\n",
       ".dataframe > tbody > tr > td {\n",
       "  text-align: right;\n",
       "}\n",
       "</style>\n",
       "<small>shape: (270, 3)</small><table border=\"1\" class=\"dataframe\"><thead><tr><th>make</th><th>cyl_size</th><th>cyl_med</th></tr><tr><td>str</td><td>u32</td><td>f64</td></tr></thead><tbody><tr><td>&quot;TOMOS&quot;</td><td>16</td><td>49.0</td></tr><tr><td>&quot;BEELINE&quot;</td><td>17</td><td>49.0</td></tr><tr><td>&quot;BAOTIAN&quot;</td><td>45</td><td>49.0</td></tr><tr><td>&quot;PUCH&quot;</td><td>12</td><td>49.0</td></tr><tr><td>&quot;DIRECT BIKES&quot;</td><td>111</td><td>49.0</td></tr><tr><td>&quot;EASY RIDER&quot;</td><td>28</td><td>49.0</td></tr><tr><td>&quot;MALAGUTI&quot;</td><td>13</td><td>49.0</td></tr><tr><td>&quot;CPI&quot;</td><td>34</td><td>49.0</td></tr><tr><td>&quot;DERBI&quot;</td><td>93</td><td>50.0</td></tr><tr><td>&quot;LONGJIA&quot;</td><td>79</td><td>50.0</td></tr><tr><td>&quot;RIEJU&quot;</td><td>93</td><td>50.0</td></tr><tr><td>&quot;NECO&quot;</td><td>30</td><td>50.0</td></tr><tr><td>&hellip;</td><td>&hellip;</td><td>&hellip;</td></tr><tr><td>&quot;LAMBORGHINI&quot;</td><td>203</td><td>5204.0</td></tr><tr><td>&quot;BRISTOL&quot;</td><td>15</td><td>5211.0</td></tr><tr><td>&quot;GMC&quot;</td><td>23</td><td>5300.0</td></tr><tr><td>&quot;CHEVROLET GMC&quot;</td><td>162</td><td>5665.0</td></tr><tr><td>&quot;HOLDEN&quot;</td><td>19</td><td>5700.0</td></tr><tr><td>&quot;ASTON MARTIN&quot;</td><td>1763</td><td>5935.0</td></tr><tr><td>&quot;HUMMER&quot;</td><td>49</td><td>5967.0</td></tr><tr><td>&quot;BENTLEY&quot;</td><td>1901</td><td>5998.0</td></tr><tr><td>&quot;JENSEN&quot;</td><td>20</td><td>6276.0</td></tr><tr><td>&quot;ALEXANDER DENN…</td><td>19</td><td>6700.0</td></tr><tr><td>&quot;ROLLS ROYCE&quot;</td><td>532</td><td>6749.0</td></tr><tr><td>&quot;LEYLAND&quot;</td><td>21</td><td>9999.0</td></tr></tbody></table></div>"
      ],
      "text/plain": [
       "shape: (270, 3)\n",
       "┌──────────────────┬──────────┬─────────┐\n",
       "│ make             ┆ cyl_size ┆ cyl_med │\n",
       "│ ---              ┆ ---      ┆ ---     │\n",
       "│ str              ┆ u32      ┆ f64     │\n",
       "╞══════════════════╪══════════╪═════════╡\n",
       "│ TOMOS            ┆ 16       ┆ 49.0    │\n",
       "│ BEELINE          ┆ 17       ┆ 49.0    │\n",
       "│ BAOTIAN          ┆ 45       ┆ 49.0    │\n",
       "│ PUCH             ┆ 12       ┆ 49.0    │\n",
       "│ …                ┆ …        ┆ …       │\n",
       "│ JENSEN           ┆ 20       ┆ 6276.0  │\n",
       "│ ALEXANDER DENNIS ┆ 19       ┆ 6700.0  │\n",
       "│ ROLLS ROYCE      ┆ 532      ┆ 6749.0  │\n",
       "│ LEYLAND          ┆ 21       ┆ 9999.0  │\n",
       "└──────────────────┴──────────┴─────────┘"
      ]
     },
     "execution_count": 36,
     "metadata": {},
     "output_type": "execute_result"
    },
    {
     "name": "stdout",
     "output_type": "stream",
     "text": [
      "In [36] used -3.2 MiB RAM in 0.15s (system mean cpu 18%, single max cpu 100%), peaked 4.7 MiB above final usage, current RAM usage now 1842.1 MiB\n"
     ]
    }
   ],
   "source": [
    "df_nonan_cylcap.groupby(by='make').agg([pl.col('cylinder_capacity').count().alias('cyl_size'), pl.col('cylinder_capacity').median().alias('cyl_med')])\\\n",
    ".filter(pl.col('cyl_size') > 10).sort(by='cyl_med')"
   ]
  },
  {
   "cell_type": "code",
   "execution_count": 37,
   "id": "faa77fd2-e7f4-4d4b-bb1d-1d80f8d2dd8f",
   "metadata": {
    "tags": []
   },
   "outputs": [
    {
     "name": "stdout",
     "output_type": "stream",
     "text": [
      "CPU times: user 1.26 s, sys: 365 ms, total: 1.62 s\n",
      "Wall time: 197 ms\n"
     ]
    },
    {
     "data": {
      "text/html": [
       "<div><style>\n",
       ".dataframe > thead > tr > th,\n",
       ".dataframe > tbody > tr > td {\n",
       "  text-align: right;\n",
       "}\n",
       "</style>\n",
       "<small>shape: (270, 3)</small><table border=\"1\" class=\"dataframe\"><thead><tr><th>make</th><th>cyl_size</th><th>cyl_med</th></tr><tr><td>str</td><td>u32</td><td>f64</td></tr></thead><tbody><tr><td>&quot;MALAGUTI&quot;</td><td>13</td><td>49.0</td></tr><tr><td>&quot;CPI&quot;</td><td>34</td><td>49.0</td></tr><tr><td>&quot;BAOTIAN&quot;</td><td>45</td><td>49.0</td></tr><tr><td>&quot;PUCH&quot;</td><td>12</td><td>49.0</td></tr><tr><td>&quot;BEELINE&quot;</td><td>17</td><td>49.0</td></tr><tr><td>&quot;TOMOS&quot;</td><td>16</td><td>49.0</td></tr><tr><td>&quot;EASY RIDER&quot;</td><td>28</td><td>49.0</td></tr><tr><td>&quot;DIRECT BIKES&quot;</td><td>111</td><td>49.0</td></tr><tr><td>&quot;RIEJU&quot;</td><td>93</td><td>50.0</td></tr><tr><td>&quot;DERBI&quot;</td><td>93</td><td>50.0</td></tr><tr><td>&quot;NECO&quot;</td><td>30</td><td>50.0</td></tr><tr><td>&quot;LONGJIA&quot;</td><td>79</td><td>50.0</td></tr><tr><td>&hellip;</td><td>&hellip;</td><td>&hellip;</td></tr><tr><td>&quot;LAMBORGHINI&quot;</td><td>203</td><td>5204.0</td></tr><tr><td>&quot;BRISTOL&quot;</td><td>15</td><td>5211.0</td></tr><tr><td>&quot;GMC&quot;</td><td>23</td><td>5300.0</td></tr><tr><td>&quot;CHEVROLET GMC&quot;</td><td>162</td><td>5665.0</td></tr><tr><td>&quot;HOLDEN&quot;</td><td>19</td><td>5700.0</td></tr><tr><td>&quot;ASTON MARTIN&quot;</td><td>1763</td><td>5935.0</td></tr><tr><td>&quot;HUMMER&quot;</td><td>49</td><td>5967.0</td></tr><tr><td>&quot;BENTLEY&quot;</td><td>1901</td><td>5998.0</td></tr><tr><td>&quot;JENSEN&quot;</td><td>20</td><td>6276.0</td></tr><tr><td>&quot;ALEXANDER DENN…</td><td>19</td><td>6700.0</td></tr><tr><td>&quot;ROLLS ROYCE&quot;</td><td>532</td><td>6749.0</td></tr><tr><td>&quot;LEYLAND&quot;</td><td>21</td><td>9999.0</td></tr></tbody></table></div>"
      ],
      "text/plain": [
       "shape: (270, 3)\n",
       "┌──────────────────┬──────────┬─────────┐\n",
       "│ make             ┆ cyl_size ┆ cyl_med │\n",
       "│ ---              ┆ ---      ┆ ---     │\n",
       "│ str              ┆ u32      ┆ f64     │\n",
       "╞══════════════════╪══════════╪═════════╡\n",
       "│ MALAGUTI         ┆ 13       ┆ 49.0    │\n",
       "│ CPI              ┆ 34       ┆ 49.0    │\n",
       "│ BAOTIAN          ┆ 45       ┆ 49.0    │\n",
       "│ PUCH             ┆ 12       ┆ 49.0    │\n",
       "│ …                ┆ …        ┆ …       │\n",
       "│ JENSEN           ┆ 20       ┆ 6276.0  │\n",
       "│ ALEXANDER DENNIS ┆ 19       ┆ 6700.0  │\n",
       "│ ROLLS ROYCE      ┆ 532      ┆ 6749.0  │\n",
       "│ LEYLAND          ┆ 21       ┆ 9999.0  │\n",
       "└──────────────────┴──────────┴─────────┘"
      ]
     },
     "execution_count": 37,
     "metadata": {},
     "output_type": "execute_result"
    },
    {
     "name": "stdout",
     "output_type": "stream",
     "text": [
      "In [37] used 36.1 MiB RAM in 0.30s (system mean cpu 29%, single max cpu 100%), peaked 516.2 MiB above final usage, current RAM usage now 1878.2 MiB\n"
     ]
    }
   ],
   "source": [
    "%%time\n",
    "# try same with DataFrame (not Lazy)\n",
    "\n",
    "df.filter(pl.col('cylinder_capacity').is_not_null()) \\\n",
    ".groupby(by='make').agg([pl.col('cylinder_capacity').count().alias('cyl_size'), pl.col('cylinder_capacity').median().alias('cyl_med')])\\\n",
    ".filter(pl.col('cyl_size') > 10).sort(by='cyl_med')"
   ]
  },
  {
   "cell_type": "code",
   "execution_count": 38,
   "id": "34b87de0-dfe8-47e3-86b1-aedbaced1194",
   "metadata": {
    "tags": []
   },
   "outputs": [
    {
     "name": "stdout",
     "output_type": "stream",
     "text": [
      "CPU times: user 592 ms, sys: 65.8 ms, total: 658 ms\n",
      "Wall time: 105 ms\n"
     ]
    },
    {
     "data": {
      "text/html": [
       "<div><style>\n",
       ".dataframe > thead > tr > th,\n",
       ".dataframe > tbody > tr > td {\n",
       "  text-align: right;\n",
       "}\n",
       "</style>\n",
       "<small>shape: (270, 3)</small><table border=\"1\" class=\"dataframe\"><thead><tr><th>make</th><th>cyl_size</th><th>cyl_med</th></tr><tr><td>str</td><td>u32</td><td>f64</td></tr></thead><tbody><tr><td>&quot;CPI&quot;</td><td>34</td><td>49.0</td></tr><tr><td>&quot;EASY RIDER&quot;</td><td>28</td><td>49.0</td></tr><tr><td>&quot;BAOTIAN&quot;</td><td>45</td><td>49.0</td></tr><tr><td>&quot;PUCH&quot;</td><td>12</td><td>49.0</td></tr><tr><td>&quot;MALAGUTI&quot;</td><td>13</td><td>49.0</td></tr><tr><td>&quot;BEELINE&quot;</td><td>17</td><td>49.0</td></tr><tr><td>&quot;TOMOS&quot;</td><td>16</td><td>49.0</td></tr><tr><td>&quot;DIRECT BIKES&quot;</td><td>111</td><td>49.0</td></tr><tr><td>&quot;RIEJU&quot;</td><td>93</td><td>50.0</td></tr><tr><td>&quot;DERBI&quot;</td><td>93</td><td>50.0</td></tr><tr><td>&quot;LONGJIA&quot;</td><td>79</td><td>50.0</td></tr><tr><td>&quot;NECO&quot;</td><td>30</td><td>50.0</td></tr><tr><td>&hellip;</td><td>&hellip;</td><td>&hellip;</td></tr><tr><td>&quot;LAMBORGHINI&quot;</td><td>203</td><td>5204.0</td></tr><tr><td>&quot;BRISTOL&quot;</td><td>15</td><td>5211.0</td></tr><tr><td>&quot;GMC&quot;</td><td>23</td><td>5300.0</td></tr><tr><td>&quot;CHEVROLET GMC&quot;</td><td>162</td><td>5665.0</td></tr><tr><td>&quot;HOLDEN&quot;</td><td>19</td><td>5700.0</td></tr><tr><td>&quot;ASTON MARTIN&quot;</td><td>1763</td><td>5935.0</td></tr><tr><td>&quot;HUMMER&quot;</td><td>49</td><td>5967.0</td></tr><tr><td>&quot;BENTLEY&quot;</td><td>1901</td><td>5998.0</td></tr><tr><td>&quot;JENSEN&quot;</td><td>20</td><td>6276.0</td></tr><tr><td>&quot;ALEXANDER DENN…</td><td>19</td><td>6700.0</td></tr><tr><td>&quot;ROLLS ROYCE&quot;</td><td>532</td><td>6749.0</td></tr><tr><td>&quot;LEYLAND&quot;</td><td>21</td><td>9999.0</td></tr></tbody></table></div>"
      ],
      "text/plain": [
       "shape: (270, 3)\n",
       "┌──────────────────┬──────────┬─────────┐\n",
       "│ make             ┆ cyl_size ┆ cyl_med │\n",
       "│ ---              ┆ ---      ┆ ---     │\n",
       "│ str              ┆ u32      ┆ f64     │\n",
       "╞══════════════════╪══════════╪═════════╡\n",
       "│ CPI              ┆ 34       ┆ 49.0    │\n",
       "│ EASY RIDER       ┆ 28       ┆ 49.0    │\n",
       "│ BAOTIAN          ┆ 45       ┆ 49.0    │\n",
       "│ PUCH             ┆ 12       ┆ 49.0    │\n",
       "│ …                ┆ …        ┆ …       │\n",
       "│ JENSEN           ┆ 20       ┆ 6276.0  │\n",
       "│ ALEXANDER DENNIS ┆ 19       ┆ 6700.0  │\n",
       "│ ROLLS ROYCE      ┆ 532      ┆ 6749.0  │\n",
       "│ LEYLAND          ┆ 21       ┆ 9999.0  │\n",
       "└──────────────────┴──────────┴─────────┘"
      ]
     },
     "execution_count": 38,
     "metadata": {},
     "output_type": "execute_result"
    },
    {
     "name": "stdout",
     "output_type": "stream",
     "text": [
      "In [38] used -3.8 MiB RAM in 0.21s (system mean cpu 14%, single max cpu 100%), peaked 71.7 MiB above final usage, current RAM usage now 1874.3 MiB\n"
     ]
    }
   ],
   "source": [
    "%%time\n",
    "# try same with DataFrame (not Lazy)\n",
    "\n",
    "df.lazy().filter(pl.col('cylinder_capacity').is_not_null()) \\\n",
    ".groupby(by='make').agg([pl.col('cylinder_capacity').count().alias('cyl_size'), pl.col('cylinder_capacity').median().alias('cyl_med')])\\\n",
    ".filter(pl.col('cyl_size') > 10).sort(by='cyl_med').collect()"
   ]
  },
  {
   "cell_type": "code",
   "execution_count": 39,
   "id": "dda430f3-b45c-45fa-98e1-f00ada65a3c7",
   "metadata": {
    "tags": []
   },
   "outputs": [
    {
     "name": "stdout",
     "output_type": "stream",
     "text": [
      "SORT BY [col(\"cyl_med\")]\n",
      "  FILTER [(col(\"cyl_size\")) > (10)] FROM\n",
      "  AGGREGATE\n",
      "  \t[col(\"cylinder_capacity\").count().alias(\"cyl_size\"), col(\"cylinder_capacity\").median().alias(\"cyl_med\")] BY [col(\"make\")] FROM\n",
      "  \tDF [\"test_id\", \"vehicle_id\", \"test_date\", \"test_class_id\"]; PROJECT 2/14 COLUMNS; SELECTION: \"col(\\\"cylinder_capacity\\\").is_not_null()\"\n",
      "In [39] used 0.0 MiB RAM in 0.10s (system mean cpu 3%, single max cpu 67%), peaked 0.0 MiB above final usage, current RAM usage now 1874.3 MiB\n"
     ]
    }
   ],
   "source": [
    "print(df.lazy().filter(pl.col('cylinder_capacity').is_not_null()) \\\n",
    ".groupby(by='make').agg([pl.col('cylinder_capacity').count().alias('cyl_size'), pl.col('cylinder_capacity').median().alias('cyl_med')])\\\n",
    ".filter(pl.col('cyl_size') > 10).sort(by='cyl_med').explain(optimized=True))"
   ]
  },
  {
   "cell_type": "code",
   "execution_count": 40,
   "id": "a9c1d573-2ef4-4a51-9a82-33a2a1f4445f",
   "metadata": {
    "tags": []
   },
   "outputs": [
    {
     "data": {
      "image/svg+xml": [
       "<svg xmlns=\"http://www.w3.org/2000/svg\" xmlns:xlink=\"http://www.w3.org/1999/xlink\" width=\"775pt\" height=\"294pt\" viewBox=\"0.00 0.00 775.00 294.00\">\n",
       "<g id=\"graph0\" class=\"graph\" transform=\"scale(1 1) rotate(0) translate(4 290)\">\n",
       "<title>polars_query</title>\n",
       "<polygon fill=\"white\" stroke=\"transparent\" points=\"-4,4 -4,-290 771,-290 771,4 -4,4\"/>\n",
       "<!-- SORT BY [col(&quot;cyl_med&quot;)] [(0, 0)] -->\n",
       "<g id=\"node1\" class=\"node\">\n",
       "<title>SORT BY [col(&quot;cyl_med&quot;)] [(0, 0)]</title>\n",
       "<polygon fill=\"none\" stroke=\"black\" points=\"482,-286 285,-286 285,-250 482,-250 482,-286\"/>\n",
       "<text text-anchor=\"middle\" x=\"383.5\" y=\"-264.3\" font-family=\"Times,serif\" font-size=\"14.00\">SORT BY [col(&quot;cyl_med&quot;)]</text>\n",
       "</g>\n",
       "<!-- FILTER BY (col(&quot;cyl_size&quot;)) &gt; (10) [(0, 1)] -->\n",
       "<g id=\"node2\" class=\"node\">\n",
       "<title>FILTER BY (col(&quot;cyl_size&quot;)) &gt; (10) [(0, 1)]</title>\n",
       "<polygon fill=\"none\" stroke=\"black\" points=\"512,-214 255,-214 255,-178 512,-178 512,-214\"/>\n",
       "<text text-anchor=\"middle\" x=\"383.5\" y=\"-192.3\" font-family=\"Times,serif\" font-size=\"14.00\">FILTER BY (col(&quot;cyl_size&quot;)) &gt; (10)</text>\n",
       "</g>\n",
       "<!-- SORT BY [col(&quot;cyl_med&quot;)] [(0, 0)]&#45;&#45;FILTER BY (col(&quot;cyl_size&quot;)) &gt; (10) [(0, 1)] -->\n",
       "<g id=\"edge1\" class=\"edge\">\n",
       "<title>SORT BY [col(&quot;cyl_med&quot;)] [(0, 0)]--FILTER BY (col(&quot;cyl_size&quot;)) &gt; (10) [(0, 1)]</title>\n",
       "<path fill=\"none\" stroke=\"black\" d=\"M383.5,-249.7C383.5,-238.85 383.5,-224.92 383.5,-214.1\"/>\n",
       "</g>\n",
       "<!-- AGG [col(&quot;cylinder_capacity&quot;).count().alias(&quot;cyl_size&quot;), col(&quot;cylinder_capacity&quot;).median().alias(&quot;cyl_med&quot;)]\n",
       "BY\n",
       "[col(&quot;make&quot;)] [(0, 2)] [(0, 2)] -->\n",
       "<g id=\"node3\" class=\"node\">\n",
       "<title>AGG [col(&quot;cylinder_capacity&quot;).count().alias(&quot;cyl_size&quot;), col(&quot;cylinder_capacity&quot;).median().alias(&quot;cyl_med&quot;)]\n",
       "BY\n",
       "[col(&quot;make&quot;)] [(0, 2)] [(0, 2)]</title>\n",
       "<polygon fill=\"none\" stroke=\"black\" points=\"767,-142 0,-142 0,-89 767,-89 767,-142\"/>\n",
       "<text text-anchor=\"middle\" x=\"383.5\" y=\"-126.8\" font-family=\"Times,serif\" font-size=\"14.00\">AGG [col(&quot;cylinder_capacity&quot;).count().alias(&quot;cyl_size&quot;), col(&quot;cylinder_capacity&quot;).median().alias(&quot;cyl_med&quot;)]</text>\n",
       "<text text-anchor=\"middle\" x=\"383.5\" y=\"-111.8\" font-family=\"Times,serif\" font-size=\"14.00\">BY</text>\n",
       "<text text-anchor=\"middle\" x=\"383.5\" y=\"-96.8\" font-family=\"Times,serif\" font-size=\"14.00\">[col(&quot;make&quot;)] [(0, 2)]</text>\n",
       "</g>\n",
       "<!-- FILTER BY (col(&quot;cyl_size&quot;)) &gt; (10) [(0, 1)]&#45;&#45;AGG [col(&quot;cylinder_capacity&quot;).count().alias(&quot;cyl_size&quot;), col(&quot;cylinder_capacity&quot;).median().alias(&quot;cyl_med&quot;)]\n",
       "BY\n",
       "[col(&quot;make&quot;)] [(0, 2)] [(0, 2)] -->\n",
       "<g id=\"edge2\" class=\"edge\">\n",
       "<title>FILTER BY (col(&quot;cyl_size&quot;)) &gt; (10) [(0, 1)]--AGG [col(&quot;cylinder_capacity&quot;).count().alias(&quot;cyl_size&quot;), col(&quot;cylinder_capacity&quot;).median().alias(&quot;cyl_med&quot;)]\n",
       "BY\n",
       "[col(&quot;make&quot;)] [(0, 2)] [(0, 2)]</title>\n",
       "<path fill=\"none\" stroke=\"black\" d=\"M383.5,-177.97C383.5,-167.51 383.5,-153.9 383.5,-142.16\"/>\n",
       "</g>\n",
       "<!-- TABLE\n",
       "π 2/14;\n",
       "σ col(&quot;cylinder_capacity&quot;)....; [(0, 3)] -->\n",
       "<g id=\"node4\" class=\"node\">\n",
       "<title>TABLE\n",
       "π 2/14;\n",
       "σ col(&quot;cylinder_capacity&quot;)....; [(0, 3)]</title>\n",
       "<polygon fill=\"none\" stroke=\"black\" points=\"494,-53 273,-53 273,0 494,0 494,-53\"/>\n",
       "<text text-anchor=\"middle\" x=\"383.5\" y=\"-37.8\" font-family=\"Times,serif\" font-size=\"14.00\">TABLE</text>\n",
       "<text text-anchor=\"middle\" x=\"383.5\" y=\"-22.8\" font-family=\"Times,serif\" font-size=\"14.00\">π 2/14;</text>\n",
       "<text text-anchor=\"middle\" x=\"383.5\" y=\"-7.8\" font-family=\"Times,serif\" font-size=\"14.00\">σ col(&quot;cylinder_capacity&quot;)....;</text>\n",
       "</g>\n",
       "<!-- AGG [col(&quot;cylinder_capacity&quot;).count().alias(&quot;cyl_size&quot;), col(&quot;cylinder_capacity&quot;).median().alias(&quot;cyl_med&quot;)]\n",
       "BY\n",
       "[col(&quot;make&quot;)] [(0, 2)] [(0, 2)]&#45;&#45;TABLE\n",
       "π 2/14;\n",
       "σ col(&quot;cylinder_capacity&quot;)....; [(0, 3)] -->\n",
       "<g id=\"edge3\" class=\"edge\">\n",
       "<title>AGG [col(&quot;cylinder_capacity&quot;).count().alias(&quot;cyl_size&quot;), col(&quot;cylinder_capacity&quot;).median().alias(&quot;cyl_med&quot;)]\n",
       "BY\n",
       "[col(&quot;make&quot;)] [(0, 2)] [(0, 2)]--TABLE\n",
       "π 2/14;\n",
       "σ col(&quot;cylinder_capacity&quot;)....; [(0, 3)]</title>\n",
       "<path fill=\"none\" stroke=\"black\" d=\"M383.5,-88.87C383.5,-77.64 383.5,-64.49 383.5,-53.25\"/>\n",
       "</g>\n",
       "</g>\n",
       "</svg>"
      ],
      "text/plain": [
       "<IPython.core.display.SVG object>"
      ]
     },
     "metadata": {},
     "output_type": "display_data"
    },
    {
     "name": "stdout",
     "output_type": "stream",
     "text": [
      "In [40] used 0.0 MiB RAM in 0.12s (system mean cpu 2%, single max cpu 100%), peaked 0.0 MiB above final usage, current RAM usage now 1874.4 MiB\n"
     ]
    }
   ],
   "source": [
    "df.lazy().filter(pl.col('cylinder_capacity').is_not_null()) \\\n",
    ".groupby(by='make').agg([pl.col('cylinder_capacity').count().alias('cyl_size'), pl.col('cylinder_capacity').median().alias('cyl_med')])\\\n",
    ".filter(pl.col('cyl_size') > 10).sort(by='cyl_med').show_graph()"
   ]
  },
  {
   "cell_type": "markdown",
   "id": "be7ec300-90f1-4aaa-9953-52773f63c8ae",
   "metadata": {},
   "source": [
    "# Can we add a years-old column to our dataframe?"
   ]
  },
  {
   "cell_type": "code",
   "execution_count": 52,
   "id": "ce4ed38c-f48f-4b16-8c46-b297892b0bbb",
   "metadata": {
    "tags": []
   },
   "outputs": [
    {
     "data": {
      "text/html": [
       "<div><style>\n",
       ".dataframe > thead > tr > th,\n",
       ".dataframe > tbody > tr > td {\n",
       "  text-align: right;\n",
       "}\n",
       "</style>\n",
       "<small>shape: (5, 14)</small><table border=\"1\" class=\"dataframe\"><thead><tr><th>test_id</th><th>vehicle_id</th><th>test_date</th><th>test_class_id</th><th>test_type</th><th>test_result</th><th>test_mileage</th><th>postcode_area</th><th>make</th><th>model</th><th>colour</th><th>fuel_type</th><th>cylinder_capacity</th><th>first_use_date</th></tr><tr><td>i64</td><td>i64</td><td>str</td><td>i64</td><td>str</td><td>str</td><td>i64</td><td>str</td><td>str</td><td>str</td><td>str</td><td>str</td><td>i64</td><td>str</td></tr></thead><tbody><tr><td>1488085241</td><td>298646303</td><td>&quot;2021-01-01&quot;</td><td>4</td><td>&quot;NT&quot;</td><td>&quot;P&quot;</td><td>113094</td><td>&quot;PO&quot;</td><td>&quot;VOLKSWAGEN&quot;</td><td>&quot;CADDY&quot;</td><td>&quot;WHITE&quot;</td><td>&quot;DI&quot;</td><td>1598</td><td>&quot;2013-01-01&quot;</td></tr><tr><td>1360139783</td><td>1372832822</td><td>&quot;2021-01-01&quot;</td><td>4</td><td>&quot;NT&quot;</td><td>&quot;P&quot;</td><td>146500</td><td>&quot;LU&quot;</td><td>&quot;VAUXHALL&quot;</td><td>&quot;ASTRA&quot;</td><td>&quot;BLUE&quot;</td><td>&quot;DI&quot;</td><td>1686</td><td>&quot;2006-09-29&quot;</td></tr><tr><td>1232194325</td><td>152373223</td><td>&quot;2021-01-01&quot;</td><td>4</td><td>&quot;NT&quot;</td><td>&quot;F&quot;</td><td>96459</td><td>&quot;DE&quot;</td><td>&quot;VAUXHALL&quot;</td><td>&quot;MOKKA&quot;</td><td>&quot;WHITE&quot;</td><td>&quot;DI&quot;</td><td>1686</td><td>&quot;2013-04-27&quot;</td></tr><tr><td>464521577</td><td>17056716</td><td>&quot;2021-01-01&quot;</td><td>4</td><td>&quot;NT&quot;</td><td>&quot;P&quot;</td><td>201104</td><td>&quot;B&quot;</td><td>&quot;HONDA&quot;</td><td>&quot;JAZZ&quot;</td><td>&quot;BLACK&quot;</td><td>&quot;PE&quot;</td><td>1339</td><td>&quot;2005-10-31&quot;</td></tr><tr><td>848357951</td><td>888720926</td><td>&quot;2021-01-01&quot;</td><td>4</td><td>&quot;NT&quot;</td><td>&quot;P&quot;</td><td>160067</td><td>&quot;IP&quot;</td><td>&quot;PEUGEOT&quot;</td><td>&quot;407&quot;</td><td>&quot;RED&quot;</td><td>&quot;DI&quot;</td><td>1997</td><td>&quot;2007-06-29&quot;</td></tr></tbody></table></div>"
      ],
      "text/plain": [
       "shape: (5, 14)\n",
       "┌───────────┬──────────┬───────────┬────────────┬───┬────────┬───────────┬────────────┬────────────┐\n",
       "│ test_id   ┆ vehicle_ ┆ test_date ┆ test_class ┆ … ┆ colour ┆ fuel_type ┆ cylinder_c ┆ first_use_ │\n",
       "│ ---       ┆ id       ┆ ---       ┆ _id        ┆   ┆ ---    ┆ ---       ┆ apacity    ┆ date       │\n",
       "│ i64       ┆ ---      ┆ str       ┆ ---        ┆   ┆ str    ┆ str       ┆ ---        ┆ ---        │\n",
       "│           ┆ i64      ┆           ┆ i64        ┆   ┆        ┆           ┆ i64        ┆ str        │\n",
       "╞═══════════╪══════════╪═══════════╪════════════╪═══╪════════╪═══════════╪════════════╪════════════╡\n",
       "│ 148808524 ┆ 29864630 ┆ 2021-01-0 ┆ 4          ┆ … ┆ WHITE  ┆ DI        ┆ 1598       ┆ 2013-01-01 │\n",
       "│ 1         ┆ 3        ┆ 1         ┆            ┆   ┆        ┆           ┆            ┆            │\n",
       "│ 136013978 ┆ 13728328 ┆ 2021-01-0 ┆ 4          ┆ … ┆ BLUE   ┆ DI        ┆ 1686       ┆ 2006-09-29 │\n",
       "│ 3         ┆ 22       ┆ 1         ┆            ┆   ┆        ┆           ┆            ┆            │\n",
       "│ 123219432 ┆ 15237322 ┆ 2021-01-0 ┆ 4          ┆ … ┆ WHITE  ┆ DI        ┆ 1686       ┆ 2013-04-27 │\n",
       "│ 5         ┆ 3        ┆ 1         ┆            ┆   ┆        ┆           ┆            ┆            │\n",
       "│ 464521577 ┆ 17056716 ┆ 2021-01-0 ┆ 4          ┆ … ┆ BLACK  ┆ PE        ┆ 1339       ┆ 2005-10-31 │\n",
       "│           ┆          ┆ 1         ┆            ┆   ┆        ┆           ┆            ┆            │\n",
       "│ 848357951 ┆ 88872092 ┆ 2021-01-0 ┆ 4          ┆ … ┆ RED    ┆ DI        ┆ 1997       ┆ 2007-06-29 │\n",
       "│           ┆ 6        ┆ 1         ┆            ┆   ┆        ┆           ┆            ┆            │\n",
       "└───────────┴──────────┴───────────┴────────────┴───┴────────┴───────────┴────────────┴────────────┘"
      ]
     },
     "execution_count": 52,
     "metadata": {},
     "output_type": "execute_result"
    },
    {
     "name": "stdout",
     "output_type": "stream",
     "text": [
      "In [52] used -36.8 MiB RAM in 0.10s (system mean cpu 0%, single max cpu 0%), peaked 0.0 MiB above final usage, current RAM usage now 2482.2 MiB\n"
     ]
    }
   ],
   "source": [
    "df.head()"
   ]
  },
  {
   "cell_type": "code",
   "execution_count": 62,
   "id": "2cf08c8f-259e-44ed-8697-3a26229c8ee1",
   "metadata": {
    "tags": []
   },
   "outputs": [
    {
     "data": {
      "text/html": [
       "<div><style>\n",
       ".dataframe > thead > tr > th,\n",
       ".dataframe > tbody > tr > td {\n",
       "  text-align: right;\n",
       "}\n",
       "</style>\n",
       "<small>shape: (5, 16)</small><table border=\"1\" class=\"dataframe\"><thead><tr><th>test_id</th><th>vehicle_id</th><th>test_date</th><th>test_class_id</th><th>test_type</th><th>test_result</th><th>test_mileage</th><th>postcode_area</th><th>make</th><th>model</th><th>colour</th><th>fuel_type</th><th>cylinder_capacity</th><th>first_use_date</th><th>test_date_as_date</th><th>first_use_date_as_date</th></tr><tr><td>i64</td><td>i64</td><td>str</td><td>i64</td><td>str</td><td>str</td><td>i64</td><td>str</td><td>str</td><td>str</td><td>str</td><td>str</td><td>i64</td><td>str</td><td>date</td><td>date</td></tr></thead><tbody><tr><td>1488085241</td><td>298646303</td><td>&quot;2021-01-01&quot;</td><td>4</td><td>&quot;NT&quot;</td><td>&quot;P&quot;</td><td>113094</td><td>&quot;PO&quot;</td><td>&quot;VOLKSWAGEN&quot;</td><td>&quot;CADDY&quot;</td><td>&quot;WHITE&quot;</td><td>&quot;DI&quot;</td><td>1598</td><td>&quot;2013-01-01&quot;</td><td>2021-01-01</td><td>2013-01-01</td></tr><tr><td>1360139783</td><td>1372832822</td><td>&quot;2021-01-01&quot;</td><td>4</td><td>&quot;NT&quot;</td><td>&quot;P&quot;</td><td>146500</td><td>&quot;LU&quot;</td><td>&quot;VAUXHALL&quot;</td><td>&quot;ASTRA&quot;</td><td>&quot;BLUE&quot;</td><td>&quot;DI&quot;</td><td>1686</td><td>&quot;2006-09-29&quot;</td><td>2021-01-01</td><td>2006-09-29</td></tr><tr><td>1232194325</td><td>152373223</td><td>&quot;2021-01-01&quot;</td><td>4</td><td>&quot;NT&quot;</td><td>&quot;F&quot;</td><td>96459</td><td>&quot;DE&quot;</td><td>&quot;VAUXHALL&quot;</td><td>&quot;MOKKA&quot;</td><td>&quot;WHITE&quot;</td><td>&quot;DI&quot;</td><td>1686</td><td>&quot;2013-04-27&quot;</td><td>2021-01-01</td><td>2013-04-27</td></tr><tr><td>464521577</td><td>17056716</td><td>&quot;2021-01-01&quot;</td><td>4</td><td>&quot;NT&quot;</td><td>&quot;P&quot;</td><td>201104</td><td>&quot;B&quot;</td><td>&quot;HONDA&quot;</td><td>&quot;JAZZ&quot;</td><td>&quot;BLACK&quot;</td><td>&quot;PE&quot;</td><td>1339</td><td>&quot;2005-10-31&quot;</td><td>2021-01-01</td><td>2005-10-31</td></tr><tr><td>848357951</td><td>888720926</td><td>&quot;2021-01-01&quot;</td><td>4</td><td>&quot;NT&quot;</td><td>&quot;P&quot;</td><td>160067</td><td>&quot;IP&quot;</td><td>&quot;PEUGEOT&quot;</td><td>&quot;407&quot;</td><td>&quot;RED&quot;</td><td>&quot;DI&quot;</td><td>1997</td><td>&quot;2007-06-29&quot;</td><td>2021-01-01</td><td>2007-06-29</td></tr></tbody></table></div>"
      ],
      "text/plain": [
       "shape: (5, 16)\n",
       "┌─────────┬──────────┬────────┬────────────┬───┬────────────┬────────────┬────────────┬────────────┐\n",
       "│ test_id ┆ vehicle_ ┆ test_d ┆ test_class ┆ … ┆ cylinder_c ┆ first_use_ ┆ test_date_ ┆ first_use_ │\n",
       "│ ---     ┆ id       ┆ ate    ┆ _id        ┆   ┆ apacity    ┆ date       ┆ as_date    ┆ date_as_da │\n",
       "│ i64     ┆ ---      ┆ ---    ┆ ---        ┆   ┆ ---        ┆ ---        ┆ ---        ┆ te         │\n",
       "│         ┆ i64      ┆ str    ┆ i64        ┆   ┆ i64        ┆ str        ┆ date       ┆ ---        │\n",
       "│         ┆          ┆        ┆            ┆   ┆            ┆            ┆            ┆ date       │\n",
       "╞═════════╪══════════╪════════╪════════════╪═══╪════════════╪════════════╪════════════╪════════════╡\n",
       "│ 1488085 ┆ 29864630 ┆ 2021-0 ┆ 4          ┆ … ┆ 1598       ┆ 2013-01-01 ┆ 2021-01-01 ┆ 2013-01-01 │\n",
       "│ 241     ┆ 3        ┆ 1-01   ┆            ┆   ┆            ┆            ┆            ┆            │\n",
       "│ 1360139 ┆ 13728328 ┆ 2021-0 ┆ 4          ┆ … ┆ 1686       ┆ 2006-09-29 ┆ 2021-01-01 ┆ 2006-09-29 │\n",
       "│ 783     ┆ 22       ┆ 1-01   ┆            ┆   ┆            ┆            ┆            ┆            │\n",
       "│ 1232194 ┆ 15237322 ┆ 2021-0 ┆ 4          ┆ … ┆ 1686       ┆ 2013-04-27 ┆ 2021-01-01 ┆ 2013-04-27 │\n",
       "│ 325     ┆ 3        ┆ 1-01   ┆            ┆   ┆            ┆            ┆            ┆            │\n",
       "│ 4645215 ┆ 17056716 ┆ 2021-0 ┆ 4          ┆ … ┆ 1339       ┆ 2005-10-31 ┆ 2021-01-01 ┆ 2005-10-31 │\n",
       "│ 77      ┆          ┆ 1-01   ┆            ┆   ┆            ┆            ┆            ┆            │\n",
       "│ 8483579 ┆ 88872092 ┆ 2021-0 ┆ 4          ┆ … ┆ 1997       ┆ 2007-06-29 ┆ 2021-01-01 ┆ 2007-06-29 │\n",
       "│ 51      ┆ 6        ┆ 1-01   ┆            ┆   ┆            ┆            ┆            ┆            │\n",
       "└─────────┴──────────┴────────┴────────────┴───┴────────────┴────────────┴────────────┴────────────┘"
      ]
     },
     "execution_count": 62,
     "metadata": {},
     "output_type": "execute_result"
    },
    {
     "name": "stdout",
     "output_type": "stream",
     "text": [
      "In [62] used 25.6 MiB RAM in 0.16s (system mean cpu 13%, single max cpu 18%), peaked 0.0 MiB above final usage, current RAM usage now 3136.9 MiB\n"
     ]
    }
   ],
   "source": [
    "\n",
    "df = df.with_columns([\n",
    "    pl.col('test_date').str.strptime(\n",
    "        pl.Date,\n",
    "        format=\"%Y-%m-%d\", strict=False\n",
    "    ).alias(\"test_date_as_date\"),\n",
    "    pl.col('first_use_date').str.strptime(\n",
    "        pl.Date,\n",
    "        format=\"%Y-%m-%d\", strict=False\n",
    "    ).alias(\"first_use_date_as_date\")\n",
    "])\n",
    "df.head()"
   ]
  },
  {
   "cell_type": "code",
   "execution_count": 73,
   "id": "87c29ca6-4e72-4803-8879-2377a3685c43",
   "metadata": {
    "tags": []
   },
   "outputs": [
    {
     "data": {
      "text/html": [
       "<div><style>\n",
       ".dataframe > thead > tr > th,\n",
       ".dataframe > tbody > tr > td {\n",
       "  text-align: right;\n",
       "}\n",
       "</style>\n",
       "<small>shape: (5, 19)</small><table border=\"1\" class=\"dataframe\"><thead><tr><th>test_id</th><th>vehicle_id</th><th>test_date</th><th>test_class_id</th><th>test_type</th><th>test_result</th><th>test_mileage</th><th>postcode_area</th><th>make</th><th>model</th><th>colour</th><th>fuel_type</th><th>cylinder_capacity</th><th>first_use_date</th><th>test_date_as_date</th><th>first_use_date_as_date</th><th>test_year</th><th>first_use_year</th><th>years_old</th></tr><tr><td>i64</td><td>i64</td><td>str</td><td>i64</td><td>str</td><td>str</td><td>i64</td><td>str</td><td>str</td><td>str</td><td>str</td><td>str</td><td>i64</td><td>str</td><td>date</td><td>date</td><td>i32</td><td>i32</td><td>i32</td></tr></thead><tbody><tr><td>1488085241</td><td>298646303</td><td>&quot;2021-01-01&quot;</td><td>4</td><td>&quot;NT&quot;</td><td>&quot;P&quot;</td><td>113094</td><td>&quot;PO&quot;</td><td>&quot;VOLKSWAGEN&quot;</td><td>&quot;CADDY&quot;</td><td>&quot;WHITE&quot;</td><td>&quot;DI&quot;</td><td>1598</td><td>&quot;2013-01-01&quot;</td><td>2021-01-01</td><td>2013-01-01</td><td>2021</td><td>2013</td><td>8</td></tr><tr><td>1360139783</td><td>1372832822</td><td>&quot;2021-01-01&quot;</td><td>4</td><td>&quot;NT&quot;</td><td>&quot;P&quot;</td><td>146500</td><td>&quot;LU&quot;</td><td>&quot;VAUXHALL&quot;</td><td>&quot;ASTRA&quot;</td><td>&quot;BLUE&quot;</td><td>&quot;DI&quot;</td><td>1686</td><td>&quot;2006-09-29&quot;</td><td>2021-01-01</td><td>2006-09-29</td><td>2021</td><td>2006</td><td>15</td></tr><tr><td>1232194325</td><td>152373223</td><td>&quot;2021-01-01&quot;</td><td>4</td><td>&quot;NT&quot;</td><td>&quot;F&quot;</td><td>96459</td><td>&quot;DE&quot;</td><td>&quot;VAUXHALL&quot;</td><td>&quot;MOKKA&quot;</td><td>&quot;WHITE&quot;</td><td>&quot;DI&quot;</td><td>1686</td><td>&quot;2013-04-27&quot;</td><td>2021-01-01</td><td>2013-04-27</td><td>2021</td><td>2013</td><td>8</td></tr><tr><td>464521577</td><td>17056716</td><td>&quot;2021-01-01&quot;</td><td>4</td><td>&quot;NT&quot;</td><td>&quot;P&quot;</td><td>201104</td><td>&quot;B&quot;</td><td>&quot;HONDA&quot;</td><td>&quot;JAZZ&quot;</td><td>&quot;BLACK&quot;</td><td>&quot;PE&quot;</td><td>1339</td><td>&quot;2005-10-31&quot;</td><td>2021-01-01</td><td>2005-10-31</td><td>2021</td><td>2005</td><td>16</td></tr><tr><td>848357951</td><td>888720926</td><td>&quot;2021-01-01&quot;</td><td>4</td><td>&quot;NT&quot;</td><td>&quot;P&quot;</td><td>160067</td><td>&quot;IP&quot;</td><td>&quot;PEUGEOT&quot;</td><td>&quot;407&quot;</td><td>&quot;RED&quot;</td><td>&quot;DI&quot;</td><td>1997</td><td>&quot;2007-06-29&quot;</td><td>2021-01-01</td><td>2007-06-29</td><td>2021</td><td>2007</td><td>14</td></tr></tbody></table></div>"
      ],
      "text/plain": [
       "shape: (5, 19)\n",
       "┌────────────┬──────────┬───────────┬────────────┬───┬────────────┬─────────┬────────────┬─────────┐\n",
       "│ test_id    ┆ vehicle_ ┆ test_date ┆ test_class ┆ … ┆ first_use_ ┆ test_ye ┆ first_use_ ┆ years_o │\n",
       "│ ---        ┆ id       ┆ ---       ┆ _id        ┆   ┆ date_as_da ┆ ar      ┆ year       ┆ ld      │\n",
       "│ i64        ┆ ---      ┆ str       ┆ ---        ┆   ┆ te         ┆ ---     ┆ ---        ┆ ---     │\n",
       "│            ┆ i64      ┆           ┆ i64        ┆   ┆ ---        ┆ i32     ┆ i32        ┆ i32     │\n",
       "│            ┆          ┆           ┆            ┆   ┆ date       ┆         ┆            ┆         │\n",
       "╞════════════╪══════════╪═══════════╪════════════╪═══╪════════════╪═════════╪════════════╪═════════╡\n",
       "│ 1488085241 ┆ 29864630 ┆ 2021-01-0 ┆ 4          ┆ … ┆ 2013-01-01 ┆ 2021    ┆ 2013       ┆ 8       │\n",
       "│            ┆ 3        ┆ 1         ┆            ┆   ┆            ┆         ┆            ┆         │\n",
       "│ 1360139783 ┆ 13728328 ┆ 2021-01-0 ┆ 4          ┆ … ┆ 2006-09-29 ┆ 2021    ┆ 2006       ┆ 15      │\n",
       "│            ┆ 22       ┆ 1         ┆            ┆   ┆            ┆         ┆            ┆         │\n",
       "│ 1232194325 ┆ 15237322 ┆ 2021-01-0 ┆ 4          ┆ … ┆ 2013-04-27 ┆ 2021    ┆ 2013       ┆ 8       │\n",
       "│            ┆ 3        ┆ 1         ┆            ┆   ┆            ┆         ┆            ┆         │\n",
       "│ 464521577  ┆ 17056716 ┆ 2021-01-0 ┆ 4          ┆ … ┆ 2005-10-31 ┆ 2021    ┆ 2005       ┆ 16      │\n",
       "│            ┆          ┆ 1         ┆            ┆   ┆            ┆         ┆            ┆         │\n",
       "│ 848357951  ┆ 88872092 ┆ 2021-01-0 ┆ 4          ┆ … ┆ 2007-06-29 ┆ 2021    ┆ 2007       ┆ 14      │\n",
       "│            ┆ 6        ┆ 1         ┆            ┆   ┆            ┆         ┆            ┆         │\n",
       "└────────────┴──────────┴───────────┴────────────┴───┴────────────┴─────────┴────────────┴─────────┘"
      ]
     },
     "execution_count": 73,
     "metadata": {},
     "output_type": "execute_result"
    },
    {
     "name": "stdout",
     "output_type": "stream",
     "text": [
      "In [73] used 38.7 MiB RAM in 0.18s (system mean cpu 12%, single max cpu 21%), peaked 0.0 MiB above final usage, current RAM usage now 3342.9 MiB\n"
     ]
    }
   ],
   "source": [
    "# get year from test_date_as_date\n",
    "df = df.with_columns([df['test_date_as_date'].dt.year().alias('test_year'),\n",
    "                      df['first_use_date_as_date'].dt.year().alias('first_use_year'),\n",
    "                     (df['test_year']-df['first_use_year']).alias('years_old')])\n",
    "\n",
    "#df.head()\n",
    "#df = df.with_columns([])\n",
    "df.head()"
   ]
  },
  {
   "cell_type": "code",
   "execution_count": null,
   "id": "aba235c3-dfc6-4732-ad91-8c6f519df5a8",
   "metadata": {},
   "outputs": [],
   "source": [
    "#dfx['first_use_year'] = dfx['first_use_date'].dt.year\n",
    "\n",
    "#fig, ax = plt.subplots(constrained_layout=True, figsize=(4, 4))\n",
    "#dfx.plot(kind='scatter', x='first_use_year', y='test_mileage', alpha=0.5, ax=ax)\n",
    "#set_commas(ax, y_axis=True)\n",
    "#set_common_mpl_styles(ax, ymin=-2000, title=\"MOT Year 2021\")\n",
    "#ax.set_xlim(xmin=1980)\n",
    "#ax.set_ylim(ymax=400000)"
   ]
  },
  {
   "cell_type": "code",
   "execution_count": 78,
   "id": "d67ce255-227c-4b4d-80ce-66010306406a",
   "metadata": {
    "tags": []
   },
   "outputs": [
    {
     "ename": "AttributeError",
     "evalue": "'DataFrame' object has no attribute 'plot'",
     "output_type": "error",
     "traceback": [
      "\u001b[0;31m---------------------------------------------------------------------------\u001b[0m",
      "\u001b[0;31mAttributeError\u001b[0m                            Traceback (most recent call last)",
      "Cell \u001b[0;32mIn[78], line 2\u001b[0m\n\u001b[1;32m      1\u001b[0m \u001b[38;5;66;03m#df[['years_old', 'test_mileage']].to_pandas()\u001b[39;00m\n\u001b[0;32m----> 2\u001b[0m \u001b[43mdf\u001b[49m\u001b[43m[\u001b[49m\u001b[43m[\u001b[49m\u001b[38;5;124;43m'\u001b[39;49m\u001b[38;5;124;43myears_old\u001b[39;49m\u001b[38;5;124;43m'\u001b[39;49m\u001b[43m,\u001b[49m\u001b[43m \u001b[49m\u001b[38;5;124;43m'\u001b[39;49m\u001b[38;5;124;43mtest_mileage\u001b[39;49m\u001b[38;5;124;43m'\u001b[39;49m\u001b[43m]\u001b[49m\u001b[43m]\u001b[49m\u001b[38;5;241;43m.\u001b[39;49m\u001b[43mplot\u001b[49m()\n",
      "\u001b[0;31mAttributeError\u001b[0m: 'DataFrame' object has no attribute 'plot'"
     ]
    },
    {
     "name": "stdout",
     "output_type": "stream",
     "text": [
      "In [78] used -0.1 MiB RAM in 0.12s (system mean cpu 0%, single max cpu 0%), peaked 0.0 MiB above final usage, current RAM usage now 3366.5 MiB\n"
     ]
    }
   ],
   "source": [
    "#df[['years_old', 'test_mileage']].to_pandas()\n",
    "df[['years_old', 'test_mileage']]."
   ]
  },
  {
   "cell_type": "code",
   "execution_count": 83,
   "id": "6b39c050-01eb-49a7-8a12-55ee0d946508",
   "metadata": {
    "tags": []
   },
   "outputs": [
    {
     "data": {
      "text/plain": [
       "(3362528, 19)"
      ]
     },
     "execution_count": 83,
     "metadata": {},
     "output_type": "execute_result"
    },
    {
     "name": "stdout",
     "output_type": "stream",
     "text": [
      "In [83] used 0.0 MiB RAM in 0.10s (system mean cpu 70%, single max cpu 100%), peaked 0.0 MiB above final usage, current RAM usage now 3447.9 MiB\n"
     ]
    }
   ],
   "source": [
    "df.shape"
   ]
  },
  {
   "cell_type": "code",
   "execution_count": 90,
   "id": "1bfb1b86-0a55-414b-ac0f-3140e7f5c581",
   "metadata": {
    "tags": []
   },
   "outputs": [
    {
     "data": {
      "text/plain": [
       "(331898, 19)"
      ]
     },
     "execution_count": 90,
     "metadata": {},
     "output_type": "execute_result"
    },
    {
     "name": "stdout",
     "output_type": "stream",
     "text": [
      "In [90] used -678.0 MiB RAM in 0.54s (system mean cpu 71%, single max cpu 97%), peaked 907.7 MiB above final usage, current RAM usage now 3989.5 MiB\n"
     ]
    }
   ],
   "source": [
    "df_recent = df.filter(pl.col('years_old') < 25).sample(fraction=0.1)\n",
    "df_recent.shape"
   ]
  },
  {
   "cell_type": "code",
   "execution_count": 91,
   "id": "5e81ca60-3b5e-42bb-8b4f-e6f60460b8a1",
   "metadata": {
    "tags": []
   },
   "outputs": [
    {
     "data": {
      "text/plain": [
       "<matplotlib.collections.PathCollection at 0x7fb4bc1b5590>"
      ]
     },
     "execution_count": 91,
     "metadata": {},
     "output_type": "execute_result"
    },
    {
     "data": {
      "image/png": "[encoded data removed]",
      "text/plain": [
       "<Figure size 640x480 with 1 Axes>"
      ]
     },
     "metadata": {},
     "output_type": "display_data"
    },
    {
     "name": "stdout",
     "output_type": "stream",
     "text": [
      "In [91] used 2.8 MiB RAM in 1.38s (system mean cpu 73%, single max cpu 100%), peaked 0.0 MiB above final usage, current RAM usage now 3992.3 MiB\n"
     ]
    }
   ],
   "source": [
    "plt.scatter(x=df_recent['years_old'], y=df_recent['test_mileage'], alpha=0.1)"
   ]
  },
  {
   "cell_type": "code",
   "execution_count": null,
   "id": "c4457648-25d7-4b7d-b2ec-47c0765b8a2c",
   "metadata": {},
   "outputs": [],
   "source": []
  }
 ],
 "metadata": {
  "kernelspec": {
   "display_name": "Python 3 (ipykernel)",
   "language": "python",
   "name": "python3"
  },
  "language_info": {
   "codemirror_mode": {
    "name": "ipython",
    "version": 3
   },
   "file_extension": ".py",
   "mimetype": "text/x-python",
   "name": "python",
   "nbconvert_exporter": "python",
   "pygments_lexer": "ipython3",
   "version": "3.11.3"
  }
 },
 "nbformat": 4,
 "nbformat_minor": 5
}
