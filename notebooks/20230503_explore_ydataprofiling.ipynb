{
 "cells": [
  {
   "cell_type": "markdown",
   "id": "cf9c22e9-698a-4fb1-aee3-21d47ad5a0fe",
   "metadata": {
    "tags": []
   },
   "source": [
    "# Explore with Pandas 1.5 and ydata profiling\n",
    "\n",
    "Update `DATA_FOLDER` to point at the data, choose a file (I'm using e.g. `files[0]`, `files[1]`, ...), generate a report, then dump it to disk. \n",
    "\n",
    "NOTE we have to manually rename the dumped file to match this Notebook name to keep it aligned.\n",
    "\n",
    "This Notebook takes a 1 million item sample from our files (which might be 3M or much bigger files)."
   ]
  },
  {
   "cell_type": "code",
   "execution_count": 18,
   "id": "a2a1dd62-04db-4b97-8a07-fb2cca1e4277",
   "metadata": {
    "tags": []
   },
   "outputs": [
    {
     "data": {
      "text/plain": [
       "'1.5.3'"
      ]
     },
     "execution_count": 18,
     "metadata": {},
     "output_type": "execute_result"
    }
   ],
   "source": [
    "import pandas as pd\n",
    "import os\n",
    "import glob\n",
    "from ydata_profiling import ProfileReport\n",
    "\n",
    "pd.__version__"
   ]
  },
  {
   "cell_type": "code",
   "execution_count": 19,
   "id": "2eaef733-24c7-45aa-a91f-15520a192546",
   "metadata": {
    "tags": []
   },
   "outputs": [
    {
     "data": {
      "text/plain": [
       "'/home/ian/workspace/data/anonymised_mot_tests/test_result_2021'"
      ]
     },
     "execution_count": 19,
     "metadata": {},
     "output_type": "execute_result"
    }
   ],
   "source": [
    "DATA_FOLDER = '/home/ian/workspace/data/anonymised_mot_tests'\n",
    "DATA_FOLDER = os.path.join(DATA_FOLDER, 'test_result_2021')\n",
    "DATA_FOLDER"
   ]
  },
  {
   "cell_type": "code",
   "execution_count": 23,
   "id": "c59063bd-1062-4278-af62-8b0b9f891d84",
   "metadata": {
    "tags": []
   },
   "outputs": [
    {
     "data": {
      "text/plain": [
       "['/home/ian/workspace/data/anonymised_mot_tests/test_result_2021/test_result_20220531131730_32355.csv',\n",
       " '/home/ian/workspace/data/anonymised_mot_tests/test_result_2021/test_result_20220531131730_32361.csv',\n",
       " '/home/ian/workspace/data/anonymised_mot_tests/test_result_2021/test_result_20220531131730_32372.csv',\n",
       " '/home/ian/workspace/data/anonymised_mot_tests/test_result_2021/test_result_20220531131730_32367.csv',\n",
       " '/home/ian/workspace/data/anonymised_mot_tests/test_result_2021/test_result_20220531131730_32365.csv',\n",
       " '/home/ian/workspace/data/anonymised_mot_tests/test_result_2021/test_result_20220531131730_32386.csv',\n",
       " '/home/ian/workspace/data/anonymised_mot_tests/test_result_2021/tiny.csv',\n",
       " '/home/ian/workspace/data/anonymised_mot_tests/test_result_2021/test_result_20220531131730_32357.csv',\n",
       " '/home/ian/workspace/data/anonymised_mot_tests/test_result_2021/test_result_20220531131730_32378.csv',\n",
       " '/home/ian/workspace/data/anonymised_mot_tests/test_result_2021/test_result_20220531131730_32370.csv',\n",
       " '/home/ian/workspace/data/anonymised_mot_tests/test_result_2021/test_result_20220531131730_32360.csv',\n",
       " '/home/ian/workspace/data/anonymised_mot_tests/test_result_2021/test_result_20220531131730_32384.csv',\n",
       " '/home/ian/workspace/data/anonymised_mot_tests/test_result_2021/test_result_20220531131730_32375.csv']"
      ]
     },
     "execution_count": 23,
     "metadata": {},
     "output_type": "execute_result"
    }
   ],
   "source": [
    "files = glob.glob(DATA_FOLDER+\"/*.csv\")\n",
    "files"
   ]
  },
  {
   "cell_type": "code",
   "execution_count": 76,
   "id": "5312fc17-c7e1-4062-a39a-94ce41b40d48",
   "metadata": {
    "tags": []
   },
   "outputs": [
    {
     "data": {
      "text/plain": [
       "('/home/ian/workspace/data/anonymised_mot_tests/test_result_2021/test_result_20220531131730_32372.csv',\n",
       " 'test_result_20220531131730_32372.csv')"
      ]
     },
     "metadata": {},
     "output_type": "display_data"
    }
   ],
   "source": [
    "filename = files[2] # CHOOSE FILE OFFSET HERE FROM THE LIST ABOVE\n",
    "\n",
    "only_filename = os.path.split(filename)[-1]\n",
    "only_filename\n",
    "display((filename, only_filename))\n",
    "\n",
    "df = pd.read_csv(filename)"
   ]
  },
  {
   "cell_type": "code",
   "execution_count": 77,
   "id": "e0ac9392-9dab-4402-88b6-13cb08d38c7d",
   "metadata": {
    "tags": []
   },
   "outputs": [],
   "source": [
    "#pd.to_datetime(df['test_date']) # this field converts ok"
   ]
  },
  {
   "cell_type": "code",
   "execution_count": 78,
   "id": "33a02acb-4336-4cb0-a429-4ae26c9ccc68",
   "metadata": {
    "tags": []
   },
   "outputs": [],
   "source": [
    "#df_shrink = df.copy()"
   ]
  },
  {
   "cell_type": "code",
   "execution_count": 79,
   "id": "91d8f09b-f265-487c-8608-4e1fa3743e3c",
   "metadata": {
    "tags": []
   },
   "outputs": [],
   "source": [
    "#cat_cols = ['test_class_id', 'test_type', 'test_result', 'postcode_area', 'make', 'model', 'colour', 'fuel_type']\n",
    "#for cat_col in cat_cols:\n",
    "#    df_shrink[cat_col] = df[cat_col].astype('category')"
   ]
  },
  {
   "cell_type": "code",
   "execution_count": 80,
   "id": "7c3304f1-1ba0-4954-b6f0-8b64c073afda",
   "metadata": {
    "tags": []
   },
   "outputs": [],
   "source": [
    "#f\"{df_shrink.memory_usage(deep=True).sum():,} bytes\""
   ]
  },
  {
   "cell_type": "code",
   "execution_count": 81,
   "id": "f2c18b64-0232-4b20-ac09-02d14349f4ee",
   "metadata": {
    "tags": []
   },
   "outputs": [],
   "source": [
    "#f\"{df_shrink.shape[0]:,}\""
   ]
  },
  {
   "cell_type": "code",
   "execution_count": 82,
   "id": "fd7fd89a-3e8c-4107-a743-0b9609acfc8a",
   "metadata": {
    "tags": []
   },
   "outputs": [],
   "source": [
    "#df_shrink.info()"
   ]
  },
  {
   "cell_type": "code",
   "execution_count": 83,
   "id": "75887ee6-6225-44bb-b8ef-ae7582e88672",
   "metadata": {
    "tags": []
   },
   "outputs": [],
   "source": [
    "#sample = df_shrink.sample(100)\n",
    "#from pandas_profiling import ProfileReport\n",
    "#from ydata_profiling import ProfileReport\n",
    "#profile = ProfileReport(df, title=\"Profiling Report\")"
   ]
  },
  {
   "cell_type": "code",
   "execution_count": 84,
   "id": "65e92a90-d012-49b8-baa1-2e07867be250",
   "metadata": {
    "tags": []
   },
   "outputs": [
    {
     "name": "stdout",
     "output_type": "stream",
     "text": [
      "<class 'pandas.core.frame.DataFrame'>\n",
      "RangeIndex: 3362480 entries, 0 to 3362479\n",
      "Data columns (total 14 columns):\n",
      " #   Column             Dtype  \n",
      "---  ------             -----  \n",
      " 0   test_id            int64  \n",
      " 1   vehicle_id         int64  \n",
      " 2   test_date          object \n",
      " 3   test_class_id      int64  \n",
      " 4   test_type          object \n",
      " 5   test_result        object \n",
      " 6   test_mileage       float64\n",
      " 7   postcode_area      object \n",
      " 8   make               object \n",
      " 9   model              object \n",
      " 10  colour             object \n",
      " 11  fuel_type          object \n",
      " 12  cylinder_capacity  float64\n",
      " 13  first_use_date     object \n",
      "dtypes: float64(2), int64(3), object(9)\n",
      "memory usage: 359.2+ MB\n"
     ]
    }
   ],
   "source": [
    "df.info()"
   ]
  },
  {
   "cell_type": "code",
   "execution_count": 85,
   "id": "c931ecd7-b5dc-42d1-a932-bda2e465bd9c",
   "metadata": {
    "tags": []
   },
   "outputs": [
    {
     "data": {
      "text/html": [
       "<div>\n",
       "<style scoped>\n",
       "    .dataframe tbody tr th:only-of-type {\n",
       "        vertical-align: middle;\n",
       "    }\n",
       "\n",
       "    .dataframe tbody tr th {\n",
       "        vertical-align: top;\n",
       "    }\n",
       "\n",
       "    .dataframe thead th {\n",
       "        text-align: right;\n",
       "    }\n",
       "</style>\n",
       "<table border=\"1\" class=\"dataframe\">\n",
       "  <thead>\n",
       "    <tr style=\"text-align: right;\">\n",
       "      <th></th>\n",
       "      <th>test_id</th>\n",
       "      <th>vehicle_id</th>\n",
       "      <th>test_date</th>\n",
       "      <th>test_class_id</th>\n",
       "      <th>test_type</th>\n",
       "      <th>test_result</th>\n",
       "      <th>test_mileage</th>\n",
       "      <th>postcode_area</th>\n",
       "      <th>make</th>\n",
       "      <th>model</th>\n",
       "      <th>colour</th>\n",
       "      <th>fuel_type</th>\n",
       "      <th>cylinder_capacity</th>\n",
       "      <th>first_use_date</th>\n",
       "    </tr>\n",
       "  </thead>\n",
       "  <tbody>\n",
       "    <tr>\n",
       "      <th>count</th>\n",
       "      <td>3.362480e+06</td>\n",
       "      <td>3.362480e+06</td>\n",
       "      <td>3362480</td>\n",
       "      <td>3.362480e+06</td>\n",
       "      <td>3362480</td>\n",
       "      <td>3362480</td>\n",
       "      <td>3.336966e+06</td>\n",
       "      <td>3362480</td>\n",
       "      <td>3362480</td>\n",
       "      <td>3362476</td>\n",
       "      <td>3362480</td>\n",
       "      <td>3362480</td>\n",
       "      <td>3.354313e+06</td>\n",
       "      <td>3362480</td>\n",
       "    </tr>\n",
       "    <tr>\n",
       "      <th>unique</th>\n",
       "      <td>NaN</td>\n",
       "      <td>NaN</td>\n",
       "      <td>364</td>\n",
       "      <td>NaN</td>\n",
       "      <td>3</td>\n",
       "      <td>6</td>\n",
       "      <td>NaN</td>\n",
       "      <td>119</td>\n",
       "      <td>2131</td>\n",
       "      <td>13530</td>\n",
       "      <td>20</td>\n",
       "      <td>14</td>\n",
       "      <td>NaN</td>\n",
       "      <td>16277</td>\n",
       "    </tr>\n",
       "    <tr>\n",
       "      <th>top</th>\n",
       "      <td>NaN</td>\n",
       "      <td>NaN</td>\n",
       "      <td>2021-09-28</td>\n",
       "      <td>NaN</td>\n",
       "      <td>NT</td>\n",
       "      <td>P</td>\n",
       "      <td>NaN</td>\n",
       "      <td>B</td>\n",
       "      <td>FORD</td>\n",
       "      <td>FIESTA</td>\n",
       "      <td>BLACK</td>\n",
       "      <td>PE</td>\n",
       "      <td>NaN</td>\n",
       "      <td>2017-03-31</td>\n",
       "    </tr>\n",
       "    <tr>\n",
       "      <th>freq</th>\n",
       "      <td>NaN</td>\n",
       "      <td>NaN</td>\n",
       "      <td>16339</td>\n",
       "      <td>NaN</td>\n",
       "      <td>2780304</td>\n",
       "      <td>2531384</td>\n",
       "      <td>NaN</td>\n",
       "      <td>96754</td>\n",
       "      <td>486574</td>\n",
       "      <td>147217</td>\n",
       "      <td>643272</td>\n",
       "      <td>1764038</td>\n",
       "      <td>NaN</td>\n",
       "      <td>12579</td>\n",
       "    </tr>\n",
       "    <tr>\n",
       "      <th>mean</th>\n",
       "      <td>1.000260e+09</td>\n",
       "      <td>7.499240e+08</td>\n",
       "      <td>NaN</td>\n",
       "      <td>4.027624e+00</td>\n",
       "      <td>NaN</td>\n",
       "      <td>NaN</td>\n",
       "      <td>7.416089e+04</td>\n",
       "      <td>NaN</td>\n",
       "      <td>NaN</td>\n",
       "      <td>NaN</td>\n",
       "      <td>NaN</td>\n",
       "      <td>NaN</td>\n",
       "      <td>1.712048e+03</td>\n",
       "      <td>NaN</td>\n",
       "    </tr>\n",
       "    <tr>\n",
       "      <th>std</th>\n",
       "      <td>5.773136e+08</td>\n",
       "      <td>4.330941e+08</td>\n",
       "      <td>NaN</td>\n",
       "      <td>6.211804e-01</td>\n",
       "      <td>NaN</td>\n",
       "      <td>NaN</td>\n",
       "      <td>4.878046e+04</td>\n",
       "      <td>NaN</td>\n",
       "      <td>NaN</td>\n",
       "      <td>NaN</td>\n",
       "      <td>NaN</td>\n",
       "      <td>NaN</td>\n",
       "      <td>6.056690e+02</td>\n",
       "      <td>NaN</td>\n",
       "    </tr>\n",
       "    <tr>\n",
       "      <th>min</th>\n",
       "      <td>8.430000e+02</td>\n",
       "      <td>6.880000e+02</td>\n",
       "      <td>NaN</td>\n",
       "      <td>1.000000e+00</td>\n",
       "      <td>NaN</td>\n",
       "      <td>NaN</td>\n",
       "      <td>1.000000e+00</td>\n",
       "      <td>NaN</td>\n",
       "      <td>NaN</td>\n",
       "      <td>NaN</td>\n",
       "      <td>NaN</td>\n",
       "      <td>NaN</td>\n",
       "      <td>0.000000e+00</td>\n",
       "      <td>NaN</td>\n",
       "    </tr>\n",
       "    <tr>\n",
       "      <th>25%</th>\n",
       "      <td>5.001196e+08</td>\n",
       "      <td>3.751955e+08</td>\n",
       "      <td>NaN</td>\n",
       "      <td>4.000000e+00</td>\n",
       "      <td>NaN</td>\n",
       "      <td>NaN</td>\n",
       "      <td>3.763900e+04</td>\n",
       "      <td>NaN</td>\n",
       "      <td>NaN</td>\n",
       "      <td>NaN</td>\n",
       "      <td>NaN</td>\n",
       "      <td>NaN</td>\n",
       "      <td>1.349000e+03</td>\n",
       "      <td>NaN</td>\n",
       "    </tr>\n",
       "    <tr>\n",
       "      <th>50%</th>\n",
       "      <td>1.000688e+09</td>\n",
       "      <td>7.496258e+08</td>\n",
       "      <td>NaN</td>\n",
       "      <td>4.000000e+00</td>\n",
       "      <td>NaN</td>\n",
       "      <td>NaN</td>\n",
       "      <td>6.566700e+04</td>\n",
       "      <td>NaN</td>\n",
       "      <td>NaN</td>\n",
       "      <td>NaN</td>\n",
       "      <td>NaN</td>\n",
       "      <td>NaN</td>\n",
       "      <td>1.598000e+03</td>\n",
       "      <td>NaN</td>\n",
       "    </tr>\n",
       "    <tr>\n",
       "      <th>75%</th>\n",
       "      <td>1.499978e+09</td>\n",
       "      <td>1.125006e+09</td>\n",
       "      <td>NaN</td>\n",
       "      <td>4.000000e+00</td>\n",
       "      <td>NaN</td>\n",
       "      <td>NaN</td>\n",
       "      <td>1.008020e+05</td>\n",
       "      <td>NaN</td>\n",
       "      <td>NaN</td>\n",
       "      <td>NaN</td>\n",
       "      <td>NaN</td>\n",
       "      <td>NaN</td>\n",
       "      <td>1.995000e+03</td>\n",
       "      <td>NaN</td>\n",
       "    </tr>\n",
       "    <tr>\n",
       "      <th>max</th>\n",
       "      <td>1.999999e+09</td>\n",
       "      <td>1.500000e+09</td>\n",
       "      <td>NaN</td>\n",
       "      <td>7.000000e+00</td>\n",
       "      <td>NaN</td>\n",
       "      <td>NaN</td>\n",
       "      <td>9.999990e+05</td>\n",
       "      <td>NaN</td>\n",
       "      <td>NaN</td>\n",
       "      <td>NaN</td>\n",
       "      <td>NaN</td>\n",
       "      <td>NaN</td>\n",
       "      <td>6.750000e+04</td>\n",
       "      <td>NaN</td>\n",
       "    </tr>\n",
       "  </tbody>\n",
       "</table>\n",
       "</div>"
      ],
      "text/plain": [
       "             test_id    vehicle_id   test_date  test_class_id test_type  \\\n",
       "count   3.362480e+06  3.362480e+06     3362480   3.362480e+06   3362480   \n",
       "unique           NaN           NaN         364            NaN         3   \n",
       "top              NaN           NaN  2021-09-28            NaN        NT   \n",
       "freq             NaN           NaN       16339            NaN   2780304   \n",
       "mean    1.000260e+09  7.499240e+08         NaN   4.027624e+00       NaN   \n",
       "std     5.773136e+08  4.330941e+08         NaN   6.211804e-01       NaN   \n",
       "min     8.430000e+02  6.880000e+02         NaN   1.000000e+00       NaN   \n",
       "25%     5.001196e+08  3.751955e+08         NaN   4.000000e+00       NaN   \n",
       "50%     1.000688e+09  7.496258e+08         NaN   4.000000e+00       NaN   \n",
       "75%     1.499978e+09  1.125006e+09         NaN   4.000000e+00       NaN   \n",
       "max     1.999999e+09  1.500000e+09         NaN   7.000000e+00       NaN   \n",
       "\n",
       "       test_result  test_mileage postcode_area     make    model   colour  \\\n",
       "count      3362480  3.336966e+06       3362480  3362480  3362476  3362480   \n",
       "unique           6           NaN           119     2131    13530       20   \n",
       "top              P           NaN             B     FORD   FIESTA    BLACK   \n",
       "freq       2531384           NaN         96754   486574   147217   643272   \n",
       "mean           NaN  7.416089e+04           NaN      NaN      NaN      NaN   \n",
       "std            NaN  4.878046e+04           NaN      NaN      NaN      NaN   \n",
       "min            NaN  1.000000e+00           NaN      NaN      NaN      NaN   \n",
       "25%            NaN  3.763900e+04           NaN      NaN      NaN      NaN   \n",
       "50%            NaN  6.566700e+04           NaN      NaN      NaN      NaN   \n",
       "75%            NaN  1.008020e+05           NaN      NaN      NaN      NaN   \n",
       "max            NaN  9.999990e+05           NaN      NaN      NaN      NaN   \n",
       "\n",
       "       fuel_type  cylinder_capacity first_use_date  \n",
       "count    3362480       3.354313e+06        3362480  \n",
       "unique        14                NaN          16277  \n",
       "top           PE                NaN     2017-03-31  \n",
       "freq     1764038                NaN          12579  \n",
       "mean         NaN       1.712048e+03            NaN  \n",
       "std          NaN       6.056690e+02            NaN  \n",
       "min          NaN       0.000000e+00            NaN  \n",
       "25%          NaN       1.349000e+03            NaN  \n",
       "50%          NaN       1.598000e+03            NaN  \n",
       "75%          NaN       1.995000e+03            NaN  \n",
       "max          NaN       6.750000e+04            NaN  "
      ]
     },
     "execution_count": 85,
     "metadata": {},
     "output_type": "execute_result"
    }
   ],
   "source": [
    "df.describe(include='all')"
   ]
  },
  {
   "cell_type": "code",
   "execution_count": 86,
   "id": "5fae8953-b983-42cd-8d3f-07aef7942570",
   "metadata": {
    "tags": []
   },
   "outputs": [],
   "source": [
    "df_sample = df.sample(1_000_000)"
   ]
  },
  {
   "cell_type": "code",
   "execution_count": null,
   "id": "7d333572-6c53-48c4-90b2-5bf5e7c1573c",
   "metadata": {},
   "outputs": [
    {
     "data": {
      "application/vnd.jupyter.widget-view+json": {
       "model_id": "a0efc024aee64246be5953e2b1807967",
       "version_major": 2,
       "version_minor": 0
      },
      "text/plain": [
       "Summarize dataset:   0%|          | 0/5 [00:00<?, ?it/s]"
      ]
     },
     "metadata": {},
     "output_type": "display_data"
    }
   ],
   "source": [
    "# https://github.com/ydataai/ydata-profiling\n",
    "profile = ProfileReport(df_sample)\n",
    "\n",
    "profile.to_notebook_iframe()"
   ]
  },
  {
   "cell_type": "code",
   "execution_count": null,
   "id": "4033f577-c191-42cf-a4b2-f4a05fb9abe1",
   "metadata": {},
   "outputs": [],
   "source": [
    "output_filename = f'ydata_profile_{only_filename}.html'\n",
    "print(f\"Writing to: {output_filename}\")\n",
    "# NOTE Ian should manually rename these to mirror this notebook's name\n",
    "profile.to_file()"
   ]
  },
  {
   "cell_type": "code",
   "execution_count": null,
   "id": "4ae816bb-7815-48dd-86bc-cc1a334079d1",
   "metadata": {},
   "outputs": [],
   "source": []
  }
 ],
 "metadata": {
  "kernelspec": {
   "display_name": "Python 3 (ipykernel)",
   "language": "python",
   "name": "python3"
  },
  "language_info": {
   "codemirror_mode": {
    "name": "ipython",
    "version": 3
   },
   "file_extension": ".py",
   "mimetype": "text/x-python",
   "name": "python",
   "nbconvert_exporter": "python",
   "pygments_lexer": "ipython3",
   "version": "3.11.3"
  }
 },
 "nbformat": 4,
 "nbformat_minor": 5
}
