{
 "cells": [
  {
   "cell_type": "markdown",
   "id": "cf9c22e9-698a-4fb1-aee3-21d47ad5a0fe",
   "metadata": {
    "tags": []
   },
   "source": [
    "# Explore with Pandas"
   ]
  },
  {
   "cell_type": "code",
   "execution_count": 1,
   "id": "a2a1dd62-04db-4b97-8a07-fb2cca1e4277",
   "metadata": {
    "tags": []
   },
   "outputs": [
    {
     "data": {
      "text/plain": [
       "'2.0.1'"
      ]
     },
     "metadata": {},
     "output_type": "display_data"
    },
    {
     "data": {
      "text/plain": [
       "'memory profile enabled'"
      ]
     },
     "execution_count": 1,
     "metadata": {},
     "output_type": "execute_result"
    },
    {
     "name": "stdout",
     "output_type": "stream",
     "text": [
      "In [1] used 0.0000 MiB RAM in 0.11s, peaked 0.00 MiB above current, total RAM usage 135.41 MiB\n"
     ]
    }
   ],
   "source": [
    "import pandas as pd\n",
    "display(pd.__version__)\n",
    "\n",
    "import ipython_memory_usage as imu\n",
    "%ipython_memory_usage_start"
   ]
  },
  {
   "cell_type": "code",
   "execution_count": 2,
   "id": "5374f506-57f8-44c2-82ba-a780691273b9",
   "metadata": {
    "tags": []
   },
   "outputs": [
    {
     "name": "stdout",
     "output_type": "stream",
     "text": [
      "0_1_explore_panderaotherfile.ipynb  dft_test_result_2021.zip  test_item_2019\n",
      "0_explore.ipynb\t\t\t    docs\t\t      test_item_2020\n",
      "0_explore_profiling.ipynb\t    learnings.txt\t      test_item_2021\n",
      "2_try_polars.ipynb\t\t    README.md\t\t      test_result_2019\n",
      "dft_test_item_2021.zip\t\t    requirements_pd15.txt     test_result_2020\n",
      "dft_test_result_2020.zip\t    requirements.txt\t      test_result_2021\n",
      "In [2] used 0.4883 MiB RAM in 0.22s, peaked 0.00 MiB above current, total RAM usage 135.89 MiB\n"
     ]
    }
   ],
   "source": [
    "!ls"
   ]
  },
  {
   "cell_type": "code",
   "execution_count": 3,
   "id": "c59063bd-1062-4278-af62-8b0b9f891d84",
   "metadata": {
    "tags": []
   },
   "outputs": [
    {
     "name": "stdout",
     "output_type": "stream",
     "text": [
      "total 4346412\n",
      "drwxrwxr-x 10 ian ian      4096 May  9 10:41 \u001b[0m\u001b[01;34m..\u001b[0m/\n",
      "-rw-rw-r--  1 ian ian    109946 May  1 10:00 tiny.csv\n",
      "drwxrwxr-x  2 ian ian      4096 May  1 10:00 \u001b[01;34m.\u001b[0m/\n",
      "-rw-r--r--  1 ian ian 370591916 May 31  2022 test_result_20220531131730_32355.csv\n",
      "-rw-r--r--  1 ian ian 370584177 May 31  2022 test_result_20220531131730_32357.csv\n",
      "-rw-r--r--  1 ian ian 371195101 May 31  2022 test_result_20220531131730_32360.csv\n",
      "-rw-r--r--  1 ian ian 370681200 May 31  2022 test_result_20220531131730_32361.csv\n",
      "-rw-r--r--  1 ian ian 371006342 May 31  2022 test_result_20220531131730_32365.csv\n",
      "-rw-r--r--  1 ian ian 371116837 May 31  2022 test_result_20220531131730_32367.csv\n",
      "-rw-r--r--  1 ian ian 370669369 May 31  2022 test_result_20220531131730_32370.csv\n",
      "-rw-r--r--  1 ian ian 370581748 May 31  2022 test_result_20220531131730_32372.csv\n",
      "-rw-r--r--  1 ian ian 370670092 May 31  2022 test_result_20220531131730_32375.csv\n",
      "-rw-r--r--  1 ian ian 371339397 May 31  2022 test_result_20220531131730_32378.csv\n",
      "-rw-r--r--  1 ian ian 371123609 May 31  2022 test_result_20220531131730_32384.csv\n",
      "-rw-r--r--  1 ian ian 370865904 May 31  2022 test_result_20220531131730_32386.csv\n",
      "In [3] used 0.0078 MiB RAM in 0.21s, peaked 0.00 MiB above current, total RAM usage 135.90 MiB\n"
     ]
    }
   ],
   "source": [
    "ls -lta test_result_2021"
   ]
  },
  {
   "cell_type": "code",
   "execution_count": 4,
   "id": "5312fc17-c7e1-4062-a39a-94ce41b40d48",
   "metadata": {
    "tags": []
   },
   "outputs": [
    {
     "name": "stdout",
     "output_type": "stream",
     "text": [
      "In [4] used 417.0117 MiB RAM in 2.77s, peaked 281.85 MiB above current, total RAM usage 552.91 MiB\n"
     ]
    }
   ],
   "source": [
    "#filename = 'test_result_2021/test_result_20220531131730_32355.csv'\n",
    "filename = 'test_result_2021/test_result_20220531131730_32357.csv'\n",
    "\n",
    "df = pd.read_csv(filename)"
   ]
  },
  {
   "cell_type": "code",
   "execution_count": 5,
   "id": "9dd7d8b6-aed5-4272-9ab0-f2c5a6eb1125",
   "metadata": {
    "tags": []
   },
   "outputs": [
    {
     "name": "stdout",
     "output_type": "stream",
     "text": [
      "<class 'pandas.core.frame.DataFrame'>\n",
      "RangeIndex: 3362449 entries, 0 to 3362448\n",
      "Data columns (total 14 columns):\n",
      " #   Column             Dtype  \n",
      "---  ------             -----  \n",
      " 0   test_id            int64  \n",
      " 1   vehicle_id         int64  \n",
      " 2   test_date          object \n",
      " 3   test_class_id      int64  \n",
      " 4   test_type          object \n",
      " 5   test_result        object \n",
      " 6   test_mileage       float64\n",
      " 7   postcode_area      object \n",
      " 8   make               object \n",
      " 9   model              object \n",
      " 10  colour             object \n",
      " 11  fuel_type          object \n",
      " 12  cylinder_capacity  float64\n",
      " 13  first_use_date     object \n",
      "dtypes: float64(2), int64(3), object(9)\n",
      "memory usage: 359.1+ MB\n",
      "In [5] used 1.4375 MiB RAM in 0.11s, peaked 0.00 MiB above current, total RAM usage 554.35 MiB\n"
     ]
    }
   ],
   "source": [
    "df.info()"
   ]
  },
  {
   "cell_type": "code",
   "execution_count": 6,
   "id": "3e6912a5-2093-4b57-9852-f2eac63a3e9f",
   "metadata": {
    "tags": []
   },
   "outputs": [
    {
     "data": {
      "text/plain": [
       "'2,005,450,190 bytes'"
      ]
     },
     "execution_count": 6,
     "metadata": {},
     "output_type": "execute_result"
    },
    {
     "name": "stdout",
     "output_type": "stream",
     "text": [
      "In [6] used 0.0234 MiB RAM in 1.44s, peaked 0.00 MiB above current, total RAM usage 554.38 MiB\n"
     ]
    }
   ],
   "source": [
    "f\"{df.memory_usage(deep=True).sum():,} bytes\""
   ]
  },
  {
   "cell_type": "code",
   "execution_count": 7,
   "id": "b33281d3-01bc-42d7-9038-471ff822f63a",
   "metadata": {
    "tags": []
   },
   "outputs": [
    {
     "data": {
      "text/html": [
       "<div>\n",
       "<style scoped>\n",
       "    .dataframe tbody tr th:only-of-type {\n",
       "        vertical-align: middle;\n",
       "    }\n",
       "\n",
       "    .dataframe tbody tr th {\n",
       "        vertical-align: top;\n",
       "    }\n",
       "\n",
       "    .dataframe thead th {\n",
       "        text-align: right;\n",
       "    }\n",
       "</style>\n",
       "<table border=\"1\" class=\"dataframe\">\n",
       "  <thead>\n",
       "    <tr style=\"text-align: right;\">\n",
       "      <th></th>\n",
       "      <th>test_id</th>\n",
       "      <th>vehicle_id</th>\n",
       "      <th>test_date</th>\n",
       "      <th>test_class_id</th>\n",
       "      <th>test_type</th>\n",
       "      <th>test_result</th>\n",
       "      <th>test_mileage</th>\n",
       "      <th>postcode_area</th>\n",
       "      <th>make</th>\n",
       "      <th>model</th>\n",
       "      <th>colour</th>\n",
       "      <th>fuel_type</th>\n",
       "      <th>cylinder_capacity</th>\n",
       "      <th>first_use_date</th>\n",
       "    </tr>\n",
       "  </thead>\n",
       "  <tbody>\n",
       "    <tr>\n",
       "      <th>1873659</th>\n",
       "      <td>1449087189</td>\n",
       "      <td>731980517</td>\n",
       "      <td>2021-08-10</td>\n",
       "      <td>4</td>\n",
       "      <td>NT</td>\n",
       "      <td>P</td>\n",
       "      <td>22892.0</td>\n",
       "      <td>BS</td>\n",
       "      <td>KIA</td>\n",
       "      <td>RIO</td>\n",
       "      <td>BLACK</td>\n",
       "      <td>PE</td>\n",
       "      <td>1248.0</td>\n",
       "      <td>2015-03-31</td>\n",
       "    </tr>\n",
       "    <tr>\n",
       "      <th>888414</th>\n",
       "      <td>1810928197</td>\n",
       "      <td>841575306</td>\n",
       "      <td>2021-03-26</td>\n",
       "      <td>4</td>\n",
       "      <td>NT</td>\n",
       "      <td>F</td>\n",
       "      <td>70346.0</td>\n",
       "      <td>GL</td>\n",
       "      <td>VAUXHALL</td>\n",
       "      <td>CORSA</td>\n",
       "      <td>BLACK</td>\n",
       "      <td>PE</td>\n",
       "      <td>1364.0</td>\n",
       "      <td>2006-09-28</td>\n",
       "    </tr>\n",
       "    <tr>\n",
       "      <th>2508380</th>\n",
       "      <td>108849951</td>\n",
       "      <td>631302308</td>\n",
       "      <td>2021-10-07</td>\n",
       "      <td>4</td>\n",
       "      <td>NT</td>\n",
       "      <td>P</td>\n",
       "      <td>21140.0</td>\n",
       "      <td>LE</td>\n",
       "      <td>HYUNDAI</td>\n",
       "      <td>IX20</td>\n",
       "      <td>SILVER</td>\n",
       "      <td>PE</td>\n",
       "      <td>1396.0</td>\n",
       "      <td>2011-10-26</td>\n",
       "    </tr>\n",
       "    <tr>\n",
       "      <th>922141</th>\n",
       "      <td>943082885</td>\n",
       "      <td>828746585</td>\n",
       "      <td>2021-03-31</td>\n",
       "      <td>4</td>\n",
       "      <td>NT</td>\n",
       "      <td>P</td>\n",
       "      <td>80152.0</td>\n",
       "      <td>SY</td>\n",
       "      <td>SKODA</td>\n",
       "      <td>ROOMSTER</td>\n",
       "      <td>SILVER</td>\n",
       "      <td>DI</td>\n",
       "      <td>1598.0</td>\n",
       "      <td>2013-03-01</td>\n",
       "    </tr>\n",
       "    <tr>\n",
       "      <th>3266481</th>\n",
       "      <td>102511621</td>\n",
       "      <td>1416986146</td>\n",
       "      <td>2021-12-14</td>\n",
       "      <td>4</td>\n",
       "      <td>NT</td>\n",
       "      <td>F</td>\n",
       "      <td>125806.0</td>\n",
       "      <td>NN</td>\n",
       "      <td>TOYOTA</td>\n",
       "      <td>YARIS</td>\n",
       "      <td>SILVER</td>\n",
       "      <td>PE</td>\n",
       "      <td>1299.0</td>\n",
       "      <td>2001-05-26</td>\n",
       "    </tr>\n",
       "  </tbody>\n",
       "</table>\n",
       "</div>"
      ],
      "text/plain": [
       "            test_id  vehicle_id   test_date  test_class_id test_type   \n",
       "1873659  1449087189   731980517  2021-08-10              4        NT  \\\n",
       "888414   1810928197   841575306  2021-03-26              4        NT   \n",
       "2508380   108849951   631302308  2021-10-07              4        NT   \n",
       "922141    943082885   828746585  2021-03-31              4        NT   \n",
       "3266481   102511621  1416986146  2021-12-14              4        NT   \n",
       "\n",
       "        test_result  test_mileage postcode_area      make     model  colour   \n",
       "1873659           P       22892.0            BS       KIA       RIO   BLACK  \\\n",
       "888414            F       70346.0            GL  VAUXHALL     CORSA   BLACK   \n",
       "2508380           P       21140.0            LE   HYUNDAI      IX20  SILVER   \n",
       "922141            P       80152.0            SY     SKODA  ROOMSTER  SILVER   \n",
       "3266481           F      125806.0            NN    TOYOTA     YARIS  SILVER   \n",
       "\n",
       "        fuel_type  cylinder_capacity first_use_date  \n",
       "1873659        PE             1248.0     2015-03-31  \n",
       "888414         PE             1364.0     2006-09-28  \n",
       "2508380        PE             1396.0     2011-10-26  \n",
       "922141         DI             1598.0     2013-03-01  \n",
       "3266481        PE             1299.0     2001-05-26  "
      ]
     },
     "execution_count": 7,
     "metadata": {},
     "output_type": "execute_result"
    },
    {
     "name": "stdout",
     "output_type": "stream",
     "text": [
      "In [7] used 25.8711 MiB RAM in 0.20s, peaked 0.00 MiB above current, total RAM usage 580.25 MiB\n"
     ]
    }
   ],
   "source": [
    "df.sample(5)"
   ]
  },
  {
   "cell_type": "code",
   "execution_count": 66,
   "id": "3def7927-0f46-4dd2-85f0-597dc8733e6c",
   "metadata": {
    "tags": []
   },
   "outputs": [
    {
     "ename": "AssertionError",
     "evalue": "",
     "output_type": "error",
     "traceback": [
      "\u001b[0;31m---------------------------------------------------------------------------\u001b[0m",
      "\u001b[0;31mAssertionError\u001b[0m                            Traceback (most recent call last)",
      "Cell \u001b[0;32mIn[66], line 3\u001b[0m\n\u001b[1;32m      1\u001b[0m ser_first_use_date \u001b[38;5;241m=\u001b[39m pd\u001b[38;5;241m.\u001b[39mto_datetime(df[\u001b[38;5;124m'\u001b[39m\u001b[38;5;124mfirst_use_date\u001b[39m\u001b[38;5;124m'\u001b[39m], errors\u001b[38;5;241m=\u001b[39m\u001b[38;5;124m'\u001b[39m\u001b[38;5;124mcoerce\u001b[39m\u001b[38;5;124m'\u001b[39m, yearfirst\u001b[38;5;241m=\u001b[39m\u001b[38;5;28;01mTrue\u001b[39;00m, dayfirst\u001b[38;5;241m=\u001b[39m\u001b[38;5;28;01mFalse\u001b[39;00m)\n\u001b[1;32m      2\u001b[0m ser_first_use_date_fmt \u001b[38;5;241m=\u001b[39m pd\u001b[38;5;241m.\u001b[39mto_datetime(df[\u001b[38;5;124m'\u001b[39m\u001b[38;5;124mfirst_use_date\u001b[39m\u001b[38;5;124m'\u001b[39m], \u001b[38;5;28mformat\u001b[39m\u001b[38;5;241m=\u001b[39m\u001b[38;5;124m\"\u001b[39m\u001b[38;5;124m%\u001b[39m\u001b[38;5;124mY-\u001b[39m\u001b[38;5;124m%\u001b[39m\u001b[38;5;124mm-\u001b[39m\u001b[38;5;132;01m%d\u001b[39;00m\u001b[38;5;124m\"\u001b[39m, errors\u001b[38;5;241m=\u001b[39m\u001b[38;5;124m'\u001b[39m\u001b[38;5;124mcoerce\u001b[39m\u001b[38;5;124m'\u001b[39m)\n\u001b[0;32m----> 3\u001b[0m \u001b[38;5;28;01massert\u001b[39;00m (ser_first_use_date \u001b[38;5;241m==\u001b[39m ser_first_use_date_fmt)\u001b[38;5;241m.\u001b[39mall()\n\u001b[1;32m      5\u001b[0m \u001b[38;5;66;03m#Out of bounds nanosecond timestamp: 1212-09-21 00:00:00, at position 3348704\u001b[39;00m\n\u001b[1;32m      6\u001b[0m \u001b[38;5;66;03m#OutOfBoundsDatetime: Out of bounds nanosecond timestamp: 4-02-20 00:00:00, at position 904021. You might want to try:\u001b[39;00m\n\u001b[1;32m      7\u001b[0m \u001b[38;5;66;03m#    - passing `format` if your strings have a consistent format;\u001b[39;00m\n\u001b[1;32m      8\u001b[0m \u001b[38;5;66;03m#    - passing `format='ISO8601'` if your strings are all ISO8601 but not necessarily in exactly the same format;\u001b[39;00m\n\u001b[1;32m      9\u001b[0m \u001b[38;5;66;03m#    - passing `format='mixed'`, and the format will be inferred for each element individually. You might want to use `dayfirst` alongside this.\u001b[39;00m\n",
      "\u001b[0;31mAssertionError\u001b[0m: "
     ]
    },
    {
     "name": "stdout",
     "output_type": "stream",
     "text": [
      "In [66] used -101.8203 MiB RAM in 0.84s, peaked 101.82 MiB above current, total RAM usage 2034.36 MiB\n"
     ]
    }
   ],
   "source": [
    "ser_first_use_date = pd.to_datetime(df['first_use_date'], errors='coerce', yearfirst=True, dayfirst=False)\n",
    "ser_first_use_date_fmt = pd.to_datetime(df['first_use_date'], format=\"%Y-%m-%d\", errors='coerce')\n",
    "assert (ser_first_use_date == ser_first_use_date_fmt).all()\n",
    "# OUCH! NEED TO INVESTIGATE THIS!\n",
    "\n",
    "#Out of bounds nanosecond timestamp: 1212-09-21 00:00:00, at position 3348704\n",
    "#OutOfBoundsDatetime: Out of bounds nanosecond timestamp: 4-02-20 00:00:00, at position 904021. You might want to try:\n",
    "#    - passing `format` if your strings have a consistent format;\n",
    "#    - passing `format='ISO8601'` if your strings are all ISO8601 but not necessarily in exactly the same format;\n",
    "#    - passing `format='mixed'`, and the format will be inferred for each element individually. You might want to use `dayfirst` alongside this."
   ]
  },
  {
   "cell_type": "code",
   "execution_count": 63,
   "id": "e0ac9392-9dab-4402-88b6-13cb08d38c7d",
   "metadata": {
    "tags": []
   },
   "outputs": [
    {
     "name": "stdout",
     "output_type": "stream",
     "text": [
      "In [63] used 0.0000 MiB RAM in 0.43s, peaked 0.00 MiB above current, total RAM usage 2136.18 MiB\n"
     ]
    }
   ],
   "source": [
    "ser_test_date = pd.to_datetime(df['test_date'], yearfirst=True) # this field converts ok\n",
    "ser_test_date_fmt = pd.to_datetime(df['test_date'], format=\"%Y-%m-%d\")\n",
    "assert (ser_test_date == ser_test_date_fmt).all()"
   ]
  },
  {
   "cell_type": "code",
   "execution_count": 10,
   "id": "33a02acb-4336-4cb0-a429-4ae26c9ccc68",
   "metadata": {
    "tags": []
   },
   "outputs": [
    {
     "name": "stdout",
     "output_type": "stream",
     "text": [
      "In [10] used 359.2695 MiB RAM in 0.25s, peaked 0.00 MiB above current, total RAM usage 991.29 MiB\n"
     ]
    }
   ],
   "source": [
    "df_shrink = df.copy()"
   ]
  },
  {
   "cell_type": "code",
   "execution_count": 11,
   "id": "7d333572-6c53-48c4-90b2-5bf5e7c1573c",
   "metadata": {
    "tags": []
   },
   "outputs": [
    {
     "name": "stdout",
     "output_type": "stream",
     "text": [
      "CPU times: user 91.3 ms, sys: 1.08 ms, total: 92.4 ms\n",
      "Wall time: 91.6 ms\n"
     ]
    },
    {
     "data": {
      "text/plain": [
       "fuel_type\n",
       "PE    1763123\n",
       "DI    1536967\n",
       "HY      48423\n",
       "EL       9127\n",
       "OT       2539\n",
       "ED       1045\n",
       "LP       1042\n",
       "GB         96\n",
       "FC         47\n",
       "GA         13\n",
       "CN         12\n",
       "GD         11\n",
       "LN          2\n",
       "ST          2\n",
       "Name: count, dtype: int64"
      ]
     },
     "execution_count": 11,
     "metadata": {},
     "output_type": "execute_result"
    },
    {
     "name": "stdout",
     "output_type": "stream",
     "text": [
      "In [11] used 0.1094 MiB RAM in 0.20s, peaked 0.00 MiB above current, total RAM usage 991.40 MiB\n"
     ]
    }
   ],
   "source": [
    "%time df['fuel_type'].value_counts()"
   ]
  },
  {
   "cell_type": "code",
   "execution_count": 12,
   "id": "22d3c82e-8fe9-4c03-b7c7-e348c883e1dd",
   "metadata": {
    "tags": []
   },
   "outputs": [
    {
     "name": "stdout",
     "output_type": "stream",
     "text": [
      "In [12] used 35.9219 MiB RAM in 0.36s, peaked 0.00 MiB above current, total RAM usage 1027.32 MiB\n"
     ]
    }
   ],
   "source": [
    "import pandera as pa"
   ]
  },
  {
   "cell_type": "code",
   "execution_count": 13,
   "id": "f01c4635-5b1e-429b-8eb0-ee41cf22518b",
   "metadata": {
    "tags": []
   },
   "outputs": [
    {
     "name": "stdout",
     "output_type": "stream",
     "text": [
      "In [13] used 0.0039 MiB RAM in 0.10s, peaked 0.00 MiB above current, total RAM usage 1027.32 MiB\n"
     ]
    }
   ],
   "source": [
    "#sample = df.sample(10000)\n",
    "#schema = pa.infer_schema(sample)\n",
    "#print(schema.to_script())"
   ]
  },
  {
   "cell_type": "code",
   "execution_count": 67,
   "id": "285bd7b2-bbd2-40d8-8aa2-8f042733deb6",
   "metadata": {
    "tags": []
   },
   "outputs": [
    {
     "name": "stdout",
     "output_type": "stream",
     "text": [
      "Validated ok\n",
      "In [67] used 179.4023 MiB RAM in 1.66s, peaked 0.00 MiB above current, total RAM usage 2213.77 MiB\n"
     ]
    }
   ],
   "source": [
    "from pandera import DataFrameSchema, Column, Check, Index, MultiIndex\n",
    "from pandera.errors import SchemaErrors\n",
    "VALID_TEST_RESULT = set(['P', 'F', 'PRS', 'ABR', 'ABA', 'ABRVE'])\n",
    "VALID_TEST_TYPE = set(['NT', 'RT', 'ES'])\n",
    "VALID_COLOUR = set(['BLACK', 'WHITE', 'SILVER', 'BLUE', 'GREY', 'RED', 'GREEN', 'ORANGE', 'YELLOW', 'BEIGE', \\\n",
    "                   'BROWN', 'PURPLE', 'GOLD', 'BRONZE', 'MAROON','TURQUOISE', 'CREAM', 'PINK', 'MULTI-COLOUR', 'NOT STATED'])\n",
    "VALID_FUEL_TYPE = set(['PE', 'DI', 'HY', 'EL', 'OT', 'LP', 'ED', 'GB', 'FC', 'CN', 'GA', 'GD','ST', 'LN'])\n",
    "\n",
    "# by default Column has nullable, coerce, unique, refex == False\n",
    "# title is not needed nor description\n",
    "\n",
    "# other checks?\n",
    "# test_mileage 5th percentile > xxx as most should be \"sensible\"\n",
    "# postcode_area xx very rare\n",
    "# cylinder_capacity typically more than ...\n",
    "# first_use_date > ... something reasonable\n",
    "\n",
    "\n",
    "schema = DataFrameSchema(\n",
    "    columns={\n",
    "        \"test_id\": Column(\n",
    "            dtype=\"int64\",\n",
    "            checks=[\n",
    "                #Check.greater_than_or_equal_to(min_value=31563.0),\n",
    "                #Check.less_than_or_equal_to(max_value=1999897323.0),\n",
    "            ],\n",
    "        ),\n",
    "        \"vehicle_id\": Column(\n",
    "            dtype=\"int64\",\n",
    "            checks=[\n",
    "                #Check.greater_than_or_equal_to(min_value=108275.0),\n",
    "                #Check.less_than_or_equal_to(max_value=1499704119.0),\n",
    "            ],\n",
    "        ),\n",
    "        \"test_date\": Column(\n",
    "            dtype=\"object\",\n",
    "        ),\n",
    "        \"test_class_id\": Column(\n",
    "            dtype=\"int64\",\n",
    "            checks=[\n",
    "                Check.greater_than_or_equal_to(min_value=1.0),\n",
    "                Check.less_than_or_equal_to(max_value=7.0),\n",
    "            ],\n",
    "        ),\n",
    "        \"test_type\": Column(\n",
    "            dtype=\"object\",\n",
    "            checks=[pa.Check(lambda s: s.isin(VALID_TEST_TYPE))],\n",
    "        ),\n",
    "        \"test_result\": Column(\n",
    "            dtype=\"object\",\n",
    "            checks=[Check(lambda s: s.isin(VALID_TEST_RESULT)),\n",
    "                    # we normally see 75% pass rate, so test >60%\n",
    "                    Check(lambda ser: ((ser == 'P').sum() / ser.size) > 0.6)],\n",
    "        ),\n",
    "        \"test_mileage\": Column(\n",
    "            dtype=\"float64\",\n",
    "            checks=[\n",
    "                # we do get 1-10 miles on the clock!\n",
    "                Check.greater_than_or_equal_to(min_value=1.0),\n",
    "                Check.less_than_or_equal_to(max_value=999999.0),\n",
    "            ],\n",
    "            nullable=True,\n",
    "        ),\n",
    "        \"postcode_area\": Column(\n",
    "            dtype=\"object\",\n",
    "            checks=None,\n",
    "        ),\n",
    "        \"make\": Column(\n",
    "            dtype=\"object\",\n",
    "        ),\n",
    "        \"model\": Column(\n",
    "            dtype=\"object\",\n",
    "            nullable=True, # 1 case\n",
    "            checks=[pa.Check(lambda ser: ser.isnull().sum() <= 5)]\n",
    "        ),\n",
    "        \"colour\": Column(\n",
    "            dtype=\"object\",\n",
    "            checks=[pa.Check(lambda s: s.isin(VALID_COLOUR))],\n",
    "        ),\n",
    "        \"fuel_type\": Column(\n",
    "            dtype=\"object\",\n",
    "            checks=[Check(lambda s: s.isin(VALID_FUEL_TYPE))],\n",
    "        ),\n",
    "        \"cylinder_capacity\": Column(\n",
    "            dtype=\"float64\",\n",
    "            checks=[\n",
    "                Check.greater_than_or_equal_to(min_value=0.0),\n",
    "                Check.less_than_or_equal_to(max_value=90000.0),\n",
    "                Check(lambda ser: ser.quantile(0.05) > 500)\n",
    "            ],\n",
    "            nullable=True,\n",
    "        ),\n",
    "        \"first_use_date\": Column(\n",
    "            #dtype=\"datetime64[ns]\",\n",
    "            dtype='object',\n",
    "            nullable=True\n",
    "        ),\n",
    "    },\n",
    "    checks=None,\n",
    "    index=Index(\n",
    "        dtype=\"int64\",\n",
    "        checks=[\n",
    "            #Check.greater_than_or_equal_to(min_value=1030.0),\n",
    "            #Check.less_than_or_equal_to(max_value=3362152.0),\n",
    "        ],\n",
    "    ),\n",
    "    dtype=None,\n",
    "    coerce=True,\n",
    "    strict=False,\n",
    "    name=None,\n",
    "    ordered=False,\n",
    "    unique=None,\n",
    "    report_duplicates=\"all\",\n",
    "    unique_column_names=False,\n",
    "    title=None,\n",
    "    description=None,\n",
    ")\n",
    "\n",
    "try:\n",
    "    schema.validate(df, lazy=True);\n",
    "    print(\"Validated ok\")\n",
    "except SchemaErrors as err:\n",
    "    print(err.failure_cases)  # dataframe of schema errors\n",
    "    print(err.data)  # invalid dataframe\n",
    "\n",
    "#schema.validate(df)"
   ]
  },
  {
   "cell_type": "markdown",
   "id": "1065e448-7a64-450e-84e1-997c6194dcee",
   "metadata": {},
   "source": [
    "# Some investigation"
   ]
  },
  {
   "cell_type": "code",
   "execution_count": 21,
   "id": "854048c4-23c9-4ea0-9a48-cba4776e6062",
   "metadata": {
    "tags": []
   },
   "outputs": [
    {
     "data": {
      "text/html": [
       "<div>\n",
       "<style scoped>\n",
       "    .dataframe tbody tr th:only-of-type {\n",
       "        vertical-align: middle;\n",
       "    }\n",
       "\n",
       "    .dataframe tbody tr th {\n",
       "        vertical-align: top;\n",
       "    }\n",
       "\n",
       "    .dataframe thead th {\n",
       "        text-align: right;\n",
       "    }\n",
       "</style>\n",
       "<table border=\"1\" class=\"dataframe\">\n",
       "  <thead>\n",
       "    <tr style=\"text-align: right;\">\n",
       "      <th></th>\n",
       "      <th>test_id</th>\n",
       "      <th>vehicle_id</th>\n",
       "      <th>test_class_id</th>\n",
       "      <th>test_mileage</th>\n",
       "      <th>cylinder_capacity</th>\n",
       "    </tr>\n",
       "  </thead>\n",
       "  <tbody>\n",
       "    <tr>\n",
       "      <th>count</th>\n",
       "      <td>3.362449e+06</td>\n",
       "      <td>3.362449e+06</td>\n",
       "      <td>3.362449e+06</td>\n",
       "      <td>3.337179e+06</td>\n",
       "      <td>3.354540e+06</td>\n",
       "    </tr>\n",
       "    <tr>\n",
       "      <th>mean</th>\n",
       "      <td>9.997002e+08</td>\n",
       "      <td>7.496022e+08</td>\n",
       "      <td>4.026704e+00</td>\n",
       "      <td>7.415208e+04</td>\n",
       "      <td>1.712014e+03</td>\n",
       "    </tr>\n",
       "    <tr>\n",
       "      <th>std</th>\n",
       "      <td>5.777019e+08</td>\n",
       "      <td>4.330285e+08</td>\n",
       "      <td>6.203739e-01</td>\n",
       "      <td>4.871821e+04</td>\n",
       "      <td>6.053732e+02</td>\n",
       "    </tr>\n",
       "    <tr>\n",
       "      <th>min</th>\n",
       "      <td>1.045000e+03</td>\n",
       "      <td>8.980000e+02</td>\n",
       "      <td>1.000000e+00</td>\n",
       "      <td>1.000000e+00</td>\n",
       "      <td>0.000000e+00</td>\n",
       "    </tr>\n",
       "    <tr>\n",
       "      <th>25%</th>\n",
       "      <td>4.989394e+08</td>\n",
       "      <td>3.745780e+08</td>\n",
       "      <td>4.000000e+00</td>\n",
       "      <td>3.759500e+04</td>\n",
       "      <td>1.349000e+03</td>\n",
       "    </tr>\n",
       "    <tr>\n",
       "      <th>50%</th>\n",
       "      <td>9.997725e+08</td>\n",
       "      <td>7.496216e+08</td>\n",
       "      <td>4.000000e+00</td>\n",
       "      <td>6.567800e+04</td>\n",
       "      <td>1.598000e+03</td>\n",
       "    </tr>\n",
       "    <tr>\n",
       "      <th>75%</th>\n",
       "      <td>1.500361e+09</td>\n",
       "      <td>1.124544e+09</td>\n",
       "      <td>4.000000e+00</td>\n",
       "      <td>1.008180e+05</td>\n",
       "      <td>1.995000e+03</td>\n",
       "    </tr>\n",
       "    <tr>\n",
       "      <th>max</th>\n",
       "      <td>2.000000e+09</td>\n",
       "      <td>1.500000e+09</td>\n",
       "      <td>7.000000e+00</td>\n",
       "      <td>9.999990e+05</td>\n",
       "      <td>8.200000e+04</td>\n",
       "    </tr>\n",
       "  </tbody>\n",
       "</table>\n",
       "</div>"
      ],
      "text/plain": [
       "            test_id    vehicle_id  test_class_id  test_mileage   \n",
       "count  3.362449e+06  3.362449e+06   3.362449e+06  3.337179e+06  \\\n",
       "mean   9.997002e+08  7.496022e+08   4.026704e+00  7.415208e+04   \n",
       "std    5.777019e+08  4.330285e+08   6.203739e-01  4.871821e+04   \n",
       "min    1.045000e+03  8.980000e+02   1.000000e+00  1.000000e+00   \n",
       "25%    4.989394e+08  3.745780e+08   4.000000e+00  3.759500e+04   \n",
       "50%    9.997725e+08  7.496216e+08   4.000000e+00  6.567800e+04   \n",
       "75%    1.500361e+09  1.124544e+09   4.000000e+00  1.008180e+05   \n",
       "max    2.000000e+09  1.500000e+09   7.000000e+00  9.999990e+05   \n",
       "\n",
       "       cylinder_capacity  \n",
       "count       3.354540e+06  \n",
       "mean        1.712014e+03  \n",
       "std         6.053732e+02  \n",
       "min         0.000000e+00  \n",
       "25%         1.349000e+03  \n",
       "50%         1.598000e+03  \n",
       "75%         1.995000e+03  \n",
       "max         8.200000e+04  "
      ]
     },
     "execution_count": 21,
     "metadata": {},
     "output_type": "execute_result"
    },
    {
     "name": "stdout",
     "output_type": "stream",
     "text": [
      "In [21] used 0.2969 MiB RAM in 0.43s, peaked 128.20 MiB above current, total RAM usage 3395.36 MiB\n"
     ]
    }
   ],
   "source": [
    "df.describe()"
   ]
  },
  {
   "cell_type": "markdown",
   "id": "6e2b19a8-e12b-434f-acff-11a56d11c409",
   "metadata": {},
   "source": [
    "## can we get median cylinder values?"
   ]
  },
  {
   "cell_type": "code",
   "execution_count": 22,
   "id": "14371d86-685b-4787-b625-e3a2a4acffd4",
   "metadata": {
    "tags": []
   },
   "outputs": [
    {
     "name": "stdout",
     "output_type": "stream",
     "text": [
      "CPU times: user 171 ms, sys: 7.97 ms, total: 179 ms\n",
      "Wall time: 177 ms\n"
     ]
    },
    {
     "data": {
      "text/plain": [
       "make\n",
       "TESLA              0.0\n",
       "VECTRIX            2.0\n",
       "CYCLEMASTER       25.0\n",
       "SPARTA            30.0\n",
       "CAMPION           33.0\n",
       "                ...   \n",
       "MCW            10450.0\n",
       "VDL BOVA       12902.0\n",
       "KENWORTH       14000.0\n",
       "PETERBILT      14600.0\n",
       "DYNASTY        15000.0\n",
       "Name: cylinder_capacity, Length: 2049, dtype: float64"
      ]
     },
     "execution_count": 22,
     "metadata": {},
     "output_type": "execute_result"
    },
    {
     "name": "stdout",
     "output_type": "stream",
     "text": [
      "In [22] used -25.4531 MiB RAM in 0.28s, peaked 51.11 MiB above current, total RAM usage 3369.91 MiB\n"
     ]
    }
   ],
   "source": [
    "# lots of NaN values!\n",
    "%time df.groupby('make')['cylinder_capacity'].median().sort_values().dropna()"
   ]
  },
  {
   "cell_type": "code",
   "execution_count": 24,
   "id": "3a7d04b5-8c5d-4f91-a0f0-738030e7617b",
   "metadata": {
    "tags": []
   },
   "outputs": [
    {
     "data": {
      "text/plain": [
       "1097"
      ]
     },
     "execution_count": 24,
     "metadata": {},
     "output_type": "execute_result"
    },
    {
     "name": "stdout",
     "output_type": "stream",
     "text": [
      "In [24] used 0.0000 MiB RAM in 0.20s, peaked 0.00 MiB above current, total RAM usage 1467.33 MiB\n"
     ]
    }
   ],
   "source": [
    "df['make'].value_counts().loc['TESLA']"
   ]
  },
  {
   "cell_type": "code",
   "execution_count": 25,
   "id": "2bec6abc-4b61-4705-8e0d-4854b030489a",
   "metadata": {
    "tags": []
   },
   "outputs": [
    {
     "data": {
      "text/html": [
       "<div>\n",
       "<style scoped>\n",
       "    .dataframe tbody tr th:only-of-type {\n",
       "        vertical-align: middle;\n",
       "    }\n",
       "\n",
       "    .dataframe tbody tr th {\n",
       "        vertical-align: top;\n",
       "    }\n",
       "\n",
       "    .dataframe thead th {\n",
       "        text-align: right;\n",
       "    }\n",
       "</style>\n",
       "<table border=\"1\" class=\"dataframe\">\n",
       "  <thead>\n",
       "    <tr style=\"text-align: right;\">\n",
       "      <th></th>\n",
       "      <th>median</th>\n",
       "      <th>size</th>\n",
       "    </tr>\n",
       "    <tr>\n",
       "      <th>make</th>\n",
       "      <th></th>\n",
       "      <th></th>\n",
       "    </tr>\n",
       "  </thead>\n",
       "  <tbody>\n",
       "    <tr>\n",
       "      <th>FIREBIRD SCRAMBLER</th>\n",
       "      <td>65.0</td>\n",
       "      <td>1</td>\n",
       "    </tr>\n",
       "    <tr>\n",
       "      <th>PRIUS</th>\n",
       "      <td>1798.0</td>\n",
       "      <td>1</td>\n",
       "    </tr>\n",
       "    <tr>\n",
       "      <th>1VECO</th>\n",
       "      <td>NaN</td>\n",
       "      <td>1</td>\n",
       "    </tr>\n",
       "    <tr>\n",
       "      <th>50CC SPORTS SCOOTER</th>\n",
       "      <td>50.0</td>\n",
       "      <td>1</td>\n",
       "    </tr>\n",
       "    <tr>\n",
       "      <th>519CD1 CHASSIS</th>\n",
       "      <td>2987.0</td>\n",
       "      <td>1</td>\n",
       "    </tr>\n",
       "    <tr>\n",
       "      <th>...</th>\n",
       "      <td>...</td>\n",
       "      <td>...</td>\n",
       "    </tr>\n",
       "    <tr>\n",
       "      <th>ZUK</th>\n",
       "      <td>2120.0</td>\n",
       "      <td>1</td>\n",
       "    </tr>\n",
       "    <tr>\n",
       "      <th>ampijeep</th>\n",
       "      <td>3000.0</td>\n",
       "      <td>1</td>\n",
       "    </tr>\n",
       "    <tr>\n",
       "      <th>delorean dmc</th>\n",
       "      <td>2600.0</td>\n",
       "      <td>1</td>\n",
       "    </tr>\n",
       "    <tr>\n",
       "      <th>direct bike  db50qt-a</th>\n",
       "      <td>49.0</td>\n",
       "      <td>1</td>\n",
       "    </tr>\n",
       "    <tr>\n",
       "      <th>hymer motorhome</th>\n",
       "      <td>2143.0</td>\n",
       "      <td>1</td>\n",
       "    </tr>\n",
       "  </tbody>\n",
       "</table>\n",
       "<p>1379 rows × 2 columns</p>\n",
       "</div>"
      ],
      "text/plain": [
       "                       median  size\n",
       "make                               \n",
       " FIREBIRD SCRAMBLER      65.0     1\n",
       " PRIUS                 1798.0     1\n",
       "1VECO                     NaN     1\n",
       "50CC SPORTS SCOOTER      50.0     1\n",
       "519CD1 CHASSIS         2987.0     1\n",
       "...                       ...   ...\n",
       "ZUK                    2120.0     1\n",
       "ampijeep               3000.0     1\n",
       "delorean dmc           2600.0     1\n",
       "direct bike  db50qt-a    49.0     1\n",
       "hymer motorhome        2143.0     1\n",
       "\n",
       "[1379 rows x 2 columns]"
      ]
     },
     "execution_count": 25,
     "metadata": {},
     "output_type": "execute_result"
    },
    {
     "name": "stdout",
     "output_type": "stream",
     "text": [
      "In [25] used 0.2422 MiB RAM in 0.29s, peaked 0.00 MiB above current, total RAM usage 1467.57 MiB\n"
     ]
    }
   ],
   "source": [
    "agg_result = df.groupby('make')['cylinder_capacity'].agg(['median', 'size'])\n",
    "#agg_result.query('size > 10').dropna().sort_values('median')\n",
    "agg_result.query('size == 1').sort_index()"
   ]
  },
  {
   "cell_type": "markdown",
   "id": "036e82c1-b87d-4420-a8a2-1b1e355d52c8",
   "metadata": {
    "tags": []
   },
   "source": [
    "# Check for high outliers"
   ]
  },
  {
   "cell_type": "code",
   "execution_count": 26,
   "id": "e754e11b-cfa7-42fe-8b97-ec71cd369e26",
   "metadata": {
    "tags": []
   },
   "outputs": [
    {
     "name": "stdout",
     "output_type": "stream",
     "text": [
      "CPU times: user 10.4 ms, sys: 4.1 ms, total: 14.5 ms\n",
      "Wall time: 7.36 ms\n"
     ]
    },
    {
     "data": {
      "text/html": [
       "<div>\n",
       "<style scoped>\n",
       "    .dataframe tbody tr th:only-of-type {\n",
       "        vertical-align: middle;\n",
       "    }\n",
       "\n",
       "    .dataframe tbody tr th {\n",
       "        vertical-align: top;\n",
       "    }\n",
       "\n",
       "    .dataframe thead th {\n",
       "        text-align: right;\n",
       "    }\n",
       "</style>\n",
       "<table border=\"1\" class=\"dataframe\">\n",
       "  <thead>\n",
       "    <tr style=\"text-align: right;\">\n",
       "      <th></th>\n",
       "      <th>test_id</th>\n",
       "      <th>vehicle_id</th>\n",
       "      <th>test_date</th>\n",
       "      <th>test_class_id</th>\n",
       "      <th>test_type</th>\n",
       "      <th>test_result</th>\n",
       "      <th>test_mileage</th>\n",
       "      <th>postcode_area</th>\n",
       "      <th>make</th>\n",
       "      <th>model</th>\n",
       "      <th>colour</th>\n",
       "      <th>fuel_type</th>\n",
       "      <th>cylinder_capacity</th>\n",
       "      <th>first_use_date</th>\n",
       "    </tr>\n",
       "  </thead>\n",
       "  <tbody>\n",
       "    <tr>\n",
       "      <th>49452</th>\n",
       "      <td>587926529</td>\n",
       "      <td>1417218512</td>\n",
       "      <td>2021-01-07</td>\n",
       "      <td>7</td>\n",
       "      <td>RT</td>\n",
       "      <td>P</td>\n",
       "      <td>936030.0</td>\n",
       "      <td>MK</td>\n",
       "      <td>LDV</td>\n",
       "      <td>MAXUS</td>\n",
       "      <td>WHITE</td>\n",
       "      <td>DI</td>\n",
       "      <td>2500.0</td>\n",
       "      <td>2009-03-03</td>\n",
       "    </tr>\n",
       "    <tr>\n",
       "      <th>60046</th>\n",
       "      <td>1890409459</td>\n",
       "      <td>816570558</td>\n",
       "      <td>2021-01-08</td>\n",
       "      <td>4</td>\n",
       "      <td>RT</td>\n",
       "      <td>P</td>\n",
       "      <td>966751.0</td>\n",
       "      <td>SA</td>\n",
       "      <td>SEAT</td>\n",
       "      <td>IBIZA</td>\n",
       "      <td>WHITE</td>\n",
       "      <td>DI</td>\n",
       "      <td>1198.0</td>\n",
       "      <td>2011-11-29</td>\n",
       "    </tr>\n",
       "    <tr>\n",
       "      <th>67462</th>\n",
       "      <td>1068536171</td>\n",
       "      <td>513823878</td>\n",
       "      <td>2021-01-08</td>\n",
       "      <td>4</td>\n",
       "      <td>NT</td>\n",
       "      <td>P</td>\n",
       "      <td>999999.0</td>\n",
       "      <td>CA</td>\n",
       "      <td>AUDI</td>\n",
       "      <td>TT</td>\n",
       "      <td>BLACK</td>\n",
       "      <td>PE</td>\n",
       "      <td>1781.0</td>\n",
       "      <td>2003-03-24</td>\n",
       "    </tr>\n",
       "    <tr>\n",
       "      <th>99966</th>\n",
       "      <td>1578635037</td>\n",
       "      <td>721762898</td>\n",
       "      <td>2021-01-12</td>\n",
       "      <td>7</td>\n",
       "      <td>NT</td>\n",
       "      <td>P</td>\n",
       "      <td>938020.0</td>\n",
       "      <td>CM</td>\n",
       "      <td>LDV</td>\n",
       "      <td>MAXUS</td>\n",
       "      <td>WHITE</td>\n",
       "      <td>DI</td>\n",
       "      <td>2499.0</td>\n",
       "      <td>2008-05-19</td>\n",
       "    </tr>\n",
       "    <tr>\n",
       "      <th>106695</th>\n",
       "      <td>1076798051</td>\n",
       "      <td>1420138910</td>\n",
       "      <td>2021-01-12</td>\n",
       "      <td>4</td>\n",
       "      <td>RT</td>\n",
       "      <td>P</td>\n",
       "      <td>981375.0</td>\n",
       "      <td>E</td>\n",
       "      <td>MITSUBISHI</td>\n",
       "      <td>SHOGUN</td>\n",
       "      <td>BLACK</td>\n",
       "      <td>PE</td>\n",
       "      <td>3497.0</td>\n",
       "      <td>2001-12-10</td>\n",
       "    </tr>\n",
       "    <tr>\n",
       "      <th>...</th>\n",
       "      <td>...</td>\n",
       "      <td>...</td>\n",
       "      <td>...</td>\n",
       "      <td>...</td>\n",
       "      <td>...</td>\n",
       "      <td>...</td>\n",
       "      <td>...</td>\n",
       "      <td>...</td>\n",
       "      <td>...</td>\n",
       "      <td>...</td>\n",
       "      <td>...</td>\n",
       "      <td>...</td>\n",
       "      <td>...</td>\n",
       "      <td>...</td>\n",
       "    </tr>\n",
       "    <tr>\n",
       "      <th>3222665</th>\n",
       "      <td>140386053</td>\n",
       "      <td>665733946</td>\n",
       "      <td>2021-12-10</td>\n",
       "      <td>4</td>\n",
       "      <td>NT</td>\n",
       "      <td>PRS</td>\n",
       "      <td>999999.0</td>\n",
       "      <td>DH</td>\n",
       "      <td>ROVER</td>\n",
       "      <td>75</td>\n",
       "      <td>GREEN</td>\n",
       "      <td>PE</td>\n",
       "      <td>1796.0</td>\n",
       "      <td>2002-07-16</td>\n",
       "    </tr>\n",
       "    <tr>\n",
       "      <th>3299701</th>\n",
       "      <td>1003414805</td>\n",
       "      <td>223050626</td>\n",
       "      <td>2021-12-17</td>\n",
       "      <td>4</td>\n",
       "      <td>NT</td>\n",
       "      <td>P</td>\n",
       "      <td>999999.0</td>\n",
       "      <td>KY</td>\n",
       "      <td>VAUXHALL</td>\n",
       "      <td>ASTRA</td>\n",
       "      <td>SILVER</td>\n",
       "      <td>DI</td>\n",
       "      <td>1686.0</td>\n",
       "      <td>2005-08-01</td>\n",
       "    </tr>\n",
       "    <tr>\n",
       "      <th>3316123</th>\n",
       "      <td>1480341501</td>\n",
       "      <td>552691814</td>\n",
       "      <td>2021-12-20</td>\n",
       "      <td>4</td>\n",
       "      <td>NT</td>\n",
       "      <td>P</td>\n",
       "      <td>902884.0</td>\n",
       "      <td>SA</td>\n",
       "      <td>LDV</td>\n",
       "      <td>MAXUS 15S 120 MINIBUS</td>\n",
       "      <td>WHITE</td>\n",
       "      <td>DI</td>\n",
       "      <td>2500.0</td>\n",
       "      <td>2008-07-02</td>\n",
       "    </tr>\n",
       "    <tr>\n",
       "      <th>3335094</th>\n",
       "      <td>197717431</td>\n",
       "      <td>1016367800</td>\n",
       "      <td>2021-12-22</td>\n",
       "      <td>4</td>\n",
       "      <td>NT</td>\n",
       "      <td>F</td>\n",
       "      <td>910077.0</td>\n",
       "      <td>DY</td>\n",
       "      <td>VAUXHALL</td>\n",
       "      <td>ASTRA</td>\n",
       "      <td>BLACK</td>\n",
       "      <td>PE</td>\n",
       "      <td>1796.0</td>\n",
       "      <td>2007-03-01</td>\n",
       "    </tr>\n",
       "    <tr>\n",
       "      <th>3356544</th>\n",
       "      <td>17541903</td>\n",
       "      <td>86909664</td>\n",
       "      <td>2021-12-30</td>\n",
       "      <td>4</td>\n",
       "      <td>NT</td>\n",
       "      <td>P</td>\n",
       "      <td>972976.0</td>\n",
       "      <td>SE</td>\n",
       "      <td>VOLKSWAGEN</td>\n",
       "      <td>GOLF</td>\n",
       "      <td>GREEN</td>\n",
       "      <td>PE</td>\n",
       "      <td>1595.0</td>\n",
       "      <td>2000-01-01</td>\n",
       "    </tr>\n",
       "  </tbody>\n",
       "</table>\n",
       "<p>130 rows × 14 columns</p>\n",
       "</div>"
      ],
      "text/plain": [
       "            test_id  vehicle_id   test_date  test_class_id test_type   \n",
       "49452     587926529  1417218512  2021-01-07              7        RT  \\\n",
       "60046    1890409459   816570558  2021-01-08              4        RT   \n",
       "67462    1068536171   513823878  2021-01-08              4        NT   \n",
       "99966    1578635037   721762898  2021-01-12              7        NT   \n",
       "106695   1076798051  1420138910  2021-01-12              4        RT   \n",
       "...             ...         ...         ...            ...       ...   \n",
       "3222665   140386053   665733946  2021-12-10              4        NT   \n",
       "3299701  1003414805   223050626  2021-12-17              4        NT   \n",
       "3316123  1480341501   552691814  2021-12-20              4        NT   \n",
       "3335094   197717431  1016367800  2021-12-22              4        NT   \n",
       "3356544    17541903    86909664  2021-12-30              4        NT   \n",
       "\n",
       "        test_result  test_mileage postcode_area        make   \n",
       "49452             P      936030.0            MK         LDV  \\\n",
       "60046             P      966751.0            SA        SEAT   \n",
       "67462             P      999999.0            CA        AUDI   \n",
       "99966             P      938020.0            CM         LDV   \n",
       "106695            P      981375.0             E  MITSUBISHI   \n",
       "...             ...           ...           ...         ...   \n",
       "3222665         PRS      999999.0            DH       ROVER   \n",
       "3299701           P      999999.0            KY    VAUXHALL   \n",
       "3316123           P      902884.0            SA         LDV   \n",
       "3335094           F      910077.0            DY    VAUXHALL   \n",
       "3356544           P      972976.0            SE  VOLKSWAGEN   \n",
       "\n",
       "                         model  colour fuel_type  cylinder_capacity   \n",
       "49452                    MAXUS   WHITE        DI             2500.0  \\\n",
       "60046                    IBIZA   WHITE        DI             1198.0   \n",
       "67462                       TT   BLACK        PE             1781.0   \n",
       "99966                    MAXUS   WHITE        DI             2499.0   \n",
       "106695                  SHOGUN   BLACK        PE             3497.0   \n",
       "...                        ...     ...       ...                ...   \n",
       "3222665                     75   GREEN        PE             1796.0   \n",
       "3299701                  ASTRA  SILVER        DI             1686.0   \n",
       "3316123  MAXUS 15S 120 MINIBUS   WHITE        DI             2500.0   \n",
       "3335094                  ASTRA   BLACK        PE             1796.0   \n",
       "3356544                   GOLF   GREEN        PE             1595.0   \n",
       "\n",
       "        first_use_date  \n",
       "49452       2009-03-03  \n",
       "60046       2011-11-29  \n",
       "67462       2003-03-24  \n",
       "99966       2008-05-19  \n",
       "106695      2001-12-10  \n",
       "...                ...  \n",
       "3222665     2002-07-16  \n",
       "3299701     2005-08-01  \n",
       "3316123     2008-07-02  \n",
       "3335094     2007-03-01  \n",
       "3356544     2000-01-01  \n",
       "\n",
       "[130 rows x 14 columns]"
      ]
     },
     "execution_count": 26,
     "metadata": {},
     "output_type": "execute_result"
    },
    {
     "name": "stdout",
     "output_type": "stream",
     "text": [
      "In [26] used 0.0000 MiB RAM in 0.12s, peaked 0.00 MiB above current, total RAM usage 1467.57 MiB\n"
     ]
    }
   ],
   "source": [
    "%time df.query('test_mileage > 900000')"
   ]
  },
  {
   "cell_type": "code",
   "execution_count": 27,
   "id": "156f0c9d-0530-4961-af02-4423d61d326f",
   "metadata": {
    "tags": []
   },
   "outputs": [
    {
     "name": "stdout",
     "output_type": "stream",
     "text": [
      "CPU times: user 14.4 ms, sys: 289 µs, total: 14.7 ms\n",
      "Wall time: 7.07 ms\n"
     ]
    },
    {
     "data": {
      "text/html": [
       "<div>\n",
       "<style scoped>\n",
       "    .dataframe tbody tr th:only-of-type {\n",
       "        vertical-align: middle;\n",
       "    }\n",
       "\n",
       "    .dataframe tbody tr th {\n",
       "        vertical-align: top;\n",
       "    }\n",
       "\n",
       "    .dataframe thead th {\n",
       "        text-align: right;\n",
       "    }\n",
       "</style>\n",
       "<table border=\"1\" class=\"dataframe\">\n",
       "  <thead>\n",
       "    <tr style=\"text-align: right;\">\n",
       "      <th></th>\n",
       "      <th>test_id</th>\n",
       "      <th>vehicle_id</th>\n",
       "      <th>test_date</th>\n",
       "      <th>test_class_id</th>\n",
       "      <th>test_type</th>\n",
       "      <th>test_result</th>\n",
       "      <th>test_mileage</th>\n",
       "      <th>postcode_area</th>\n",
       "      <th>make</th>\n",
       "      <th>model</th>\n",
       "      <th>colour</th>\n",
       "      <th>fuel_type</th>\n",
       "      <th>cylinder_capacity</th>\n",
       "      <th>first_use_date</th>\n",
       "    </tr>\n",
       "  </thead>\n",
       "  <tbody>\n",
       "    <tr>\n",
       "      <th>346017</th>\n",
       "      <td>941644379</td>\n",
       "      <td>1269368471</td>\n",
       "      <td>2021-02-04</td>\n",
       "      <td>4</td>\n",
       "      <td>NT</td>\n",
       "      <td>P</td>\n",
       "      <td>83575.0</td>\n",
       "      <td>BB</td>\n",
       "      <td>CADILLAC</td>\n",
       "      <td>ELDARADO</td>\n",
       "      <td>WHITE</td>\n",
       "      <td>PE</td>\n",
       "      <td>82000.0</td>\n",
       "      <td>2019-04-01</td>\n",
       "    </tr>\n",
       "    <tr>\n",
       "      <th>660408</th>\n",
       "      <td>897319089</td>\n",
       "      <td>930485857</td>\n",
       "      <td>2021-03-06</td>\n",
       "      <td>7</td>\n",
       "      <td>NT</td>\n",
       "      <td>P</td>\n",
       "      <td>220969.0</td>\n",
       "      <td>SK</td>\n",
       "      <td>RENAULT</td>\n",
       "      <td>PREMIUM L;ANDER 43026 LAN RS25</td>\n",
       "      <td>WHITE</td>\n",
       "      <td>DI</td>\n",
       "      <td>50000.0</td>\n",
       "      <td>2014-09-01</td>\n",
       "    </tr>\n",
       "    <tr>\n",
       "      <th>1686207</th>\n",
       "      <td>1112946989</td>\n",
       "      <td>941342097</td>\n",
       "      <td>2021-07-20</td>\n",
       "      <td>4</td>\n",
       "      <td>NT</td>\n",
       "      <td>P</td>\n",
       "      <td>12173.0</td>\n",
       "      <td>NE</td>\n",
       "      <td>AUTOSLEEPERS</td>\n",
       "      <td>UNCLASSIFIED</td>\n",
       "      <td>WHITE</td>\n",
       "      <td>DI</td>\n",
       "      <td>27918.0</td>\n",
       "      <td>2018-07-25</td>\n",
       "    </tr>\n",
       "    <tr>\n",
       "      <th>2535783</th>\n",
       "      <td>1545813649</td>\n",
       "      <td>1221928576</td>\n",
       "      <td>2021-10-11</td>\n",
       "      <td>4</td>\n",
       "      <td>RT</td>\n",
       "      <td>P</td>\n",
       "      <td>56571.0</td>\n",
       "      <td>WF</td>\n",
       "      <td>VOLKSWAGEN</td>\n",
       "      <td>TRANSPORTER</td>\n",
       "      <td>BLUE</td>\n",
       "      <td>DI</td>\n",
       "      <td>24614.0</td>\n",
       "      <td>2000-11-22</td>\n",
       "    </tr>\n",
       "    <tr>\n",
       "      <th>2264587</th>\n",
       "      <td>1800602119</td>\n",
       "      <td>318361139</td>\n",
       "      <td>2021-09-17</td>\n",
       "      <td>4</td>\n",
       "      <td>NT</td>\n",
       "      <td>P</td>\n",
       "      <td>11226.0</td>\n",
       "      <td>WS</td>\n",
       "      <td>LAND ROVER</td>\n",
       "      <td>DEFENDER</td>\n",
       "      <td>GREEN</td>\n",
       "      <td>DI</td>\n",
       "      <td>24000.0</td>\n",
       "      <td>2010-10-22</td>\n",
       "    </tr>\n",
       "    <tr>\n",
       "      <th>2041814</th>\n",
       "      <td>833884901</td>\n",
       "      <td>616714600</td>\n",
       "      <td>2021-08-27</td>\n",
       "      <td>4</td>\n",
       "      <td>NT</td>\n",
       "      <td>P</td>\n",
       "      <td>97680.0</td>\n",
       "      <td>ME</td>\n",
       "      <td>VOLKSWAGEN</td>\n",
       "      <td>TRANSPORTER</td>\n",
       "      <td>GREEN</td>\n",
       "      <td>DI</td>\n",
       "      <td>23704.0</td>\n",
       "      <td>1998-05-12</td>\n",
       "    </tr>\n",
       "    <tr>\n",
       "      <th>3311514</th>\n",
       "      <td>1146215263</td>\n",
       "      <td>1208962646</td>\n",
       "      <td>2021-12-20</td>\n",
       "      <td>7</td>\n",
       "      <td>NT</td>\n",
       "      <td>F</td>\n",
       "      <td>139716.0</td>\n",
       "      <td>CA</td>\n",
       "      <td>IVECO</td>\n",
       "      <td>DAILY 35S14 MWB</td>\n",
       "      <td>WHITE</td>\n",
       "      <td>DI</td>\n",
       "      <td>22870.0</td>\n",
       "      <td>2011-03-04</td>\n",
       "    </tr>\n",
       "    <tr>\n",
       "      <th>2713068</th>\n",
       "      <td>877113011</td>\n",
       "      <td>809056492</td>\n",
       "      <td>2021-10-26</td>\n",
       "      <td>4</td>\n",
       "      <td>NT</td>\n",
       "      <td>P</td>\n",
       "      <td>51460.0</td>\n",
       "      <td>SY</td>\n",
       "      <td>LAND ROVER</td>\n",
       "      <td>DEFENDER</td>\n",
       "      <td>BLUE</td>\n",
       "      <td>DI</td>\n",
       "      <td>22500.0</td>\n",
       "      <td>1971-04-01</td>\n",
       "    </tr>\n",
       "    <tr>\n",
       "      <th>2055287</th>\n",
       "      <td>430270489</td>\n",
       "      <td>792345615</td>\n",
       "      <td>2021-08-31</td>\n",
       "      <td>4</td>\n",
       "      <td>NT</td>\n",
       "      <td>P</td>\n",
       "      <td>30481.0</td>\n",
       "      <td>CA</td>\n",
       "      <td>FORD</td>\n",
       "      <td>RANGER</td>\n",
       "      <td>WHITE</td>\n",
       "      <td>DI</td>\n",
       "      <td>21995.0</td>\n",
       "      <td>2016-08-01</td>\n",
       "    </tr>\n",
       "    <tr>\n",
       "      <th>421531</th>\n",
       "      <td>1263878313</td>\n",
       "      <td>1395655135</td>\n",
       "      <td>2021-02-12</td>\n",
       "      <td>4</td>\n",
       "      <td>NT</td>\n",
       "      <td>PRS</td>\n",
       "      <td>98447.0</td>\n",
       "      <td>B</td>\n",
       "      <td>INFINITI</td>\n",
       "      <td>Q50</td>\n",
       "      <td>BLACK</td>\n",
       "      <td>DI</td>\n",
       "      <td>21443.0</td>\n",
       "      <td>2014-10-28</td>\n",
       "    </tr>\n",
       "    <tr>\n",
       "      <th>309676</th>\n",
       "      <td>1407985703</td>\n",
       "      <td>674274343</td>\n",
       "      <td>2021-02-01</td>\n",
       "      <td>7</td>\n",
       "      <td>NT</td>\n",
       "      <td>F</td>\n",
       "      <td>4963.0</td>\n",
       "      <td>SP</td>\n",
       "      <td>FIAT</td>\n",
       "      <td>DUCATO</td>\n",
       "      <td>WHITE</td>\n",
       "      <td>DI</td>\n",
       "      <td>20800.0</td>\n",
       "      <td>2020-03-01</td>\n",
       "    </tr>\n",
       "    <tr>\n",
       "      <th>443507</th>\n",
       "      <td>1278233951</td>\n",
       "      <td>674274343</td>\n",
       "      <td>2021-02-16</td>\n",
       "      <td>7</td>\n",
       "      <td>NT</td>\n",
       "      <td>P</td>\n",
       "      <td>4966.0</td>\n",
       "      <td>SP</td>\n",
       "      <td>FIAT</td>\n",
       "      <td>DUCATO</td>\n",
       "      <td>WHITE</td>\n",
       "      <td>DI</td>\n",
       "      <td>20800.0</td>\n",
       "      <td>2020-03-01</td>\n",
       "    </tr>\n",
       "  </tbody>\n",
       "</table>\n",
       "</div>"
      ],
      "text/plain": [
       "            test_id  vehicle_id   test_date  test_class_id test_type   \n",
       "346017    941644379  1269368471  2021-02-04              4        NT  \\\n",
       "660408    897319089   930485857  2021-03-06              7        NT   \n",
       "1686207  1112946989   941342097  2021-07-20              4        NT   \n",
       "2535783  1545813649  1221928576  2021-10-11              4        RT   \n",
       "2264587  1800602119   318361139  2021-09-17              4        NT   \n",
       "2041814   833884901   616714600  2021-08-27              4        NT   \n",
       "3311514  1146215263  1208962646  2021-12-20              7        NT   \n",
       "2713068   877113011   809056492  2021-10-26              4        NT   \n",
       "2055287   430270489   792345615  2021-08-31              4        NT   \n",
       "421531   1263878313  1395655135  2021-02-12              4        NT   \n",
       "309676   1407985703   674274343  2021-02-01              7        NT   \n",
       "443507   1278233951   674274343  2021-02-16              7        NT   \n",
       "\n",
       "        test_result  test_mileage postcode_area          make   \n",
       "346017            P       83575.0            BB      CADILLAC  \\\n",
       "660408            P      220969.0            SK       RENAULT   \n",
       "1686207           P       12173.0            NE  AUTOSLEEPERS   \n",
       "2535783           P       56571.0            WF    VOLKSWAGEN   \n",
       "2264587           P       11226.0            WS    LAND ROVER   \n",
       "2041814           P       97680.0            ME    VOLKSWAGEN   \n",
       "3311514           F      139716.0            CA         IVECO   \n",
       "2713068           P       51460.0            SY    LAND ROVER   \n",
       "2055287           P       30481.0            CA          FORD   \n",
       "421531          PRS       98447.0             B      INFINITI   \n",
       "309676            F        4963.0            SP          FIAT   \n",
       "443507            P        4966.0            SP          FIAT   \n",
       "\n",
       "                                  model colour fuel_type  cylinder_capacity   \n",
       "346017                         ELDARADO  WHITE        PE            82000.0  \\\n",
       "660408   PREMIUM L;ANDER 43026 LAN RS25  WHITE        DI            50000.0   \n",
       "1686207                    UNCLASSIFIED  WHITE        DI            27918.0   \n",
       "2535783                     TRANSPORTER   BLUE        DI            24614.0   \n",
       "2264587                        DEFENDER  GREEN        DI            24000.0   \n",
       "2041814                     TRANSPORTER  GREEN        DI            23704.0   \n",
       "3311514                 DAILY 35S14 MWB  WHITE        DI            22870.0   \n",
       "2713068                        DEFENDER   BLUE        DI            22500.0   \n",
       "2055287                          RANGER  WHITE        DI            21995.0   \n",
       "421531                              Q50  BLACK        DI            21443.0   \n",
       "309676                           DUCATO  WHITE        DI            20800.0   \n",
       "443507                           DUCATO  WHITE        DI            20800.0   \n",
       "\n",
       "        first_use_date  \n",
       "346017      2019-04-01  \n",
       "660408      2014-09-01  \n",
       "1686207     2018-07-25  \n",
       "2535783     2000-11-22  \n",
       "2264587     2010-10-22  \n",
       "2041814     1998-05-12  \n",
       "3311514     2011-03-04  \n",
       "2713068     1971-04-01  \n",
       "2055287     2016-08-01  \n",
       "421531      2014-10-28  \n",
       "309676      2020-03-01  \n",
       "443507      2020-03-01  "
      ]
     },
     "execution_count": 27,
     "metadata": {},
     "output_type": "execute_result"
    },
    {
     "name": "stdout",
     "output_type": "stream",
     "text": [
      "In [27] used 0.0000 MiB RAM in 0.11s, peaked 0.00 MiB above current, total RAM usage 1467.57 MiB\n"
     ]
    }
   ],
   "source": [
    "%time df.query('cylinder_capacity > 20000').sort_values('cylinder_capacity', ascending=False)"
   ]
  },
  {
   "cell_type": "markdown",
   "id": "e6ef9637-7cf8-4284-828d-b9205f889bee",
   "metadata": {},
   "source": [
    "## drop rows with nan cylinder capacity - how many left? does groupby do better?"
   ]
  },
  {
   "cell_type": "code",
   "execution_count": 28,
   "id": "de5749ba-fe50-4e2e-9b99-734aab65df0b",
   "metadata": {
    "tags": []
   },
   "outputs": [
    {
     "data": {
      "text/plain": [
       "8150"
      ]
     },
     "execution_count": 28,
     "metadata": {},
     "output_type": "execute_result"
    },
    {
     "name": "stdout",
     "output_type": "stream",
     "text": [
      "In [28] used 0.0273 MiB RAM in 0.11s, peaked 0.00 MiB above current, total RAM usage 1450.50 MiB\n"
     ]
    }
   ],
   "source": [
    "mask = df['cylinder_capacity'].isna()\n",
    "mask.sum() # nbr of rows to remove"
   ]
  },
  {
   "cell_type": "code",
   "execution_count": 29,
   "id": "ca3c15d1-3f5a-40e8-b3e0-1e132afa94aa",
   "metadata": {
    "tags": []
   },
   "outputs": [
    {
     "data": {
      "text/plain": [
       "(3354378, 14)"
      ]
     },
     "execution_count": 29,
     "metadata": {},
     "output_type": "execute_result"
    },
    {
     "name": "stdout",
     "output_type": "stream",
     "text": [
      "In [29] used 358.7227 MiB RAM in 0.34s, peaked 0.00 MiB above current, total RAM usage 1809.22 MiB\n"
     ]
    }
   ],
   "source": [
    "df_nonan_cylcap = df[~mask]\n",
    "df_nonan_cylcap.shape"
   ]
  },
  {
   "cell_type": "code",
   "execution_count": 30,
   "id": "7cd81b99-d852-4804-a6df-e7d0a961e311",
   "metadata": {
    "tags": []
   },
   "outputs": [
    {
     "data": {
      "text/html": [
       "<div>\n",
       "<style scoped>\n",
       "    .dataframe tbody tr th:only-of-type {\n",
       "        vertical-align: middle;\n",
       "    }\n",
       "\n",
       "    .dataframe tbody tr th {\n",
       "        vertical-align: top;\n",
       "    }\n",
       "\n",
       "    .dataframe thead th {\n",
       "        text-align: right;\n",
       "    }\n",
       "</style>\n",
       "<table border=\"1\" class=\"dataframe\">\n",
       "  <thead>\n",
       "    <tr style=\"text-align: right;\">\n",
       "      <th></th>\n",
       "      <th>median</th>\n",
       "      <th>size</th>\n",
       "    </tr>\n",
       "    <tr>\n",
       "      <th>make</th>\n",
       "      <th></th>\n",
       "      <th></th>\n",
       "    </tr>\n",
       "  </thead>\n",
       "  <tbody>\n",
       "    <tr>\n",
       "      <th>CPI</th>\n",
       "      <td>49.0</td>\n",
       "      <td>34</td>\n",
       "    </tr>\n",
       "    <tr>\n",
       "      <th>TOMOS</th>\n",
       "      <td>49.0</td>\n",
       "      <td>16</td>\n",
       "    </tr>\n",
       "    <tr>\n",
       "      <th>DIRECT BIKES</th>\n",
       "      <td>49.0</td>\n",
       "      <td>111</td>\n",
       "    </tr>\n",
       "    <tr>\n",
       "      <th>BEELINE</th>\n",
       "      <td>49.0</td>\n",
       "      <td>17</td>\n",
       "    </tr>\n",
       "    <tr>\n",
       "      <th>EASY RIDER</th>\n",
       "      <td>49.0</td>\n",
       "      <td>28</td>\n",
       "    </tr>\n",
       "    <tr>\n",
       "      <th>...</th>\n",
       "      <td>...</td>\n",
       "      <td>...</td>\n",
       "    </tr>\n",
       "    <tr>\n",
       "      <th>BENTLEY</th>\n",
       "      <td>5998.0</td>\n",
       "      <td>1901</td>\n",
       "    </tr>\n",
       "    <tr>\n",
       "      <th>JENSEN</th>\n",
       "      <td>6276.0</td>\n",
       "      <td>20</td>\n",
       "    </tr>\n",
       "    <tr>\n",
       "      <th>ALEXANDER DENNIS</th>\n",
       "      <td>6700.0</td>\n",
       "      <td>19</td>\n",
       "    </tr>\n",
       "    <tr>\n",
       "      <th>ROLLS ROYCE</th>\n",
       "      <td>6749.0</td>\n",
       "      <td>532</td>\n",
       "    </tr>\n",
       "    <tr>\n",
       "      <th>LEYLAND</th>\n",
       "      <td>9999.0</td>\n",
       "      <td>21</td>\n",
       "    </tr>\n",
       "  </tbody>\n",
       "</table>\n",
       "<p>270 rows × 2 columns</p>\n",
       "</div>"
      ],
      "text/plain": [
       "                  median  size\n",
       "make                          \n",
       "CPI                 49.0    34\n",
       "TOMOS               49.0    16\n",
       "DIRECT BIKES        49.0   111\n",
       "BEELINE             49.0    17\n",
       "EASY RIDER          49.0    28\n",
       "...                  ...   ...\n",
       "BENTLEY           5998.0  1901\n",
       "JENSEN            6276.0    20\n",
       "ALEXANDER DENNIS  6700.0    19\n",
       "ROLLS ROYCE       6749.0   532\n",
       "LEYLAND           9999.0    21\n",
       "\n",
       "[270 rows x 2 columns]"
      ]
     },
     "execution_count": 30,
     "metadata": {},
     "output_type": "execute_result"
    },
    {
     "name": "stdout",
     "output_type": "stream",
     "text": [
      "In [30] used 25.4023 MiB RAM in 0.41s, peaked 4.02 MiB above current, total RAM usage 1834.62 MiB\n"
     ]
    }
   ],
   "source": [
    "agg_result = df_nonan_cylcap.groupby('make')['cylinder_capacity'].agg(['median', 'size'])\n",
    "agg_result.query('size > 10').sort_values('median')\n",
    "#agg_result.query('size == 1').sort_index()"
   ]
  },
  {
   "cell_type": "code",
   "execution_count": 38,
   "id": "2cf1df1c-eff5-4b93-9f21-50aa0704c0ed",
   "metadata": {
    "tags": []
   },
   "outputs": [
    {
     "name": "stdout",
     "output_type": "stream",
     "text": [
      "CPU times: user 381 ms, sys: 128 ms, total: 509 ms\n",
      "Wall time: 506 ms\n"
     ]
    },
    {
     "data": {
      "text/html": [
       "<div>\n",
       "<style scoped>\n",
       "    .dataframe tbody tr th:only-of-type {\n",
       "        vertical-align: middle;\n",
       "    }\n",
       "\n",
       "    .dataframe tbody tr th {\n",
       "        vertical-align: top;\n",
       "    }\n",
       "\n",
       "    .dataframe thead th {\n",
       "        text-align: right;\n",
       "    }\n",
       "</style>\n",
       "<table border=\"1\" class=\"dataframe\">\n",
       "  <thead>\n",
       "    <tr style=\"text-align: right;\">\n",
       "      <th></th>\n",
       "      <th>median</th>\n",
       "      <th>size</th>\n",
       "    </tr>\n",
       "    <tr>\n",
       "      <th>make</th>\n",
       "      <th></th>\n",
       "      <th></th>\n",
       "    </tr>\n",
       "  </thead>\n",
       "  <tbody>\n",
       "    <tr>\n",
       "      <th>CPI</th>\n",
       "      <td>49.0</td>\n",
       "      <td>34</td>\n",
       "    </tr>\n",
       "    <tr>\n",
       "      <th>TOMOS</th>\n",
       "      <td>49.0</td>\n",
       "      <td>16</td>\n",
       "    </tr>\n",
       "    <tr>\n",
       "      <th>DIRECT BIKES</th>\n",
       "      <td>49.0</td>\n",
       "      <td>111</td>\n",
       "    </tr>\n",
       "    <tr>\n",
       "      <th>BEELINE</th>\n",
       "      <td>49.0</td>\n",
       "      <td>17</td>\n",
       "    </tr>\n",
       "    <tr>\n",
       "      <th>EASY RIDER</th>\n",
       "      <td>49.0</td>\n",
       "      <td>28</td>\n",
       "    </tr>\n",
       "    <tr>\n",
       "      <th>...</th>\n",
       "      <td>...</td>\n",
       "      <td>...</td>\n",
       "    </tr>\n",
       "    <tr>\n",
       "      <th>BENTLEY</th>\n",
       "      <td>5998.0</td>\n",
       "      <td>1901</td>\n",
       "    </tr>\n",
       "    <tr>\n",
       "      <th>JENSEN</th>\n",
       "      <td>6276.0</td>\n",
       "      <td>20</td>\n",
       "    </tr>\n",
       "    <tr>\n",
       "      <th>ALEXANDER DENNIS</th>\n",
       "      <td>6700.0</td>\n",
       "      <td>19</td>\n",
       "    </tr>\n",
       "    <tr>\n",
       "      <th>ROLLS ROYCE</th>\n",
       "      <td>6749.0</td>\n",
       "      <td>532</td>\n",
       "    </tr>\n",
       "    <tr>\n",
       "      <th>LEYLAND</th>\n",
       "      <td>9999.0</td>\n",
       "      <td>21</td>\n",
       "    </tr>\n",
       "  </tbody>\n",
       "</table>\n",
       "<p>270 rows × 2 columns</p>\n",
       "</div>"
      ],
      "text/plain": [
       "                  median  size\n",
       "make                          \n",
       "CPI                 49.0    34\n",
       "TOMOS               49.0    16\n",
       "DIRECT BIKES        49.0   111\n",
       "BEELINE             49.0    17\n",
       "EASY RIDER          49.0    28\n",
       "...                  ...   ...\n",
       "BENTLEY           5998.0  1901\n",
       "JENSEN            6276.0    20\n",
       "ALEXANDER DENNIS  6700.0    19\n",
       "ROLLS ROYCE       6749.0   532\n",
       "LEYLAND           9999.0    21\n",
       "\n",
       "[270 rows x 2 columns]"
      ]
     },
     "execution_count": 38,
     "metadata": {},
     "output_type": "execute_result"
    },
    {
     "name": "stdout",
     "output_type": "stream",
     "text": [
      "In [38] used 0.0000 MiB RAM in 0.61s, peaked 434.85 MiB above current, total RAM usage 1809.52 MiB\n"
     ]
    }
   ],
   "source": [
    "%%time\n",
    "\n",
    "df[~df['cylinder_capacity'].isna()] \\\n",
    ".groupby('make')['cylinder_capacity'].agg(['median', 'size']) \\\n",
    ".query('size > 10').sort_values('median')\n",
    "#agg_result.query('size == 1').sort_index()"
   ]
  },
  {
   "cell_type": "code",
   "execution_count": null,
   "id": "76b54e63-dd8e-4de8-93c5-7f8ff4e7962a",
   "metadata": {},
   "outputs": [],
   "source": []
  }
 ],
 "metadata": {
  "kernelspec": {
   "display_name": "Python 3 (ipykernel)",
   "language": "python",
   "name": "python3"
  },
  "language_info": {
   "codemirror_mode": {
    "name": "ipython",
    "version": 3
   },
   "file_extension": ".py",
   "mimetype": "text/x-python",
   "name": "python",
   "nbconvert_exporter": "python",
   "pygments_lexer": "ipython3",
   "version": "3.11.3"
  }
 },
 "nbformat": 4,
 "nbformat_minor": 5
}
