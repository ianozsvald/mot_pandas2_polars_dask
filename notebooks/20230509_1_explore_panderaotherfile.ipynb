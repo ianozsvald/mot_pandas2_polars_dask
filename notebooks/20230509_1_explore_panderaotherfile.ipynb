{
 "cells": [
  {
   "cell_type": "markdown",
   "id": "cf9c22e9-698a-4fb1-aee3-21d47ad5a0fe",
   "metadata": {
    "tags": []
   },
   "source": [
    "# Explore with Pandas"
   ]
  },
  {
   "cell_type": "code",
   "execution_count": 1,
   "id": "a2a1dd62-04db-4b97-8a07-fb2cca1e4277",
   "metadata": {
    "tags": []
   },
   "outputs": [
    {
     "data": {
      "text/plain": [
       "'2.0.1'"
      ]
     },
     "metadata": {},
     "output_type": "display_data"
    },
    {
     "data": {
      "text/plain": [
       "'Profiling enabled'"
      ]
     },
     "execution_count": 1,
     "metadata": {},
     "output_type": "execute_result"
    },
    {
     "name": "stdout",
     "output_type": "stream",
     "text": [
      "In [1] used 0.0 MiB RAM in 0.10s (system mean cpu 0%, single max cpu 0%), peaked 0.0 MiB above final usage, current RAM usage now 135.4 MiB\n"
     ]
    }
   ],
   "source": [
    "import pandas as pd\n",
    "display(pd.__version__)\n",
    "\n",
    "from cell_profiler import cell_profiler as cp\n",
    "%start_cell_profiler"
   ]
  },
  {
   "cell_type": "code",
   "execution_count": 2,
   "id": "4ebfb317-0d5c-4cdc-98a2-b7ec484eff86",
   "metadata": {},
   "outputs": [
    {
     "data": {
      "text/plain": [
       "('/home/ian/workspace/data/anonymised_mot_tests/test_result_2021',\n",
       " ['/home/ian/workspace/data/anonymised_mot_tests/test_result_2021/test_result_20220531131730_32355.csv',\n",
       "  '/home/ian/workspace/data/anonymised_mot_tests/test_result_2021/test_result_20220531131730_32361.csv',\n",
       "  '/home/ian/workspace/data/anonymised_mot_tests/test_result_2021/test_result_20220531131730_32372.csv',\n",
       "  '/home/ian/workspace/data/anonymised_mot_tests/test_result_2021/test_result_20220531131730_32367.csv',\n",
       "  '/home/ian/workspace/data/anonymised_mot_tests/test_result_2021/test_result_20220531131730_32365.csv',\n",
       "  '/home/ian/workspace/data/anonymised_mot_tests/test_result_2021/test_result_20220531131730_32386.csv',\n",
       "  '/home/ian/workspace/data/anonymised_mot_tests/test_result_2021/test_result_20220531131730_32357.csv',\n",
       "  '/home/ian/workspace/data/anonymised_mot_tests/test_result_2021/test_result_20220531131730_32378.csv',\n",
       "  '/home/ian/workspace/data/anonymised_mot_tests/test_result_2021/test_result_20220531131730_32370.csv',\n",
       "  '/home/ian/workspace/data/anonymised_mot_tests/test_result_2021/test_result_20220531131730_32360.csv',\n",
       "  '/home/ian/workspace/data/anonymised_mot_tests/test_result_2021/test_result_20220531131730_32384.csv',\n",
       "  '/home/ian/workspace/data/anonymised_mot_tests/test_result_2021/test_result_20220531131730_32375.csv'])"
      ]
     },
     "execution_count": 2,
     "metadata": {},
     "output_type": "execute_result"
    },
    {
     "name": "stdout",
     "output_type": "stream",
     "text": [
      "In [2] used 0.0 MiB RAM in 0.10s (system mean cpu 0%, single max cpu 0%), peaked 0.0 MiB above final usage, current RAM usage now 135.4 MiB\n"
     ]
    }
   ],
   "source": [
    "import os\n",
    "import glob\n",
    "\n",
    "DATA_FOLDER = '/home/ian/workspace/data/anonymised_mot_tests'\n",
    "DATA_FOLDER = os.path.join(DATA_FOLDER, 'test_result_2021')\n",
    "#DATA_FOLDER\n",
    "\n",
    "files = glob.glob(DATA_FOLDER+\"/test_result_*.csv\")\n",
    "filename = files[1]\n",
    "DATA_FOLDER, files"
   ]
  },
  {
   "cell_type": "code",
   "execution_count": 3,
   "id": "5312fc17-c7e1-4062-a39a-94ce41b40d48",
   "metadata": {
    "tags": []
   },
   "outputs": [
    {
     "name": "stdout",
     "output_type": "stream",
     "text": [
      "In [3] used 417.3 MiB RAM in 3.05s (system mean cpu 11%, single max cpu 100%), peaked 307.6 MiB above final usage, current RAM usage now 552.6 MiB\n"
     ]
    }
   ],
   "source": [
    "#filename = 'test_result_2021/test_result_20220531131730_32355.csv'\n",
    "#filename = 'test_result_2021/test_result_20220531131730_32357.csv'\n",
    "\n",
    "df = pd.read_csv(filename)"
   ]
  },
  {
   "cell_type": "code",
   "execution_count": 4,
   "id": "9dd7d8b6-aed5-4272-9ab0-f2c5a6eb1125",
   "metadata": {
    "tags": []
   },
   "outputs": [
    {
     "name": "stdout",
     "output_type": "stream",
     "text": [
      "<class 'pandas.core.frame.DataFrame'>\n",
      "RangeIndex: 3363318 entries, 0 to 3363317\n",
      "Data columns (total 14 columns):\n",
      " #   Column             Dtype  \n",
      "---  ------             -----  \n",
      " 0   test_id            int64  \n",
      " 1   vehicle_id         int64  \n",
      " 2   test_date          object \n",
      " 3   test_class_id      int64  \n",
      " 4   test_type          object \n",
      " 5   test_result        object \n",
      " 6   test_mileage       float64\n",
      " 7   postcode_area      object \n",
      " 8   make               object \n",
      " 9   model              object \n",
      " 10  colour             object \n",
      " 11  fuel_type          object \n",
      " 12  cylinder_capacity  float64\n",
      " 13  first_use_date     object \n",
      "dtypes: float64(2), int64(3), object(9)\n",
      "memory usage: 359.2+ MB\n",
      "In [4] used 0.1 MiB RAM in 0.10s (system mean cpu 0%, single max cpu 0%), peaked 0.0 MiB above final usage, current RAM usage now 552.7 MiB\n"
     ]
    }
   ],
   "source": [
    "df.info()"
   ]
  },
  {
   "cell_type": "code",
   "execution_count": 5,
   "id": "3e6912a5-2093-4b57-9852-f2eac63a3e9f",
   "metadata": {
    "tags": []
   },
   "outputs": [
    {
     "data": {
      "text/plain": [
       "'2,005,968,130 bytes'"
      ]
     },
     "execution_count": 5,
     "metadata": {},
     "output_type": "execute_result"
    },
    {
     "name": "stdout",
     "output_type": "stream",
     "text": [
      "In [5] used 0.0 MiB RAM in 1.49s (system mean cpu 9%, single max cpu 93%), peaked 0.0 MiB above final usage, current RAM usage now 552.7 MiB\n"
     ]
    }
   ],
   "source": [
    "f\"{df.memory_usage(deep=True).sum():,} bytes\""
   ]
  },
  {
   "cell_type": "code",
   "execution_count": 6,
   "id": "b33281d3-01bc-42d7-9038-471ff822f63a",
   "metadata": {
    "tags": []
   },
   "outputs": [
    {
     "data": {
      "text/html": [
       "<div>\n",
       "<style scoped>\n",
       "    .dataframe tbody tr th:only-of-type {\n",
       "        vertical-align: middle;\n",
       "    }\n",
       "\n",
       "    .dataframe tbody tr th {\n",
       "        vertical-align: top;\n",
       "    }\n",
       "\n",
       "    .dataframe thead th {\n",
       "        text-align: right;\n",
       "    }\n",
       "</style>\n",
       "<table border=\"1\" class=\"dataframe\">\n",
       "  <thead>\n",
       "    <tr style=\"text-align: right;\">\n",
       "      <th></th>\n",
       "      <th>test_id</th>\n",
       "      <th>vehicle_id</th>\n",
       "      <th>test_date</th>\n",
       "      <th>test_class_id</th>\n",
       "      <th>test_type</th>\n",
       "      <th>test_result</th>\n",
       "      <th>test_mileage</th>\n",
       "      <th>postcode_area</th>\n",
       "      <th>make</th>\n",
       "      <th>model</th>\n",
       "      <th>colour</th>\n",
       "      <th>fuel_type</th>\n",
       "      <th>cylinder_capacity</th>\n",
       "      <th>first_use_date</th>\n",
       "    </tr>\n",
       "  </thead>\n",
       "  <tbody>\n",
       "    <tr>\n",
       "      <th>1090127</th>\n",
       "      <td>765819951</td>\n",
       "      <td>290586268</td>\n",
       "      <td>2021-04-29</td>\n",
       "      <td>4</td>\n",
       "      <td>NT</td>\n",
       "      <td>PRS</td>\n",
       "      <td>21379.0</td>\n",
       "      <td>N</td>\n",
       "      <td>FIAT</td>\n",
       "      <td>500</td>\n",
       "      <td>GREY</td>\n",
       "      <td>PE</td>\n",
       "      <td>1242.0</td>\n",
       "      <td>2011-04-05</td>\n",
       "    </tr>\n",
       "    <tr>\n",
       "      <th>1776105</th>\n",
       "      <td>995045147</td>\n",
       "      <td>316918947</td>\n",
       "      <td>2021-07-30</td>\n",
       "      <td>4</td>\n",
       "      <td>NT</td>\n",
       "      <td>P</td>\n",
       "      <td>22855.0</td>\n",
       "      <td>S</td>\n",
       "      <td>BMW</td>\n",
       "      <td>X5</td>\n",
       "      <td>SILVER</td>\n",
       "      <td>PE</td>\n",
       "      <td>4395.0</td>\n",
       "      <td>2015-03-26</td>\n",
       "    </tr>\n",
       "    <tr>\n",
       "      <th>2695480</th>\n",
       "      <td>86419621</td>\n",
       "      <td>264822752</td>\n",
       "      <td>2021-10-25</td>\n",
       "      <td>4</td>\n",
       "      <td>NT</td>\n",
       "      <td>F</td>\n",
       "      <td>88497.0</td>\n",
       "      <td>LE</td>\n",
       "      <td>FIAT</td>\n",
       "      <td>DUCATO</td>\n",
       "      <td>WHITE</td>\n",
       "      <td>DI</td>\n",
       "      <td>2800.0</td>\n",
       "      <td>1999-08-07</td>\n",
       "    </tr>\n",
       "    <tr>\n",
       "      <th>373859</th>\n",
       "      <td>235296695</td>\n",
       "      <td>630923192</td>\n",
       "      <td>2021-02-08</td>\n",
       "      <td>4</td>\n",
       "      <td>NT</td>\n",
       "      <td>P</td>\n",
       "      <td>48326.0</td>\n",
       "      <td>EN</td>\n",
       "      <td>PEUGEOT</td>\n",
       "      <td>3008</td>\n",
       "      <td>GREY</td>\n",
       "      <td>DI</td>\n",
       "      <td>1560.0</td>\n",
       "      <td>2010-09-07</td>\n",
       "    </tr>\n",
       "    <tr>\n",
       "      <th>3359637</th>\n",
       "      <td>979205383</td>\n",
       "      <td>704813190</td>\n",
       "      <td>2021-12-29</td>\n",
       "      <td>4</td>\n",
       "      <td>NT</td>\n",
       "      <td>P</td>\n",
       "      <td>107111.0</td>\n",
       "      <td>BN</td>\n",
       "      <td>NISSAN</td>\n",
       "      <td>MICRA</td>\n",
       "      <td>GREY</td>\n",
       "      <td>PE</td>\n",
       "      <td>1240.0</td>\n",
       "      <td>2003-07-30</td>\n",
       "    </tr>\n",
       "  </tbody>\n",
       "</table>\n",
       "</div>"
      ],
      "text/plain": [
       "           test_id  vehicle_id   test_date  test_class_id test_type   \n",
       "1090127  765819951   290586268  2021-04-29              4        NT  \\\n",
       "1776105  995045147   316918947  2021-07-30              4        NT   \n",
       "2695480   86419621   264822752  2021-10-25              4        NT   \n",
       "373859   235296695   630923192  2021-02-08              4        NT   \n",
       "3359637  979205383   704813190  2021-12-29              4        NT   \n",
       "\n",
       "        test_result  test_mileage postcode_area     make   model  colour   \n",
       "1090127         PRS       21379.0             N     FIAT     500    GREY  \\\n",
       "1776105           P       22855.0             S      BMW      X5  SILVER   \n",
       "2695480           F       88497.0            LE     FIAT  DUCATO   WHITE   \n",
       "373859            P       48326.0            EN  PEUGEOT    3008    GREY   \n",
       "3359637           P      107111.0            BN   NISSAN   MICRA    GREY   \n",
       "\n",
       "        fuel_type  cylinder_capacity first_use_date  \n",
       "1090127        PE             1242.0     2011-04-05  \n",
       "1776105        PE             4395.0     2015-03-26  \n",
       "2695480        DI             2800.0     1999-08-07  \n",
       "373859         DI             1560.0     2010-09-07  \n",
       "3359637        PE             1240.0     2003-07-30  "
      ]
     },
     "execution_count": 6,
     "metadata": {},
     "output_type": "execute_result"
    },
    {
     "name": "stdout",
     "output_type": "stream",
     "text": [
      "In [6] used 27.5 MiB RAM in 0.18s (system mean cpu 4%, single max cpu 70%), peaked 0.0 MiB above final usage, current RAM usage now 580.2 MiB\n"
     ]
    }
   ],
   "source": [
    "df.sample(5)"
   ]
  },
  {
   "cell_type": "code",
   "execution_count": 7,
   "id": "3def7927-0f46-4dd2-85f0-597dc8733e6c",
   "metadata": {
    "tags": []
   },
   "outputs": [
    {
     "ename": "AssertionError",
     "evalue": "",
     "output_type": "error",
     "traceback": [
      "\u001b[0;31m---------------------------------------------------------------------------\u001b[0m",
      "\u001b[0;31mAssertionError\u001b[0m                            Traceback (most recent call last)",
      "Cell \u001b[0;32mIn[7], line 3\u001b[0m\n\u001b[1;32m      1\u001b[0m ser_first_use_date \u001b[38;5;241m=\u001b[39m pd\u001b[38;5;241m.\u001b[39mto_datetime(df[\u001b[38;5;124m'\u001b[39m\u001b[38;5;124mfirst_use_date\u001b[39m\u001b[38;5;124m'\u001b[39m], errors\u001b[38;5;241m=\u001b[39m\u001b[38;5;124m'\u001b[39m\u001b[38;5;124mcoerce\u001b[39m\u001b[38;5;124m'\u001b[39m, yearfirst\u001b[38;5;241m=\u001b[39m\u001b[38;5;28;01mTrue\u001b[39;00m, dayfirst\u001b[38;5;241m=\u001b[39m\u001b[38;5;28;01mFalse\u001b[39;00m)\n\u001b[1;32m      2\u001b[0m ser_first_use_date_fmt \u001b[38;5;241m=\u001b[39m pd\u001b[38;5;241m.\u001b[39mto_datetime(df[\u001b[38;5;124m'\u001b[39m\u001b[38;5;124mfirst_use_date\u001b[39m\u001b[38;5;124m'\u001b[39m], \u001b[38;5;28mformat\u001b[39m\u001b[38;5;241m=\u001b[39m\u001b[38;5;124m\"\u001b[39m\u001b[38;5;124m%\u001b[39m\u001b[38;5;124mY-\u001b[39m\u001b[38;5;124m%\u001b[39m\u001b[38;5;124mm-\u001b[39m\u001b[38;5;132;01m%d\u001b[39;00m\u001b[38;5;124m\"\u001b[39m, errors\u001b[38;5;241m=\u001b[39m\u001b[38;5;124m'\u001b[39m\u001b[38;5;124mcoerce\u001b[39m\u001b[38;5;124m'\u001b[39m)\n\u001b[0;32m----> 3\u001b[0m \u001b[38;5;28;01massert\u001b[39;00m (ser_first_use_date \u001b[38;5;241m==\u001b[39m ser_first_use_date_fmt)\u001b[38;5;241m.\u001b[39mall()\n\u001b[1;32m      4\u001b[0m \u001b[38;5;66;03m# OUCH! NEED TO INVESTIGATE THIS!\u001b[39;00m\n\u001b[1;32m      5\u001b[0m \n\u001b[1;32m      6\u001b[0m \u001b[38;5;66;03m#Out of bounds nanosecond timestamp: 1212-09-21 00:00:00, at position 3348704\u001b[39;00m\n\u001b[0;32m   (...)\u001b[0m\n\u001b[1;32m      9\u001b[0m \u001b[38;5;66;03m#    - passing `format='ISO8601'` if your strings are all ISO8601 but not necessarily in exactly the same format;\u001b[39;00m\n\u001b[1;32m     10\u001b[0m \u001b[38;5;66;03m#    - passing `format='mixed'`, and the format will be inferred for each element individually. You might want to use `dayfirst` alongside this.\u001b[39;00m\n",
      "\u001b[0;31mAssertionError\u001b[0m: "
     ]
    },
    {
     "name": "stdout",
     "output_type": "stream",
     "text": [
      "In [7] used 57.7 MiB RAM in 0.95s (system mean cpu 9%, single max cpu 100%), peaked 0.0 MiB above final usage, current RAM usage now 637.9 MiB\n"
     ]
    }
   ],
   "source": [
    "ser_first_use_date = pd.to_datetime(df['first_use_date'], errors='coerce', yearfirst=True, dayfirst=False)\n",
    "ser_first_use_date_fmt = pd.to_datetime(df['first_use_date'], format=\"%Y-%m-%d\", errors='coerce')\n",
    "assert (ser_first_use_date == ser_first_use_date_fmt).all()\n",
    "# OUCH! NEED TO INVESTIGATE THIS!\n",
    "\n",
    "#Out of bounds nanosecond timestamp: 1212-09-21 00:00:00, at position 3348704\n",
    "#OutOfBoundsDatetime: Out of bounds nanosecond timestamp: 4-02-20 00:00:00, at position 904021. You might want to try:\n",
    "#    - passing `format` if your strings have a consistent format;\n",
    "#    - passing `format='ISO8601'` if your strings are all ISO8601 but not necessarily in exactly the same format;\n",
    "#    - passing `format='mixed'`, and the format will be inferred for each element individually. You might want to use `dayfirst` alongside this."
   ]
  },
  {
   "cell_type": "code",
   "execution_count": 8,
   "id": "e0ac9392-9dab-4402-88b6-13cb08d38c7d",
   "metadata": {
    "tags": []
   },
   "outputs": [
    {
     "name": "stdout",
     "output_type": "stream",
     "text": [
      "In [8] used 77.1 MiB RAM in 0.47s (system mean cpu 5%, single max cpu 100%), peaked 0.0 MiB above final usage, current RAM usage now 715.0 MiB\n"
     ]
    }
   ],
   "source": [
    "ser_test_date = pd.to_datetime(df['test_date'], yearfirst=True) # this field converts ok\n",
    "ser_test_date_fmt = pd.to_datetime(df['test_date'], format=\"%Y-%m-%d\")\n",
    "assert (ser_test_date == ser_test_date_fmt).all()"
   ]
  },
  {
   "cell_type": "code",
   "execution_count": 9,
   "id": "33a02acb-4336-4cb0-a429-4ae26c9ccc68",
   "metadata": {
    "tags": []
   },
   "outputs": [
    {
     "name": "stdout",
     "output_type": "stream",
     "text": [
      "In [9] used 359.4 MiB RAM in 0.25s (system mean cpu 11%, single max cpu 83%), peaked 0.0 MiB above final usage, current RAM usage now 1074.4 MiB\n"
     ]
    }
   ],
   "source": [
    "df_shrink = df.copy()"
   ]
  },
  {
   "cell_type": "code",
   "execution_count": 10,
   "id": "7d333572-6c53-48c4-90b2-5bf5e7c1573c",
   "metadata": {
    "tags": []
   },
   "outputs": [
    {
     "name": "stdout",
     "output_type": "stream",
     "text": [
      "CPU times: user 91.1 ms, sys: 992 µs, total: 92.1 ms\n",
      "Wall time: 90.9 ms\n"
     ]
    },
    {
     "data": {
      "text/plain": [
       "fuel_type\n",
       "PE    1764402\n",
       "DI    1536778\n",
       "HY      48166\n",
       "EL       9167\n",
       "OT       2482\n",
       "LP       1097\n",
       "ED       1038\n",
       "GB         90\n",
       "FC         57\n",
       "CN         13\n",
       "GA         13\n",
       "GD         11\n",
       "LN          3\n",
       "ST          1\n",
       "Name: count, dtype: int64"
      ]
     },
     "execution_count": 10,
     "metadata": {},
     "output_type": "execute_result"
    },
    {
     "name": "stdout",
     "output_type": "stream",
     "text": [
      "In [10] used 0.0 MiB RAM in 0.20s (system mean cpu 5%, single max cpu 24%), peaked 0.0 MiB above final usage, current RAM usage now 1074.4 MiB\n"
     ]
    }
   ],
   "source": [
    "%time df['fuel_type'].value_counts()"
   ]
  },
  {
   "cell_type": "code",
   "execution_count": 11,
   "id": "22d3c82e-8fe9-4c03-b7c7-e348c883e1dd",
   "metadata": {
    "tags": []
   },
   "outputs": [
    {
     "name": "stdout",
     "output_type": "stream",
     "text": [
      "In [11] used 35.2 MiB RAM in 0.37s (system mean cpu 35%, single max cpu 100%), peaked 0.0 MiB above final usage, current RAM usage now 1109.6 MiB\n"
     ]
    }
   ],
   "source": [
    "import pandera as pa"
   ]
  },
  {
   "cell_type": "code",
   "execution_count": 12,
   "id": "f01c4635-5b1e-429b-8eb0-ee41cf22518b",
   "metadata": {
    "tags": []
   },
   "outputs": [
    {
     "name": "stdout",
     "output_type": "stream",
     "text": [
      "In [12] used 0.0 MiB RAM in 0.10s (system mean cpu 6%, single max cpu 44%), peaked 0.0 MiB above final usage, current RAM usage now 1109.6 MiB\n"
     ]
    }
   ],
   "source": [
    "#sample = df.sample(10000)\n",
    "#schema = pa.infer_schema(sample)\n",
    "#print(schema.to_script())"
   ]
  },
  {
   "cell_type": "code",
   "execution_count": 13,
   "id": "285bd7b2-bbd2-40d8-8aa2-8f042733deb6",
   "metadata": {
    "tags": []
   },
   "outputs": [
    {
     "name": "stdout",
     "output_type": "stream",
     "text": [
      "  schema_context             column                           check   \n",
      "0         Column               make                    not_nullable  \\\n",
      "1         Column  cylinder_capacity  less_than_or_equal_to(90000.0)   \n",
      "\n",
      "  check_number  failure_case   index  \n",
      "0         None           NaN  984861  \n",
      "1            1       99999.0   71464  \n",
      "            test_id  vehicle_id   test_date  test_class_id test_type   \n",
      "0        1831612037   761864998  2021-01-01              4        NT  \\\n",
      "1         599284785   116850262  2021-01-01              4        NT   \n",
      "2        1063939289  1032666631  2021-01-01              4        NT   \n",
      "3         552157457   821557154  2021-01-01              4        NT   \n",
      "4         424211999     8574225  2021-01-01              4        NT   \n",
      "...             ...         ...         ...            ...       ...   \n",
      "3363313  1736215679   592314863  2021-12-30              4        NT   \n",
      "3363314  1480324763   179408285  2021-12-30              4        NT   \n",
      "3363315   247997511   387459546  2021-12-30              4        NT   \n",
      "3363316   503888427   508298726  2021-12-30              4        NT   \n",
      "3363317  1096488389    56210182  2021-12-30              4        NT   \n",
      "\n",
      "        test_result  test_mileage postcode_area           make    model   \n",
      "0                 P       88619.0             B     VOLKSWAGEN     GOLF  \\\n",
      "1                 F      113055.0             W        PEUGEOT      207   \n",
      "2                 P       50137.0             W        RENAULT     CLIO   \n",
      "3                 P      140074.0             B         TOYOTA  COROLLA   \n",
      "4                 P      103539.0            GL         TOYOTA    HILUX   \n",
      "...             ...           ...           ...            ...      ...   \n",
      "3363313           P       48190.0            NN  MERCEDES-BENZ  A-CLASS   \n",
      "3363314           P       34420.0            NN     VOLKSWAGEN   TIGUAN   \n",
      "3363315           P       95694.0            SK           SEAT     LEON   \n",
      "3363316           P           NaN            TW        RENAULT   TRAFIC   \n",
      "3363317           F      119327.0            NE          HONDA    CIVIC   \n",
      "\n",
      "         colour fuel_type  cylinder_capacity first_use_date  \n",
      "0        SILVER        DI             1896.0     2007-03-02  \n",
      "1         BLACK        PE             1397.0     2009-12-02  \n",
      "2          GREY        PE              899.0     2015-03-24  \n",
      "3           RED        PE             1794.0     2007-09-11  \n",
      "4        SILVER        DI             2982.0     2015-05-14  \n",
      "...         ...       ...                ...            ...  \n",
      "3363313  SILVER        DI             1461.0     2017-10-09  \n",
      "3363314    BLUE        DI             1968.0     2018-06-28  \n",
      "3363315    GREY        PE             1781.0     2005-05-21  \n",
      "3363316   WHITE        DI             1870.0     2002-03-04  \n",
      "3363317   BLACK        PE             1590.0     2001-03-28  \n",
      "\n",
      "[3363318 rows x 14 columns]\n",
      "In [13] used 360.9 MiB RAM in 1.79s (system mean cpu 9%, single max cpu 100%), peaked 127.1 MiB above final usage, current RAM usage now 1470.5 MiB\n"
     ]
    }
   ],
   "source": [
    "from pandera import DataFrameSchema, Column, Check, Index, MultiIndex\n",
    "from pandera.errors import SchemaErrors\n",
    "VALID_TEST_RESULT = set(['P', 'F', 'PRS', 'ABR', 'ABA', 'ABRVE'])\n",
    "VALID_TEST_TYPE = set(['NT', 'RT', 'ES'])\n",
    "VALID_COLOUR = set(['BLACK', 'WHITE', 'SILVER', 'BLUE', 'GREY', 'RED', 'GREEN', 'ORANGE', 'YELLOW', 'BEIGE', \\\n",
    "                   'BROWN', 'PURPLE', 'GOLD', 'BRONZE', 'MAROON','TURQUOISE', 'CREAM', 'PINK', 'MULTI-COLOUR', 'NOT STATED'])\n",
    "VALID_FUEL_TYPE = set(['PE', 'DI', 'HY', 'EL', 'OT', 'LP', 'ED', 'GB', 'FC', 'CN', 'GA', 'GD','ST', 'LN'])\n",
    "\n",
    "# by default Column has nullable, coerce, unique, refex == False\n",
    "# title is not needed nor description\n",
    "\n",
    "# other checks?\n",
    "# test_mileage 5th percentile > xxx as most should be \"sensible\"\n",
    "# postcode_area xx very rare\n",
    "# cylinder_capacity typically more than ...\n",
    "# first_use_date > ... something reasonable\n",
    "\n",
    "\n",
    "schema = DataFrameSchema(\n",
    "    columns={\n",
    "        \"test_id\": Column(\n",
    "            dtype=\"int64\",\n",
    "            checks=[\n",
    "                #Check.greater_than_or_equal_to(min_value=31563.0),\n",
    "                #Check.less_than_or_equal_to(max_value=1999897323.0),\n",
    "            ],\n",
    "        ),\n",
    "        \"vehicle_id\": Column(\n",
    "            dtype=\"int64\",\n",
    "            checks=[\n",
    "                #Check.greater_than_or_equal_to(min_value=108275.0),\n",
    "                #Check.less_than_or_equal_to(max_value=1499704119.0),\n",
    "            ],\n",
    "        ),\n",
    "        \"test_date\": Column(\n",
    "            dtype=\"object\",\n",
    "        ),\n",
    "        \"test_class_id\": Column(\n",
    "            dtype=\"int64\",\n",
    "            checks=[\n",
    "                Check.greater_than_or_equal_to(min_value=1.0),\n",
    "                Check.less_than_or_equal_to(max_value=7.0),\n",
    "            ],\n",
    "        ),\n",
    "        \"test_type\": Column(\n",
    "            dtype=\"object\",\n",
    "            checks=[pa.Check(lambda s: s.isin(VALID_TEST_TYPE))],\n",
    "        ),\n",
    "        \"test_result\": Column(\n",
    "            dtype=\"object\",\n",
    "            checks=[Check(lambda s: s.isin(VALID_TEST_RESULT)),\n",
    "                    # we normally see 75% pass rate, so test >60%\n",
    "                    Check(lambda ser: ((ser == 'P').sum() / ser.size) > 0.6)],\n",
    "        ),\n",
    "        \"test_mileage\": Column(\n",
    "            dtype=\"float64\",\n",
    "            checks=[\n",
    "                # we do get 1-10 miles on the clock!\n",
    "                Check.greater_than_or_equal_to(min_value=1.0),\n",
    "                Check.less_than_or_equal_to(max_value=999999.0),\n",
    "            ],\n",
    "            nullable=True,\n",
    "        ),\n",
    "        \"postcode_area\": Column(\n",
    "            dtype=\"object\",\n",
    "            checks=None,\n",
    "        ),\n",
    "        \"make\": Column(\n",
    "            dtype=\"object\",\n",
    "        ),\n",
    "        \"model\": Column(\n",
    "            dtype=\"object\",\n",
    "            nullable=True, # 1 case\n",
    "            checks=[pa.Check(lambda ser: ser.isnull().sum() <= 5)]\n",
    "        ),\n",
    "        \"colour\": Column(\n",
    "            dtype=\"object\",\n",
    "            checks=[pa.Check(lambda s: s.isin(VALID_COLOUR))],\n",
    "        ),\n",
    "        \"fuel_type\": Column(\n",
    "            dtype=\"object\",\n",
    "            checks=[Check(lambda s: s.isin(VALID_FUEL_TYPE))],\n",
    "        ),\n",
    "        \"cylinder_capacity\": Column(\n",
    "            dtype=\"float64\",\n",
    "            checks=[\n",
    "                Check.greater_than_or_equal_to(min_value=0.0),\n",
    "                Check.less_than_or_equal_to(max_value=90000.0),\n",
    "                Check(lambda ser: ser.quantile(0.05) > 500)\n",
    "            ],\n",
    "            nullable=True,\n",
    "        ),\n",
    "        \"first_use_date\": Column(\n",
    "            #dtype=\"datetime64[ns]\",\n",
    "            dtype='object',\n",
    "            nullable=True\n",
    "        ),\n",
    "    },\n",
    "    checks=None,\n",
    "    index=Index(\n",
    "        dtype=\"int64\",\n",
    "        checks=[\n",
    "            #Check.greater_than_or_equal_to(min_value=1030.0),\n",
    "            #Check.less_than_or_equal_to(max_value=3362152.0),\n",
    "        ],\n",
    "    ),\n",
    "    dtype=None,\n",
    "    coerce=True,\n",
    "    strict=False,\n",
    "    name=None,\n",
    "    ordered=False,\n",
    "    unique=None,\n",
    "    report_duplicates=\"all\",\n",
    "    unique_column_names=False,\n",
    "    title=None,\n",
    "    description=None,\n",
    ")\n",
    "\n",
    "try:\n",
    "    schema.validate(df, lazy=True);\n",
    "    print(\"Validated ok\")\n",
    "except SchemaErrors as err:\n",
    "    print(err.failure_cases)  # dataframe of schema errors\n",
    "    print(err.data)  # invalid dataframe\n",
    "\n",
    "#schema.validate(df)"
   ]
  },
  {
   "cell_type": "markdown",
   "id": "1065e448-7a64-450e-84e1-997c6194dcee",
   "metadata": {},
   "source": [
    "# Some investigation"
   ]
  },
  {
   "cell_type": "code",
   "execution_count": 14,
   "id": "854048c4-23c9-4ea0-9a48-cba4776e6062",
   "metadata": {
    "tags": []
   },
   "outputs": [
    {
     "data": {
      "text/html": [
       "<div>\n",
       "<style scoped>\n",
       "    .dataframe tbody tr th:only-of-type {\n",
       "        vertical-align: middle;\n",
       "    }\n",
       "\n",
       "    .dataframe tbody tr th {\n",
       "        vertical-align: top;\n",
       "    }\n",
       "\n",
       "    .dataframe thead th {\n",
       "        text-align: right;\n",
       "    }\n",
       "</style>\n",
       "<table border=\"1\" class=\"dataframe\">\n",
       "  <thead>\n",
       "    <tr style=\"text-align: right;\">\n",
       "      <th></th>\n",
       "      <th>test_id</th>\n",
       "      <th>vehicle_id</th>\n",
       "      <th>test_class_id</th>\n",
       "      <th>test_mileage</th>\n",
       "      <th>cylinder_capacity</th>\n",
       "    </tr>\n",
       "  </thead>\n",
       "  <tbody>\n",
       "    <tr>\n",
       "      <th>count</th>\n",
       "      <td>3.363318e+06</td>\n",
       "      <td>3.363318e+06</td>\n",
       "      <td>3.363318e+06</td>\n",
       "      <td>3.338086e+06</td>\n",
       "      <td>3.355367e+06</td>\n",
       "    </tr>\n",
       "    <tr>\n",
       "      <th>mean</th>\n",
       "      <td>9.995994e+08</td>\n",
       "      <td>7.499164e+08</td>\n",
       "      <td>4.026832e+00</td>\n",
       "      <td>7.412439e+04</td>\n",
       "      <td>1.712036e+03</td>\n",
       "    </tr>\n",
       "    <tr>\n",
       "      <th>std</th>\n",
       "      <td>5.773463e+08</td>\n",
       "      <td>4.330648e+08</td>\n",
       "      <td>6.198452e-01</td>\n",
       "      <td>4.866177e+04</td>\n",
       "      <td>6.081709e+02</td>\n",
       "    </tr>\n",
       "    <tr>\n",
       "      <th>min</th>\n",
       "      <td>8.100000e+01</td>\n",
       "      <td>5.720000e+02</td>\n",
       "      <td>1.000000e+00</td>\n",
       "      <td>1.000000e+00</td>\n",
       "      <td>0.000000e+00</td>\n",
       "    </tr>\n",
       "    <tr>\n",
       "      <th>25%</th>\n",
       "      <td>4.995695e+08</td>\n",
       "      <td>3.746636e+08</td>\n",
       "      <td>4.000000e+00</td>\n",
       "      <td>3.761700e+04</td>\n",
       "      <td>1.349000e+03</td>\n",
       "    </tr>\n",
       "    <tr>\n",
       "      <th>50%</th>\n",
       "      <td>9.990057e+08</td>\n",
       "      <td>7.497875e+08</td>\n",
       "      <td>4.000000e+00</td>\n",
       "      <td>6.561500e+04</td>\n",
       "      <td>1.598000e+03</td>\n",
       "    </tr>\n",
       "    <tr>\n",
       "      <th>75%</th>\n",
       "      <td>1.499446e+09</td>\n",
       "      <td>1.125029e+09</td>\n",
       "      <td>4.000000e+00</td>\n",
       "      <td>1.007970e+05</td>\n",
       "      <td>1.995000e+03</td>\n",
       "    </tr>\n",
       "    <tr>\n",
       "      <th>max</th>\n",
       "      <td>2.000000e+09</td>\n",
       "      <td>1.500000e+09</td>\n",
       "      <td>7.000000e+00</td>\n",
       "      <td>9.999990e+05</td>\n",
       "      <td>9.999900e+04</td>\n",
       "    </tr>\n",
       "  </tbody>\n",
       "</table>\n",
       "</div>"
      ],
      "text/plain": [
       "            test_id    vehicle_id  test_class_id  test_mileage   \n",
       "count  3.363318e+06  3.363318e+06   3.363318e+06  3.338086e+06  \\\n",
       "mean   9.995994e+08  7.499164e+08   4.026832e+00  7.412439e+04   \n",
       "std    5.773463e+08  4.330648e+08   6.198452e-01  4.866177e+04   \n",
       "min    8.100000e+01  5.720000e+02   1.000000e+00  1.000000e+00   \n",
       "25%    4.995695e+08  3.746636e+08   4.000000e+00  3.761700e+04   \n",
       "50%    9.990057e+08  7.497875e+08   4.000000e+00  6.561500e+04   \n",
       "75%    1.499446e+09  1.125029e+09   4.000000e+00  1.007970e+05   \n",
       "max    2.000000e+09  1.500000e+09   7.000000e+00  9.999990e+05   \n",
       "\n",
       "       cylinder_capacity  \n",
       "count       3.355367e+06  \n",
       "mean        1.712036e+03  \n",
       "std         6.081709e+02  \n",
       "min         0.000000e+00  \n",
       "25%         1.349000e+03  \n",
       "50%         1.598000e+03  \n",
       "75%         1.995000e+03  \n",
       "max         9.999900e+04  "
      ]
     },
     "execution_count": 14,
     "metadata": {},
     "output_type": "execute_result"
    },
    {
     "name": "stdout",
     "output_type": "stream",
     "text": [
      "In [14] used 0.2 MiB RAM in 0.45s (system mean cpu 8%, single max cpu 100%), peaked 179.3 MiB above final usage, current RAM usage now 1470.7 MiB\n"
     ]
    }
   ],
   "source": [
    "df.describe()"
   ]
  },
  {
   "cell_type": "markdown",
   "id": "6e2b19a8-e12b-434f-acff-11a56d11c409",
   "metadata": {},
   "source": [
    "## can we get median cylinder values?"
   ]
  },
  {
   "cell_type": "code",
   "execution_count": 15,
   "id": "14371d86-685b-4787-b625-e3a2a4acffd4",
   "metadata": {
    "tags": []
   },
   "outputs": [
    {
     "name": "stdout",
     "output_type": "stream",
     "text": [
      "CPU times: user 185 ms, sys: 16.7 ms, total: 202 ms\n",
      "Wall time: 198 ms\n"
     ]
    },
    {
     "data": {
      "text/plain": [
       "make\n",
       "AEC ROUTEMASTER        0.0\n",
       "TESLA                  0.0\n",
       "CYCLEMASTER           25.0\n",
       "WPB                   47.0\n",
       "JUNAK                 48.0\n",
       "                    ...   \n",
       "SETRA              11956.0\n",
       "NEWEL              12060.0\n",
       "IRIZAR             12902.0\n",
       "KENWORTH           14000.0\n",
       "NEWELL 39 BH       15000.0\n",
       "Name: cylinder_capacity, Length: 2061, dtype: float64"
      ]
     },
     "execution_count": 15,
     "metadata": {},
     "output_type": "execute_result"
    },
    {
     "name": "stdout",
     "output_type": "stream",
     "text": [
      "In [15] used 0.1 MiB RAM in 0.30s (system mean cpu 6%, single max cpu 80%), peaked 39.9 MiB above final usage, current RAM usage now 1470.7 MiB\n"
     ]
    }
   ],
   "source": [
    "# lots of NaN values!\n",
    "%time df.groupby('make')['cylinder_capacity'].median().sort_values().dropna()"
   ]
  },
  {
   "cell_type": "code",
   "execution_count": 16,
   "id": "3a7d04b5-8c5d-4f91-a0f0-738030e7617b",
   "metadata": {
    "tags": []
   },
   "outputs": [
    {
     "data": {
      "text/plain": [
       "1124"
      ]
     },
     "execution_count": 16,
     "metadata": {},
     "output_type": "execute_result"
    },
    {
     "name": "stdout",
     "output_type": "stream",
     "text": [
      "In [16] used 0.0 MiB RAM in 0.20s (system mean cpu 6%, single max cpu 83%), peaked 0.0 MiB above final usage, current RAM usage now 1470.7 MiB\n"
     ]
    }
   ],
   "source": [
    "df['make'].value_counts().loc['TESLA']"
   ]
  },
  {
   "cell_type": "code",
   "execution_count": 17,
   "id": "2bec6abc-4b61-4705-8e0d-4854b030489a",
   "metadata": {
    "tags": []
   },
   "outputs": [
    {
     "data": {
      "text/html": [
       "<div>\n",
       "<style scoped>\n",
       "    .dataframe tbody tr th:only-of-type {\n",
       "        vertical-align: middle;\n",
       "    }\n",
       "\n",
       "    .dataframe tbody tr th {\n",
       "        vertical-align: top;\n",
       "    }\n",
       "\n",
       "    .dataframe thead th {\n",
       "        text-align: right;\n",
       "    }\n",
       "</style>\n",
       "<table border=\"1\" class=\"dataframe\">\n",
       "  <thead>\n",
       "    <tr style=\"text-align: right;\">\n",
       "      <th></th>\n",
       "      <th>median</th>\n",
       "      <th>size</th>\n",
       "    </tr>\n",
       "    <tr>\n",
       "      <th>make</th>\n",
       "      <th></th>\n",
       "      <th></th>\n",
       "    </tr>\n",
       "  </thead>\n",
       "  <tbody>\n",
       "    <tr>\n",
       "      <th>.</th>\n",
       "      <td>1998.0</td>\n",
       "      <td>1</td>\n",
       "    </tr>\n",
       "    <tr>\n",
       "      <th>23 T REPLICA</th>\n",
       "      <td>5000.0</td>\n",
       "      <td>1</td>\n",
       "    </tr>\n",
       "    <tr>\n",
       "      <th>72 MOTORCYCLES 961</th>\n",
       "      <td>961.0</td>\n",
       "      <td>1</td>\n",
       "    </tr>\n",
       "    <tr>\n",
       "      <th>A K</th>\n",
       "      <td>6300.0</td>\n",
       "      <td>1</td>\n",
       "    </tr>\n",
       "    <tr>\n",
       "      <th>A K SPORTSCARS</th>\n",
       "      <td>5700.0</td>\n",
       "      <td>1</td>\n",
       "    </tr>\n",
       "    <tr>\n",
       "      <th>...</th>\n",
       "      <td>...</td>\n",
       "      <td>...</td>\n",
       "    </tr>\n",
       "    <tr>\n",
       "      <th>\\URAL WOLF</th>\n",
       "      <td>745.0</td>\n",
       "      <td>1</td>\n",
       "    </tr>\n",
       "    <tr>\n",
       "      <th>branford</th>\n",
       "      <td>1796.0</td>\n",
       "      <td>1</td>\n",
       "    </tr>\n",
       "    <tr>\n",
       "      <th>niesmann+bischoff</th>\n",
       "      <td>2287.0</td>\n",
       "      <td>1</td>\n",
       "    </tr>\n",
       "    <tr>\n",
       "      <th>stlocost</th>\n",
       "      <td>1600.0</td>\n",
       "      <td>1</td>\n",
       "    </tr>\n",
       "    <tr>\n",
       "      <th>stretton</th>\n",
       "      <td>1994.0</td>\n",
       "      <td>1</td>\n",
       "    </tr>\n",
       "  </tbody>\n",
       "</table>\n",
       "<p>1415 rows × 2 columns</p>\n",
       "</div>"
      ],
      "text/plain": [
       "                    median  size\n",
       "make                            \n",
       ".                   1998.0     1\n",
       "23 T REPLICA        5000.0     1\n",
       "72 MOTORCYCLES 961   961.0     1\n",
       "A K                 6300.0     1\n",
       "A K SPORTSCARS      5700.0     1\n",
       "...                    ...   ...\n",
       "\\URAL WOLF           745.0     1\n",
       "branford            1796.0     1\n",
       "niesmann+bischoff   2287.0     1\n",
       "stlocost            1600.0     1\n",
       "stretton            1994.0     1\n",
       "\n",
       "[1415 rows x 2 columns]"
      ]
     },
     "execution_count": 17,
     "metadata": {},
     "output_type": "execute_result"
    },
    {
     "name": "stdout",
     "output_type": "stream",
     "text": [
      "In [17] used 0.1 MiB RAM in 0.31s (system mean cpu 13%, single max cpu 87%), peaked 32.0 MiB above final usage, current RAM usage now 1470.8 MiB\n"
     ]
    }
   ],
   "source": [
    "agg_result = df.groupby('make')['cylinder_capacity'].agg(['median', 'size'])\n",
    "#agg_result.query('size > 10').dropna().sort_values('median')\n",
    "agg_result.query('size == 1').sort_index()"
   ]
  },
  {
   "cell_type": "markdown",
   "id": "036e82c1-b87d-4420-a8a2-1b1e355d52c8",
   "metadata": {
    "tags": []
   },
   "source": [
    "# Check for high outliers"
   ]
  },
  {
   "cell_type": "code",
   "execution_count": 18,
   "id": "e754e11b-cfa7-42fe-8b97-ec71cd369e26",
   "metadata": {
    "tags": []
   },
   "outputs": [
    {
     "name": "stdout",
     "output_type": "stream",
     "text": [
      "CPU times: user 13.2 ms, sys: 10.1 ms, total: 23.2 ms\n",
      "Wall time: 14.4 ms\n"
     ]
    },
    {
     "data": {
      "text/html": [
       "<div>\n",
       "<style scoped>\n",
       "    .dataframe tbody tr th:only-of-type {\n",
       "        vertical-align: middle;\n",
       "    }\n",
       "\n",
       "    .dataframe tbody tr th {\n",
       "        vertical-align: top;\n",
       "    }\n",
       "\n",
       "    .dataframe thead th {\n",
       "        text-align: right;\n",
       "    }\n",
       "</style>\n",
       "<table border=\"1\" class=\"dataframe\">\n",
       "  <thead>\n",
       "    <tr style=\"text-align: right;\">\n",
       "      <th></th>\n",
       "      <th>test_id</th>\n",
       "      <th>vehicle_id</th>\n",
       "      <th>test_date</th>\n",
       "      <th>test_class_id</th>\n",
       "      <th>test_type</th>\n",
       "      <th>test_result</th>\n",
       "      <th>test_mileage</th>\n",
       "      <th>postcode_area</th>\n",
       "      <th>make</th>\n",
       "      <th>model</th>\n",
       "      <th>colour</th>\n",
       "      <th>fuel_type</th>\n",
       "      <th>cylinder_capacity</th>\n",
       "      <th>first_use_date</th>\n",
       "    </tr>\n",
       "  </thead>\n",
       "  <tbody>\n",
       "    <tr>\n",
       "      <th>33745</th>\n",
       "      <td>1297693989</td>\n",
       "      <td>1344432418</td>\n",
       "      <td>2021-01-06</td>\n",
       "      <td>4</td>\n",
       "      <td>NT</td>\n",
       "      <td>F</td>\n",
       "      <td>951754.0</td>\n",
       "      <td>BA</td>\n",
       "      <td>HONDA</td>\n",
       "      <td>JAZZ</td>\n",
       "      <td>SILVER</td>\n",
       "      <td>PE</td>\n",
       "      <td>1339.0</td>\n",
       "      <td>2007-01-16</td>\n",
       "    </tr>\n",
       "    <tr>\n",
       "      <th>62254</th>\n",
       "      <td>1614512021</td>\n",
       "      <td>636606532</td>\n",
       "      <td>2021-01-08</td>\n",
       "      <td>4</td>\n",
       "      <td>NT</td>\n",
       "      <td>PRS</td>\n",
       "      <td>999999.0</td>\n",
       "      <td>PO</td>\n",
       "      <td>BMW</td>\n",
       "      <td>3 SERIES</td>\n",
       "      <td>GREY</td>\n",
       "      <td>DI</td>\n",
       "      <td>1995.0</td>\n",
       "      <td>2006-09-29</td>\n",
       "    </tr>\n",
       "    <tr>\n",
       "      <th>69845</th>\n",
       "      <td>122850953</td>\n",
       "      <td>1187092340</td>\n",
       "      <td>2021-01-08</td>\n",
       "      <td>4</td>\n",
       "      <td>NT</td>\n",
       "      <td>P</td>\n",
       "      <td>988887.0</td>\n",
       "      <td>NN</td>\n",
       "      <td>CITROEN</td>\n",
       "      <td>C5</td>\n",
       "      <td>SILVER</td>\n",
       "      <td>DI</td>\n",
       "      <td>1560.0</td>\n",
       "      <td>2009-02-25</td>\n",
       "    </tr>\n",
       "    <tr>\n",
       "      <th>158987</th>\n",
       "      <td>1749208389</td>\n",
       "      <td>1480182044</td>\n",
       "      <td>2021-01-18</td>\n",
       "      <td>4</td>\n",
       "      <td>NT</td>\n",
       "      <td>F</td>\n",
       "      <td>987593.0</td>\n",
       "      <td>CR</td>\n",
       "      <td>LAND ROVER</td>\n",
       "      <td>DEFENDER</td>\n",
       "      <td>BLACK</td>\n",
       "      <td>DI</td>\n",
       "      <td>2495.0</td>\n",
       "      <td>2006-09-14</td>\n",
       "    </tr>\n",
       "    <tr>\n",
       "      <th>166001</th>\n",
       "      <td>1648075641</td>\n",
       "      <td>554252046</td>\n",
       "      <td>2021-01-18</td>\n",
       "      <td>4</td>\n",
       "      <td>RT</td>\n",
       "      <td>P</td>\n",
       "      <td>900857.0</td>\n",
       "      <td>TR</td>\n",
       "      <td>PORSCHE</td>\n",
       "      <td>CAYENNE</td>\n",
       "      <td>BLACK</td>\n",
       "      <td>PE</td>\n",
       "      <td>3189.0</td>\n",
       "      <td>2005-07-15</td>\n",
       "    </tr>\n",
       "    <tr>\n",
       "      <th>...</th>\n",
       "      <td>...</td>\n",
       "      <td>...</td>\n",
       "      <td>...</td>\n",
       "      <td>...</td>\n",
       "      <td>...</td>\n",
       "      <td>...</td>\n",
       "      <td>...</td>\n",
       "      <td>...</td>\n",
       "      <td>...</td>\n",
       "      <td>...</td>\n",
       "      <td>...</td>\n",
       "      <td>...</td>\n",
       "      <td>...</td>\n",
       "      <td>...</td>\n",
       "    </tr>\n",
       "    <tr>\n",
       "      <th>3329220</th>\n",
       "      <td>1033470119</td>\n",
       "      <td>1176507753</td>\n",
       "      <td>2021-12-22</td>\n",
       "      <td>4</td>\n",
       "      <td>RT</td>\n",
       "      <td>P</td>\n",
       "      <td>902476.0</td>\n",
       "      <td>OL</td>\n",
       "      <td>NISSAN</td>\n",
       "      <td>JUKE</td>\n",
       "      <td>WHITE</td>\n",
       "      <td>DI</td>\n",
       "      <td>1461.0</td>\n",
       "      <td>2012-09-21</td>\n",
       "    </tr>\n",
       "    <tr>\n",
       "      <th>3330573</th>\n",
       "      <td>1266268489</td>\n",
       "      <td>883822017</td>\n",
       "      <td>2021-12-22</td>\n",
       "      <td>4</td>\n",
       "      <td>RT</td>\n",
       "      <td>P</td>\n",
       "      <td>907368.0</td>\n",
       "      <td>CF</td>\n",
       "      <td>CITROEN</td>\n",
       "      <td>BERLINGO</td>\n",
       "      <td>WHITE</td>\n",
       "      <td>DI</td>\n",
       "      <td>1560.0</td>\n",
       "      <td>2016-01-01</td>\n",
       "    </tr>\n",
       "    <tr>\n",
       "      <th>3350016</th>\n",
       "      <td>289212107</td>\n",
       "      <td>1382033673</td>\n",
       "      <td>2021-12-29</td>\n",
       "      <td>4</td>\n",
       "      <td>NT</td>\n",
       "      <td>PRS</td>\n",
       "      <td>912755.0</td>\n",
       "      <td>CB</td>\n",
       "      <td>FIAT</td>\n",
       "      <td>500</td>\n",
       "      <td>WHITE</td>\n",
       "      <td>PE</td>\n",
       "      <td>1242.0</td>\n",
       "      <td>2012-10-30</td>\n",
       "    </tr>\n",
       "    <tr>\n",
       "      <th>3351074</th>\n",
       "      <td>400882769</td>\n",
       "      <td>402765766</td>\n",
       "      <td>2021-12-29</td>\n",
       "      <td>4</td>\n",
       "      <td>NT</td>\n",
       "      <td>PRS</td>\n",
       "      <td>904635.0</td>\n",
       "      <td>DA</td>\n",
       "      <td>HONDA</td>\n",
       "      <td>CIVIC</td>\n",
       "      <td>RED</td>\n",
       "      <td>PE</td>\n",
       "      <td>1339.0</td>\n",
       "      <td>2009-07-10</td>\n",
       "    </tr>\n",
       "    <tr>\n",
       "      <th>3351860</th>\n",
       "      <td>961151383</td>\n",
       "      <td>537584270</td>\n",
       "      <td>2021-12-23</td>\n",
       "      <td>4</td>\n",
       "      <td>RT</td>\n",
       "      <td>P</td>\n",
       "      <td>906718.0</td>\n",
       "      <td>MK</td>\n",
       "      <td>MERCEDES-BENZ</td>\n",
       "      <td>C</td>\n",
       "      <td>RED</td>\n",
       "      <td>PE</td>\n",
       "      <td>1796.0</td>\n",
       "      <td>2006-11-06</td>\n",
       "    </tr>\n",
       "  </tbody>\n",
       "</table>\n",
       "<p>141 rows × 14 columns</p>\n",
       "</div>"
      ],
      "text/plain": [
       "            test_id  vehicle_id   test_date  test_class_id test_type   \n",
       "33745    1297693989  1344432418  2021-01-06              4        NT  \\\n",
       "62254    1614512021   636606532  2021-01-08              4        NT   \n",
       "69845     122850953  1187092340  2021-01-08              4        NT   \n",
       "158987   1749208389  1480182044  2021-01-18              4        NT   \n",
       "166001   1648075641   554252046  2021-01-18              4        RT   \n",
       "...             ...         ...         ...            ...       ...   \n",
       "3329220  1033470119  1176507753  2021-12-22              4        RT   \n",
       "3330573  1266268489   883822017  2021-12-22              4        RT   \n",
       "3350016   289212107  1382033673  2021-12-29              4        NT   \n",
       "3351074   400882769   402765766  2021-12-29              4        NT   \n",
       "3351860   961151383   537584270  2021-12-23              4        RT   \n",
       "\n",
       "        test_result  test_mileage postcode_area           make     model   \n",
       "33745             F      951754.0            BA          HONDA      JAZZ  \\\n",
       "62254           PRS      999999.0            PO            BMW  3 SERIES   \n",
       "69845             P      988887.0            NN        CITROEN        C5   \n",
       "158987            F      987593.0            CR     LAND ROVER  DEFENDER   \n",
       "166001            P      900857.0            TR        PORSCHE   CAYENNE   \n",
       "...             ...           ...           ...            ...       ...   \n",
       "3329220           P      902476.0            OL         NISSAN      JUKE   \n",
       "3330573           P      907368.0            CF        CITROEN  BERLINGO   \n",
       "3350016         PRS      912755.0            CB           FIAT       500   \n",
       "3351074         PRS      904635.0            DA          HONDA     CIVIC   \n",
       "3351860           P      906718.0            MK  MERCEDES-BENZ         C   \n",
       "\n",
       "         colour fuel_type  cylinder_capacity first_use_date  \n",
       "33745    SILVER        PE             1339.0     2007-01-16  \n",
       "62254      GREY        DI             1995.0     2006-09-29  \n",
       "69845    SILVER        DI             1560.0     2009-02-25  \n",
       "158987    BLACK        DI             2495.0     2006-09-14  \n",
       "166001    BLACK        PE             3189.0     2005-07-15  \n",
       "...         ...       ...                ...            ...  \n",
       "3329220   WHITE        DI             1461.0     2012-09-21  \n",
       "3330573   WHITE        DI             1560.0     2016-01-01  \n",
       "3350016   WHITE        PE             1242.0     2012-10-30  \n",
       "3351074     RED        PE             1339.0     2009-07-10  \n",
       "3351860     RED        PE             1796.0     2006-11-06  \n",
       "\n",
       "[141 rows x 14 columns]"
      ]
     },
     "execution_count": 18,
     "metadata": {},
     "output_type": "execute_result"
    },
    {
     "name": "stdout",
     "output_type": "stream",
     "text": [
      "In [18] used 0.0 MiB RAM in 0.12s (system mean cpu 3%, single max cpu 33%), peaked 50.8 MiB above final usage, current RAM usage now 1470.9 MiB\n"
     ]
    }
   ],
   "source": [
    "%time df.query('test_mileage > 900000')"
   ]
  },
  {
   "cell_type": "code",
   "execution_count": 19,
   "id": "156f0c9d-0530-4961-af02-4423d61d326f",
   "metadata": {
    "tags": []
   },
   "outputs": [
    {
     "name": "stdout",
     "output_type": "stream",
     "text": [
      "CPU times: user 18.1 ms, sys: 4.85 ms, total: 23 ms\n",
      "Wall time: 14.9 ms\n"
     ]
    },
    {
     "data": {
      "text/html": [
       "<div>\n",
       "<style scoped>\n",
       "    .dataframe tbody tr th:only-of-type {\n",
       "        vertical-align: middle;\n",
       "    }\n",
       "\n",
       "    .dataframe tbody tr th {\n",
       "        vertical-align: top;\n",
       "    }\n",
       "\n",
       "    .dataframe thead th {\n",
       "        text-align: right;\n",
       "    }\n",
       "</style>\n",
       "<table border=\"1\" class=\"dataframe\">\n",
       "  <thead>\n",
       "    <tr style=\"text-align: right;\">\n",
       "      <th></th>\n",
       "      <th>test_id</th>\n",
       "      <th>vehicle_id</th>\n",
       "      <th>test_date</th>\n",
       "      <th>test_class_id</th>\n",
       "      <th>test_type</th>\n",
       "      <th>test_result</th>\n",
       "      <th>test_mileage</th>\n",
       "      <th>postcode_area</th>\n",
       "      <th>make</th>\n",
       "      <th>model</th>\n",
       "      <th>colour</th>\n",
       "      <th>fuel_type</th>\n",
       "      <th>cylinder_capacity</th>\n",
       "      <th>first_use_date</th>\n",
       "    </tr>\n",
       "  </thead>\n",
       "  <tbody>\n",
       "    <tr>\n",
       "      <th>71464</th>\n",
       "      <td>1432013001</td>\n",
       "      <td>591961431</td>\n",
       "      <td>2021-01-08</td>\n",
       "      <td>4</td>\n",
       "      <td>NT</td>\n",
       "      <td>P</td>\n",
       "      <td>63221.0</td>\n",
       "      <td>PA</td>\n",
       "      <td>MORRIS</td>\n",
       "      <td>MINOR</td>\n",
       "      <td>GREEN</td>\n",
       "      <td>PE</td>\n",
       "      <td>99999.0</td>\n",
       "      <td>1964-01-16</td>\n",
       "    </tr>\n",
       "    <tr>\n",
       "      <th>2985512</th>\n",
       "      <td>741969579</td>\n",
       "      <td>1628685</td>\n",
       "      <td>2021-11-18</td>\n",
       "      <td>2</td>\n",
       "      <td>NT</td>\n",
       "      <td>P</td>\n",
       "      <td>32269.0</td>\n",
       "      <td>DN</td>\n",
       "      <td>KAWASAKI</td>\n",
       "      <td>UNCLASSIFIED</td>\n",
       "      <td>RED</td>\n",
       "      <td>PE</td>\n",
       "      <td>74500.0</td>\n",
       "      <td>1976-12-30</td>\n",
       "    </tr>\n",
       "    <tr>\n",
       "      <th>992380</th>\n",
       "      <td>498699283</td>\n",
       "      <td>517322271</td>\n",
       "      <td>2021-04-13</td>\n",
       "      <td>4</td>\n",
       "      <td>NT</td>\n",
       "      <td>P</td>\n",
       "      <td>8449.0</td>\n",
       "      <td>LU</td>\n",
       "      <td>PEUGEOT</td>\n",
       "      <td>BOXER</td>\n",
       "      <td>GREY</td>\n",
       "      <td>DI</td>\n",
       "      <td>42198.0</td>\n",
       "      <td>2015-09-06</td>\n",
       "    </tr>\n",
       "    <tr>\n",
       "      <th>1303352</th>\n",
       "      <td>374453173</td>\n",
       "      <td>599030339</td>\n",
       "      <td>2021-06-03</td>\n",
       "      <td>4</td>\n",
       "      <td>RT</td>\n",
       "      <td>P</td>\n",
       "      <td>2045.0</td>\n",
       "      <td>LE</td>\n",
       "      <td>FIAT</td>\n",
       "      <td>BENIMAR</td>\n",
       "      <td>WHITE</td>\n",
       "      <td>DI</td>\n",
       "      <td>30356.0</td>\n",
       "      <td>2018-06-11</td>\n",
       "    </tr>\n",
       "    <tr>\n",
       "      <th>62591</th>\n",
       "      <td>1754700161</td>\n",
       "      <td>296821665</td>\n",
       "      <td>2021-01-08</td>\n",
       "      <td>4</td>\n",
       "      <td>NT</td>\n",
       "      <td>F</td>\n",
       "      <td>47660.0</td>\n",
       "      <td>BH</td>\n",
       "      <td>LAND ROVER</td>\n",
       "      <td>RANGE ROVER SPORT</td>\n",
       "      <td>WHITE</td>\n",
       "      <td>DI</td>\n",
       "      <td>29939.0</td>\n",
       "      <td>2013-10-31</td>\n",
       "    </tr>\n",
       "    <tr>\n",
       "      <th>3208980</th>\n",
       "      <td>637654345</td>\n",
       "      <td>704316925</td>\n",
       "      <td>2021-12-08</td>\n",
       "      <td>4</td>\n",
       "      <td>NT</td>\n",
       "      <td>P</td>\n",
       "      <td>NaN</td>\n",
       "      <td>CV</td>\n",
       "      <td>AUDI</td>\n",
       "      <td>A6</td>\n",
       "      <td>BLUE</td>\n",
       "      <td>PE</td>\n",
       "      <td>27771.0</td>\n",
       "      <td>1998-04-06</td>\n",
       "    </tr>\n",
       "    <tr>\n",
       "      <th>1728258</th>\n",
       "      <td>501195421</td>\n",
       "      <td>983720044</td>\n",
       "      <td>2021-07-24</td>\n",
       "      <td>4</td>\n",
       "      <td>NT</td>\n",
       "      <td>F</td>\n",
       "      <td>208587.0</td>\n",
       "      <td>S</td>\n",
       "      <td>FIAT</td>\n",
       "      <td>DUCATO</td>\n",
       "      <td>WHITE</td>\n",
       "      <td>DI</td>\n",
       "      <td>25000.0</td>\n",
       "      <td>2000-02-11</td>\n",
       "    </tr>\n",
       "    <tr>\n",
       "      <th>3289345</th>\n",
       "      <td>482727923</td>\n",
       "      <td>1446230594</td>\n",
       "      <td>2021-12-17</td>\n",
       "      <td>4</td>\n",
       "      <td>NT</td>\n",
       "      <td>P</td>\n",
       "      <td>90334.0</td>\n",
       "      <td>RM</td>\n",
       "      <td>BMW</td>\n",
       "      <td>Z4</td>\n",
       "      <td>SILVER</td>\n",
       "      <td>PE</td>\n",
       "      <td>24970.0</td>\n",
       "      <td>2006-03-23</td>\n",
       "    </tr>\n",
       "    <tr>\n",
       "      <th>270992</th>\n",
       "      <td>1700102771</td>\n",
       "      <td>171604722</td>\n",
       "      <td>2021-01-27</td>\n",
       "      <td>7</td>\n",
       "      <td>RT</td>\n",
       "      <td>P</td>\n",
       "      <td>172900.0</td>\n",
       "      <td>EX</td>\n",
       "      <td>FORD</td>\n",
       "      <td>TRANSIT</td>\n",
       "      <td>WHITE</td>\n",
       "      <td>DI</td>\n",
       "      <td>24023.0</td>\n",
       "      <td>2007-03-01</td>\n",
       "    </tr>\n",
       "    <tr>\n",
       "      <th>1690096</th>\n",
       "      <td>713980883</td>\n",
       "      <td>1388328466</td>\n",
       "      <td>2021-07-20</td>\n",
       "      <td>4</td>\n",
       "      <td>NT</td>\n",
       "      <td>P</td>\n",
       "      <td>49089.0</td>\n",
       "      <td>ST</td>\n",
       "      <td>FIAT</td>\n",
       "      <td>DUCATO</td>\n",
       "      <td>WHITE</td>\n",
       "      <td>DI</td>\n",
       "      <td>23000.0</td>\n",
       "      <td>2010-10-21</td>\n",
       "    </tr>\n",
       "    <tr>\n",
       "      <th>1245638</th>\n",
       "      <td>1717976171</td>\n",
       "      <td>333317966</td>\n",
       "      <td>2021-05-26</td>\n",
       "      <td>7</td>\n",
       "      <td>NT</td>\n",
       "      <td>P</td>\n",
       "      <td>110278.0</td>\n",
       "      <td>CF</td>\n",
       "      <td>VAUXHALL</td>\n",
       "      <td>MOVANO</td>\n",
       "      <td>BLUE</td>\n",
       "      <td>DI</td>\n",
       "      <td>22900.0</td>\n",
       "      <td>2011-05-27</td>\n",
       "    </tr>\n",
       "    <tr>\n",
       "      <th>2934097</th>\n",
       "      <td>1302779949</td>\n",
       "      <td>1064532736</td>\n",
       "      <td>2021-11-15</td>\n",
       "      <td>7</td>\n",
       "      <td>NT</td>\n",
       "      <td>F</td>\n",
       "      <td>141478.0</td>\n",
       "      <td>KY</td>\n",
       "      <td>VAUXHALL</td>\n",
       "      <td>MOVANO</td>\n",
       "      <td>BLUE</td>\n",
       "      <td>DI</td>\n",
       "      <td>22900.0</td>\n",
       "      <td>2011-05-27</td>\n",
       "    </tr>\n",
       "    <tr>\n",
       "      <th>1749629</th>\n",
       "      <td>530173721</td>\n",
       "      <td>918254690</td>\n",
       "      <td>2021-07-28</td>\n",
       "      <td>5</td>\n",
       "      <td>NT</td>\n",
       "      <td>F</td>\n",
       "      <td>36282.0</td>\n",
       "      <td>PE</td>\n",
       "      <td>PEUGEOT</td>\n",
       "      <td>BOXER</td>\n",
       "      <td>WHITE</td>\n",
       "      <td>DI</td>\n",
       "      <td>21098.0</td>\n",
       "      <td>2013-05-23</td>\n",
       "    </tr>\n",
       "  </tbody>\n",
       "</table>\n",
       "</div>"
      ],
      "text/plain": [
       "            test_id  vehicle_id   test_date  test_class_id test_type   \n",
       "71464    1432013001   591961431  2021-01-08              4        NT  \\\n",
       "2985512   741969579     1628685  2021-11-18              2        NT   \n",
       "992380    498699283   517322271  2021-04-13              4        NT   \n",
       "1303352   374453173   599030339  2021-06-03              4        RT   \n",
       "62591    1754700161   296821665  2021-01-08              4        NT   \n",
       "3208980   637654345   704316925  2021-12-08              4        NT   \n",
       "1728258   501195421   983720044  2021-07-24              4        NT   \n",
       "3289345   482727923  1446230594  2021-12-17              4        NT   \n",
       "270992   1700102771   171604722  2021-01-27              7        RT   \n",
       "1690096   713980883  1388328466  2021-07-20              4        NT   \n",
       "1245638  1717976171   333317966  2021-05-26              7        NT   \n",
       "2934097  1302779949  1064532736  2021-11-15              7        NT   \n",
       "1749629   530173721   918254690  2021-07-28              5        NT   \n",
       "\n",
       "        test_result  test_mileage postcode_area        make   \n",
       "71464             P       63221.0            PA      MORRIS  \\\n",
       "2985512           P       32269.0            DN    KAWASAKI   \n",
       "992380            P        8449.0            LU     PEUGEOT   \n",
       "1303352           P        2045.0            LE        FIAT   \n",
       "62591             F       47660.0            BH  LAND ROVER   \n",
       "3208980           P           NaN            CV        AUDI   \n",
       "1728258           F      208587.0             S        FIAT   \n",
       "3289345           P       90334.0            RM         BMW   \n",
       "270992            P      172900.0            EX        FORD   \n",
       "1690096           P       49089.0            ST        FIAT   \n",
       "1245638           P      110278.0            CF    VAUXHALL   \n",
       "2934097           F      141478.0            KY    VAUXHALL   \n",
       "1749629           F       36282.0            PE     PEUGEOT   \n",
       "\n",
       "                     model  colour fuel_type  cylinder_capacity first_use_date  \n",
       "71464                MINOR   GREEN        PE            99999.0     1964-01-16  \n",
       "2985512       UNCLASSIFIED     RED        PE            74500.0     1976-12-30  \n",
       "992380               BOXER    GREY        DI            42198.0     2015-09-06  \n",
       "1303352            BENIMAR   WHITE        DI            30356.0     2018-06-11  \n",
       "62591    RANGE ROVER SPORT   WHITE        DI            29939.0     2013-10-31  \n",
       "3208980                 A6    BLUE        PE            27771.0     1998-04-06  \n",
       "1728258             DUCATO   WHITE        DI            25000.0     2000-02-11  \n",
       "3289345                 Z4  SILVER        PE            24970.0     2006-03-23  \n",
       "270992             TRANSIT   WHITE        DI            24023.0     2007-03-01  \n",
       "1690096             DUCATO   WHITE        DI            23000.0     2010-10-21  \n",
       "1245638             MOVANO    BLUE        DI            22900.0     2011-05-27  \n",
       "2934097             MOVANO    BLUE        DI            22900.0     2011-05-27  \n",
       "1749629              BOXER   WHITE        DI            21098.0     2013-05-23  "
      ]
     },
     "execution_count": 19,
     "metadata": {},
     "output_type": "execute_result"
    },
    {
     "name": "stdout",
     "output_type": "stream",
     "text": [
      "In [19] used 0.0 MiB RAM in 0.12s (system mean cpu 8%, single max cpu 100%), peaked 1.0 MiB above final usage, current RAM usage now 1470.9 MiB\n"
     ]
    }
   ],
   "source": [
    "%time df.query('cylinder_capacity > 20000').sort_values('cylinder_capacity', ascending=False)"
   ]
  },
  {
   "cell_type": "markdown",
   "id": "e6ef9637-7cf8-4284-828d-b9205f889bee",
   "metadata": {},
   "source": [
    "## drop rows with nan cylinder capacity - how many left? does groupby do better?"
   ]
  },
  {
   "cell_type": "code",
   "execution_count": 20,
   "id": "de5749ba-fe50-4e2e-9b99-734aab65df0b",
   "metadata": {
    "tags": []
   },
   "outputs": [
    {
     "data": {
      "text/plain": [
       "7951"
      ]
     },
     "execution_count": 20,
     "metadata": {},
     "output_type": "execute_result"
    },
    {
     "name": "stdout",
     "output_type": "stream",
     "text": [
      "In [20] used 0.0 MiB RAM in 0.10s (system mean cpu 4%, single max cpu 71%), peaked 0.0 MiB above final usage, current RAM usage now 1470.9 MiB\n"
     ]
    }
   ],
   "source": [
    "mask = df['cylinder_capacity'].isna()\n",
    "mask.sum() # nbr of rows to remove"
   ]
  },
  {
   "cell_type": "code",
   "execution_count": 21,
   "id": "ca3c15d1-3f5a-40e8-b3e0-1e132afa94aa",
   "metadata": {
    "tags": []
   },
   "outputs": [
    {
     "data": {
      "text/plain": [
       "(3355367, 14)"
      ]
     },
     "execution_count": 21,
     "metadata": {},
     "output_type": "execute_result"
    },
    {
     "name": "stdout",
     "output_type": "stream",
     "text": [
      "In [21] used 409.4 MiB RAM in 0.30s (system mean cpu 11%, single max cpu 100%), peaked 0.0 MiB above final usage, current RAM usage now 1880.3 MiB\n"
     ]
    }
   ],
   "source": [
    "df_nonan_cylcap = df[~mask]\n",
    "df_nonan_cylcap.shape"
   ]
  },
  {
   "cell_type": "code",
   "execution_count": 22,
   "id": "7cd81b99-d852-4804-a6df-e7d0a961e311",
   "metadata": {
    "tags": []
   },
   "outputs": [
    {
     "data": {
      "text/html": [
       "<div>\n",
       "<style scoped>\n",
       "    .dataframe tbody tr th:only-of-type {\n",
       "        vertical-align: middle;\n",
       "    }\n",
       "\n",
       "    .dataframe tbody tr th {\n",
       "        vertical-align: top;\n",
       "    }\n",
       "\n",
       "    .dataframe thead th {\n",
       "        text-align: right;\n",
       "    }\n",
       "</style>\n",
       "<table border=\"1\" class=\"dataframe\">\n",
       "  <thead>\n",
       "    <tr style=\"text-align: right;\">\n",
       "      <th></th>\n",
       "      <th>median</th>\n",
       "      <th>size</th>\n",
       "    </tr>\n",
       "    <tr>\n",
       "      <th>make</th>\n",
       "      <th></th>\n",
       "      <th></th>\n",
       "    </tr>\n",
       "  </thead>\n",
       "  <tbody>\n",
       "    <tr>\n",
       "      <th>MALAGUTI</th>\n",
       "      <td>49.0</td>\n",
       "      <td>14</td>\n",
       "    </tr>\n",
       "    <tr>\n",
       "      <th>MBK</th>\n",
       "      <td>49.0</td>\n",
       "      <td>14</td>\n",
       "    </tr>\n",
       "    <tr>\n",
       "      <th>EASY RIDER</th>\n",
       "      <td>49.0</td>\n",
       "      <td>19</td>\n",
       "    </tr>\n",
       "    <tr>\n",
       "      <th>BEELINE</th>\n",
       "      <td>49.0</td>\n",
       "      <td>14</td>\n",
       "    </tr>\n",
       "    <tr>\n",
       "      <th>DIRECT BIKES</th>\n",
       "      <td>49.0</td>\n",
       "      <td>109</td>\n",
       "    </tr>\n",
       "    <tr>\n",
       "      <th>...</th>\n",
       "      <td>...</td>\n",
       "      <td>...</td>\n",
       "    </tr>\n",
       "    <tr>\n",
       "      <th>ALEXANDER DENNIS</th>\n",
       "      <td>6700.0</td>\n",
       "      <td>13</td>\n",
       "    </tr>\n",
       "    <tr>\n",
       "      <th>ROLLS ROYCE</th>\n",
       "      <td>6749.0</td>\n",
       "      <td>481</td>\n",
       "    </tr>\n",
       "    <tr>\n",
       "      <th>WINNEBAGO</th>\n",
       "      <td>7200.0</td>\n",
       "      <td>16</td>\n",
       "    </tr>\n",
       "    <tr>\n",
       "      <th>DENNIS</th>\n",
       "      <td>8268.0</td>\n",
       "      <td>12</td>\n",
       "    </tr>\n",
       "    <tr>\n",
       "      <th>LEYLAND</th>\n",
       "      <td>8800.0</td>\n",
       "      <td>20</td>\n",
       "    </tr>\n",
       "  </tbody>\n",
       "</table>\n",
       "<p>267 rows × 2 columns</p>\n",
       "</div>"
      ],
      "text/plain": [
       "                  median  size\n",
       "make                          \n",
       "MALAGUTI            49.0    14\n",
       "MBK                 49.0    14\n",
       "EASY RIDER          49.0    19\n",
       "BEELINE             49.0    14\n",
       "DIRECT BIKES        49.0   109\n",
       "...                  ...   ...\n",
       "ALEXANDER DENNIS  6700.0    13\n",
       "ROLLS ROYCE       6749.0   481\n",
       "WINNEBAGO         7200.0    16\n",
       "DENNIS            8268.0    12\n",
       "LEYLAND           8800.0    20\n",
       "\n",
       "[267 rows x 2 columns]"
      ]
     },
     "execution_count": 22,
     "metadata": {},
     "output_type": "execute_result"
    },
    {
     "name": "stdout",
     "output_type": "stream",
     "text": [
      "In [22] used 25.5 MiB RAM in 0.30s (system mean cpu 17%, single max cpu 91%), peaked 0.0 MiB above final usage, current RAM usage now 1905.8 MiB\n"
     ]
    }
   ],
   "source": [
    "agg_result = df_nonan_cylcap.groupby('make')['cylinder_capacity'].agg(['median', 'size'])\n",
    "agg_result.query('size > 10').sort_values('median')\n",
    "#agg_result.query('size == 1').sort_index()"
   ]
  },
  {
   "cell_type": "code",
   "execution_count": 23,
   "id": "2cf1df1c-eff5-4b93-9f21-50aa0704c0ed",
   "metadata": {
    "tags": []
   },
   "outputs": [
    {
     "name": "stdout",
     "output_type": "stream",
     "text": [
      "CPU times: user 406 ms, sys: 88.8 ms, total: 495 ms\n",
      "Wall time: 492 ms\n"
     ]
    },
    {
     "data": {
      "text/html": [
       "<div>\n",
       "<style scoped>\n",
       "    .dataframe tbody tr th:only-of-type {\n",
       "        vertical-align: middle;\n",
       "    }\n",
       "\n",
       "    .dataframe tbody tr th {\n",
       "        vertical-align: top;\n",
       "    }\n",
       "\n",
       "    .dataframe thead th {\n",
       "        text-align: right;\n",
       "    }\n",
       "</style>\n",
       "<table border=\"1\" class=\"dataframe\">\n",
       "  <thead>\n",
       "    <tr style=\"text-align: right;\">\n",
       "      <th></th>\n",
       "      <th>median</th>\n",
       "      <th>size</th>\n",
       "    </tr>\n",
       "    <tr>\n",
       "      <th>make</th>\n",
       "      <th></th>\n",
       "      <th></th>\n",
       "    </tr>\n",
       "  </thead>\n",
       "  <tbody>\n",
       "    <tr>\n",
       "      <th>MALAGUTI</th>\n",
       "      <td>49.0</td>\n",
       "      <td>14</td>\n",
       "    </tr>\n",
       "    <tr>\n",
       "      <th>MBK</th>\n",
       "      <td>49.0</td>\n",
       "      <td>14</td>\n",
       "    </tr>\n",
       "    <tr>\n",
       "      <th>EASY RIDER</th>\n",
       "      <td>49.0</td>\n",
       "      <td>19</td>\n",
       "    </tr>\n",
       "    <tr>\n",
       "      <th>BEELINE</th>\n",
       "      <td>49.0</td>\n",
       "      <td>14</td>\n",
       "    </tr>\n",
       "    <tr>\n",
       "      <th>DIRECT BIKES</th>\n",
       "      <td>49.0</td>\n",
       "      <td>109</td>\n",
       "    </tr>\n",
       "    <tr>\n",
       "      <th>...</th>\n",
       "      <td>...</td>\n",
       "      <td>...</td>\n",
       "    </tr>\n",
       "    <tr>\n",
       "      <th>ALEXANDER DENNIS</th>\n",
       "      <td>6700.0</td>\n",
       "      <td>13</td>\n",
       "    </tr>\n",
       "    <tr>\n",
       "      <th>ROLLS ROYCE</th>\n",
       "      <td>6749.0</td>\n",
       "      <td>481</td>\n",
       "    </tr>\n",
       "    <tr>\n",
       "      <th>WINNEBAGO</th>\n",
       "      <td>7200.0</td>\n",
       "      <td>16</td>\n",
       "    </tr>\n",
       "    <tr>\n",
       "      <th>DENNIS</th>\n",
       "      <td>8268.0</td>\n",
       "      <td>12</td>\n",
       "    </tr>\n",
       "    <tr>\n",
       "      <th>LEYLAND</th>\n",
       "      <td>8800.0</td>\n",
       "      <td>20</td>\n",
       "    </tr>\n",
       "  </tbody>\n",
       "</table>\n",
       "<p>267 rows × 2 columns</p>\n",
       "</div>"
      ],
      "text/plain": [
       "                  median  size\n",
       "make                          \n",
       "MALAGUTI            49.0    14\n",
       "MBK                 49.0    14\n",
       "EASY RIDER          49.0    19\n",
       "BEELINE             49.0    14\n",
       "DIRECT BIKES        49.0   109\n",
       "...                  ...   ...\n",
       "ALEXANDER DENNIS  6700.0    13\n",
       "ROLLS ROYCE       6749.0   481\n",
       "WINNEBAGO         7200.0    16\n",
       "DENNIS            8268.0    12\n",
       "LEYLAND           8800.0    20\n",
       "\n",
       "[267 rows x 2 columns]"
      ]
     },
     "execution_count": 23,
     "metadata": {},
     "output_type": "execute_result"
    },
    {
     "name": "stdout",
     "output_type": "stream",
     "text": [
      "In [23] used -25.2 MiB RAM in 0.60s (system mean cpu 12%, single max cpu 100%), peaked 409.4 MiB above final usage, current RAM usage now 1880.6 MiB\n"
     ]
    }
   ],
   "source": [
    "%%time\n",
    "\n",
    "df[~df['cylinder_capacity'].isna()] \\\n",
    ".groupby('make')['cylinder_capacity'].agg(['median', 'size']) \\\n",
    ".query('size > 10').sort_values('median')\n",
    "#agg_result.query('size == 1').sort_index()"
   ]
  },
  {
   "cell_type": "code",
   "execution_count": null,
   "id": "76b54e63-dd8e-4de8-93c5-7f8ff4e7962a",
   "metadata": {},
   "outputs": [],
   "source": []
  }
 ],
 "metadata": {
  "kernelspec": {
   "display_name": "Python 3 (ipykernel)",
   "language": "python",
   "name": "python3"
  },
  "language_info": {
   "codemirror_mode": {
    "name": "ipython",
    "version": 3
   },
   "file_extension": ".py",
   "mimetype": "text/x-python",
   "name": "python",
   "nbconvert_exporter": "python",
   "pygments_lexer": "ipython3",
   "version": "3.11.3"
  }
 },
 "nbformat": 4,
 "nbformat_minor": 5
}
