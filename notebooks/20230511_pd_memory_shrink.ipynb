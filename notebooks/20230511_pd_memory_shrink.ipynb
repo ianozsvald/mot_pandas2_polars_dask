{
 "cells": [
  {
   "cell_type": "markdown",
   "id": "cf9c22e9-698a-4fb1-aee3-21d47ad5a0fe",
   "metadata": {
    "tags": []
   },
   "source": [
    "# Explore with Pandas"
   ]
  },
  {
   "cell_type": "code",
   "execution_count": 6,
   "id": "a2a1dd62-04db-4b97-8a07-fb2cca1e4277",
   "metadata": {
    "tags": []
   },
   "outputs": [
    {
     "data": {
      "text/plain": [
       "'2.0.1'"
      ]
     },
     "metadata": {},
     "output_type": "display_data"
    },
    {
     "data": {
      "text/plain": [
       "'memory profile enabled'"
      ]
     },
     "execution_count": 6,
     "metadata": {},
     "output_type": "execute_result"
    },
    {
     "name": "stdout",
     "output_type": "stream",
     "text": [
      "In [6] used 0.0000 MiB RAM in 0.11s, peaked 0.00 MiB above current, total RAM usage 143.12 MiB\n"
     ]
    }
   ],
   "source": [
    "import pandas as pd\n",
    "import os\n",
    "import glob\n",
    "display(pd.__version__)\n",
    "\n",
    "import ipython_memory_usage as imu\n",
    "%ipython_memory_usage_start"
   ]
  },
  {
   "cell_type": "code",
   "execution_count": 8,
   "id": "427c39e3-bd50-4868-a5d5-94eac62ab6a6",
   "metadata": {
    "tags": []
   },
   "outputs": [
    {
     "data": {
      "text/plain": [
       "('/home/ian/workspace/data/anonymised_mot_tests/test_result_2021',\n",
       " ['/home/ian/workspace/data/anonymised_mot_tests/test_result_2021/test_result_20220531131730_32355.csv',\n",
       "  '/home/ian/workspace/data/anonymised_mot_tests/test_result_2021/test_result_20220531131730_32361.csv',\n",
       "  '/home/ian/workspace/data/anonymised_mot_tests/test_result_2021/test_result_20220531131730_32372.csv',\n",
       "  '/home/ian/workspace/data/anonymised_mot_tests/test_result_2021/test_result_20220531131730_32367.csv',\n",
       "  '/home/ian/workspace/data/anonymised_mot_tests/test_result_2021/test_result_20220531131730_32365.csv',\n",
       "  '/home/ian/workspace/data/anonymised_mot_tests/test_result_2021/test_result_20220531131730_32386.csv',\n",
       "  '/home/ian/workspace/data/anonymised_mot_tests/test_result_2021/test_result_20220531131730_32357.csv',\n",
       "  '/home/ian/workspace/data/anonymised_mot_tests/test_result_2021/test_result_20220531131730_32378.csv',\n",
       "  '/home/ian/workspace/data/anonymised_mot_tests/test_result_2021/test_result_20220531131730_32370.csv',\n",
       "  '/home/ian/workspace/data/anonymised_mot_tests/test_result_2021/test_result_20220531131730_32360.csv',\n",
       "  '/home/ian/workspace/data/anonymised_mot_tests/test_result_2021/test_result_20220531131730_32384.csv',\n",
       "  '/home/ian/workspace/data/anonymised_mot_tests/test_result_2021/test_result_20220531131730_32375.csv'])"
      ]
     },
     "execution_count": 8,
     "metadata": {},
     "output_type": "execute_result"
    },
    {
     "name": "stdout",
     "output_type": "stream",
     "text": [
      "In [8] used 0.0000 MiB RAM in 0.11s, peaked 0.00 MiB above current, total RAM usage 143.12 MiB\n"
     ]
    }
   ],
   "source": [
    "DATA_FOLDER = '/home/ian/workspace/data/anonymised_mot_tests'\n",
    "DATA_FOLDER = os.path.join(DATA_FOLDER, 'test_result_2021')\n",
    "#DATA_FOLDER\n",
    "\n",
    "files = glob.glob(DATA_FOLDER+\"/test_result_*.csv\")\n",
    "DATA_FOLDER, files"
   ]
  },
  {
   "cell_type": "code",
   "execution_count": 9,
   "id": "5312fc17-c7e1-4062-a39a-94ce41b40d48",
   "metadata": {
    "tags": []
   },
   "outputs": [
    {
     "name": "stdout",
     "output_type": "stream",
     "text": [
      "In [9] used 415.9141 MiB RAM in 3.68s, peaked 339.67 MiB above current, total RAM usage 559.03 MiB\n"
     ]
    }
   ],
   "source": [
    "#filename = 'test_result_2021/test_result_20220531131730_32355.csv'\n",
    "filename = files[0]\n",
    "df = pd.read_csv(filename)"
   ]
  },
  {
   "cell_type": "code",
   "execution_count": 10,
   "id": "9dd7d8b6-aed5-4272-9ab0-f2c5a6eb1125",
   "metadata": {
    "tags": []
   },
   "outputs": [
    {
     "name": "stdout",
     "output_type": "stream",
     "text": [
      "<class 'pandas.core.frame.DataFrame'>\n",
      "RangeIndex: 3362528 entries, 0 to 3362527\n",
      "Data columns (total 14 columns):\n",
      " #   Column             Dtype  \n",
      "---  ------             -----  \n",
      " 0   test_id            int64  \n",
      " 1   vehicle_id         int64  \n",
      " 2   test_date          object \n",
      " 3   test_class_id      int64  \n",
      " 4   test_type          object \n",
      " 5   test_result        object \n",
      " 6   test_mileage       float64\n",
      " 7   postcode_area      object \n",
      " 8   make               object \n",
      " 9   model              object \n",
      " 10  colour             object \n",
      " 11  fuel_type          object \n",
      " 12  cylinder_capacity  float64\n",
      " 13  first_use_date     object \n",
      "dtypes: float64(2), int64(3), object(9)\n",
      "memory usage: 359.2+ MB\n",
      "In [10] used 0.0312 MiB RAM in 0.11s, peaked 0.00 MiB above current, total RAM usage 559.06 MiB\n"
     ]
    }
   ],
   "source": [
    "df.info()"
   ]
  },
  {
   "cell_type": "code",
   "execution_count": 11,
   "id": "3e6912a5-2093-4b57-9852-f2eac63a3e9f",
   "metadata": {
    "tags": []
   },
   "outputs": [
    {
     "data": {
      "text/plain": [
       "'2,005,492,851 bytes'"
      ]
     },
     "execution_count": 11,
     "metadata": {},
     "output_type": "execute_result"
    },
    {
     "name": "stdout",
     "output_type": "stream",
     "text": [
      "In [11] used 0.0000 MiB RAM in 2.05s, peaked 0.00 MiB above current, total RAM usage 559.06 MiB\n"
     ]
    }
   ],
   "source": [
    "f\"{df.memory_usage(deep=True).sum():,} bytes\""
   ]
  },
  {
   "cell_type": "code",
   "execution_count": 12,
   "id": "b33281d3-01bc-42d7-9038-471ff822f63a",
   "metadata": {
    "tags": []
   },
   "outputs": [
    {
     "data": {
      "text/html": [
       "<div>\n",
       "<style scoped>\n",
       "    .dataframe tbody tr th:only-of-type {\n",
       "        vertical-align: middle;\n",
       "    }\n",
       "\n",
       "    .dataframe tbody tr th {\n",
       "        vertical-align: top;\n",
       "    }\n",
       "\n",
       "    .dataframe thead th {\n",
       "        text-align: right;\n",
       "    }\n",
       "</style>\n",
       "<table border=\"1\" class=\"dataframe\">\n",
       "  <thead>\n",
       "    <tr style=\"text-align: right;\">\n",
       "      <th></th>\n",
       "      <th>test_id</th>\n",
       "      <th>vehicle_id</th>\n",
       "      <th>test_date</th>\n",
       "      <th>test_class_id</th>\n",
       "      <th>test_type</th>\n",
       "      <th>test_result</th>\n",
       "      <th>test_mileage</th>\n",
       "      <th>postcode_area</th>\n",
       "      <th>make</th>\n",
       "      <th>model</th>\n",
       "      <th>colour</th>\n",
       "      <th>fuel_type</th>\n",
       "      <th>cylinder_capacity</th>\n",
       "      <th>first_use_date</th>\n",
       "    </tr>\n",
       "  </thead>\n",
       "  <tbody>\n",
       "    <tr>\n",
       "      <th>545740</th>\n",
       "      <td>255192661</td>\n",
       "      <td>1308614922</td>\n",
       "      <td>2021-02-25</td>\n",
       "      <td>4</td>\n",
       "      <td>NT</td>\n",
       "      <td>P</td>\n",
       "      <td>78111.0</td>\n",
       "      <td>GL</td>\n",
       "      <td>MERCEDES-BENZ</td>\n",
       "      <td>ML</td>\n",
       "      <td>SILVER</td>\n",
       "      <td>DI</td>\n",
       "      <td>2688.0</td>\n",
       "      <td>2004-05-06</td>\n",
       "    </tr>\n",
       "    <tr>\n",
       "      <th>2425370</th>\n",
       "      <td>1506897001</td>\n",
       "      <td>1419426791</td>\n",
       "      <td>2021-09-30</td>\n",
       "      <td>4</td>\n",
       "      <td>NT</td>\n",
       "      <td>P</td>\n",
       "      <td>18393.0</td>\n",
       "      <td>BB</td>\n",
       "      <td>SEAT</td>\n",
       "      <td>ATECA</td>\n",
       "      <td>WHITE</td>\n",
       "      <td>PE</td>\n",
       "      <td>999.0</td>\n",
       "      <td>2018-09-28</td>\n",
       "    </tr>\n",
       "    <tr>\n",
       "      <th>2880600</th>\n",
       "      <td>162794693</td>\n",
       "      <td>148405769</td>\n",
       "      <td>2021-11-09</td>\n",
       "      <td>4</td>\n",
       "      <td>NT</td>\n",
       "      <td>P</td>\n",
       "      <td>106758.0</td>\n",
       "      <td>IG</td>\n",
       "      <td>BMW</td>\n",
       "      <td>5 SERIES</td>\n",
       "      <td>SILVER</td>\n",
       "      <td>DI</td>\n",
       "      <td>2993.0</td>\n",
       "      <td>2012-11-20</td>\n",
       "    </tr>\n",
       "    <tr>\n",
       "      <th>1653190</th>\n",
       "      <td>1283737375</td>\n",
       "      <td>1271719851</td>\n",
       "      <td>2021-07-15</td>\n",
       "      <td>4</td>\n",
       "      <td>NT</td>\n",
       "      <td>F</td>\n",
       "      <td>45331.0</td>\n",
       "      <td>KA</td>\n",
       "      <td>AUDI</td>\n",
       "      <td>Q3</td>\n",
       "      <td>BLUE</td>\n",
       "      <td>PE</td>\n",
       "      <td>1984.0</td>\n",
       "      <td>2013-03-01</td>\n",
       "    </tr>\n",
       "    <tr>\n",
       "      <th>1815548</th>\n",
       "      <td>1726747205</td>\n",
       "      <td>14208730</td>\n",
       "      <td>2021-08-04</td>\n",
       "      <td>4</td>\n",
       "      <td>NT</td>\n",
       "      <td>P</td>\n",
       "      <td>103239.0</td>\n",
       "      <td>BS</td>\n",
       "      <td>VAUXHALL</td>\n",
       "      <td>VIVARO</td>\n",
       "      <td>SILVER</td>\n",
       "      <td>DI</td>\n",
       "      <td>1995.0</td>\n",
       "      <td>2010-08-05</td>\n",
       "    </tr>\n",
       "  </tbody>\n",
       "</table>\n",
       "</div>"
      ],
      "text/plain": [
       "            test_id  vehicle_id   test_date  test_class_id test_type   \n",
       "545740    255192661  1308614922  2021-02-25              4        NT  \\\n",
       "2425370  1506897001  1419426791  2021-09-30              4        NT   \n",
       "2880600   162794693   148405769  2021-11-09              4        NT   \n",
       "1653190  1283737375  1271719851  2021-07-15              4        NT   \n",
       "1815548  1726747205    14208730  2021-08-04              4        NT   \n",
       "\n",
       "        test_result  test_mileage postcode_area           make     model   \n",
       "545740            P       78111.0            GL  MERCEDES-BENZ        ML  \\\n",
       "2425370           P       18393.0            BB           SEAT     ATECA   \n",
       "2880600           P      106758.0            IG            BMW  5 SERIES   \n",
       "1653190           F       45331.0            KA           AUDI        Q3   \n",
       "1815548           P      103239.0            BS       VAUXHALL    VIVARO   \n",
       "\n",
       "         colour fuel_type  cylinder_capacity first_use_date  \n",
       "545740   SILVER        DI             2688.0     2004-05-06  \n",
       "2425370   WHITE        PE              999.0     2018-09-28  \n",
       "2880600  SILVER        DI             2993.0     2012-11-20  \n",
       "1653190    BLUE        PE             1984.0     2013-03-01  \n",
       "1815548  SILVER        DI             1995.0     2010-08-05  "
      ]
     },
     "execution_count": 12,
     "metadata": {},
     "output_type": "execute_result"
    },
    {
     "name": "stdout",
     "output_type": "stream",
     "text": [
      "In [12] used 26.8867 MiB RAM in 0.21s, peaked 0.00 MiB above current, total RAM usage 585.95 MiB\n"
     ]
    }
   ],
   "source": [
    "df.sample(5)"
   ]
  },
  {
   "cell_type": "code",
   "execution_count": 13,
   "id": "33a02acb-4336-4cb0-a429-4ae26c9ccc68",
   "metadata": {
    "tags": []
   },
   "outputs": [
    {
     "name": "stdout",
     "output_type": "stream",
     "text": [
      "In [13] used 359.4297 MiB RAM in 0.30s, peaked 0.00 MiB above current, total RAM usage 945.38 MiB\n"
     ]
    }
   ],
   "source": [
    "df_shrink = df.copy()"
   ]
  },
  {
   "cell_type": "code",
   "execution_count": 14,
   "id": "91d8f09b-f265-487c-8608-4e1fa3743e3c",
   "metadata": {
    "tags": []
   },
   "outputs": [
    {
     "name": "stdout",
     "output_type": "stream",
     "text": [
      "In [14] used 16.1641 MiB RAM in 1.59s, peaked 46.94 MiB above current, total RAM usage 961.54 MiB\n"
     ]
    }
   ],
   "source": [
    "cat_cols = ['test_class_id', 'test_type', 'test_result', 'postcode_area', 'make', 'model', 'colour', 'fuel_type']\n",
    "for cat_col in cat_cols:\n",
    "    df_shrink[cat_col] = df[cat_col].astype('category')"
   ]
  },
  {
   "cell_type": "code",
   "execution_count": 15,
   "id": "7c3304f1-1ba0-4954-b6f0-8b64c073afda",
   "metadata": {
    "tags": []
   },
   "outputs": [
    {
     "data": {
      "text/plain": [
       "'593,478,040 bytes'"
      ]
     },
     "execution_count": 15,
     "metadata": {},
     "output_type": "execute_result"
    },
    {
     "name": "stdout",
     "output_type": "stream",
     "text": [
      "In [15] used 0.0039 MiB RAM in 0.52s, peaked 0.00 MiB above current, total RAM usage 961.55 MiB\n"
     ]
    }
   ],
   "source": [
    "f\"{df_shrink.memory_usage(deep=True).sum():,} bytes\""
   ]
  },
  {
   "cell_type": "code",
   "execution_count": 16,
   "id": "fd7fd89a-3e8c-4107-a743-0b9609acfc8a",
   "metadata": {
    "tags": []
   },
   "outputs": [
    {
     "name": "stdout",
     "output_type": "stream",
     "text": [
      "<class 'pandas.core.frame.DataFrame'>\n",
      "RangeIndex: 3362528 entries, 0 to 3362527\n",
      "Data columns (total 14 columns):\n",
      " #   Column             Dtype   \n",
      "---  ------             -----   \n",
      " 0   test_id            int64   \n",
      " 1   vehicle_id         int64   \n",
      " 2   test_date          object  \n",
      " 3   test_class_id      category\n",
      " 4   test_type          category\n",
      " 5   test_result        category\n",
      " 6   test_mileage       float64 \n",
      " 7   postcode_area      category\n",
      " 8   make               category\n",
      " 9   model              category\n",
      " 10  colour             category\n",
      " 11  fuel_type          category\n",
      " 12  cylinder_capacity  float64 \n",
      " 13  first_use_date     object  \n",
      "dtypes: category(8), float64(2), int64(2), object(2)\n",
      "memory usage: 186.7+ MB\n",
      "In [16] used 0.8438 MiB RAM in 0.11s, peaked 0.00 MiB above current, total RAM usage 962.39 MiB\n"
     ]
    }
   ],
   "source": [
    "df_shrink.info()"
   ]
  },
  {
   "cell_type": "code",
   "execution_count": 17,
   "id": "285bd7b2-bbd2-40d8-8aa2-8f042733deb6",
   "metadata": {
    "tags": []
   },
   "outputs": [
    {
     "name": "stdout",
     "output_type": "stream",
     "text": [
      "In [17] used 420.5078 MiB RAM in 2.69s, peaked 204.78 MiB above current, total RAM usage 1382.90 MiB\n"
     ]
    }
   ],
   "source": [
    "import pandera as pa\n",
    "from pandera import DataFrameSchema, Column, Check, Index, MultiIndex\n",
    "from pandera.errors import SchemaErrors\n",
    "\n",
    "VALID_TEST_RESULT = set(['P', 'F', 'PRS', 'ABR', 'ABA', 'ABRVE'])\n",
    "VALID_TEST_TYPE = set(['NT', 'RT', 'ES'])\n",
    "VALID_COLOUR = set(['BLACK', 'WHITE', 'SILVER', 'BLUE', 'GREY', 'RED', 'GREEN', 'ORANGE', 'YELLOW', 'BEIGE', \\\n",
    "                   'BROWN', 'PURPLE', 'GOLD', 'BRONZE', 'MAROON','TURQUOISE', 'CREAM', 'PINK', 'MULTI-COLOUR', 'NOT STATED'])\n",
    "VALID_FUEL_TYPE = set(['PE', 'DI', 'HY', 'EL', 'OT', 'LP', 'ED', 'GB', 'FC', 'CN', 'GA', 'GD','ST', 'LN'])\n",
    "\n",
    "# by default Column has nullable, coerce, unique, refex == False\n",
    "# title is not needed nor description\n",
    "\n",
    "# other checks?\n",
    "# test_mileage 5th percentile > xxx as most should be \"sensible\"\n",
    "# postcode_area xx very rare\n",
    "# cylinder_capacity typically more than ...\n",
    "# first_use_date > ... something reasonable\n",
    "\n",
    "\n",
    "schema = DataFrameSchema(\n",
    "    columns={\n",
    "        \"test_id\": Column(\n",
    "            dtype=\"int64\",\n",
    "            checks=[\n",
    "                #Check.greater_than_or_equal_to(min_value=31563.0),\n",
    "                #Check.less_than_or_equal_to(max_value=1999897323.0),\n",
    "            ],\n",
    "        ),\n",
    "        \"vehicle_id\": Column(\n",
    "            dtype=\"int64\",\n",
    "            checks=[\n",
    "                #Check.greater_than_or_equal_to(min_value=108275.0),\n",
    "                #Check.less_than_or_equal_to(max_value=1499704119.0),\n",
    "            ],\n",
    "        ),\n",
    "        \"test_date\": Column(\n",
    "            dtype=\"object\",\n",
    "        ),\n",
    "        \"test_class_id\": Column(\n",
    "            dtype=\"int64\",\n",
    "            checks=[\n",
    "                Check.greater_than_or_equal_to(min_value=1.0),\n",
    "                Check.less_than_or_equal_to(max_value=7.0),\n",
    "            ],\n",
    "        ),\n",
    "        \"test_type\": Column(\n",
    "            dtype=\"object\",\n",
    "            checks=[pa.Check(lambda s: s.isin(VALID_TEST_TYPE))],\n",
    "        ),\n",
    "        \"test_result\": Column(\n",
    "            dtype=\"object\",\n",
    "            checks=[Check(lambda s: s.isin(VALID_TEST_RESULT)),\n",
    "                    # we normally see 75% pass rate, so test >60%\n",
    "                    Check(lambda ser: ((ser == 'P').sum() / ser.size) > 0.6)],\n",
    "        ),\n",
    "        \"test_mileage\": Column(\n",
    "            dtype=\"float64\",\n",
    "            checks=[\n",
    "                # we do get 1-10 miles on the clock!\n",
    "                Check.greater_than_or_equal_to(min_value=1.0),\n",
    "                Check.less_than_or_equal_to(max_value=999999.0),\n",
    "            ],\n",
    "            nullable=True,\n",
    "        ),\n",
    "        \"postcode_area\": Column(\n",
    "            dtype=\"object\",\n",
    "            checks=None,\n",
    "        ),\n",
    "        \"make\": Column(\n",
    "            dtype=\"object\",\n",
    "            nullable=True,\n",
    "            checks=[pa.Check(lambda ser: ser.isnull().sum() <= 5)]\n",
    "        ),\n",
    "        \"model\": Column(\n",
    "            dtype=\"object\",\n",
    "        ),\n",
    "        \"colour\": Column(\n",
    "            dtype=\"object\",\n",
    "            checks=[pa.Check(lambda s: s.isin(VALID_COLOUR))],\n",
    "        ),\n",
    "        \"fuel_type\": Column(\n",
    "            dtype=\"object\",\n",
    "            checks=[Check(lambda s: s.isin(VALID_FUEL_TYPE))],\n",
    "        ),\n",
    "        \"cylinder_capacity\": Column(\n",
    "            dtype=\"float64\",\n",
    "            checks=[\n",
    "                Check.greater_than_or_equal_to(min_value=0.0),\n",
    "                Check.less_than_or_equal_to(max_value=60000.0),\n",
    "            ],\n",
    "            nullable=True,\n",
    "        ),\n",
    "        \"first_use_date\": Column(\n",
    "            dtype=\"object\",\n",
    "        ),\n",
    "    },\n",
    "    checks=None,\n",
    "    index=Index(\n",
    "        dtype=\"int64\",\n",
    "        checks=[\n",
    "            #Check.greater_than_or_equal_to(min_value=1030.0),\n",
    "            #Check.less_than_or_equal_to(max_value=3362152.0),\n",
    "        ],\n",
    "    ),\n",
    "    dtype=None,\n",
    "    coerce=True,\n",
    "    strict=False,\n",
    "    name=None,\n",
    "    ordered=False,\n",
    "    unique=None,\n",
    "    report_duplicates=\"all\",\n",
    "    unique_column_names=False,\n",
    "    title=None,\n",
    "    description=None,\n",
    ")\n",
    "\n",
    "try:\n",
    "    schema.validate(df, lazy=True)\n",
    "except SchemaErrors as err:\n",
    "    print(err.failure_cases)  # dataframe of schema errors\n",
    "    print(err.data)  # invalid dataframe\n"
   ]
  }
 ],
 "metadata": {
  "kernelspec": {
   "display_name": "Python 3 (ipykernel)",
   "language": "python",
   "name": "python3"
  },
  "language_info": {
   "codemirror_mode": {
    "name": "ipython",
    "version": 3
   },
   "file_extension": ".py",
   "mimetype": "text/x-python",
   "name": "python",
   "nbconvert_exporter": "python",
   "pygments_lexer": "ipython3",
   "version": "3.11.3"
  }
 },
 "nbformat": 4,
 "nbformat_minor": 5
}
